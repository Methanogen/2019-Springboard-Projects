{
 "cells": [
  {
   "cell_type": "code",
   "execution_count": 1,
   "metadata": {},
   "outputs": [
    {
     "name": "stdout",
     "output_type": "stream",
     "text": [
      "/Users/user/Desktop\n"
     ]
    }
   ],
   "source": [
    "import os\n",
    "print(os.getcwd())"
   ]
  },
  {
   "cell_type": "code",
   "execution_count": 2,
   "metadata": {},
   "outputs": [
    {
     "name": "stdout",
     "output_type": "stream",
     "text": [
      "/Users/user/Desktop\n"
     ]
    }
   ],
   "source": [
    "# os.chdir(r'C:/Users/user/Desktop/Hevrin Data') # r is a raw string, not read as an escape sequence\n",
    "print(os.getcwd())"
   ]
  },
  {
   "cell_type": "markdown",
   "metadata": {},
   "source": [
    "# I. DATA WRANGLING TO OBTAIN A TIME SERIES WITH A DATETIME INDEX"
   ]
  },
  {
   "cell_type": "code",
   "execution_count": 3,
   "metadata": {},
   "outputs": [
    {
     "name": "stdout",
     "output_type": "stream",
     "text": [
      "(2788, 25)\n"
     ]
    },
    {
     "data": {
      "text/html": [
       "<div>\n",
       "<style scoped>\n",
       "    .dataframe tbody tr th:only-of-type {\n",
       "        vertical-align: middle;\n",
       "    }\n",
       "\n",
       "    .dataframe tbody tr th {\n",
       "        vertical-align: top;\n",
       "    }\n",
       "\n",
       "    .dataframe thead th {\n",
       "        text-align: right;\n",
       "    }\n",
       "</style>\n",
       "<table border=\"1\" class=\"dataframe\">\n",
       "  <thead>\n",
       "    <tr style=\"text-align: right;\">\n",
       "      <th></th>\n",
       "      <th>45</th>\n",
       "      <th>46</th>\n",
       "      <th>47</th>\n",
       "      <th>48</th>\n",
       "      <th>49</th>\n",
       "      <th>50</th>\n",
       "      <th>51</th>\n",
       "      <th>52</th>\n",
       "      <th>53</th>\n",
       "      <th>54</th>\n",
       "      <th>...</th>\n",
       "      <th>60</th>\n",
       "      <th>61</th>\n",
       "      <th>62</th>\n",
       "      <th>63</th>\n",
       "      <th>64</th>\n",
       "      <th>65</th>\n",
       "      <th>66</th>\n",
       "      <th>67</th>\n",
       "      <th>68</th>\n",
       "      <th>69</th>\n",
       "    </tr>\n",
       "  </thead>\n",
       "  <tbody>\n",
       "    <tr>\n",
       "      <th>0</th>\n",
       "      <td>08/01/2011</td>\n",
       "      <td>0.77</td>\n",
       "      <td>0.64</td>\n",
       "      <td>0.70</td>\n",
       "      <td>0.58</td>\n",
       "      <td>0.58</td>\n",
       "      <td>0.51</td>\n",
       "      <td>0.70</td>\n",
       "      <td>0.70</td>\n",
       "      <td>0.32</td>\n",
       "      <td>...</td>\n",
       "      <td>1.600</td>\n",
       "      <td>2.18</td>\n",
       "      <td>2.50</td>\n",
       "      <td>2.75</td>\n",
       "      <td>3.58</td>\n",
       "      <td>3.33</td>\n",
       "      <td>3.33</td>\n",
       "      <td>3.33</td>\n",
       "      <td>2.62</td>\n",
       "      <td>1.60</td>\n",
       "    </tr>\n",
       "    <tr>\n",
       "      <th>1</th>\n",
       "      <td>08/02/2011</td>\n",
       "      <td>0.77</td>\n",
       "      <td>0.64</td>\n",
       "      <td>0.70</td>\n",
       "      <td>0.70</td>\n",
       "      <td>0.58</td>\n",
       "      <td>0.64</td>\n",
       "      <td>0.70</td>\n",
       "      <td>0.38</td>\n",
       "      <td>0.26</td>\n",
       "      <td>...</td>\n",
       "      <td>2.112</td>\n",
       "      <td>1.66</td>\n",
       "      <td>2.43</td>\n",
       "      <td>3.07</td>\n",
       "      <td>4.29</td>\n",
       "      <td>8.45</td>\n",
       "      <td>6.08</td>\n",
       "      <td>3.71</td>\n",
       "      <td>2.75</td>\n",
       "      <td>1.86</td>\n",
       "    </tr>\n",
       "    <tr>\n",
       "      <th>2</th>\n",
       "      <td>08/03/2011</td>\n",
       "      <td>1.22</td>\n",
       "      <td>0.70</td>\n",
       "      <td>0.77</td>\n",
       "      <td>0.70</td>\n",
       "      <td>1.09</td>\n",
       "      <td>0.77</td>\n",
       "      <td>0.83</td>\n",
       "      <td>0.38</td>\n",
       "      <td>0.32</td>\n",
       "      <td>...</td>\n",
       "      <td>1.536</td>\n",
       "      <td>2.43</td>\n",
       "      <td>3.20</td>\n",
       "      <td>3.26</td>\n",
       "      <td>2.69</td>\n",
       "      <td>3.97</td>\n",
       "      <td>3.26</td>\n",
       "      <td>3.46</td>\n",
       "      <td>1.47</td>\n",
       "      <td>0.45</td>\n",
       "    </tr>\n",
       "    <tr>\n",
       "      <th>3</th>\n",
       "      <td>08/04/2011</td>\n",
       "      <td>0.38</td>\n",
       "      <td>0.58</td>\n",
       "      <td>0.38</td>\n",
       "      <td>0.38</td>\n",
       "      <td>0.38</td>\n",
       "      <td>0.32</td>\n",
       "      <td>0.45</td>\n",
       "      <td>0.38</td>\n",
       "      <td>0.32</td>\n",
       "      <td>...</td>\n",
       "      <td>0.704</td>\n",
       "      <td>2.05</td>\n",
       "      <td>3.39</td>\n",
       "      <td>3.65</td>\n",
       "      <td>3.33</td>\n",
       "      <td>2.56</td>\n",
       "      <td>1.47</td>\n",
       "      <td>1.09</td>\n",
       "      <td>1.22</td>\n",
       "      <td>0.77</td>\n",
       "    </tr>\n",
       "    <tr>\n",
       "      <th>4</th>\n",
       "      <td>08/05/2011</td>\n",
       "      <td>0.51</td>\n",
       "      <td>0.70</td>\n",
       "      <td>0.45</td>\n",
       "      <td>0.38</td>\n",
       "      <td>0.51</td>\n",
       "      <td>0.38</td>\n",
       "      <td>0.51</td>\n",
       "      <td>0.32</td>\n",
       "      <td>0.32</td>\n",
       "      <td>...</td>\n",
       "      <td>1.088</td>\n",
       "      <td>1.86</td>\n",
       "      <td>2.75</td>\n",
       "      <td>3.20</td>\n",
       "      <td>2.50</td>\n",
       "      <td>1.92</td>\n",
       "      <td>1.54</td>\n",
       "      <td>1.22</td>\n",
       "      <td>1.22</td>\n",
       "      <td>0.77</td>\n",
       "    </tr>\n",
       "  </tbody>\n",
       "</table>\n",
       "<p>5 rows × 25 columns</p>\n",
       "</div>"
      ],
      "text/plain": [
       "           45    46    47    48    49    50    51    52    53    54  ...   \\\n",
       "0  08/01/2011  0.77  0.64  0.70  0.58  0.58  0.51  0.70  0.70  0.32  ...    \n",
       "1  08/02/2011  0.77  0.64  0.70  0.70  0.58  0.64  0.70  0.38  0.26  ...    \n",
       "2  08/03/2011  1.22  0.70  0.77  0.70  1.09  0.77  0.83  0.38  0.32  ...    \n",
       "3  08/04/2011  0.38  0.58  0.38  0.38  0.38  0.32  0.45  0.38  0.32  ...    \n",
       "4  08/05/2011  0.51  0.70  0.45  0.38  0.51  0.38  0.51  0.32  0.32  ...    \n",
       "\n",
       "      60    61    62    63    64    65    66    67    68    69  \n",
       "0  1.600  2.18  2.50  2.75  3.58  3.33  3.33  3.33  2.62  1.60  \n",
       "1  2.112  1.66  2.43  3.07  4.29  8.45  6.08  3.71  2.75  1.86  \n",
       "2  1.536  2.43  3.20  3.26  2.69  3.97  3.26  3.46  1.47  0.45  \n",
       "3  0.704  2.05  3.39  3.65  3.33  2.56  1.47  1.09  1.22  0.77  \n",
       "4  1.088  1.86  2.75  3.20  2.50  1.92  1.54  1.22  1.22  0.77  \n",
       "\n",
       "[5 rows x 25 columns]"
      ]
     },
     "execution_count": 3,
     "metadata": {},
     "output_type": "execute_result"
    }
   ],
   "source": [
    "import pandas as pd\n",
    "df= pd.read_csv('Hevrin Usage.csv',header= None,skiprows= 17, usecols= [*range(45,70)]) \n",
    "# skip rows st start August 1st\n",
    "# nrows= 730,   nrows st two years to start with: better is all days, then resample to weekly with .resample('W')\n",
    "print(df.shape)\n",
    "df.head()"
   ]
  },
  {
   "cell_type": "code",
   "execution_count": 4,
   "metadata": {},
   "outputs": [],
   "source": [
    "# df.info()"
   ]
  },
  {
   "cell_type": "code",
   "execution_count": 5,
   "metadata": {},
   "outputs": [],
   "source": [
    "df.columns= ['day','00','01','02','03','04','05','06','07','08','09','10','11','12','13','14','15','16','17','18','19','20','21','22','23']"
   ]
  },
  {
   "cell_type": "code",
   "execution_count": 6,
   "metadata": {},
   "outputs": [
    {
     "data": {
      "text/html": [
       "<div>\n",
       "<style scoped>\n",
       "    .dataframe tbody tr th:only-of-type {\n",
       "        vertical-align: middle;\n",
       "    }\n",
       "\n",
       "    .dataframe tbody tr th {\n",
       "        vertical-align: top;\n",
       "    }\n",
       "\n",
       "    .dataframe thead th {\n",
       "        text-align: right;\n",
       "    }\n",
       "</style>\n",
       "<table border=\"1\" class=\"dataframe\">\n",
       "  <thead>\n",
       "    <tr style=\"text-align: right;\">\n",
       "      <th></th>\n",
       "      <th>00</th>\n",
       "      <th>01</th>\n",
       "      <th>02</th>\n",
       "      <th>03</th>\n",
       "      <th>04</th>\n",
       "      <th>05</th>\n",
       "      <th>06</th>\n",
       "      <th>07</th>\n",
       "      <th>08</th>\n",
       "      <th>09</th>\n",
       "      <th>...</th>\n",
       "      <th>14</th>\n",
       "      <th>15</th>\n",
       "      <th>16</th>\n",
       "      <th>17</th>\n",
       "      <th>18</th>\n",
       "      <th>19</th>\n",
       "      <th>20</th>\n",
       "      <th>21</th>\n",
       "      <th>22</th>\n",
       "      <th>23</th>\n",
       "    </tr>\n",
       "    <tr>\n",
       "      <th>day</th>\n",
       "      <th></th>\n",
       "      <th></th>\n",
       "      <th></th>\n",
       "      <th></th>\n",
       "      <th></th>\n",
       "      <th></th>\n",
       "      <th></th>\n",
       "      <th></th>\n",
       "      <th></th>\n",
       "      <th></th>\n",
       "      <th></th>\n",
       "      <th></th>\n",
       "      <th></th>\n",
       "      <th></th>\n",
       "      <th></th>\n",
       "      <th></th>\n",
       "      <th></th>\n",
       "      <th></th>\n",
       "      <th></th>\n",
       "      <th></th>\n",
       "      <th></th>\n",
       "    </tr>\n",
       "  </thead>\n",
       "  <tbody>\n",
       "    <tr>\n",
       "      <th>03/17/2019</th>\n",
       "      <td>0.58</td>\n",
       "      <td>0.45</td>\n",
       "      <td>0.58</td>\n",
       "      <td>0.58</td>\n",
       "      <td>0.45</td>\n",
       "      <td>0.51</td>\n",
       "      <td>0.51</td>\n",
       "      <td>0.51</td>\n",
       "      <td>0.96</td>\n",
       "      <td>2.11</td>\n",
       "      <td>...</td>\n",
       "      <td>1.024</td>\n",
       "      <td>0.96</td>\n",
       "      <td>0.96</td>\n",
       "      <td>1.22</td>\n",
       "      <td>2.18</td>\n",
       "      <td>6.78</td>\n",
       "      <td>2.75</td>\n",
       "      <td>2.88</td>\n",
       "      <td>0.83</td>\n",
       "      <td>0.51</td>\n",
       "    </tr>\n",
       "    <tr>\n",
       "      <th>03/18/2019</th>\n",
       "      <td>0.45</td>\n",
       "      <td>0.51</td>\n",
       "      <td>0.51</td>\n",
       "      <td>0.51</td>\n",
       "      <td>0.51</td>\n",
       "      <td>0.51</td>\n",
       "      <td>0.58</td>\n",
       "      <td>3.97</td>\n",
       "      <td>3.33</td>\n",
       "      <td>0.70</td>\n",
       "      <td>...</td>\n",
       "      <td>4.352</td>\n",
       "      <td>6.78</td>\n",
       "      <td>2.56</td>\n",
       "      <td>0.96</td>\n",
       "      <td>0.45</td>\n",
       "      <td>0.77</td>\n",
       "      <td>0.90</td>\n",
       "      <td>0.83</td>\n",
       "      <td>2.82</td>\n",
       "      <td>0.58</td>\n",
       "    </tr>\n",
       "    <tr>\n",
       "      <th>03/19/2019</th>\n",
       "      <td>0.58</td>\n",
       "      <td>0.51</td>\n",
       "      <td>0.51</td>\n",
       "      <td>NaN</td>\n",
       "      <td>NaN</td>\n",
       "      <td>NaN</td>\n",
       "      <td>NaN</td>\n",
       "      <td>NaN</td>\n",
       "      <td>NaN</td>\n",
       "      <td>NaN</td>\n",
       "      <td>...</td>\n",
       "      <td>NaN</td>\n",
       "      <td>NaN</td>\n",
       "      <td>NaN</td>\n",
       "      <td>NaN</td>\n",
       "      <td>NaN</td>\n",
       "      <td>NaN</td>\n",
       "      <td>NaN</td>\n",
       "      <td>NaN</td>\n",
       "      <td>NaN</td>\n",
       "      <td>NaN</td>\n",
       "    </tr>\n",
       "  </tbody>\n",
       "</table>\n",
       "<p>3 rows × 24 columns</p>\n",
       "</div>"
      ],
      "text/plain": [
       "              00    01    02    03    04    05    06    07    08    09  ...   \\\n",
       "day                                                                     ...    \n",
       "03/17/2019  0.58  0.45  0.58  0.58  0.45  0.51  0.51  0.51  0.96  2.11  ...    \n",
       "03/18/2019  0.45  0.51  0.51  0.51  0.51  0.51  0.58  3.97  3.33  0.70  ...    \n",
       "03/19/2019  0.58  0.51  0.51   NaN   NaN   NaN   NaN   NaN   NaN   NaN  ...    \n",
       "\n",
       "               14    15    16    17    18    19    20    21    22    23  \n",
       "day                                                                      \n",
       "03/17/2019  1.024  0.96  0.96  1.22  2.18  6.78  2.75  2.88  0.83  0.51  \n",
       "03/18/2019  4.352  6.78  2.56  0.96  0.45  0.77  0.90  0.83  2.82  0.58  \n",
       "03/19/2019    NaN   NaN   NaN   NaN   NaN   NaN   NaN   NaN   NaN   NaN  \n",
       "\n",
       "[3 rows x 24 columns]"
      ]
     },
     "execution_count": 6,
     "metadata": {},
     "output_type": "execute_result"
    }
   ],
   "source": [
    "df= df.set_index(df['day'])\n",
    "df= df.drop(['day'], axis=1)\n",
    "df.tail(3)"
   ]
  },
  {
   "cell_type": "markdown",
   "metadata": {},
   "source": []
  },
  {
   "cell_type": "code",
   "execution_count": 7,
   "metadata": {},
   "outputs": [],
   "source": [
    "dft= df.stack()\n",
    "dft=dft.reset_index()\n",
    "dft.columns= ['day','hour','kwh'] # where 'day' is string, not DT"
   ]
  },
  {
   "cell_type": "code",
   "execution_count": 8,
   "metadata": {},
   "outputs": [
    {
     "data": {
      "text/html": [
       "<div>\n",
       "<style scoped>\n",
       "    .dataframe tbody tr th:only-of-type {\n",
       "        vertical-align: middle;\n",
       "    }\n",
       "\n",
       "    .dataframe tbody tr th {\n",
       "        vertical-align: top;\n",
       "    }\n",
       "\n",
       "    .dataframe thead th {\n",
       "        text-align: right;\n",
       "    }\n",
       "</style>\n",
       "<table border=\"1\" class=\"dataframe\">\n",
       "  <thead>\n",
       "    <tr style=\"text-align: right;\">\n",
       "      <th></th>\n",
       "      <th>day</th>\n",
       "      <th>hour</th>\n",
       "      <th>kwh</th>\n",
       "    </tr>\n",
       "  </thead>\n",
       "  <tbody>\n",
       "    <tr>\n",
       "      <th>0</th>\n",
       "      <td>08/01/2011</td>\n",
       "      <td>00</td>\n",
       "      <td>0.77</td>\n",
       "    </tr>\n",
       "    <tr>\n",
       "      <th>1</th>\n",
       "      <td>08/01/2011</td>\n",
       "      <td>01</td>\n",
       "      <td>0.64</td>\n",
       "    </tr>\n",
       "    <tr>\n",
       "      <th>2</th>\n",
       "      <td>08/01/2011</td>\n",
       "      <td>02</td>\n",
       "      <td>0.70</td>\n",
       "    </tr>\n",
       "    <tr>\n",
       "      <th>3</th>\n",
       "      <td>08/01/2011</td>\n",
       "      <td>03</td>\n",
       "      <td>0.58</td>\n",
       "    </tr>\n",
       "    <tr>\n",
       "      <th>4</th>\n",
       "      <td>08/01/2011</td>\n",
       "      <td>04</td>\n",
       "      <td>0.58</td>\n",
       "    </tr>\n",
       "    <tr>\n",
       "      <th>5</th>\n",
       "      <td>08/01/2011</td>\n",
       "      <td>05</td>\n",
       "      <td>0.51</td>\n",
       "    </tr>\n",
       "    <tr>\n",
       "      <th>6</th>\n",
       "      <td>08/01/2011</td>\n",
       "      <td>06</td>\n",
       "      <td>0.70</td>\n",
       "    </tr>\n",
       "    <tr>\n",
       "      <th>7</th>\n",
       "      <td>08/01/2011</td>\n",
       "      <td>07</td>\n",
       "      <td>0.70</td>\n",
       "    </tr>\n",
       "  </tbody>\n",
       "</table>\n",
       "</div>"
      ],
      "text/plain": [
       "          day hour   kwh\n",
       "0  08/01/2011   00  0.77\n",
       "1  08/01/2011   01  0.64\n",
       "2  08/01/2011   02  0.70\n",
       "3  08/01/2011   03  0.58\n",
       "4  08/01/2011   04  0.58\n",
       "5  08/01/2011   05  0.51\n",
       "6  08/01/2011   06  0.70\n",
       "7  08/01/2011   07  0.70"
      ]
     },
     "execution_count": 8,
     "metadata": {},
     "output_type": "execute_result"
    }
   ],
   "source": [
    "dft.head(8)"
   ]
  },
  {
   "cell_type": "code",
   "execution_count": 9,
   "metadata": {},
   "outputs": [
    {
     "name": "stdout",
     "output_type": "stream",
     "text": [
      "<class 'pandas.core.frame.DataFrame'>\n",
      "DatetimeIndex: 66505 entries, 2011-08-01 00:00:00 to 2019-03-19 02:00:00\n",
      "Data columns (total 5 columns):\n",
      "hour       66505 non-null category\n",
      "kwh        66505 non-null float64\n",
      "weekday    66505 non-null category\n",
      "month      66505 non-null category\n",
      "year       66505 non-null category\n",
      "dtypes: category(4), float64(1)\n",
      "memory usage: 1.3 MB\n"
     ]
    },
    {
     "data": {
      "text/html": [
       "<div>\n",
       "<style scoped>\n",
       "    .dataframe tbody tr th:only-of-type {\n",
       "        vertical-align: middle;\n",
       "    }\n",
       "\n",
       "    .dataframe tbody tr th {\n",
       "        vertical-align: top;\n",
       "    }\n",
       "\n",
       "    .dataframe thead th {\n",
       "        text-align: right;\n",
       "    }\n",
       "</style>\n",
       "<table border=\"1\" class=\"dataframe\">\n",
       "  <thead>\n",
       "    <tr style=\"text-align: right;\">\n",
       "      <th></th>\n",
       "      <th>hour</th>\n",
       "      <th>kwh</th>\n",
       "      <th>weekday</th>\n",
       "      <th>month</th>\n",
       "      <th>year</th>\n",
       "    </tr>\n",
       "    <tr>\n",
       "      <th>date</th>\n",
       "      <th></th>\n",
       "      <th></th>\n",
       "      <th></th>\n",
       "      <th></th>\n",
       "      <th></th>\n",
       "    </tr>\n",
       "  </thead>\n",
       "  <tbody>\n",
       "    <tr>\n",
       "      <th>2011-08-01 00:00:00</th>\n",
       "      <td>00</td>\n",
       "      <td>0.77</td>\n",
       "      <td>Monday</td>\n",
       "      <td>8</td>\n",
       "      <td>2011</td>\n",
       "    </tr>\n",
       "    <tr>\n",
       "      <th>2011-08-01 01:00:00</th>\n",
       "      <td>01</td>\n",
       "      <td>0.64</td>\n",
       "      <td>Monday</td>\n",
       "      <td>8</td>\n",
       "      <td>2011</td>\n",
       "    </tr>\n",
       "    <tr>\n",
       "      <th>2011-08-01 02:00:00</th>\n",
       "      <td>02</td>\n",
       "      <td>0.70</td>\n",
       "      <td>Monday</td>\n",
       "      <td>8</td>\n",
       "      <td>2011</td>\n",
       "    </tr>\n",
       "    <tr>\n",
       "      <th>2011-08-01 03:00:00</th>\n",
       "      <td>03</td>\n",
       "      <td>0.58</td>\n",
       "      <td>Monday</td>\n",
       "      <td>8</td>\n",
       "      <td>2011</td>\n",
       "    </tr>\n",
       "    <tr>\n",
       "      <th>2011-08-01 04:00:00</th>\n",
       "      <td>04</td>\n",
       "      <td>0.58</td>\n",
       "      <td>Monday</td>\n",
       "      <td>8</td>\n",
       "      <td>2011</td>\n",
       "    </tr>\n",
       "  </tbody>\n",
       "</table>\n",
       "</div>"
      ],
      "text/plain": [
       "                    hour   kwh weekday month  year\n",
       "date                                              \n",
       "2011-08-01 00:00:00   00  0.77  Monday     8  2011\n",
       "2011-08-01 01:00:00   01  0.64  Monday     8  2011\n",
       "2011-08-01 02:00:00   02  0.70  Monday     8  2011\n",
       "2011-08-01 03:00:00   03  0.58  Monday     8  2011\n",
       "2011-08-01 04:00:00   04  0.58  Monday     8  2011"
      ]
     },
     "execution_count": 9,
     "metadata": {},
     "output_type": "execute_result"
    }
   ],
   "source": [
    "dft['date']= pd.to_datetime(dft['day'] + ' ' + dft['hour'] + ':00:00')\n",
    "from datetime import datetime\n",
    "dft['weekday']= dft.date.dt.weekday_name\n",
    "dft['month']= dft.date.dt.month\n",
    "dft['year']= dft.date.dt.year\n",
    "dft.set_index(dft['date'], inplace= True)\n",
    "dft= dft.drop(['day','date'], axis=1)\n",
    "dft['hour']= dft['hour'].astype('category')\n",
    "dft['weekday']= dft['weekday'].astype('category')\n",
    "dft['month']= dft['month'].astype('category')\n",
    "dft['year']= dft['year'].astype('category')\n",
    "dft.info()\n",
    "dft.head()"
   ]
  },
  {
   "cell_type": "markdown",
   "metadata": {},
   "source": [
    "# II. EXPLORATORY DATA ANALYSIS"
   ]
  },
  {
   "cell_type": "code",
   "execution_count": 98,
   "metadata": {},
   "outputs": [
    {
     "data": {
      "image/png": "[encoded data removed]",
      "text/plain": [
       "<Figure size 432x288 with 1 Axes>"
      ]
     },
     "metadata": {
      "needs_background": "light"
     },
     "output_type": "display_data"
    }
   ],
   "source": [
    "import matplotlib.pyplot as plt\n",
    "weekly= dft.kwh.resample('W').sum()\n",
    "monthly= 0.25 * dft.kwh.resample('M').sum()\n",
    "plt.plot(weekly)\n",
    "plt.plot(monthly)\n",
    "plt.title('Weekly & Monthly Household Power Consumption in kwh')\n",
    "plt.ylabel('kwh')\n",
    "plt.show()        #"
   ]
  },
  {
   "cell_type": "markdown",
   "metadata": {},
   "source": [
    "What is surprising about the above time series is that despite the family's addition of two energy-intensive children (including due to more laundry and cooking), and a small EV in 2018, replaced by a large EV in 2019, the highest weekly peaks occured not in the last year, but rather in 2012 and 2013. \n",
    "This could be weather related as hot summers and cold winters can materially increase the load.\n",
    "Also the hourly peaks are most relevant, not the weekly totals and this matter needs to be investigated quite separately."
   ]
  },
  {
   "cell_type": "code",
   "execution_count": 11,
   "metadata": {},
   "outputs": [
    {
     "data": {
      "image/png": "[encoded data removed]",
      "text/plain": [
       "<Figure size 432x288 with 1 Axes>"
      ]
     },
     "metadata": {
      "needs_background": "light"
     },
     "output_type": "display_data"
    }
   ],
   "source": [
    "plt.hist(dft.kwh, bins=30, density= True)\n",
    "plt.title('Histogram of Hourly Power Consumption: August 2012 to Present')\n",
    "plt.xlabel('Hourly Power Consumption in kwh')\n",
    "plt.axvline(dft.kwh.mean(), color='k', linestyle='dashed', linewidth=2)\n",
    "plt.axvline(3.15, color='r', linestyle='dashed', linewidth=3)\n",
    "plt.show()"
   ]
  },
  {
   "cell_type": "markdown",
   "metadata": {},
   "source": [
    "# An Unusual Perspective\n",
    "We are not particulary concerned about the entire distribution. Of especial interest in our context is when the local distribution transformer is overloaded, and therefore its remaining life is shortened due to overheating. Suppose the capacity of the transformer is the standard 25 kva. Overheating seems to start at around 64% of the capacity, which is 15.75 kva. If we divide that by the assumed five households (but sometimes even seven?), then the threshold is 3.15 kva, as marked by the vertical red line above, and the horizontal red lines below. \n",
    "\n",
    "It seems that historically it has been relatively rare that this threshold has been exceeded. As an illustration of the adverse consequences of overloading, when the Load Factor is 0.75, then the Remaining Life of the transformer declines to less than four years. One intuitive interpretation is that each hour at this load factor is equivalent (in terms of reducing the remaining life) to more than five hours below the 64% threshold level."
   ]
  },
  {
   "attachments": {
    "image.jpeg": {
     "image/jpeg": "[encoded data removed]"
    }
   },
   "cell_type": "markdown",
   "metadata": {},
   "source": [
    "![image.jpeg](attachment:image.jpeg)"
   ]
  },
  {
   "cell_type": "markdown",
   "metadata": {},
   "source": [
    "# Transformer Ageing is Highly Non-Linear \n",
    "\n",
    "At 0.64 Load Factor (and below), each hour is equivalent to 1.0 hours (corresponding to a 20-year remaining life).\n",
    "\n",
    "At 0.70 Load Factor, each hour is now equivalent to 2.65 hours.\n",
    "\n",
    "At 0.75 Load Factor, each hour is now equivalent to 5.65 hours.\n",
    "\n",
    "At 0.80 Load factor, each hour is now equivalent to 11.67 hours.\n",
    "\n",
    "At 0.85 Load factor, each hour is now equivalent to 23.3 hours.\n",
    "\n",
    "At 0.90 Load factor, each hour is now equivalent to 38.9 hours.\n",
    "\n",
    "At 0.95 Load factor, each hour is now equivalent to 70.0 hours.\n",
    "\n",
    "NB The above exponentially increasing factors are not inconsistent with the statement that \"transformer overloading can shorten the life by as much as 10,000-times\"."
   ]
  },
  {
   "cell_type": "code",
   "execution_count": 12,
   "metadata": {},
   "outputs": [],
   "source": [
    "# A Python Dictionary of a selection of Load Factors and the respective number of age-equivalent years is provided here:\n",
    "age_acceleration_factors= {0.64:1, 0.70:2.65, 0.75:5.65, 0.80:11.67, 0.85:23.3, 0.90:38.9, 0.95:70.0}"
   ]
  },
  {
   "cell_type": "code",
   "execution_count": 13,
   "metadata": {},
   "outputs": [
    {
     "data": {
      "image/png": "[encoded data removed]",
      "text/plain": [
       "<Figure size 432x288 with 1 Axes>"
      ]
     },
     "metadata": {
      "needs_background": "light"
     },
     "output_type": "display_data"
    }
   ],
   "source": [
    "import seaborn as sns\n",
    "sns.boxplot(x= dft.hour,y=dft.kwh)\n",
    "plt.axhline(3.15, color='r', linestyle='dashed', linewidth=2)\n",
    "plt.title('Boxplot of Hourly kwh Consumption by the Hour of the Day: August 2012 to Present')\n",
    "plt.show()"
   ]
  },
  {
   "cell_type": "code",
   "execution_count": 14,
   "metadata": {},
   "outputs": [],
   "source": [
    "# seaborn.boxplot(x=None, y=None, hue=None, data=None, order=None, hue_order=None, orient=None, color=None, \n",
    "#                palette=None, saturation=0.75, width=0.8, dodge=True, fliersize=5, linewidth=None, whis=1.5, notch=False, ax=None, **kwargs)¶"
   ]
  },
  {
   "cell_type": "code",
   "execution_count": null,
   "metadata": {},
   "outputs": [],
   "source": []
  },
  {
   "cell_type": "code",
   "execution_count": 15,
   "metadata": {},
   "outputs": [
    {
     "data": {
      "text/plain": [
       "Text(0.5, 1.0, 'Boxplot of Hourly Power Consumption by Month')"
      ]
     },
     "execution_count": 15,
     "metadata": {},
     "output_type": "execute_result"
    },
    {
     "data": {
      "image/png": "[encoded data removed]",
      "text/plain": [
       "<Figure size 432x288 with 1 Axes>"
      ]
     },
     "metadata": {
      "needs_background": "light"
     },
     "output_type": "display_data"
    }
   ],
   "source": [
    "sns.boxplot(dft.month, dft.kwh)\n",
    "plt.axhline(3.15, color='r', linestyle='dashed', linewidth=2)\n",
    "plt.title('Boxplot of Hourly Power Consumption by Month')"
   ]
  },
  {
   "cell_type": "code",
   "execution_count": 16,
   "metadata": {},
   "outputs": [
    {
     "data": {
      "text/plain": [
       "Text(0.5, 1.0, 'Boxplot of Hourly Power Consumption by Year')"
      ]
     },
     "execution_count": 16,
     "metadata": {},
     "output_type": "execute_result"
    },
    {
     "data": {
      "image/png": "[encoded data removed]",
      "text/plain": [
       "<Figure size 432x288 with 1 Axes>"
      ]
     },
     "metadata": {
      "needs_background": "light"
     },
     "output_type": "display_data"
    }
   ],
   "source": [
    "sns.boxplot(dft.year, dft.kwh)\n",
    "plt.axhline(3.15, color='r', linestyle='dashed', linewidth=2)\n",
    "plt.title('Boxplot of Hourly Power Consumption by Year')\n",
    "# The median consumption in the years 2012 & 2013 is NOT higher than 2014, so perhaps the high weekly \n",
    "# consumption level peaks in those years (see above) was due to weather conditions (eg a hot summer and a high A/C load)."
   ]
  },
  {
   "cell_type": "markdown",
   "metadata": {},
   "source": [
    "# But in fact the years 2018 & 2019 are different\n",
    "In these two years the upper quartile exceeds the 3.15 threshold, so it appears that a quarter of the time the threshold level for accelerating the ageing of the transformer is exceeded. However, this is only on an AVERAGE basis, and so is unduly conservative as the other [four] households served likely still have lower power consumption, as they have not yet acquired EV's."
   ]
  },
  {
   "cell_type": "code",
   "execution_count": 17,
   "metadata": {},
   "outputs": [
    {
     "data": {
      "text/html": [
       "<div>\n",
       "<style scoped>\n",
       "    .dataframe tbody tr th:only-of-type {\n",
       "        vertical-align: middle;\n",
       "    }\n",
       "\n",
       "    .dataframe tbody tr th {\n",
       "        vertical-align: top;\n",
       "    }\n",
       "\n",
       "    .dataframe thead th {\n",
       "        text-align: right;\n",
       "    }\n",
       "</style>\n",
       "<table border=\"1\" class=\"dataframe\">\n",
       "  <thead>\n",
       "    <tr style=\"text-align: right;\">\n",
       "      <th></th>\n",
       "      <th>hour</th>\n",
       "      <th>kwh</th>\n",
       "      <th>weekday</th>\n",
       "      <th>month</th>\n",
       "      <th>year</th>\n",
       "    </tr>\n",
       "    <tr>\n",
       "      <th>date</th>\n",
       "      <th></th>\n",
       "      <th></th>\n",
       "      <th></th>\n",
       "      <th></th>\n",
       "      <th></th>\n",
       "    </tr>\n",
       "  </thead>\n",
       "  <tbody>\n",
       "    <tr>\n",
       "      <th>2012-01-01 00:00:00</th>\n",
       "      <td>00</td>\n",
       "      <td>3.07</td>\n",
       "      <td>Sunday</td>\n",
       "      <td>1</td>\n",
       "      <td>2012</td>\n",
       "    </tr>\n",
       "    <tr>\n",
       "      <th>2012-01-01 01:00:00</th>\n",
       "      <td>01</td>\n",
       "      <td>1.02</td>\n",
       "      <td>Sunday</td>\n",
       "      <td>1</td>\n",
       "      <td>2012</td>\n",
       "    </tr>\n",
       "    <tr>\n",
       "      <th>2012-01-01 02:00:00</th>\n",
       "      <td>02</td>\n",
       "      <td>0.45</td>\n",
       "      <td>Sunday</td>\n",
       "      <td>1</td>\n",
       "      <td>2012</td>\n",
       "    </tr>\n",
       "  </tbody>\n",
       "</table>\n",
       "</div>"
      ],
      "text/plain": [
       "                    hour   kwh weekday month  year\n",
       "date                                              \n",
       "2012-01-01 00:00:00   00  3.07  Sunday     1  2012\n",
       "2012-01-01 01:00:00   01  1.02  Sunday     1  2012\n",
       "2012-01-01 02:00:00   02  0.45  Sunday     1  2012"
      ]
     },
     "execution_count": 17,
     "metadata": {},
     "output_type": "execute_result"
    }
   ],
   "source": [
    "df_12= dft[dft.year== 2012]\n",
    "df_12.head(3)"
   ]
  },
  {
   "cell_type": "code",
   "execution_count": 18,
   "metadata": {},
   "outputs": [
    {
     "data": {
      "image/png": "[encoded data removed]",
      "text/plain": [
       "<Figure size 432x288 with 1 Axes>"
      ]
     },
     "metadata": {
      "needs_background": "light"
     },
     "output_type": "display_data"
    }
   ],
   "source": [
    "plt.plot(df_12.kwh)\n",
    "plt.show()"
   ]
  },
  {
   "cell_type": "code",
   "execution_count": 19,
   "metadata": {},
   "outputs": [
    {
     "data": {
      "text/plain": [
       "(array([3.26578619e-01, 1.02631953e+00, 3.23620926e-01, 1.37039783e-01,\n",
       "        9.61250276e-02, 6.63016216e-02, 5.12666814e-02, 4.68301417e-02,\n",
       "        3.10557781e-02, 1.97179544e-02, 1.28166703e-02, 7.14775846e-03,\n",
       "        4.43653974e-03, 1.97179544e-03, 1.97179544e-03, 1.23237215e-03,\n",
       "        2.46474430e-04, 2.46474430e-04, 0.00000000e+00, 2.46474430e-04]),\n",
       " array([0.   , 0.464, 0.928, 1.392, 1.856, 2.32 , 2.784, 3.248, 3.712,\n",
       "        4.176, 4.64 , 5.104, 5.568, 6.032, 6.496, 6.96 , 7.424, 7.888,\n",
       "        8.352, 8.816, 9.28 ]),\n",
       " <a list of 20 Patch objects>)"
      ]
     },
     "execution_count": 19,
     "metadata": {},
     "output_type": "execute_result"
    },
    {
     "data": {
      "image/png": "[encoded data removed]",
      "text/plain": [
       "<Figure size 432x288 with 1 Axes>"
      ]
     },
     "metadata": {
      "needs_background": "light"
     },
     "output_type": "display_data"
    }
   ],
   "source": [
    "plt.hist(df_12.kwh, bins=20, density= True)"
   ]
  },
  {
   "cell_type": "code",
   "execution_count": 20,
   "metadata": {},
   "outputs": [
    {
     "data": {
      "text/plain": [
       "<matplotlib.axes._subplots.AxesSubplot at 0x1a1e1bd9e8>"
      ]
     },
     "execution_count": 20,
     "metadata": {},
     "output_type": "execute_result"
    },
    {
     "data": {
      "image/png": "[encoded data removed]",
      "text/plain": [
       "<Figure size 432x288 with 1 Axes>"
      ]
     },
     "metadata": {
      "needs_background": "light"
     },
     "output_type": "display_data"
    }
   ],
   "source": [
    "sns.boxplot(x= df_12.hour,y=df_12.kwh)"
   ]
  },
  {
   "cell_type": "code",
   "execution_count": 21,
   "metadata": {},
   "outputs": [],
   "source": [
    "monthly= df_12.kwh.resample('W').sum()"
   ]
  },
  {
   "cell_type": "code",
   "execution_count": 22,
   "metadata": {},
   "outputs": [
    {
     "data": {
      "text/plain": [
       "<matplotlib.axes._subplots.AxesSubplot at 0x1a1e3d6908>"
      ]
     },
     "execution_count": 22,
     "metadata": {},
     "output_type": "execute_result"
    },
    {
     "data": {
      "image/png": "[encoded data removed]",
      "text/plain": [
       "<Figure size 432x288 with 1 Axes>"
      ]
     },
     "metadata": {
      "needs_background": "light"
     },
     "output_type": "display_data"
    }
   ],
   "source": [
    "monthly.plot()"
   ]
  },
  {
   "cell_type": "markdown",
   "metadata": {},
   "source": [
    "# A Small EV and a Level 1 \"Trickle Charger\" were Acquired in July, 2018¶\n",
    "After July we see relatively little \"white space\" below the red horizontal line, suggesting that the trickle charger was active throughout much of the night."
   ]
  },
  {
   "cell_type": "code",
   "execution_count": 23,
   "metadata": {},
   "outputs": [
    {
     "data": {
      "image/png": "[encoded data removed]",
      "text/plain": [
       "<Figure size 432x288 with 1 Axes>"
      ]
     },
     "metadata": {
      "needs_background": "light"
     },
     "output_type": "display_data"
    }
   ],
   "source": [
    "df_18= dft[dft.year== 2018]\n",
    "df_18.kwh.plot()\n",
    "plt.axhline(3.15, color='r', linestyle='dashed', linewidth=2)\n",
    "plt.axhline(5, color='g', linestyle='dashed', linewidth=3)\n",
    "# plt.axvline(2018-07-01 00:00:00, color='y', linestyle='dashed', linewidth=5)# problem w datetime specification\n",
    "plt.show()"
   ]
  },
  {
   "cell_type": "code",
   "execution_count": 24,
   "metadata": {},
   "outputs": [
    {
     "name": "stdout",
     "output_type": "stream",
     "text": [
      "<class 'pandas.core.frame.DataFrame'>\n",
      "DatetimeIndex: 8744 entries, 2018-01-01 00:00:00 to 2018-12-31 23:00:00\n",
      "Data columns (total 5 columns):\n",
      "hour       8744 non-null category\n",
      "kwh        8744 non-null float64\n",
      "weekday    8744 non-null category\n",
      "month      8744 non-null category\n",
      "year       8744 non-null category\n",
      "dtypes: category(4), float64(1)\n",
      "memory usage: 172.8 KB\n"
     ]
    },
    {
     "data": {
      "text/html": [
       "<div>\n",
       "<style scoped>\n",
       "    .dataframe tbody tr th:only-of-type {\n",
       "        vertical-align: middle;\n",
       "    }\n",
       "\n",
       "    .dataframe tbody tr th {\n",
       "        vertical-align: top;\n",
       "    }\n",
       "\n",
       "    .dataframe thead th {\n",
       "        text-align: right;\n",
       "    }\n",
       "</style>\n",
       "<table border=\"1\" class=\"dataframe\">\n",
       "  <thead>\n",
       "    <tr style=\"text-align: right;\">\n",
       "      <th></th>\n",
       "      <th>hour</th>\n",
       "      <th>kwh</th>\n",
       "      <th>weekday</th>\n",
       "      <th>month</th>\n",
       "      <th>year</th>\n",
       "    </tr>\n",
       "    <tr>\n",
       "      <th>date</th>\n",
       "      <th></th>\n",
       "      <th></th>\n",
       "      <th></th>\n",
       "      <th></th>\n",
       "      <th></th>\n",
       "    </tr>\n",
       "  </thead>\n",
       "  <tbody>\n",
       "    <tr>\n",
       "      <th>2018-12-31 21:00:00</th>\n",
       "      <td>21</td>\n",
       "      <td>2.05</td>\n",
       "      <td>Monday</td>\n",
       "      <td>12</td>\n",
       "      <td>2018</td>\n",
       "    </tr>\n",
       "    <tr>\n",
       "      <th>2018-12-31 22:00:00</th>\n",
       "      <td>22</td>\n",
       "      <td>1.98</td>\n",
       "      <td>Monday</td>\n",
       "      <td>12</td>\n",
       "      <td>2018</td>\n",
       "    </tr>\n",
       "    <tr>\n",
       "      <th>2018-12-31 23:00:00</th>\n",
       "      <td>23</td>\n",
       "      <td>1.86</td>\n",
       "      <td>Monday</td>\n",
       "      <td>12</td>\n",
       "      <td>2018</td>\n",
       "    </tr>\n",
       "  </tbody>\n",
       "</table>\n",
       "</div>"
      ],
      "text/plain": [
       "                    hour   kwh weekday month  year\n",
       "date                                              \n",
       "2018-12-31 21:00:00   21  2.05  Monday    12  2018\n",
       "2018-12-31 22:00:00   22  1.98  Monday    12  2018\n",
       "2018-12-31 23:00:00   23  1.86  Monday    12  2018"
      ]
     },
     "execution_count": 24,
     "metadata": {},
     "output_type": "execute_result"
    }
   ],
   "source": [
    "df_18.info() # hour and month are each strings (and categorical variables)\n",
    "df_18.tail(3)"
   ]
  },
  {
   "cell_type": "code",
   "execution_count": 25,
   "metadata": {},
   "outputs": [
    {
     "data": {
      "text/plain": [
       "466"
      ]
     },
     "execution_count": 25,
     "metadata": {},
     "output_type": "execute_result"
    }
   ],
   "source": [
    "sum(df_18.kwh > 3.15) # so for the whole year 2018, of 8,760 hours just 466 exceeded the hourly threshold of 3.15 kwh"
   ]
  },
  {
   "cell_type": "code",
   "execution_count": 26,
   "metadata": {},
   "outputs": [],
   "source": [
    "# df_18.month.isin() # weird 'year' and month behave here like non-strings!!"
   ]
  },
  {
   "cell_type": "code",
   "execution_count": 27,
   "metadata": {},
   "outputs": [
    {
     "data": {
      "text/html": [
       "<div>\n",
       "<style scoped>\n",
       "    .dataframe tbody tr th:only-of-type {\n",
       "        vertical-align: middle;\n",
       "    }\n",
       "\n",
       "    .dataframe tbody tr th {\n",
       "        vertical-align: top;\n",
       "    }\n",
       "\n",
       "    .dataframe thead th {\n",
       "        text-align: right;\n",
       "    }\n",
       "</style>\n",
       "<table border=\"1\" class=\"dataframe\">\n",
       "  <thead>\n",
       "    <tr style=\"text-align: right;\">\n",
       "      <th></th>\n",
       "      <th>hour</th>\n",
       "      <th>kwh</th>\n",
       "      <th>weekday</th>\n",
       "      <th>month</th>\n",
       "      <th>year</th>\n",
       "    </tr>\n",
       "    <tr>\n",
       "      <th>date</th>\n",
       "      <th></th>\n",
       "      <th></th>\n",
       "      <th></th>\n",
       "      <th></th>\n",
       "      <th></th>\n",
       "    </tr>\n",
       "  </thead>\n",
       "  <tbody>\n",
       "    <tr>\n",
       "      <th>2018-01-01 00:00:00</th>\n",
       "      <td>00</td>\n",
       "      <td>0.58</td>\n",
       "      <td>Monday</td>\n",
       "      <td>1</td>\n",
       "      <td>2018</td>\n",
       "    </tr>\n",
       "    <tr>\n",
       "      <th>2018-01-01 01:00:00</th>\n",
       "      <td>01</td>\n",
       "      <td>0.77</td>\n",
       "      <td>Monday</td>\n",
       "      <td>1</td>\n",
       "      <td>2018</td>\n",
       "    </tr>\n",
       "    <tr>\n",
       "      <th>2018-01-01 02:00:00</th>\n",
       "      <td>02</td>\n",
       "      <td>0.70</td>\n",
       "      <td>Monday</td>\n",
       "      <td>1</td>\n",
       "      <td>2018</td>\n",
       "    </tr>\n",
       "    <tr>\n",
       "      <th>2018-01-01 03:00:00</th>\n",
       "      <td>03</td>\n",
       "      <td>0.70</td>\n",
       "      <td>Monday</td>\n",
       "      <td>1</td>\n",
       "      <td>2018</td>\n",
       "    </tr>\n",
       "    <tr>\n",
       "      <th>2018-01-01 04:00:00</th>\n",
       "      <td>04</td>\n",
       "      <td>0.58</td>\n",
       "      <td>Monday</td>\n",
       "      <td>1</td>\n",
       "      <td>2018</td>\n",
       "    </tr>\n",
       "  </tbody>\n",
       "</table>\n",
       "</div>"
      ],
      "text/plain": [
       "                    hour   kwh weekday month  year\n",
       "date                                              \n",
       "2018-01-01 00:00:00   00  0.58  Monday     1  2018\n",
       "2018-01-01 01:00:00   01  0.77  Monday     1  2018\n",
       "2018-01-01 02:00:00   02  0.70  Monday     1  2018\n",
       "2018-01-01 03:00:00   03  0.70  Monday     1  2018\n",
       "2018-01-01 04:00:00   04  0.58  Monday     1  2018"
      ]
     },
     "execution_count": 27,
     "metadata": {},
     "output_type": "execute_result"
    }
   ],
   "source": [
    "pre_L1= df_18[df_18.month.isin([1,2,3,4,5,6])]\n",
    "post_L1= df_18[df_18.month.isin([7,8,9,10,11,12])]\n",
    "pre_L1.head()"
   ]
  },
  {
   "cell_type": "markdown",
   "metadata": {},
   "source": [
    "# One possible Signal for Classifying the new use of a Level 1 Charger is the number of times a certain hourly kwh threshold is exceeded\n",
    "For example, in the first half of 2018 not once was an hourly consumption of more than 5.5 kwh recorded.\n",
    "However, after the Level 1 charger was acquired in July, tis threshold was exceeded 13 times."
   ]
  },
  {
   "cell_type": "code",
   "execution_count": 28,
   "metadata": {},
   "outputs": [
    {
     "name": "stdout",
     "output_type": "stream",
     "text": [
      "0\n"
     ]
    }
   ],
   "source": [
    "print(sum(pre_L1.kwh > 5.5))"
   ]
  },
  {
   "cell_type": "code",
   "execution_count": 29,
   "metadata": {},
   "outputs": [
    {
     "name": "stdout",
     "output_type": "stream",
     "text": [
      "13\n"
     ]
    }
   ],
   "source": [
    "print(sum(post_L1.kwh > 5.5))"
   ]
  },
  {
   "cell_type": "markdown",
   "metadata": {},
   "source": [
    "# Another possible Signal for Classifying the new use of a Level 1 Charger is derived from total monthly power consumption\n",
    "\n",
    "The following analysis of (resampled) monthly data explores a potential Level 1 Charger Signal.\n",
    "One idea is that with the acquisition of a Level 1 charger the monthly total kwh consumption should increase.\n",
    "\n",
    "For example, charging for 1,000 miles driven each month would add about 333 kwh per month (since 1 kwh fuels c.3 miles).\n",
    "\n",
    "A monthly_baseline is established, which is the average of the preceding four years (so 2014-2017 here).\n",
    "\n",
    "This is of course just one \"signal\" or feature. It is desireable to posit a number of such features, and then to test which combination of them is most efffective in accurately classifying a large sample of EV's."
   ]
  },
  {
   "cell_type": "code",
   "execution_count": 30,
   "metadata": {},
   "outputs": [
    {
     "data": {
      "text/plain": [
       "<matplotlib.axes._subplots.AxesSubplot at 0x1a1dcc10f0>"
      ]
     },
     "execution_count": 30,
     "metadata": {},
     "output_type": "execute_result"
    },
    {
     "data": {
      "image/png": "[encoded data removed]",
      "text/plain": [
       "<Figure size 432x288 with 1 Axes>"
      ]
     },
     "metadata": {
      "needs_background": "light"
     },
     "output_type": "display_data"
    }
   ],
   "source": [
    "df_18.kwh.resample('M').sum().plot()"
   ]
  },
  {
   "cell_type": "code",
   "execution_count": 31,
   "metadata": {},
   "outputs": [
    {
     "data": {
      "text/plain": [
       "<matplotlib.axes._subplots.AxesSubplot at 0x1a1dd63908>"
      ]
     },
     "execution_count": 31,
     "metadata": {},
     "output_type": "execute_result"
    },
    {
     "data": {
      "image/png": "[encoded data removed]",
      "text/plain": [
       "<Figure size 432x288 with 1 Axes>"
      ]
     },
     "metadata": {
      "needs_background": "light"
     },
     "output_type": "display_data"
    }
   ],
   "source": [
    "df_17= dft[dft.year== 2017]\n",
    "df_17.kwh.resample('M').sum().plot()"
   ]
  },
  {
   "cell_type": "code",
   "execution_count": 32,
   "metadata": {},
   "outputs": [
    {
     "data": {
      "text/plain": [
       "<matplotlib.axes._subplots.AxesSubplot at 0x1a1e0d8898>"
      ]
     },
     "execution_count": 32,
     "metadata": {},
     "output_type": "execute_result"
    },
    {
     "data": {
      "image/png": "[encoded data removed]",
      "text/plain": [
       "<Figure size 432x288 with 1 Axes>"
      ]
     },
     "metadata": {
      "needs_background": "light"
     },
     "output_type": "display_data"
    }
   ],
   "source": [
    "df_16= dft[dft.year== 2016]\n",
    "df_16.kwh.resample('M').sum().plot()"
   ]
  },
  {
   "cell_type": "code",
   "execution_count": 33,
   "metadata": {},
   "outputs": [
    {
     "data": {
      "text/plain": [
       "<matplotlib.axes._subplots.AxesSubplot at 0x1a1e7cb9e8>"
      ]
     },
     "execution_count": 33,
     "metadata": {},
     "output_type": "execute_result"
    },
    {
     "data": {
      "image/png": "[encoded data removed]",
      "text/plain": [
       "<Figure size 432x288 with 1 Axes>"
      ]
     },
     "metadata": {
      "needs_background": "light"
     },
     "output_type": "display_data"
    }
   ],
   "source": [
    "df_15= dft[dft.year== 2015]\n",
    "df_15.kwh.resample('M').sum().plot()"
   ]
  },
  {
   "cell_type": "code",
   "execution_count": 34,
   "metadata": {},
   "outputs": [
    {
     "data": {
      "text/plain": [
       "array([1094.996,  849.836,  906.172,  630.418,  677.104,  758.152,\n",
       "        979.404,  798.142,  699.396,  558.212,  593.326,  633.222])"
      ]
     },
     "execution_count": 34,
     "metadata": {},
     "output_type": "execute_result"
    }
   ],
   "source": [
    "df_15.kwh.resample('M').sum().values"
   ]
  },
  {
   "cell_type": "code",
   "execution_count": 35,
   "metadata": {},
   "outputs": [
    {
     "name": "stdout",
     "output_type": "stream",
     "text": [
      "[ 980.066  906.604  903.344  846.608 1009.83  1223.656 1058.362 1125.796\n",
      "  909.968  891.098 1025.124 1175.874]\n"
     ]
    },
    {
     "data": {
      "text/plain": [
       "<matplotlib.axes._subplots.AxesSubplot at 0x1a1e8c4358>"
      ]
     },
     "execution_count": 35,
     "metadata": {},
     "output_type": "execute_result"
    },
    {
     "data": {
      "image/png": "[encoded data removed]",
      "text/plain": [
       "<Figure size 432x288 with 1 Axes>"
      ]
     },
     "metadata": {
      "needs_background": "light"
     },
     "output_type": "display_data"
    }
   ],
   "source": [
    "df_14= dft[dft.year== 2014]\n",
    "print(df_14.kwh.resample('M').sum().values)\n",
    "df_14.kwh.resample('M').sum().plot()"
   ]
  },
  {
   "cell_type": "code",
   "execution_count": 36,
   "metadata": {},
   "outputs": [],
   "source": [
    "monthly_baseline= 0.25 * (df_14.kwh.resample('M').sum().values + df_15.kwh.resample('M').sum().values + \n",
    "                   df_16.kwh.resample('M').sum().values + df_17.kwh.resample('M').sum().values)"
   ]
  },
  {
   "cell_type": "code",
   "execution_count": 37,
   "metadata": {},
   "outputs": [
    {
     "data": {
      "text/plain": [
       "[<matplotlib.lines.Line2D at 0x1a1e9b4710>]"
      ]
     },
     "execution_count": 37,
     "metadata": {},
     "output_type": "execute_result"
    },
    {
     "data": {
      "image/png": "[encoded data removed]",
      "text/plain": [
       "<Figure size 432x288 with 1 Axes>"
      ]
     },
     "metadata": {
      "needs_background": "light"
     },
     "output_type": "display_data"
    }
   ],
   "source": [
    "plt.plot(monthly_baseline)\n",
    "plt.plot(df_18.kwh.resample('M').sum().values)"
   ]
  },
  {
   "cell_type": "code",
   "execution_count": 38,
   "metadata": {},
   "outputs": [
    {
     "data": {
      "text/plain": [
       "[<matplotlib.lines.Line2D at 0x1a1e9ec4a8>]"
      ]
     },
     "execution_count": 38,
     "metadata": {},
     "output_type": "execute_result"
    },
    {
     "data": {
      "image/png": "[encoded data removed]",
      "text/plain": [
       "<Figure size 432x288 with 1 Axes>"
      ]
     },
     "metadata": {
      "needs_background": "light"
     },
     "output_type": "display_data"
    }
   ],
   "source": [
    "plt.axhline(0, color='r', linestyle='dashed', linewidth=2) # zero reference\n",
    "plt.axhline(167, color='g', linestyle='dashed', linewidth=3)# 500 miles/month minimum is an extra 167 kwh/month\n",
    "plt.plot(df_18.kwh.resample('M').sum().values - monthly_baseline)"
   ]
  },
  {
   "cell_type": "markdown",
   "metadata": {},
   "source": [
    "# Repeating the above analysis but just for the 12 hours when the EV is likely to be at the residence (hours 0-5, 18-23 ): this yields a sharper contrast."
   ]
  },
  {
   "cell_type": "code",
   "execution_count": 39,
   "metadata": {},
   "outputs": [
    {
     "data": {
      "text/html": [
       "<div>\n",
       "<style scoped>\n",
       "    .dataframe tbody tr th:only-of-type {\n",
       "        vertical-align: middle;\n",
       "    }\n",
       "\n",
       "    .dataframe tbody tr th {\n",
       "        vertical-align: top;\n",
       "    }\n",
       "\n",
       "    .dataframe thead th {\n",
       "        text-align: right;\n",
       "    }\n",
       "</style>\n",
       "<table border=\"1\" class=\"dataframe\">\n",
       "  <thead>\n",
       "    <tr style=\"text-align: right;\">\n",
       "      <th></th>\n",
       "      <th>hour</th>\n",
       "      <th>kwh</th>\n",
       "      <th>weekday</th>\n",
       "      <th>month</th>\n",
       "      <th>year</th>\n",
       "    </tr>\n",
       "    <tr>\n",
       "      <th>date</th>\n",
       "      <th></th>\n",
       "      <th></th>\n",
       "      <th></th>\n",
       "      <th></th>\n",
       "      <th></th>\n",
       "    </tr>\n",
       "  </thead>\n",
       "  <tbody>\n",
       "    <tr>\n",
       "      <th>2011-08-01 00:00:00</th>\n",
       "      <td>00</td>\n",
       "      <td>0.77</td>\n",
       "      <td>Monday</td>\n",
       "      <td>8</td>\n",
       "      <td>2011</td>\n",
       "    </tr>\n",
       "    <tr>\n",
       "      <th>2011-08-01 01:00:00</th>\n",
       "      <td>01</td>\n",
       "      <td>0.64</td>\n",
       "      <td>Monday</td>\n",
       "      <td>8</td>\n",
       "      <td>2011</td>\n",
       "    </tr>\n",
       "    <tr>\n",
       "      <th>2011-08-01 02:00:00</th>\n",
       "      <td>02</td>\n",
       "      <td>0.70</td>\n",
       "      <td>Monday</td>\n",
       "      <td>8</td>\n",
       "      <td>2011</td>\n",
       "    </tr>\n",
       "    <tr>\n",
       "      <th>2011-08-01 03:00:00</th>\n",
       "      <td>03</td>\n",
       "      <td>0.58</td>\n",
       "      <td>Monday</td>\n",
       "      <td>8</td>\n",
       "      <td>2011</td>\n",
       "    </tr>\n",
       "    <tr>\n",
       "      <th>2011-08-01 04:00:00</th>\n",
       "      <td>04</td>\n",
       "      <td>0.58</td>\n",
       "      <td>Monday</td>\n",
       "      <td>8</td>\n",
       "      <td>2011</td>\n",
       "    </tr>\n",
       "  </tbody>\n",
       "</table>\n",
       "</div>"
      ],
      "text/plain": [
       "                    hour   kwh weekday month  year\n",
       "date                                              \n",
       "2011-08-01 00:00:00   00  0.77  Monday     8  2011\n",
       "2011-08-01 01:00:00   01  0.64  Monday     8  2011\n",
       "2011-08-01 02:00:00   02  0.70  Monday     8  2011\n",
       "2011-08-01 03:00:00   03  0.58  Monday     8  2011\n",
       "2011-08-01 04:00:00   04  0.58  Monday     8  2011"
      ]
     },
     "execution_count": 39,
     "metadata": {},
     "output_type": "execute_result"
    }
   ],
   "source": [
    "dft.head()\n",
    "# dft.hour.isin(['00','01','02','03','04','05','18','19','20','21','22','23']) #12 hours = half day, abbreviation H\n"
   ]
  },
  {
   "cell_type": "code",
   "execution_count": 40,
   "metadata": {},
   "outputs": [
    {
     "data": {
      "text/html": [
       "<div>\n",
       "<style scoped>\n",
       "    .dataframe tbody tr th:only-of-type {\n",
       "        vertical-align: middle;\n",
       "    }\n",
       "\n",
       "    .dataframe tbody tr th {\n",
       "        vertical-align: top;\n",
       "    }\n",
       "\n",
       "    .dataframe thead th {\n",
       "        text-align: right;\n",
       "    }\n",
       "</style>\n",
       "<table border=\"1\" class=\"dataframe\">\n",
       "  <thead>\n",
       "    <tr style=\"text-align: right;\">\n",
       "      <th></th>\n",
       "      <th>hour</th>\n",
       "      <th>kwh</th>\n",
       "      <th>weekday</th>\n",
       "      <th>month</th>\n",
       "      <th>year</th>\n",
       "    </tr>\n",
       "    <tr>\n",
       "      <th>date</th>\n",
       "      <th></th>\n",
       "      <th></th>\n",
       "      <th></th>\n",
       "      <th></th>\n",
       "      <th></th>\n",
       "    </tr>\n",
       "  </thead>\n",
       "  <tbody>\n",
       "    <tr>\n",
       "      <th>2017-01-01 00:00:00</th>\n",
       "      <td>00</td>\n",
       "      <td>0.51</td>\n",
       "      <td>Sunday</td>\n",
       "      <td>1</td>\n",
       "      <td>2017</td>\n",
       "    </tr>\n",
       "    <tr>\n",
       "      <th>2017-01-01 01:00:00</th>\n",
       "      <td>01</td>\n",
       "      <td>0.51</td>\n",
       "      <td>Sunday</td>\n",
       "      <td>1</td>\n",
       "      <td>2017</td>\n",
       "    </tr>\n",
       "    <tr>\n",
       "      <th>2017-01-01 02:00:00</th>\n",
       "      <td>02</td>\n",
       "      <td>0.45</td>\n",
       "      <td>Sunday</td>\n",
       "      <td>1</td>\n",
       "      <td>2017</td>\n",
       "    </tr>\n",
       "    <tr>\n",
       "      <th>2017-01-01 03:00:00</th>\n",
       "      <td>03</td>\n",
       "      <td>0.51</td>\n",
       "      <td>Sunday</td>\n",
       "      <td>1</td>\n",
       "      <td>2017</td>\n",
       "    </tr>\n",
       "    <tr>\n",
       "      <th>2017-01-01 04:00:00</th>\n",
       "      <td>04</td>\n",
       "      <td>0.45</td>\n",
       "      <td>Sunday</td>\n",
       "      <td>1</td>\n",
       "      <td>2017</td>\n",
       "    </tr>\n",
       "    <tr>\n",
       "      <th>2017-01-01 05:00:00</th>\n",
       "      <td>05</td>\n",
       "      <td>0.58</td>\n",
       "      <td>Sunday</td>\n",
       "      <td>1</td>\n",
       "      <td>2017</td>\n",
       "    </tr>\n",
       "    <tr>\n",
       "      <th>2017-01-01 18:00:00</th>\n",
       "      <td>18</td>\n",
       "      <td>0.70</td>\n",
       "      <td>Sunday</td>\n",
       "      <td>1</td>\n",
       "      <td>2017</td>\n",
       "    </tr>\n",
       "    <tr>\n",
       "      <th>2017-01-01 19:00:00</th>\n",
       "      <td>19</td>\n",
       "      <td>0.90</td>\n",
       "      <td>Sunday</td>\n",
       "      <td>1</td>\n",
       "      <td>2017</td>\n",
       "    </tr>\n",
       "    <tr>\n",
       "      <th>2017-01-01 20:00:00</th>\n",
       "      <td>20</td>\n",
       "      <td>0.77</td>\n",
       "      <td>Sunday</td>\n",
       "      <td>1</td>\n",
       "      <td>2017</td>\n",
       "    </tr>\n",
       "    <tr>\n",
       "      <th>2017-01-01 21:00:00</th>\n",
       "      <td>21</td>\n",
       "      <td>0.70</td>\n",
       "      <td>Sunday</td>\n",
       "      <td>1</td>\n",
       "      <td>2017</td>\n",
       "    </tr>\n",
       "  </tbody>\n",
       "</table>\n",
       "</div>"
      ],
      "text/plain": [
       "                    hour   kwh weekday month  year\n",
       "date                                              \n",
       "2017-01-01 00:00:00   00  0.51  Sunday     1  2017\n",
       "2017-01-01 01:00:00   01  0.51  Sunday     1  2017\n",
       "2017-01-01 02:00:00   02  0.45  Sunday     1  2017\n",
       "2017-01-01 03:00:00   03  0.51  Sunday     1  2017\n",
       "2017-01-01 04:00:00   04  0.45  Sunday     1  2017\n",
       "2017-01-01 05:00:00   05  0.58  Sunday     1  2017\n",
       "2017-01-01 18:00:00   18  0.70  Sunday     1  2017\n",
       "2017-01-01 19:00:00   19  0.90  Sunday     1  2017\n",
       "2017-01-01 20:00:00   20  0.77  Sunday     1  2017\n",
       "2017-01-01 21:00:00   21  0.70  Sunday     1  2017"
      ]
     },
     "execution_count": 40,
     "metadata": {},
     "output_type": "execute_result"
    }
   ],
   "source": [
    "df_17H= dft[(dft.year== 2017) & (dft.hour.isin(['00','01','02','03','04','05','18','19','20','21','22','23']))]\n",
    "df_17H.head(10)"
   ]
  },
  {
   "cell_type": "code",
   "execution_count": 41,
   "metadata": {},
   "outputs": [
    {
     "data": {
      "text/plain": [
       "<matplotlib.axes._subplots.AxesSubplot at 0x1a1e89d320>"
      ]
     },
     "execution_count": 41,
     "metadata": {},
     "output_type": "execute_result"
    },
    {
     "data": {
      "image/png": "[encoded data removed]",
      "text/plain": [
       "<Figure size 432x288 with 1 Axes>"
      ]
     },
     "metadata": {
      "needs_background": "light"
     },
     "output_type": "display_data"
    }
   ],
   "source": [
    "df_17H.kwh.resample('M').sum().plot()"
   ]
  },
  {
   "cell_type": "code",
   "execution_count": 42,
   "metadata": {},
   "outputs": [
    {
     "data": {
      "text/plain": [
       "<matplotlib.axes._subplots.AxesSubplot at 0x1a1ec329e8>"
      ]
     },
     "execution_count": 42,
     "metadata": {},
     "output_type": "execute_result"
    },
    {
     "data": {
      "image/png": "[encoded data removed]",
      "text/plain": [
       "<Figure size 432x288 with 1 Axes>"
      ]
     },
     "metadata": {
      "needs_background": "light"
     },
     "output_type": "display_data"
    }
   ],
   "source": [
    "df_18H= dft[(dft.year== 2018) & (dft.hour.isin(['00','01','02','03','04','05','18','19','20','21','22','23']))]\n",
    "df_18H.kwh.resample('M').sum().plot()"
   ]
  },
  {
   "cell_type": "code",
   "execution_count": 43,
   "metadata": {},
   "outputs": [],
   "source": [
    "df_18H= dft[(dft.year== 2018) & (dft.hour.isin(['00','01','02','03','04','05','18','19','20','21','22','23']))]\n",
    "df_17H= dft[(dft.year== 2017) & (dft.hour.isin(['00','01','02','03','04','05','18','19','20','21','22','23']))]\n",
    "df_16H= dft[(dft.year== 2016) & (dft.hour.isin(['00','01','02','03','04','05','18','19','20','21','22','23']))]\n",
    "df_15H= dft[(dft.year== 2015) & (dft.hour.isin(['00','01','02','03','04','05','18','19','20','21','22','23']))]\n",
    "df_14H= dft[(dft.year== 2014) & (dft.hour.isin(['00','01','02','03','04','05','18','19','20','21','22','23']))]\n",
    "monthly_baseline_H= 0.25 * (df_14H.kwh.resample('M').sum().values + df_15H.kwh.resample('M').sum().values + \n",
    "                   df_16H.kwh.resample('M').sum().values + df_17H.kwh.resample('M').sum().values)"
   ]
  },
  {
   "cell_type": "code",
   "execution_count": 44,
   "metadata": {},
   "outputs": [
    {
     "data": {
      "text/plain": [
       "[<matplotlib.lines.Line2D at 0x1a1db080f0>]"
      ]
     },
     "execution_count": 44,
     "metadata": {},
     "output_type": "execute_result"
    },
    {
     "data": {
      "image/png": "[encoded data removed]",
      "text/plain": [
       "<Figure size 432x288 with 1 Axes>"
      ]
     },
     "metadata": {
      "needs_background": "light"
     },
     "output_type": "display_data"
    }
   ],
   "source": [
    "plt.plot(monthly_baseline_H)\n",
    "plt.plot(df_18H.kwh.resample('M').sum().values)"
   ]
  },
  {
   "cell_type": "markdown",
   "metadata": {},
   "source": [
    "plt.axhline(0, color='r', linestyle='dashed', linewidth=2) # zero reference\n",
    "plt.axhline(167, color='g', linestyle='dashed', linewidth=3)# 500 miles/month minimum is an extra 167 kwh/month\n",
    "plt.axvline(7, color='y', linestyle='dashed', linewidth=5)\n",
    "plt.title('For the year 2018, Monthly Difference between Actual and the 4-Year baseline Consumption in kwh')\n",
    "plt.xlabel('Month of the Year')\n",
    "plt.ylabel('kwh')\n",
    "plt.plot(df_18H.kwh.resample('M').sum().values - monthly_baseline_H)"
   ]
  },
  {
   "cell_type": "markdown",
   "metadata": {},
   "source": [
    "# Successful Signal for Discerning the Acquisition of a Level 1 EV Charger\n",
    "For the 12 hours (midnight to 6am, 6pm to midnight) that an EV is more likely to be at a residence,a monthly baseline is first established as the average of the preceding (trailing) 4 years, or 48 months.\n",
    "This Baseline is then subtracted from the monthly values of the current year (for just the same 12 hours).\n",
    "If the positive difference exceeds 167 kwh for three consecutive months, then the Residence is classified as owning a Level 1 EV charger. The 167 kwh/month threshold is predicated on an assumed 500 miles driven per month, and that 1 kwh fuels 3 miles of driving.\n",
    "\n",
    "This approach can easily be generalised to the current months versus a four-year moving average."
   ]
  },
  {
   "cell_type": "markdown",
   "metadata": {},
   "source": [
    "# A Third possible Signal for Classifying the new use of a Level 1 Charger might derived from sequences of seven hours at night, or minimum threshold levels\n",
    "One characteristic of a Level 1 charger (aka a \"Trickle Charger) is that it is typically charging for a number of consecutive hours. For example, to provide for a 50-mile round trip would require about 17kwh, and at a charging rate of 1.9 kwh, that would take about nine consecutive hours. This might occur from 6pm to 3am, or from 9pm to 6am, for example. An approach that incorporates a seven-hour moving average might provide an indication of whether Level 1 EV charging is occuring."
   ]
  },
  {
   "cell_type": "markdown",
   "metadata": {},
   "source": [
    "# A Fourth possible Signal for Classifying the new use of a Level 1 Charger might be derived from a TOU-driven mini-spike\n",
    "Where the EV charger is the customer of an electric utility that offers the option of a so-called \"Time-Of-Use\" (TOU) electricity tariff, EV chargers are incentivized to delay their charging until the onset of a designated \"Off-Peak\" period, which might start as early as 8pm or as late as midnight, and generally extends to 6am: the electricity tariff for the Off-Peak period is usually at a much lower price - even less than half the price for the preceding Peak Period. Most charging devices have timers, and the customers whohave chosen to subscribe to the TOU option therefore often set their timer to the onset of the Off-Peak period. Experience has shown that this tends to create a mini-peak. Incidentally, sometimes this option is offered to all of a utility's customers, while in other cases it may be offered exclusively to EV chargers who have signed up.\n",
    "\n",
    "Since Corn Belt Energy does not currently offer a TOU Plan, this approach is not immediately relevant."
   ]
  },
  {
   "cell_type": "markdown",
   "metadata": {},
   "source": [
    "# An Ensemble Approach to Classification is often Superior\n",
    "\n",
    "Four alternative signals have been outlined above that might be helpful in discerning whether a given household is an EV charger.\n",
    "\n",
    "A statistical analysis can be performed to see which of the four Signals is superior. However,since the approaches are quite different, they may not be fully-correlated with one another. Accordingly, a mixture (ensemble approach) has often been found to be optimal.\n",
    "\n",
    "This can be achieved in many ways, including by assigning appropriate weights to each of the different approaches.\n",
    "\n",
    "Another way is to have a voting procedure. Suppose for example that three of the Signals are used, then each Classifier is assigned one vote, and the maority vote prevails."
   ]
  },
  {
   "cell_type": "markdown",
   "metadata": {},
   "source": [
    "# Risk Management Approach\n",
    "\n",
    "There appears to be a significant assymettry in the cost of different outcomes (in formal terms, in the respective costs of Type I and Type II Classification errors). \n",
    "\n",
    "For example, suppose a household is initially classified by some judicious combination of the above-outlined Signals as having an EV charger, then the next steps may be:\n",
    "\n",
    "(a) investigative (additional information gathering, for example), or \n",
    "\n",
    "(b) Promotional (making a highly attractive offer of some kind, for example to subscribe to a TOU plan, or to so-called Managed Charging).\n",
    "\n",
    "Both of these steps are likely to be relatively inexpensive, and may represent wise precautionary investments with large associated benefits.\n",
    "\n",
    "In contrast, consider the quite different cost of having missed one or more EV chargers served by the same local distribution transformer. Suppose that the transformer is repeatedly loaded during Peak Periods to 90% or more of its capacity, and its life is materially shortened as a result.Eventually a brown-out occurs, with two non-trivial costs. First, the transformer must be replaced, at a cost of the order of $7,500. Second, there may be repuational damage incurred, as all 5-7 households served by that transformer would have suffered from the consequences of the brown-out. Moreover, as such brown-out's become increasingly common in line with projected EV adoption levels, there could be delays in obtaining new transformers, and even in installing them, as qualified work crews become overburdened with such jobs. These costs could easily be one-hundred to one-thousand times higher.\n",
    "\n",
    "Accordingly, it may be prudent to err on the side of caution and notionally classify a household as an EV charger even if the probability assigned by a chosen algorithm is less than 0.5. \n",
    "\n",
    "It would probably be sensible to accord quite different follow-up courses of action depending on whether the assigned probability was 0.3, 0.5, or 0.9. as the saying goes, \"The devil is in the details\"."
   ]
  },
  {
   "cell_type": "markdown",
   "metadata": {},
   "source": [
    "# pane\n",
    "df_18H.kwh.resample('M').sum().plot()\n",
    "df_18H.kwh.resample('M').sum().plot()\n",
    "df_18H.kwh.resample('M').sum().plot()\n",
    "df_18H.kwh.resample('M').sum().plot()\n",
    "df_18H.kwh.resample('M').sum().plot()"
   ]
  },
  {
   "cell_type": "markdown",
   "metadata": {},
   "source": [
    "# A Small EV and a Level 1 \"Trickle Charger\" were Acquired in July, 2018\n",
    "After July we see relatively little \"white space\" below the red horizontal line, suggesting that the trickle charger was active throughout much of the night."
   ]
  },
  {
   "cell_type": "code",
   "execution_count": 45,
   "metadata": {},
   "outputs": [
    {
     "data": {
      "image/png": "[encoded data removed]",
      "text/plain": [
       "<Figure size 432x288 with 1 Axes>"
      ]
     },
     "metadata": {
      "needs_background": "light"
     },
     "output_type": "display_data"
    }
   ],
   "source": [
    "df_19= dft[dft.year== 2019]\n",
    "df_19.kwh.plot()\n",
    "plt.title('Hourly Power Consumption in 2019')\n",
    "plt.ylabel('kwh')\n",
    "plt.axhline(3.15, color='r', linestyle='dashed', linewidth=2)\n",
    "plt.axhline(7, color='g', linestyle='dashed', linewidth=2)\n",
    "plt.show()"
   ]
  },
  {
   "cell_type": "markdown",
   "metadata": {},
   "source": [
    "# A Large (Tesla) EV and a Level 2 \"Fast Charger\" were Acquired in February, 2019\n",
    "In mid-February and beyond we see 7 kwh of consumption frequently, while before even with the EV with the smaller battery it had been comparatively rare."
   ]
  },
  {
   "cell_type": "code",
   "execution_count": 46,
   "metadata": {},
   "outputs": [
    {
     "data": {
      "text/plain": [
       "41"
      ]
     },
     "execution_count": 46,
     "metadata": {},
     "output_type": "execute_result"
    }
   ],
   "source": [
    "sum(df_19.kwh > 7) # this includes just one month of EV ownership"
   ]
  },
  {
   "cell_type": "code",
   "execution_count": 47,
   "metadata": {},
   "outputs": [
    {
     "data": {
      "text/plain": [
       "1"
      ]
     },
     "execution_count": 47,
     "metadata": {},
     "output_type": "execute_result"
    }
   ],
   "source": [
    "sum(df_18.kwh > 7)  # for the year, just a single occurrence"
   ]
  },
  {
   "cell_type": "code",
   "execution_count": 48,
   "metadata": {},
   "outputs": [
    {
     "data": {
      "text/plain": [
       "0"
      ]
     },
     "execution_count": 48,
     "metadata": {},
     "output_type": "execute_result"
    }
   ],
   "source": [
    "sum(df_17.kwh > 7)  # for the year,not a single occurrence"
   ]
  },
  {
   "cell_type": "code",
   "execution_count": 49,
   "metadata": {},
   "outputs": [
    {
     "data": {
      "text/plain": [
       "0"
      ]
     },
     "execution_count": 49,
     "metadata": {},
     "output_type": "execute_result"
    }
   ],
   "source": [
    "sum(df_16.kwh > 7)  # for the year, not a single occurrence"
   ]
  },
  {
   "cell_type": "markdown",
   "metadata": {},
   "source": [
    "# Establishing a Baseline for Power Consumption using OLS Regression\n",
    "The approach is to use 2017 as a baseline year for purposes of comparison. The year 2018 is unsuitable as the numbers were materially higher in the second half of the year due to the small EV acquisition."
   ]
  },
  {
   "cell_type": "code",
   "execution_count": 50,
   "metadata": {},
   "outputs": [],
   "source": [
    "k_19 = dft['2019-02-12':'2019-03-18']"
   ]
  },
  {
   "cell_type": "code",
   "execution_count": 51,
   "metadata": {},
   "outputs": [
    {
     "data": {
      "text/plain": [
       "[<matplotlib.lines.Line2D at 0x1a1edeb278>]"
      ]
     },
     "execution_count": 51,
     "metadata": {},
     "output_type": "execute_result"
    },
    {
     "data": {
      "image/png": "[encoded data removed]",
      "text/plain": [
       "<Figure size 432x288 with 1 Axes>"
      ]
     },
     "metadata": {
      "needs_background": "light"
     },
     "output_type": "display_data"
    }
   ],
   "source": [
    "plt.plot(k_19.kwh) "
   ]
  },
  {
   "cell_type": "code",
   "execution_count": 52,
   "metadata": {},
   "outputs": [
    {
     "data": {
      "text/plain": [
       "[<matplotlib.lines.Line2D at 0x1a1ef58d30>]"
      ]
     },
     "execution_count": 52,
     "metadata": {},
     "output_type": "execute_result"
    },
    {
     "data": {
      "image/png": "[encoded data removed]",
      "text/plain": [
       "<Figure size 432x288 with 1 Axes>"
      ]
     },
     "metadata": {
      "needs_background": "light"
     },
     "output_type": "display_data"
    }
   ],
   "source": [
    "plt.plot(k_19.kwh.resample('D').mean())"
   ]
  },
  {
   "cell_type": "code",
   "execution_count": 53,
   "metadata": {},
   "outputs": [],
   "source": [
    "k_19 = dft['2019-02-12':'2019-03-18'].kwh.reset_index()"
   ]
  },
  {
   "cell_type": "code",
   "execution_count": 54,
   "metadata": {},
   "outputs": [
    {
     "data": {
      "text/html": [
       "<div>\n",
       "<style scoped>\n",
       "    .dataframe tbody tr th:only-of-type {\n",
       "        vertical-align: middle;\n",
       "    }\n",
       "\n",
       "    .dataframe tbody tr th {\n",
       "        vertical-align: top;\n",
       "    }\n",
       "\n",
       "    .dataframe thead th {\n",
       "        text-align: right;\n",
       "    }\n",
       "</style>\n",
       "<table border=\"1\" class=\"dataframe\">\n",
       "  <thead>\n",
       "    <tr style=\"text-align: right;\">\n",
       "      <th></th>\n",
       "      <th>date</th>\n",
       "      <th>kwh</th>\n",
       "    </tr>\n",
       "  </thead>\n",
       "  <tbody>\n",
       "    <tr>\n",
       "      <th>0</th>\n",
       "      <td>2018-02-12 00:00:00</td>\n",
       "      <td>0.45</td>\n",
       "    </tr>\n",
       "    <tr>\n",
       "      <th>1</th>\n",
       "      <td>2018-02-12 01:00:00</td>\n",
       "      <td>0.58</td>\n",
       "    </tr>\n",
       "    <tr>\n",
       "      <th>2</th>\n",
       "      <td>2018-02-12 02:00:00</td>\n",
       "      <td>0.51</td>\n",
       "    </tr>\n",
       "    <tr>\n",
       "      <th>3</th>\n",
       "      <td>2018-02-12 03:00:00</td>\n",
       "      <td>0.51</td>\n",
       "    </tr>\n",
       "    <tr>\n",
       "      <th>4</th>\n",
       "      <td>2018-02-12 04:00:00</td>\n",
       "      <td>0.58</td>\n",
       "    </tr>\n",
       "    <tr>\n",
       "      <th>5</th>\n",
       "      <td>2018-02-12 05:00:00</td>\n",
       "      <td>1.02</td>\n",
       "    </tr>\n",
       "    <tr>\n",
       "      <th>6</th>\n",
       "      <td>2018-02-12 06:00:00</td>\n",
       "      <td>0.70</td>\n",
       "    </tr>\n",
       "    <tr>\n",
       "      <th>7</th>\n",
       "      <td>2018-02-12 07:00:00</td>\n",
       "      <td>0.83</td>\n",
       "    </tr>\n",
       "    <tr>\n",
       "      <th>8</th>\n",
       "      <td>2018-02-12 08:00:00</td>\n",
       "      <td>0.96</td>\n",
       "    </tr>\n",
       "    <tr>\n",
       "      <th>9</th>\n",
       "      <td>2018-02-12 09:00:00</td>\n",
       "      <td>0.38</td>\n",
       "    </tr>\n",
       "  </tbody>\n",
       "</table>\n",
       "</div>"
      ],
      "text/plain": [
       "                 date   kwh\n",
       "0 2018-02-12 00:00:00  0.45\n",
       "1 2018-02-12 01:00:00  0.58\n",
       "2 2018-02-12 02:00:00  0.51\n",
       "3 2018-02-12 03:00:00  0.51\n",
       "4 2018-02-12 04:00:00  0.58\n",
       "5 2018-02-12 05:00:00  1.02\n",
       "6 2018-02-12 06:00:00  0.70\n",
       "7 2018-02-12 07:00:00  0.83\n",
       "8 2018-02-12 08:00:00  0.96\n",
       "9 2018-02-12 09:00:00  0.38"
      ]
     },
     "execution_count": 54,
     "metadata": {},
     "output_type": "execute_result"
    }
   ],
   "source": [
    "k_18 = dft['2018-02-12':'2018-03-18'].kwh.reset_index()\n",
    "k_18[0:10]"
   ]
  },
  {
   "cell_type": "code",
   "execution_count": 55,
   "metadata": {},
   "outputs": [],
   "source": [
    "k_17 = dft['2017-02-12':'2017-03-18'].kwh.reset_index()\n"
   ]
  },
  {
   "cell_type": "code",
   "execution_count": 56,
   "metadata": {},
   "outputs": [],
   "source": [
    "k_16 = dft['2016-02-12':'2016-03-18'].kwh.reset_index()"
   ]
  },
  {
   "cell_type": "code",
   "execution_count": 57,
   "metadata": {},
   "outputs": [],
   "source": [
    "two_years= pd.merge(k_16, k_17, left_index= True, right_index= True)"
   ]
  },
  {
   "cell_type": "code",
   "execution_count": 58,
   "metadata": {},
   "outputs": [
    {
     "data": {
      "text/html": [
       "<div>\n",
       "<style scoped>\n",
       "    .dataframe tbody tr th:only-of-type {\n",
       "        vertical-align: middle;\n",
       "    }\n",
       "\n",
       "    .dataframe tbody tr th {\n",
       "        vertical-align: top;\n",
       "    }\n",
       "\n",
       "    .dataframe thead th {\n",
       "        text-align: right;\n",
       "    }\n",
       "</style>\n",
       "<table border=\"1\" class=\"dataframe\">\n",
       "  <thead>\n",
       "    <tr style=\"text-align: right;\">\n",
       "      <th></th>\n",
       "      <th>date_16</th>\n",
       "      <th>kwh_16</th>\n",
       "      <th>date_17</th>\n",
       "      <th>kwh_17</th>\n",
       "    </tr>\n",
       "  </thead>\n",
       "  <tbody>\n",
       "    <tr>\n",
       "      <th>0</th>\n",
       "      <td>2016-02-12 00:00:00</td>\n",
       "      <td>0.58</td>\n",
       "      <td>2017-02-12 00:00:00</td>\n",
       "      <td>0.64</td>\n",
       "    </tr>\n",
       "    <tr>\n",
       "      <th>1</th>\n",
       "      <td>2016-02-12 01:00:00</td>\n",
       "      <td>0.51</td>\n",
       "      <td>2017-02-12 01:00:00</td>\n",
       "      <td>0.51</td>\n",
       "    </tr>\n",
       "    <tr>\n",
       "      <th>2</th>\n",
       "      <td>2016-02-12 02:00:00</td>\n",
       "      <td>0.51</td>\n",
       "      <td>2017-02-12 02:00:00</td>\n",
       "      <td>0.45</td>\n",
       "    </tr>\n",
       "    <tr>\n",
       "      <th>3</th>\n",
       "      <td>2016-02-12 03:00:00</td>\n",
       "      <td>0.51</td>\n",
       "      <td>2017-02-12 03:00:00</td>\n",
       "      <td>0.45</td>\n",
       "    </tr>\n",
       "    <tr>\n",
       "      <th>4</th>\n",
       "      <td>2016-02-12 04:00:00</td>\n",
       "      <td>0.58</td>\n",
       "      <td>2017-02-12 04:00:00</td>\n",
       "      <td>0.58</td>\n",
       "    </tr>\n",
       "  </tbody>\n",
       "</table>\n",
       "</div>"
      ],
      "text/plain": [
       "              date_16  kwh_16             date_17  kwh_17\n",
       "0 2016-02-12 00:00:00    0.58 2017-02-12 00:00:00    0.64\n",
       "1 2016-02-12 01:00:00    0.51 2017-02-12 01:00:00    0.51\n",
       "2 2016-02-12 02:00:00    0.51 2017-02-12 02:00:00    0.45\n",
       "3 2016-02-12 03:00:00    0.51 2017-02-12 03:00:00    0.45\n",
       "4 2016-02-12 04:00:00    0.58 2017-02-12 04:00:00    0.58"
      ]
     },
     "execution_count": 58,
     "metadata": {},
     "output_type": "execute_result"
    }
   ],
   "source": [
    "two_years.head()\n",
    "two_years.columns= ['date_16','kwh_16','date_17','kwh_17']\n",
    "two_years.head()"
   ]
  },
  {
   "cell_type": "code",
   "execution_count": 59,
   "metadata": {},
   "outputs": [],
   "source": [
    "three_years= pd.merge(two_years,k_18, left_index= True, right_index= True)"
   ]
  },
  {
   "cell_type": "code",
   "execution_count": 60,
   "metadata": {},
   "outputs": [
    {
     "data": {
      "text/html": [
       "<div>\n",
       "<style scoped>\n",
       "    .dataframe tbody tr th:only-of-type {\n",
       "        vertical-align: middle;\n",
       "    }\n",
       "\n",
       "    .dataframe tbody tr th {\n",
       "        vertical-align: top;\n",
       "    }\n",
       "\n",
       "    .dataframe thead th {\n",
       "        text-align: right;\n",
       "    }\n",
       "</style>\n",
       "<table border=\"1\" class=\"dataframe\">\n",
       "  <thead>\n",
       "    <tr style=\"text-align: right;\">\n",
       "      <th></th>\n",
       "      <th>date_16</th>\n",
       "      <th>kwh_16</th>\n",
       "      <th>date_17</th>\n",
       "      <th>kwh_17</th>\n",
       "      <th>date</th>\n",
       "      <th>kwh</th>\n",
       "    </tr>\n",
       "  </thead>\n",
       "  <tbody>\n",
       "    <tr>\n",
       "      <th>0</th>\n",
       "      <td>2016-02-12 00:00:00</td>\n",
       "      <td>0.58</td>\n",
       "      <td>2017-02-12 00:00:00</td>\n",
       "      <td>0.64</td>\n",
       "      <td>2018-02-12 00:00:00</td>\n",
       "      <td>0.45</td>\n",
       "    </tr>\n",
       "    <tr>\n",
       "      <th>1</th>\n",
       "      <td>2016-02-12 01:00:00</td>\n",
       "      <td>0.51</td>\n",
       "      <td>2017-02-12 01:00:00</td>\n",
       "      <td>0.51</td>\n",
       "      <td>2018-02-12 01:00:00</td>\n",
       "      <td>0.58</td>\n",
       "    </tr>\n",
       "    <tr>\n",
       "      <th>2</th>\n",
       "      <td>2016-02-12 02:00:00</td>\n",
       "      <td>0.51</td>\n",
       "      <td>2017-02-12 02:00:00</td>\n",
       "      <td>0.45</td>\n",
       "      <td>2018-02-12 02:00:00</td>\n",
       "      <td>0.51</td>\n",
       "    </tr>\n",
       "    <tr>\n",
       "      <th>3</th>\n",
       "      <td>2016-02-12 03:00:00</td>\n",
       "      <td>0.51</td>\n",
       "      <td>2017-02-12 03:00:00</td>\n",
       "      <td>0.45</td>\n",
       "      <td>2018-02-12 03:00:00</td>\n",
       "      <td>0.51</td>\n",
       "    </tr>\n",
       "    <tr>\n",
       "      <th>4</th>\n",
       "      <td>2016-02-12 04:00:00</td>\n",
       "      <td>0.58</td>\n",
       "      <td>2017-02-12 04:00:00</td>\n",
       "      <td>0.58</td>\n",
       "      <td>2018-02-12 04:00:00</td>\n",
       "      <td>0.58</td>\n",
       "    </tr>\n",
       "  </tbody>\n",
       "</table>\n",
       "</div>"
      ],
      "text/plain": [
       "              date_16  kwh_16             date_17  kwh_17                date  \\\n",
       "0 2016-02-12 00:00:00    0.58 2017-02-12 00:00:00    0.64 2018-02-12 00:00:00   \n",
       "1 2016-02-12 01:00:00    0.51 2017-02-12 01:00:00    0.51 2018-02-12 01:00:00   \n",
       "2 2016-02-12 02:00:00    0.51 2017-02-12 02:00:00    0.45 2018-02-12 02:00:00   \n",
       "3 2016-02-12 03:00:00    0.51 2017-02-12 03:00:00    0.45 2018-02-12 03:00:00   \n",
       "4 2016-02-12 04:00:00    0.58 2017-02-12 04:00:00    0.58 2018-02-12 04:00:00   \n",
       "\n",
       "    kwh  \n",
       "0  0.45  \n",
       "1  0.58  \n",
       "2  0.51  \n",
       "3  0.51  \n",
       "4  0.58  "
      ]
     },
     "execution_count": 60,
     "metadata": {},
     "output_type": "execute_result"
    }
   ],
   "source": [
    "three_years.head()\n",
    "three_years.rename(columns= {'kwh_18':'kwh'})\n",
    "three_years.head()"
   ]
  },
  {
   "cell_type": "code",
   "execution_count": 61,
   "metadata": {},
   "outputs": [
    {
     "data": {
      "text/html": [
       "<div>\n",
       "<style scoped>\n",
       "    .dataframe tbody tr th:only-of-type {\n",
       "        vertical-align: middle;\n",
       "    }\n",
       "\n",
       "    .dataframe tbody tr th {\n",
       "        vertical-align: top;\n",
       "    }\n",
       "\n",
       "    .dataframe thead th {\n",
       "        text-align: right;\n",
       "    }\n",
       "</style>\n",
       "<table border=\"1\" class=\"dataframe\">\n",
       "  <thead>\n",
       "    <tr style=\"text-align: right;\">\n",
       "      <th></th>\n",
       "      <th>date_16</th>\n",
       "      <th>kwh_16</th>\n",
       "      <th>date_17</th>\n",
       "      <th>kwh_17</th>\n",
       "      <th>date_x</th>\n",
       "      <th>kwh_x</th>\n",
       "      <th>date_y</th>\n",
       "      <th>kwh_y</th>\n",
       "    </tr>\n",
       "  </thead>\n",
       "  <tbody>\n",
       "    <tr>\n",
       "      <th>0</th>\n",
       "      <td>2016-02-12 00:00:00</td>\n",
       "      <td>0.58</td>\n",
       "      <td>2017-02-12 00:00:00</td>\n",
       "      <td>0.64</td>\n",
       "      <td>2018-02-12 00:00:00</td>\n",
       "      <td>0.45</td>\n",
       "      <td>2019-02-12 00:00:00</td>\n",
       "      <td>1.98</td>\n",
       "    </tr>\n",
       "    <tr>\n",
       "      <th>1</th>\n",
       "      <td>2016-02-12 01:00:00</td>\n",
       "      <td>0.51</td>\n",
       "      <td>2017-02-12 01:00:00</td>\n",
       "      <td>0.51</td>\n",
       "      <td>2018-02-12 01:00:00</td>\n",
       "      <td>0.58</td>\n",
       "      <td>2019-02-12 01:00:00</td>\n",
       "      <td>1.92</td>\n",
       "    </tr>\n",
       "    <tr>\n",
       "      <th>2</th>\n",
       "      <td>2016-02-12 02:00:00</td>\n",
       "      <td>0.51</td>\n",
       "      <td>2017-02-12 02:00:00</td>\n",
       "      <td>0.45</td>\n",
       "      <td>2018-02-12 02:00:00</td>\n",
       "      <td>0.51</td>\n",
       "      <td>2019-02-12 02:00:00</td>\n",
       "      <td>1.92</td>\n",
       "    </tr>\n",
       "    <tr>\n",
       "      <th>3</th>\n",
       "      <td>2016-02-12 03:00:00</td>\n",
       "      <td>0.51</td>\n",
       "      <td>2017-02-12 03:00:00</td>\n",
       "      <td>0.45</td>\n",
       "      <td>2018-02-12 03:00:00</td>\n",
       "      <td>0.51</td>\n",
       "      <td>2019-02-12 03:00:00</td>\n",
       "      <td>1.86</td>\n",
       "    </tr>\n",
       "    <tr>\n",
       "      <th>4</th>\n",
       "      <td>2016-02-12 04:00:00</td>\n",
       "      <td>0.58</td>\n",
       "      <td>2017-02-12 04:00:00</td>\n",
       "      <td>0.58</td>\n",
       "      <td>2018-02-12 04:00:00</td>\n",
       "      <td>0.58</td>\n",
       "      <td>2019-02-12 04:00:00</td>\n",
       "      <td>1.86</td>\n",
       "    </tr>\n",
       "  </tbody>\n",
       "</table>\n",
       "</div>"
      ],
      "text/plain": [
       "              date_16  kwh_16             date_17  kwh_17              date_x  \\\n",
       "0 2016-02-12 00:00:00    0.58 2017-02-12 00:00:00    0.64 2018-02-12 00:00:00   \n",
       "1 2016-02-12 01:00:00    0.51 2017-02-12 01:00:00    0.51 2018-02-12 01:00:00   \n",
       "2 2016-02-12 02:00:00    0.51 2017-02-12 02:00:00    0.45 2018-02-12 02:00:00   \n",
       "3 2016-02-12 03:00:00    0.51 2017-02-12 03:00:00    0.45 2018-02-12 03:00:00   \n",
       "4 2016-02-12 04:00:00    0.58 2017-02-12 04:00:00    0.58 2018-02-12 04:00:00   \n",
       "\n",
       "   kwh_x              date_y  kwh_y  \n",
       "0   0.45 2019-02-12 00:00:00   1.98  \n",
       "1   0.58 2019-02-12 01:00:00   1.92  \n",
       "2   0.51 2019-02-12 02:00:00   1.92  \n",
       "3   0.51 2019-02-12 03:00:00   1.86  \n",
       "4   0.58 2019-02-12 04:00:00   1.86  "
      ]
     },
     "execution_count": 61,
     "metadata": {},
     "output_type": "execute_result"
    }
   ],
   "source": [
    "four_years= pd.merge(three_years,k_19, left_index= True, right_index= True)\n",
    "four_years.head()"
   ]
  },
  {
   "cell_type": "code",
   "execution_count": 62,
   "metadata": {},
   "outputs": [
    {
     "data": {
      "text/html": [
       "<div>\n",
       "<style scoped>\n",
       "    .dataframe tbody tr th:only-of-type {\n",
       "        vertical-align: middle;\n",
       "    }\n",
       "\n",
       "    .dataframe tbody tr th {\n",
       "        vertical-align: top;\n",
       "    }\n",
       "\n",
       "    .dataframe thead th {\n",
       "        text-align: right;\n",
       "    }\n",
       "</style>\n",
       "<table border=\"1\" class=\"dataframe\">\n",
       "  <thead>\n",
       "    <tr style=\"text-align: right;\">\n",
       "      <th></th>\n",
       "      <th>date_16</th>\n",
       "      <th>kwh_16</th>\n",
       "      <th>date_17</th>\n",
       "      <th>kwh_17</th>\n",
       "      <th>date_18</th>\n",
       "      <th>kwh_18</th>\n",
       "      <th>date_19</th>\n",
       "      <th>kwh_19</th>\n",
       "    </tr>\n",
       "  </thead>\n",
       "  <tbody>\n",
       "    <tr>\n",
       "      <th>0</th>\n",
       "      <td>2016-02-12 00:00:00</td>\n",
       "      <td>0.58</td>\n",
       "      <td>2017-02-12 00:00:00</td>\n",
       "      <td>0.64</td>\n",
       "      <td>2018-02-12 00:00:00</td>\n",
       "      <td>0.45</td>\n",
       "      <td>2019-02-12 00:00:00</td>\n",
       "      <td>1.98</td>\n",
       "    </tr>\n",
       "    <tr>\n",
       "      <th>1</th>\n",
       "      <td>2016-02-12 01:00:00</td>\n",
       "      <td>0.51</td>\n",
       "      <td>2017-02-12 01:00:00</td>\n",
       "      <td>0.51</td>\n",
       "      <td>2018-02-12 01:00:00</td>\n",
       "      <td>0.58</td>\n",
       "      <td>2019-02-12 01:00:00</td>\n",
       "      <td>1.92</td>\n",
       "    </tr>\n",
       "    <tr>\n",
       "      <th>2</th>\n",
       "      <td>2016-02-12 02:00:00</td>\n",
       "      <td>0.51</td>\n",
       "      <td>2017-02-12 02:00:00</td>\n",
       "      <td>0.45</td>\n",
       "      <td>2018-02-12 02:00:00</td>\n",
       "      <td>0.51</td>\n",
       "      <td>2019-02-12 02:00:00</td>\n",
       "      <td>1.92</td>\n",
       "    </tr>\n",
       "    <tr>\n",
       "      <th>3</th>\n",
       "      <td>2016-02-12 03:00:00</td>\n",
       "      <td>0.51</td>\n",
       "      <td>2017-02-12 03:00:00</td>\n",
       "      <td>0.45</td>\n",
       "      <td>2018-02-12 03:00:00</td>\n",
       "      <td>0.51</td>\n",
       "      <td>2019-02-12 03:00:00</td>\n",
       "      <td>1.86</td>\n",
       "    </tr>\n",
       "    <tr>\n",
       "      <th>4</th>\n",
       "      <td>2016-02-12 04:00:00</td>\n",
       "      <td>0.58</td>\n",
       "      <td>2017-02-12 04:00:00</td>\n",
       "      <td>0.58</td>\n",
       "      <td>2018-02-12 04:00:00</td>\n",
       "      <td>0.58</td>\n",
       "      <td>2019-02-12 04:00:00</td>\n",
       "      <td>1.86</td>\n",
       "    </tr>\n",
       "  </tbody>\n",
       "</table>\n",
       "</div>"
      ],
      "text/plain": [
       "              date_16  kwh_16             date_17  kwh_17             date_18  \\\n",
       "0 2016-02-12 00:00:00    0.58 2017-02-12 00:00:00    0.64 2018-02-12 00:00:00   \n",
       "1 2016-02-12 01:00:00    0.51 2017-02-12 01:00:00    0.51 2018-02-12 01:00:00   \n",
       "2 2016-02-12 02:00:00    0.51 2017-02-12 02:00:00    0.45 2018-02-12 02:00:00   \n",
       "3 2016-02-12 03:00:00    0.51 2017-02-12 03:00:00    0.45 2018-02-12 03:00:00   \n",
       "4 2016-02-12 04:00:00    0.58 2017-02-12 04:00:00    0.58 2018-02-12 04:00:00   \n",
       "\n",
       "   kwh_18             date_19  kwh_19  \n",
       "0    0.45 2019-02-12 00:00:00    1.98  \n",
       "1    0.58 2019-02-12 01:00:00    1.92  \n",
       "2    0.51 2019-02-12 02:00:00    1.92  \n",
       "3    0.51 2019-02-12 03:00:00    1.86  \n",
       "4    0.58 2019-02-12 04:00:00    1.86  "
      ]
     },
     "execution_count": 62,
     "metadata": {},
     "output_type": "execute_result"
    }
   ],
   "source": [
    "four_years.columns= ['date_16','kwh_16','date_17','kwh_17', 'date_18','kwh_18','date_19','kwh_19']\n",
    "four_years.head()"
   ]
  },
  {
   "cell_type": "code",
   "execution_count": 63,
   "metadata": {},
   "outputs": [
    {
     "data": {
      "text/plain": [
       "[<matplotlib.lines.Line2D at 0x1a1f09eda0>]"
      ]
     },
     "execution_count": 63,
     "metadata": {},
     "output_type": "execute_result"
    },
    {
     "data": {
      "image/png": "[encoded data removed]",
      "text/plain": [
       "<Figure size 432x288 with 1 Axes>"
      ]
     },
     "metadata": {
      "needs_background": "light"
     },
     "output_type": "display_data"
    }
   ],
   "source": [
    "plt.plot(four_years.kwh_16)\n",
    "plt.plot(four_years.kwh_19)\n"
   ]
  },
  {
   "cell_type": "code",
   "execution_count": 64,
   "metadata": {},
   "outputs": [
    {
     "data": {
      "text/html": [
       "<div>\n",
       "<style scoped>\n",
       "    .dataframe tbody tr th:only-of-type {\n",
       "        vertical-align: middle;\n",
       "    }\n",
       "\n",
       "    .dataframe tbody tr th {\n",
       "        vertical-align: top;\n",
       "    }\n",
       "\n",
       "    .dataframe thead th {\n",
       "        text-align: right;\n",
       "    }\n",
       "</style>\n",
       "<table border=\"1\" class=\"dataframe\">\n",
       "  <thead>\n",
       "    <tr style=\"text-align: right;\">\n",
       "      <th></th>\n",
       "      <th>kwh_16</th>\n",
       "      <th>kwh_17</th>\n",
       "      <th>kwh_18</th>\n",
       "      <th>date_19</th>\n",
       "      <th>kwh_19</th>\n",
       "      <th>baseline</th>\n",
       "    </tr>\n",
       "  </thead>\n",
       "  <tbody>\n",
       "    <tr>\n",
       "      <th>0</th>\n",
       "      <td>0.58</td>\n",
       "      <td>0.64</td>\n",
       "      <td>0.45</td>\n",
       "      <td>2019-02-12 00:00:00</td>\n",
       "      <td>1.98</td>\n",
       "      <td>0.556667</td>\n",
       "    </tr>\n",
       "    <tr>\n",
       "      <th>1</th>\n",
       "      <td>0.51</td>\n",
       "      <td>0.51</td>\n",
       "      <td>0.58</td>\n",
       "      <td>2019-02-12 01:00:00</td>\n",
       "      <td>1.92</td>\n",
       "      <td>0.533333</td>\n",
       "    </tr>\n",
       "    <tr>\n",
       "      <th>2</th>\n",
       "      <td>0.51</td>\n",
       "      <td>0.45</td>\n",
       "      <td>0.51</td>\n",
       "      <td>2019-02-12 02:00:00</td>\n",
       "      <td>1.92</td>\n",
       "      <td>0.490000</td>\n",
       "    </tr>\n",
       "    <tr>\n",
       "      <th>3</th>\n",
       "      <td>0.51</td>\n",
       "      <td>0.45</td>\n",
       "      <td>0.51</td>\n",
       "      <td>2019-02-12 03:00:00</td>\n",
       "      <td>1.86</td>\n",
       "      <td>0.490000</td>\n",
       "    </tr>\n",
       "    <tr>\n",
       "      <th>4</th>\n",
       "      <td>0.58</td>\n",
       "      <td>0.58</td>\n",
       "      <td>0.58</td>\n",
       "      <td>2019-02-12 04:00:00</td>\n",
       "      <td>1.86</td>\n",
       "      <td>0.580000</td>\n",
       "    </tr>\n",
       "  </tbody>\n",
       "</table>\n",
       "</div>"
      ],
      "text/plain": [
       "   kwh_16  kwh_17  kwh_18             date_19  kwh_19  baseline\n",
       "0    0.58    0.64    0.45 2019-02-12 00:00:00    1.98  0.556667\n",
       "1    0.51    0.51    0.58 2019-02-12 01:00:00    1.92  0.533333\n",
       "2    0.51    0.45    0.51 2019-02-12 02:00:00    1.92  0.490000\n",
       "3    0.51    0.45    0.51 2019-02-12 03:00:00    1.86  0.490000\n",
       "4    0.58    0.58    0.58 2019-02-12 04:00:00    1.86  0.580000"
      ]
     },
     "execution_count": 64,
     "metadata": {},
     "output_type": "execute_result"
    }
   ],
   "source": [
    "four_years['baseline']= (four_years.kwh_16 + four_years.kwh_17 + four_years.kwh_18)/3\n",
    "four_years= four_years.drop(['date_16','date_17','date_18'], axis= 1)\n",
    "four_years.head()"
   ]
  },
  {
   "cell_type": "code",
   "execution_count": 65,
   "metadata": {},
   "outputs": [
    {
     "data": {
      "text/html": [
       "<div>\n",
       "<style scoped>\n",
       "    .dataframe tbody tr th:only-of-type {\n",
       "        vertical-align: middle;\n",
       "    }\n",
       "\n",
       "    .dataframe tbody tr th {\n",
       "        vertical-align: top;\n",
       "    }\n",
       "\n",
       "    .dataframe thead th {\n",
       "        text-align: right;\n",
       "    }\n",
       "</style>\n",
       "<table border=\"1\" class=\"dataframe\">\n",
       "  <thead>\n",
       "    <tr style=\"text-align: right;\">\n",
       "      <th></th>\n",
       "      <th>kwh_16</th>\n",
       "      <th>kwh_17</th>\n",
       "      <th>kwh_18</th>\n",
       "      <th>date_19</th>\n",
       "      <th>kwh_19</th>\n",
       "      <th>baseline</th>\n",
       "      <th>increment</th>\n",
       "    </tr>\n",
       "  </thead>\n",
       "  <tbody>\n",
       "    <tr>\n",
       "      <th>0</th>\n",
       "      <td>0.58</td>\n",
       "      <td>0.64</td>\n",
       "      <td>0.45</td>\n",
       "      <td>2019-02-12 00:00:00</td>\n",
       "      <td>1.98</td>\n",
       "      <td>0.556667</td>\n",
       "      <td>1.423333</td>\n",
       "    </tr>\n",
       "    <tr>\n",
       "      <th>1</th>\n",
       "      <td>0.51</td>\n",
       "      <td>0.51</td>\n",
       "      <td>0.58</td>\n",
       "      <td>2019-02-12 01:00:00</td>\n",
       "      <td>1.92</td>\n",
       "      <td>0.533333</td>\n",
       "      <td>1.386667</td>\n",
       "    </tr>\n",
       "    <tr>\n",
       "      <th>2</th>\n",
       "      <td>0.51</td>\n",
       "      <td>0.45</td>\n",
       "      <td>0.51</td>\n",
       "      <td>2019-02-12 02:00:00</td>\n",
       "      <td>1.92</td>\n",
       "      <td>0.490000</td>\n",
       "      <td>1.430000</td>\n",
       "    </tr>\n",
       "    <tr>\n",
       "      <th>3</th>\n",
       "      <td>0.51</td>\n",
       "      <td>0.45</td>\n",
       "      <td>0.51</td>\n",
       "      <td>2019-02-12 03:00:00</td>\n",
       "      <td>1.86</td>\n",
       "      <td>0.490000</td>\n",
       "      <td>1.370000</td>\n",
       "    </tr>\n",
       "    <tr>\n",
       "      <th>4</th>\n",
       "      <td>0.58</td>\n",
       "      <td>0.58</td>\n",
       "      <td>0.58</td>\n",
       "      <td>2019-02-12 04:00:00</td>\n",
       "      <td>1.86</td>\n",
       "      <td>0.580000</td>\n",
       "      <td>1.280000</td>\n",
       "    </tr>\n",
       "  </tbody>\n",
       "</table>\n",
       "</div>"
      ],
      "text/plain": [
       "   kwh_16  kwh_17  kwh_18             date_19  kwh_19  baseline  increment\n",
       "0    0.58    0.64    0.45 2019-02-12 00:00:00    1.98  0.556667   1.423333\n",
       "1    0.51    0.51    0.58 2019-02-12 01:00:00    1.92  0.533333   1.386667\n",
       "2    0.51    0.45    0.51 2019-02-12 02:00:00    1.92  0.490000   1.430000\n",
       "3    0.51    0.45    0.51 2019-02-12 03:00:00    1.86  0.490000   1.370000\n",
       "4    0.58    0.58    0.58 2019-02-12 04:00:00    1.86  0.580000   1.280000"
      ]
     },
     "execution_count": 65,
     "metadata": {},
     "output_type": "execute_result"
    }
   ],
   "source": [
    "four_years['increment']= (four_years.kwh_19 - four_years.baseline)\n",
    "four_years.head()"
   ]
  },
  {
   "cell_type": "code",
   "execution_count": 66,
   "metadata": {},
   "outputs": [
    {
     "data": {
      "image/png": "[encoded data removed]",
      "text/plain": [
       "<Figure size 432x288 with 1 Axes>"
      ]
     },
     "metadata": {
      "needs_background": "light"
     },
     "output_type": "display_data"
    }
   ],
   "source": [
    "plt.plot(four_years.baseline)\n",
    "plt.plot(four_years.increment)\n",
    "plt.show()"
   ]
  },
  {
   "cell_type": "code",
   "execution_count": 67,
   "metadata": {},
   "outputs": [
    {
     "data": {
      "text/html": [
       "<div>\n",
       "<style scoped>\n",
       "    .dataframe tbody tr th:only-of-type {\n",
       "        vertical-align: middle;\n",
       "    }\n",
       "\n",
       "    .dataframe tbody tr th {\n",
       "        vertical-align: top;\n",
       "    }\n",
       "\n",
       "    .dataframe thead th {\n",
       "        text-align: right;\n",
       "    }\n",
       "</style>\n",
       "<table border=\"1\" class=\"dataframe\">\n",
       "  <thead>\n",
       "    <tr style=\"text-align: right;\">\n",
       "      <th></th>\n",
       "      <th>kwh_16</th>\n",
       "      <th>kwh_17</th>\n",
       "      <th>kwh_18</th>\n",
       "      <th>date_19</th>\n",
       "      <th>kwh_19</th>\n",
       "      <th>baseline</th>\n",
       "      <th>increment</th>\n",
       "      <th>hour</th>\n",
       "      <th>weekday</th>\n",
       "    </tr>\n",
       "  </thead>\n",
       "  <tbody>\n",
       "    <tr>\n",
       "      <th>0</th>\n",
       "      <td>0.580</td>\n",
       "      <td>0.64</td>\n",
       "      <td>0.450</td>\n",
       "      <td>2019-02-12 00:00:00</td>\n",
       "      <td>1.980</td>\n",
       "      <td>0.556667</td>\n",
       "      <td>1.423333</td>\n",
       "      <td>0</td>\n",
       "      <td>Tuesday</td>\n",
       "    </tr>\n",
       "    <tr>\n",
       "      <th>1</th>\n",
       "      <td>0.510</td>\n",
       "      <td>0.51</td>\n",
       "      <td>0.580</td>\n",
       "      <td>2019-02-12 01:00:00</td>\n",
       "      <td>1.920</td>\n",
       "      <td>0.533333</td>\n",
       "      <td>1.386667</td>\n",
       "      <td>1</td>\n",
       "      <td>Tuesday</td>\n",
       "    </tr>\n",
       "    <tr>\n",
       "      <th>2</th>\n",
       "      <td>0.510</td>\n",
       "      <td>0.45</td>\n",
       "      <td>0.510</td>\n",
       "      <td>2019-02-12 02:00:00</td>\n",
       "      <td>1.920</td>\n",
       "      <td>0.490000</td>\n",
       "      <td>1.430000</td>\n",
       "      <td>2</td>\n",
       "      <td>Tuesday</td>\n",
       "    </tr>\n",
       "    <tr>\n",
       "      <th>3</th>\n",
       "      <td>0.510</td>\n",
       "      <td>0.45</td>\n",
       "      <td>0.510</td>\n",
       "      <td>2019-02-12 03:00:00</td>\n",
       "      <td>1.860</td>\n",
       "      <td>0.490000</td>\n",
       "      <td>1.370000</td>\n",
       "      <td>3</td>\n",
       "      <td>Tuesday</td>\n",
       "    </tr>\n",
       "    <tr>\n",
       "      <th>4</th>\n",
       "      <td>0.580</td>\n",
       "      <td>0.58</td>\n",
       "      <td>0.580</td>\n",
       "      <td>2019-02-12 04:00:00</td>\n",
       "      <td>1.860</td>\n",
       "      <td>0.580000</td>\n",
       "      <td>1.280000</td>\n",
       "      <td>4</td>\n",
       "      <td>Tuesday</td>\n",
       "    </tr>\n",
       "    <tr>\n",
       "      <th>5</th>\n",
       "      <td>0.960</td>\n",
       "      <td>0.45</td>\n",
       "      <td>1.020</td>\n",
       "      <td>2019-02-12 05:00:00</td>\n",
       "      <td>1.860</td>\n",
       "      <td>0.810000</td>\n",
       "      <td>1.050000</td>\n",
       "      <td>5</td>\n",
       "      <td>Tuesday</td>\n",
       "    </tr>\n",
       "    <tr>\n",
       "      <th>6</th>\n",
       "      <td>0.580</td>\n",
       "      <td>0.58</td>\n",
       "      <td>0.700</td>\n",
       "      <td>2019-02-12 06:00:00</td>\n",
       "      <td>2.880</td>\n",
       "      <td>0.620000</td>\n",
       "      <td>2.260000</td>\n",
       "      <td>6</td>\n",
       "      <td>Tuesday</td>\n",
       "    </tr>\n",
       "    <tr>\n",
       "      <th>7</th>\n",
       "      <td>0.510</td>\n",
       "      <td>0.45</td>\n",
       "      <td>0.830</td>\n",
       "      <td>2019-02-12 07:00:00</td>\n",
       "      <td>0.960</td>\n",
       "      <td>0.596667</td>\n",
       "      <td>0.363333</td>\n",
       "      <td>7</td>\n",
       "      <td>Tuesday</td>\n",
       "    </tr>\n",
       "    <tr>\n",
       "      <th>8</th>\n",
       "      <td>0.450</td>\n",
       "      <td>0.64</td>\n",
       "      <td>0.960</td>\n",
       "      <td>2019-02-12 08:00:00</td>\n",
       "      <td>1.020</td>\n",
       "      <td>0.683333</td>\n",
       "      <td>0.336667</td>\n",
       "      <td>8</td>\n",
       "      <td>Tuesday</td>\n",
       "    </tr>\n",
       "    <tr>\n",
       "      <th>9</th>\n",
       "      <td>0.450</td>\n",
       "      <td>0.90</td>\n",
       "      <td>0.380</td>\n",
       "      <td>2019-02-12 09:00:00</td>\n",
       "      <td>0.960</td>\n",
       "      <td>0.576667</td>\n",
       "      <td>0.383333</td>\n",
       "      <td>9</td>\n",
       "      <td>Tuesday</td>\n",
       "    </tr>\n",
       "    <tr>\n",
       "      <th>10</th>\n",
       "      <td>0.510</td>\n",
       "      <td>4.29</td>\n",
       "      <td>0.380</td>\n",
       "      <td>2019-02-12 10:00:00</td>\n",
       "      <td>1.280</td>\n",
       "      <td>1.726667</td>\n",
       "      <td>-0.446667</td>\n",
       "      <td>10</td>\n",
       "      <td>Tuesday</td>\n",
       "    </tr>\n",
       "    <tr>\n",
       "      <th>11</th>\n",
       "      <td>0.640</td>\n",
       "      <td>2.75</td>\n",
       "      <td>0.380</td>\n",
       "      <td>2019-02-12 11:00:00</td>\n",
       "      <td>1.790</td>\n",
       "      <td>1.256667</td>\n",
       "      <td>0.533333</td>\n",
       "      <td>11</td>\n",
       "      <td>Tuesday</td>\n",
       "    </tr>\n",
       "    <tr>\n",
       "      <th>12</th>\n",
       "      <td>0.960</td>\n",
       "      <td>1.09</td>\n",
       "      <td>0.380</td>\n",
       "      <td>2019-02-12 12:00:00</td>\n",
       "      <td>0.700</td>\n",
       "      <td>0.810000</td>\n",
       "      <td>-0.110000</td>\n",
       "      <td>12</td>\n",
       "      <td>Tuesday</td>\n",
       "    </tr>\n",
       "    <tr>\n",
       "      <th>13</th>\n",
       "      <td>0.830</td>\n",
       "      <td>1.09</td>\n",
       "      <td>0.320</td>\n",
       "      <td>2019-02-12 13:00:00</td>\n",
       "      <td>0.510</td>\n",
       "      <td>0.746667</td>\n",
       "      <td>-0.236667</td>\n",
       "      <td>13</td>\n",
       "      <td>Tuesday</td>\n",
       "    </tr>\n",
       "    <tr>\n",
       "      <th>14</th>\n",
       "      <td>0.896</td>\n",
       "      <td>1.60</td>\n",
       "      <td>0.576</td>\n",
       "      <td>2019-02-12 14:00:00</td>\n",
       "      <td>0.512</td>\n",
       "      <td>1.024000</td>\n",
       "      <td>-0.512000</td>\n",
       "      <td>14</td>\n",
       "      <td>Tuesday</td>\n",
       "    </tr>\n",
       "    <tr>\n",
       "      <th>15</th>\n",
       "      <td>0.900</td>\n",
       "      <td>2.18</td>\n",
       "      <td>0.510</td>\n",
       "      <td>2019-02-12 15:00:00</td>\n",
       "      <td>0.580</td>\n",
       "      <td>1.196667</td>\n",
       "      <td>-0.616667</td>\n",
       "      <td>15</td>\n",
       "      <td>Tuesday</td>\n",
       "    </tr>\n",
       "    <tr>\n",
       "      <th>16</th>\n",
       "      <td>0.830</td>\n",
       "      <td>0.77</td>\n",
       "      <td>0.510</td>\n",
       "      <td>2019-02-12 16:00:00</td>\n",
       "      <td>0.510</td>\n",
       "      <td>0.703333</td>\n",
       "      <td>-0.193333</td>\n",
       "      <td>16</td>\n",
       "      <td>Tuesday</td>\n",
       "    </tr>\n",
       "    <tr>\n",
       "      <th>17</th>\n",
       "      <td>0.830</td>\n",
       "      <td>0.64</td>\n",
       "      <td>0.450</td>\n",
       "      <td>2019-02-12 17:00:00</td>\n",
       "      <td>1.020</td>\n",
       "      <td>0.640000</td>\n",
       "      <td>0.380000</td>\n",
       "      <td>17</td>\n",
       "      <td>Tuesday</td>\n",
       "    </tr>\n",
       "    <tr>\n",
       "      <th>18</th>\n",
       "      <td>1.020</td>\n",
       "      <td>0.58</td>\n",
       "      <td>0.640</td>\n",
       "      <td>2019-02-12 18:00:00</td>\n",
       "      <td>8.700</td>\n",
       "      <td>0.746667</td>\n",
       "      <td>7.953333</td>\n",
       "      <td>18</td>\n",
       "      <td>Tuesday</td>\n",
       "    </tr>\n",
       "    <tr>\n",
       "      <th>19</th>\n",
       "      <td>1.410</td>\n",
       "      <td>0.83</td>\n",
       "      <td>2.110</td>\n",
       "      <td>2019-02-12 19:00:00</td>\n",
       "      <td>4.420</td>\n",
       "      <td>1.450000</td>\n",
       "      <td>2.970000</td>\n",
       "      <td>19</td>\n",
       "      <td>Tuesday</td>\n",
       "    </tr>\n",
       "  </tbody>\n",
       "</table>\n",
       "</div>"
      ],
      "text/plain": [
       "    kwh_16  kwh_17  kwh_18             date_19  kwh_19  baseline  increment  \\\n",
       "0    0.580    0.64   0.450 2019-02-12 00:00:00   1.980  0.556667   1.423333   \n",
       "1    0.510    0.51   0.580 2019-02-12 01:00:00   1.920  0.533333   1.386667   \n",
       "2    0.510    0.45   0.510 2019-02-12 02:00:00   1.920  0.490000   1.430000   \n",
       "3    0.510    0.45   0.510 2019-02-12 03:00:00   1.860  0.490000   1.370000   \n",
       "4    0.580    0.58   0.580 2019-02-12 04:00:00   1.860  0.580000   1.280000   \n",
       "5    0.960    0.45   1.020 2019-02-12 05:00:00   1.860  0.810000   1.050000   \n",
       "6    0.580    0.58   0.700 2019-02-12 06:00:00   2.880  0.620000   2.260000   \n",
       "7    0.510    0.45   0.830 2019-02-12 07:00:00   0.960  0.596667   0.363333   \n",
       "8    0.450    0.64   0.960 2019-02-12 08:00:00   1.020  0.683333   0.336667   \n",
       "9    0.450    0.90   0.380 2019-02-12 09:00:00   0.960  0.576667   0.383333   \n",
       "10   0.510    4.29   0.380 2019-02-12 10:00:00   1.280  1.726667  -0.446667   \n",
       "11   0.640    2.75   0.380 2019-02-12 11:00:00   1.790  1.256667   0.533333   \n",
       "12   0.960    1.09   0.380 2019-02-12 12:00:00   0.700  0.810000  -0.110000   \n",
       "13   0.830    1.09   0.320 2019-02-12 13:00:00   0.510  0.746667  -0.236667   \n",
       "14   0.896    1.60   0.576 2019-02-12 14:00:00   0.512  1.024000  -0.512000   \n",
       "15   0.900    2.18   0.510 2019-02-12 15:00:00   0.580  1.196667  -0.616667   \n",
       "16   0.830    0.77   0.510 2019-02-12 16:00:00   0.510  0.703333  -0.193333   \n",
       "17   0.830    0.64   0.450 2019-02-12 17:00:00   1.020  0.640000   0.380000   \n",
       "18   1.020    0.58   0.640 2019-02-12 18:00:00   8.700  0.746667   7.953333   \n",
       "19   1.410    0.83   2.110 2019-02-12 19:00:00   4.420  1.450000   2.970000   \n",
       "\n",
       "    hour  weekday  \n",
       "0      0  Tuesday  \n",
       "1      1  Tuesday  \n",
       "2      2  Tuesday  \n",
       "3      3  Tuesday  \n",
       "4      4  Tuesday  \n",
       "5      5  Tuesday  \n",
       "6      6  Tuesday  \n",
       "7      7  Tuesday  \n",
       "8      8  Tuesday  \n",
       "9      9  Tuesday  \n",
       "10    10  Tuesday  \n",
       "11    11  Tuesday  \n",
       "12    12  Tuesday  \n",
       "13    13  Tuesday  \n",
       "14    14  Tuesday  \n",
       "15    15  Tuesday  \n",
       "16    16  Tuesday  \n",
       "17    17  Tuesday  \n",
       "18    18  Tuesday  \n",
       "19    19  Tuesday  "
      ]
     },
     "execution_count": 67,
     "metadata": {},
     "output_type": "execute_result"
    }
   ],
   "source": [
    "four_years['hour']= four_years.date_19.dt.hour\n",
    "four_years['weekday']= four_years.date_19.dt.weekday_name  # weekday to exlore if weekend charging during the day\n",
    "# dft['weekday']= dft.date.dt.weekday_name\n",
    "four_years.head(20)"
   ]
  },
  {
   "cell_type": "code",
   "execution_count": 68,
   "metadata": {},
   "outputs": [
    {
     "data": {
      "text/plain": [
       "Text(0.5, 0, 'Difference in kwh')"
      ]
     },
     "execution_count": 68,
     "metadata": {},
     "output_type": "execute_result"
    },
    {
     "data": {
      "image/png": "[encoded data removed]",
      "text/plain": [
       "<Figure size 432x288 with 1 Axes>"
      ]
     },
     "metadata": {
      "needs_background": "light"
     },
     "output_type": "display_data"
    }
   ],
   "source": [
    "plt.hist(four_years.increment, bins=24, density= True)\n",
    "plt.title('Histogram of Hourly Difference from Baseline')\n",
    "plt.xlabel('Difference in kwh')\n",
    "# NB Symmetric Distribution centered around zero is likely just random.\n",
    "# We should therefore look at the most common hours for when the difference (aka 'increment') is more than 2."
   ]
  },
  {
   "cell_type": "code",
   "execution_count": 69,
   "metadata": {},
   "outputs": [
    {
     "data": {
      "text/html": [
       "<div>\n",
       "<style scoped>\n",
       "    .dataframe tbody tr th:only-of-type {\n",
       "        vertical-align: middle;\n",
       "    }\n",
       "\n",
       "    .dataframe tbody tr th {\n",
       "        vertical-align: top;\n",
       "    }\n",
       "\n",
       "    .dataframe thead th {\n",
       "        text-align: right;\n",
       "    }\n",
       "</style>\n",
       "<table border=\"1\" class=\"dataframe\">\n",
       "  <thead>\n",
       "    <tr style=\"text-align: right;\">\n",
       "      <th></th>\n",
       "      <th>kwh_16</th>\n",
       "      <th>kwh_17</th>\n",
       "      <th>kwh_18</th>\n",
       "      <th>date_19</th>\n",
       "      <th>kwh_19</th>\n",
       "      <th>baseline</th>\n",
       "      <th>increment</th>\n",
       "      <th>hour</th>\n",
       "      <th>weekday</th>\n",
       "    </tr>\n",
       "  </thead>\n",
       "  <tbody>\n",
       "    <tr>\n",
       "      <th>6</th>\n",
       "      <td>0.58</td>\n",
       "      <td>0.58</td>\n",
       "      <td>0.70</td>\n",
       "      <td>2019-02-12 06:00:00</td>\n",
       "      <td>2.88</td>\n",
       "      <td>0.620000</td>\n",
       "      <td>2.260000</td>\n",
       "      <td>6</td>\n",
       "      <td>Tuesday</td>\n",
       "    </tr>\n",
       "    <tr>\n",
       "      <th>18</th>\n",
       "      <td>1.02</td>\n",
       "      <td>0.58</td>\n",
       "      <td>0.64</td>\n",
       "      <td>2019-02-12 18:00:00</td>\n",
       "      <td>8.70</td>\n",
       "      <td>0.746667</td>\n",
       "      <td>7.953333</td>\n",
       "      <td>18</td>\n",
       "      <td>Tuesday</td>\n",
       "    </tr>\n",
       "    <tr>\n",
       "      <th>19</th>\n",
       "      <td>1.41</td>\n",
       "      <td>0.83</td>\n",
       "      <td>2.11</td>\n",
       "      <td>2019-02-12 19:00:00</td>\n",
       "      <td>4.42</td>\n",
       "      <td>1.450000</td>\n",
       "      <td>2.970000</td>\n",
       "      <td>19</td>\n",
       "      <td>Tuesday</td>\n",
       "    </tr>\n",
       "    <tr>\n",
       "      <th>20</th>\n",
       "      <td>3.97</td>\n",
       "      <td>1.92</td>\n",
       "      <td>0.64</td>\n",
       "      <td>2019-02-12 20:00:00</td>\n",
       "      <td>8.13</td>\n",
       "      <td>2.176667</td>\n",
       "      <td>5.953333</td>\n",
       "      <td>20</td>\n",
       "      <td>Tuesday</td>\n",
       "    </tr>\n",
       "    <tr>\n",
       "      <th>21</th>\n",
       "      <td>1.02</td>\n",
       "      <td>0.58</td>\n",
       "      <td>0.77</td>\n",
       "      <td>2019-02-12 21:00:00</td>\n",
       "      <td>8.58</td>\n",
       "      <td>0.790000</td>\n",
       "      <td>7.790000</td>\n",
       "      <td>21</td>\n",
       "      <td>Tuesday</td>\n",
       "    </tr>\n",
       "  </tbody>\n",
       "</table>\n",
       "</div>"
      ],
      "text/plain": [
       "    kwh_16  kwh_17  kwh_18             date_19  kwh_19  baseline  increment  \\\n",
       "6     0.58    0.58    0.70 2019-02-12 06:00:00    2.88  0.620000   2.260000   \n",
       "18    1.02    0.58    0.64 2019-02-12 18:00:00    8.70  0.746667   7.953333   \n",
       "19    1.41    0.83    2.11 2019-02-12 19:00:00    4.42  1.450000   2.970000   \n",
       "20    3.97    1.92    0.64 2019-02-12 20:00:00    8.13  2.176667   5.953333   \n",
       "21    1.02    0.58    0.77 2019-02-12 21:00:00    8.58  0.790000   7.790000   \n",
       "\n",
       "    hour  weekday  \n",
       "6      6  Tuesday  \n",
       "18    18  Tuesday  \n",
       "19    19  Tuesday  \n",
       "20    20  Tuesday  \n",
       "21    21  Tuesday  "
      ]
     },
     "execution_count": 69,
     "metadata": {},
     "output_type": "execute_result"
    }
   ],
   "source": [
    "big_difference= four_years[four_years.increment > 2]\n",
    "big_difference.head()"
   ]
  },
  {
   "cell_type": "code",
   "execution_count": 70,
   "metadata": {},
   "outputs": [
    {
     "data": {
      "text/plain": [
       "Text(0.5, 0, 'Difference in kwh')"
      ]
     },
     "execution_count": 70,
     "metadata": {},
     "output_type": "execute_result"
    },
    {
     "data": {
      "image/png": "[encoded data removed]",
      "text/plain": [
       "<Figure size 432x288 with 1 Axes>"
      ]
     },
     "metadata": {
      "needs_background": "light"
     },
     "output_type": "display_data"
    }
   ],
   "source": [
    "plt.hist(big_difference.increment, bins=24, density= True)\n",
    "plt.title('Histogram of Hourly Difference from Baseline when > 2')\n",
    "plt.xlabel('Difference in kwh')"
   ]
  },
  {
   "cell_type": "code",
   "execution_count": 71,
   "metadata": {},
   "outputs": [],
   "source": [
    "gh= big_difference.groupby('hour')"
   ]
  },
  {
   "cell_type": "code",
   "execution_count": 72,
   "metadata": {},
   "outputs": [
    {
     "name": "stdout",
     "output_type": "stream",
     "text": [
      "hour\n",
      "0     6.636667\n",
      "1     7.873333\n",
      "6     2.260000\n",
      "7     2.264000\n",
      "8     3.646000\n",
      "9     4.857778\n",
      "10    4.536500\n",
      "11    4.118667\n",
      "12    4.461250\n",
      "13    4.830952\n",
      "14    5.340667\n",
      "15    4.454167\n",
      "16    3.841250\n",
      "17    4.559697\n",
      "18    5.936667\n",
      "19    4.696842\n",
      "20    5.456275\n",
      "21    4.540000\n",
      "22    5.697778\n",
      "23    4.283333\n",
      "Name: increment, dtype: float64\n"
     ]
    },
    {
     "data": {
      "text/plain": [
       "<BarContainer object of 20 artists>"
      ]
     },
     "execution_count": 72,
     "metadata": {},
     "output_type": "execute_result"
    },
    {
     "data": {
      "image/png": "[encoded data removed]",
      "text/plain": [
       "<Figure size 432x288 with 1 Axes>"
      ]
     },
     "metadata": {
      "needs_background": "light"
     },
     "output_type": "display_data"
    }
   ],
   "source": [
    "gh.mean()\n",
    "print(gh.increment.mean())\n",
    "# VERY INTERESTING THAT NO COUNTS FOR HOURS 2,3,4,5!!! CHARGING PRESUMABLY COMPLETED BY THEN??\n",
    "# possibly bi-modal: hours 0 & 1 are highest, hours 6pm & 10pm are the next most common.\n",
    "# matplotlib.pyplot.bar(x, height, width=0.8, bottom=None, *, align='center', data=None, **kwargs)[source]\n",
    "plt.bar(gh.increment.mean(), height= 10)\n",
    "#plt.plot(gh.increment.mean())\n",
    "# DWW look at .sum() to give total additional \n",
    "# FAILED BAR PLOT ATTEMPT!!!\n"
   ]
  },
  {
   "cell_type": "code",
   "execution_count": 73,
   "metadata": {},
   "outputs": [
    {
     "name": "stdout",
     "output_type": "stream",
     "text": [
      "weekday\n",
      "Friday       4.816174\n",
      "Monday       4.368540\n",
      "Saturday     4.634540\n",
      "Sunday       4.150080\n",
      "Thursday     5.361111\n",
      "Tuesday      4.517733\n",
      "Wednesday    4.951485\n",
      "Name: increment, dtype: float64\n"
     ]
    },
    {
     "data": {
      "text/plain": [
       "[<matplotlib.lines.Line2D at 0x1a1f5218d0>]"
      ]
     },
     "execution_count": 73,
     "metadata": {},
     "output_type": "execute_result"
    },
    {
     "data": {
      "image/png": "[encoded data removed]",
      "text/plain": [
       "<Figure size 432x288 with 1 Axes>"
      ]
     },
     "metadata": {
      "needs_background": "light"
     },
     "output_type": "display_data"
    }
   ],
   "source": [
    "gw= big_difference.groupby('weekday')\n",
    "print(gw.increment.mean())\n",
    "plt.plot(gw.increment.mean())  # make days properly continuous by making 'weekday' an ordered categorical variable !?\n",
    "# The observed differences could just be random: no evidence of high Weekend charging: Sunday is the lowest day."
   ]
  },
  {
   "cell_type": "code",
   "execution_count": null,
   "metadata": {},
   "outputs": [],
   "source": []
  },
  {
   "cell_type": "code",
   "execution_count": null,
   "metadata": {},
   "outputs": [],
   "source": []
  },
  {
   "cell_type": "code",
   "execution_count": null,
   "metadata": {},
   "outputs": [],
   "source": []
  },
  {
   "cell_type": "code",
   "execution_count": null,
   "metadata": {},
   "outputs": [],
   "source": []
  },
  {
   "cell_type": "code",
   "execution_count": null,
   "metadata": {},
   "outputs": [],
   "source": []
  },
  {
   "cell_type": "code",
   "execution_count": null,
   "metadata": {},
   "outputs": [],
   "source": []
  },
  {
   "cell_type": "code",
   "execution_count": null,
   "metadata": {},
   "outputs": [],
   "source": []
  },
  {
   "cell_type": "code",
   "execution_count": 74,
   "metadata": {},
   "outputs": [],
   "source": [
    "g= four_years.groupby('hour')"
   ]
  },
  {
   "cell_type": "code",
   "execution_count": 75,
   "metadata": {},
   "outputs": [
    {
     "data": {
      "image/png": "[encoded data removed]",
      "text/plain": [
       "<Figure size 432x288 with 1 Axes>"
      ]
     },
     "metadata": {
      "needs_background": "light"
     },
     "output_type": "display_data"
    }
   ],
   "source": [
    "g.baseline.mean()\n",
    "plt.plot(g.baseline.mean())\n",
    "plt.plot(g.increment.mean())\n",
    "plt.plot( g.baseline.mean() + g.increment.mean())\n",
    "\n",
    "plt.show()\n",
    "# DWW MUCH BETTER TO DO THIS AS A STACKED BAR CHART????"
   ]
  },
  {
   "cell_type": "code",
   "execution_count": 76,
   "metadata": {},
   "outputs": [
    {
     "name": "stdout",
     "output_type": "stream",
     "text": [
      "hour\n",
      "0     0.484571\n",
      "1     0.508000\n",
      "2     0.493524\n",
      "3     0.519714\n",
      "4     0.554000\n",
      "5     0.689810\n",
      "6     0.780476\n",
      "7     0.725029\n",
      "8     0.726476\n",
      "9     0.823905\n",
      "10    1.002267\n",
      "11    0.987143\n",
      "12    0.959619\n",
      "13    0.849524\n",
      "14    0.921105\n",
      "15    1.025048\n",
      "16    0.895619\n",
      "17    0.853810\n",
      "18    0.930667\n",
      "19    1.046667\n",
      "20    0.951714\n",
      "21    0.808857\n",
      "22    0.625333\n",
      "23    0.523619\n",
      "Name: baseline, dtype: float64\n",
      "hour\n",
      "0     0.304286\n",
      "1     0.298571\n",
      "2     0.102476\n",
      "3     0.064000\n",
      "4     0.008857\n",
      "5     0.021905\n",
      "6     0.118095\n",
      "7     0.555543\n",
      "8     0.579810\n",
      "9     0.380667\n",
      "10    0.786305\n",
      "11    1.739429\n",
      "12    2.016952\n",
      "13    0.970190\n",
      "14    0.287581\n",
      "15    1.351810\n",
      "16    1.958952\n",
      "17    1.529905\n",
      "18    2.260190\n",
      "19    2.665619\n",
      "20    2.798571\n",
      "21    0.935143\n",
      "22    0.574381\n",
      "23    0.211810\n",
      "Name: increment, dtype: float64\n"
     ]
    }
   ],
   "source": [
    "print(g.baseline.mean())\n",
    "print(g.increment.mean())"
   ]
  },
  {
   "cell_type": "code",
   "execution_count": null,
   "metadata": {},
   "outputs": [],
   "source": []
  },
  {
   "cell_type": "code",
   "execution_count": null,
   "metadata": {},
   "outputs": [],
   "source": []
  },
  {
   "cell_type": "code",
   "execution_count": 77,
   "metadata": {},
   "outputs": [
    {
     "name": "stdout",
     "output_type": "stream",
     "text": [
      "<class 'pandas.core.frame.DataFrame'>\n",
      "DatetimeIndex: 8760 entries, 2017-01-01 00:00:00 to 2017-12-31 23:00:00\n",
      "Data columns (total 5 columns):\n",
      "hour       8760 non-null category\n",
      "kwh        8760 non-null float64\n",
      "weekday    8760 non-null category\n",
      "month      8760 non-null category\n",
      "year       8760 non-null category\n",
      "dtypes: category(4), float64(1)\n",
      "memory usage: 173.1 KB\n"
     ]
    },
    {
     "data": {
      "text/html": [
       "<div>\n",
       "<style scoped>\n",
       "    .dataframe tbody tr th:only-of-type {\n",
       "        vertical-align: middle;\n",
       "    }\n",
       "\n",
       "    .dataframe tbody tr th {\n",
       "        vertical-align: top;\n",
       "    }\n",
       "\n",
       "    .dataframe thead th {\n",
       "        text-align: right;\n",
       "    }\n",
       "</style>\n",
       "<table border=\"1\" class=\"dataframe\">\n",
       "  <thead>\n",
       "    <tr style=\"text-align: right;\">\n",
       "      <th></th>\n",
       "      <th>hour</th>\n",
       "      <th>kwh</th>\n",
       "      <th>weekday</th>\n",
       "      <th>month</th>\n",
       "      <th>year</th>\n",
       "    </tr>\n",
       "    <tr>\n",
       "      <th>date</th>\n",
       "      <th></th>\n",
       "      <th></th>\n",
       "      <th></th>\n",
       "      <th></th>\n",
       "      <th></th>\n",
       "    </tr>\n",
       "  </thead>\n",
       "  <tbody>\n",
       "    <tr>\n",
       "      <th>2017-01-01 00:00:00</th>\n",
       "      <td>00</td>\n",
       "      <td>0.51</td>\n",
       "      <td>Sunday</td>\n",
       "      <td>1</td>\n",
       "      <td>2017</td>\n",
       "    </tr>\n",
       "    <tr>\n",
       "      <th>2017-01-01 01:00:00</th>\n",
       "      <td>01</td>\n",
       "      <td>0.51</td>\n",
       "      <td>Sunday</td>\n",
       "      <td>1</td>\n",
       "      <td>2017</td>\n",
       "    </tr>\n",
       "    <tr>\n",
       "      <th>2017-01-01 02:00:00</th>\n",
       "      <td>02</td>\n",
       "      <td>0.45</td>\n",
       "      <td>Sunday</td>\n",
       "      <td>1</td>\n",
       "      <td>2017</td>\n",
       "    </tr>\n",
       "    <tr>\n",
       "      <th>2017-01-01 03:00:00</th>\n",
       "      <td>03</td>\n",
       "      <td>0.51</td>\n",
       "      <td>Sunday</td>\n",
       "      <td>1</td>\n",
       "      <td>2017</td>\n",
       "    </tr>\n",
       "    <tr>\n",
       "      <th>2017-01-01 04:00:00</th>\n",
       "      <td>04</td>\n",
       "      <td>0.45</td>\n",
       "      <td>Sunday</td>\n",
       "      <td>1</td>\n",
       "      <td>2017</td>\n",
       "    </tr>\n",
       "  </tbody>\n",
       "</table>\n",
       "</div>"
      ],
      "text/plain": [
       "                    hour   kwh weekday month  year\n",
       "date                                              \n",
       "2017-01-01 00:00:00   00  0.51  Sunday     1  2017\n",
       "2017-01-01 01:00:00   01  0.51  Sunday     1  2017\n",
       "2017-01-01 02:00:00   02  0.45  Sunday     1  2017\n",
       "2017-01-01 03:00:00   03  0.51  Sunday     1  2017\n",
       "2017-01-01 04:00:00   04  0.45  Sunday     1  2017"
      ]
     },
     "execution_count": 77,
     "metadata": {},
     "output_type": "execute_result"
    }
   ],
   "source": [
    "df_17= dft[dft.year== 2017]\n",
    "df_17.info()\n",
    "df_17.head()"
   ]
  },
  {
   "cell_type": "code",
   "execution_count": 78,
   "metadata": {},
   "outputs": [
    {
     "name": "stdout",
     "output_type": "stream",
     "text": [
      "                            OLS Regression Results                            \n",
      "==============================================================================\n",
      "Dep. Variable:                    kwh   R-squared:                       0.182\n",
      "Model:                            OLS   Adj. R-squared:                  0.178\n",
      "Method:                 Least Squares   F-statistic:                     48.43\n",
      "Date:                Fri, 22 Mar 2019   Prob (F-statistic):               0.00\n",
      "Time:                        18:06:38   Log-Likelihood:                -9604.8\n",
      "No. Observations:                8760   AIC:                         1.929e+04\n",
      "Df Residuals:                    8719   BIC:                         1.958e+04\n",
      "Df Model:                          40                                         \n",
      "Covariance Type:            nonrobust                                         \n",
      "========================================================================================\n",
      "                           coef    std err          t      P>|t|      [0.025      0.975]\n",
      "----------------------------------------------------------------------------------------\n",
      "Intercept            -8.945e+10   4.61e+11     -0.194      0.846   -9.92e+11    8.13e+11\n",
      "hour[T.01]              -0.0345      0.058     -0.600      0.549      -0.147       0.078\n",
      "hour[T.02]              -0.0550      0.057     -0.966      0.334      -0.167       0.057\n",
      "hour[T.03]              -0.0560      0.054     -1.038      0.299      -0.162       0.050\n",
      "hour[T.04]              -0.0705      0.057     -1.239      0.215      -0.182       0.041\n",
      "hour[T.05]               0.0102      0.057      0.179      0.858      -0.102       0.122\n",
      "hour[T.06]               0.1983      0.054      3.655      0.000       0.092       0.305\n",
      "hour[T.07]               0.1483      0.054      2.724      0.006       0.042       0.255\n",
      "hour[T.08]               0.3076      0.054      5.723      0.000       0.202       0.413\n",
      "hour[T.09]               0.4164      0.054      7.747      0.000       0.311       0.522\n",
      "hour[T.10]               0.4953      0.054      9.216      0.000       0.390       0.601\n",
      "hour[T.11]               0.4668      0.054      8.685      0.000       0.361       0.572\n",
      "hour[T.12]               0.4978      0.054      9.262      0.000       0.392       0.603\n",
      "hour[T.13]               0.5372      0.054      9.996      0.000       0.432       0.643\n",
      "hour[T.14]               0.6124      0.054     11.394      0.000       0.507       0.718\n",
      "hour[T.15]               0.7500      0.054     13.955      0.000       0.645       0.855\n",
      "hour[T.16]               0.6183      0.054     11.503      0.000       0.513       0.724\n",
      "hour[T.17]               0.6490      0.054     12.076      0.000       0.544       0.754\n",
      "hour[T.18]               0.7382      0.054     13.735      0.000       0.633       0.844\n",
      "hour[T.19]               0.7336      0.054     13.649      0.000       0.628       0.839\n",
      "hour[T.20]               0.6827      0.054     12.702      0.000       0.577       0.788\n",
      "hour[T.21]               0.6972      0.054     12.971      0.000       0.592       0.803\n",
      "hour[T.22]               0.4817      0.054      8.962      0.000       0.376       0.587\n",
      "hour[T.23]               0.1648      0.054      3.066      0.002       0.059       0.270\n",
      "weekday[T.Monday]       -0.0866      0.029     -2.975      0.003      -0.144      -0.030\n",
      "weekday[T.Saturday]     -0.0321      0.029     -1.103      0.270      -0.089       0.025\n",
      "weekday[T.Sunday]        0.0292      0.029      1.007      0.314      -0.028       0.086\n",
      "weekday[T.Thursday]      0.0309      0.029      1.063      0.288      -0.026       0.088\n",
      "weekday[T.Tuesday]      -0.1329      0.029     -4.567      0.000      -0.190      -0.076\n",
      "weekday[T.Wednesday]     0.0714      0.029      2.453      0.014       0.014       0.128\n",
      "month[T.2]              -0.0357      0.039     -0.924      0.355      -0.112       0.040\n",
      "month[T.3]              -0.0955      0.038     -2.534      0.011      -0.169      -0.022\n",
      "month[T.4]              -0.1522      0.038     -4.008      0.000      -0.227      -0.078\n",
      "month[T.5]              -0.1133      0.038     -3.008      0.003      -0.187      -0.039\n",
      "month[T.6]               0.2403      0.038      6.325      0.000       0.166       0.315\n",
      "month[T.7]               0.3758      0.038      9.979      0.000       0.302       0.450\n",
      "month[T.8]               0.1950      0.038      5.177      0.000       0.121       0.269\n",
      "month[T.9]               0.2240      0.038      5.897      0.000       0.150       0.298\n",
      "month[T.10]              0.0353      0.038      0.937      0.349      -0.039       0.109\n",
      "month[T.11]              0.1838      0.038      4.837      0.000       0.109       0.258\n",
      "month[T.12]              0.2837      0.038      7.532      0.000       0.210       0.358\n",
      "year[T.2012]                  0          0        nan        nan           0           0\n",
      "year[T.2013]                  0          0        nan        nan           0           0\n",
      "year[T.2014]                  0          0        nan        nan           0           0\n",
      "year[T.2015]                  0          0        nan        nan           0           0\n",
      "year[T.2016]                  0          0        nan        nan           0           0\n",
      "year[T.2017]          8.945e+10   4.61e+11      0.194      0.846   -8.13e+11    9.92e+11\n",
      "year[T.2018]                  0          0        nan        nan           0           0\n",
      "year[T.2019]                  0          0        nan        nan           0           0\n",
      "==============================================================================\n",
      "Omnibus:                     4036.211   Durbin-Watson:                   1.104\n",
      "Prob(Omnibus):                  0.000   Jarque-Bera (JB):            22367.192\n",
      "Skew:                           2.193   Prob(JB):                         0.00\n",
      "Kurtosis:                       9.484   Cond. No.                     1.35e+16\n",
      "==============================================================================\n",
      "\n",
      "Warnings:\n",
      "[1] Standard Errors assume that the covariance matrix of the errors is correctly specified.\n",
      "[2] The smallest eigenvalue is 1.08e-28. This might indicate that there are\n",
      "strong multicollinearity problems or that the design matrix is singular.\n"
     ]
    },
    {
     "name": "stderr",
     "output_type": "stream",
     "text": [
      "/anaconda3/lib/python3.7/site-packages/statsmodels/base/model.py:1100: RuntimeWarning: invalid value encountered in true_divide\n",
      "  return self.params / self.bse\n",
      "/anaconda3/lib/python3.7/site-packages/scipy/stats/_distn_infrastructure.py:879: RuntimeWarning: invalid value encountered in greater\n",
      "  return (self.a < x) & (x < self.b)\n",
      "/anaconda3/lib/python3.7/site-packages/scipy/stats/_distn_infrastructure.py:879: RuntimeWarning: invalid value encountered in less\n",
      "  return (self.a < x) & (x < self.b)\n",
      "/anaconda3/lib/python3.7/site-packages/scipy/stats/_distn_infrastructure.py:1821: RuntimeWarning: invalid value encountered in less_equal\n",
      "  cond2 = cond0 & (x <= self.a)\n"
     ]
    }
   ],
   "source": [
    "import statsmodels.api as sm\n",
    "from statsmodels.formula.api import ols\n",
    "m= ols(formula= 'kwh ~ hour + weekday + month + year', data= df_17).fit()  # .fit() already done (chained)\n",
    "\n",
    "print(m.summary())"
   ]
  },
  {
   "cell_type": "code",
   "execution_count": 79,
   "metadata": {},
   "outputs": [],
   "source": [
    "df_16= dft[dft.year== 2016]"
   ]
  },
  {
   "cell_type": "code",
   "execution_count": 80,
   "metadata": {},
   "outputs": [
    {
     "name": "stdout",
     "output_type": "stream",
     "text": [
      "                            OLS Regression Results                            \n",
      "==============================================================================\n",
      "Dep. Variable:                    kwh   R-squared:                       0.207\n",
      "Model:                            OLS   Adj. R-squared:                  0.203\n",
      "Method:                 Least Squares   F-statistic:                     56.73\n",
      "Date:                Fri, 22 Mar 2019   Prob (F-statistic):               0.00\n",
      "Time:                        18:06:39   Log-Likelihood:                -8742.7\n",
      "No. Observations:                8756   AIC:                         1.757e+04\n",
      "Df Residuals:                    8715   BIC:                         1.786e+04\n",
      "Df Model:                          40                                         \n",
      "Covariance Type:            nonrobust                                         \n",
      "========================================================================================\n",
      "                           coef    std err          t      P>|t|      [0.025      0.975]\n",
      "----------------------------------------------------------------------------------------\n",
      "Intercept            -1.462e+11   2.39e+12     -0.061      0.951   -4.84e+12    4.55e+12\n",
      "hour[T.01]              -0.0591      0.049     -1.206      0.228      -0.155       0.037\n",
      "hour[T.02]              -0.0631      0.049     -1.285      0.199      -0.159       0.033\n",
      "hour[T.03]              -0.0569      0.051     -1.122      0.262      -0.156       0.043\n",
      "hour[T.04]              -0.0731      0.050     -1.467      0.142      -0.171       0.025\n",
      "hour[T.05]               0.0434      0.052      0.836      0.403      -0.058       0.145\n",
      "hour[T.06]               0.1459      0.055      2.653      0.008       0.038       0.254\n",
      "hour[T.07]               0.1053      0.049      2.147      0.032       0.009       0.201\n",
      "hour[T.08]               0.2110      0.049      4.329      0.000       0.115       0.306\n",
      "hour[T.09]               0.3334      0.049      6.841      0.000       0.238       0.429\n",
      "hour[T.10]               0.3756      0.049      7.707      0.000       0.280       0.471\n",
      "hour[T.11]               0.4201      0.049      8.627      0.000       0.325       0.516\n",
      "hour[T.12]               0.6324      0.049     12.986      0.000       0.537       0.728\n",
      "hour[T.13]               0.4925      0.049     10.114      0.000       0.397       0.588\n",
      "hour[T.14]               0.5144      0.049     10.563      0.000       0.419       0.610\n",
      "hour[T.15]               0.6127      0.049     12.583      0.000       0.517       0.708\n",
      "hour[T.16]               0.5561      0.049     11.420      0.000       0.461       0.652\n",
      "hour[T.17]               0.5449      0.049     11.190      0.000       0.449       0.640\n",
      "hour[T.18]               0.5396      0.049     11.081      0.000       0.444       0.635\n",
      "hour[T.19]               0.7604      0.049     15.583      0.000       0.665       0.856\n",
      "hour[T.20]               0.9119      0.049     18.689      0.000       0.816       1.008\n",
      "hour[T.21]               0.6286      0.049     12.882      0.000       0.533       0.724\n",
      "hour[T.22]               0.3842      0.049      7.880      0.000       0.289       0.480\n",
      "hour[T.23]               0.1383      0.049      2.840      0.005       0.043       0.234\n",
      "weekday[T.Monday]       -0.1779      0.026     -6.753      0.000      -0.230      -0.126\n",
      "weekday[T.Saturday]     -0.0593      0.026     -2.268      0.023      -0.110      -0.008\n",
      "weekday[T.Sunday]        0.0300      0.026      1.142      0.254      -0.022       0.082\n",
      "weekday[T.Thursday]     -0.1252      0.026     -4.770      0.000      -0.177      -0.074\n",
      "weekday[T.Tuesday]      -0.1890      0.026     -7.196      0.000      -0.240      -0.138\n",
      "weekday[T.Wednesday]    -0.0448      0.026     -1.705      0.088      -0.096       0.007\n",
      "month[T.2]               0.0034      0.035      0.096      0.923      -0.065       0.072\n",
      "month[T.3]              -0.1470      0.034     -4.285      0.000      -0.214      -0.080\n",
      "month[T.4]              -0.1665      0.034     -4.827      0.000      -0.234      -0.099\n",
      "month[T.5]              -0.0858      0.034     -2.507      0.012      -0.153      -0.019\n",
      "month[T.6]               0.1766      0.035      5.118      0.000       0.109       0.244\n",
      "month[T.7]               0.3052      0.034      8.922      0.000       0.238       0.372\n",
      "month[T.8]               0.3118      0.034      9.110      0.000       0.245       0.379\n",
      "month[T.9]               0.1268      0.035      3.661      0.000       0.059       0.195\n",
      "month[T.10]             -0.1224      0.034     -3.577      0.000      -0.189      -0.055\n",
      "month[T.11]             -0.0351      0.035     -1.018      0.309      -0.103       0.033\n",
      "month[T.12]              0.0718      0.034      2.098      0.036       0.005       0.139\n",
      "year[T.2012]                  0          0        nan        nan           0           0\n",
      "year[T.2013]                  0          0        nan        nan           0           0\n",
      "year[T.2014]                  0          0        nan        nan           0           0\n",
      "year[T.2015]                  0          0        nan        nan           0           0\n",
      "year[T.2016]          1.462e+11   2.39e+12      0.061      0.951   -4.55e+12    4.84e+12\n",
      "year[T.2017]                  0          0        nan        nan           0           0\n",
      "year[T.2018]                  0          0        nan        nan           0           0\n",
      "year[T.2019]                  0          0        nan        nan           0           0\n",
      "==============================================================================\n",
      "Omnibus:                     4514.789   Durbin-Watson:                   1.233\n",
      "Prob(Omnibus):                  0.000   Jarque-Bera (JB):            32002.207\n",
      "Skew:                           2.409   Prob(JB):                         0.00\n",
      "Kurtosis:                      11.031   Cond. No.                     1.35e+16\n",
      "==============================================================================\n",
      "\n",
      "Warnings:\n",
      "[1] Standard Errors assume that the covariance matrix of the errors is correctly specified.\n",
      "[2] The smallest eigenvalue is 1.08e-28. This might indicate that there are\n",
      "strong multicollinearity problems or that the design matrix is singular.\n"
     ]
    }
   ],
   "source": [
    "import statsmodels.api as sm\n",
    "from statsmodels.formula.api import ols\n",
    "m= ols(formula= 'kwh ~ hour + weekday + month + year', data= df_16).fit()  # .fit() already done (chained)\n",
    "\n",
    "print(m.summary())"
   ]
  },
  {
   "cell_type": "code",
   "execution_count": 81,
   "metadata": {},
   "outputs": [],
   "source": [
    "import pandas as pd"
   ]
  },
  {
   "cell_type": "code",
   "execution_count": 82,
   "metadata": {},
   "outputs": [
    {
     "name": "stdout",
     "output_type": "stream",
     "text": [
      "<class 'pandas.core.frame.DataFrame'>\n",
      "RangeIndex: 45253 entries, 0 to 45252\n",
      "Data columns (total 2 columns):\n",
      "datetime    45253 non-null object\n",
      "Chicago     45250 non-null float64\n",
      "dtypes: float64(1), object(1)\n",
      "memory usage: 707.2+ KB\n"
     ]
    },
    {
     "data": {
      "text/html": [
       "<div>\n",
       "<style scoped>\n",
       "    .dataframe tbody tr th:only-of-type {\n",
       "        vertical-align: middle;\n",
       "    }\n",
       "\n",
       "    .dataframe tbody tr th {\n",
       "        vertical-align: top;\n",
       "    }\n",
       "\n",
       "    .dataframe thead th {\n",
       "        text-align: right;\n",
       "    }\n",
       "</style>\n",
       "<table border=\"1\" class=\"dataframe\">\n",
       "  <thead>\n",
       "    <tr style=\"text-align: right;\">\n",
       "      <th></th>\n",
       "      <th>datetime</th>\n",
       "      <th>Chicago</th>\n",
       "    </tr>\n",
       "  </thead>\n",
       "  <tbody>\n",
       "    <tr>\n",
       "      <th>0</th>\n",
       "      <td>10/1/12 12:00</td>\n",
       "      <td>NaN</td>\n",
       "    </tr>\n",
       "    <tr>\n",
       "      <th>1</th>\n",
       "      <td>10/1/12 13:00</td>\n",
       "      <td>284.010000</td>\n",
       "    </tr>\n",
       "    <tr>\n",
       "      <th>2</th>\n",
       "      <td>10/1/12 14:00</td>\n",
       "      <td>284.054691</td>\n",
       "    </tr>\n",
       "  </tbody>\n",
       "</table>\n",
       "</div>"
      ],
      "text/plain": [
       "        datetime     Chicago\n",
       "0  10/1/12 12:00         NaN\n",
       "1  10/1/12 13:00  284.010000\n",
       "2  10/1/12 14:00  284.054691"
      ]
     },
     "execution_count": 82,
     "metadata": {},
     "output_type": "execute_result"
    }
   ],
   "source": [
    "temps= pd.read_csv('chicago_hourly_temperatures.csv', usecols= [0,17])\n",
    "temps.info()\n",
    "temps.head(3)"
   ]
  },
  {
   "cell_type": "code",
   "execution_count": 83,
   "metadata": {},
   "outputs": [],
   "source": [
    "temps['date']= pd.to_datetime(temps.datetime)\n",
    "# raw_data['Mycol'] =  pd.to_datetime(raw_data['Mycol'], format='%d%b%Y:%H:%M:%S.%f')"
   ]
  },
  {
   "cell_type": "code",
   "execution_count": 84,
   "metadata": {},
   "outputs": [
    {
     "name": "stdout",
     "output_type": "stream",
     "text": [
      "<class 'pandas.core.frame.DataFrame'>\n",
      "RangeIndex: 45253 entries, 0 to 45252\n",
      "Data columns (total 3 columns):\n",
      "datetime    45253 non-null object\n",
      "Chicago     45250 non-null float64\n",
      "date        45253 non-null datetime64[ns]\n",
      "dtypes: datetime64[ns](1), float64(1), object(1)\n",
      "memory usage: 1.0+ MB\n"
     ]
    }
   ],
   "source": [
    "temps.info()"
   ]
  },
  {
   "cell_type": "code",
   "execution_count": 85,
   "metadata": {},
   "outputs": [],
   "source": [
    "temps['hour']= temps.date.dt.hour\n",
    "temps['year']= temps.date.dt.year\n",
    "temps['F']= 1.8*(temps.Chicago - 273.15) + 32\n",
    "temps.set_index(temps['date'], inplace= True)\n"
   ]
  },
  {
   "cell_type": "code",
   "execution_count": 86,
   "metadata": {},
   "outputs": [
    {
     "data": {
      "text/html": [
       "<div>\n",
       "<style scoped>\n",
       "    .dataframe tbody tr th:only-of-type {\n",
       "        vertical-align: middle;\n",
       "    }\n",
       "\n",
       "    .dataframe tbody tr th {\n",
       "        vertical-align: top;\n",
       "    }\n",
       "\n",
       "    .dataframe thead th {\n",
       "        text-align: right;\n",
       "    }\n",
       "</style>\n",
       "<table border=\"1\" class=\"dataframe\">\n",
       "  <thead>\n",
       "    <tr style=\"text-align: right;\">\n",
       "      <th></th>\n",
       "      <th>datetime</th>\n",
       "      <th>Chicago</th>\n",
       "      <th>date</th>\n",
       "      <th>hour</th>\n",
       "      <th>year</th>\n",
       "      <th>F</th>\n",
       "    </tr>\n",
       "    <tr>\n",
       "      <th>date</th>\n",
       "      <th></th>\n",
       "      <th></th>\n",
       "      <th></th>\n",
       "      <th></th>\n",
       "      <th></th>\n",
       "      <th></th>\n",
       "    </tr>\n",
       "  </thead>\n",
       "  <tbody>\n",
       "    <tr>\n",
       "      <th>2012-10-01 12:00:00</th>\n",
       "      <td>10/1/12 12:00</td>\n",
       "      <td>NaN</td>\n",
       "      <td>2012-10-01 12:00:00</td>\n",
       "      <td>12</td>\n",
       "      <td>2012</td>\n",
       "      <td>NaN</td>\n",
       "    </tr>\n",
       "    <tr>\n",
       "      <th>2012-10-01 13:00:00</th>\n",
       "      <td>10/1/12 13:00</td>\n",
       "      <td>284.010000</td>\n",
       "      <td>2012-10-01 13:00:00</td>\n",
       "      <td>13</td>\n",
       "      <td>2012</td>\n",
       "      <td>51.548000</td>\n",
       "    </tr>\n",
       "    <tr>\n",
       "      <th>2012-10-01 14:00:00</th>\n",
       "      <td>10/1/12 14:00</td>\n",
       "      <td>284.054691</td>\n",
       "      <td>2012-10-01 14:00:00</td>\n",
       "      <td>14</td>\n",
       "      <td>2012</td>\n",
       "      <td>51.628444</td>\n",
       "    </tr>\n",
       "    <tr>\n",
       "      <th>2012-10-01 15:00:00</th>\n",
       "      <td>10/1/12 15:00</td>\n",
       "      <td>284.177412</td>\n",
       "      <td>2012-10-01 15:00:00</td>\n",
       "      <td>15</td>\n",
       "      <td>2012</td>\n",
       "      <td>51.849342</td>\n",
       "    </tr>\n",
       "    <tr>\n",
       "      <th>2012-10-01 16:00:00</th>\n",
       "      <td>10/1/12 16:00</td>\n",
       "      <td>284.300133</td>\n",
       "      <td>2012-10-01 16:00:00</td>\n",
       "      <td>16</td>\n",
       "      <td>2012</td>\n",
       "      <td>52.070240</td>\n",
       "    </tr>\n",
       "  </tbody>\n",
       "</table>\n",
       "</div>"
      ],
      "text/plain": [
       "                          datetime     Chicago                date  hour  \\\n",
       "date                                                                       \n",
       "2012-10-01 12:00:00  10/1/12 12:00         NaN 2012-10-01 12:00:00    12   \n",
       "2012-10-01 13:00:00  10/1/12 13:00  284.010000 2012-10-01 13:00:00    13   \n",
       "2012-10-01 14:00:00  10/1/12 14:00  284.054691 2012-10-01 14:00:00    14   \n",
       "2012-10-01 15:00:00  10/1/12 15:00  284.177412 2012-10-01 15:00:00    15   \n",
       "2012-10-01 16:00:00  10/1/12 16:00  284.300133 2012-10-01 16:00:00    16   \n",
       "\n",
       "                     year          F  \n",
       "date                                  \n",
       "2012-10-01 12:00:00  2012        NaN  \n",
       "2012-10-01 13:00:00  2012  51.548000  \n",
       "2012-10-01 14:00:00  2012  51.628444  \n",
       "2012-10-01 15:00:00  2012  51.849342  \n",
       "2012-10-01 16:00:00  2012  52.070240  "
      ]
     },
     "execution_count": 86,
     "metadata": {},
     "output_type": "execute_result"
    }
   ],
   "source": [
    "temps.head()"
   ]
  },
  {
   "cell_type": "code",
   "execution_count": 87,
   "metadata": {},
   "outputs": [
    {
     "data": {
      "text/html": [
       "<div>\n",
       "<style scoped>\n",
       "    .dataframe tbody tr th:only-of-type {\n",
       "        vertical-align: middle;\n",
       "    }\n",
       "\n",
       "    .dataframe tbody tr th {\n",
       "        vertical-align: top;\n",
       "    }\n",
       "\n",
       "    .dataframe thead th {\n",
       "        text-align: right;\n",
       "    }\n",
       "</style>\n",
       "<table border=\"1\" class=\"dataframe\">\n",
       "  <thead>\n",
       "    <tr style=\"text-align: right;\">\n",
       "      <th></th>\n",
       "      <th>Chicago</th>\n",
       "      <th>hour</th>\n",
       "      <th>year</th>\n",
       "      <th>F</th>\n",
       "    </tr>\n",
       "    <tr>\n",
       "      <th>date</th>\n",
       "      <th></th>\n",
       "      <th></th>\n",
       "      <th></th>\n",
       "      <th></th>\n",
       "    </tr>\n",
       "  </thead>\n",
       "  <tbody>\n",
       "    <tr>\n",
       "      <th>2012-10-01 12:00:00</th>\n",
       "      <td>NaN</td>\n",
       "      <td>12</td>\n",
       "      <td>2012</td>\n",
       "      <td>NaN</td>\n",
       "    </tr>\n",
       "    <tr>\n",
       "      <th>2012-10-01 13:00:00</th>\n",
       "      <td>284.010000</td>\n",
       "      <td>13</td>\n",
       "      <td>2012</td>\n",
       "      <td>51.548000</td>\n",
       "    </tr>\n",
       "    <tr>\n",
       "      <th>2012-10-01 14:00:00</th>\n",
       "      <td>284.054691</td>\n",
       "      <td>14</td>\n",
       "      <td>2012</td>\n",
       "      <td>51.628444</td>\n",
       "    </tr>\n",
       "  </tbody>\n",
       "</table>\n",
       "</div>"
      ],
      "text/plain": [
       "                        Chicago  hour  year          F\n",
       "date                                                  \n",
       "2012-10-01 12:00:00         NaN    12  2012        NaN\n",
       "2012-10-01 13:00:00  284.010000    13  2012  51.548000\n",
       "2012-10-01 14:00:00  284.054691    14  2012  51.628444"
      ]
     },
     "execution_count": 87,
     "metadata": {},
     "output_type": "execute_result"
    }
   ],
   "source": [
    "temps= temps.drop(['datetime','date'], axis=1)\n",
    "temps.head(3)"
   ]
  },
  {
   "cell_type": "code",
   "execution_count": 88,
   "metadata": {},
   "outputs": [],
   "source": [
    "temps_17= temps[temps.year== 2017]"
   ]
  },
  {
   "cell_type": "code",
   "execution_count": 89,
   "metadata": {},
   "outputs": [
    {
     "data": {
      "text/html": [
       "<div>\n",
       "<style scoped>\n",
       "    .dataframe tbody tr th:only-of-type {\n",
       "        vertical-align: middle;\n",
       "    }\n",
       "\n",
       "    .dataframe tbody tr th {\n",
       "        vertical-align: top;\n",
       "    }\n",
       "\n",
       "    .dataframe thead th {\n",
       "        text-align: right;\n",
       "    }\n",
       "</style>\n",
       "<table border=\"1\" class=\"dataframe\">\n",
       "  <thead>\n",
       "    <tr style=\"text-align: right;\">\n",
       "      <th></th>\n",
       "      <th>Chicago</th>\n",
       "      <th>hour</th>\n",
       "      <th>year</th>\n",
       "      <th>F</th>\n",
       "    </tr>\n",
       "    <tr>\n",
       "      <th>date</th>\n",
       "      <th></th>\n",
       "      <th></th>\n",
       "      <th></th>\n",
       "      <th></th>\n",
       "    </tr>\n",
       "  </thead>\n",
       "  <tbody>\n",
       "    <tr>\n",
       "      <th>2017-01-01 00:00:00</th>\n",
       "      <td>274.06</td>\n",
       "      <td>0</td>\n",
       "      <td>2017</td>\n",
       "      <td>33.638</td>\n",
       "    </tr>\n",
       "    <tr>\n",
       "      <th>2017-01-01 01:00:00</th>\n",
       "      <td>272.94</td>\n",
       "      <td>1</td>\n",
       "      <td>2017</td>\n",
       "      <td>31.622</td>\n",
       "    </tr>\n",
       "    <tr>\n",
       "      <th>2017-01-01 02:00:00</th>\n",
       "      <td>272.14</td>\n",
       "      <td>2</td>\n",
       "      <td>2017</td>\n",
       "      <td>30.182</td>\n",
       "    </tr>\n",
       "  </tbody>\n",
       "</table>\n",
       "</div>"
      ],
      "text/plain": [
       "                     Chicago  hour  year       F\n",
       "date                                            \n",
       "2017-01-01 00:00:00   274.06     0  2017  33.638\n",
       "2017-01-01 01:00:00   272.94     1  2017  31.622\n",
       "2017-01-01 02:00:00   272.14     2  2017  30.182"
      ]
     },
     "execution_count": 89,
     "metadata": {},
     "output_type": "execute_result"
    }
   ],
   "source": [
    "temps_17.head(3)"
   ]
  },
  {
   "cell_type": "code",
   "execution_count": null,
   "metadata": {},
   "outputs": [],
   "source": []
  },
  {
   "cell_type": "code",
   "execution_count": 90,
   "metadata": {},
   "outputs": [],
   "source": [
    "comb_17 = pd.merge(df_17, temps_17, left_index= True, right_index= True) # 'left_on= date, right_on= date)"
   ]
  },
  {
   "cell_type": "code",
   "execution_count": 91,
   "metadata": {},
   "outputs": [
    {
     "data": {
      "text/html": [
       "<div>\n",
       "<style scoped>\n",
       "    .dataframe tbody tr th:only-of-type {\n",
       "        vertical-align: middle;\n",
       "    }\n",
       "\n",
       "    .dataframe tbody tr th {\n",
       "        vertical-align: top;\n",
       "    }\n",
       "\n",
       "    .dataframe thead th {\n",
       "        text-align: right;\n",
       "    }\n",
       "</style>\n",
       "<table border=\"1\" class=\"dataframe\">\n",
       "  <thead>\n",
       "    <tr style=\"text-align: right;\">\n",
       "      <th></th>\n",
       "      <th>hour_x</th>\n",
       "      <th>kwh</th>\n",
       "      <th>weekday</th>\n",
       "      <th>month</th>\n",
       "      <th>year_x</th>\n",
       "      <th>Chicago</th>\n",
       "      <th>hour_y</th>\n",
       "      <th>year_y</th>\n",
       "      <th>F</th>\n",
       "    </tr>\n",
       "    <tr>\n",
       "      <th>date</th>\n",
       "      <th></th>\n",
       "      <th></th>\n",
       "      <th></th>\n",
       "      <th></th>\n",
       "      <th></th>\n",
       "      <th></th>\n",
       "      <th></th>\n",
       "      <th></th>\n",
       "      <th></th>\n",
       "    </tr>\n",
       "  </thead>\n",
       "  <tbody>\n",
       "    <tr>\n",
       "      <th>2017-01-01 00:00:00</th>\n",
       "      <td>00</td>\n",
       "      <td>0.51</td>\n",
       "      <td>Sunday</td>\n",
       "      <td>1</td>\n",
       "      <td>2017</td>\n",
       "      <td>274.06</td>\n",
       "      <td>0</td>\n",
       "      <td>2017</td>\n",
       "      <td>33.638</td>\n",
       "    </tr>\n",
       "    <tr>\n",
       "      <th>2017-01-01 01:00:00</th>\n",
       "      <td>01</td>\n",
       "      <td>0.51</td>\n",
       "      <td>Sunday</td>\n",
       "      <td>1</td>\n",
       "      <td>2017</td>\n",
       "      <td>272.94</td>\n",
       "      <td>1</td>\n",
       "      <td>2017</td>\n",
       "      <td>31.622</td>\n",
       "    </tr>\n",
       "    <tr>\n",
       "      <th>2017-01-01 02:00:00</th>\n",
       "      <td>02</td>\n",
       "      <td>0.45</td>\n",
       "      <td>Sunday</td>\n",
       "      <td>1</td>\n",
       "      <td>2017</td>\n",
       "      <td>272.14</td>\n",
       "      <td>2</td>\n",
       "      <td>2017</td>\n",
       "      <td>30.182</td>\n",
       "    </tr>\n",
       "  </tbody>\n",
       "</table>\n",
       "</div>"
      ],
      "text/plain": [
       "                    hour_x   kwh weekday month year_x  Chicago  hour_y  \\\n",
       "date                                                                     \n",
       "2017-01-01 00:00:00     00  0.51  Sunday     1   2017   274.06       0   \n",
       "2017-01-01 01:00:00     01  0.51  Sunday     1   2017   272.94       1   \n",
       "2017-01-01 02:00:00     02  0.45  Sunday     1   2017   272.14       2   \n",
       "\n",
       "                     year_y       F  \n",
       "date                                 \n",
       "2017-01-01 00:00:00    2017  33.638  \n",
       "2017-01-01 01:00:00    2017  31.622  \n",
       "2017-01-01 02:00:00    2017  30.182  "
      ]
     },
     "execution_count": 91,
     "metadata": {},
     "output_type": "execute_result"
    }
   ],
   "source": [
    "comb_17.head(3)"
   ]
  },
  {
   "cell_type": "code",
   "execution_count": 92,
   "metadata": {},
   "outputs": [
    {
     "name": "stdout",
     "output_type": "stream",
     "text": [
      "                            OLS Regression Results                            \n",
      "==============================================================================\n",
      "Dep. Variable:                    kwh   R-squared:                       0.133\n",
      "Model:                            OLS   Adj. R-squared:                  0.132\n",
      "Method:                 Least Squares   F-statistic:                     68.25\n",
      "Date:                Fri, 22 Mar 2019   Prob (F-statistic):          1.25e-231\n",
      "Time:                        18:06:49   Log-Likelihood:                -8960.5\n",
      "No. Observations:                7993   AIC:                         1.796e+04\n",
      "Df Residuals:                    7974   BIC:                         1.809e+04\n",
      "Df Model:                          18                                         \n",
      "Covariance Type:            nonrobust                                         \n",
      "========================================================================================\n",
      "                           coef    std err          t      P>|t|      [0.025      0.975]\n",
      "----------------------------------------------------------------------------------------\n",
      "Intercept              9.58e-08   1.04e-08      9.194      0.000    7.54e-08    1.16e-07\n",
      "weekday[T.Monday]       -0.0934      0.031     -2.989      0.003      -0.155      -0.032\n",
      "weekday[T.Saturday]     -0.0478      0.031     -1.526      0.127      -0.109       0.014\n",
      "weekday[T.Sunday]        0.0019      0.031      0.061      0.951      -0.059       0.063\n",
      "weekday[T.Thursday]      0.0249      0.031      0.794      0.427      -0.037       0.086\n",
      "weekday[T.Tuesday]      -0.1563      0.031     -4.988      0.000      -0.218      -0.095\n",
      "weekday[T.Wednesday]     0.0580      0.031      1.859      0.063      -0.003       0.119\n",
      "month[T.2]              -0.0684      0.040     -1.708      0.088      -0.147       0.010\n",
      "month[T.3]              -0.1378      0.039     -3.494      0.000      -0.215      -0.060\n",
      "month[T.4]              -0.2577      0.044     -5.844      0.000      -0.344      -0.171\n",
      "month[T.5]              -0.2368      0.045     -5.205      0.000      -0.326      -0.148\n",
      "month[T.6]               0.0546      0.053      1.025      0.305      -0.050       0.159\n",
      "month[T.7]               0.1824      0.054      3.370      0.001       0.076       0.289\n",
      "month[T.8]               0.0186      0.052      0.359      0.720      -0.083       0.120\n",
      "month[T.9]               0.0567      0.051      1.114      0.265      -0.043       0.156\n",
      "month[T.10]             -0.0846      0.045     -1.874      0.061      -0.173       0.004\n",
      "month[T.11]              0.1368      0.040      3.403      0.001       0.058       0.216\n",
      "month[T.12]           2.601e-17   5.75e-18      4.521      0.000    1.47e-17    3.73e-17\n",
      "hour_y                   0.0313      0.001     25.424      0.000       0.029       0.034\n",
      "year_y                   0.0002    2.1e-05      9.194      0.000       0.000       0.000\n",
      "F                        0.0044      0.001      5.091      0.000       0.003       0.006\n",
      "==============================================================================\n",
      "Omnibus:                     3796.987   Durbin-Watson:                   1.066\n",
      "Prob(Omnibus):                  0.000   Jarque-Bera (JB):            21358.103\n",
      "Skew:                           2.270   Prob(JB):                         0.00\n",
      "Kurtosis:                       9.597   Cond. No.                     9.47e+19\n",
      "==============================================================================\n",
      "\n",
      "Warnings:\n",
      "[1] Standard Errors assume that the covariance matrix of the errors is correctly specified.\n",
      "[2] The smallest eigenvalue is 3.63e-30. This might indicate that there are\n",
      "strong multicollinearity problems or that the design matrix is singular.\n"
     ]
    }
   ],
   "source": [
    "import statsmodels.api as sm\n",
    "from statsmodels.formula.api import ols\n",
    "m_comb= ols(formula= 'kwh ~ hour_y + weekday + month + year_y + F', data= comb_17).fit()  # .fit() already done (chained)\n",
    "\n",
    "print(m_comb.summary())"
   ]
  },
  {
   "cell_type": "code",
   "execution_count": null,
   "metadata": {},
   "outputs": [],
   "source": []
  },
  {
   "cell_type": "code",
   "execution_count": 93,
   "metadata": {},
   "outputs": [],
   "source": [
    "g= temps.groupby('hour')"
   ]
  },
  {
   "cell_type": "code",
   "execution_count": 94,
   "metadata": {},
   "outputs": [
    {
     "name": "stdout",
     "output_type": "stream",
     "text": [
      "      Chicago    year      F\n",
      "hour                        \n",
      "0        53.0  3167.0 -364.2\n",
      "1        51.8  3167.0 -366.5\n",
      "2        50.4  3167.0 -369.0\n",
      "3        49.5  3167.0 -370.5\n",
      "4        48.7  3167.0 -372.0\n",
      "5        48.0  3167.0 -373.3\n",
      "6        47.5  3167.0 -374.1\n",
      "7        47.0  3167.0 -375.1\n",
      "8        46.5  3167.0 -375.9\n",
      "9        46.1  3167.0 -376.7\n",
      "10       45.8  3167.0 -377.3\n",
      "11       45.6  3167.0 -377.6\n",
      "12       46.2  3167.0 -376.4\n",
      "13       47.0  3167.0 -375.0\n",
      "14       48.7  3167.0 -372.0\n",
      "15       50.5  3167.0 -368.7\n",
      "16       52.1  3167.0 -365.9\n",
      "17       53.5  3167.0 -363.4\n",
      "18       54.5  3167.0 -361.5\n",
      "19       55.3  3167.0 -360.1\n",
      "20       55.7  3167.0 -359.4\n",
      "21       55.6  3167.0 -359.6\n",
      "22       55.2  3167.0 -360.2\n",
      "23       54.2  3167.0 -362.2\n"
     ]
    }
   ],
   "source": [
    "F= 1.8*(g.mean()- 273.15) + 32\n",
    "print(round(F, 1))"
   ]
  },
  {
   "cell_type": "code",
   "execution_count": 95,
   "metadata": {},
   "outputs": [
    {
     "data": {
      "text/html": [
       "<div>\n",
       "<style scoped>\n",
       "    .dataframe tbody tr th:only-of-type {\n",
       "        vertical-align: middle;\n",
       "    }\n",
       "\n",
       "    .dataframe tbody tr th {\n",
       "        vertical-align: top;\n",
       "    }\n",
       "\n",
       "    .dataframe thead th {\n",
       "        text-align: right;\n",
       "    }\n",
       "</style>\n",
       "<table border=\"1\" class=\"dataframe\">\n",
       "  <thead>\n",
       "    <tr style=\"text-align: right;\">\n",
       "      <th></th>\n",
       "      <th>datetime</th>\n",
       "      <th>Chicago</th>\n",
       "    </tr>\n",
       "  </thead>\n",
       "  <tbody>\n",
       "    <tr>\n",
       "      <th>0</th>\n",
       "      <td>10/1/12 12:00</td>\n",
       "      <td>NaN</td>\n",
       "    </tr>\n",
       "    <tr>\n",
       "      <th>1</th>\n",
       "      <td>10/1/12 13:00</td>\n",
       "      <td>284.010000</td>\n",
       "    </tr>\n",
       "    <tr>\n",
       "      <th>2</th>\n",
       "      <td>10/1/12 14:00</td>\n",
       "      <td>284.054691</td>\n",
       "    </tr>\n",
       "    <tr>\n",
       "      <th>3</th>\n",
       "      <td>10/1/12 15:00</td>\n",
       "      <td>284.177412</td>\n",
       "    </tr>\n",
       "    <tr>\n",
       "      <th>4</th>\n",
       "      <td>10/1/12 16:00</td>\n",
       "      <td>284.300133</td>\n",
       "    </tr>\n",
       "    <tr>\n",
       "      <th>5</th>\n",
       "      <td>10/1/12 17:00</td>\n",
       "      <td>284.422855</td>\n",
       "    </tr>\n",
       "    <tr>\n",
       "      <th>6</th>\n",
       "      <td>10/1/12 18:00</td>\n",
       "      <td>284.545576</td>\n",
       "    </tr>\n",
       "    <tr>\n",
       "      <th>7</th>\n",
       "      <td>10/1/12 19:00</td>\n",
       "      <td>284.668297</td>\n",
       "    </tr>\n",
       "    <tr>\n",
       "      <th>8</th>\n",
       "      <td>10/1/12 20:00</td>\n",
       "      <td>284.791018</td>\n",
       "    </tr>\n",
       "    <tr>\n",
       "      <th>9</th>\n",
       "      <td>10/1/12 21:00</td>\n",
       "      <td>284.913739</td>\n",
       "    </tr>\n",
       "    <tr>\n",
       "      <th>10</th>\n",
       "      <td>10/1/12 22:00</td>\n",
       "      <td>285.036461</td>\n",
       "    </tr>\n",
       "    <tr>\n",
       "      <th>11</th>\n",
       "      <td>10/1/12 23:00</td>\n",
       "      <td>285.159182</td>\n",
       "    </tr>\n",
       "    <tr>\n",
       "      <th>12</th>\n",
       "      <td>10/2/12 0:00</td>\n",
       "      <td>285.281903</td>\n",
       "    </tr>\n",
       "    <tr>\n",
       "      <th>13</th>\n",
       "      <td>10/2/12 1:00</td>\n",
       "      <td>285.404624</td>\n",
       "    </tr>\n",
       "    <tr>\n",
       "      <th>14</th>\n",
       "      <td>10/2/12 2:00</td>\n",
       "      <td>285.527346</td>\n",
       "    </tr>\n",
       "    <tr>\n",
       "      <th>15</th>\n",
       "      <td>10/2/12 3:00</td>\n",
       "      <td>285.650067</td>\n",
       "    </tr>\n",
       "    <tr>\n",
       "      <th>16</th>\n",
       "      <td>10/2/12 4:00</td>\n",
       "      <td>285.772788</td>\n",
       "    </tr>\n",
       "    <tr>\n",
       "      <th>17</th>\n",
       "      <td>10/2/12 5:00</td>\n",
       "      <td>285.895509</td>\n",
       "    </tr>\n",
       "    <tr>\n",
       "      <th>18</th>\n",
       "      <td>10/2/12 6:00</td>\n",
       "      <td>286.018230</td>\n",
       "    </tr>\n",
       "    <tr>\n",
       "      <th>19</th>\n",
       "      <td>10/2/12 7:00</td>\n",
       "      <td>286.140952</td>\n",
       "    </tr>\n",
       "    <tr>\n",
       "      <th>20</th>\n",
       "      <td>10/2/12 8:00</td>\n",
       "      <td>286.263673</td>\n",
       "    </tr>\n",
       "    <tr>\n",
       "      <th>21</th>\n",
       "      <td>10/2/12 9:00</td>\n",
       "      <td>286.386394</td>\n",
       "    </tr>\n",
       "    <tr>\n",
       "      <th>22</th>\n",
       "      <td>10/2/12 10:00</td>\n",
       "      <td>286.509115</td>\n",
       "    </tr>\n",
       "    <tr>\n",
       "      <th>23</th>\n",
       "      <td>10/2/12 11:00</td>\n",
       "      <td>286.631836</td>\n",
       "    </tr>\n",
       "    <tr>\n",
       "      <th>24</th>\n",
       "      <td>10/2/12 12:00</td>\n",
       "      <td>286.754558</td>\n",
       "    </tr>\n",
       "    <tr>\n",
       "      <th>25</th>\n",
       "      <td>10/2/12 13:00</td>\n",
       "      <td>286.877279</td>\n",
       "    </tr>\n",
       "    <tr>\n",
       "      <th>26</th>\n",
       "      <td>10/2/12 14:00</td>\n",
       "      <td>287.000000</td>\n",
       "    </tr>\n",
       "    <tr>\n",
       "      <th>27</th>\n",
       "      <td>10/2/12 15:00</td>\n",
       "      <td>289.300000</td>\n",
       "    </tr>\n",
       "    <tr>\n",
       "      <th>28</th>\n",
       "      <td>10/2/12 16:00</td>\n",
       "      <td>289.850000</td>\n",
       "    </tr>\n",
       "    <tr>\n",
       "      <th>29</th>\n",
       "      <td>10/2/12 17:00</td>\n",
       "      <td>290.920000</td>\n",
       "    </tr>\n",
       "    <tr>\n",
       "      <th>...</th>\n",
       "      <td>...</td>\n",
       "      <td>...</td>\n",
       "    </tr>\n",
       "    <tr>\n",
       "      <th>45223</th>\n",
       "      <td>11/28/17 19:00</td>\n",
       "      <td>289.050000</td>\n",
       "    </tr>\n",
       "    <tr>\n",
       "      <th>45224</th>\n",
       "      <td>11/28/17 20:00</td>\n",
       "      <td>289.320000</td>\n",
       "    </tr>\n",
       "    <tr>\n",
       "      <th>45225</th>\n",
       "      <td>11/28/17 21:00</td>\n",
       "      <td>289.540000</td>\n",
       "    </tr>\n",
       "    <tr>\n",
       "      <th>45226</th>\n",
       "      <td>11/28/17 22:00</td>\n",
       "      <td>288.950000</td>\n",
       "    </tr>\n",
       "    <tr>\n",
       "      <th>45227</th>\n",
       "      <td>11/28/17 23:00</td>\n",
       "      <td>289.390000</td>\n",
       "    </tr>\n",
       "    <tr>\n",
       "      <th>45228</th>\n",
       "      <td>11/29/17 0:00</td>\n",
       "      <td>287.040000</td>\n",
       "    </tr>\n",
       "    <tr>\n",
       "      <th>45229</th>\n",
       "      <td>11/29/17 1:00</td>\n",
       "      <td>285.950000</td>\n",
       "    </tr>\n",
       "    <tr>\n",
       "      <th>45230</th>\n",
       "      <td>11/29/17 2:00</td>\n",
       "      <td>284.510000</td>\n",
       "    </tr>\n",
       "    <tr>\n",
       "      <th>45231</th>\n",
       "      <td>11/29/17 3:00</td>\n",
       "      <td>282.960000</td>\n",
       "    </tr>\n",
       "    <tr>\n",
       "      <th>45232</th>\n",
       "      <td>11/29/17 4:00</td>\n",
       "      <td>282.040000</td>\n",
       "    </tr>\n",
       "    <tr>\n",
       "      <th>45233</th>\n",
       "      <td>11/29/17 5:00</td>\n",
       "      <td>281.260000</td>\n",
       "    </tr>\n",
       "    <tr>\n",
       "      <th>45234</th>\n",
       "      <td>11/29/17 6:00</td>\n",
       "      <td>280.060000</td>\n",
       "    </tr>\n",
       "    <tr>\n",
       "      <th>45235</th>\n",
       "      <td>11/29/17 7:00</td>\n",
       "      <td>279.440000</td>\n",
       "    </tr>\n",
       "    <tr>\n",
       "      <th>45236</th>\n",
       "      <td>11/29/17 8:00</td>\n",
       "      <td>277.690000</td>\n",
       "    </tr>\n",
       "    <tr>\n",
       "      <th>45237</th>\n",
       "      <td>11/29/17 9:00</td>\n",
       "      <td>277.160000</td>\n",
       "    </tr>\n",
       "    <tr>\n",
       "      <th>45238</th>\n",
       "      <td>11/29/17 10:00</td>\n",
       "      <td>275.970000</td>\n",
       "    </tr>\n",
       "    <tr>\n",
       "      <th>45239</th>\n",
       "      <td>11/29/17 11:00</td>\n",
       "      <td>273.970000</td>\n",
       "    </tr>\n",
       "    <tr>\n",
       "      <th>45240</th>\n",
       "      <td>11/29/17 12:00</td>\n",
       "      <td>274.080000</td>\n",
       "    </tr>\n",
       "    <tr>\n",
       "      <th>45241</th>\n",
       "      <td>11/29/17 13:00</td>\n",
       "      <td>273.780000</td>\n",
       "    </tr>\n",
       "    <tr>\n",
       "      <th>45242</th>\n",
       "      <td>11/29/17 14:00</td>\n",
       "      <td>273.260000</td>\n",
       "    </tr>\n",
       "    <tr>\n",
       "      <th>45243</th>\n",
       "      <td>11/29/17 15:00</td>\n",
       "      <td>275.210000</td>\n",
       "    </tr>\n",
       "    <tr>\n",
       "      <th>45244</th>\n",
       "      <td>11/29/17 16:00</td>\n",
       "      <td>278.030000</td>\n",
       "    </tr>\n",
       "    <tr>\n",
       "      <th>45245</th>\n",
       "      <td>11/29/17 17:00</td>\n",
       "      <td>279.580000</td>\n",
       "    </tr>\n",
       "    <tr>\n",
       "      <th>45246</th>\n",
       "      <td>11/29/17 18:00</td>\n",
       "      <td>280.310000</td>\n",
       "    </tr>\n",
       "    <tr>\n",
       "      <th>45247</th>\n",
       "      <td>11/29/17 19:00</td>\n",
       "      <td>281.050000</td>\n",
       "    </tr>\n",
       "    <tr>\n",
       "      <th>45248</th>\n",
       "      <td>11/29/17 20:00</td>\n",
       "      <td>281.340000</td>\n",
       "    </tr>\n",
       "    <tr>\n",
       "      <th>45249</th>\n",
       "      <td>11/29/17 21:00</td>\n",
       "      <td>281.690000</td>\n",
       "    </tr>\n",
       "    <tr>\n",
       "      <th>45250</th>\n",
       "      <td>11/29/17 22:00</td>\n",
       "      <td>281.070000</td>\n",
       "    </tr>\n",
       "    <tr>\n",
       "      <th>45251</th>\n",
       "      <td>11/29/17 23:00</td>\n",
       "      <td>280.060000</td>\n",
       "    </tr>\n",
       "    <tr>\n",
       "      <th>45252</th>\n",
       "      <td>11/30/17 0:00</td>\n",
       "      <td>278.460000</td>\n",
       "    </tr>\n",
       "  </tbody>\n",
       "</table>\n",
       "<p>45253 rows × 2 columns</p>\n",
       "</div>"
      ],
      "text/plain": [
       "             datetime     Chicago\n",
       "0       10/1/12 12:00         NaN\n",
       "1       10/1/12 13:00  284.010000\n",
       "2       10/1/12 14:00  284.054691\n",
       "3       10/1/12 15:00  284.177412\n",
       "4       10/1/12 16:00  284.300133\n",
       "5       10/1/12 17:00  284.422855\n",
       "6       10/1/12 18:00  284.545576\n",
       "7       10/1/12 19:00  284.668297\n",
       "8       10/1/12 20:00  284.791018\n",
       "9       10/1/12 21:00  284.913739\n",
       "10      10/1/12 22:00  285.036461\n",
       "11      10/1/12 23:00  285.159182\n",
       "12       10/2/12 0:00  285.281903\n",
       "13       10/2/12 1:00  285.404624\n",
       "14       10/2/12 2:00  285.527346\n",
       "15       10/2/12 3:00  285.650067\n",
       "16       10/2/12 4:00  285.772788\n",
       "17       10/2/12 5:00  285.895509\n",
       "18       10/2/12 6:00  286.018230\n",
       "19       10/2/12 7:00  286.140952\n",
       "20       10/2/12 8:00  286.263673\n",
       "21       10/2/12 9:00  286.386394\n",
       "22      10/2/12 10:00  286.509115\n",
       "23      10/2/12 11:00  286.631836\n",
       "24      10/2/12 12:00  286.754558\n",
       "25      10/2/12 13:00  286.877279\n",
       "26      10/2/12 14:00  287.000000\n",
       "27      10/2/12 15:00  289.300000\n",
       "28      10/2/12 16:00  289.850000\n",
       "29      10/2/12 17:00  290.920000\n",
       "...               ...         ...\n",
       "45223  11/28/17 19:00  289.050000\n",
       "45224  11/28/17 20:00  289.320000\n",
       "45225  11/28/17 21:00  289.540000\n",
       "45226  11/28/17 22:00  288.950000\n",
       "45227  11/28/17 23:00  289.390000\n",
       "45228   11/29/17 0:00  287.040000\n",
       "45229   11/29/17 1:00  285.950000\n",
       "45230   11/29/17 2:00  284.510000\n",
       "45231   11/29/17 3:00  282.960000\n",
       "45232   11/29/17 4:00  282.040000\n",
       "45233   11/29/17 5:00  281.260000\n",
       "45234   11/29/17 6:00  280.060000\n",
       "45235   11/29/17 7:00  279.440000\n",
       "45236   11/29/17 8:00  277.690000\n",
       "45237   11/29/17 9:00  277.160000\n",
       "45238  11/29/17 10:00  275.970000\n",
       "45239  11/29/17 11:00  273.970000\n",
       "45240  11/29/17 12:00  274.080000\n",
       "45241  11/29/17 13:00  273.780000\n",
       "45242  11/29/17 14:00  273.260000\n",
       "45243  11/29/17 15:00  275.210000\n",
       "45244  11/29/17 16:00  278.030000\n",
       "45245  11/29/17 17:00  279.580000\n",
       "45246  11/29/17 18:00  280.310000\n",
       "45247  11/29/17 19:00  281.050000\n",
       "45248  11/29/17 20:00  281.340000\n",
       "45249  11/29/17 21:00  281.690000\n",
       "45250  11/29/17 22:00  281.070000\n",
       "45251  11/29/17 23:00  280.060000\n",
       "45252   11/30/17 0:00  278.460000\n",
       "\n",
       "[45253 rows x 2 columns]"
      ]
     },
     "execution_count": 95,
     "metadata": {},
     "output_type": "execute_result"
    }
   ],
   "source": [
    "pd.read_csv('chicago_hourly_temperatures.csv', usecols= [0,17])\n"
   ]
  },
  {
   "cell_type": "code",
   "execution_count": 96,
   "metadata": {},
   "outputs": [
    {
     "data": {
      "text/html": [
       "<div>\n",
       "<style scoped>\n",
       "    .dataframe tbody tr th:only-of-type {\n",
       "        vertical-align: middle;\n",
       "    }\n",
       "\n",
       "    .dataframe tbody tr th {\n",
       "        vertical-align: top;\n",
       "    }\n",
       "\n",
       "    .dataframe thead th {\n",
       "        text-align: right;\n",
       "    }\n",
       "</style>\n",
       "<table border=\"1\" class=\"dataframe\">\n",
       "  <thead>\n",
       "    <tr style=\"text-align: right;\">\n",
       "      <th></th>\n",
       "      <th>Chicago</th>\n",
       "      <th>hour</th>\n",
       "      <th>year</th>\n",
       "      <th>F</th>\n",
       "    </tr>\n",
       "    <tr>\n",
       "      <th>date</th>\n",
       "      <th></th>\n",
       "      <th></th>\n",
       "      <th></th>\n",
       "      <th></th>\n",
       "    </tr>\n",
       "  </thead>\n",
       "  <tbody>\n",
       "    <tr>\n",
       "      <th>2012-10-01 12:00:00</th>\n",
       "      <td>NaN</td>\n",
       "      <td>12</td>\n",
       "      <td>2012</td>\n",
       "      <td>NaN</td>\n",
       "    </tr>\n",
       "    <tr>\n",
       "      <th>2012-10-01 13:00:00</th>\n",
       "      <td>284.010000</td>\n",
       "      <td>13</td>\n",
       "      <td>2012</td>\n",
       "      <td>51.548000</td>\n",
       "    </tr>\n",
       "    <tr>\n",
       "      <th>2012-10-01 14:00:00</th>\n",
       "      <td>284.054691</td>\n",
       "      <td>14</td>\n",
       "      <td>2012</td>\n",
       "      <td>51.628444</td>\n",
       "    </tr>\n",
       "    <tr>\n",
       "      <th>2012-10-01 15:00:00</th>\n",
       "      <td>284.177412</td>\n",
       "      <td>15</td>\n",
       "      <td>2012</td>\n",
       "      <td>51.849342</td>\n",
       "    </tr>\n",
       "    <tr>\n",
       "      <th>2012-10-01 16:00:00</th>\n",
       "      <td>284.300133</td>\n",
       "      <td>16</td>\n",
       "      <td>2012</td>\n",
       "      <td>52.070240</td>\n",
       "    </tr>\n",
       "  </tbody>\n",
       "</table>\n",
       "</div>"
      ],
      "text/plain": [
       "                        Chicago  hour  year          F\n",
       "date                                                  \n",
       "2012-10-01 12:00:00         NaN    12  2012        NaN\n",
       "2012-10-01 13:00:00  284.010000    13  2012  51.548000\n",
       "2012-10-01 14:00:00  284.054691    14  2012  51.628444\n",
       "2012-10-01 15:00:00  284.177412    15  2012  51.849342\n",
       "2012-10-01 16:00:00  284.300133    16  2012  52.070240"
      ]
     },
     "execution_count": 96,
     "metadata": {},
     "output_type": "execute_result"
    }
   ],
   "source": [
    "temps.head()"
   ]
  },
  {
   "cell_type": "code",
   "execution_count": 97,
   "metadata": {},
   "outputs": [
    {
     "ename": "TypeError",
     "evalue": "merge() missing 2 required positional arguments: 'left' and 'right'",
     "output_type": "error",
     "traceback": [
      "\u001b[0;31m---------------------------------------------------------------------------\u001b[0m",
      "\u001b[0;31mTypeError\u001b[0m                                 Traceback (most recent call last)",
      "\u001b[0;32m<ipython-input-97-3b99aed8890d>\u001b[0m in \u001b[0;36m<module>\u001b[0;34m\u001b[0m\n\u001b[0;32m----> 1\u001b[0;31m \u001b[0mcomb\u001b[0m\u001b[0;34m=\u001b[0m \u001b[0mpd\u001b[0m\u001b[0;34m.\u001b[0m\u001b[0mmerge\u001b[0m\u001b[0;34m(\u001b[0m\u001b[0;34m)\u001b[0m\u001b[0;34m\u001b[0m\u001b[0;34m\u001b[0m\u001b[0m\n\u001b[0m",
      "\u001b[0;31mTypeError\u001b[0m: merge() missing 2 required positional arguments: 'left' and 'right'"
     ]
    }
   ],
   "source": [
    "comb= pd.merge()"
   ]
  },
  {
   "cell_type": "code",
   "execution_count": null,
   "metadata": {},
   "outputs": [],
   "source": []
  },
  {
   "cell_type": "code",
   "execution_count": null,
   "metadata": {},
   "outputs": [],
   "source": []
  },
  {
   "cell_type": "code",
   "execution_count": null,
   "metadata": {},
   "outputs": [],
   "source": []
  },
  {
   "cell_type": "code",
   "execution_count": null,
   "metadata": {},
   "outputs": [],
   "source": []
  },
  {
   "cell_type": "code",
   "execution_count": null,
   "metadata": {},
   "outputs": [],
   "source": []
  },
  {
   "cell_type": "code",
   "execution_count": null,
   "metadata": {},
   "outputs": [],
   "source": [
    "groupby hour and month mean "
   ]
  },
  {
   "cell_type": "code",
   "execution_count": null,
   "metadata": {},
   "outputs": [],
   "source": [
    "add temperature from Kaggle !!"
   ]
  },
  {
   "cell_type": "markdown",
   "metadata": {},
   "source": [
    " # OLD CODE BELOW TO BE EXCISED"
   ]
  }
 ],
 "metadata": {
  "kernelspec": {
   "display_name": "Python 3",
   "language": "python",
   "name": "python3"
  },
  "language_info": {
   "codemirror_mode": {
    "name": "ipython",
    "version": 3
   },
   "file_extension": ".py",
   "mimetype": "text/x-python",
   "name": "python",
   "nbconvert_exporter": "python",
   "pygments_lexer": "ipython3",
   "version": "3.7.1"
  }
 },
 "nbformat": 4,
 "nbformat_minor": 2
}
