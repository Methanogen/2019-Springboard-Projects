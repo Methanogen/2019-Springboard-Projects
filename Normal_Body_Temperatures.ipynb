{
 "cells": [
  {
   "cell_type": "markdown",
   "metadata": {},
   "source": [
    "# What is the True Normal Human Body Temperature? \n",
    "\n",
    "#### Background\n",
    "\n",
    "The mean normal body temperature was held to be 37$^{\\circ}$C or 98.6$^{\\circ}$F for more than 120 years since it was first conceptualized and reported by Carl Wunderlich in a famous 1868 book. But, is this value statistically correct?"
   ]
  },
  {
   "cell_type": "markdown",
   "metadata": {},
   "source": [
    "<h3>Exercises</h3>\n",
    "\n",
    "<p>In this exercise, you will analyze a dataset of human body temperatures and employ the concepts of hypothesis testing, confidence intervals, and statistical significance.</p>\n",
    "\n",
    "<p>Answer the following questions <b>in this notebook below and submit to your Github account</b>.</p> \n",
    "\n",
    "<ol>\n",
    "<li>  Is the distribution of body temperatures normal? \n",
    "    <ul>\n",
    "    <li> Although this is not a requirement for the Central Limit Theorem to hold (read the introduction on Wikipedia's page about the CLT carefully: https://en.wikipedia.org/wiki/Central_limit_theorem), it gives us some peace of mind that the population may also be normally distributed if we assume that this sample is representative of the population.\n",
    "    <li> Think about the way you're going to check for the normality of the distribution. Graphical methods are usually used first, but there are also other ways: https://en.wikipedia.org/wiki/Normality_test\n",
    "    </ul>\n",
    "<li>  Is the sample size large? Are the observations independent?\n",
    "    <ul>\n",
    "    <li> Remember that this is a condition for the Central Limit Theorem, and hence the statistical tests we are using, to apply.\n",
    "    </ul>\n",
    "<li>  Is the true population mean really 98.6 degrees F?\n",
    "    <ul>\n",
    "    <li> First, try a bootstrap hypothesis test.\n",
    "    <li> Now, let's try frequentist statistical testing. Would you use a one-sample or two-sample test? Why?\n",
    "    <li> In this situation, is it appropriate to use the $t$ or $z$ statistic? \n",
    "    <li> Now try using the other test. How is the result be different? Why?\n",
    "    </ul>\n",
    "<li>  Draw a small sample of size 10 from the data and repeat both frequentist tests. \n",
    "    <ul>\n",
    "    <li> Which one is the correct one to use? \n",
    "    <li> What do you notice? What does this tell you about the difference in application of the $t$ and $z$ statistic?\n",
    "    </ul>\n",
    "<li>  At what temperature should we consider someone's temperature to be \"abnormal\"?\n",
    "    <ul>\n",
    "    <li> As in the previous example, try calculating everything using the boostrap approach, as well as the frequentist approach.\n",
    "    <li> Start by computing the margin of error and confidence interval. When calculating the confidence interval, keep in mind that you should use the appropriate formula for one draw, and not N draws.\n",
    "    </ul>\n",
    "<li>  Is there a significant difference between males and females in normal temperature?\n",
    "    <ul>\n",
    "    <li> What testing approach did you use and why?\n",
    "    <li> Write a story with your conclusion in the context of the original problem.\n",
    "    </ul>\n",
    "</ol>\n",
    "\n",
    "You can include written notes in notebook cells using Markdown: \n",
    "   - In the control panel at the top, choose Cell > Cell Type > Markdown\n",
    "   - Markdown syntax: http://nestacms.com/docs/creating-content/markdown-cheat-sheet\n",
    "\n",
    "#### Resources\n",
    "\n",
    "+ Information and data sources: http://www.amstat.org/publications/jse/datasets/normtemp.txt, http://www.amstat.org/publications/jse/jse_data_archive.htm\n",
    "+ Markdown syntax: http://nestacms.com/docs/creating-content/markdown-cheat-sheet\n",
    "\n",
    "****"
   ]
  },
  {
   "cell_type": "code",
   "execution_count": 1,
   "metadata": {},
   "outputs": [],
   "source": [
    "import pandas as pd\n",
    "\n",
    "df = pd.read_csv('human_body_temperature.csv')"
   ]
  },
  {
   "cell_type": "code",
   "execution_count": 2,
   "metadata": {},
   "outputs": [
    {
     "data": {
      "text/html": [
       "<div>\n",
       "<style scoped>\n",
       "    .dataframe tbody tr th:only-of-type {\n",
       "        vertical-align: middle;\n",
       "    }\n",
       "\n",
       "    .dataframe tbody tr th {\n",
       "        vertical-align: top;\n",
       "    }\n",
       "\n",
       "    .dataframe thead th {\n",
       "        text-align: right;\n",
       "    }\n",
       "</style>\n",
       "<table border=\"1\" class=\"dataframe\">\n",
       "  <thead>\n",
       "    <tr style=\"text-align: right;\">\n",
       "      <th></th>\n",
       "      <th>temperature</th>\n",
       "      <th>gender</th>\n",
       "      <th>heart_rate</th>\n",
       "    </tr>\n",
       "  </thead>\n",
       "  <tbody>\n",
       "    <tr>\n",
       "      <th>0</th>\n",
       "      <td>99.3</td>\n",
       "      <td>F</td>\n",
       "      <td>68</td>\n",
       "    </tr>\n",
       "    <tr>\n",
       "      <th>1</th>\n",
       "      <td>98.4</td>\n",
       "      <td>F</td>\n",
       "      <td>81</td>\n",
       "    </tr>\n",
       "    <tr>\n",
       "      <th>2</th>\n",
       "      <td>97.8</td>\n",
       "      <td>M</td>\n",
       "      <td>73</td>\n",
       "    </tr>\n",
       "    <tr>\n",
       "      <th>3</th>\n",
       "      <td>99.2</td>\n",
       "      <td>F</td>\n",
       "      <td>66</td>\n",
       "    </tr>\n",
       "    <tr>\n",
       "      <th>4</th>\n",
       "      <td>98.0</td>\n",
       "      <td>F</td>\n",
       "      <td>73</td>\n",
       "    </tr>\n",
       "  </tbody>\n",
       "</table>\n",
       "</div>"
      ],
      "text/plain": [
       "   temperature gender  heart_rate\n",
       "0         99.3      F          68\n",
       "1         98.4      F          81\n",
       "2         97.8      M          73\n",
       "3         99.2      F          66\n",
       "4         98.0      F          73"
      ]
     },
     "execution_count": 2,
     "metadata": {},
     "output_type": "execute_result"
    }
   ],
   "source": [
    "# Your work here.\n",
    "df.head()"
   ]
  },
  {
   "cell_type": "markdown",
   "metadata": {},
   "source": [
    "First we construct a histogram of all of the 131 observations, regardless of gender, and review it to consider if it appears to conform to the Normal (Gaussian) distribution. Our first investigation with the default option of ten bins suggests that it is not.Specifically, the right Tail is lower than the left Tail. \n",
    "\n",
    "However, we know from experience that sometimes the perception can shift when the number of bins for the histogram is increased, so the analysis is then repeated with thirty bins.This yields a rather different possibility. While the distribution does arguably look a bit more more normal, it appears that it might be bi-modal! A bi-modal distribution is most decidedly NOT normal (but importantly the Central Limit Theorem would still apply, but the rquired sample size might be closer to 300 than the 30 normally quoted for the Normal Distribution). "
   ]
  },
  {
   "cell_type": "code",
   "execution_count": 3,
   "metadata": {},
   "outputs": [
    {
     "data": {
      "text/plain": [
       "<Figure size 640x480 with 1 Axes>"
      ]
     },
     "metadata": {},
     "output_type": "display_data"
    }
   ],
   "source": [
    "# DWW configure these as a grid so they are side by side. \n",
    "import matplotlib.pyplot as plt\n",
    "import seaborn as sns\n",
    "sns.set()\n",
    "_= plt.hist(df['temperature'])\n",
    "_= plt.xlabel('Body Temperature')\n",
    "_= plt.ylabel('Frequency')\n",
    "plt.show()\n",
    "# add redline vertical df.temperature.mean() gives 98.25"
   ]
  },
  {
   "cell_type": "code",
   "execution_count": 4,
   "metadata": {},
   "outputs": [
    {
     "data": {
      "text/plain": [
       "(98.24923076923078, 0.7331831580389454)"
      ]
     },
     "execution_count": 4,
     "metadata": {},
     "output_type": "execute_result"
    }
   ],
   "source": [
    "df.temperature.mean(), df.temperature.std()"
   ]
  },
  {
   "cell_type": "code",
   "execution_count": 5,
   "metadata": {},
   "outputs": [
    {
     "data": {
      "image/png": "[encoded data removed]",
      "text/plain": [
       "<Figure size 432x288 with 1 Axes>"
      ]
     },
     "metadata": {},
     "output_type": "display_data"
    }
   ],
   "source": [
    "sns.set()\n",
    "_= plt.hist(df['temperature'], bins=30)\n",
    "_= plt.xlabel('Body Temperature (F)')\n",
    "_= plt.ylabel('Frequency')\n",
    "plt.show()\n",
    "# add redline vertical df.temperature.mean() gives 98.25"
   ]
  },
  {
   "cell_type": "code",
   "execution_count": 6,
   "metadata": {},
   "outputs": [
    {
     "data": {
      "text/plain": [
       "98.28814814814814"
      ]
     },
     "execution_count": 6,
     "metadata": {},
     "output_type": "execute_result"
    }
   ],
   "source": [
    "import numpy as np\n",
    "bs_sample= np.random.choice(df.temperature, size=135)\n",
    "np.mean(bs_sample)\n"
   ]
  },
  {
   "cell_type": "code",
   "execution_count": 7,
   "metadata": {},
   "outputs": [],
   "source": [
    "def bootstrap_replicate_1D(data, func):\n",
    "    \"\"\"Generate bootstrap replicate of 1D data\"\"\"\n",
    "    bs_sample= np.random.choice(data, len(data))\n",
    "    return func(bs_sample)\n"
   ]
  },
  {
   "cell_type": "code",
   "execution_count": 8,
   "metadata": {},
   "outputs": [
    {
     "data": {
      "text/plain": [
       "98.20384615384616"
      ]
     },
     "execution_count": 8,
     "metadata": {},
     "output_type": "execute_result"
    }
   ],
   "source": [
    "bootstrap_replicate_1D(df.temperature, np.mean)"
   ]
  },
  {
   "cell_type": "code",
   "execution_count": 9,
   "metadata": {},
   "outputs": [],
   "source": [
    "import numpy as np\n",
    "bs_replicates = np.empty(10000)\n",
    "\n",
    "for i in range(10000):\n",
    "    bs_replicates[i]= bootstrap_replicate_1D(df.temperature, np.mean)"
   ]
  },
  {
   "cell_type": "code",
   "execution_count": 10,
   "metadata": {},
   "outputs": [
    {
     "name": "stderr",
     "output_type": "stream",
     "text": [
      "/anaconda3/lib/python3.7/site-packages/matplotlib/axes/_axes.py:6521: MatplotlibDeprecationWarning: \n",
      "The 'normed' kwarg was deprecated in Matplotlib 2.1 and will be removed in 3.1. Use 'density' instead.\n",
      "  alternative=\"'density'\", removal=\"3.1\")\n"
     ]
    },
    {
     "data": {
      "image/png": "[encoded data removed]",
      "text/plain": [
       "<Figure size 432x288 with 1 Axes>"
      ]
     },
     "metadata": {},
     "output_type": "display_data"
    }
   ],
   "source": [
    "sns.set()\n",
    "_= plt.hist(bs_replicates, bins=30, normed=True)\n",
    "_= plt.xlabel('Body Temperature (F)')\n",
    "_= plt.ylabel('Frequency')\n",
    "_= plt.title('Histogram of Sample Mean for 10000 Bootstrap samples of 135 cases each')\n",
    "plt.show()"
   ]
  },
  {
   "cell_type": "code",
   "execution_count": 11,
   "metadata": {},
   "outputs": [
    {
     "data": {
      "text/plain": [
       "array([98.12230769, 98.37615385])"
      ]
     },
     "execution_count": 11,
     "metadata": {},
     "output_type": "execute_result"
    }
   ],
   "source": [
    "conf_int= np.percentile(bs_replicates, [2.5,97.5])\n",
    "conf_int\n",
    "# Add two vertical lines to mark interval"
   ]
  },
  {
   "cell_type": "markdown",
   "metadata": {},
   "source": [
    "So regarding our original question, \"The mean normal body temperature was held to be 98.6∘F for more than 120 years \n",
    "since it was first conceptualized and reported by Carl Wunderlich in a famous 1868 book. \n",
    "But, is this value statistically correct?\"\n",
    "Since the value of 98.6 lies outside the \"Bootstrap confidence interval\", we should reject Wunderlich's hypothesis that the mean is 98.6 F."
   ]
  },
  {
   "cell_type": "markdown",
   "metadata": {},
   "source": [
    "Regarding the Frequentist approach, we should (predicated upon the normality of the distribution, which as discussed \n",
    "above is somewhat dubious), derive a t-value by dividing the difference between the hypothesised population mean and the observed sample mean of 98.249, and dividing by the Standard error of the mean (here the sample standard deviation of 0.733 divided by the square root of 135."
   ]
  },
  {
   "cell_type": "code",
   "execution_count": 12,
   "metadata": {},
   "outputs": [
    {
     "data": {
      "text/plain": [
       "5.475925202078116"
      ]
     },
     "execution_count": 12,
     "metadata": {},
     "output_type": "execute_result"
    }
   ],
   "source": [
    "Frequentist_t_value = (98.6 - np.mean(df.temperature))/(np.std(df.temperature)/(len(df.temperature)**0.5))\n",
    "Frequentist_t_value"
   ]
  },
  {
   "cell_type": "markdown",
   "metadata": {},
   "source": [
    "The appropriate test here is two-tailed, and the t-value is so high that it is significant at the 1% level.\n",
    "So the Null Hypothesis must also be rejected acording to the frequentist approach. \n",
    "Incidentally, tha same conclusion would have been drawn hhad a z-value been used, since (a) with a sample size of 135 the t-value and the z value are not much different, and (b) the t-values are higher than the z-value (of 2.33 for the 1% Significance Level)."
   ]
  },
  {
   "cell_type": "code",
   "execution_count": 13,
   "metadata": {},
   "outputs": [
    {
     "data": {
      "text/plain": [
       "(98.23999999999998, 1.7901809334480612)"
      ]
     },
     "execution_count": 13,
     "metadata": {},
     "output_type": "execute_result"
    }
   ],
   "source": [
    "small_sample= np.random.choice(df.temperature, size=10)\n",
    "np.mean(small_sample)\n",
    "small_t_value = (98.6 - np.mean(small_sample))/(np.std(small_sample)/(len(small_sample)**0.5))\n",
    "np.mean(small_sample), small_t_value"
   ]
  },
  {
   "cell_type": "markdown",
   "metadata": {},
   "source": [
    "With the small sample of just ten cases, the result is not statistically significant "
   ]
  },
  {
   "cell_type": "markdown",
   "metadata": {},
   "source": [
    "Is there a statistical difference between males and females? \n",
    "So now we create two dataframes and compare the normed histograms, and their means and variance. \n",
    "We can then conduct significance tests to see if the mean temperature is statistically significant.\n",
    "From the histograms below we can observe that neither distribution is particularly normal, and furthermore that all of the highest temperature values are recorded by females. \n",
    "Because of the lack of normality, and because the sample sizes for each of the two genders is far below the 300 threshold cited for the Centrakl Limit Theorem where the population is not normal, the Bootstrap approach appears to be \n",
    "the more robust approach."
   ]
  },
  {
   "cell_type": "code",
   "execution_count": 14,
   "metadata": {},
   "outputs": [],
   "source": [
    "male= df[df.gender== 'M'].temperature\n",
    "female = df[df.gender== 'F'].temperature"
   ]
  },
  {
   "cell_type": "code",
   "execution_count": 15,
   "metadata": {},
   "outputs": [
    {
     "name": "stderr",
     "output_type": "stream",
     "text": [
      "/anaconda3/lib/python3.7/site-packages/matplotlib/axes/_axes.py:6521: MatplotlibDeprecationWarning: \n",
      "The 'normed' kwarg was deprecated in Matplotlib 2.1 and will be removed in 3.1. Use 'density' instead.\n",
      "  alternative=\"'density'\", removal=\"3.1\")\n"
     ]
    },
    {
     "data": {
      "image/png": "[encoded data removed]",
      "text/plain": [
       "<Figure size 432x288 with 1 Axes>"
      ]
     },
     "metadata": {},
     "output_type": "display_data"
    }
   ],
   "source": [
    "sns.set()\n",
    "_= plt.hist(male, normed= True, bins=15)\n",
    "_= plt.xlabel('Male Body Temperature')\n",
    "_= plt.ylabel('Frequency')\n",
    "_= plt.title('Male Temperatures')\n",
    "plt.show()\n",
    "# add redline vertical df.temperature.mean() gives 98.25"
   ]
  },
  {
   "cell_type": "code",
   "execution_count": 16,
   "metadata": {},
   "outputs": [
    {
     "name": "stderr",
     "output_type": "stream",
     "text": [
      "/anaconda3/lib/python3.7/site-packages/matplotlib/axes/_axes.py:6521: MatplotlibDeprecationWarning: \n",
      "The 'normed' kwarg was deprecated in Matplotlib 2.1 and will be removed in 3.1. Use 'density' instead.\n",
      "  alternative=\"'density'\", removal=\"3.1\")\n"
     ]
    },
    {
     "data": {
      "image/png": "[encoded data removed]",
      "text/plain": [
       "<Figure size 432x288 with 1 Axes>"
      ]
     },
     "metadata": {},
     "output_type": "display_data"
    }
   ],
   "source": [
    "sns.set()\n",
    "_= plt.hist(female, normed= True, bins=15)\n",
    "_= plt.xlabel('Female Body Temperature')\n",
    "_= plt.ylabel('Frequency')\n",
    "_= plt.title('Female Temperatures')\n",
    "plt.show()\n",
    "# add redline vertical df.temperature.mean() gives 98.25"
   ]
  },
  {
   "cell_type": "markdown",
   "metadata": {},
   "source": [
    "From the above two histograms it appears that we need to do a Bootstrap significance test for the difference of \n",
    "two means (for males and females respectively) for distributions that are NOT identical.\n",
    "The Code for this is set forth below, and yields a P-value of zero!!\n",
    "Accordingly, there is a statistically significant difference between males and females, with females having a higher mean temperature. \n"
   ]
  },
  {
   "cell_type": "code",
   "execution_count": 17,
   "metadata": {},
   "outputs": [],
   "source": [
    "# draw_bs_reps()\n",
    "def draw_bs_reps(data, func, size=1):\n",
    "    \"\"\"Draw bootstrap replicates.\"\"\"\n",
    "    return func(np.random.choice(data,size=len(data)))\n",
    "    # Initialize array of replicates: bs_replicates\n",
    "    bs_replicates = np.empty(size)\n",
    "\n",
    "    # Generate replicates\n",
    "    for i in range(size):\n",
    "        bs_replicates[i] = bootstrap_replicate_1d(data, func)\n",
    "    return bs_replicates"
   ]
  },
  {
   "cell_type": "code",
   "execution_count": null,
   "metadata": {},
   "outputs": [],
   "source": [
    "\n"
   ]
  },
  {
   "cell_type": "code",
   "execution_count": 18,
   "metadata": {},
   "outputs": [
    {
     "name": "stdout",
     "output_type": "stream",
     "text": [
      "p-value = 0.0\n"
     ]
    }
   ],
   "source": [
    "temp_concat= np.concatenate((male, female))\n",
    "mean_temp = np.mean(temp_concat)  # Compute mean of all temperatures\n",
    "empirical_diff_means = np.mean(female) - np.mean(male)\n",
    "male_shifted = male - np.mean(male) + mean_temp  # Generate shifted arrays\n",
    "female_shifted = female - np.mean(female) + mean_temp\n",
    "bs_replicates_male = draw_bs_reps(male_shifted, np.mean, size=10000)#Compute 10000 bootstrap replicates from shifted arrays\n",
    "bs_replicates_female = draw_bs_reps(female_shifted, np.mean, size=10000)\n",
    "bs_replicates = bs_replicates_male - bs_replicates_female   # Get replicates of difference of means: bs_replicates\n",
    "\n",
    "p = np.sum(bs_replicates > empirical_diff_means) /10000 # len(bs_replicates) # Compute and print p-value: p\n",
    "print('p-value =', p)"
   ]
  },
  {
   "cell_type": "markdown",
   "metadata": {},
   "source": [
    "Write a story with with your conclusion in the context of the original problem:\n",
    "\n",
    "“It ain't what you don't know that gets you into trouble. It's what you know for sure that just ain't so.” Quote attributed to Mark Twain\n",
    "\n",
    "The mean normal body temperature was held to be 98.6∘F for more than 120 years since it was first conceptualized and reported by Carl Wunderlich in a famous 1868 book. But, is this value statistically correct?\n",
    "\n",
    "The foregoing analysis has revealed at least two findings of interest.\n",
    "\n",
    "First, when we take the mixed gender sample of 135 men and women, the mean body temperature of the sample was 98.2, and this level was significantly below the 98.6 value attributed to Carl Wunderlich, and apparantly accepted by the scientific community for more than 120 years.\n",
    "\n",
    "Second, within the aggregate sample a Bootstrap analysis revealed that the temperatures of females was higher than for males, and that this difference was highly statistically significant.\n",
    "\n",
    "This raises the question as to whether Wunderlich's sample (taken prior to 1868) could have been composed entirely of females. But this might be considered unlikely by some.\n"
   ]
  },
  {
   "cell_type": "code",
   "execution_count": null,
   "metadata": {},
   "outputs": [],
   "source": []
  },
  {
   "cell_type": "code",
   "execution_count": null,
   "metadata": {},
   "outputs": [],
   "source": []
  },
  {
   "cell_type": "code",
   "execution_count": null,
   "metadata": {},
   "outputs": [],
   "source": []
  },
  {
   "cell_type": "code",
   "execution_count": null,
   "metadata": {},
   "outputs": [],
   "source": []
  },
  {
   "cell_type": "code",
   "execution_count": null,
   "metadata": {},
   "outputs": [],
   "source": []
  },
  {
   "cell_type": "code",
   "execution_count": null,
   "metadata": {},
   "outputs": [],
   "source": []
  }
 ],
 "metadata": {
  "kernelspec": {
   "display_name": "Python 3",
   "language": "python",
   "name": "python3"
  },
  "language_info": {
   "codemirror_mode": {
    "name": "ipython",
    "version": 3
   },
   "file_extension": ".py",
   "mimetype": "text/x-python",
   "name": "python",
   "nbconvert_exporter": "python",
   "pygments_lexer": "ipython3",
   "version": "3.7.1"
  }
 },
 "nbformat": 4,
 "nbformat_minor": 1
}
