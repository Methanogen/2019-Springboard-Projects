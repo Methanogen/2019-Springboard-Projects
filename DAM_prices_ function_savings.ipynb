{
 "cells": [
  {
   "cell_type": "code",
   "execution_count": 29,
   "metadata": {},
   "outputs": [
    {
     "name": "stdout",
     "output_type": "stream",
     "text": [
      "C:\\Users\\DWWillson\\Desktop\\CAISO Monthly Prices\n"
     ]
    }
   ],
   "source": [
    "import os\n",
    "print(os.getcwd())"
   ]
  },
  {
   "cell_type": "markdown",
   "metadata": {},
   "source": [
    "# Overview\n",
    "We define a function on concatenated (CAISO) monthly price files which:\n",
    "\n",
    "(a) plots the daily average price for a \"Sensible\" strategy of charging for two hours at the onset of the Off-Peak Period,\n",
    "    versus the average for a \"Clever\" strategy of choosing the two hours with the lowest. \n",
    "    This sets an upper bound for the savings \n",
    "    An actual implementation might choose periods based on the DAM prices from 1pm the prior day modified by updated weather conditions, and\n",
    "\n",
    "(b) compares the mean price for each strategy for each month, and computes the percentage savings.\n",
    "\n",
    "A separate issue is whether any price spikes occured, which we should check for!"
   ]
  },
  {
   "cell_type": "markdown",
   "metadata": {},
   "source": [
    "# Approach\n",
    "We first place the subject files in a Python list, and then read them via a list comprehension, whereupon they are concatenated (for example to compile a complete and continuous year, so that seasonal factors may be deemed less of an issue).\n",
    "This is plotted for review.\n",
    "Next the two hours at the onset of Off-Peak Pricing are carved out (dfm),\n",
    "and the mean daily price computed pursuant to a groupby() on 'day' (Sensible strategy).\n",
    "Then the \"wee\" hours from midnight to 6am are carved out (dfw) and the mean daily price is computed based on the lowest two hours, again via a groupby() on 'day'.\n"
   ]
  },
  {
   "cell_type": "markdown",
   "metadata": {},
   "source": [
    "# Insights\n",
    "This analysis seems to be saying that there are potential cost savings of 24-XX% for Level One & Level Two charging respectively). However, my personal sense is that other grids, such as MISO, which have relatively higher amounts of Wind generation (and occoasional negative nighttime prices), may offer even larger savings. While we do not have 5-minute data \n",
    " for MISO, we do have hourly data and so one approach is to compare the hourly standard deviation of prices. From this an extraplotation to 5-minute standard deviation can be inferred. Potential savings from opportunistic charging may then be obtained from silulations."
   ]
  },
  {
   "cell_type": "code",
   "execution_count": 1,
   "metadata": {},
   "outputs": [],
   "source": [
    "import pandas as pd\n",
    "df= pd.read_csv('DAM_Jan_2019.csv')"
   ]
  },
  {
   "cell_type": "code",
   "execution_count": 2,
   "metadata": {},
   "outputs": [
    {
     "name": "stdout",
     "output_type": "stream",
     "text": [
      "<class 'pandas.core.frame.DataFrame'>\n",
      "RangeIndex: 2976 entries, 0 to 2975\n",
      "Data columns (total 16 columns):\n",
      "INTERVALSTARTTIME_GMT    2976 non-null object\n",
      "INTERVALENDTIME_GMT      2976 non-null object\n",
      "OPR_DT                   2976 non-null object\n",
      "OPR_HR                   2976 non-null int64\n",
      "OPR_INTERVAL             2976 non-null int64\n",
      "NODE_ID_XML              2976 non-null object\n",
      "NODE_ID                  2976 non-null object\n",
      "NODE                     2976 non-null object\n",
      "MARKET_RUN_ID            2976 non-null object\n",
      "LMP_TYPE                 2976 non-null object\n",
      "XML_DATA_ITEM            2976 non-null object\n",
      "PNODE_RESMRID            2976 non-null object\n",
      "GRP_TYPE                 2976 non-null object\n",
      "POS                      2976 non-null int64\n",
      "MW                       2976 non-null float64\n",
      "GROUP                    2976 non-null int64\n",
      "dtypes: float64(1), int64(4), object(11)\n",
      "memory usage: 372.1+ KB\n"
     ]
    }
   ],
   "source": [
    "df.info()"
   ]
  },
  {
   "cell_type": "code",
   "execution_count": 3,
   "metadata": {},
   "outputs": [
    {
     "data": {
      "text/html": [
       "<div>\n",
       "<style scoped>\n",
       "    .dataframe tbody tr th:only-of-type {\n",
       "        vertical-align: middle;\n",
       "    }\n",
       "\n",
       "    .dataframe tbody tr th {\n",
       "        vertical-align: top;\n",
       "    }\n",
       "\n",
       "    .dataframe thead th {\n",
       "        text-align: right;\n",
       "    }\n",
       "</style>\n",
       "<table border=\"1\" class=\"dataframe\">\n",
       "  <thead>\n",
       "    <tr style=\"text-align: right;\">\n",
       "      <th></th>\n",
       "      <th>INTERVALSTARTTIME_GMT</th>\n",
       "      <th>INTERVALENDTIME_GMT</th>\n",
       "      <th>OPR_DT</th>\n",
       "      <th>OPR_HR</th>\n",
       "      <th>OPR_INTERVAL</th>\n",
       "      <th>NODE_ID_XML</th>\n",
       "      <th>NODE_ID</th>\n",
       "      <th>NODE</th>\n",
       "      <th>MARKET_RUN_ID</th>\n",
       "      <th>LMP_TYPE</th>\n",
       "      <th>XML_DATA_ITEM</th>\n",
       "      <th>PNODE_RESMRID</th>\n",
       "      <th>GRP_TYPE</th>\n",
       "      <th>POS</th>\n",
       "      <th>MW</th>\n",
       "      <th>GROUP</th>\n",
       "    </tr>\n",
       "  </thead>\n",
       "  <tbody>\n",
       "    <tr>\n",
       "      <th>0</th>\n",
       "      <td>2019-01-02T05:00:00-00:00</td>\n",
       "      <td>2019-01-02T06:00:00-00:00</td>\n",
       "      <td>1/1/2019</td>\n",
       "      <td>22</td>\n",
       "      <td>0</td>\n",
       "      <td>TH_NP15_GEN-APND</td>\n",
       "      <td>TH_NP15_GEN-APND</td>\n",
       "      <td>TH_NP15_GEN-APND</td>\n",
       "      <td>DAM</td>\n",
       "      <td>LMP</td>\n",
       "      <td>LMP_PRC</td>\n",
       "      <td>TH_NP15_GEN-APND</td>\n",
       "      <td>ALL_APNODES</td>\n",
       "      <td>0</td>\n",
       "      <td>50.58543</td>\n",
       "      <td>1</td>\n",
       "    </tr>\n",
       "    <tr>\n",
       "      <th>1</th>\n",
       "      <td>2019-01-02T07:00:00-00:00</td>\n",
       "      <td>2019-01-02T08:00:00-00:00</td>\n",
       "      <td>1/1/2019</td>\n",
       "      <td>24</td>\n",
       "      <td>0</td>\n",
       "      <td>TH_NP15_GEN-APND</td>\n",
       "      <td>TH_NP15_GEN-APND</td>\n",
       "      <td>TH_NP15_GEN-APND</td>\n",
       "      <td>DAM</td>\n",
       "      <td>LMP</td>\n",
       "      <td>LMP_PRC</td>\n",
       "      <td>TH_NP15_GEN-APND</td>\n",
       "      <td>ALL_APNODES</td>\n",
       "      <td>0</td>\n",
       "      <td>45.04523</td>\n",
       "      <td>1</td>\n",
       "    </tr>\n",
       "    <tr>\n",
       "      <th>2</th>\n",
       "      <td>2019-01-02T04:00:00-00:00</td>\n",
       "      <td>2019-01-02T05:00:00-00:00</td>\n",
       "      <td>1/1/2019</td>\n",
       "      <td>21</td>\n",
       "      <td>0</td>\n",
       "      <td>TH_NP15_GEN-APND</td>\n",
       "      <td>TH_NP15_GEN-APND</td>\n",
       "      <td>TH_NP15_GEN-APND</td>\n",
       "      <td>DAM</td>\n",
       "      <td>LMP</td>\n",
       "      <td>LMP_PRC</td>\n",
       "      <td>TH_NP15_GEN-APND</td>\n",
       "      <td>ALL_APNODES</td>\n",
       "      <td>0</td>\n",
       "      <td>53.25076</td>\n",
       "      <td>1</td>\n",
       "    </tr>\n",
       "    <tr>\n",
       "      <th>3</th>\n",
       "      <td>2019-01-01T22:00:00-00:00</td>\n",
       "      <td>2019-01-01T23:00:00-00:00</td>\n",
       "      <td>1/1/2019</td>\n",
       "      <td>15</td>\n",
       "      <td>0</td>\n",
       "      <td>TH_NP15_GEN-APND</td>\n",
       "      <td>TH_NP15_GEN-APND</td>\n",
       "      <td>TH_NP15_GEN-APND</td>\n",
       "      <td>DAM</td>\n",
       "      <td>LMP</td>\n",
       "      <td>LMP_PRC</td>\n",
       "      <td>TH_NP15_GEN-APND</td>\n",
       "      <td>ALL_APNODES</td>\n",
       "      <td>0</td>\n",
       "      <td>22.00497</td>\n",
       "      <td>1</td>\n",
       "    </tr>\n",
       "    <tr>\n",
       "      <th>4</th>\n",
       "      <td>2019-01-01T16:00:00-00:00</td>\n",
       "      <td>2019-01-01T17:00:00-00:00</td>\n",
       "      <td>1/1/2019</td>\n",
       "      <td>9</td>\n",
       "      <td>0</td>\n",
       "      <td>TH_NP15_GEN-APND</td>\n",
       "      <td>TH_NP15_GEN-APND</td>\n",
       "      <td>TH_NP15_GEN-APND</td>\n",
       "      <td>DAM</td>\n",
       "      <td>LMP</td>\n",
       "      <td>LMP_PRC</td>\n",
       "      <td>TH_NP15_GEN-APND</td>\n",
       "      <td>ALL_APNODES</td>\n",
       "      <td>0</td>\n",
       "      <td>35.99172</td>\n",
       "      <td>1</td>\n",
       "    </tr>\n",
       "  </tbody>\n",
       "</table>\n",
       "</div>"
      ],
      "text/plain": [
       "       INTERVALSTARTTIME_GMT        INTERVALENDTIME_GMT    OPR_DT  OPR_HR  \\\n",
       "0  2019-01-02T05:00:00-00:00  2019-01-02T06:00:00-00:00  1/1/2019      22   \n",
       "1  2019-01-02T07:00:00-00:00  2019-01-02T08:00:00-00:00  1/1/2019      24   \n",
       "2  2019-01-02T04:00:00-00:00  2019-01-02T05:00:00-00:00  1/1/2019      21   \n",
       "3  2019-01-01T22:00:00-00:00  2019-01-01T23:00:00-00:00  1/1/2019      15   \n",
       "4  2019-01-01T16:00:00-00:00  2019-01-01T17:00:00-00:00  1/1/2019       9   \n",
       "\n",
       "   OPR_INTERVAL       NODE_ID_XML           NODE_ID              NODE  \\\n",
       "0             0  TH_NP15_GEN-APND  TH_NP15_GEN-APND  TH_NP15_GEN-APND   \n",
       "1             0  TH_NP15_GEN-APND  TH_NP15_GEN-APND  TH_NP15_GEN-APND   \n",
       "2             0  TH_NP15_GEN-APND  TH_NP15_GEN-APND  TH_NP15_GEN-APND   \n",
       "3             0  TH_NP15_GEN-APND  TH_NP15_GEN-APND  TH_NP15_GEN-APND   \n",
       "4             0  TH_NP15_GEN-APND  TH_NP15_GEN-APND  TH_NP15_GEN-APND   \n",
       "\n",
       "  MARKET_RUN_ID LMP_TYPE XML_DATA_ITEM     PNODE_RESMRID     GRP_TYPE  POS  \\\n",
       "0           DAM      LMP       LMP_PRC  TH_NP15_GEN-APND  ALL_APNODES    0   \n",
       "1           DAM      LMP       LMP_PRC  TH_NP15_GEN-APND  ALL_APNODES    0   \n",
       "2           DAM      LMP       LMP_PRC  TH_NP15_GEN-APND  ALL_APNODES    0   \n",
       "3           DAM      LMP       LMP_PRC  TH_NP15_GEN-APND  ALL_APNODES    0   \n",
       "4           DAM      LMP       LMP_PRC  TH_NP15_GEN-APND  ALL_APNODES    0   \n",
       "\n",
       "         MW  GROUP  \n",
       "0  50.58543      1  \n",
       "1  45.04523      1  \n",
       "2  53.25076      1  \n",
       "3  22.00497      1  \n",
       "4  35.99172      1  "
      ]
     },
     "execution_count": 3,
     "metadata": {},
     "output_type": "execute_result"
    }
   ],
   "source": [
    "df.head()"
   ]
  },
  {
   "cell_type": "code",
   "execution_count": 1,
   "metadata": {},
   "outputs": [
    {
     "ename": "NameError",
     "evalue": "name 'pd' is not defined",
     "output_type": "error",
     "traceback": [
      "\u001b[0;31m---------------------------------------------------------------------------\u001b[0m",
      "\u001b[0;31mNameError\u001b[0m                                 Traceback (most recent call last)",
      "\u001b[0;32m<ipython-input-1-9b8123e39a1e>\u001b[0m in \u001b[0;36m<module>\u001b[0;34m\u001b[0m\n\u001b[1;32m      4\u001b[0m \u001b[0mfiles\u001b[0m\u001b[0;34m=\u001b[0m \u001b[0;34m[\u001b[0m\u001b[0;34m'DAM_Jan_2018.csv'\u001b[0m\u001b[0;34m,\u001b[0m\u001b[0;34m'DAM_Feb_2018.csv'\u001b[0m\u001b[0;34m,\u001b[0m \u001b[0;34m'DAM_March_2018.csv'\u001b[0m\u001b[0;34m,\u001b[0m\u001b[0;34m'DAM_April_2018.csv'\u001b[0m\u001b[0;34m,\u001b[0m\u001b[0;34m'DAM_May_2018.csv'\u001b[0m\u001b[0;34m,\u001b[0m\u001b[0;34m'DAM_June_2018.csv'\u001b[0m\u001b[0;34m]\u001b[0m\u001b[0;34m\u001b[0m\u001b[0;34m\u001b[0m\u001b[0m\n\u001b[1;32m      5\u001b[0m \u001b[0;34m\u001b[0m\u001b[0m\n\u001b[0;32m----> 6\u001b[0;31m \u001b[0mframes\u001b[0m\u001b[0;34m=\u001b[0m \u001b[0;34m[\u001b[0m \u001b[0mpd\u001b[0m\u001b[0;34m.\u001b[0m\u001b[0mread_csv\u001b[0m\u001b[0;34m(\u001b[0m\u001b[0mfile\u001b[0m\u001b[0;34m,\u001b[0m \u001b[0mheader\u001b[0m\u001b[0;34m=\u001b[0m \u001b[0;36m0\u001b[0m\u001b[0;34m,\u001b[0m \u001b[0musecols\u001b[0m\u001b[0;34m=\u001b[0m \u001b[0;34m[\u001b[0m\u001b[0;36m0\u001b[0m\u001b[0;34m,\u001b[0m\u001b[0;36m2\u001b[0m\u001b[0;34m,\u001b[0m\u001b[0;36m3\u001b[0m\u001b[0;34m,\u001b[0m\u001b[0;36m9\u001b[0m\u001b[0;34m,\u001b[0m\u001b[0;36m14\u001b[0m\u001b[0;34m]\u001b[0m\u001b[0;34m,\u001b[0m\u001b[0mparse_dates\u001b[0m\u001b[0;34m=\u001b[0m \u001b[0;32mTrue\u001b[0m\u001b[0;34m,\u001b[0m \u001b[0mindex_col\u001b[0m\u001b[0;34m=\u001b[0m \u001b[0;34m'INTERVALSTARTTIME_GMT'\u001b[0m\u001b[0;34m)\u001b[0m \u001b[0;32mfor\u001b[0m \u001b[0mfile\u001b[0m \u001b[0;32min\u001b[0m \u001b[0mfiles\u001b[0m\u001b[0;34m]\u001b[0m\u001b[0;34m\u001b[0m\u001b[0;34m\u001b[0m\u001b[0m\n\u001b[0m\u001b[1;32m      7\u001b[0m \u001b[0mdf1\u001b[0m\u001b[0;34m=\u001b[0m \u001b[0mpd\u001b[0m\u001b[0;34m.\u001b[0m\u001b[0mconcat\u001b[0m\u001b[0;34m(\u001b[0m\u001b[0mframes\u001b[0m\u001b[0;34m)\u001b[0m\u001b[0;34m\u001b[0m\u001b[0;34m\u001b[0m\u001b[0m\n\u001b[1;32m      8\u001b[0m \u001b[0mdfp\u001b[0m\u001b[0;34m=\u001b[0m \u001b[0mdf1\u001b[0m\u001b[0;34m[\u001b[0m\u001b[0mdf1\u001b[0m\u001b[0;34m[\u001b[0m\u001b[0;34m'LMP_TYPE'\u001b[0m\u001b[0;34m]\u001b[0m \u001b[0;34m==\u001b[0m \u001b[0;34m'LMP'\u001b[0m\u001b[0;34m]\u001b[0m \u001b[0;31m# drops the other four price components and reduces data rows by 80%\u001b[0m\u001b[0;34m\u001b[0m\u001b[0;34m\u001b[0m\u001b[0m\n",
      "\u001b[0;32m<ipython-input-1-9b8123e39a1e>\u001b[0m in \u001b[0;36m<listcomp>\u001b[0;34m(.0)\u001b[0m\n\u001b[1;32m      4\u001b[0m \u001b[0mfiles\u001b[0m\u001b[0;34m=\u001b[0m \u001b[0;34m[\u001b[0m\u001b[0;34m'DAM_Jan_2018.csv'\u001b[0m\u001b[0;34m,\u001b[0m\u001b[0;34m'DAM_Feb_2018.csv'\u001b[0m\u001b[0;34m,\u001b[0m \u001b[0;34m'DAM_March_2018.csv'\u001b[0m\u001b[0;34m,\u001b[0m\u001b[0;34m'DAM_April_2018.csv'\u001b[0m\u001b[0;34m,\u001b[0m\u001b[0;34m'DAM_May_2018.csv'\u001b[0m\u001b[0;34m,\u001b[0m\u001b[0;34m'DAM_June_2018.csv'\u001b[0m\u001b[0;34m]\u001b[0m\u001b[0;34m\u001b[0m\u001b[0;34m\u001b[0m\u001b[0m\n\u001b[1;32m      5\u001b[0m \u001b[0;34m\u001b[0m\u001b[0m\n\u001b[0;32m----> 6\u001b[0;31m \u001b[0mframes\u001b[0m\u001b[0;34m=\u001b[0m \u001b[0;34m[\u001b[0m \u001b[0mpd\u001b[0m\u001b[0;34m.\u001b[0m\u001b[0mread_csv\u001b[0m\u001b[0;34m(\u001b[0m\u001b[0mfile\u001b[0m\u001b[0;34m,\u001b[0m \u001b[0mheader\u001b[0m\u001b[0;34m=\u001b[0m \u001b[0;36m0\u001b[0m\u001b[0;34m,\u001b[0m \u001b[0musecols\u001b[0m\u001b[0;34m=\u001b[0m \u001b[0;34m[\u001b[0m\u001b[0;36m0\u001b[0m\u001b[0;34m,\u001b[0m\u001b[0;36m2\u001b[0m\u001b[0;34m,\u001b[0m\u001b[0;36m3\u001b[0m\u001b[0;34m,\u001b[0m\u001b[0;36m9\u001b[0m\u001b[0;34m,\u001b[0m\u001b[0;36m14\u001b[0m\u001b[0;34m]\u001b[0m\u001b[0;34m,\u001b[0m\u001b[0mparse_dates\u001b[0m\u001b[0;34m=\u001b[0m \u001b[0;32mTrue\u001b[0m\u001b[0;34m,\u001b[0m \u001b[0mindex_col\u001b[0m\u001b[0;34m=\u001b[0m \u001b[0;34m'INTERVALSTARTTIME_GMT'\u001b[0m\u001b[0;34m)\u001b[0m \u001b[0;32mfor\u001b[0m \u001b[0mfile\u001b[0m \u001b[0;32min\u001b[0m \u001b[0mfiles\u001b[0m\u001b[0;34m]\u001b[0m\u001b[0;34m\u001b[0m\u001b[0;34m\u001b[0m\u001b[0m\n\u001b[0m\u001b[1;32m      7\u001b[0m \u001b[0mdf1\u001b[0m\u001b[0;34m=\u001b[0m \u001b[0mpd\u001b[0m\u001b[0;34m.\u001b[0m\u001b[0mconcat\u001b[0m\u001b[0;34m(\u001b[0m\u001b[0mframes\u001b[0m\u001b[0;34m)\u001b[0m\u001b[0;34m\u001b[0m\u001b[0;34m\u001b[0m\u001b[0m\n\u001b[1;32m      8\u001b[0m \u001b[0mdfp\u001b[0m\u001b[0;34m=\u001b[0m \u001b[0mdf1\u001b[0m\u001b[0;34m[\u001b[0m\u001b[0mdf1\u001b[0m\u001b[0;34m[\u001b[0m\u001b[0;34m'LMP_TYPE'\u001b[0m\u001b[0;34m]\u001b[0m \u001b[0;34m==\u001b[0m \u001b[0;34m'LMP'\u001b[0m\u001b[0;34m]\u001b[0m \u001b[0;31m# drops the other four price components and reduces data rows by 80%\u001b[0m\u001b[0;34m\u001b[0m\u001b[0;34m\u001b[0m\u001b[0m\n",
      "\u001b[0;31mNameError\u001b[0m: name 'pd' is not defined"
     ]
    }
   ],
   "source": [
    "# files= ['DAM_Jan_2018.csv','DAM_Feb_2018.csv', 'DAM_March_2018.csv','DAM_April_2018.csv','DAM_May_2018.csv','DAM_June_2018.csv','DAM_July_2018.csv','DAM_Aug_2018.csv','DAM_Sept_2018.csv','DAM_Oct_2018.csv','DAM_Nov_2018.csv','DAM_Dec_2018.csv']\n",
    "# files= ['DAM_Jan_2019.csv']\n",
    "\n",
    "files= ['DAM_Jan_2018.csv','DAM_Feb_2018.csv', 'DAM_March_2018.csv','DAM_April_2018.csv','DAM_May_2018.csv','DAM_June_2018.csv']\n",
    "\n",
    "frames= [ pd.read_csv(file, header= 0, usecols= [0,2,3,9,14],parse_dates= True, index_col= 'INTERVALSTARTTIME_GMT') for file in files]\n",
    "df1= pd.concat(frames)\n",
    "dfp= df1[df1['LMP_TYPE'] == 'LMP'] # drops the other four price components and reduces data rows by 80%\n",
    "dfp['date']= pd.to_datetime(dfp['OPR_DT']) #needed for plotting after the groupby SPECIFY FORMAT!!\n",
    "dfp= dfp.drop(['OPR_DT','LMP_TYPE'],axis=1)\n",
    "dfp.columns= ['hour','price','day']\n",
    "dfp['weekday']= dfp.day.dt.weekday_name\n",
    "dfp['month']= dfp.day.dt.month #new code\n",
    "dfp.index.names= ['date']\n",
    "dfp.info()\n",
    "dfp.head()"
   ]
  },
  {
   "cell_type": "markdown",
   "metadata": {},
   "source": []
  },
  {
   "cell_type": "code",
   "execution_count": 6,
   "metadata": {},
   "outputs": [],
   "source": []
  },
  {
   "cell_type": "code",
   "execution_count": null,
   "metadata": {},
   "outputs": [],
   "source": []
  },
  {
   "cell_type": "code",
   "execution_count": 7,
   "metadata": {},
   "outputs": [],
   "source": []
  },
  {
   "cell_type": "code",
   "execution_count": 8,
   "metadata": {},
   "outputs": [
    {
     "name": "stderr",
     "output_type": "stream",
     "text": [
      "C:\\Users\\DWWillson\\Anaconda3\\lib\\site-packages\\ipykernel_launcher.py:1: SettingWithCopyWarning: \n",
      "A value is trying to be set on a copy of a slice from a DataFrame.\n",
      "Try using .loc[row_indexer,col_indexer] = value instead\n",
      "\n",
      "See the caveats in the documentation: http://pandas.pydata.org/pandas-docs/stable/indexing.html#indexing-view-versus-copy\n",
      "  \"\"\"Entry point for launching an IPython kernel.\n"
     ]
    }
   ],
   "source": []
  },
  {
   "cell_type": "code",
   "execution_count": 9,
   "metadata": {},
   "outputs": [
    {
     "name": "stdout",
     "output_type": "stream",
     "text": [
      "<class 'pandas.core.frame.DataFrame'>\n",
      "DatetimeIndex: 744 entries, 2019-01-02 05:00:00 to 2019-02-01 04:00:00\n",
      "Data columns (total 5 columns):\n",
      "OPR_DT      744 non-null object\n",
      "OPR_HR      744 non-null int64\n",
      "LMP_TYPE    744 non-null object\n",
      "MW          744 non-null float64\n",
      "date        744 non-null datetime64[ns]\n",
      "dtypes: datetime64[ns](1), float64(1), int64(1), object(2)\n",
      "memory usage: 34.9+ KB\n"
     ]
    }
   ],
   "source": [
    "dfp.info() # as desired, the date is now the DateTime object (perfect for time series plotting)"
   ]
  },
  {
   "cell_type": "code",
   "execution_count": 10,
   "metadata": {},
   "outputs": [
    {
     "data": {
      "text/html": [
       "<div>\n",
       "<style scoped>\n",
       "    .dataframe tbody tr th:only-of-type {\n",
       "        vertical-align: middle;\n",
       "    }\n",
       "\n",
       "    .dataframe tbody tr th {\n",
       "        vertical-align: top;\n",
       "    }\n",
       "\n",
       "    .dataframe thead th {\n",
       "        text-align: right;\n",
       "    }\n",
       "</style>\n",
       "<table border=\"1\" class=\"dataframe\">\n",
       "  <thead>\n",
       "    <tr style=\"text-align: right;\">\n",
       "      <th></th>\n",
       "      <th>OPR_DT</th>\n",
       "      <th>OPR_HR</th>\n",
       "      <th>LMP_TYPE</th>\n",
       "      <th>MW</th>\n",
       "      <th>date</th>\n",
       "    </tr>\n",
       "    <tr>\n",
       "      <th>INTERVALSTARTTIME_GMT</th>\n",
       "      <th></th>\n",
       "      <th></th>\n",
       "      <th></th>\n",
       "      <th></th>\n",
       "      <th></th>\n",
       "    </tr>\n",
       "  </thead>\n",
       "  <tbody>\n",
       "    <tr>\n",
       "      <th>2019-01-31 20:00:00</th>\n",
       "      <td>1/31/2019</td>\n",
       "      <td>13</td>\n",
       "      <td>LMP</td>\n",
       "      <td>36.49414</td>\n",
       "      <td>2019-01-31</td>\n",
       "    </tr>\n",
       "    <tr>\n",
       "      <th>2019-02-01 01:00:00</th>\n",
       "      <td>1/31/2019</td>\n",
       "      <td>18</td>\n",
       "      <td>LMP</td>\n",
       "      <td>59.88980</td>\n",
       "      <td>2019-01-31</td>\n",
       "    </tr>\n",
       "    <tr>\n",
       "      <th>2019-02-01 03:00:00</th>\n",
       "      <td>1/31/2019</td>\n",
       "      <td>20</td>\n",
       "      <td>LMP</td>\n",
       "      <td>53.29588</td>\n",
       "      <td>2019-01-31</td>\n",
       "    </tr>\n",
       "    <tr>\n",
       "      <th>2019-01-31 11:00:00</th>\n",
       "      <td>1/31/2019</td>\n",
       "      <td>4</td>\n",
       "      <td>LMP</td>\n",
       "      <td>36.02188</td>\n",
       "      <td>2019-01-31</td>\n",
       "    </tr>\n",
       "    <tr>\n",
       "      <th>2019-02-01 04:00:00</th>\n",
       "      <td>1/31/2019</td>\n",
       "      <td>21</td>\n",
       "      <td>LMP</td>\n",
       "      <td>48.09075</td>\n",
       "      <td>2019-01-31</td>\n",
       "    </tr>\n",
       "  </tbody>\n",
       "</table>\n",
       "</div>"
      ],
      "text/plain": [
       "                          OPR_DT  OPR_HR LMP_TYPE        MW       date\n",
       "INTERVALSTARTTIME_GMT                                                 \n",
       "2019-01-31 20:00:00    1/31/2019      13      LMP  36.49414 2019-01-31\n",
       "2019-02-01 01:00:00    1/31/2019      18      LMP  59.88980 2019-01-31\n",
       "2019-02-01 03:00:00    1/31/2019      20      LMP  53.29588 2019-01-31\n",
       "2019-01-31 11:00:00    1/31/2019       4      LMP  36.02188 2019-01-31\n",
       "2019-02-01 04:00:00    1/31/2019      21      LMP  48.09075 2019-01-31"
      ]
     },
     "execution_count": 10,
     "metadata": {},
     "output_type": "execute_result"
    }
   ],
   "source": [
    "dfp.head()\n",
    "dfp.tail()"
   ]
  },
  {
   "cell_type": "code",
   "execution_count": 11,
   "metadata": {},
   "outputs": [
    {
     "data": {
      "text/html": [
       "<div>\n",
       "<style scoped>\n",
       "    .dataframe tbody tr th:only-of-type {\n",
       "        vertical-align: middle;\n",
       "    }\n",
       "\n",
       "    .dataframe tbody tr th {\n",
       "        vertical-align: top;\n",
       "    }\n",
       "\n",
       "    .dataframe thead th {\n",
       "        text-align: right;\n",
       "    }\n",
       "</style>\n",
       "<table border=\"1\" class=\"dataframe\">\n",
       "  <thead>\n",
       "    <tr style=\"text-align: right;\">\n",
       "      <th></th>\n",
       "      <th>hour</th>\n",
       "      <th>price</th>\n",
       "      <th>day</th>\n",
       "      <th>weekday</th>\n",
       "      <th>month</th>\n",
       "    </tr>\n",
       "    <tr>\n",
       "      <th>date</th>\n",
       "      <th></th>\n",
       "      <th></th>\n",
       "      <th></th>\n",
       "      <th></th>\n",
       "      <th></th>\n",
       "    </tr>\n",
       "  </thead>\n",
       "  <tbody>\n",
       "    <tr>\n",
       "      <th>2019-01-02 05:00:00</th>\n",
       "      <td>22</td>\n",
       "      <td>50.58543</td>\n",
       "      <td>2019-01-01</td>\n",
       "      <td>Tuesday</td>\n",
       "      <td>1</td>\n",
       "    </tr>\n",
       "    <tr>\n",
       "      <th>2019-01-02 07:00:00</th>\n",
       "      <td>24</td>\n",
       "      <td>45.04523</td>\n",
       "      <td>2019-01-01</td>\n",
       "      <td>Tuesday</td>\n",
       "      <td>1</td>\n",
       "    </tr>\n",
       "    <tr>\n",
       "      <th>2019-01-02 04:00:00</th>\n",
       "      <td>21</td>\n",
       "      <td>53.25076</td>\n",
       "      <td>2019-01-01</td>\n",
       "      <td>Tuesday</td>\n",
       "      <td>1</td>\n",
       "    </tr>\n",
       "    <tr>\n",
       "      <th>2019-01-01 22:00:00</th>\n",
       "      <td>15</td>\n",
       "      <td>22.00497</td>\n",
       "      <td>2019-01-01</td>\n",
       "      <td>Tuesday</td>\n",
       "      <td>1</td>\n",
       "    </tr>\n",
       "    <tr>\n",
       "      <th>2019-01-01 16:00:00</th>\n",
       "      <td>9</td>\n",
       "      <td>35.99172</td>\n",
       "      <td>2019-01-01</td>\n",
       "      <td>Tuesday</td>\n",
       "      <td>1</td>\n",
       "    </tr>\n",
       "  </tbody>\n",
       "</table>\n",
       "</div>"
      ],
      "text/plain": [
       "                     hour     price        day  weekday  month\n",
       "date                                                          \n",
       "2019-01-02 05:00:00    22  50.58543 2019-01-01  Tuesday      1\n",
       "2019-01-02 07:00:00    24  45.04523 2019-01-01  Tuesday      1\n",
       "2019-01-02 04:00:00    21  53.25076 2019-01-01  Tuesday      1\n",
       "2019-01-01 22:00:00    15  22.00497 2019-01-01  Tuesday      1\n",
       "2019-01-01 16:00:00     9  35.99172 2019-01-01  Tuesday      1"
      ]
     },
     "execution_count": 11,
     "metadata": {},
     "output_type": "execute_result"
    }
   ],
   "source": [
    "\n",
    "\n",
    "dfp.head() # "
   ]
  },
  {
   "cell_type": "code",
   "execution_count": 12,
   "metadata": {},
   "outputs": [
    {
     "data": {
      "text/html": [
       "<div>\n",
       "<style scoped>\n",
       "    .dataframe tbody tr th:only-of-type {\n",
       "        vertical-align: middle;\n",
       "    }\n",
       "\n",
       "    .dataframe tbody tr th {\n",
       "        vertical-align: top;\n",
       "    }\n",
       "\n",
       "    .dataframe thead th {\n",
       "        text-align: right;\n",
       "    }\n",
       "</style>\n",
       "<table border=\"1\" class=\"dataframe\">\n",
       "  <thead>\n",
       "    <tr style=\"text-align: right;\">\n",
       "      <th></th>\n",
       "      <th>hour</th>\n",
       "      <th>price</th>\n",
       "      <th>day</th>\n",
       "      <th>weekday</th>\n",
       "      <th>month</th>\n",
       "    </tr>\n",
       "    <tr>\n",
       "      <th>date</th>\n",
       "      <th></th>\n",
       "      <th></th>\n",
       "      <th></th>\n",
       "      <th></th>\n",
       "      <th></th>\n",
       "    </tr>\n",
       "  </thead>\n",
       "  <tbody>\n",
       "    <tr>\n",
       "      <th>2019-01-31 20:00:00</th>\n",
       "      <td>13</td>\n",
       "      <td>36.49414</td>\n",
       "      <td>2019-01-31</td>\n",
       "      <td>Thursday</td>\n",
       "      <td>1</td>\n",
       "    </tr>\n",
       "    <tr>\n",
       "      <th>2019-02-01 01:00:00</th>\n",
       "      <td>18</td>\n",
       "      <td>59.88980</td>\n",
       "      <td>2019-01-31</td>\n",
       "      <td>Thursday</td>\n",
       "      <td>1</td>\n",
       "    </tr>\n",
       "    <tr>\n",
       "      <th>2019-02-01 03:00:00</th>\n",
       "      <td>20</td>\n",
       "      <td>53.29588</td>\n",
       "      <td>2019-01-31</td>\n",
       "      <td>Thursday</td>\n",
       "      <td>1</td>\n",
       "    </tr>\n",
       "    <tr>\n",
       "      <th>2019-01-31 11:00:00</th>\n",
       "      <td>4</td>\n",
       "      <td>36.02188</td>\n",
       "      <td>2019-01-31</td>\n",
       "      <td>Thursday</td>\n",
       "      <td>1</td>\n",
       "    </tr>\n",
       "    <tr>\n",
       "      <th>2019-02-01 04:00:00</th>\n",
       "      <td>21</td>\n",
       "      <td>48.09075</td>\n",
       "      <td>2019-01-31</td>\n",
       "      <td>Thursday</td>\n",
       "      <td>1</td>\n",
       "    </tr>\n",
       "  </tbody>\n",
       "</table>\n",
       "</div>"
      ],
      "text/plain": [
       "                     hour     price        day   weekday  month\n",
       "date                                                           \n",
       "2019-01-31 20:00:00    13  36.49414 2019-01-31  Thursday      1\n",
       "2019-02-01 01:00:00    18  59.88980 2019-01-31  Thursday      1\n",
       "2019-02-01 03:00:00    20  53.29588 2019-01-31  Thursday      1\n",
       "2019-01-31 11:00:00     4  36.02188 2019-01-31  Thursday      1\n",
       "2019-02-01 04:00:00    21  48.09075 2019-01-31  Thursday      1"
      ]
     },
     "execution_count": 12,
     "metadata": {},
     "output_type": "execute_result"
    }
   ],
   "source": [
    "dfp.tail()"
   ]
  },
  {
   "cell_type": "code",
   "execution_count": 13,
   "metadata": {},
   "outputs": [
    {
     "name": "stdout",
     "output_type": "stream",
     "text": [
      "<class 'pandas.core.frame.DataFrame'>\n",
      "DatetimeIndex: 744 entries, 2019-01-02 05:00:00 to 2019-02-01 04:00:00\n",
      "Data columns (total 5 columns):\n",
      "hour       744 non-null int64\n",
      "price      744 non-null float64\n",
      "day        744 non-null datetime64[ns]\n",
      "weekday    744 non-null object\n",
      "month      744 non-null int64\n",
      "dtypes: datetime64[ns](1), float64(1), int64(2), object(1)\n",
      "memory usage: 34.9+ KB\n"
     ]
    }
   ],
   "source": [
    "dfp.info()\n"
   ]
  },
  {
   "cell_type": "code",
   "execution_count": 15,
   "metadata": {},
   "outputs": [
    {
     "data": {
      "image/png": "[encoded data removed]",
      "text/plain": [
       "<Figure size 432x288 with 1 Axes>"
      ]
     },
     "metadata": {
      "needs_background": "light"
     },
     "output_type": "display_data"
    }
   ],
   "source": [
    "import matplotlib.pyplot as plt # hourly DAM prices are more stable that RTM 5-minute market\n",
    "dfp['price'].plot()\n",
    "plt.show()"
   ]
  },
  {
   "cell_type": "code",
   "execution_count": 16,
   "metadata": {},
   "outputs": [],
   "source": [
    "gp= dfp.groupby('hour')# unable to also groupbt month:  'month', axis=0\n",
    "# gp.shape  NB unclear whether this is the STD of hourly average, or of 5-minute prices within that hour? (Do a test?)"
   ]
  },
  {
   "cell_type": "code",
   "execution_count": 17,
   "metadata": {},
   "outputs": [
    {
     "data": {
      "text/plain": [
       "hour\n",
       "1     37.219082\n",
       "2     36.031534\n",
       "3     35.072111\n",
       "4     35.458791\n",
       "5     37.135136\n",
       "6     40.606037\n",
       "7     48.505247\n",
       "8     48.197871\n",
       "9     39.448622\n",
       "10    36.030400\n",
       "11    33.225216\n",
       "12    31.183810\n",
       "13    29.338003\n",
       "14    30.547777\n",
       "15    31.919598\n",
       "16    37.799474\n",
       "17    46.592750\n",
       "18    62.115051\n",
       "19    61.524250\n",
       "20    54.828971\n",
       "21    49.450280\n",
       "22    44.648687\n",
       "23    40.884123\n",
       "24    38.425558\n",
       "Name: price, dtype: float64"
      ]
     },
     "execution_count": 17,
     "metadata": {},
     "output_type": "execute_result"
    }
   ],
   "source": [
    "gp['price'].mean()"
   ]
  },
  {
   "cell_type": "code",
   "execution_count": 18,
   "metadata": {},
   "outputs": [
    {
     "data": {
      "text/plain": [
       "hour\n",
       "1     2.904752\n",
       "2     2.976088\n",
       "3     3.162970\n",
       "4     3.068273\n",
       "5     2.804504\n",
       "6     2.778257\n",
       "7     7.107654\n",
       "8     8.776341\n",
       "9     5.613834\n",
       "10    6.840400\n",
       "11    7.019194\n",
       "12    7.003610\n",
       "13    7.154660\n",
       "14    7.086719\n",
       "15    6.117861\n",
       "16    4.417177\n",
       "17    7.164000\n",
       "18    9.748296\n",
       "19    7.340425\n",
       "20    6.272300\n",
       "21    4.969220\n",
       "22    4.287332\n",
       "23    3.218588\n",
       "24    2.795093\n",
       "Name: price, dtype: float64"
      ]
     },
     "execution_count": 18,
     "metadata": {},
     "output_type": "execute_result"
    }
   ],
   "source": [
    "gp['price'].std() #much lower than for RTM 5-minute (eg for 6pm Hour 18, sd was > 130)"
   ]
  },
  {
   "cell_type": "code",
   "execution_count": 19,
   "metadata": {},
   "outputs": [
    {
     "data": {
      "text/plain": [
       "hour\n",
       "1     2.904752\n",
       "2     2.976088\n",
       "3     3.162970\n",
       "4     3.068273\n",
       "5     2.804504\n",
       "6     2.778257\n",
       "7     7.107654\n",
       "8     8.776341\n",
       "9     5.613834\n",
       "10    6.840400\n",
       "11    7.019194\n",
       "12    7.003610\n",
       "13    7.154660\n",
       "14    7.086719\n",
       "15    6.117861\n",
       "16    4.417177\n",
       "17    7.164000\n",
       "18    9.748296\n",
       "19    7.340425\n",
       "20    6.272300\n",
       "21    4.969220\n",
       "22    4.287332\n",
       "23    3.218588\n",
       "24    2.795093\n",
       "Name: price, dtype: float64"
      ]
     },
     "execution_count": 19,
     "metadata": {},
     "output_type": "execute_result"
    }
   ],
   "source": [
    "gp['price'].std() \n",
    "# this shows that hours 3,4 & 5 have relatively little variation (is coal on the margin?- not much Wind?) Can import Coal??\n",
    "# This implies that the benefits of \"opportunistic charging\" may be relatively limited, if hours 3-5 were chosen as the default, \n",
    "# rather than from midnight to 2am\n",
    "# But this might change with the new MISO transmission interconnection?"
   ]
  },
  {
   "cell_type": "code",
   "execution_count": 20,
   "metadata": {},
   "outputs": [
    {
     "data": {
      "text/plain": [
       "37.219081612903224"
      ]
     },
     "execution_count": 20,
     "metadata": {},
     "output_type": "execute_result"
    }
   ],
   "source": [
    "one_am= dfp[dfp.hour== 1]\n",
    "one_am.price.mean()\n"
   ]
  },
  {
   "cell_type": "code",
   "execution_count": 21,
   "metadata": {},
   "outputs": [
    {
     "data": {
      "text/plain": [
       "2.9047518432310158"
      ]
     },
     "execution_count": 21,
     "metadata": {},
     "output_type": "execute_result"
    }
   ],
   "source": [
    "one_am.price.std() \n",
    "# this and the mean above match the groupby() exactly"
   ]
  },
  {
   "cell_type": "code",
   "execution_count": 22,
   "metadata": {},
   "outputs": [],
   "source": [
    "dfm= dfp[(dfp.hour.isin([24,1]))] #dfm is the two hours immediately at the onset of full Off-Peak\n"
   ]
  },
  {
   "cell_type": "code",
   "execution_count": 23,
   "metadata": {},
   "outputs": [
    {
     "data": {
      "text/html": [
       "<div>\n",
       "<style scoped>\n",
       "    .dataframe tbody tr th:only-of-type {\n",
       "        vertical-align: middle;\n",
       "    }\n",
       "\n",
       "    .dataframe tbody tr th {\n",
       "        vertical-align: top;\n",
       "    }\n",
       "\n",
       "    .dataframe thead th {\n",
       "        text-align: right;\n",
       "    }\n",
       "</style>\n",
       "<table border=\"1\" class=\"dataframe\">\n",
       "  <thead>\n",
       "    <tr style=\"text-align: right;\">\n",
       "      <th></th>\n",
       "      <th>hour</th>\n",
       "      <th>price</th>\n",
       "      <th>day</th>\n",
       "      <th>weekday</th>\n",
       "      <th>month</th>\n",
       "    </tr>\n",
       "    <tr>\n",
       "      <th>date</th>\n",
       "      <th></th>\n",
       "      <th></th>\n",
       "      <th></th>\n",
       "      <th></th>\n",
       "      <th></th>\n",
       "    </tr>\n",
       "  </thead>\n",
       "  <tbody>\n",
       "    <tr>\n",
       "      <th>2019-01-02 07:00:00</th>\n",
       "      <td>24</td>\n",
       "      <td>45.04523</td>\n",
       "      <td>2019-01-01</td>\n",
       "      <td>Tuesday</td>\n",
       "      <td>1</td>\n",
       "    </tr>\n",
       "    <tr>\n",
       "      <th>2019-01-01 08:00:00</th>\n",
       "      <td>1</td>\n",
       "      <td>41.17931</td>\n",
       "      <td>2019-01-01</td>\n",
       "      <td>Tuesday</td>\n",
       "      <td>1</td>\n",
       "    </tr>\n",
       "    <tr>\n",
       "      <th>2019-01-03 07:00:00</th>\n",
       "      <td>24</td>\n",
       "      <td>43.32988</td>\n",
       "      <td>2019-01-02</td>\n",
       "      <td>Wednesday</td>\n",
       "      <td>1</td>\n",
       "    </tr>\n",
       "    <tr>\n",
       "      <th>2019-01-02 08:00:00</th>\n",
       "      <td>1</td>\n",
       "      <td>44.15079</td>\n",
       "      <td>2019-01-02</td>\n",
       "      <td>Wednesday</td>\n",
       "      <td>1</td>\n",
       "    </tr>\n",
       "    <tr>\n",
       "      <th>2019-01-04 07:00:00</th>\n",
       "      <td>24</td>\n",
       "      <td>42.03837</td>\n",
       "      <td>2019-01-03</td>\n",
       "      <td>Thursday</td>\n",
       "      <td>1</td>\n",
       "    </tr>\n",
       "  </tbody>\n",
       "</table>\n",
       "</div>"
      ],
      "text/plain": [
       "                     hour     price        day    weekday  month\n",
       "date                                                            \n",
       "2019-01-02 07:00:00    24  45.04523 2019-01-01    Tuesday      1\n",
       "2019-01-01 08:00:00     1  41.17931 2019-01-01    Tuesday      1\n",
       "2019-01-03 07:00:00    24  43.32988 2019-01-02  Wednesday      1\n",
       "2019-01-02 08:00:00     1  44.15079 2019-01-02  Wednesday      1\n",
       "2019-01-04 07:00:00    24  42.03837 2019-01-03   Thursday      1"
      ]
     },
     "execution_count": 23,
     "metadata": {},
     "output_type": "execute_result"
    }
   ],
   "source": [
    "dfm.head()"
   ]
  },
  {
   "cell_type": "code",
   "execution_count": 24,
   "metadata": {},
   "outputs": [
    {
     "data": {
      "text/plain": [
       "<pandas.core.groupby.groupby.DataFrameGroupBy object at 0x00000218BD2AD8D0>"
      ]
     },
     "execution_count": 24,
     "metadata": {},
     "output_type": "execute_result"
    }
   ],
   "source": [
    "gm= dfm.groupby('day')\n",
    "gm"
   ]
  },
  {
   "cell_type": "code",
   "execution_count": 25,
   "metadata": {},
   "outputs": [
    {
     "data": {
      "text/plain": [
       "day\n",
       "2019-01-01    43.112270\n",
       "2019-01-02    43.740335\n",
       "2019-01-03    41.875435\n",
       "2019-01-04    40.599620\n",
       "2019-01-05    37.614365\n",
       "2019-01-06    34.625565\n",
       "2019-01-07    37.171345\n",
       "2019-01-08    36.406520\n",
       "2019-01-09    37.187725\n",
       "2019-01-10    35.099600\n",
       "Name: price, dtype: float64"
      ]
     },
     "execution_count": 25,
     "metadata": {},
     "output_type": "execute_result"
    }
   ],
   "source": [
    "sprice= gm.price.mean() # sprice is Sensible Strategy average for the day\n",
    "sprice[0:10]"
   ]
  },
  {
   "cell_type": "code",
   "execution_count": 27,
   "metadata": {},
   "outputs": [
    {
     "data": {
      "text/plain": [
       "<matplotlib.axes._subplots.AxesSubplot at 0x218bd438198>"
      ]
     },
     "execution_count": 27,
     "metadata": {},
     "output_type": "execute_result"
    },
    {
     "data": {
      "image/png": "[encoded data removed]",
      "text/plain": [
       "<Figure size 432x288 with 1 Axes>"
      ]
     },
     "metadata": {
      "needs_background": "light"
     },
     "output_type": "display_data"
    }
   ],
   "source": [
    "sprice.plot()"
   ]
  },
  {
   "cell_type": "code",
   "execution_count": null,
   "metadata": {},
   "outputs": [],
   "source": []
  },
  {
   "cell_type": "code",
   "execution_count": 28,
   "metadata": {},
   "outputs": [],
   "source": [
    "# dfp.price.plot(kind='hist', bins=20) # the outliers at 1000 (50x the normal price) spoil the display\n"
   ]
  },
  {
   "cell_type": "code",
   "execution_count": 29,
   "metadata": {},
   "outputs": [],
   "source": [
    "# dfp.boxplot(column= 'price', by= 'hour')\n"
   ]
  },
  {
   "cell_type": "code",
   "execution_count": 30,
   "metadata": {},
   "outputs": [
    {
     "data": {
      "text/html": [
       "<div>\n",
       "<style scoped>\n",
       "    .dataframe tbody tr th:only-of-type {\n",
       "        vertical-align: middle;\n",
       "    }\n",
       "\n",
       "    .dataframe tbody tr th {\n",
       "        vertical-align: top;\n",
       "    }\n",
       "\n",
       "    .dataframe thead th {\n",
       "        text-align: right;\n",
       "    }\n",
       "</style>\n",
       "<table border=\"1\" class=\"dataframe\">\n",
       "  <thead>\n",
       "    <tr style=\"text-align: right;\">\n",
       "      <th></th>\n",
       "      <th>hour</th>\n",
       "      <th>price</th>\n",
       "      <th>day</th>\n",
       "      <th>weekday</th>\n",
       "      <th>month</th>\n",
       "    </tr>\n",
       "    <tr>\n",
       "      <th>date</th>\n",
       "      <th></th>\n",
       "      <th></th>\n",
       "      <th></th>\n",
       "      <th></th>\n",
       "      <th></th>\n",
       "    </tr>\n",
       "  </thead>\n",
       "  <tbody>\n",
       "    <tr>\n",
       "      <th>2019-01-31 10:00:00</th>\n",
       "      <td>3</td>\n",
       "      <td>35.02910</td>\n",
       "      <td>2019-01-31</td>\n",
       "      <td>Thursday</td>\n",
       "      <td>1</td>\n",
       "    </tr>\n",
       "    <tr>\n",
       "      <th>2019-01-31 11:00:00</th>\n",
       "      <td>4</td>\n",
       "      <td>36.02188</td>\n",
       "      <td>2019-01-31</td>\n",
       "      <td>Thursday</td>\n",
       "      <td>1</td>\n",
       "    </tr>\n",
       "  </tbody>\n",
       "</table>\n",
       "</div>"
      ],
      "text/plain": [
       "                     hour     price        day   weekday  month\n",
       "date                                                           \n",
       "2019-01-31 10:00:00     3  35.02910 2019-01-31  Thursday      1\n",
       "2019-01-31 11:00:00     4  36.02188 2019-01-31  Thursday      1"
      ]
     },
     "execution_count": 30,
     "metadata": {},
     "output_type": "execute_result"
    }
   ],
   "source": [
    "# dfc= dfp[(dfp.hour.isin([list(range(1,7))]))]\n",
    "\n",
    "dfc= dfp[(dfp.hour.isin(list(range(1,7))))]\n",
    "dfc.tail(2)\n"
   ]
  },
  {
   "cell_type": "code",
   "execution_count": 31,
   "metadata": {},
   "outputs": [],
   "source": [
    "dfc= dfp[(dfp.hour.isin([1,2,3,4,5,6]))] #dfc is for the Clever strategy , all six hours\n"
   ]
  },
  {
   "cell_type": "code",
   "execution_count": 32,
   "metadata": {},
   "outputs": [
    {
     "data": {
      "text/html": [
       "<div>\n",
       "<style scoped>\n",
       "    .dataframe tbody tr th:only-of-type {\n",
       "        vertical-align: middle;\n",
       "    }\n",
       "\n",
       "    .dataframe tbody tr th {\n",
       "        vertical-align: top;\n",
       "    }\n",
       "\n",
       "    .dataframe thead th {\n",
       "        text-align: right;\n",
       "    }\n",
       "</style>\n",
       "<table border=\"1\" class=\"dataframe\">\n",
       "  <thead>\n",
       "    <tr style=\"text-align: right;\">\n",
       "      <th></th>\n",
       "      <th>hour</th>\n",
       "      <th>price</th>\n",
       "      <th>day</th>\n",
       "      <th>weekday</th>\n",
       "      <th>month</th>\n",
       "    </tr>\n",
       "    <tr>\n",
       "      <th>date</th>\n",
       "      <th></th>\n",
       "      <th></th>\n",
       "      <th></th>\n",
       "      <th></th>\n",
       "      <th></th>\n",
       "    </tr>\n",
       "  </thead>\n",
       "  <tbody>\n",
       "    <tr>\n",
       "      <th>2019-01-31 10:00:00</th>\n",
       "      <td>3</td>\n",
       "      <td>35.02910</td>\n",
       "      <td>2019-01-31</td>\n",
       "      <td>Thursday</td>\n",
       "      <td>1</td>\n",
       "    </tr>\n",
       "    <tr>\n",
       "      <th>2019-01-31 11:00:00</th>\n",
       "      <td>4</td>\n",
       "      <td>36.02188</td>\n",
       "      <td>2019-01-31</td>\n",
       "      <td>Thursday</td>\n",
       "      <td>1</td>\n",
       "    </tr>\n",
       "  </tbody>\n",
       "</table>\n",
       "</div>"
      ],
      "text/plain": [
       "                     hour     price        day   weekday  month\n",
       "date                                                           \n",
       "2019-01-31 10:00:00     3  35.02910 2019-01-31  Thursday      1\n",
       "2019-01-31 11:00:00     4  36.02188 2019-01-31  Thursday      1"
      ]
     },
     "execution_count": 32,
     "metadata": {},
     "output_type": "execute_result"
    }
   ],
   "source": [
    "dfc.tail(2)"
   ]
  },
  {
   "cell_type": "code",
   "execution_count": 33,
   "metadata": {},
   "outputs": [],
   "source": [
    "gc2price= dfc.groupby('day')['price'].nsmallest(2)"
   ]
  },
  {
   "cell_type": "code",
   "execution_count": 34,
   "metadata": {},
   "outputs": [
    {
     "data": {
      "text/plain": [
       "day         date               \n",
       "2019-01-01  2019-01-01 11:00:00    38.49406\n",
       "            2019-01-01 10:00:00    38.70478\n",
       "2019-01-02  2019-01-02 10:00:00    42.60384\n",
       "            2019-01-02 11:00:00    42.93449\n",
       "2019-01-03  2019-01-03 11:00:00    40.18602\n",
       "            2019-01-03 09:00:00    40.32422\n",
       "2019-01-04  2019-01-04 10:00:00    39.42497\n",
       "            2019-01-04 09:00:00    39.45404\n",
       "2019-01-05  2019-01-05 10:00:00    36.95764\n",
       "            2019-01-05 12:00:00    37.04088\n",
       "2019-01-06  2019-01-06 10:00:00    33.04277\n",
       "            2019-01-06 11:00:00    33.57811\n",
       "2019-01-07  2019-01-07 10:00:00    32.65801\n",
       "            2019-01-07 09:00:00    33.68536\n",
       "2019-01-08  2019-01-08 10:00:00    33.32000\n",
       "            2019-01-08 11:00:00    33.81379\n",
       "2019-01-09  2019-01-09 10:00:00    34.61770\n",
       "            2019-01-09 11:00:00    35.35287\n",
       "2019-01-10  2019-01-10 10:00:00    31.60692\n",
       "            2019-01-10 11:00:00    31.88922\n",
       "2019-01-11  2019-01-11 11:00:00    31.82699\n",
       "            2019-01-11 10:00:00    32.54465\n",
       "2019-01-12  2019-01-12 10:00:00    30.87242\n",
       "            2019-01-12 09:00:00    32.04061\n",
       "2019-01-13  2019-01-13 10:00:00    34.06774\n",
       "            2019-01-13 09:00:00    34.53396\n",
       "2019-01-14  2019-01-14 11:00:00    31.40174\n",
       "            2019-01-14 10:00:00    31.50000\n",
       "2019-01-15  2019-01-15 10:00:00    36.71832\n",
       "            2019-01-15 11:00:00    37.50421\n",
       "Name: price, dtype: float64"
      ]
     },
     "execution_count": 34,
     "metadata": {},
     "output_type": "execute_result"
    }
   ],
   "source": [
    "gc2price[0:30] # Hmmm. we have 24 prices but they are not in our 6 our window! But Datetimes are GMT so add 8 hours!!"
   ]
  },
  {
   "cell_type": "code",
   "execution_count": 35,
   "metadata": {},
   "outputs": [
    {
     "data": {
      "text/plain": [
       "(62,)"
      ]
     },
     "execution_count": 35,
     "metadata": {},
     "output_type": "execute_result"
    }
   ],
   "source": [
    "gc2price.shape # c.90 days and two hours each day"
   ]
  },
  {
   "cell_type": "code",
   "execution_count": 36,
   "metadata": {},
   "outputs": [
    {
     "data": {
      "text/plain": [
       "35.18325419354839"
      ]
     },
     "execution_count": 36,
     "metadata": {},
     "output_type": "execute_result"
    }
   ],
   "source": [
    "gc2price.mean() # this is only very slightly below the 27 levels for hours 3 & 4: these are likely mostly the lowest hours"
   ]
  },
  {
   "cell_type": "code",
   "execution_count": 37,
   "metadata": {},
   "outputs": [],
   "source": [
    "# Hevrin reference: df.groupby('ID')['date'].nsmallest(2).groupby(level='ID').last()\n"
   ]
  },
  {
   "cell_type": "code",
   "execution_count": 38,
   "metadata": {},
   "outputs": [
    {
     "ename": "NameError",
     "evalue": "name 'gcprice' is not defined",
     "output_type": "error",
     "traceback": [
      "\u001b[1;31m---------------------------------------------------------------------------\u001b[0m",
      "\u001b[1;31mNameError\u001b[0m                                 Traceback (most recent call last)",
      "\u001b[1;32m<ipython-input-38-48d90b118238>\u001b[0m in \u001b[0;36m<module>\u001b[1;34m()\u001b[0m\n\u001b[0;32m      1\u001b[0m \u001b[0mgd2price\u001b[0m\u001b[1;33m=\u001b[0m \u001b[0mgc2price\u001b[0m\u001b[1;33m.\u001b[0m\u001b[0mgroupby\u001b[0m\u001b[1;33m(\u001b[0m\u001b[0mlevel\u001b[0m\u001b[1;33m=\u001b[0m\u001b[1;34m'day'\u001b[0m\u001b[1;33m)\u001b[0m\u001b[1;33m.\u001b[0m\u001b[0mmean\u001b[0m\u001b[1;33m(\u001b[0m\u001b[1;33m)\u001b[0m \u001b[1;31m# here \"day\" means the lowest 24 prices, not the entire six hour period\u001b[0m\u001b[1;33m\u001b[0m\u001b[0m\n\u001b[1;32m----> 2\u001b[1;33m \u001b[0mgcprice\u001b[0m\u001b[1;33m[\u001b[0m\u001b[1;36m0\u001b[0m\u001b[1;33m:\u001b[0m\u001b[1;36m10\u001b[0m\u001b[1;33m]\u001b[0m\u001b[1;33m\u001b[0m\u001b[0m\n\u001b[0m",
      "\u001b[1;31mNameError\u001b[0m: name 'gcprice' is not defined"
     ]
    }
   ],
   "source": [
    "gd2price= gc2price.groupby(level='day').mean() # here \"day\" means the lowest 24 prices, not the entire six hour period\n",
    "gcprice[0:10]"
   ]
  },
  {
   "cell_type": "code",
   "execution_count": 39,
   "metadata": {},
   "outputs": [
    {
     "ename": "NameError",
     "evalue": "name 'c24price' is not defined",
     "output_type": "error",
     "traceback": [
      "\u001b[1;31m---------------------------------------------------------------------------\u001b[0m",
      "\u001b[1;31mNameError\u001b[0m                                 Traceback (most recent call last)",
      "\u001b[1;32m<ipython-input-39-3593a1ce816f>\u001b[0m in \u001b[0;36m<module>\u001b[1;34m()\u001b[0m\n\u001b[1;32m----> 1\u001b[1;33m \u001b[0mc24price\u001b[0m\u001b[1;33m.\u001b[0m\u001b[0mmean\u001b[0m\u001b[1;33m(\u001b[0m\u001b[1;33m)\u001b[0m\u001b[1;33m\u001b[0m\u001b[0m\n\u001b[0m",
      "\u001b[1;31mNameError\u001b[0m: name 'c24price' is not defined"
     ]
    }
   ],
   "source": [
    "c24price.mean()"
   ]
  },
  {
   "cell_type": "code",
   "execution_count": 40,
   "metadata": {},
   "outputs": [
    {
     "ename": "NameError",
     "evalue": "name 'c24price' is not defined",
     "output_type": "error",
     "traceback": [
      "\u001b[1;31m---------------------------------------------------------------------------\u001b[0m",
      "\u001b[1;31mNameError\u001b[0m                                 Traceback (most recent call last)",
      "\u001b[1;32m<ipython-input-40-374b8d9f400b>\u001b[0m in \u001b[0;36m<module>\u001b[1;34m()\u001b[0m\n\u001b[1;32m----> 1\u001b[1;33m \u001b[0mc24price\u001b[0m\u001b[1;33m.\u001b[0m\u001b[0mplot\u001b[0m\u001b[1;33m(\u001b[0m\u001b[1;33m)\u001b[0m\u001b[1;33m\u001b[0m\u001b[0m\n\u001b[0m",
      "\u001b[1;31mNameError\u001b[0m: name 'c24price' is not defined"
     ]
    }
   ],
   "source": [
    "c24price.plot()"
   ]
  },
  {
   "cell_type": "code",
   "execution_count": 69,
   "metadata": {},
   "outputs": [
    {
     "data": {
      "text/plain": [
       "31.567058910928115"
      ]
     },
     "execution_count": 69,
     "metadata": {},
     "output_type": "execute_result"
    }
   ],
   "source": [
    "sprice.mean()"
   ]
  },
  {
   "cell_type": "code",
   "execution_count": 93,
   "metadata": {},
   "outputs": [
    {
     "data": {
      "text/plain": [
       "23.750487180638725"
      ]
     },
     "execution_count": 93,
     "metadata": {},
     "output_type": "execute_result"
    }
   ],
   "source": [
    "c24price.mean()"
   ]
  },
  {
   "cell_type": "code",
   "execution_count": null,
   "metadata": {},
   "outputs": [],
   "source": [
    "percent_saving24= 100*(1-c24price.mean()/sprice.mean())\n",
    "percent_saving24  # only 25% - seems low: are we taking the mean of the 24th price? Check Boris syntax?!\n",
    "# we should be taking the mean of the lowest 24 prices!!\n",
    "# I did develop an approach to do this which I almost had finalised at the last second!!"
   ]
  },
  {
   "cell_type": "code",
   "execution_count": null,
   "metadata": {},
   "outputs": [],
   "source": [
    "# First sanity check is to plot them both on the same chart and then to eyeball that!!"
   ]
  },
  {
   "cell_type": "code",
   "execution_count": 95,
   "metadata": {},
   "outputs": [],
   "source": [
    "gc12price= dfc.groupby('day')['price'].nsmallest(12)"
   ]
  },
  {
   "cell_type": "code",
   "execution_count": 97,
   "metadata": {},
   "outputs": [
    {
     "data": {
      "text/plain": [
       "day         date               \n",
       "2018-01-01  2018-01-01 13:05:00    30.59851\n",
       "            2018-01-01 13:00:00    30.73139\n",
       "            2018-01-01 13:10:00    30.89500\n",
       "            2018-01-01 13:20:00    31.61996\n",
       "            2018-01-01 13:15:00    31.66136\n",
       "            2018-01-01 10:15:00    31.82830\n",
       "            2018-01-01 10:55:00    32.34094\n",
       "            2018-01-01 13:25:00    32.71404\n",
       "            2018-01-01 10:45:00    33.18833\n",
       "            2018-01-01 10:40:00    33.83630\n",
       "            2018-01-01 10:50:00    33.92532\n",
       "            2018-01-01 13:30:00    34.61970\n",
       "2018-01-02  2018-01-02 10:40:00    22.82117\n",
       "            2018-01-02 10:35:00    22.95154\n",
       "            2018-01-02 10:25:00    23.49220\n",
       "            2018-01-02 10:30:00    23.49227\n",
       "Name: price, dtype: float64"
      ]
     },
     "execution_count": 97,
     "metadata": {},
     "output_type": "execute_result"
    }
   ],
   "source": [
    "gc12price[0:16]"
   ]
  },
  {
   "cell_type": "code",
   "execution_count": 98,
   "metadata": {},
   "outputs": [
    {
     "data": {
      "text/plain": [
       "22.630878762475046"
      ]
     },
     "execution_count": 98,
     "metadata": {},
     "output_type": "execute_result"
    }
   ],
   "source": [
    "gc12price.mean()"
   ]
  },
  {
   "cell_type": "code",
   "execution_count": 101,
   "metadata": {},
   "outputs": [
    {
     "data": {
      "text/plain": [
       "28.308561065723726"
      ]
     },
     "execution_count": 101,
     "metadata": {},
     "output_type": "execute_result"
    }
   ],
   "source": [
    "percent_saving12= 100*(1-gc12price.mean()/sprice.mean())\n",
    "percent_saving12  # up from 24% to 28%"
   ]
  },
  {
   "cell_type": "code",
   "execution_count": 102,
   "metadata": {},
   "outputs": [],
   "source": [
    "c12price= gc12price.groupby(level='day').mean() "
   ]
  },
  {
   "cell_type": "code",
   "execution_count": 103,
   "metadata": {},
   "outputs": [
    {
     "data": {
      "text/plain": [
       "<matplotlib.axes._subplots.AxesSubplot at 0x1ab9146b908>"
      ]
     },
     "execution_count": 103,
     "metadata": {},
     "output_type": "execute_result"
    },
    {
     "data": {
      "image/png": "[encoded data removed]",
      "text/plain": [
       "<Figure size 432x288 with 1 Axes>"
      ]
     },
     "metadata": {
      "needs_background": "light"
     },
     "output_type": "display_data"
    }
   ],
   "source": [
    "c12price.plot()"
   ]
  },
  {
   "cell_type": "markdown",
   "metadata": {},
   "source": [
    "# Old Code follows below for potential recycling"
   ]
  },
  {
   "cell_type": "code",
   "execution_count": null,
   "metadata": {},
   "outputs": [],
   "source": [
    "normalp.boxplot(column= 'price', by= 'hour')  # below uses showfliers=False to exclude the outliers being displayed\n"
   ]
  },
  {
   "cell_type": "code",
   "execution_count": null,
   "metadata": {},
   "outputs": [],
   "source": [
    "normalp.boxplot(column= 'price', by= 'hour',showfliers=False)  # showfliers=False\n"
   ]
  },
  {
   "cell_type": "code",
   "execution_count": null,
   "metadata": {},
   "outputs": [],
   "source": [
    "g= normalp.groupby('hour')\n",
    "g.count()\n",
    "\n",
    "# This seems to be saying that the three hours in November with the most frequent low prices are from 10am to 3pm\n",
    "# But these 172 five-minute intervals average only 29 minutes a day of prices below $20/MWh\n",
    "# Level 1 charger is normally 2 hours of charging: MAY NEED TO INCREASE THRESHOLD TO 3 CENTS/$30/MWh\n",
    "# BIG QUESTION IS WHETHER THE DIFFERENCE FOR PEAK EVENING PRICES EXCEEDS 25 CENTS/KWH, OF $45/MWh (see p.17 of \"Charging Smart\")\n",
    "# Counts can be compared to 30 days x 12 Intervals = 360 Intervals/month"
   ]
  },
  {
   "cell_type": "code",
   "execution_count": null,
   "metadata": {},
   "outputs": [],
   "source": [
    "normalp.groupby('hour').mean()\n",
    "# The lowest average prices are from 9am to 4pm, which is when Solar is strongest."
   ]
  },
  {
   "cell_type": "code",
   "execution_count": null,
   "metadata": {},
   "outputs": [],
   "source": [
    "spikep.price.plot(kind='hist', bins=30)"
   ]
  },
  {
   "cell_type": "code",
   "execution_count": null,
   "metadata": {},
   "outputs": [],
   "source": [
    "normalp.price.plot(kind='hist', bins=30)  # No showfliers= False !!"
   ]
  },
  {
   "cell_type": "code",
   "execution_count": null,
   "metadata": {},
   "outputs": [],
   "source": [
    "negativep.price.plot(kind='hist', bins=30) # excludes two outliers below -50 and an additional two below -30"
   ]
  },
  {
   "cell_type": "markdown",
   "metadata": {},
   "source": [
    "WHAT IS THE QUESTION: NEED TO LIMIT HOURS TO PGE NIGHT RANGE AND COMPARE 24 INTERVALS VS 12! COMPARE PRICE DELTA"
   ]
  },
  {
   "cell_type": "code",
   "execution_count": null,
   "metadata": {},
   "outputs": [],
   "source": [
    "normalp.price.plot(kind='hist', bins=30, cumulative= True)\n",
    "# Two hours per day average for a Level One EV charger is 24 intervals x 30 days = 720: THRESHOLD must be increased!!!\n",
    "# Add a horizontal red line at 720 !!\n",
    "# Define a function that computes the average price (eg still below 2 cents?)"
   ]
  },
  {
   "cell_type": "code",
   "execution_count": null,
   "metadata": {},
   "outputs": [],
   "source": []
  },
  {
   "cell_type": "code",
   "execution_count": null,
   "metadata": {},
   "outputs": [],
   "source": []
  },
  {
   "cell_type": "code",
   "execution_count": null,
   "metadata": {},
   "outputs": [],
   "source": [
    "# this function returns PG&E's designation of Peak (P), Off-Peak (OP), or Standard (S) EV pricing according to the hour of day\n",
    "def peak(hour): \n",
    "    if hour in [24,1,2,3,4,5,6,7]:\n",
    "        return 'OP'\n",
    "    elif hour in [15,16,17,18,19,20,21,22]:\n",
    "        return 'P'\n",
    "    else:\n",
    "        return 'S'\n",
    "    \n",
    "    "
   ]
  },
  {
   "cell_type": "markdown",
   "metadata": {},
   "source": [
    "COMPREHENSIVE APPROACH TO PG&E PUBLISHED SCHEDULE\n",
    "if date is a public holiday (saved as a list for 2018) OR day is weekend (Saturday/Sunday) then Peak is 3-7pm (rest Off Peak)\n",
    "if day is a weekday (and not a holiday) then:\n",
    "Peak is 2-9pm (hours 14 to 21)...list(range(14,22)\n",
    "Partial Peak is 7am to 2pm and 9-11pm: hours 7-14 & 21-23: hour in list(range(7,15)) + list(range(21,24))\n",
    "Otherwise (ELSE) 'OP' which is Off-Peak"
   ]
  },
  {
   "cell_type": "code",
   "execution_count": null,
   "metadata": {},
   "outputs": [],
   "source": [
    "# need to enter dates as strings and make the dates datetime objects with  .to_datetime() method in pandas\n",
    "holidays = ['2018-01-01','2018-01-15','2018-02-19','2018-05-28','2018-07-04','2018-09-03','2018-12-25'] #list of public holidays\n",
    "holidays= pd.to_datetime(holidays) \n",
    "holidays # this works OK it seems so the Boolean should match"
   ]
  },
  {
   "cell_type": "code",
   "execution_count": null,
   "metadata": {},
   "outputs": [],
   "source": [
    "# indentation is likely a problem as I mixed tabs and spaces!! Paste this into Spyder to debug? NOT SO! now runs!\n",
    "# NB at 7am the 7th hour has just concluded, so 'PP' begins with the 8th hour\n",
    "def PGE(hour,day,weekday): # hour, day, and weekday are columns from the dfp dataframe above (types listed 3 cells below)\n",
    "    # need to enter dates as strings and make the dates datetime objects with  .to_datetime() method in pandas (works OK above)\n",
    "    holidays = ['2018-01-01','2018-01-15','2018-02-19','2018-05-28','2018-07-04','2018-09-03','2018-12-25']\n",
    "    holidays= pd.to_datetime(holidays)\n",
    "    # list of public holiday\n",
    "    weekend_peak= list(range(16,20)) # weekend peak is 3-7pm: noon begins hour 13, so 2pm is hour 15, 3pm is hour 16\n",
    "    weekday_peak= list(range(15,23)) # this corresponds to the weekdays Monday to Friday, first for 2-9pm, for hours 15 to 8\n",
    "    partial_peak= list(range(8,15)) + list(range(22,24))\n",
    "    off_peak= list(range(1,8)) + [24] \n",
    "    if (day in holidays)|(weekday in ['Saturday','Sunday']):\n",
    "      if hour in weekend_peak: \n",
    "        return 'P'\n",
    "      else:   \n",
    "        return 'OP'  \n",
    "    elif hour in weekday_peak: \n",
    "      return'P'   \n",
    "    elif hour in partial_peak: \n",
    "      return 'PP'  \n",
    "    elif hour in off_peak:\n",
    "      return 'OP'\n",
    "    else:\n",
    "      return 'problem!' \n",
    "      # we should never see this condition triggered unless there is a problem (hour 25 when clocks set back!)\n",
    "# as a sanity check the respective lists added together should equal list(range(1,25)) so we should test with this Boolean!!\n",
    "PGE(16,holidays[0],'Tuesday')"
   ]
  },
  {
   "cell_type": "code",
   "execution_count": null,
   "metadata": {},
   "outputs": [],
   "source": [
    "list(range(1,8)) + [24]"
   ]
  },
  {
   "cell_type": "code",
   "execution_count": null,
   "metadata": {},
   "outputs": [],
   "source": [
    "PGE(14, holidays[0], 'Monday')"
   ]
  },
  {
   "cell_type": "code",
   "execution_count": null,
   "metadata": {},
   "outputs": [],
   "source": [
    "combined= list(range(15,23)) + list(range(8,15)) + list(range(22,24)) + list(range(1,8)) + [24] \n",
    "sorted(combined) # == list(range(1,25)) #  False!!  PROBLEM (Hmm: they match but combined is NOT horizontal but vertical!!)"
   ]
  },
  {
   "cell_type": "code",
   "execution_count": null,
   "metadata": {},
   "outputs": [],
   "source": [
    "list(range(15,22)) + list(range(8,15)) + list(range(22,24)) + list(range(1,8)) + [24] #22"
   ]
  },
  {
   "cell_type": "code",
   "execution_count": null,
   "metadata": {},
   "outputs": [],
   "source": [
    "list(range(7,14)) + list(range(21,22)) # test for Partial Peak ('PP')                    "
   ]
  },
  {
   "cell_type": "code",
   "execution_count": null,
   "metadata": {},
   "outputs": [],
   "source": [
    "list(range(14,21)) # test for Peak ('PP')"
   ]
  },
  {
   "cell_type": "code",
   "execution_count": null,
   "metadata": {},
   "outputs": [],
   "source": [
    "dfp.info()"
   ]
  },
  {
   "cell_type": "code",
   "execution_count": null,
   "metadata": {},
   "outputs": [],
   "source": [
    "this function returns PG&E's designation of Peak (P), Off-Peak (OP), or Standard (S) EV pricing according to the hour of day\n",
    "#def peak(hour): \n",
    "    if hour in [list(range(1,8) + [24]]:\n",
    "       return 'OP'\n",
    "   elif hour in [list(range(15,23)]:\n",
    "        return 'P'\n",
    "    else:\n",
    "        return 'S'\n",
    "   \n",
    "# list comprehension version? see below"
   ]
  },
  {
   "cell_type": "code",
   "execution_count": null,
   "metadata": {},
   "outputs": [],
   "source": [
    "d= {'OP':list(range(1,8))+ [24], 'P':list(range(15,23)),'S':list(range(8,15)) + list(range(22,24))}\n",
    "def PGE(hour):\n",
    "    for key,value in d.items:\n",
    "        if hour in d.value  #FIX THIS\n",
    "            return d.key\n",
    "print(PGE(3))"
   ]
  },
  {
   "cell_type": "code",
   "execution_count": null,
   "metadata": {},
   "outputs": [],
   "source": [
    "peak(1)\n",
    "peak(16)"
   ]
  },
  {
   "cell_type": "code",
   "execution_count": null,
   "metadata": {},
   "outputs": [],
   "source": [
    "dfp['PGE']= dfp.hour.apply(peak)\n",
    "dfp.PGE.head()\n",
    "dfp.PGE.tail()"
   ]
  },
  {
   "cell_type": "code",
   "execution_count": null,
   "metadata": {},
   "outputs": [],
   "source": [
    "dfp.head()"
   ]
  },
  {
   "cell_type": "code",
   "execution_count": null,
   "metadata": {},
   "outputs": [],
   "source": [
    "gPGE= dfp.groupby(['day','PGE'])"
   ]
  },
  {
   "cell_type": "code",
   "execution_count": null,
   "metadata": {},
   "outputs": [],
   "source": [
    "daily_PGE= gPGE.price.mean() # this is hourly data!!\n",
    "daily_PGE.head(20)"
   ]
  },
  {
   "cell_type": "code",
   "execution_count": null,
   "metadata": {},
   "outputs": [],
   "source": [
    "dfPGE= daily_PGE.to_frame()\n",
    "dfPGE= dfPGE.sort_values(['day'])\n",
    "dfPGE.head()"
   ]
  },
  {
   "cell_type": "code",
   "execution_count": null,
   "metadata": {},
   "outputs": [],
   "source": [
    "dfPGE.tail() # "
   ]
  },
  {
   "cell_type": "code",
   "execution_count": null,
   "metadata": {},
   "outputs": [],
   "source": [
    "dfPGE= dfPGE.unstack('PGE')\n",
    "dfPGE.head()"
   ]
  },
  {
   "cell_type": "code",
   "execution_count": null,
   "metadata": {},
   "outputs": [],
   "source": [
    "FebPGE = dfPGE.loc['2018-02-01':'2018-02-28'].plot()# so a peak of $140/MWh is 14 cents\n",
    "FebPGE.plot()"
   ]
  },
  {
   "cell_type": "code",
   "execution_count": null,
   "metadata": {},
   "outputs": [],
   "source": [
    "MarPGE = dfPGE.loc['2018-03-01':'2018-03-31'] # so a peak of $140/MWh is 14 cents\n",
    "MarPGE.plot()"
   ]
  },
  {
   "cell_type": "code",
   "execution_count": null,
   "metadata": {},
   "outputs": [],
   "source": [
    "AprPGE= dfPGE.loc['2018-04-01':'2018-04-30'] # so a peak of $140/MWh is 14 cents\n",
    "AprPGE.plot()"
   ]
  },
  {
   "cell_type": "code",
   "execution_count": null,
   "metadata": {},
   "outputs": [],
   "source": []
  },
  {
   "cell_type": "code",
   "execution_count": null,
   "metadata": {},
   "outputs": [],
   "source": [
    "dfPGE.plot() \n",
    "# THIS IS A CRITICAL PLOT TO BE REPEATED MONTHLY USING A PANEL APPROACH (can use df.loc() or extract 'month' as a variable)\n",
    "# Surprises: the highest spikes are not Peak but Standard, \n",
    "# peak is evening from 2pm to 8pm!\n",
    "# Peak seems to have recurring spikes perhaps related to the day of the week?\n",
    "# on many days the standard price is below the off-peak price Can calculate frequency with a Boolean!\n",
    "# Standard is from 8 until 2pm so prices are lowered by midday solar"
   ]
  },
  {
   "cell_type": "code",
   "execution_count": null,
   "metadata": {},
   "outputs": [],
   "source": [
    "dfPGE.info()"
   ]
  },
  {
   "cell_type": "code",
   "execution_count": null,
   "metadata": {},
   "outputs": [],
   "source": [
    "dfPGE.columns= ['OP','P','S']\n",
    "dfPGE.head(3)\n",
    "dfPGE.tail()"
   ]
  },
  {
   "cell_type": "code",
   "execution_count": null,
   "metadata": {},
   "outputs": [],
   "source": []
  },
  {
   "cell_type": "code",
   "execution_count": null,
   "metadata": {},
   "outputs": [],
   "source": []
  },
  {
   "cell_type": "code",
   "execution_count": null,
   "metadata": {},
   "outputs": [],
   "source": [
    "# BIG QUESTION: EACH DAY FIND THE HIGHEST 100 PRICES AND THEN THE LOWEST 100 PRICES VIA SORT. \n",
    "# THEN SUBTRACT THE LOWEST FROM THE HIGHEST, AND SEE IF > $0.25. KEEP GOING UNTIL THIS THRESHOLD IS HIT! \n",
    "# SO CHARGE AT WORK FROM 9 TO 10AM AND USE AT HOME TO RUN AC IN PEAK HOURS!!!"
   ]
  },
  {
   "cell_type": "code",
   "execution_count": null,
   "metadata": {},
   "outputs": [],
   "source": [
    "# We need suppose 2 hours on average daily, 24 intervals/day, 720/month. Find for cumulative of 720 the cut-off price\n",
    "# Then calculate the average price (of course less than cutoff): compute for 720 vs 360, and annnualise cost benefit\n",
    "# this is the economic value of the Level 2 Charger versus the Level 1."
   ]
  },
  {
   "cell_type": "code",
   "execution_count": null,
   "metadata": {},
   "outputs": [],
   "source": [
    "# downsample the 5-minute prices to hourly and match up with hourly wind and solar data (Dhavide Course One)"
   ]
  },
  {
   "cell_type": "code",
   "execution_count": null,
   "metadata": {},
   "outputs": [],
   "source": []
  },
  {
   "cell_type": "code",
   "execution_count": null,
   "metadata": {},
   "outputs": [],
   "source": []
  }
 ],
 "metadata": {
  "kernelspec": {
   "display_name": "Python 3",
   "language": "python",
   "name": "python3"
  },
  "language_info": {
   "codemirror_mode": {
    "name": "ipython",
    "version": 3
   },
   "file_extension": ".py",
   "mimetype": "text/x-python",
   "name": "python",
   "nbconvert_exporter": "python",
   "pygments_lexer": "ipython3",
   "version": "3.7.1"
  }
 },
 "nbformat": 4,
 "nbformat_minor": 2
}
