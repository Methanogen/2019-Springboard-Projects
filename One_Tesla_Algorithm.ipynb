{
 "cells": [
  {
   "cell_type": "code",
   "execution_count": 2,
   "metadata": {},
   "outputs": [
    {
     "name": "stdout",
     "output_type": "stream",
     "text": [
      "/Users/user/Desktop\n"
     ]
    }
   ],
   "source": [
    "import os\n",
    "print(os.getcwd())"
   ]
  },
  {
   "cell_type": "code",
   "execution_count": 3,
   "metadata": {},
   "outputs": [],
   "source": [
    "import numpy as np\n",
    "import pandas as pd\n",
    "import matplotlib.pyplot as plt\n",
    "from pandas import ExcelWriter\n",
    "from pandas import ExcelFile"
   ]
  },
  {
   "cell_type": "code",
   "execution_count": 4,
   "metadata": {},
   "outputs": [
    {
     "name": "stdout",
     "output_type": "stream",
     "text": [
      "(2788, 25)\n",
      "<class 'pandas.core.frame.DataFrame'>\n",
      "DatetimeIndex: 66505 entries, 2011-08-01 00:00:00 to 2019-03-19 02:00:00\n",
      "Data columns (total 5 columns):\n",
      "hour       66505 non-null category\n",
      "kwh        66505 non-null float64\n",
      "weekday    66505 non-null category\n",
      "month      66505 non-null category\n",
      "year       66505 non-null category\n",
      "dtypes: category(4), float64(1)\n",
      "memory usage: 1.3 MB\n"
     ]
    },
    {
     "data": {
      "text/html": [
       "<div>\n",
       "<style scoped>\n",
       "    .dataframe tbody tr th:only-of-type {\n",
       "        vertical-align: middle;\n",
       "    }\n",
       "\n",
       "    .dataframe tbody tr th {\n",
       "        vertical-align: top;\n",
       "    }\n",
       "\n",
       "    .dataframe thead th {\n",
       "        text-align: right;\n",
       "    }\n",
       "</style>\n",
       "<table border=\"1\" class=\"dataframe\">\n",
       "  <thead>\n",
       "    <tr style=\"text-align: right;\">\n",
       "      <th></th>\n",
       "      <th>hour</th>\n",
       "      <th>kwh</th>\n",
       "      <th>weekday</th>\n",
       "      <th>month</th>\n",
       "      <th>year</th>\n",
       "    </tr>\n",
       "    <tr>\n",
       "      <th>date</th>\n",
       "      <th></th>\n",
       "      <th></th>\n",
       "      <th></th>\n",
       "      <th></th>\n",
       "      <th></th>\n",
       "    </tr>\n",
       "  </thead>\n",
       "  <tbody>\n",
       "    <tr>\n",
       "      <th>2011-08-01 00:00:00</th>\n",
       "      <td>00</td>\n",
       "      <td>0.77</td>\n",
       "      <td>Monday</td>\n",
       "      <td>8</td>\n",
       "      <td>2011</td>\n",
       "    </tr>\n",
       "    <tr>\n",
       "      <th>2011-08-01 01:00:00</th>\n",
       "      <td>01</td>\n",
       "      <td>0.64</td>\n",
       "      <td>Monday</td>\n",
       "      <td>8</td>\n",
       "      <td>2011</td>\n",
       "    </tr>\n",
       "    <tr>\n",
       "      <th>2011-08-01 02:00:00</th>\n",
       "      <td>02</td>\n",
       "      <td>0.70</td>\n",
       "      <td>Monday</td>\n",
       "      <td>8</td>\n",
       "      <td>2011</td>\n",
       "    </tr>\n",
       "    <tr>\n",
       "      <th>2011-08-01 03:00:00</th>\n",
       "      <td>03</td>\n",
       "      <td>0.58</td>\n",
       "      <td>Monday</td>\n",
       "      <td>8</td>\n",
       "      <td>2011</td>\n",
       "    </tr>\n",
       "    <tr>\n",
       "      <th>2011-08-01 04:00:00</th>\n",
       "      <td>04</td>\n",
       "      <td>0.58</td>\n",
       "      <td>Monday</td>\n",
       "      <td>8</td>\n",
       "      <td>2011</td>\n",
       "    </tr>\n",
       "  </tbody>\n",
       "</table>\n",
       "</div>"
      ],
      "text/plain": [
       "                    hour   kwh weekday month  year\n",
       "date                                              \n",
       "2011-08-01 00:00:00   00  0.77  Monday     8  2011\n",
       "2011-08-01 01:00:00   01  0.64  Monday     8  2011\n",
       "2011-08-01 02:00:00   02  0.70  Monday     8  2011\n",
       "2011-08-01 03:00:00   03  0.58  Monday     8  2011\n",
       "2011-08-01 04:00:00   04  0.58  Monday     8  2011"
      ]
     },
     "execution_count": 4,
     "metadata": {},
     "output_type": "execute_result"
    }
   ],
   "source": [
    "df= pd.read_csv('Hevrin Usage.csv',header= None,skiprows= 17, usecols= [*range(45,70)]) \n",
    "# skip rows st start August 1st\n",
    "# nrows= 730,   nrows st two years to start with: better is all days, then resample to weekly with .resample('W')\n",
    "print(df.shape)\n",
    "df.head()\n",
    "df.columns= ['day','00','01','02','03','04','05','06','07','08','09','10','11','12','13','14','15','16','17','18','19','20','21','22','23']\n",
    "df= df.set_index(df['day'])\n",
    "df= df.drop(['day'], axis=1)\n",
    "df.tail(3)\n",
    "dft= df.stack()\n",
    "dft=dft.reset_index()\n",
    "dft.columns= ['day','hour','kwh'] # where 'day' is string, not DT\n",
    "dft.head(8)\n",
    "dft['date']= pd.to_datetime(dft['day'] + ' ' + dft['hour'] + ':00:00')\n",
    "from datetime import datetime\n",
    "dft['weekday']= dft.date.dt.weekday_name\n",
    "dft['month']= dft.date.dt.month\n",
    "dft['year']= dft.date.dt.year\n",
    "dft.set_index(dft['date'], inplace= True)\n",
    "dft= dft.drop(['day','date'], axis=1)\n",
    "dft['hour']= dft['hour'].astype('category')\n",
    "dft['weekday']= dft['weekday'].astype('category')\n",
    "dft['month']= dft['month'].astype('category')\n",
    "dft['year']= dft['year'].astype('category')\n",
    "dft.info()\n",
    "dft.head()"
   ]
  },
  {
   "cell_type": "code",
   "execution_count": 5,
   "metadata": {},
   "outputs": [],
   "source": [
    "df_17= dft[dft.year== 2017]\n",
    "kwh_17= df_17.kwh.tolist()\n",
    "df_17.head(3)\n",
    "\n",
    "# Repeat for other years\n",
    "df_16= dft[dft.year== 2016]\n",
    "kwh_16= df_16.kwh.tolist()\n",
    "\n",
    "df_15= dft[dft.year== 2015]\n",
    "kwh_15= df_15.kwh.tolist()\n",
    "df_14= dft[dft.year== 2014]\n",
    "kwh_14= df_14.kwh.tolist()\n",
    "df_13= dft[dft.year== 2013]\n",
    "kwh_13= df_13.kwh.tolist()\n",
    "df_12= dft[dft.year== 2012]\n",
    "kwh_12= df_12.kwh.tolist()"
   ]
  },
  {
   "cell_type": "code",
   "execution_count": 6,
   "metadata": {},
   "outputs": [],
   "source": [
    "import random  # n=50 later for ROC Curve?\n",
    "# random.seed(27)\n",
    "def Season_list(list,n):\n",
    "    ### creates n metering-records, each 13 weeks long for the Season, from a list of 13 weeks x 6 years(2013-2017)###\n",
    "    S= []\n",
    "    for i in range(n):\n",
    "        a= [random.choice(list) for p in range(13)]      # List Comprehension to draw 13 weeks of 168 hours\n",
    "        b= [item for sublist in a for item in sublist]   # Flatten each List-of-lists into a single list\n",
    "        S.append(b)\n",
    "    return S"
   ]
  },
  {
   "cell_type": "code",
   "execution_count": 7,
   "metadata": {},
   "outputs": [
    {
     "data": {
      "text/html": [
       "<div>\n",
       "<style scoped>\n",
       "    .dataframe tbody tr th:only-of-type {\n",
       "        vertical-align: middle;\n",
       "    }\n",
       "\n",
       "    .dataframe tbody tr th {\n",
       "        vertical-align: top;\n",
       "    }\n",
       "\n",
       "    .dataframe thead th {\n",
       "        text-align: right;\n",
       "    }\n",
       "</style>\n",
       "<table border=\"1\" class=\"dataframe\">\n",
       "  <thead>\n",
       "    <tr style=\"text-align: right;\">\n",
       "      <th></th>\n",
       "      <th>0</th>\n",
       "      <th>1</th>\n",
       "      <th>2</th>\n",
       "      <th>3</th>\n",
       "      <th>4</th>\n",
       "      <th>5</th>\n",
       "      <th>6</th>\n",
       "      <th>7</th>\n",
       "      <th>8</th>\n",
       "      <th>9</th>\n",
       "      <th>...</th>\n",
       "      <th>86</th>\n",
       "      <th>87</th>\n",
       "      <th>88</th>\n",
       "      <th>89</th>\n",
       "      <th>90</th>\n",
       "      <th>91</th>\n",
       "      <th>92</th>\n",
       "      <th>93</th>\n",
       "      <th>94</th>\n",
       "      <th>95</th>\n",
       "    </tr>\n",
       "  </thead>\n",
       "  <tbody>\n",
       "    <tr>\n",
       "      <th>2179</th>\n",
       "      <td>0.70</td>\n",
       "      <td>0.58</td>\n",
       "      <td>1.54</td>\n",
       "      <td>0.51</td>\n",
       "      <td>1.41</td>\n",
       "      <td>1.28</td>\n",
       "      <td>0.70</td>\n",
       "      <td>1.600</td>\n",
       "      <td>1.41</td>\n",
       "      <td>0.90</td>\n",
       "      <td>...</td>\n",
       "      <td>0.700</td>\n",
       "      <td>0.90</td>\n",
       "      <td>0.64</td>\n",
       "      <td>2.75</td>\n",
       "      <td>0.77</td>\n",
       "      <td>1.92</td>\n",
       "      <td>1.15</td>\n",
       "      <td>0.70</td>\n",
       "      <td>1.54</td>\n",
       "      <td>0.58</td>\n",
       "    </tr>\n",
       "    <tr>\n",
       "      <th>2180</th>\n",
       "      <td>0.70</td>\n",
       "      <td>0.64</td>\n",
       "      <td>0.77</td>\n",
       "      <td>0.58</td>\n",
       "      <td>1.15</td>\n",
       "      <td>1.79</td>\n",
       "      <td>0.64</td>\n",
       "      <td>2.496</td>\n",
       "      <td>1.92</td>\n",
       "      <td>1.09</td>\n",
       "      <td>...</td>\n",
       "      <td>0.640</td>\n",
       "      <td>0.90</td>\n",
       "      <td>0.96</td>\n",
       "      <td>2.11</td>\n",
       "      <td>0.83</td>\n",
       "      <td>0.77</td>\n",
       "      <td>1.09</td>\n",
       "      <td>0.70</td>\n",
       "      <td>0.77</td>\n",
       "      <td>0.51</td>\n",
       "    </tr>\n",
       "    <tr>\n",
       "      <th>2181</th>\n",
       "      <td>0.58</td>\n",
       "      <td>0.96</td>\n",
       "      <td>0.64</td>\n",
       "      <td>0.64</td>\n",
       "      <td>1.22</td>\n",
       "      <td>0.64</td>\n",
       "      <td>0.64</td>\n",
       "      <td>4.610</td>\n",
       "      <td>2.43</td>\n",
       "      <td>2.11</td>\n",
       "      <td>...</td>\n",
       "      <td>0.700</td>\n",
       "      <td>0.96</td>\n",
       "      <td>1.15</td>\n",
       "      <td>1.60</td>\n",
       "      <td>0.83</td>\n",
       "      <td>0.58</td>\n",
       "      <td>1.22</td>\n",
       "      <td>0.58</td>\n",
       "      <td>0.64</td>\n",
       "      <td>0.58</td>\n",
       "    </tr>\n",
       "    <tr>\n",
       "      <th>2182</th>\n",
       "      <td>0.77</td>\n",
       "      <td>1.47</td>\n",
       "      <td>1.34</td>\n",
       "      <td>0.51</td>\n",
       "      <td>2.62</td>\n",
       "      <td>0.45</td>\n",
       "      <td>0.70</td>\n",
       "      <td>3.710</td>\n",
       "      <td>1.02</td>\n",
       "      <td>3.33</td>\n",
       "      <td>...</td>\n",
       "      <td>0.640</td>\n",
       "      <td>0.90</td>\n",
       "      <td>2.24</td>\n",
       "      <td>1.54</td>\n",
       "      <td>1.15</td>\n",
       "      <td>0.58</td>\n",
       "      <td>1.60</td>\n",
       "      <td>0.77</td>\n",
       "      <td>1.34</td>\n",
       "      <td>0.96</td>\n",
       "    </tr>\n",
       "    <tr>\n",
       "      <th>2183</th>\n",
       "      <td>0.70</td>\n",
       "      <td>2.18</td>\n",
       "      <td>2.56</td>\n",
       "      <td>0.58</td>\n",
       "      <td>2.18</td>\n",
       "      <td>0.38</td>\n",
       "      <td>0.83</td>\n",
       "      <td>2.370</td>\n",
       "      <td>2.75</td>\n",
       "      <td>3.65</td>\n",
       "      <td>...</td>\n",
       "      <td>0.832</td>\n",
       "      <td>0.96</td>\n",
       "      <td>3.33</td>\n",
       "      <td>0.45</td>\n",
       "      <td>0.83</td>\n",
       "      <td>0.64</td>\n",
       "      <td>1.73</td>\n",
       "      <td>0.70</td>\n",
       "      <td>2.56</td>\n",
       "      <td>1.09</td>\n",
       "    </tr>\n",
       "  </tbody>\n",
       "</table>\n",
       "<p>5 rows × 96 columns</p>\n",
       "</div>"
      ],
      "text/plain": [
       "        0     1     2     3     4     5     6      7     8     9   ...   \\\n",
       "2179  0.70  0.58  1.54  0.51  1.41  1.28  0.70  1.600  1.41  0.90  ...    \n",
       "2180  0.70  0.64  0.77  0.58  1.15  1.79  0.64  2.496  1.92  1.09  ...    \n",
       "2181  0.58  0.96  0.64  0.64  1.22  0.64  0.64  4.610  2.43  2.11  ...    \n",
       "2182  0.77  1.47  1.34  0.51  2.62  0.45  0.70  3.710  1.02  3.33  ...    \n",
       "2183  0.70  2.18  2.56  0.58  2.18  0.38  0.83  2.370  2.75  3.65  ...    \n",
       "\n",
       "         86    87    88    89    90    91    92    93    94    95  \n",
       "2179  0.700  0.90  0.64  2.75  0.77  1.92  1.15  0.70  1.54  0.58  \n",
       "2180  0.640  0.90  0.96  2.11  0.83  0.77  1.09  0.70  0.77  0.51  \n",
       "2181  0.700  0.96  1.15  1.60  0.83  0.58  1.22  0.58  0.64  0.58  \n",
       "2182  0.640  0.90  2.24  1.54  1.15  0.58  1.60  0.77  1.34  0.96  \n",
       "2183  0.832  0.96  3.33  0.45  0.83  0.64  1.73  0.70  2.56  1.09  \n",
       "\n",
       "[5 rows x 96 columns]"
      ]
     },
     "execution_count": 7,
     "metadata": {},
     "output_type": "execute_result"
    }
   ],
   "source": [
    "# importing Original Data to make a df with 96 Summer Meter Records\n",
    "# Repeat for Summer: SU\n",
    "# create nested list 13 weeks of 168 hours each for Summer (SU)\n",
    "SU_17= kwh_17[4368:6552] \n",
    "SU17_weekly= [ SU_17[i:i+168] for i in range(0,2184,168)] \n",
    "SU_16= kwh_16[4368:6552]\n",
    "SU16_weekly= [SU_16[i:i+168] for i in range(0,2184,168)] \n",
    "SU_15= kwh_15[4368:6552]\n",
    "SU15_weekly= [SU_15[i:i+168] for i in range(0,2184,168)] \n",
    "SU_14= kwh_14[4368:6552]\n",
    "SU14_weekly= [SU_14[i:i+168] for i in range(0,2184,168)] \n",
    "\n",
    "SU_13= kwh_13[4368:6552]\n",
    "SU13_weekly= [SU_13[i:i+168] for i in range(0,2184,168)] \n",
    "SU_12= kwh_12[4368:6552]\n",
    "SU12_weekly= [SU_12[i:i+168] for i in range(0,2184,168)] \n",
    "\n",
    "SU_weekly= SU17_weekly + SU16_weekly + SU15_weekly + SU14_weekly + SU13_weekly + SU12_weekly\n",
    "len(SU_weekly)\n",
    "\n",
    "su= Season_list(SU_weekly,96)    # Note 96 records, NOT 100 as must match the 12 transformers w 8 meters each\n",
    "# This generates a dataframe from the list of lists; This is exactly what we need!!\n",
    "dfSU= pd.DataFrame(su)\n",
    "dfSU.shape  # (96 rows, 2184 columns) OK\n",
    "dfSU.T.tail(5)  # no NaN    # TRANSPOSED PURELY FOR VISUALIZATON PURPOSES !!"
   ]
  },
  {
   "cell_type": "markdown",
   "metadata": {},
   "source": [
    "# Create df for additional 13 weeks May 16 to August 14th  "
   ]
  },
  {
   "cell_type": "code",
   "execution_count": 8,
   "metadata": {},
   "outputs": [
    {
     "name": "stdout",
     "output_type": "stream",
     "text": [
      "(91, 25)\n",
      "<class 'pandas.core.frame.DataFrame'>\n",
      "RangeIndex: 91 entries, 0 to 90\n",
      "Data columns (total 25 columns):\n",
      "0     91 non-null object\n",
      "1     91 non-null float64\n",
      "2     91 non-null float64\n",
      "3     91 non-null float64\n",
      "4     91 non-null float64\n",
      "5     91 non-null float64\n",
      "6     91 non-null float64\n",
      "7     91 non-null float64\n",
      "8     91 non-null float64\n",
      "9     91 non-null float64\n",
      "10    91 non-null float64\n",
      "11    91 non-null float64\n",
      "12    91 non-null float64\n",
      "13    91 non-null float64\n",
      "14    91 non-null float64\n",
      "15    91 non-null float64\n",
      "16    91 non-null float64\n",
      "17    91 non-null float64\n",
      "18    91 non-null float64\n",
      "19    91 non-null float64\n",
      "20    91 non-null float64\n",
      "21    91 non-null float64\n",
      "22    91 non-null float64\n",
      "23    91 non-null float64\n",
      "24    91 non-null float64\n",
      "dtypes: float64(24), object(1)\n",
      "memory usage: 17.9+ KB\n"
     ]
    },
    {
     "data": {
      "text/html": [
       "<div>\n",
       "<style scoped>\n",
       "    .dataframe tbody tr th:only-of-type {\n",
       "        vertical-align: middle;\n",
       "    }\n",
       "\n",
       "    .dataframe tbody tr th {\n",
       "        vertical-align: top;\n",
       "    }\n",
       "\n",
       "    .dataframe thead th {\n",
       "        text-align: right;\n",
       "    }\n",
       "</style>\n",
       "<table border=\"1\" class=\"dataframe\">\n",
       "  <thead>\n",
       "    <tr style=\"text-align: right;\">\n",
       "      <th></th>\n",
       "      <th>day</th>\n",
       "      <th>00</th>\n",
       "      <th>01</th>\n",
       "      <th>02</th>\n",
       "      <th>03</th>\n",
       "      <th>04</th>\n",
       "      <th>05</th>\n",
       "      <th>06</th>\n",
       "      <th>07</th>\n",
       "      <th>08</th>\n",
       "      <th>...</th>\n",
       "      <th>14</th>\n",
       "      <th>15</th>\n",
       "      <th>16</th>\n",
       "      <th>17</th>\n",
       "      <th>18</th>\n",
       "      <th>19</th>\n",
       "      <th>20</th>\n",
       "      <th>21</th>\n",
       "      <th>22</th>\n",
       "      <th>23</th>\n",
       "    </tr>\n",
       "  </thead>\n",
       "  <tbody>\n",
       "    <tr>\n",
       "      <th>0</th>\n",
       "      <td>2019-05-16 00:00:00</td>\n",
       "      <td>0.58</td>\n",
       "      <td>0.51</td>\n",
       "      <td>0.58</td>\n",
       "      <td>0.58</td>\n",
       "      <td>4.42</td>\n",
       "      <td>8.38</td>\n",
       "      <td>10.43</td>\n",
       "      <td>4.54</td>\n",
       "      <td>9.73</td>\n",
       "      <td>...</td>\n",
       "      <td>8.960</td>\n",
       "      <td>6.53</td>\n",
       "      <td>2.05</td>\n",
       "      <td>2.37</td>\n",
       "      <td>0.45</td>\n",
       "      <td>1.47</td>\n",
       "      <td>9.02</td>\n",
       "      <td>1.98</td>\n",
       "      <td>1.47</td>\n",
       "      <td>0.96</td>\n",
       "    </tr>\n",
       "    <tr>\n",
       "      <th>1</th>\n",
       "      <td>2019-05-17 00:00:00</td>\n",
       "      <td>1.09</td>\n",
       "      <td>0.64</td>\n",
       "      <td>0.51</td>\n",
       "      <td>0.70</td>\n",
       "      <td>0.38</td>\n",
       "      <td>0.38</td>\n",
       "      <td>0.38</td>\n",
       "      <td>0.32</td>\n",
       "      <td>0.26</td>\n",
       "      <td>...</td>\n",
       "      <td>0.320</td>\n",
       "      <td>0.45</td>\n",
       "      <td>0.32</td>\n",
       "      <td>0.77</td>\n",
       "      <td>0.70</td>\n",
       "      <td>1.09</td>\n",
       "      <td>9.41</td>\n",
       "      <td>10.05</td>\n",
       "      <td>1.54</td>\n",
       "      <td>0.64</td>\n",
       "    </tr>\n",
       "    <tr>\n",
       "      <th>2</th>\n",
       "      <td>2019-05-18 00:00:00</td>\n",
       "      <td>0.32</td>\n",
       "      <td>0.51</td>\n",
       "      <td>0.38</td>\n",
       "      <td>0.38</td>\n",
       "      <td>0.38</td>\n",
       "      <td>0.38</td>\n",
       "      <td>0.32</td>\n",
       "      <td>1.73</td>\n",
       "      <td>2.88</td>\n",
       "      <td>...</td>\n",
       "      <td>1.024</td>\n",
       "      <td>0.70</td>\n",
       "      <td>0.96</td>\n",
       "      <td>1.41</td>\n",
       "      <td>1.34</td>\n",
       "      <td>0.77</td>\n",
       "      <td>8.77</td>\n",
       "      <td>2.75</td>\n",
       "      <td>0.96</td>\n",
       "      <td>1.02</td>\n",
       "    </tr>\n",
       "  </tbody>\n",
       "</table>\n",
       "<p>3 rows × 25 columns</p>\n",
       "</div>"
      ],
      "text/plain": [
       "                   day    00    01    02    03    04    05     06    07    08  \\\n",
       "0  2019-05-16 00:00:00  0.58  0.51  0.58  0.58  4.42  8.38  10.43  4.54  9.73   \n",
       "1  2019-05-17 00:00:00  1.09  0.64  0.51  0.70  0.38  0.38   0.38  0.32  0.26   \n",
       "2  2019-05-18 00:00:00  0.32  0.51  0.38  0.38  0.38  0.38   0.32  1.73  2.88   \n",
       "\n",
       "   ...      14    15    16    17    18    19    20     21    22    23  \n",
       "0  ...   8.960  6.53  2.05  2.37  0.45  1.47  9.02   1.98  1.47  0.96  \n",
       "1  ...   0.320  0.45  0.32  0.77  0.70  1.09  9.41  10.05  1.54  0.64  \n",
       "2  ...   1.024  0.70  0.96  1.41  1.34  0.77  8.77   2.75  0.96  1.02  \n",
       "\n",
       "[3 rows x 25 columns]"
      ]
     },
     "execution_count": 8,
     "metadata": {},
     "output_type": "execute_result"
    }
   ],
   "source": [
    "df_May= pd.read_excel('Hevrin_pdf_May.xlsx',sheet_name='Sheet1', dtype= {0: 'str'}, header= None,skiprows= 2, usecols= None) \n",
    "print(df_May.shape)  \n",
    "df_May.head()\n",
    "df_May.info()  \n",
    "# first column was inferred as datetime, different from pd.read_csv, when a string. But now string ia dtype dict!\n",
    "df_May.columns= ['day','00','01','02','03','04','05','06','07','08','09','10','11','12','13','14','15','16','17','18','19','20','21','22','23']\n",
    "df_May.head(3)"
   ]
  },
  {
   "cell_type": "code",
   "execution_count": 9,
   "metadata": {},
   "outputs": [
    {
     "name": "stdout",
     "output_type": "stream",
     "text": [
      "<class 'pandas.core.frame.DataFrame'>\n",
      "Index: 91 entries, 2019-05-16 00:00:00 to 2019-08-14 00:00:00\n",
      "Data columns (total 24 columns):\n",
      "00    91 non-null float64\n",
      "01    91 non-null float64\n",
      "02    91 non-null float64\n",
      "03    91 non-null float64\n",
      "04    91 non-null float64\n",
      "05    91 non-null float64\n",
      "06    91 non-null float64\n",
      "07    91 non-null float64\n",
      "08    91 non-null float64\n",
      "09    91 non-null float64\n",
      "10    91 non-null float64\n",
      "11    91 non-null float64\n",
      "12    91 non-null float64\n",
      "13    91 non-null float64\n",
      "14    91 non-null float64\n",
      "15    91 non-null float64\n",
      "16    91 non-null float64\n",
      "17    91 non-null float64\n",
      "18    91 non-null float64\n",
      "19    91 non-null float64\n",
      "20    91 non-null float64\n",
      "21    91 non-null float64\n",
      "22    91 non-null float64\n",
      "23    91 non-null float64\n",
      "dtypes: float64(24)\n",
      "memory usage: 17.8+ KB\n"
     ]
    },
    {
     "data": {
      "text/html": [
       "<div>\n",
       "<style scoped>\n",
       "    .dataframe tbody tr th:only-of-type {\n",
       "        vertical-align: middle;\n",
       "    }\n",
       "\n",
       "    .dataframe tbody tr th {\n",
       "        vertical-align: top;\n",
       "    }\n",
       "\n",
       "    .dataframe thead th {\n",
       "        text-align: right;\n",
       "    }\n",
       "</style>\n",
       "<table border=\"1\" class=\"dataframe\">\n",
       "  <thead>\n",
       "    <tr style=\"text-align: right;\">\n",
       "      <th></th>\n",
       "      <th>00</th>\n",
       "      <th>01</th>\n",
       "      <th>02</th>\n",
       "      <th>03</th>\n",
       "      <th>04</th>\n",
       "      <th>05</th>\n",
       "      <th>06</th>\n",
       "      <th>07</th>\n",
       "      <th>08</th>\n",
       "      <th>09</th>\n",
       "      <th>...</th>\n",
       "      <th>14</th>\n",
       "      <th>15</th>\n",
       "      <th>16</th>\n",
       "      <th>17</th>\n",
       "      <th>18</th>\n",
       "      <th>19</th>\n",
       "      <th>20</th>\n",
       "      <th>21</th>\n",
       "      <th>22</th>\n",
       "      <th>23</th>\n",
       "    </tr>\n",
       "    <tr>\n",
       "      <th>day</th>\n",
       "      <th></th>\n",
       "      <th></th>\n",
       "      <th></th>\n",
       "      <th></th>\n",
       "      <th></th>\n",
       "      <th></th>\n",
       "      <th></th>\n",
       "      <th></th>\n",
       "      <th></th>\n",
       "      <th></th>\n",
       "      <th></th>\n",
       "      <th></th>\n",
       "      <th></th>\n",
       "      <th></th>\n",
       "      <th></th>\n",
       "      <th></th>\n",
       "      <th></th>\n",
       "      <th></th>\n",
       "      <th></th>\n",
       "      <th></th>\n",
       "      <th></th>\n",
       "    </tr>\n",
       "  </thead>\n",
       "  <tbody>\n",
       "    <tr>\n",
       "      <th>2019-05-16 00:00:00</th>\n",
       "      <td>0.58</td>\n",
       "      <td>0.51</td>\n",
       "      <td>0.58</td>\n",
       "      <td>0.58</td>\n",
       "      <td>4.42</td>\n",
       "      <td>8.38</td>\n",
       "      <td>10.43</td>\n",
       "      <td>4.54</td>\n",
       "      <td>9.73</td>\n",
       "      <td>0.64</td>\n",
       "      <td>...</td>\n",
       "      <td>8.960</td>\n",
       "      <td>6.53</td>\n",
       "      <td>2.05</td>\n",
       "      <td>2.37</td>\n",
       "      <td>0.45</td>\n",
       "      <td>1.47</td>\n",
       "      <td>9.02</td>\n",
       "      <td>1.98</td>\n",
       "      <td>1.47</td>\n",
       "      <td>0.96</td>\n",
       "    </tr>\n",
       "    <tr>\n",
       "      <th>2019-05-17 00:00:00</th>\n",
       "      <td>1.09</td>\n",
       "      <td>0.64</td>\n",
       "      <td>0.51</td>\n",
       "      <td>0.70</td>\n",
       "      <td>0.38</td>\n",
       "      <td>0.38</td>\n",
       "      <td>0.38</td>\n",
       "      <td>0.32</td>\n",
       "      <td>0.26</td>\n",
       "      <td>0.32</td>\n",
       "      <td>...</td>\n",
       "      <td>0.320</td>\n",
       "      <td>0.45</td>\n",
       "      <td>0.32</td>\n",
       "      <td>0.77</td>\n",
       "      <td>0.70</td>\n",
       "      <td>1.09</td>\n",
       "      <td>9.41</td>\n",
       "      <td>10.05</td>\n",
       "      <td>1.54</td>\n",
       "      <td>0.64</td>\n",
       "    </tr>\n",
       "    <tr>\n",
       "      <th>2019-05-18 00:00:00</th>\n",
       "      <td>0.32</td>\n",
       "      <td>0.51</td>\n",
       "      <td>0.38</td>\n",
       "      <td>0.38</td>\n",
       "      <td>0.38</td>\n",
       "      <td>0.38</td>\n",
       "      <td>0.32</td>\n",
       "      <td>1.73</td>\n",
       "      <td>2.88</td>\n",
       "      <td>0.70</td>\n",
       "      <td>...</td>\n",
       "      <td>1.024</td>\n",
       "      <td>0.70</td>\n",
       "      <td>0.96</td>\n",
       "      <td>1.41</td>\n",
       "      <td>1.34</td>\n",
       "      <td>0.77</td>\n",
       "      <td>8.77</td>\n",
       "      <td>2.75</td>\n",
       "      <td>0.96</td>\n",
       "      <td>1.02</td>\n",
       "    </tr>\n",
       "  </tbody>\n",
       "</table>\n",
       "<p>3 rows × 24 columns</p>\n",
       "</div>"
      ],
      "text/plain": [
       "                       00    01    02    03    04    05     06    07    08  \\\n",
       "day                                                                          \n",
       "2019-05-16 00:00:00  0.58  0.51  0.58  0.58  4.42  8.38  10.43  4.54  9.73   \n",
       "2019-05-17 00:00:00  1.09  0.64  0.51  0.70  0.38  0.38   0.38  0.32  0.26   \n",
       "2019-05-18 00:00:00  0.32  0.51  0.38  0.38  0.38  0.38   0.32  1.73  2.88   \n",
       "\n",
       "                       09  ...      14    15    16    17    18    19    20  \\\n",
       "day                        ...                                               \n",
       "2019-05-16 00:00:00  0.64  ...   8.960  6.53  2.05  2.37  0.45  1.47  9.02   \n",
       "2019-05-17 00:00:00  0.32  ...   0.320  0.45  0.32  0.77  0.70  1.09  9.41   \n",
       "2019-05-18 00:00:00  0.70  ...   1.024  0.70  0.96  1.41  1.34  0.77  8.77   \n",
       "\n",
       "                        21    22    23  \n",
       "day                                     \n",
       "2019-05-16 00:00:00   1.98  1.47  0.96  \n",
       "2019-05-17 00:00:00  10.05  1.54  0.64  \n",
       "2019-05-18 00:00:00   2.75  0.96  1.02  \n",
       "\n",
       "[3 rows x 24 columns]"
      ]
     },
     "execution_count": 9,
     "metadata": {},
     "output_type": "execute_result"
    }
   ],
   "source": [
    "df_May= df_May.set_index(df_May['day'])\n",
    "df_May= df_May.drop(['day'], axis=1)\n",
    "df_May.info()\n",
    "df_May.head(3)"
   ]
  },
  {
   "cell_type": "code",
   "execution_count": 10,
   "metadata": {},
   "outputs": [
    {
     "data": {
      "text/html": [
       "<div>\n",
       "<style scoped>\n",
       "    .dataframe tbody tr th:only-of-type {\n",
       "        vertical-align: middle;\n",
       "    }\n",
       "\n",
       "    .dataframe tbody tr th {\n",
       "        vertical-align: top;\n",
       "    }\n",
       "\n",
       "    .dataframe thead th {\n",
       "        text-align: right;\n",
       "    }\n",
       "</style>\n",
       "<table border=\"1\" class=\"dataframe\">\n",
       "  <thead>\n",
       "    <tr style=\"text-align: right;\">\n",
       "      <th></th>\n",
       "      <th>day</th>\n",
       "      <th>hour</th>\n",
       "      <th>kwh</th>\n",
       "    </tr>\n",
       "  </thead>\n",
       "  <tbody>\n",
       "    <tr>\n",
       "      <th>0</th>\n",
       "      <td>2019-05-16 00:00:00</td>\n",
       "      <td>00</td>\n",
       "      <td>0.58</td>\n",
       "    </tr>\n",
       "    <tr>\n",
       "      <th>1</th>\n",
       "      <td>2019-05-16 00:00:00</td>\n",
       "      <td>01</td>\n",
       "      <td>0.51</td>\n",
       "    </tr>\n",
       "    <tr>\n",
       "      <th>2</th>\n",
       "      <td>2019-05-16 00:00:00</td>\n",
       "      <td>02</td>\n",
       "      <td>0.58</td>\n",
       "    </tr>\n",
       "  </tbody>\n",
       "</table>\n",
       "</div>"
      ],
      "text/plain": [
       "                   day hour   kwh\n",
       "0  2019-05-16 00:00:00   00  0.58\n",
       "1  2019-05-16 00:00:00   01  0.51\n",
       "2  2019-05-16 00:00:00   02  0.58"
      ]
     },
     "execution_count": 10,
     "metadata": {},
     "output_type": "execute_result"
    }
   ],
   "source": [
    "df_May= df_May.stack()\n",
    "df_May= df_May.reset_index()\n",
    "df_May.columns= ['day','hour','kwh'] # where 'day' is string, not DT\n",
    "df_May.head(3)"
   ]
  },
  {
   "cell_type": "code",
   "execution_count": 11,
   "metadata": {},
   "outputs": [],
   "source": [
    "def MT_mapping(number_of_meters, transformer_capacity):   # aka Meter-Transformer Mapping\n",
    "    ### returns a pandas series that can be used to index the meter df for a subsequent .groupby(transformer_ID).sum() \n",
    "    meters_per_transformer= transformer_capacity//3.0 #25/3.1 -> 8  # flat division rounds down to the nearest integer\n",
    "    number_of_transformers = int(number_of_meters//meters_per_transformer) # so if 96 meters we have 12 transformers\n",
    "    # while a whole number technicaly a float, so needed to change type to 'int'\n",
    "    print('number of transformers:' + ' ' + str(number_of_transformers))\n",
    "    x= list(range(number_of_transformers)) \n",
    "    y= np.repeat(x,meters_per_transformer)\n",
    "    print(y)\n",
    "    z= pd.Series(y)\n",
    "    z= z.astype('category') # the integers converted to category (NOT z.to_string())  to facilitate the groupby\n",
    "    # print(z)          # Looks good! Just diplayed vertically with the index as a Series\n",
    "    return z\n",
    "\n",
    "# meter_transformer_mapping(96,25) # so we have 12 transformers with 8 meters each.THIS is OK!"
   ]
  },
  {
   "cell_type": "code",
   "execution_count": 12,
   "metadata": {
    "scrolled": true
   },
   "outputs": [
    {
     "name": "stdout",
     "output_type": "stream",
     "text": [
      "number of transformers: 20\n",
      "[ 0  0  0  0  0  1  1  1  1  1  2  2  2  2  2  3  3  3  3  3  4  4  4  4\n",
      "  4  5  5  5  5  5  6  6  6  6  6  7  7  7  7  7  8  8  8  8  8  9  9  9\n",
      "  9  9 10 10 10 10 10 11 11 11 11 11 12 12 12 12 12 13 13 13 13 13 14 14\n",
      " 14 14 14 15 15 15 15 15 16 16 16 16 16 17 17 17 17 17 18 18 18 18 18 19\n",
      " 19 19 19 19]\n"
     ]
    },
    {
     "data": {
      "text/plain": [
       "0      0\n",
       "1      0\n",
       "2      0\n",
       "3      0\n",
       "4      0\n",
       "5      1\n",
       "6      1\n",
       "7      1\n",
       "8      1\n",
       "9      1\n",
       "10     2\n",
       "11     2\n",
       "12     2\n",
       "13     2\n",
       "14     2\n",
       "15     3\n",
       "16     3\n",
       "17     3\n",
       "18     3\n",
       "19     3\n",
       "20     4\n",
       "21     4\n",
       "22     4\n",
       "23     4\n",
       "24     4\n",
       "25     5\n",
       "26     5\n",
       "27     5\n",
       "28     5\n",
       "29     5\n",
       "      ..\n",
       "70    14\n",
       "71    14\n",
       "72    14\n",
       "73    14\n",
       "74    14\n",
       "75    15\n",
       "76    15\n",
       "77    15\n",
       "78    15\n",
       "79    15\n",
       "80    16\n",
       "81    16\n",
       "82    16\n",
       "83    16\n",
       "84    16\n",
       "85    17\n",
       "86    17\n",
       "87    17\n",
       "88    17\n",
       "89    17\n",
       "90    18\n",
       "91    18\n",
       "92    18\n",
       "93    18\n",
       "94    18\n",
       "95    19\n",
       "96    19\n",
       "97    19\n",
       "98    19\n",
       "99    19\n",
       "Length: 100, dtype: category\n",
       "Categories (20, int64): [0, 1, 2, 3, ..., 16, 17, 18, 19]"
      ]
     },
     "execution_count": 12,
     "metadata": {},
     "output_type": "execute_result"
    }
   ],
   "source": [
    "MT_mapping(100, 15) # 20 transformers OK!"
   ]
  },
  {
   "cell_type": "markdown",
   "metadata": {},
   "source": [
    "# MAPPING MODIFIED TO ANTICIPATE TESLA INTEGRATION"
   ]
  },
  {
   "cell_type": "code",
   "execution_count": 13,
   "metadata": {},
   "outputs": [],
   "source": [
    "def MT_mapping_minus_Tesla(n_transformers, transformer_capacity):\n",
    "    ### returns a pandas series that can be used to index the meter df for a subsequent .groupby(transformer).sum() \n",
    "    meters_per_transformer= transformer_capacity//3.0 - 1 #25/3 -> 8-1= 7 # flat division rounds down to nearest integer\n",
    "    n_meters= n_transformers * meters_per_transformer\n",
    "    x= list(range(n_transformers)) \n",
    "    y= np.repeat(x,meters_per_transformer)\n",
    "    print(y)\n",
    "    z= pd.Series(y)\n",
    "    z= z.astype('category') # the integers converted to category (NOT z.to_string())  to facilitate the groupby\n",
    "    # print(z)          # Looks good! Just diplayed vertically with the index as a Series\n",
    "    return z"
   ]
  },
  {
   "cell_type": "code",
   "execution_count": 14,
   "metadata": {
    "scrolled": true
   },
   "outputs": [
    {
     "name": "stdout",
     "output_type": "stream",
     "text": [
      "[ 0  0  0  0  1  1  1  1  2  2  2  2  3  3  3  3  4  4  4  4  5  5  5  5\n",
      "  6  6  6  6  7  7  7  7  8  8  8  8  9  9  9  9 10 10 10 10 11 11 11 11\n",
      " 12 12 12 12 13 13 13 13 14 14 14 14 15 15 15 15 16 16 16 16 17 17 17 17\n",
      " 18 18 18 18 19 19 19 19 20 20 20 20 21 21 21 21 22 22 22 22 23 23 23 23\n",
      " 24 24 24 24 25 25 25 25 26 26 26 26 27 27 27 27 28 28 28 28 29 29 29 29\n",
      " 30 30 30 30 31 31 31 31 32 32 32 32 33 33 33 33 34 34 34 34 35 35 35 35\n",
      " 36 36 36 36 37 37 37 37 38 38 38 38 39 39 39 39 40 40 40 40 41 41 41 41\n",
      " 42 42 42 42 43 43 43 43 44 44 44 44 45 45 45 45 46 46 46 46 47 47 47 47\n",
      " 48 48 48 48 49 49 49 49 50 50 50 50 51 51 51 51 52 52 52 52 53 53 53 53\n",
      " 54 54 54 54 55 55 55 55 56 56 56 56 57 57 57 57 58 58 58 58 59 59 59 59\n",
      " 60 60 60 60 61 61 61 61 62 62 62 62 63 63 63 63 64 64 64 64 65 65 65 65\n",
      " 66 66 66 66 67 67 67 67 68 68 68 68 69 69 69 69 70 70 70 70 71 71 71 71\n",
      " 72 72 72 72 73 73 73 73 74 74 74 74 75 75 75 75 76 76 76 76 77 77 77 77\n",
      " 78 78 78 78 79 79 79 79 80 80 80 80 81 81 81 81 82 82 82 82 83 83 83 83\n",
      " 84 84 84 84 85 85 85 85 86 86 86 86 87 87 87 87 88 88 88 88 89 89 89 89\n",
      " 90 90 90 90 91 91 91 91 92 92 92 92 93 93 93 93 94 94 94 94 95 95 95 95\n",
      " 96 96 96 96 97 97 97 97 98 98 98 98 99 99 99 99]\n"
     ]
    },
    {
     "data": {
      "text/plain": [
       "0       0\n",
       "1       0\n",
       "2       0\n",
       "3       0\n",
       "4       1\n",
       "5       1\n",
       "6       1\n",
       "7       1\n",
       "8       2\n",
       "9       2\n",
       "10      2\n",
       "11      2\n",
       "12      3\n",
       "13      3\n",
       "14      3\n",
       "15      3\n",
       "16      4\n",
       "17      4\n",
       "18      4\n",
       "19      4\n",
       "20      5\n",
       "21      5\n",
       "22      5\n",
       "23      5\n",
       "24      6\n",
       "25      6\n",
       "26      6\n",
       "27      6\n",
       "28      7\n",
       "29      7\n",
       "       ..\n",
       "370    92\n",
       "371    92\n",
       "372    93\n",
       "373    93\n",
       "374    93\n",
       "375    93\n",
       "376    94\n",
       "377    94\n",
       "378    94\n",
       "379    94\n",
       "380    95\n",
       "381    95\n",
       "382    95\n",
       "383    95\n",
       "384    96\n",
       "385    96\n",
       "386    96\n",
       "387    96\n",
       "388    97\n",
       "389    97\n",
       "390    97\n",
       "391    97\n",
       "392    98\n",
       "393    98\n",
       "394    98\n",
       "395    98\n",
       "396    99\n",
       "397    99\n",
       "398    99\n",
       "399    99\n",
       "Length: 400, dtype: category\n",
       "Categories (100, int64): [0, 1, 2, 3, ..., 96, 97, 98, 99]"
      ]
     },
     "execution_count": 14,
     "metadata": {},
     "output_type": "execute_result"
    }
   ],
   "source": [
    "MT_mapping_minus_Tesla(100,15) # looks OK"
   ]
  },
  {
   "cell_type": "code",
   "execution_count": 15,
   "metadata": {
    "collapsed": true
   },
   "outputs": [
    {
     "data": {
      "text/plain": [
       "2184"
      ]
     },
     "execution_count": 15,
     "metadata": {},
     "output_type": "execute_result"
    }
   ],
   "source": [
    "# Creating Tesla Time series from the two different periods\n",
    "m1T = dft['2019-02-12':'2019-03-18'].kwh.reset_index()    #This is the first period for Tesla metering\n",
    "T1= m1T.kwh.tolist()\n",
    "\n",
    "T2= df_May.kwh.tolist() # This is the second period\n",
    "len(T2) # 2184"
   ]
  },
  {
   "cell_type": "code",
   "execution_count": 16,
   "metadata": {},
   "outputs": [
    {
     "data": {
      "text/plain": [
       "(100, 2184)"
      ]
     },
     "execution_count": 16,
     "metadata": {},
     "output_type": "execute_result"
    }
   ],
   "source": [
    "m1T = dft['2019-02-12':'2019-03-18'].kwh.reset_index()    #This is the first period for Tesla metering\n",
    "T1= m1T.kwh.tolist()\n",
    "\n",
    "T2= df_May.kwh.tolist()\n",
    "len(T2) # 2184\n",
    "\n",
    "T= T1 + T2 # as two Python lists, they are concatenated, to comprise 18 weeks fromwhich 13 can be drawn via 'choice'\n",
    "len(T)\n",
    "\n",
    "T_weekly= [ T[i:i+168] for i in range(0,3024,168)]  # now have 18 weeks of Tesla hourly records to draw 13 weeks from.\n",
    "len(T_weekly)\n",
    "\n",
    "import random\n",
    "mrT= [random.choice(T_weekly) for i in range(13)]  # m1 is Metering Record 1\n",
    "mrT[0]\n",
    "len(mrT) # 13 : so we have a list of lists, drawn at random\n",
    "\n",
    "# We now need to flatten the list-of-lists into a single list of length 168 x 14 weeks\n",
    "fmrT = [item for sublist in mrT for item in sublist]\n",
    "len(fmrT) # 2184 : a flat list of 13 weeks chosen at random \n",
    "# We now need to repeat this 100x and add to dataframe\n",
    "\n",
    "Tesla= Season_list(T_weekly,100)\n",
    "len(Tesla)   # 840 only, we need 2184??\n",
    "\n",
    "dfTesla= pd.DataFrame(Tesla) # Have a df for Tesla of 18 observations:need to calc metrics then append it to a season  \n",
    "dfTesla.shape       "
   ]
  },
  {
   "cell_type": "code",
   "execution_count": 17,
   "metadata": {},
   "outputs": [],
   "source": [
    "# How many Tesla Records do we need to create?? One for each transformer!!\n",
    "# Suppose 15 kVA capacity: 4 non-EV records per transformer, so 400 Summer records and 100 Tesla "
   ]
  },
  {
   "cell_type": "code",
   "execution_count": 18,
   "metadata": {},
   "outputs": [
    {
     "data": {
      "text/html": [
       "<div>\n",
       "<style scoped>\n",
       "    .dataframe tbody tr th:only-of-type {\n",
       "        vertical-align: middle;\n",
       "    }\n",
       "\n",
       "    .dataframe tbody tr th {\n",
       "        vertical-align: top;\n",
       "    }\n",
       "\n",
       "    .dataframe thead th {\n",
       "        text-align: right;\n",
       "    }\n",
       "</style>\n",
       "<table border=\"1\" class=\"dataframe\">\n",
       "  <thead>\n",
       "    <tr style=\"text-align: right;\">\n",
       "      <th></th>\n",
       "      <th>0</th>\n",
       "      <th>1</th>\n",
       "      <th>2</th>\n",
       "      <th>3</th>\n",
       "      <th>4</th>\n",
       "      <th>5</th>\n",
       "      <th>6</th>\n",
       "      <th>7</th>\n",
       "      <th>8</th>\n",
       "      <th>9</th>\n",
       "      <th>...</th>\n",
       "      <th>390</th>\n",
       "      <th>391</th>\n",
       "      <th>392</th>\n",
       "      <th>393</th>\n",
       "      <th>394</th>\n",
       "      <th>395</th>\n",
       "      <th>396</th>\n",
       "      <th>397</th>\n",
       "      <th>398</th>\n",
       "      <th>399</th>\n",
       "    </tr>\n",
       "  </thead>\n",
       "  <tbody>\n",
       "    <tr>\n",
       "      <th>2179</th>\n",
       "      <td>1.600</td>\n",
       "      <td>3.71</td>\n",
       "      <td>0.51</td>\n",
       "      <td>2.30</td>\n",
       "      <td>1.79</td>\n",
       "      <td>0.700</td>\n",
       "      <td>0.90</td>\n",
       "      <td>2.30</td>\n",
       "      <td>1.54</td>\n",
       "      <td>1.28</td>\n",
       "      <td>...</td>\n",
       "      <td>1.54</td>\n",
       "      <td>0.700</td>\n",
       "      <td>2.94</td>\n",
       "      <td>1.98</td>\n",
       "      <td>1.41</td>\n",
       "      <td>1.41</td>\n",
       "      <td>1.98</td>\n",
       "      <td>0.51</td>\n",
       "      <td>2.75</td>\n",
       "      <td>0.51</td>\n",
       "    </tr>\n",
       "    <tr>\n",
       "      <th>2180</th>\n",
       "      <td>2.496</td>\n",
       "      <td>1.22</td>\n",
       "      <td>0.58</td>\n",
       "      <td>2.62</td>\n",
       "      <td>1.92</td>\n",
       "      <td>0.640</td>\n",
       "      <td>0.90</td>\n",
       "      <td>2.62</td>\n",
       "      <td>1.54</td>\n",
       "      <td>1.41</td>\n",
       "      <td>...</td>\n",
       "      <td>0.77</td>\n",
       "      <td>0.700</td>\n",
       "      <td>1.73</td>\n",
       "      <td>2.56</td>\n",
       "      <td>0.96</td>\n",
       "      <td>1.15</td>\n",
       "      <td>3.39</td>\n",
       "      <td>0.58</td>\n",
       "      <td>2.11</td>\n",
       "      <td>0.64</td>\n",
       "    </tr>\n",
       "    <tr>\n",
       "      <th>2181</th>\n",
       "      <td>4.610</td>\n",
       "      <td>1.34</td>\n",
       "      <td>0.64</td>\n",
       "      <td>1.60</td>\n",
       "      <td>1.60</td>\n",
       "      <td>0.700</td>\n",
       "      <td>0.96</td>\n",
       "      <td>1.60</td>\n",
       "      <td>2.24</td>\n",
       "      <td>2.18</td>\n",
       "      <td>...</td>\n",
       "      <td>0.64</td>\n",
       "      <td>0.640</td>\n",
       "      <td>0.70</td>\n",
       "      <td>0.64</td>\n",
       "      <td>0.64</td>\n",
       "      <td>1.22</td>\n",
       "      <td>3.84</td>\n",
       "      <td>0.64</td>\n",
       "      <td>1.60</td>\n",
       "      <td>0.58</td>\n",
       "    </tr>\n",
       "    <tr>\n",
       "      <th>2182</th>\n",
       "      <td>3.710</td>\n",
       "      <td>3.20</td>\n",
       "      <td>0.51</td>\n",
       "      <td>4.42</td>\n",
       "      <td>3.90</td>\n",
       "      <td>0.640</td>\n",
       "      <td>0.90</td>\n",
       "      <td>4.42</td>\n",
       "      <td>2.69</td>\n",
       "      <td>5.18</td>\n",
       "      <td>...</td>\n",
       "      <td>1.34</td>\n",
       "      <td>0.700</td>\n",
       "      <td>0.70</td>\n",
       "      <td>1.15</td>\n",
       "      <td>0.58</td>\n",
       "      <td>2.62</td>\n",
       "      <td>3.33</td>\n",
       "      <td>0.51</td>\n",
       "      <td>1.54</td>\n",
       "      <td>0.45</td>\n",
       "    </tr>\n",
       "    <tr>\n",
       "      <th>2183</th>\n",
       "      <td>2.370</td>\n",
       "      <td>2.69</td>\n",
       "      <td>0.58</td>\n",
       "      <td>2.24</td>\n",
       "      <td>4.03</td>\n",
       "      <td>0.832</td>\n",
       "      <td>0.96</td>\n",
       "      <td>2.24</td>\n",
       "      <td>2.82</td>\n",
       "      <td>1.92</td>\n",
       "      <td>...</td>\n",
       "      <td>2.56</td>\n",
       "      <td>0.832</td>\n",
       "      <td>0.58</td>\n",
       "      <td>2.11</td>\n",
       "      <td>0.64</td>\n",
       "      <td>2.18</td>\n",
       "      <td>1.86</td>\n",
       "      <td>0.58</td>\n",
       "      <td>0.45</td>\n",
       "      <td>0.32</td>\n",
       "    </tr>\n",
       "  </tbody>\n",
       "</table>\n",
       "<p>5 rows × 400 columns</p>\n",
       "</div>"
      ],
      "text/plain": [
       "        0     1     2     3     4      5     6     7     8     9    ...   \\\n",
       "2179  1.600  3.71  0.51  2.30  1.79  0.700  0.90  2.30  1.54  1.28  ...    \n",
       "2180  2.496  1.22  0.58  2.62  1.92  0.640  0.90  2.62  1.54  1.41  ...    \n",
       "2181  4.610  1.34  0.64  1.60  1.60  0.700  0.96  1.60  2.24  2.18  ...    \n",
       "2182  3.710  3.20  0.51  4.42  3.90  0.640  0.90  4.42  2.69  5.18  ...    \n",
       "2183  2.370  2.69  0.58  2.24  4.03  0.832  0.96  2.24  2.82  1.92  ...    \n",
       "\n",
       "       390    391   392   393   394   395   396   397   398   399  \n",
       "2179  1.54  0.700  2.94  1.98  1.41  1.41  1.98  0.51  2.75  0.51  \n",
       "2180  0.77  0.700  1.73  2.56  0.96  1.15  3.39  0.58  2.11  0.64  \n",
       "2181  0.64  0.640  0.70  0.64  0.64  1.22  3.84  0.64  1.60  0.58  \n",
       "2182  1.34  0.700  0.70  1.15  0.58  2.62  3.33  0.51  1.54  0.45  \n",
       "2183  2.56  0.832  0.58  2.11  0.64  2.18  1.86  0.58  0.45  0.32  \n",
       "\n",
       "[5 rows x 400 columns]"
      ]
     },
     "execution_count": 18,
     "metadata": {},
     "output_type": "execute_result"
    }
   ],
   "source": [
    "su_400= Season_list(SU_weekly,400)  # Note 400 records, NOT 100 as must match the 100 transformers w 4 non-EV meters each\n",
    "# This generates a dataframe from the list of lists; This is exactly what we need!!\n",
    "dfSU_400= pd.DataFrame(su_400)\n",
    "dfSU_400.shape  # (96 rows, 2184 columns) OK\n",
    "dfSU_400.T.tail(5)  # no NaN    # TRANSPOSED PURELY FOR VISUALIZATON PURPOSES !!"
   ]
  },
  {
   "cell_type": "code",
   "execution_count": 19,
   "metadata": {
    "scrolled": true
   },
   "outputs": [
    {
     "name": "stdout",
     "output_type": "stream",
     "text": [
      "[ 0  0  0  0  1  1  1  1  2  2  2  2  3  3  3  3  4  4  4  4  5  5  5  5\n",
      "  6  6  6  6  7  7  7  7  8  8  8  8  9  9  9  9 10 10 10 10 11 11 11 11\n",
      " 12 12 12 12 13 13 13 13 14 14 14 14 15 15 15 15 16 16 16 16 17 17 17 17\n",
      " 18 18 18 18 19 19 19 19 20 20 20 20 21 21 21 21 22 22 22 22 23 23 23 23\n",
      " 24 24 24 24 25 25 25 25 26 26 26 26 27 27 27 27 28 28 28 28 29 29 29 29\n",
      " 30 30 30 30 31 31 31 31 32 32 32 32 33 33 33 33 34 34 34 34 35 35 35 35\n",
      " 36 36 36 36 37 37 37 37 38 38 38 38 39 39 39 39 40 40 40 40 41 41 41 41\n",
      " 42 42 42 42 43 43 43 43 44 44 44 44 45 45 45 45 46 46 46 46 47 47 47 47\n",
      " 48 48 48 48 49 49 49 49 50 50 50 50 51 51 51 51 52 52 52 52 53 53 53 53\n",
      " 54 54 54 54 55 55 55 55 56 56 56 56 57 57 57 57 58 58 58 58 59 59 59 59\n",
      " 60 60 60 60 61 61 61 61 62 62 62 62 63 63 63 63 64 64 64 64 65 65 65 65\n",
      " 66 66 66 66 67 67 67 67 68 68 68 68 69 69 69 69 70 70 70 70 71 71 71 71\n",
      " 72 72 72 72 73 73 73 73 74 74 74 74 75 75 75 75 76 76 76 76 77 77 77 77\n",
      " 78 78 78 78 79 79 79 79 80 80 80 80 81 81 81 81 82 82 82 82 83 83 83 83\n",
      " 84 84 84 84 85 85 85 85 86 86 86 86 87 87 87 87 88 88 88 88 89 89 89 89\n",
      " 90 90 90 90 91 91 91 91 92 92 92 92 93 93 93 93 94 94 94 94 95 95 95 95\n",
      " 96 96 96 96 97 97 97 97 98 98 98 98 99 99 99 99]\n"
     ]
    },
    {
     "data": {
      "text/plain": [
       "0       0\n",
       "1       0\n",
       "2       0\n",
       "3       0\n",
       "4       1\n",
       "5       1\n",
       "6       1\n",
       "7       1\n",
       "8       2\n",
       "9       2\n",
       "10      2\n",
       "11      2\n",
       "12      3\n",
       "13      3\n",
       "14      3\n",
       "15      3\n",
       "16      4\n",
       "17      4\n",
       "18      4\n",
       "19      4\n",
       "20      5\n",
       "21      5\n",
       "22      5\n",
       "23      5\n",
       "24      6\n",
       "25      6\n",
       "26      6\n",
       "27      6\n",
       "28      7\n",
       "29      7\n",
       "       ..\n",
       "370    92\n",
       "371    92\n",
       "372    93\n",
       "373    93\n",
       "374    93\n",
       "375    93\n",
       "376    94\n",
       "377    94\n",
       "378    94\n",
       "379    94\n",
       "380    95\n",
       "381    95\n",
       "382    95\n",
       "383    95\n",
       "384    96\n",
       "385    96\n",
       "386    96\n",
       "387    96\n",
       "388    97\n",
       "389    97\n",
       "390    97\n",
       "391    97\n",
       "392    98\n",
       "393    98\n",
       "394    98\n",
       "395    98\n",
       "396    99\n",
       "397    99\n",
       "398    99\n",
       "399    99\n",
       "Length: 400, dtype: category\n",
       "Categories (100, int64): [0, 1, 2, 3, ..., 96, 97, 98, 99]"
      ]
     },
     "execution_count": 19,
     "metadata": {},
     "output_type": "execute_result"
    }
   ],
   "source": [
    "MT_mapping_minus_Tesla(100,15)  # (100,15) # OK!"
   ]
  },
  {
   "cell_type": "code",
   "execution_count": 20,
   "metadata": {
    "collapsed": true
   },
   "outputs": [
    {
     "name": "stdout",
     "output_type": "stream",
     "text": [
      "[ 0  0  0  0  1  1  1  1  2  2  2  2  3  3  3  3  4  4  4  4  5  5  5  5\n",
      "  6  6  6  6  7  7  7  7  8  8  8  8  9  9  9  9 10 10 10 10 11 11 11 11\n",
      " 12 12 12 12 13 13 13 13 14 14 14 14 15 15 15 15 16 16 16 16 17 17 17 17\n",
      " 18 18 18 18 19 19 19 19 20 20 20 20 21 21 21 21 22 22 22 22 23 23 23 23\n",
      " 24 24 24 24 25 25 25 25 26 26 26 26 27 27 27 27 28 28 28 28 29 29 29 29\n",
      " 30 30 30 30 31 31 31 31 32 32 32 32 33 33 33 33 34 34 34 34 35 35 35 35\n",
      " 36 36 36 36 37 37 37 37 38 38 38 38 39 39 39 39 40 40 40 40 41 41 41 41\n",
      " 42 42 42 42 43 43 43 43 44 44 44 44 45 45 45 45 46 46 46 46 47 47 47 47\n",
      " 48 48 48 48 49 49 49 49 50 50 50 50 51 51 51 51 52 52 52 52 53 53 53 53\n",
      " 54 54 54 54 55 55 55 55 56 56 56 56 57 57 57 57 58 58 58 58 59 59 59 59\n",
      " 60 60 60 60 61 61 61 61 62 62 62 62 63 63 63 63 64 64 64 64 65 65 65 65\n",
      " 66 66 66 66 67 67 67 67 68 68 68 68 69 69 69 69 70 70 70 70 71 71 71 71\n",
      " 72 72 72 72 73 73 73 73 74 74 74 74 75 75 75 75 76 76 76 76 77 77 77 77\n",
      " 78 78 78 78 79 79 79 79 80 80 80 80 81 81 81 81 82 82 82 82 83 83 83 83\n",
      " 84 84 84 84 85 85 85 85 86 86 86 86 87 87 87 87 88 88 88 88 89 89 89 89\n",
      " 90 90 90 90 91 91 91 91 92 92 92 92 93 93 93 93 94 94 94 94 95 95 95 95\n",
      " 96 96 96 96 97 97 97 97 98 98 98 98 99 99 99 99]\n"
     ]
    },
    {
     "data": {
      "text/html": [
       "<div>\n",
       "<style scoped>\n",
       "    .dataframe tbody tr th:only-of-type {\n",
       "        vertical-align: middle;\n",
       "    }\n",
       "\n",
       "    .dataframe tbody tr th {\n",
       "        vertical-align: top;\n",
       "    }\n",
       "\n",
       "    .dataframe thead th {\n",
       "        text-align: right;\n",
       "    }\n",
       "</style>\n",
       "<table border=\"1\" class=\"dataframe\">\n",
       "  <thead>\n",
       "    <tr style=\"text-align: right;\">\n",
       "      <th></th>\n",
       "      <th>0</th>\n",
       "      <th>1</th>\n",
       "      <th>2</th>\n",
       "      <th>3</th>\n",
       "      <th>4</th>\n",
       "      <th>5</th>\n",
       "      <th>6</th>\n",
       "      <th>7</th>\n",
       "      <th>8</th>\n",
       "      <th>9</th>\n",
       "      <th>...</th>\n",
       "      <th>390</th>\n",
       "      <th>391</th>\n",
       "      <th>392</th>\n",
       "      <th>393</th>\n",
       "      <th>394</th>\n",
       "      <th>395</th>\n",
       "      <th>396</th>\n",
       "      <th>397</th>\n",
       "      <th>398</th>\n",
       "      <th>399</th>\n",
       "    </tr>\n",
       "  </thead>\n",
       "  <tbody>\n",
       "    <tr>\n",
       "      <th>2182</th>\n",
       "      <td>3.71</td>\n",
       "      <td>3.2</td>\n",
       "      <td>0.51</td>\n",
       "      <td>4.42</td>\n",
       "      <td>3.9</td>\n",
       "      <td>0.64</td>\n",
       "      <td>0.9</td>\n",
       "      <td>4.42</td>\n",
       "      <td>2.69</td>\n",
       "      <td>5.18</td>\n",
       "      <td>...</td>\n",
       "      <td>1.34</td>\n",
       "      <td>0.7</td>\n",
       "      <td>0.7</td>\n",
       "      <td>1.15</td>\n",
       "      <td>0.58</td>\n",
       "      <td>2.62</td>\n",
       "      <td>3.33</td>\n",
       "      <td>0.51</td>\n",
       "      <td>1.54</td>\n",
       "      <td>0.45</td>\n",
       "    </tr>\n",
       "    <tr>\n",
       "      <th>2183</th>\n",
       "      <td>2.37</td>\n",
       "      <td>2.69</td>\n",
       "      <td>0.58</td>\n",
       "      <td>2.24</td>\n",
       "      <td>4.03</td>\n",
       "      <td>0.832</td>\n",
       "      <td>0.96</td>\n",
       "      <td>2.24</td>\n",
       "      <td>2.82</td>\n",
       "      <td>1.92</td>\n",
       "      <td>...</td>\n",
       "      <td>2.56</td>\n",
       "      <td>0.832</td>\n",
       "      <td>0.58</td>\n",
       "      <td>2.11</td>\n",
       "      <td>0.64</td>\n",
       "      <td>2.18</td>\n",
       "      <td>1.86</td>\n",
       "      <td>0.58</td>\n",
       "      <td>0.45</td>\n",
       "      <td>0.32</td>\n",
       "    </tr>\n",
       "    <tr>\n",
       "      <th>transformer_ID</th>\n",
       "      <td>0</td>\n",
       "      <td>0</td>\n",
       "      <td>0</td>\n",
       "      <td>0</td>\n",
       "      <td>1</td>\n",
       "      <td>1</td>\n",
       "      <td>1</td>\n",
       "      <td>1</td>\n",
       "      <td>2</td>\n",
       "      <td>2</td>\n",
       "      <td>...</td>\n",
       "      <td>97</td>\n",
       "      <td>97</td>\n",
       "      <td>98</td>\n",
       "      <td>98</td>\n",
       "      <td>98</td>\n",
       "      <td>98</td>\n",
       "      <td>99</td>\n",
       "      <td>99</td>\n",
       "      <td>99</td>\n",
       "      <td>99</td>\n",
       "    </tr>\n",
       "  </tbody>\n",
       "</table>\n",
       "<p>3 rows × 400 columns</p>\n",
       "</div>"
      ],
      "text/plain": [
       "                 0     1     2     3     4      5     6     7     8     9    \\\n",
       "2182            3.71   3.2  0.51  4.42   3.9   0.64   0.9  4.42  2.69  5.18   \n",
       "2183            2.37  2.69  0.58  2.24  4.03  0.832  0.96  2.24  2.82  1.92   \n",
       "transformer_ID     0     0     0     0     1      1     1     1     2     2   \n",
       "\n",
       "                ...    390    391   392   393   394   395   396   397   398  \\\n",
       "2182            ...   1.34    0.7   0.7  1.15  0.58  2.62  3.33  0.51  1.54   \n",
       "2183            ...   2.56  0.832  0.58  2.11  0.64  2.18  1.86  0.58  0.45   \n",
       "transformer_ID  ...     97     97    98    98    98    98    99    99    99   \n",
       "\n",
       "                 399  \n",
       "2182            0.45  \n",
       "2183            0.32  \n",
       "transformer_ID    99  \n",
       "\n",
       "[3 rows x 400 columns]"
      ]
     },
     "execution_count": 20,
     "metadata": {},
     "output_type": "execute_result"
    }
   ],
   "source": [
    "dfSU_400['transformer_ID']= MT_mapping_minus_Tesla(100,15)  # (100,15) # \n",
    "# dfSU['transformer_ID'][0:20]\n",
    "dfSU_400.T.tail(3) # OK"
   ]
  },
  {
   "cell_type": "code",
   "execution_count": 21,
   "metadata": {},
   "outputs": [
    {
     "data": {
      "text/plain": [
       "<pandas.core.groupby.groupby.DataFrameGroupBy object at 0x11525f160>"
      ]
     },
     "execution_count": 21,
     "metadata": {},
     "output_type": "execute_result"
    }
   ],
   "source": [
    "# Groupby Transformer_ID, should give 100 items\n",
    "transformer_loads_400= dfSU_400.groupby(dfSU_400.transformer_ID) # added ,axis=1   , axis=1\n",
    "transformer_loads_400"
   ]
  },
  {
   "cell_type": "code",
   "execution_count": 22,
   "metadata": {},
   "outputs": [
    {
     "data": {
      "text/plain": [
       "(100, 2184)"
      ]
     },
     "execution_count": 22,
     "metadata": {},
     "output_type": "execute_result"
    }
   ],
   "source": [
    "df400_loads= transformer_loads_400.sum().reset_index(drop= True) # this is a df\n",
    "df400_loads\n",
    "type(df400_loads)\n",
    "df400_loads.shape # (100,2184) OK!\n",
    "# Now have sums for 100 transformers, in a df 100 x 2184: must create a matching df for Tesla"
   ]
  },
  {
   "cell_type": "code",
   "execution_count": 23,
   "metadata": {},
   "outputs": [
    {
     "data": {
      "text/plain": [
       "(100, 2184)"
      ]
     },
     "execution_count": 23,
     "metadata": {},
     "output_type": "execute_result"
    }
   ],
   "source": [
    "Tesla= Season_list(T_weekly,100)\n",
    "len(Tesla)   # 840 only, we need 2184??\n",
    "\n",
    "df_Tesla= pd.DataFrame(Tesla) # Have a df for Tesla of 100 observations:need to calc metrics then append it to a season  \n",
    "df_Tesla.shape "
   ]
  },
  {
   "cell_type": "code",
   "execution_count": 24,
   "metadata": {},
   "outputs": [
    {
     "name": "stdout",
     "output_type": "stream",
     "text": [
      "<class 'pandas.core.frame.DataFrame'> <class 'pandas.core.frame.DataFrame'>\n"
     ]
    }
   ],
   "source": [
    "print(type(df400_loads),type(df_Tesla))"
   ]
  },
  {
   "cell_type": "code",
   "execution_count": 25,
   "metadata": {},
   "outputs": [],
   "source": [
    "# df_add = df1.add(df2, fill_value=0)\n",
    "df_total_loads_15kVA= df400_loads.add(df_Tesla) # adding two dataframes w same shape, element by element\n",
    "# TypeError: unsupported operand type(s) for +: 'float' and 'str'"
   ]
  },
  {
   "cell_type": "code",
   "execution_count": 26,
   "metadata": {},
   "outputs": [
    {
     "data": {
      "text/plain": [
       "0.02009157509157509"
      ]
     },
     "execution_count": 26,
     "metadata": {},
     "output_type": "execute_result"
    },
    {
     "data": {
      "image/png": "[encoded data removed]",
      "text/plain": [
       "<Figure size 432x288 with 1 Axes>"
      ]
     },
     "metadata": {
      "needs_background": "light"
     },
     "output_type": "display_data"
    }
   ],
   "source": [
    "hours_overloaded= df_total_loads_15kVA[ df_total_loads_15kVA > 15].count(axis=1)\n",
    "plt.hist(hours_overloaded, density= True)\n",
    "sum(hours_overloaded)/(2184 * 100)  # during 1.94% of the Summer hours, a transformer is overloaded"
   ]
  },
  {
   "cell_type": "code",
   "execution_count": 27,
   "metadata": {
    "collapsed": true
   },
   "outputs": [
    {
     "data": {
      "text/plain": [
       "0     21.880\n",
       "1     21.940\n",
       "2     20.930\n",
       "3     20.610\n",
       "4     18.040\n",
       "5     20.990\n",
       "6     20.020\n",
       "7     19.330\n",
       "8     21.000\n",
       "9     23.740\n",
       "10    24.510\n",
       "11    21.440\n",
       "12    19.770\n",
       "13    20.990\n",
       "14    21.250\n",
       "15    22.330\n",
       "16    21.360\n",
       "17    20.420\n",
       "18    21.250\n",
       "19    20.018\n",
       "20    18.170\n",
       "21    18.820\n",
       "22    19.966\n",
       "23    22.150\n",
       "24    18.370\n",
       "25    28.720\n",
       "26    20.610\n",
       "27    19.720\n",
       "28    22.470\n",
       "29    20.090\n",
       "       ...  \n",
       "70    22.540\n",
       "71    19.840\n",
       "72    19.900\n",
       "73    20.862\n",
       "74    27.250\n",
       "75    21.510\n",
       "76    19.460\n",
       "77    26.250\n",
       "78    19.710\n",
       "79    23.680\n",
       "80    29.242\n",
       "81    20.674\n",
       "82    18.750\n",
       "83    19.590\n",
       "84    20.740\n",
       "85    20.234\n",
       "86    20.540\n",
       "87    22.460\n",
       "88    21.940\n",
       "89    24.060\n",
       "90    19.710\n",
       "91    20.286\n",
       "92    21.570\n",
       "93    23.110\n",
       "94    25.210\n",
       "95    26.430\n",
       "96    21.110\n",
       "97    20.800\n",
       "98    22.410\n",
       "99    21.370\n",
       "Length: 100, dtype: float64"
      ]
     },
     "execution_count": 27,
     "metadata": {},
     "output_type": "execute_result"
    }
   ],
   "source": [
    "df_total_loads_15kVA[ df_total_loads_15kVA > 15].max(axis=1) #  "
   ]
  },
  {
   "cell_type": "code",
   "execution_count": 28,
   "metadata": {},
   "outputs": [
    {
     "data": {
      "text/plain": [
       "(array([ 6., 18., 25., 28., 17.,  4.,  0.,  1.,  0.,  1.]),\n",
       " array([1.05973333, 1.07891119, 1.09808904, 1.11726689, 1.13644475,\n",
       "        1.1556226 , 1.17480045, 1.19397831, 1.21315616, 1.23233401,\n",
       "        1.25151186]),\n",
       " <a list of 10 Patch objects>)"
      ]
     },
     "execution_count": 28,
     "metadata": {},
     "output_type": "execute_result"
    },
    {
     "data": {
      "image/png": "[encoded data removed]",
      "text/plain": [
       "<Figure size 432x288 with 1 Axes>"
      ]
     },
     "metadata": {
      "needs_background": "light"
     },
     "output_type": "display_data"
    }
   ],
   "source": [
    "mean_overloading_15kVA= df_total_loads_15kVA[ df_total_loads_15kVA > 15].mean(axis=1) # 95% of time < 10% overloading \n",
    "mean_overloading_percent_15kVA= mean_overloading_15kVA/15\n",
    "plt.hist(mean_overloading_percent_15kVA, density= False)"
   ]
  },
  {
   "cell_type": "code",
   "execution_count": 66,
   "metadata": {},
   "outputs": [
    {
     "data": {
      "text/plain": [
       "<matplotlib.lines.Line2D at 0x1333dea20>"
      ]
     },
     "execution_count": 66,
     "metadata": {},
     "output_type": "execute_result"
    },
    {
     "data": {
      "image/png": "[encoded data removed]",
      "text/plain": [
       "<Figure size 432x288 with 1 Axes>"
      ]
     },
     "metadata": {
      "needs_background": "light"
     },
     "output_type": "display_data"
    }
   ],
   "source": [
    "max_overloading_15kVA= df_total_loads_15kVA[ df_total_loads_15kVA > 15].max(axis=1) # 95% of time < 10% overloading \n",
    "max_overloading_percent_15kVA= max_overloading_15kVA/15\n",
    "plt.hist(max_overloading_percent_15kVA, density= False)\n",
    "plt.xlabel('Maximum Degree of Overloading')\n",
    "plt.ylabel('Frequency')\n",
    "plt.axvline(1.3, color='brown', linestyle='dashed', linewidth=2) # 130% implies Brown-Out\n",
    "plt.axvline(1.8, color='r', linestyle='dashed', linewidth=3) # 180% implies 'Catastrophic Failure': Explosion/Fire"
   ]
  },
  {
   "cell_type": "code",
   "execution_count": 64,
   "metadata": {},
   "outputs": [
    {
     "data": {
      "text/plain": [
       "(array([ 9., 20., 25., 22., 10.,  8.,  1.,  2.,  1.,  2.]),\n",
       " array([1.182     , 1.25874667, 1.33549333, 1.41224   , 1.48898667,\n",
       "        1.56573333, 1.64248   , 1.71922667, 1.79597333, 1.87272   ,\n",
       "        1.94946667]),\n",
       " <a list of 10 Patch objects>)"
      ]
     },
     "execution_count": 64,
     "metadata": {},
     "output_type": "execute_result"
    },
    {
     "data": {
      "image/png": "[encoded data removed]",
      "text/plain": [
       "<Figure size 432x288 with 1 Axes>"
      ]
     },
     "metadata": {
      "needs_background": "light"
     },
     "output_type": "display_data"
    }
   ],
   "source": [
    "plt.hist(max_overloading_percent_15kVA, density= False)\n"
   ]
  },
  {
   "cell_type": "code",
   "execution_count": 67,
   "metadata": {},
   "outputs": [
    {
     "data": {
      "text/plain": [
       "<matplotlib.lines.Line2D at 0x1334b8390>"
      ]
     },
     "execution_count": 67,
     "metadata": {},
     "output_type": "execute_result"
    },
    {
     "data": {
      "image/png": "[encoded data removed]",
      "text/plain": [
       "<Figure size 432x288 with 1 Axes>"
      ]
     },
     "metadata": {
      "needs_background": "light"
     },
     "output_type": "display_data"
    }
   ],
   "source": [
    "plt.hist(max_overloading_percent_15kVA, cumulative= True, density= False)\n",
    "plt.xlabel('Maximum Degree of Overloading')\n",
    "plt.ylabel('Cumulative Frequency')\n",
    "plt.axvline(1.3, color='brown', linestyle='dashed', linewidth=2) # 130% implies Brown-Out\n",
    "plt.axvline(1.8, color='r', linestyle='dashed', linewidth=3) # 180% implies 'Catastrophic Failure': Explosion/Fire\n",
    "# plt.title('Cumulative Frequency of 100 Transformers of 15 kVA Capacity being Overloaded during the Summer ')"
   ]
  },
  {
   "cell_type": "code",
   "execution_count": 31,
   "metadata": {},
   "outputs": [],
   "source": [
    "# So c.74 of the 100 transformers would have been overloaded by 130% or more at leat once, triggering a brownout\n",
    "# Two of the 100 transformers were overloaded \"catastrophically\" by more than 180% (fire/explosion risk)"
   ]
  },
  {
   "cell_type": "code",
   "execution_count": 32,
   "metadata": {},
   "outputs": [
    {
     "data": {
      "text/plain": [
       "(array([  9.,  29.,  54.,  76.,  86.,  94.,  95.,  97.,  98., 100.]),\n",
       " array([1.182     , 1.25874667, 1.33549333, 1.41224   , 1.48898667,\n",
       "        1.56573333, 1.64248   , 1.71922667, 1.79597333, 1.87272   ,\n",
       "        1.94946667]),\n",
       " <a list of 10 Patch objects>)"
      ]
     },
     "execution_count": 32,
     "metadata": {},
     "output_type": "execute_result"
    },
    {
     "data": {
      "image/png": "[encoded data removed]",
      "text/plain": [
       "<Figure size 432x288 with 1 Axes>"
      ]
     },
     "metadata": {
      "needs_background": "light"
     },
     "output_type": "display_data"
    }
   ],
   "source": [
    "plt.hist(max_overloading_percent_15kVA, cumulative= True, density= False)\n",
    "# With no labels, the respective percentiles are numerically listed"
   ]
  },
  {
   "cell_type": "code",
   "execution_count": 33,
   "metadata": {},
   "outputs": [],
   "source": [
    "# DWW write function return (a) df of each transformer, and (b) tuple of times overloaded, mean, > 130%, > 180%."
   ]
  },
  {
   "cell_type": "markdown",
   "metadata": {},
   "source": [
    "# Repeat for 25 kVA Transformer Capacity and 700 meters, to give 100 Transformer Sample"
   ]
  },
  {
   "cell_type": "code",
   "execution_count": 34,
   "metadata": {},
   "outputs": [
    {
     "data": {
      "text/html": [
       "<div>\n",
       "<style scoped>\n",
       "    .dataframe tbody tr th:only-of-type {\n",
       "        vertical-align: middle;\n",
       "    }\n",
       "\n",
       "    .dataframe tbody tr th {\n",
       "        vertical-align: top;\n",
       "    }\n",
       "\n",
       "    .dataframe thead th {\n",
       "        text-align: right;\n",
       "    }\n",
       "</style>\n",
       "<table border=\"1\" class=\"dataframe\">\n",
       "  <thead>\n",
       "    <tr style=\"text-align: right;\">\n",
       "      <th></th>\n",
       "      <th>0</th>\n",
       "      <th>1</th>\n",
       "      <th>2</th>\n",
       "      <th>3</th>\n",
       "      <th>4</th>\n",
       "      <th>5</th>\n",
       "      <th>6</th>\n",
       "      <th>7</th>\n",
       "      <th>8</th>\n",
       "      <th>9</th>\n",
       "      <th>...</th>\n",
       "      <th>690</th>\n",
       "      <th>691</th>\n",
       "      <th>692</th>\n",
       "      <th>693</th>\n",
       "      <th>694</th>\n",
       "      <th>695</th>\n",
       "      <th>696</th>\n",
       "      <th>697</th>\n",
       "      <th>698</th>\n",
       "      <th>699</th>\n",
       "    </tr>\n",
       "  </thead>\n",
       "  <tbody>\n",
       "    <tr>\n",
       "      <th>2179</th>\n",
       "      <td>0.70</td>\n",
       "      <td>0.64</td>\n",
       "      <td>0.51</td>\n",
       "      <td>0.38</td>\n",
       "      <td>2.75</td>\n",
       "      <td>3.71</td>\n",
       "      <td>0.96</td>\n",
       "      <td>2.75</td>\n",
       "      <td>0.70</td>\n",
       "      <td>1.09</td>\n",
       "      <td>...</td>\n",
       "      <td>1.41</td>\n",
       "      <td>0.960</td>\n",
       "      <td>0.51</td>\n",
       "      <td>1.41</td>\n",
       "      <td>0.38</td>\n",
       "      <td>1.41</td>\n",
       "      <td>2.94</td>\n",
       "      <td>0.38</td>\n",
       "      <td>3.01</td>\n",
       "      <td>2.30</td>\n",
       "    </tr>\n",
       "    <tr>\n",
       "      <th>2180</th>\n",
       "      <td>0.45</td>\n",
       "      <td>0.77</td>\n",
       "      <td>0.58</td>\n",
       "      <td>0.32</td>\n",
       "      <td>2.11</td>\n",
       "      <td>1.22</td>\n",
       "      <td>0.77</td>\n",
       "      <td>2.11</td>\n",
       "      <td>0.70</td>\n",
       "      <td>0.45</td>\n",
       "      <td>...</td>\n",
       "      <td>1.15</td>\n",
       "      <td>0.960</td>\n",
       "      <td>0.58</td>\n",
       "      <td>1.22</td>\n",
       "      <td>0.32</td>\n",
       "      <td>1.92</td>\n",
       "      <td>1.73</td>\n",
       "      <td>0.38</td>\n",
       "      <td>2.62</td>\n",
       "      <td>1.86</td>\n",
       "    </tr>\n",
       "    <tr>\n",
       "      <th>2181</th>\n",
       "      <td>0.38</td>\n",
       "      <td>4.22</td>\n",
       "      <td>0.64</td>\n",
       "      <td>0.38</td>\n",
       "      <td>1.60</td>\n",
       "      <td>1.34</td>\n",
       "      <td>1.09</td>\n",
       "      <td>1.60</td>\n",
       "      <td>0.58</td>\n",
       "      <td>0.45</td>\n",
       "      <td>...</td>\n",
       "      <td>1.22</td>\n",
       "      <td>0.510</td>\n",
       "      <td>0.64</td>\n",
       "      <td>0.64</td>\n",
       "      <td>0.38</td>\n",
       "      <td>2.43</td>\n",
       "      <td>0.70</td>\n",
       "      <td>0.38</td>\n",
       "      <td>1.54</td>\n",
       "      <td>2.11</td>\n",
       "    </tr>\n",
       "    <tr>\n",
       "      <th>2182</th>\n",
       "      <td>0.45</td>\n",
       "      <td>0.64</td>\n",
       "      <td>0.51</td>\n",
       "      <td>0.38</td>\n",
       "      <td>1.54</td>\n",
       "      <td>3.20</td>\n",
       "      <td>1.09</td>\n",
       "      <td>1.54</td>\n",
       "      <td>0.77</td>\n",
       "      <td>0.38</td>\n",
       "      <td>...</td>\n",
       "      <td>2.62</td>\n",
       "      <td>1.344</td>\n",
       "      <td>0.51</td>\n",
       "      <td>0.64</td>\n",
       "      <td>0.38</td>\n",
       "      <td>1.02</td>\n",
       "      <td>0.70</td>\n",
       "      <td>0.38</td>\n",
       "      <td>1.28</td>\n",
       "      <td>1.79</td>\n",
       "    </tr>\n",
       "    <tr>\n",
       "      <th>2183</th>\n",
       "      <td>0.32</td>\n",
       "      <td>0.45</td>\n",
       "      <td>0.58</td>\n",
       "      <td>0.38</td>\n",
       "      <td>0.45</td>\n",
       "      <td>2.69</td>\n",
       "      <td>2.18</td>\n",
       "      <td>0.45</td>\n",
       "      <td>0.70</td>\n",
       "      <td>0.51</td>\n",
       "      <td>...</td>\n",
       "      <td>2.18</td>\n",
       "      <td>4.540</td>\n",
       "      <td>0.58</td>\n",
       "      <td>0.64</td>\n",
       "      <td>0.38</td>\n",
       "      <td>2.75</td>\n",
       "      <td>0.58</td>\n",
       "      <td>0.38</td>\n",
       "      <td>1.34</td>\n",
       "      <td>1.22</td>\n",
       "    </tr>\n",
       "  </tbody>\n",
       "</table>\n",
       "<p>5 rows × 700 columns</p>\n",
       "</div>"
      ],
      "text/plain": [
       "       0     1     2     3     4     5     6     7     8     9    ...    690  \\\n",
       "2179  0.70  0.64  0.51  0.38  2.75  3.71  0.96  2.75  0.70  1.09  ...   1.41   \n",
       "2180  0.45  0.77  0.58  0.32  2.11  1.22  0.77  2.11  0.70  0.45  ...   1.15   \n",
       "2181  0.38  4.22  0.64  0.38  1.60  1.34  1.09  1.60  0.58  0.45  ...   1.22   \n",
       "2182  0.45  0.64  0.51  0.38  1.54  3.20  1.09  1.54  0.77  0.38  ...   2.62   \n",
       "2183  0.32  0.45  0.58  0.38  0.45  2.69  2.18  0.45  0.70  0.51  ...   2.18   \n",
       "\n",
       "        691   692   693   694   695   696   697   698   699  \n",
       "2179  0.960  0.51  1.41  0.38  1.41  2.94  0.38  3.01  2.30  \n",
       "2180  0.960  0.58  1.22  0.32  1.92  1.73  0.38  2.62  1.86  \n",
       "2181  0.510  0.64  0.64  0.38  2.43  0.70  0.38  1.54  2.11  \n",
       "2182  1.344  0.51  0.64  0.38  1.02  0.70  0.38  1.28  1.79  \n",
       "2183  4.540  0.58  0.64  0.38  2.75  0.58  0.38  1.34  1.22  \n",
       "\n",
       "[5 rows x 700 columns]"
      ]
     },
     "execution_count": 34,
     "metadata": {},
     "output_type": "execute_result"
    }
   ],
   "source": [
    "su_700= Season_list(SU_weekly,700)  # Note 700 records, NOT 100 as must match the 100 transformers w 7 non-EV meters each\n",
    "# This generates a dataframe from the list of lists; This is exactly what we need!!\n",
    "dfSU_700= pd.DataFrame(su_700)\n",
    "dfSU_700.shape  # (96 rows, 2184 columns) OK\n",
    "dfSU_700.T.tail(5)  # no NaN    # TRANSPOSED PURELY FOR VISUALIZATON PURPOSES !!"
   ]
  },
  {
   "cell_type": "code",
   "execution_count": 35,
   "metadata": {},
   "outputs": [],
   "source": [
    "# MT_mapping_minus_Tesla(100,25) # looks OK : 100 transformer, 25 kVA capacity"
   ]
  },
  {
   "cell_type": "code",
   "execution_count": 36,
   "metadata": {
    "collapsed": true
   },
   "outputs": [
    {
     "name": "stdout",
     "output_type": "stream",
     "text": [
      "[ 0  0  0  0  0  0  0  1  1  1  1  1  1  1  2  2  2  2  2  2  2  3  3  3\n",
      "  3  3  3  3  4  4  4  4  4  4  4  5  5  5  5  5  5  5  6  6  6  6  6  6\n",
      "  6  7  7  7  7  7  7  7  8  8  8  8  8  8  8  9  9  9  9  9  9  9 10 10\n",
      " 10 10 10 10 10 11 11 11 11 11 11 11 12 12 12 12 12 12 12 13 13 13 13 13\n",
      " 13 13 14 14 14 14 14 14 14 15 15 15 15 15 15 15 16 16 16 16 16 16 16 17\n",
      " 17 17 17 17 17 17 18 18 18 18 18 18 18 19 19 19 19 19 19 19 20 20 20 20\n",
      " 20 20 20 21 21 21 21 21 21 21 22 22 22 22 22 22 22 23 23 23 23 23 23 23\n",
      " 24 24 24 24 24 24 24 25 25 25 25 25 25 25 26 26 26 26 26 26 26 27 27 27\n",
      " 27 27 27 27 28 28 28 28 28 28 28 29 29 29 29 29 29 29 30 30 30 30 30 30\n",
      " 30 31 31 31 31 31 31 31 32 32 32 32 32 32 32 33 33 33 33 33 33 33 34 34\n",
      " 34 34 34 34 34 35 35 35 35 35 35 35 36 36 36 36 36 36 36 37 37 37 37 37\n",
      " 37 37 38 38 38 38 38 38 38 39 39 39 39 39 39 39 40 40 40 40 40 40 40 41\n",
      " 41 41 41 41 41 41 42 42 42 42 42 42 42 43 43 43 43 43 43 43 44 44 44 44\n",
      " 44 44 44 45 45 45 45 45 45 45 46 46 46 46 46 46 46 47 47 47 47 47 47 47\n",
      " 48 48 48 48 48 48 48 49 49 49 49 49 49 49 50 50 50 50 50 50 50 51 51 51\n",
      " 51 51 51 51 52 52 52 52 52 52 52 53 53 53 53 53 53 53 54 54 54 54 54 54\n",
      " 54 55 55 55 55 55 55 55 56 56 56 56 56 56 56 57 57 57 57 57 57 57 58 58\n",
      " 58 58 58 58 58 59 59 59 59 59 59 59 60 60 60 60 60 60 60 61 61 61 61 61\n",
      " 61 61 62 62 62 62 62 62 62 63 63 63 63 63 63 63 64 64 64 64 64 64 64 65\n",
      " 65 65 65 65 65 65 66 66 66 66 66 66 66 67 67 67 67 67 67 67 68 68 68 68\n",
      " 68 68 68 69 69 69 69 69 69 69 70 70 70 70 70 70 70 71 71 71 71 71 71 71\n",
      " 72 72 72 72 72 72 72 73 73 73 73 73 73 73 74 74 74 74 74 74 74 75 75 75\n",
      " 75 75 75 75 76 76 76 76 76 76 76 77 77 77 77 77 77 77 78 78 78 78 78 78\n",
      " 78 79 79 79 79 79 79 79 80 80 80 80 80 80 80 81 81 81 81 81 81 81 82 82\n",
      " 82 82 82 82 82 83 83 83 83 83 83 83 84 84 84 84 84 84 84 85 85 85 85 85\n",
      " 85 85 86 86 86 86 86 86 86 87 87 87 87 87 87 87 88 88 88 88 88 88 88 89\n",
      " 89 89 89 89 89 89 90 90 90 90 90 90 90 91 91 91 91 91 91 91 92 92 92 92\n",
      " 92 92 92 93 93 93 93 93 93 93 94 94 94 94 94 94 94 95 95 95 95 95 95 95\n",
      " 96 96 96 96 96 96 96 97 97 97 97 97 97 97 98 98 98 98 98 98 98 99 99 99\n",
      " 99 99 99 99]\n"
     ]
    },
    {
     "data": {
      "text/html": [
       "<div>\n",
       "<style scoped>\n",
       "    .dataframe tbody tr th:only-of-type {\n",
       "        vertical-align: middle;\n",
       "    }\n",
       "\n",
       "    .dataframe tbody tr th {\n",
       "        vertical-align: top;\n",
       "    }\n",
       "\n",
       "    .dataframe thead th {\n",
       "        text-align: right;\n",
       "    }\n",
       "</style>\n",
       "<table border=\"1\" class=\"dataframe\">\n",
       "  <thead>\n",
       "    <tr style=\"text-align: right;\">\n",
       "      <th></th>\n",
       "      <th>0</th>\n",
       "      <th>1</th>\n",
       "      <th>2</th>\n",
       "      <th>3</th>\n",
       "      <th>4</th>\n",
       "      <th>5</th>\n",
       "      <th>6</th>\n",
       "      <th>7</th>\n",
       "      <th>8</th>\n",
       "      <th>9</th>\n",
       "      <th>...</th>\n",
       "      <th>690</th>\n",
       "      <th>691</th>\n",
       "      <th>692</th>\n",
       "      <th>693</th>\n",
       "      <th>694</th>\n",
       "      <th>695</th>\n",
       "      <th>696</th>\n",
       "      <th>697</th>\n",
       "      <th>698</th>\n",
       "      <th>699</th>\n",
       "    </tr>\n",
       "  </thead>\n",
       "  <tbody>\n",
       "    <tr>\n",
       "      <th>2182</th>\n",
       "      <td>0.45</td>\n",
       "      <td>0.64</td>\n",
       "      <td>0.51</td>\n",
       "      <td>0.38</td>\n",
       "      <td>1.54</td>\n",
       "      <td>3.2</td>\n",
       "      <td>1.09</td>\n",
       "      <td>1.54</td>\n",
       "      <td>0.77</td>\n",
       "      <td>0.38</td>\n",
       "      <td>...</td>\n",
       "      <td>2.62</td>\n",
       "      <td>1.344</td>\n",
       "      <td>0.51</td>\n",
       "      <td>0.64</td>\n",
       "      <td>0.38</td>\n",
       "      <td>1.02</td>\n",
       "      <td>0.7</td>\n",
       "      <td>0.38</td>\n",
       "      <td>1.28</td>\n",
       "      <td>1.79</td>\n",
       "    </tr>\n",
       "    <tr>\n",
       "      <th>2183</th>\n",
       "      <td>0.32</td>\n",
       "      <td>0.45</td>\n",
       "      <td>0.58</td>\n",
       "      <td>0.38</td>\n",
       "      <td>0.45</td>\n",
       "      <td>2.69</td>\n",
       "      <td>2.18</td>\n",
       "      <td>0.45</td>\n",
       "      <td>0.7</td>\n",
       "      <td>0.51</td>\n",
       "      <td>...</td>\n",
       "      <td>2.18</td>\n",
       "      <td>4.54</td>\n",
       "      <td>0.58</td>\n",
       "      <td>0.64</td>\n",
       "      <td>0.38</td>\n",
       "      <td>2.75</td>\n",
       "      <td>0.58</td>\n",
       "      <td>0.38</td>\n",
       "      <td>1.34</td>\n",
       "      <td>1.22</td>\n",
       "    </tr>\n",
       "    <tr>\n",
       "      <th>transformer_ID</th>\n",
       "      <td>0</td>\n",
       "      <td>0</td>\n",
       "      <td>0</td>\n",
       "      <td>0</td>\n",
       "      <td>0</td>\n",
       "      <td>0</td>\n",
       "      <td>0</td>\n",
       "      <td>1</td>\n",
       "      <td>1</td>\n",
       "      <td>1</td>\n",
       "      <td>...</td>\n",
       "      <td>98</td>\n",
       "      <td>98</td>\n",
       "      <td>98</td>\n",
       "      <td>99</td>\n",
       "      <td>99</td>\n",
       "      <td>99</td>\n",
       "      <td>99</td>\n",
       "      <td>99</td>\n",
       "      <td>99</td>\n",
       "      <td>99</td>\n",
       "    </tr>\n",
       "  </tbody>\n",
       "</table>\n",
       "<p>3 rows × 700 columns</p>\n",
       "</div>"
      ],
      "text/plain": [
       "                 0     1     2     3     4     5     6     7     8     9    \\\n",
       "2182            0.45  0.64  0.51  0.38  1.54   3.2  1.09  1.54  0.77  0.38   \n",
       "2183            0.32  0.45  0.58  0.38  0.45  2.69  2.18  0.45   0.7  0.51   \n",
       "transformer_ID     0     0     0     0     0     0     0     1     1     1   \n",
       "\n",
       "                ...    690    691   692   693   694   695   696   697   698  \\\n",
       "2182            ...   2.62  1.344  0.51  0.64  0.38  1.02   0.7  0.38  1.28   \n",
       "2183            ...   2.18   4.54  0.58  0.64  0.38  2.75  0.58  0.38  1.34   \n",
       "transformer_ID  ...     98     98    98    99    99    99    99    99    99   \n",
       "\n",
       "                 699  \n",
       "2182            1.79  \n",
       "2183            1.22  \n",
       "transformer_ID    99  \n",
       "\n",
       "[3 rows x 700 columns]"
      ]
     },
     "execution_count": 36,
     "metadata": {},
     "output_type": "execute_result"
    }
   ],
   "source": [
    "dfSU_700['transformer_ID']= MT_mapping_minus_Tesla(100,25)  # (100,15) # \n",
    "# dfSU['transformer_ID'][0:20]\n",
    "dfSU_700.T.tail(3) # OK"
   ]
  },
  {
   "cell_type": "code",
   "execution_count": 37,
   "metadata": {},
   "outputs": [
    {
     "data": {
      "text/plain": [
       "(100, 2184)"
      ]
     },
     "execution_count": 37,
     "metadata": {},
     "output_type": "execute_result"
    }
   ],
   "source": [
    "# Groupby Transformer_ID, should give 100 items\n",
    "transformer_loads_700= dfSU_700.groupby(dfSU_700.transformer_ID) # added ,axis=1   , axis=1\n",
    "transformer_loads_700\n",
    "\n",
    "df700_loads= transformer_loads_700.sum().reset_index(drop= True) # this is a df\n",
    "df700_loads\n",
    "type(df700_loads)\n",
    "df700_loads.shape # (100,2184) OK!\n",
    "# Now have sums for 100 transformers in a df 100 x 2184: already have a matching df for Tesla (dfTesla) (100 records)"
   ]
  },
  {
   "cell_type": "code",
   "execution_count": 38,
   "metadata": {},
   "outputs": [],
   "source": [
    "df_total_loads_25kVA= df700_loads.add(df_Tesla) #"
   ]
  },
  {
   "cell_type": "code",
   "execution_count": null,
   "metadata": {},
   "outputs": [],
   "source": []
  },
  {
   "cell_type": "code",
   "execution_count": 39,
   "metadata": {},
   "outputs": [
    {
     "name": "stderr",
     "output_type": "stream",
     "text": [
      "/anaconda3/lib/python3.7/site-packages/numpy/lib/histograms.py:754: RuntimeWarning: invalid value encountered in greater_equal\n",
      "  keep = (tmp_a >= first_edge)\n",
      "/anaconda3/lib/python3.7/site-packages/numpy/lib/histograms.py:755: RuntimeWarning: invalid value encountered in less_equal\n",
      "  keep &= (tmp_a <= last_edge)\n"
     ]
    },
    {
     "data": {
      "text/plain": [
       "(array([19., 15., 14., 15.,  9.,  7.,  1.,  2.,  3.,  3.]),\n",
       " array([1.0004 , 1.03504, 1.06968, 1.10432, 1.13896, 1.1736 , 1.20824,\n",
       "        1.24288, 1.27752, 1.31216, 1.3468 ]),\n",
       " <a list of 10 Patch objects>)"
      ]
     },
     "execution_count": 39,
     "metadata": {},
     "output_type": "execute_result"
    },
    {
     "data": {
      "image/png": "[encoded data removed]",
      "text/plain": [
       "<Figure size 432x288 with 1 Axes>"
      ]
     },
     "metadata": {
      "needs_background": "light"
     },
     "output_type": "display_data"
    }
   ],
   "source": [
    "max_overloading_25kVA= df_total_loads_25kVA[ df_total_loads_25kVA > 25].max(axis=1) # 95% of time < 10% overloading \n",
    "max_overloading_percent_25kVA= max_overloading_25kVA/25\n",
    "plt.hist(max_overloading_percent_25kVA, density= False)"
   ]
  },
  {
   "cell_type": "code",
   "execution_count": 40,
   "metadata": {},
   "outputs": [],
   "source": [
    "# Now only one transformer of 100 will exceed the Brown-out threshold for a 25 kVA (and none 'Catastrophic')"
   ]
  },
  {
   "cell_type": "code",
   "execution_count": 41,
   "metadata": {},
   "outputs": [],
   "source": [
    "# now repeat for 1,000 or even 10,000 transformers (eg LIPA has 4,000 Tesla's !!) SMUD ??\n",
    "# "
   ]
  },
  {
   "cell_type": "code",
   "execution_count": 42,
   "metadata": {},
   "outputs": [
    {
     "name": "stdout",
     "output_type": "stream",
     "text": [
      "[  0   0   0 ... 999 999 999]\n"
     ]
    }
   ],
   "source": [
    "# For 1000 Teslas (and so 1000 transformers also)\n",
    "su_7000= Season_list(SU_weekly,7000)  \n",
    "dfSU_7000= pd.DataFrame(su_7000)\n",
    "dfSU_7000['transformer_ID']= MT_mapping_minus_Tesla(1000,25)"
   ]
  },
  {
   "cell_type": "code",
   "execution_count": 43,
   "metadata": {},
   "outputs": [],
   "source": [
    "transformer_loads_7000= dfSU_7000.groupby(dfSU_7000.transformer_ID)\n",
    "df7000_loads= transformer_loads_7000.sum().reset_index(drop= True) # this is a df"
   ]
  },
  {
   "cell_type": "code",
   "execution_count": 44,
   "metadata": {},
   "outputs": [],
   "source": [
    "Tesla_1000= Season_list(T_weekly,1000)\n",
    "df_Tesla_1000= pd.DataFrame(Tesla_1000)"
   ]
  },
  {
   "cell_type": "code",
   "execution_count": 45,
   "metadata": {},
   "outputs": [],
   "source": [
    "df_25kVA_1000= df7000_loads.add(df_Tesla_1000) "
   ]
  },
  {
   "cell_type": "code",
   "execution_count": 68,
   "metadata": {},
   "outputs": [
    {
     "data": {
      "text/plain": [
       "<matplotlib.lines.Line2D at 0x1335fd400>"
      ]
     },
     "execution_count": 68,
     "metadata": {},
     "output_type": "execute_result"
    },
    {
     "data": {
      "image/png": "[encoded data removed]",
      "text/plain": [
       "<Figure size 432x288 with 1 Axes>"
      ]
     },
     "metadata": {
      "needs_background": "light"
     },
     "output_type": "display_data"
    }
   ],
   "source": [
    "max_overloading_25kVA_1000= df_25kVA_1000[ df_25kVA_1000 > 25].max(axis=1) # 95% of time < 10% overloading \n",
    "max_overloading_percent_25kVA_1000= max_overloading_25kVA_1000/25\n",
    "plt.hist(max_overloading_percent_25kVA_1000, density= False)\n",
    "plt.axvline(1.3, color='brown', linestyle='dashed', linewidth=2) # 130% implies Brown-Out\n",
    "plt.axvline(1.8, color='r', linestyle='dashed', linewidth=3) # 180% implies 'Catastrophic Failure': Explosion/Fire"
   ]
  },
  {
   "cell_type": "code",
   "execution_count": 47,
   "metadata": {},
   "outputs": [
    {
     "data": {
      "text/plain": [
       "(array([156., 203., 184., 145.,  94.,  56.,  27.,  12.,   6.,   6.]),\n",
       " array([1.0004 , 1.04112, 1.08184, 1.12256, 1.16328, 1.204  , 1.24472,\n",
       "        1.28544, 1.32616, 1.36688, 1.4076 ]),\n",
       " <a list of 10 Patch objects>)"
      ]
     },
     "execution_count": 47,
     "metadata": {},
     "output_type": "execute_result"
    },
    {
     "data": {
      "image/png": "[encoded data removed]",
      "text/plain": [
       "<Figure size 432x288 with 1 Axes>"
      ]
     },
     "metadata": {
      "needs_background": "light"
     },
     "output_type": "display_data"
    }
   ],
   "source": [
    "plt.hist(max_overloading_percent_25kVA_1000, density= False) # with no labels, data is displayed!\n",
    "# so below, 36 of 1,000 Transformers would brown out (21 + 6 + 5 + 1 + 3)"
   ]
  },
  {
   "cell_type": "code",
   "execution_count": 48,
   "metadata": {},
   "outputs": [],
   "source": [
    "# next use .apply() to compute number of hours shortened per Summer"
   ]
  },
  {
   "cell_type": "code",
   "execution_count": 49,
   "metadata": {},
   "outputs": [],
   "source": [
    "# later can adjust this to Two Teslas per transformer !! Add two Tesla matrices df_Tesla and reduce meters\n",
    "# EASY !!!"
   ]
  },
  {
   "cell_type": "markdown",
   "metadata": {},
   "source": [
    "# Two-Tesla 25 kVA Case"
   ]
  },
  {
   "cell_type": "code",
   "execution_count": 52,
   "metadata": {
    "collapsed": true
   },
   "outputs": [
    {
     "name": "stdout",
     "output_type": "stream",
     "text": [
      "[ 0  0  0  0  0  0  0  1  1  1  1  1  1  1  2  2  2  2  2  2  2  3  3  3\n",
      "  3  3  3  3  4  4  4  4  4  4  4  5  5  5  5  5  5  5  6  6  6  6  6  6\n",
      "  6  7  7  7  7  7  7  7  8  8  8  8  8  8  8  9  9  9  9  9  9  9 10 10\n",
      " 10 10 10 10 10 11 11 11 11 11 11 11 12 12 12 12 12 12 12 13 13 13 13 13\n",
      " 13 13 14 14 14 14 14 14 14 15 15 15 15 15 15 15 16 16 16 16 16 16 16 17\n",
      " 17 17 17 17 17 17 18 18 18 18 18 18 18 19 19 19 19 19 19 19 20 20 20 20\n",
      " 20 20 20 21 21 21 21 21 21 21 22 22 22 22 22 22 22 23 23 23 23 23 23 23\n",
      " 24 24 24 24 24 24 24 25 25 25 25 25 25 25 26 26 26 26 26 26 26 27 27 27\n",
      " 27 27 27 27 28 28 28 28 28 28 28 29 29 29 29 29 29 29 30 30 30 30 30 30\n",
      " 30 31 31 31 31 31 31 31 32 32 32 32 32 32 32 33 33 33 33 33 33 33 34 34\n",
      " 34 34 34 34 34 35 35 35 35 35 35 35 36 36 36 36 36 36 36 37 37 37 37 37\n",
      " 37 37 38 38 38 38 38 38 38 39 39 39 39 39 39 39 40 40 40 40 40 40 40 41\n",
      " 41 41 41 41 41 41 42 42 42 42 42 42 42 43 43 43 43 43 43 43 44 44 44 44\n",
      " 44 44 44 45 45 45 45 45 45 45 46 46 46 46 46 46 46 47 47 47 47 47 47 47\n",
      " 48 48 48 48 48 48 48 49 49 49 49 49 49 49 50 50 50 50 50 50 50 51 51 51\n",
      " 51 51 51 51 52 52 52 52 52 52 52 53 53 53 53 53 53 53 54 54 54 54 54 54\n",
      " 54 55 55 55 55 55 55 55 56 56 56 56 56 56 56 57 57 57 57 57 57 57 58 58\n",
      " 58 58 58 58 58 59 59 59 59 59 59 59 60 60 60 60 60 60 60 61 61 61 61 61\n",
      " 61 61 62 62 62 62 62 62 62 63 63 63 63 63 63 63 64 64 64 64 64 64 64 65\n",
      " 65 65 65 65 65 65 66 66 66 66 66 66 66 67 67 67 67 67 67 67 68 68 68 68\n",
      " 68 68 68 69 69 69 69 69 69 69 70 70 70 70 70 70 70 71 71 71 71 71 71 71\n",
      " 72 72 72 72 72 72 72 73 73 73 73 73 73 73 74 74 74 74 74 74 74 75 75 75\n",
      " 75 75 75 75 76 76 76 76 76 76 76 77 77 77 77 77 77 77 78 78 78 78 78 78\n",
      " 78 79 79 79 79 79 79 79 80 80 80 80 80 80 80 81 81 81 81 81 81 81 82 82\n",
      " 82 82 82 82 82 83 83 83 83 83 83 83 84 84 84 84 84 84 84 85 85 85 85 85\n",
      " 85 85 86 86 86 86 86 86 86 87 87 87 87 87 87 87 88 88 88 88 88 88 88 89\n",
      " 89 89 89 89 89 89 90 90 90 90 90 90 90 91 91 91 91 91 91 91 92 92 92 92\n",
      " 92 92 92 93 93 93 93 93 93 93 94 94 94 94 94 94 94 95 95 95 95 95 95 95\n",
      " 96 96 96 96 96 96 96 97 97 97 97 97 97 97 98 98 98 98 98 98 98 99 99 99\n",
      " 99 99 99 99]\n"
     ]
    }
   ],
   "source": [
    "su_600= Season_list(SU_weekly,600)\n",
    "dfSU_600= pd.DataFrame(su_600)\n",
    "dfSU_600['transformer_ID']= MT_mapping_minus_Tesla(100,25) "
   ]
  },
  {
   "cell_type": "code",
   "execution_count": 55,
   "metadata": {},
   "outputs": [],
   "source": [
    "transformer_loads_600= dfSU_600.groupby(dfSU_600.transformer_ID) # added ,axis=1   , axis=1\n",
    "df600_loads= transformer_loads_600.sum().reset_index(drop= True) "
   ]
  },
  {
   "cell_type": "code",
   "execution_count": 56,
   "metadata": {},
   "outputs": [
    {
     "data": {
      "text/plain": [
       "(100, 2184)"
      ]
     },
     "execution_count": 56,
     "metadata": {},
     "output_type": "execute_result"
    }
   ],
   "source": [
    "Tesla_1= Season_list(T_weekly,100)\n",
    "Tesla_2= Season_list(T_weekly,100)\n",
    "df1_Tesla= pd.DataFrame(Tesla_1) \n",
    "df2_Tesla= pd.DataFrame(Tesla_2)\n",
    "df_Two_Tesla= df1_Tesla.add(df2_Tesla)\n",
    "df_Two_Tesla.shape"
   ]
  },
  {
   "cell_type": "code",
   "execution_count": 80,
   "metadata": {},
   "outputs": [],
   "source": [
    "df_loads_2Tesla_25kVA= df600_loads.add(df_Two_Tesla) \n"
   ]
  },
  {
   "cell_type": "code",
   "execution_count": 81,
   "metadata": {},
   "outputs": [
    {
     "data": {
      "text/plain": [
       "<matplotlib.lines.Line2D at 0x13605ccc0>"
      ]
     },
     "execution_count": 81,
     "metadata": {},
     "output_type": "execute_result"
    },
    {
     "data": {
      "image/png": "[encoded data removed]",
      "text/plain": [
       "<Figure size 432x288 with 1 Axes>"
      ]
     },
     "metadata": {
      "needs_background": "light"
     },
     "output_type": "display_data"
    }
   ],
   "source": [
    "df_loads_2Tesla_25kVA= df_loads_2Tesla_25kVA[ df_loads_2Tesla_25kVA > 25].max(axis=1)\n",
    "\n",
    "# 95% of time < 10% overloading \n",
    "max_overloading_percent_2Tesla= df_loads_2Tesla_25kVA/25   #ERROR HERE !?\n",
    "plt.hist(max_overloading_percent_2Tesla, density= False)\n",
    "plt.axvline(1.3, color='brown', linestyle='dashed', linewidth=2) # 130% implies Brown-Out\n",
    "plt.axvline(1.8, color='r', linestyle='dashed', linewidth=3) # 180% implies 'Catastrophic Failure': Explosion/Fire"
   ]
  },
  {
   "cell_type": "code",
   "execution_count": 59,
   "metadata": {},
   "outputs": [
    {
     "data": {
      "text/plain": [
       "(array([ 2.,  6.,  3.,  7., 18., 16., 11., 10.,  8.,  5.]),\n",
       " array([1.15448 , 1.194152, 1.233824, 1.273496, 1.313168, 1.35284 ,\n",
       "        1.392512, 1.432184, 1.471856, 1.511528, 1.5512  ]),\n",
       " <a list of 10 Patch objects>)"
      ]
     },
     "execution_count": 59,
     "metadata": {},
     "output_type": "execute_result"
    },
    {
     "data": {
      "image/png": "[encoded data removed]",
      "text/plain": [
       "<Figure size 432x288 with 1 Axes>"
      ]
     },
     "metadata": {
      "needs_background": "light"
     },
     "output_type": "display_data"
    }
   ],
   "source": [
    "plt.hist(max_overloading_percent_2Tesla, density= False)\n",
    "# for 25 kVA transformer, 8 meters, 2 of which are Tesla\n",
    "# 11 (= 2+6+3)of the 100 transformers did not exceed 130% overloading during the Summer\n",
    "# 89 of the 100 transformers did exceed 130% overloading during the Summer"
   ]
  },
  {
   "cell_type": "code",
   "execution_count": null,
   "metadata": {},
   "outputs": [],
   "source": []
  },
  {
   "cell_type": "code",
   "execution_count": null,
   "metadata": {},
   "outputs": [],
   "source": []
  },
  {
   "cell_type": "code",
   "execution_count": null,
   "metadata": {},
   "outputs": [],
   "source": []
  },
  {
   "cell_type": "markdown",
   "metadata": {},
   "source": [
    "# Updated Hevrin Tesla data (c.May15-August 15)"
   ]
  },
  {
   "cell_type": "code",
   "execution_count": null,
   "metadata": {},
   "outputs": [],
   "source": []
  },
  {
   "cell_type": "code",
   "execution_count": null,
   "metadata": {},
   "outputs": [],
   "source": []
  },
  {
   "cell_type": "code",
   "execution_count": null,
   "metadata": {},
   "outputs": [],
   "source": [
    "df_May= pd.read_excel('Hevrin_pdf_May.xlsx',sheet_name='Sheet1',  dtype= {0: 'str'}, header= None,skiprows= 2, usecols= None) \n",
    "print(df_May.shape)     # date now read as string via dict \n",
    "df_May.head()"
   ]
  },
  {
   "cell_type": "code",
   "execution_count": null,
   "metadata": {},
   "outputs": [],
   "source": [
    "df_May.columns= ['day','00','01','02','03','04','05','06','07','08','09','10','11','12','13','14','15','16','17','18','19','20','21','22','23']\n",
    "df_May.head(3)"
   ]
  },
  {
   "cell_type": "code",
   "execution_count": null,
   "metadata": {},
   "outputs": [],
   "source": [
    "df_May.info() # Now pd.read_excel imported day as string"
   ]
  },
  {
   "cell_type": "code",
   "execution_count": null,
   "metadata": {},
   "outputs": [],
   "source": [
    "df_May= df_May.set_index(df_May['day'])\n",
    "df_May.tail(3)"
   ]
  },
  {
   "cell_type": "code",
   "execution_count": null,
   "metadata": {},
   "outputs": [],
   "source": [
    "df_May= df_May.drop(['day'], axis=1) "
   ]
  },
  {
   "cell_type": "code",
   "execution_count": null,
   "metadata": {},
   "outputs": [],
   "source": [
    "dft2= df_May.stack()\n",
    "dft2=dft2.reset_index()\n",
    "dft2.columns= ['day','hour','kwh'] # where 'day' is string, not DT\n",
    "dft2.tail()"
   ]
  },
  {
   "cell_type": "code",
   "execution_count": null,
   "metadata": {},
   "outputs": [],
   "source": [
    "dft2.info()  # Day is datetime !!"
   ]
  },
  {
   "cell_type": "code",
   "execution_count": null,
   "metadata": {},
   "outputs": [],
   "source": [
    "df_May.index\n",
    "df_May.index.values"
   ]
  },
  {
   "cell_type": "code",
   "execution_count": null,
   "metadata": {},
   "outputs": [],
   "source": [
    "df_May['day']= df_May.to_string()\n",
    "type(df_May)\n",
    "df_May.info()"
   ]
  },
  {
   "cell_type": "code",
   "execution_count": null,
   "metadata": {},
   "outputs": [],
   "source": [
    "df_May= df_May.set_index(df_May['day'])   # Sequence order of Code may be jumbled here!!\n",
    "df_May.tail(3)"
   ]
  },
  {
   "cell_type": "code",
   "execution_count": null,
   "metadata": {},
   "outputs": [],
   "source": [
    "# df_May.reset_index(inplace= True) # DWW change to range index??\n",
    "df_May.reset_index(inplace= True)\n",
    "df_May.index = list(range(len(df_May)))\n",
    "df_May.info()\n",
    "# now we have the desired range index and 'day' is a column and a string/object, NOT DateTime"
   ]
  },
  {
   "cell_type": "code",
   "execution_count": null,
   "metadata": {},
   "outputs": [],
   "source": [
    "# prior code copied again here\n",
    "dft['date']= pd.to_datetime(dft['day'] + ' ' + dft['hour'] + ':00:00')\n",
    "from datetime import datetime\n",
    "dft['weekday']= dft.date.dt.weekday_name\n",
    "dft['month']= dft.date.dt.month\n",
    "dft['year']= dft.date.dt.year\n",
    "dft.set_index(dft['date'], inplace= True)\n",
    "dft= dft.drop(['day','date'], axis=1)\n",
    "dft['hour']= dft['hour'].astype('category')\n",
    "dft['weekday']= dft['weekday'].astype('category')\n",
    "dft['month']= dft['month'].astype('category')\n",
    "dft['year']= dft['year'].astype('category')\n",
    "dft.info()\n",
    "dft.head()"
   ]
  },
  {
   "cell_type": "code",
   "execution_count": null,
   "metadata": {},
   "outputs": [],
   "source": [
    "P14[2170:2184]  #17 16 15 14 OK\n",
    "len(P14) # 17,16,: 2184  but P15 is 2172 only!! P 14 is 2170 Fundamentalproblem is different lengths!!"
   ]
  },
  {
   "cell_type": "code",
   "execution_count": null,
   "metadata": {},
   "outputs": [],
   "source": [
    "import numpy as np\n",
    "import pandas as pd\n",
    "def MT_mapping_minus_Tesla(transformer_capacity):\n",
    "    ### returns a pandas series that can be used to index the meter df for a subsequent .groupby(transformer).sum() \n",
    "    n_transformers = 20\n",
    "    meters_per_transformer= transformer_capacity//3.0 - 1 #25/3 -> 8-1= 7 # flat division rounds down to nearest integer\n",
    "    n_meters= n_transformers * meters_per_transformer\n",
    "    x= list(range(n_transformers)) \n",
    "    y= np.repeat(x,meters_per_transformer)\n",
    "    print(y)\n",
    "    z= pd.Series(y)\n",
    "    z= z.astype('category') # the integers converted to category (NOT z.to_string())  to facilitate the groupby\n",
    "    # print(z)          # Looks good! Just diplayed vertically with the index as a Series\n",
    "    return z"
   ]
  },
  {
   "cell_type": "code",
   "execution_count": null,
   "metadata": {},
   "outputs": [],
   "source": []
  },
  {
   "cell_type": "code",
   "execution_count": null,
   "metadata": {},
   "outputs": [],
   "source": [
    "# add 2 columns for transformer letter and capacity 15,\n",
    "\n",
    "def hours_overloaded(df):\n",
    "    \"\"\"returns the number of hours a year a transformer was overloaded if sized off 3.1 kwh/residence\"\"\"\n",
    "    df_B = [df > 3.1]  # creating a Boolean for when 3.1 kwh threshold is exceeded: df[df > 3.1] records actual values\n",
    "    instances= df_B.sum(axis = 1, skipna = True) \n",
    "    return plt.hist(instances)\n",
    "# then apply an exponential age acceleration function to the actual values normalised by 3.1"
   ]
  },
  {
   "cell_type": "code",
   "execution_count": null,
   "metadata": {},
   "outputs": [],
   "source": [
    "# Establishing a Historical Baseline for New May to August Tesla data \n",
    "len(dft['kwh'].loc['2018-5-16':'2018-8-14']) # 13 weeks exactly, so x 168 hours\n",
    "P17= dft.kwh['2017-5-16':'2017-8-13'].reset_index(drop= True) # otherwise old index made a column!!!\n",
    "P16= dft.kwh['2016-5-16':'2016-8-13'].reset_index(drop= True)\n",
    "P17 + P16 # This is now OK!! no NaN\n",
    "# P18 + P17 Last 16 values are NaN whether 8-13 or 8-15 is chosen (was excerpted to PHEV period??)\n",
    "P18= dft.kwh['2018-5-16':'2018-8-14']\n",
    "P18= P18.reset_index()\n",
    "P18= dft['kwh'].loc['2018-5-16':'2018-8-14'].reset_index()\n",
    "P17= dft['kwh'].loc['2017-5-16':'2017-8-14'].reset_index()\n",
    "type(P18)\n",
    "# two_periods= P18 + P17\n",
    "# len(two_periods) # ?? TypeError: ufunc add cannot use operands with types dtype('<M8[ns]') and dtype('<M8[ns]')"
   ]
  },
  {
   "cell_type": "code",
   "execution_count": null,
   "metadata": {},
   "outputs": [],
   "source": [
    "# dft['kwh'].loc['2018-5-16':'2018-8-14'][-5:] OK to drop minutes specification\n",
    "# if we add Pandas Series, with datetime index will be concatenated, so must reset index first!!\n",
    "\n",
    "P17= dft['kwh'].loc['2017-5-16':'2017-8-14'].reset_index(drop= True)\n",
    "P16= dft['kwh'].loc['2016-5-16':'2016-8-14'].reset_index(drop= True)\n",
    "P15= dft['kwh'].loc['2015-5-16':'2015-8-14'].reset_index(drop= True) \n",
    "P15= P15.fillna(method= 'bfill')  # DOES NOT HELP AS THE PROBLEM IS A 12 HOUR SHORTER LIST \n",
    "# COULD JUST ADD/APPEND 12 & 14 HOURS TO MAKE ALL LENGTHS EQUAL !!\n",
    "P14= dft['kwh'].loc['2014-5-16':'2014-8-14'].reset_index(drop= True)\n",
    "P14= P14.fillna(method= 'bfill')\n",
    "\n",
    "four_years= P17 + P16 + P15 + P14\n",
    "charge_baseline= four_years/4\n",
    "charge_baseline= charge_baseline.fillna(method= 'bfill')\n",
    "\n",
    "len(charge_baseline) # now 2184 OK\n",
    "charge_baseline[2165:2184] # whoops last 14 values are again NaN !!!  Due to a Leap Year ??"
   ]
  },
  {
   "cell_type": "code",
   "execution_count": null,
   "metadata": {},
   "outputs": [],
   "source": [
    "# DWW: Want to infer charging spikes: take hourly data then subtract baseline for same interval \n",
    "# OLS regression with temporal variables only : \n",
    "# Select Time Range (Method 2)  Use this method if your data frame is indexed by time.\n",
    "\n",
    "# Set index  df = df.set_index(df['date'])\n",
    "\n",
    "# Select observations between two datetimes\n",
    "# df.loc['2019-5-16 00:00:00':'2019-8-14 23:00:00']"
   ]
  },
  {
   "cell_type": "code",
   "execution_count": null,
   "metadata": {},
   "outputs": [],
   "source": []
  },
  {
   "cell_type": "code",
   "execution_count": null,
   "metadata": {},
   "outputs": [],
   "source": []
  },
  {
   "cell_type": "code",
   "execution_count": null,
   "metadata": {},
   "outputs": [],
   "source": []
  },
  {
   "cell_type": "code",
   "execution_count": null,
   "metadata": {},
   "outputs": [],
   "source": [
    "type(dfSU)  # pandas.core.frame.DataFrame\n",
    "dfSU.shape\n",
    "dfSU > 3.1 # all displayed are false\n",
    "dfSU[dfSU > 3.1].fillna(0)\n",
    "\n",
    "df_B                                       # displays as strings True False\n",
    "# type(df_B) # Hmmm...type is list, not df\n",
    "sum(df_B)                                  # displays as 1/0 True False\n",
    "df_B= pd.DataFrame(df_B)\n",
    "df_B.shape   # (1, 1) !!\n",
    "# instances= df_B.sum(axis = 1, skipna = True) \n",
    "df_B\n",
    "\n",
    "df_B = [dfSU > 3.1]  # creating a Boolean for when 3.1 kwh threshold is exceeded: df[df > 3.1] records actual values\n",
    "instances= df_B.sum(axis = 1, skipna = True) \n",
    "\n",
    "import matplotlib.pyplot as plt\n",
    "df_overload_factors= dfSU[dfSU > 3.1]/3.1\n",
    "df_overload_factors.round(2)\n",
    "# DWW: But need to add in groups to dimension the diversity benefit!!\n",
    "overloads= df_overload_factors.mean(skipna= True, axis= 1)  # returns the 100 cases, mostly around 1.3 oddly!!\n",
    "len(overloads) # 100\n",
    "plt.hist(overloads)\n",
    "\n"
   ]
  },
  {
   "cell_type": "code",
   "execution_count": null,
   "metadata": {},
   "outputs": [],
   "source": [
    "df_May['date']= pd.to_datetime(df_May['day'] + ' ' + df_May['hour'] + ':00:00') #KeyError: 'day'\n",
    "\n",
    "df_May.head()\n",
    "\n",
    "from datetime import datetime                           # oddly code ran OK before!\n",
    "# df_May['weekday']= df_May['Date'].dt.weekday_name      # DWW V Bad choice of variable name as 'keyword'???\n",
    "# df_May['weekday']= df_May.Date.dt.weekday_name        # AttributeError: 'DataFrame' object has no attribute 'date'\n",
    "df_May['weekday']= df_May['date'].dt.weekday_name    # KeyError: 'date'\n",
    "\n",
    "\n",
    "df_May['month']= df_May.date.dt.month\n",
    "df_May['year']= df_May.date.dt.year\n",
    "df_May.set_index(df_May['date'], inplace= True)\n",
    "df_May= df_May.drop(['day','date'], axis=1)\n",
    "df_May['hour']= dft['hour'].astype('category')\n",
    "df_May['weekday']= dft['weekday'].astype('category')\n",
    "df_May['month']= dft['month'].astype('category')\n",
    "df_May['year']= dft['year'].astype('category')\n",
    "df_May.info()\n",
    "df_May.head(3)\n",
    "\n",
    "# df_May['day']= df_May.day.to_string()\n",
    "# df_May.info() # day is now an 'object'/string, as desired\n",
    "df_May['day'] = df_May['day']  + ' ' + df_May['hour'] + ':00:00'\n",
    "\n",
    "df_May= df_May.drop(['day'], axis=1) # DONT DROP HERE AS NEED DAY COLUMN TO CREATE STRING TO MAKE DATETIME INDEX!\n",
    "\n",
    "dft2= df_May.stack()\n",
    "dft2=dft2.reset_index()\n",
    "dft2.columns= ['day','hour','kwh'] # where 'day' is string, not DT\n",
    "dft2.tail()\n",
    "\n",
    "\n",
    "\n",
    "dft2['day'] + ' ' + dft2['hour'] + ':00:00' # data type \" \" not understood....Hmmm NOT  A PROBLEM ABOVE in cell 9!!\n",
    "\n",
    "# dft2['day'].dt.strftime('%Y-%m-%d') + ' ' + dft2['hour'] + ':00:00'\n",
    "\n",
    "dft2['date']= pd.to_datetime(dft2['day'].dt.strftime + ' ' + dft2['hour'] + ':00:00') # No longer runs!???\n",
    "\n",
    "len(dft2.kwh)\n",
    "\n",
    "\n",
    "from datetime import datetime\n",
    "dft2['weekday']= dft2.date.dt.weekday_name\n",
    "dft2['month']= dft2.date.dt.month\n",
    "dft2['year']= dft2.date.dt.year\n",
    "dft2.set_index(dft2['date'], inplace= True)\n",
    "dft2= dft2.drop(['day','date'], axis=1)\n",
    "dft2['hour']= dft2['hour'].astype('category')\n",
    "dft2['weekday']= dft2['weekday'].astype('category')\n",
    "dft2['month']= dft2['month'].astype('category')\n",
    "dft2['year']= dft2['year'].astype('category')\n",
    "dft2.info()\n",
    "dft2.head()"
   ]
  },
  {
   "cell_type": "code",
   "execution_count": null,
   "metadata": {},
   "outputs": [],
   "source": [
    "dfF.head()\n",
    "\n",
    "f[0][2174:]  # Lists are not of equal length\n",
    "\n",
    "sum(f[0])\n",
    "\n",
    "import numpy as np\n",
    "# np.nan in F_15 False\n",
    "# np.nan in F_16   F\n",
    "# np.nan in F_17  F\n",
    "# np.nan in F_14  F\n",
    "# np.nan in F_13    F\n",
    "np.nan in F_12   # False!! \n",
    "\n",
    "from collections import Counter\n",
    "F_17.count('Nan')\n",
    "[item.count(Nan) for item in [F_17,F_16,F_15,F_14,F_13,F_12]] # list of zeros [0, 0, 0, 0, 0, 0]\n",
    "F_weekly.count('Nan') # 0\n",
    "\n",
    "# NEXT MERGE ALL Four SEASONS AND THEN ADD A datetime index so can carve out the night hours\n",
    "# check added columns w .shape ! \n",
    "df_annual= pd.concat([dfW,dfSP,dfSU],axis=1,ignore_index= True) # excludes dfF for now due to Nan problems!\n",
    "df_annual.shape  # (100, 6552) as expected\n",
    "\n",
    "df_annual.T.tail(5)  # Hmmm why so many Nan ?!"
   ]
  },
  {
   "cell_type": "code",
   "execution_count": null,
   "metadata": {},
   "outputs": [],
   "source": []
  }
 ],
 "metadata": {
  "kernelspec": {
   "display_name": "Python 3",
   "language": "python",
   "name": "python3"
  },
  "language_info": {
   "codemirror_mode": {
    "name": "ipython",
    "version": 3
   },
   "file_extension": ".py",
   "mimetype": "text/x-python",
   "name": "python",
   "nbconvert_exporter": "python",
   "pygments_lexer": "ipython3",
   "version": "3.7.1"
  }
 },
 "nbformat": 4,
 "nbformat_minor": 2
}
