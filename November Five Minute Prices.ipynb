{
 "cells": [
  {
   "cell_type": "code",
   "execution_count": 1,
   "metadata": {},
   "outputs": [
    {
     "name": "stdout",
     "output_type": "stream",
     "text": [
      "C:\\Users\\DWWillson\\Desktop\\CAISO Monthly Prices\n"
     ]
    }
   ],
   "source": [
    "import os\n",
    "print(os.getcwd())"
   ]
  },
  {
   "cell_type": "code",
   "execution_count": 2,
   "metadata": {},
   "outputs": [],
   "source": [
    "import pandas as pd\n",
    "df= pd.read_csv('November_2018.csv')"
   ]
  },
  {
   "cell_type": "code",
   "execution_count": 3,
   "metadata": {},
   "outputs": [
    {
     "name": "stdout",
     "output_type": "stream",
     "text": [
      "<class 'pandas.core.frame.DataFrame'>\n",
      "RangeIndex: 43250 entries, 0 to 43249\n",
      "Data columns (total 16 columns):\n",
      "INTERVALSTARTTIME_GMT    43250 non-null object\n",
      "INTERVALENDTIME_GMT      43250 non-null object\n",
      "OPR_DT                   43250 non-null object\n",
      "OPR_HR                   43250 non-null int64\n",
      "NODE_ID_XML              43250 non-null object\n",
      "NODE_ID                  43250 non-null object\n",
      "NODE                     43250 non-null object\n",
      "MARKET_RUN_ID            43250 non-null object\n",
      "LMP_TYPE                 43250 non-null object\n",
      "XML_DATA_ITEM            43250 non-null object\n",
      "PNODE_RESMRID            43250 non-null object\n",
      "GRP_TYPE                 43250 non-null object\n",
      "POS                      43250 non-null int64\n",
      "VALUE                    43250 non-null float64\n",
      "OPR_INTERVAL             43250 non-null int64\n",
      "GROUP                    43250 non-null int64\n",
      "dtypes: float64(1), int64(4), object(11)\n",
      "memory usage: 5.3+ MB\n"
     ]
    }
   ],
   "source": [
    "df.info()"
   ]
  },
  {
   "cell_type": "code",
   "execution_count": 4,
   "metadata": {},
   "outputs": [
    {
     "data": {
      "text/html": [
       "<div>\n",
       "<style scoped>\n",
       "    .dataframe tbody tr th:only-of-type {\n",
       "        vertical-align: middle;\n",
       "    }\n",
       "\n",
       "    .dataframe tbody tr th {\n",
       "        vertical-align: top;\n",
       "    }\n",
       "\n",
       "    .dataframe thead th {\n",
       "        text-align: right;\n",
       "    }\n",
       "</style>\n",
       "<table border=\"1\" class=\"dataframe\">\n",
       "  <thead>\n",
       "    <tr style=\"text-align: right;\">\n",
       "      <th></th>\n",
       "      <th>INTERVALSTARTTIME_GMT</th>\n",
       "      <th>INTERVALENDTIME_GMT</th>\n",
       "      <th>OPR_DT</th>\n",
       "      <th>OPR_HR</th>\n",
       "      <th>NODE_ID_XML</th>\n",
       "      <th>NODE_ID</th>\n",
       "      <th>NODE</th>\n",
       "      <th>MARKET_RUN_ID</th>\n",
       "      <th>LMP_TYPE</th>\n",
       "      <th>XML_DATA_ITEM</th>\n",
       "      <th>PNODE_RESMRID</th>\n",
       "      <th>GRP_TYPE</th>\n",
       "      <th>POS</th>\n",
       "      <th>VALUE</th>\n",
       "      <th>OPR_INTERVAL</th>\n",
       "      <th>GROUP</th>\n",
       "    </tr>\n",
       "  </thead>\n",
       "  <tbody>\n",
       "    <tr>\n",
       "      <th>0</th>\n",
       "      <td>2018-11-01T07:00:00-00:00</td>\n",
       "      <td>2018-11-01T07:05:00-00:00</td>\n",
       "      <td>11/1/2018</td>\n",
       "      <td>1</td>\n",
       "      <td>TH_NP15_GEN-APND</td>\n",
       "      <td>TH_NP15_GEN-APND</td>\n",
       "      <td>TH_NP15_GEN-APND</td>\n",
       "      <td>RTM</td>\n",
       "      <td>MCC</td>\n",
       "      <td>LMP_CONG_PRC</td>\n",
       "      <td>TH_NP15_GEN-APND</td>\n",
       "      <td>ALL_APNODES</td>\n",
       "      <td>0</td>\n",
       "      <td>0.0</td>\n",
       "      <td>1</td>\n",
       "      <td>1</td>\n",
       "    </tr>\n",
       "    <tr>\n",
       "      <th>1</th>\n",
       "      <td>2018-11-01T07:05:00-00:00</td>\n",
       "      <td>2018-11-01T07:10:00-00:00</td>\n",
       "      <td>11/1/2018</td>\n",
       "      <td>1</td>\n",
       "      <td>TH_NP15_GEN-APND</td>\n",
       "      <td>TH_NP15_GEN-APND</td>\n",
       "      <td>TH_NP15_GEN-APND</td>\n",
       "      <td>RTM</td>\n",
       "      <td>MCC</td>\n",
       "      <td>LMP_CONG_PRC</td>\n",
       "      <td>TH_NP15_GEN-APND</td>\n",
       "      <td>ALL_APNODES</td>\n",
       "      <td>0</td>\n",
       "      <td>0.0</td>\n",
       "      <td>2</td>\n",
       "      <td>1</td>\n",
       "    </tr>\n",
       "    <tr>\n",
       "      <th>2</th>\n",
       "      <td>2018-11-01T07:10:00-00:00</td>\n",
       "      <td>2018-11-01T07:15:00-00:00</td>\n",
       "      <td>11/1/2018</td>\n",
       "      <td>1</td>\n",
       "      <td>TH_NP15_GEN-APND</td>\n",
       "      <td>TH_NP15_GEN-APND</td>\n",
       "      <td>TH_NP15_GEN-APND</td>\n",
       "      <td>RTM</td>\n",
       "      <td>MCC</td>\n",
       "      <td>LMP_CONG_PRC</td>\n",
       "      <td>TH_NP15_GEN-APND</td>\n",
       "      <td>ALL_APNODES</td>\n",
       "      <td>0</td>\n",
       "      <td>0.0</td>\n",
       "      <td>3</td>\n",
       "      <td>1</td>\n",
       "    </tr>\n",
       "    <tr>\n",
       "      <th>3</th>\n",
       "      <td>2018-11-01T07:15:00-00:00</td>\n",
       "      <td>2018-11-01T07:20:00-00:00</td>\n",
       "      <td>11/1/2018</td>\n",
       "      <td>1</td>\n",
       "      <td>TH_NP15_GEN-APND</td>\n",
       "      <td>TH_NP15_GEN-APND</td>\n",
       "      <td>TH_NP15_GEN-APND</td>\n",
       "      <td>RTM</td>\n",
       "      <td>MCC</td>\n",
       "      <td>LMP_CONG_PRC</td>\n",
       "      <td>TH_NP15_GEN-APND</td>\n",
       "      <td>ALL_APNODES</td>\n",
       "      <td>0</td>\n",
       "      <td>0.0</td>\n",
       "      <td>4</td>\n",
       "      <td>1</td>\n",
       "    </tr>\n",
       "    <tr>\n",
       "      <th>4</th>\n",
       "      <td>2018-11-01T07:20:00-00:00</td>\n",
       "      <td>2018-11-01T07:25:00-00:00</td>\n",
       "      <td>11/1/2018</td>\n",
       "      <td>1</td>\n",
       "      <td>TH_NP15_GEN-APND</td>\n",
       "      <td>TH_NP15_GEN-APND</td>\n",
       "      <td>TH_NP15_GEN-APND</td>\n",
       "      <td>RTM</td>\n",
       "      <td>MCC</td>\n",
       "      <td>LMP_CONG_PRC</td>\n",
       "      <td>TH_NP15_GEN-APND</td>\n",
       "      <td>ALL_APNODES</td>\n",
       "      <td>0</td>\n",
       "      <td>0.0</td>\n",
       "      <td>5</td>\n",
       "      <td>1</td>\n",
       "    </tr>\n",
       "  </tbody>\n",
       "</table>\n",
       "</div>"
      ],
      "text/plain": [
       "       INTERVALSTARTTIME_GMT        INTERVALENDTIME_GMT     OPR_DT  OPR_HR  \\\n",
       "0  2018-11-01T07:00:00-00:00  2018-11-01T07:05:00-00:00  11/1/2018       1   \n",
       "1  2018-11-01T07:05:00-00:00  2018-11-01T07:10:00-00:00  11/1/2018       1   \n",
       "2  2018-11-01T07:10:00-00:00  2018-11-01T07:15:00-00:00  11/1/2018       1   \n",
       "3  2018-11-01T07:15:00-00:00  2018-11-01T07:20:00-00:00  11/1/2018       1   \n",
       "4  2018-11-01T07:20:00-00:00  2018-11-01T07:25:00-00:00  11/1/2018       1   \n",
       "\n",
       "        NODE_ID_XML           NODE_ID              NODE MARKET_RUN_ID  \\\n",
       "0  TH_NP15_GEN-APND  TH_NP15_GEN-APND  TH_NP15_GEN-APND           RTM   \n",
       "1  TH_NP15_GEN-APND  TH_NP15_GEN-APND  TH_NP15_GEN-APND           RTM   \n",
       "2  TH_NP15_GEN-APND  TH_NP15_GEN-APND  TH_NP15_GEN-APND           RTM   \n",
       "3  TH_NP15_GEN-APND  TH_NP15_GEN-APND  TH_NP15_GEN-APND           RTM   \n",
       "4  TH_NP15_GEN-APND  TH_NP15_GEN-APND  TH_NP15_GEN-APND           RTM   \n",
       "\n",
       "  LMP_TYPE XML_DATA_ITEM     PNODE_RESMRID     GRP_TYPE  POS  VALUE  \\\n",
       "0      MCC  LMP_CONG_PRC  TH_NP15_GEN-APND  ALL_APNODES    0    0.0   \n",
       "1      MCC  LMP_CONG_PRC  TH_NP15_GEN-APND  ALL_APNODES    0    0.0   \n",
       "2      MCC  LMP_CONG_PRC  TH_NP15_GEN-APND  ALL_APNODES    0    0.0   \n",
       "3      MCC  LMP_CONG_PRC  TH_NP15_GEN-APND  ALL_APNODES    0    0.0   \n",
       "4      MCC  LMP_CONG_PRC  TH_NP15_GEN-APND  ALL_APNODES    0    0.0   \n",
       "\n",
       "   OPR_INTERVAL  GROUP  \n",
       "0             1      1  \n",
       "1             2      1  \n",
       "2             3      1  \n",
       "3             4      1  \n",
       "4             5      1  "
      ]
     },
     "execution_count": 4,
     "metadata": {},
     "output_type": "execute_result"
    }
   ],
   "source": [
    "df.head()"
   ]
  },
  {
   "cell_type": "code",
   "execution_count": 11,
   "metadata": {},
   "outputs": [],
   "source": [
    "df1= pd.read_csv('November_2018.csv', header= 0, usecols= [0,3,9,13,14],parse_dates= True, index_col= 'INTERVALSTARTTIME_GMT')\n"
   ]
  },
  {
   "cell_type": "code",
   "execution_count": 12,
   "metadata": {},
   "outputs": [
    {
     "name": "stdout",
     "output_type": "stream",
     "text": [
      "<class 'pandas.core.frame.DataFrame'>\n",
      "DatetimeIndex: 43250 entries, 2018-11-01 07:00:00 to 2018-12-01 07:55:00\n",
      "Data columns (total 4 columns):\n",
      "OPR_HR           43250 non-null int64\n",
      "XML_DATA_ITEM    43250 non-null object\n",
      "VALUE            43250 non-null float64\n",
      "OPR_INTERVAL     43250 non-null int64\n",
      "dtypes: float64(1), int64(2), object(1)\n",
      "memory usage: 1.6+ MB\n"
     ]
    }
   ],
   "source": [
    "df1.info() # as desired, the index is now the DateTime object (perfect for time series plotting)"
   ]
  },
  {
   "cell_type": "code",
   "execution_count": 13,
   "metadata": {},
   "outputs": [
    {
     "data": {
      "text/html": [
       "<div>\n",
       "<style scoped>\n",
       "    .dataframe tbody tr th:only-of-type {\n",
       "        vertical-align: middle;\n",
       "    }\n",
       "\n",
       "    .dataframe tbody tr th {\n",
       "        vertical-align: top;\n",
       "    }\n",
       "\n",
       "    .dataframe thead th {\n",
       "        text-align: right;\n",
       "    }\n",
       "</style>\n",
       "<table border=\"1\" class=\"dataframe\">\n",
       "  <thead>\n",
       "    <tr style=\"text-align: right;\">\n",
       "      <th></th>\n",
       "      <th>OPR_HR</th>\n",
       "      <th>XML_DATA_ITEM</th>\n",
       "      <th>VALUE</th>\n",
       "      <th>OPR_INTERVAL</th>\n",
       "    </tr>\n",
       "    <tr>\n",
       "      <th>INTERVALSTARTTIME_GMT</th>\n",
       "      <th></th>\n",
       "      <th></th>\n",
       "      <th></th>\n",
       "      <th></th>\n",
       "    </tr>\n",
       "  </thead>\n",
       "  <tbody>\n",
       "    <tr>\n",
       "      <th>2018-11-01 07:00:00</th>\n",
       "      <td>1</td>\n",
       "      <td>LMP_CONG_PRC</td>\n",
       "      <td>0.0</td>\n",
       "      <td>1</td>\n",
       "    </tr>\n",
       "    <tr>\n",
       "      <th>2018-11-01 07:05:00</th>\n",
       "      <td>1</td>\n",
       "      <td>LMP_CONG_PRC</td>\n",
       "      <td>0.0</td>\n",
       "      <td>2</td>\n",
       "    </tr>\n",
       "    <tr>\n",
       "      <th>2018-11-01 07:10:00</th>\n",
       "      <td>1</td>\n",
       "      <td>LMP_CONG_PRC</td>\n",
       "      <td>0.0</td>\n",
       "      <td>3</td>\n",
       "    </tr>\n",
       "    <tr>\n",
       "      <th>2018-11-01 07:15:00</th>\n",
       "      <td>1</td>\n",
       "      <td>LMP_CONG_PRC</td>\n",
       "      <td>0.0</td>\n",
       "      <td>4</td>\n",
       "    </tr>\n",
       "    <tr>\n",
       "      <th>2018-11-01 07:20:00</th>\n",
       "      <td>1</td>\n",
       "      <td>LMP_CONG_PRC</td>\n",
       "      <td>0.0</td>\n",
       "      <td>5</td>\n",
       "    </tr>\n",
       "  </tbody>\n",
       "</table>\n",
       "</div>"
      ],
      "text/plain": [
       "                       OPR_HR XML_DATA_ITEM  VALUE  OPR_INTERVAL\n",
       "INTERVALSTARTTIME_GMT                                           \n",
       "2018-11-01 07:00:00         1  LMP_CONG_PRC    0.0             1\n",
       "2018-11-01 07:05:00         1  LMP_CONG_PRC    0.0             2\n",
       "2018-11-01 07:10:00         1  LMP_CONG_PRC    0.0             3\n",
       "2018-11-01 07:15:00         1  LMP_CONG_PRC    0.0             4\n",
       "2018-11-01 07:20:00         1  LMP_CONG_PRC    0.0             5"
      ]
     },
     "execution_count": 13,
     "metadata": {},
     "output_type": "execute_result"
    }
   ],
   "source": [
    "df1.head() # Whoops.The Value is the price, but it is the sum of four components and these elements need to be dropped."
   ]
  },
  {
   "cell_type": "code",
   "execution_count": 20,
   "metadata": {},
   "outputs": [
    {
     "ename": "AttributeError",
     "evalue": "module 'matplotlib' has no attribute 'show'",
     "output_type": "error",
     "traceback": [
      "\u001b[1;31m---------------------------------------------------------------------------\u001b[0m",
      "\u001b[1;31mAttributeError\u001b[0m                            Traceback (most recent call last)",
      "\u001b[1;32m<ipython-input-20-c972ac3cd8ce>\u001b[0m in \u001b[0;36m<module>\u001b[1;34m()\u001b[0m\n\u001b[0;32m      1\u001b[0m \u001b[1;32mimport\u001b[0m \u001b[0mmatplotlib\u001b[0m \u001b[1;32mas\u001b[0m \u001b[0mplt\u001b[0m\u001b[1;33m\u001b[0m\u001b[0m\n\u001b[0;32m      2\u001b[0m \u001b[0mdf1\u001b[0m\u001b[1;33m[\u001b[0m\u001b[1;34m'VALUE'\u001b[0m\u001b[1;33m]\u001b[0m\u001b[1;33m.\u001b[0m\u001b[0mplot\u001b[0m\u001b[1;33m(\u001b[0m\u001b[1;33m)\u001b[0m\u001b[1;33m\u001b[0m\u001b[0m\n\u001b[1;32m----> 3\u001b[1;33m \u001b[0mplt\u001b[0m\u001b[1;33m.\u001b[0m\u001b[0mshow\u001b[0m\u001b[1;33m(\u001b[0m\u001b[1;33m)\u001b[0m\u001b[1;33m\u001b[0m\u001b[0m\n\u001b[0m",
      "\u001b[1;31mAttributeError\u001b[0m: module 'matplotlib' has no attribute 'show'"
     ]
    },
    {
     "data": {
      "image/png": "[encoded data removed]",
      "text/plain": [
       "<Figure size 432x288 with 1 Axes>"
      ]
     },
     "metadata": {
      "needs_background": "light"
     },
     "output_type": "display_data"
    }
   ],
   "source": [
    "import matplotlib as plt\n",
    "df1['VALUE'].plot()\n",
    "plt.show()"
   ]
  },
  {
   "cell_type": "code",
   "execution_count": 39,
   "metadata": {},
   "outputs": [
    {
     "ename": "KeyError",
     "evalue": "'None of [INTERVALSTARTTIME_GMT\\n2018-11-01 07:00:00     0.00000\\n2018-11-01 07:05:00     0.00000\\n2018-11-01 07:10:00     0.00000\\n2018-11-01 07:15:00     0.00000\\n2018-11-01 07:20:00     0.00000\\n2018-11-01 07:25:00     0.00000\\n2018-11-01 07:30:00     0.00000\\n2018-11-01 07:35:00     0.00000\\n2018-11-01 07:40:00     0.00000\\n2018-11-01 07:45:00     0.00000\\n2018-11-01 07:50:00     0.00000\\n2018-11-01 07:55:00     0.00000\\n2018-11-01 08:00:00     0.00000\\n2018-11-01 08:05:00     0.00000\\n2018-11-01 08:10:00     0.00000\\n2018-11-01 08:15:00     0.00000\\n2018-11-01 08:20:00     0.00000\\n2018-11-01 08:25:00     0.00000\\n2018-11-01 08:30:00     0.00000\\n2018-11-01 08:35:00     0.00000\\n2018-11-01 08:40:00     0.00000\\n2018-11-01 08:45:00     0.00000\\n2018-11-01 08:50:00     0.00000\\n2018-11-01 08:55:00     0.00000\\n2018-11-01 09:00:00     0.00000\\n2018-11-01 09:05:00     0.00000\\n2018-11-01 09:10:00     0.00000\\n2018-11-01 09:15:00     0.00000\\n2018-11-01 09:20:00     0.00000\\n2018-11-01 09:25:00     0.00000\\n                         ...   \\n2018-12-01 05:30:00    53.56405\\n2018-12-01 05:35:00    53.56405\\n2018-12-01 05:40:00    53.72261\\n2018-12-01 05:45:00    55.85966\\n2018-12-01 05:50:00    55.85966\\n2018-12-01 05:55:00    66.40234\\n2018-12-01 06:00:00    79.59268\\n2018-12-01 06:05:00    71.82458\\n2018-12-01 06:10:00    75.98545\\n2018-12-01 06:15:00    99.03883\\n2018-12-01 06:20:00    81.66713\\n2018-12-01 06:25:00    72.85385\\n2018-12-01 06:30:00    71.61322\\n2018-12-01 06:35:00    69.85675\\n2018-12-01 06:40:00    67.05823\\n2018-12-01 06:45:00    65.20398\\n2018-12-01 06:50:00    64.51432\\n2018-12-01 06:55:00    65.25790\\n2018-12-01 07:00:00    70.63351\\n2018-12-01 07:05:00    73.65837\\n2018-12-01 07:10:00    70.21321\\n2018-12-01 07:15:00    66.14589\\n2018-12-01 07:20:00    63.06999\\n2018-12-01 07:25:00    60.21543\\n2018-12-01 07:30:00    56.01672\\n2018-12-01 07:35:00    52.31761\\n2018-12-01 07:40:00    51.70756\\n2018-12-01 07:45:00    48.82903\\n2018-12-01 07:50:00    48.07948\\n2018-12-01 07:55:00    46.81658\\nName: VALUE, Length: 43250, dtype: float64] are in the [columns]'",
     "output_type": "error",
     "traceback": [
      "\u001b[1;31m---------------------------------------------------------------------------\u001b[0m",
      "\u001b[1;31mKeyError\u001b[0m                                  Traceback (most recent call last)",
      "\u001b[1;32m<ipython-input-39-025cdd2f517b>\u001b[0m in \u001b[0;36m<module>\u001b[1;34m()\u001b[0m\n\u001b[0;32m      1\u001b[0m \u001b[1;31m# df1.loc['2018-11-02':'2018-11-04', df1['VALUE']].plot()\u001b[0m\u001b[1;33m\u001b[0m\u001b[1;33m\u001b[0m\u001b[0m\n\u001b[1;32m----> 2\u001b[1;33m \u001b[0mdf1\u001b[0m\u001b[1;33m.\u001b[0m\u001b[0mloc\u001b[0m\u001b[1;33m[\u001b[0m\u001b[1;33m:\u001b[0m\u001b[1;34m'2018-11-07'\u001b[0m\u001b[1;33m,\u001b[0m\u001b[0mdf1\u001b[0m\u001b[1;33m[\u001b[0m\u001b[1;34m'VALUE'\u001b[0m\u001b[1;33m]\u001b[0m\u001b[1;33m]\u001b[0m\u001b[1;33m.\u001b[0m\u001b[0mPLOT\u001b[0m\u001b[1;33m(\u001b[0m\u001b[1;33m)\u001b[0m\u001b[1;33m\u001b[0m\u001b[0m\n\u001b[0m\u001b[0;32m      3\u001b[0m \u001b[0mplt\u001b[0m\u001b[1;33m.\u001b[0m\u001b[0mshow\u001b[0m\u001b[1;33m(\u001b[0m\u001b[1;33m)\u001b[0m\u001b[1;33m\u001b[0m\u001b[0m\n\u001b[0;32m      4\u001b[0m \u001b[1;33m\u001b[0m\u001b[0m\n",
      "\u001b[1;32m~\\Anaconda3\\lib\\site-packages\\pandas\\core\\indexing.py\u001b[0m in \u001b[0;36m__getitem__\u001b[1;34m(self, key)\u001b[0m\n\u001b[0;32m   1470\u001b[0m             \u001b[1;32mexcept\u001b[0m \u001b[1;33m(\u001b[0m\u001b[0mKeyError\u001b[0m\u001b[1;33m,\u001b[0m \u001b[0mIndexError\u001b[0m\u001b[1;33m)\u001b[0m\u001b[1;33m:\u001b[0m\u001b[1;33m\u001b[0m\u001b[0m\n\u001b[0;32m   1471\u001b[0m                 \u001b[1;32mpass\u001b[0m\u001b[1;33m\u001b[0m\u001b[0m\n\u001b[1;32m-> 1472\u001b[1;33m             \u001b[1;32mreturn\u001b[0m \u001b[0mself\u001b[0m\u001b[1;33m.\u001b[0m\u001b[0m_getitem_tuple\u001b[0m\u001b[1;33m(\u001b[0m\u001b[0mkey\u001b[0m\u001b[1;33m)\u001b[0m\u001b[1;33m\u001b[0m\u001b[0m\n\u001b[0m\u001b[0;32m   1473\u001b[0m         \u001b[1;32melse\u001b[0m\u001b[1;33m:\u001b[0m\u001b[1;33m\u001b[0m\u001b[0m\n\u001b[0;32m   1474\u001b[0m             \u001b[1;31m# we by definition only have the 0th axis\u001b[0m\u001b[1;33m\u001b[0m\u001b[1;33m\u001b[0m\u001b[0m\n",
      "\u001b[1;32m~\\Anaconda3\\lib\\site-packages\\pandas\\core\\indexing.py\u001b[0m in \u001b[0;36m_getitem_tuple\u001b[1;34m(self, tup)\u001b[0m\n\u001b[0;32m    888\u001b[0m                 \u001b[1;32mcontinue\u001b[0m\u001b[1;33m\u001b[0m\u001b[0m\n\u001b[0;32m    889\u001b[0m \u001b[1;33m\u001b[0m\u001b[0m\n\u001b[1;32m--> 890\u001b[1;33m             \u001b[0mretval\u001b[0m \u001b[1;33m=\u001b[0m \u001b[0mgetattr\u001b[0m\u001b[1;33m(\u001b[0m\u001b[0mretval\u001b[0m\u001b[1;33m,\u001b[0m \u001b[0mself\u001b[0m\u001b[1;33m.\u001b[0m\u001b[0mname\u001b[0m\u001b[1;33m)\u001b[0m\u001b[1;33m.\u001b[0m\u001b[0m_getitem_axis\u001b[0m\u001b[1;33m(\u001b[0m\u001b[0mkey\u001b[0m\u001b[1;33m,\u001b[0m \u001b[0maxis\u001b[0m\u001b[1;33m=\u001b[0m\u001b[0mi\u001b[0m\u001b[1;33m)\u001b[0m\u001b[1;33m\u001b[0m\u001b[0m\n\u001b[0m\u001b[0;32m    891\u001b[0m \u001b[1;33m\u001b[0m\u001b[0m\n\u001b[0;32m    892\u001b[0m         \u001b[1;32mreturn\u001b[0m \u001b[0mretval\u001b[0m\u001b[1;33m\u001b[0m\u001b[0m\n",
      "\u001b[1;32m~\\Anaconda3\\lib\\site-packages\\pandas\\core\\indexing.py\u001b[0m in \u001b[0;36m_getitem_axis\u001b[1;34m(self, key, axis)\u001b[0m\n\u001b[0;32m   1899\u001b[0m                     \u001b[1;32mraise\u001b[0m \u001b[0mValueError\u001b[0m\u001b[1;33m(\u001b[0m\u001b[1;34m'Cannot index with multidimensional key'\u001b[0m\u001b[1;33m)\u001b[0m\u001b[1;33m\u001b[0m\u001b[0m\n\u001b[0;32m   1900\u001b[0m \u001b[1;33m\u001b[0m\u001b[0m\n\u001b[1;32m-> 1901\u001b[1;33m                 \u001b[1;32mreturn\u001b[0m \u001b[0mself\u001b[0m\u001b[1;33m.\u001b[0m\u001b[0m_getitem_iterable\u001b[0m\u001b[1;33m(\u001b[0m\u001b[0mkey\u001b[0m\u001b[1;33m,\u001b[0m \u001b[0maxis\u001b[0m\u001b[1;33m=\u001b[0m\u001b[0maxis\u001b[0m\u001b[1;33m)\u001b[0m\u001b[1;33m\u001b[0m\u001b[0m\n\u001b[0m\u001b[0;32m   1902\u001b[0m \u001b[1;33m\u001b[0m\u001b[0m\n\u001b[0;32m   1903\u001b[0m             \u001b[1;31m# nested tuple slicing\u001b[0m\u001b[1;33m\u001b[0m\u001b[1;33m\u001b[0m\u001b[0m\n",
      "\u001b[1;32m~\\Anaconda3\\lib\\site-packages\\pandas\\core\\indexing.py\u001b[0m in \u001b[0;36m_getitem_iterable\u001b[1;34m(self, key, axis)\u001b[0m\n\u001b[0;32m   1161\u001b[0m                     \u001b[0mresult\u001b[0m \u001b[1;33m=\u001b[0m \u001b[0mself\u001b[0m\u001b[1;33m.\u001b[0m\u001b[0mobj\u001b[0m\u001b[1;33m.\u001b[0m\u001b[0m_take\u001b[0m\u001b[1;33m(\u001b[0m\u001b[0mindexer\u001b[0m\u001b[1;33m[\u001b[0m\u001b[0mindexer\u001b[0m \u001b[1;33m!=\u001b[0m \u001b[1;33m-\u001b[0m\u001b[1;36m1\u001b[0m\u001b[1;33m]\u001b[0m\u001b[1;33m,\u001b[0m \u001b[0maxis\u001b[0m\u001b[1;33m=\u001b[0m\u001b[0maxis\u001b[0m\u001b[1;33m)\u001b[0m\u001b[1;33m\u001b[0m\u001b[0m\n\u001b[0;32m   1162\u001b[0m \u001b[1;33m\u001b[0m\u001b[0m\n\u001b[1;32m-> 1163\u001b[1;33m                     \u001b[0mself\u001b[0m\u001b[1;33m.\u001b[0m\u001b[0m_validate_read_indexer\u001b[0m\u001b[1;33m(\u001b[0m\u001b[0mkey\u001b[0m\u001b[1;33m,\u001b[0m \u001b[0mnew_indexer\u001b[0m\u001b[1;33m,\u001b[0m \u001b[0maxis\u001b[0m\u001b[1;33m)\u001b[0m\u001b[1;33m\u001b[0m\u001b[0m\n\u001b[0m\u001b[0;32m   1164\u001b[0m                     result = result._reindex_with_indexers(\n\u001b[0;32m   1165\u001b[0m                         \u001b[1;33m{\u001b[0m\u001b[0maxis\u001b[0m\u001b[1;33m:\u001b[0m \u001b[1;33m[\u001b[0m\u001b[0mnew_target\u001b[0m\u001b[1;33m,\u001b[0m \u001b[0mnew_indexer\u001b[0m\u001b[1;33m]\u001b[0m\u001b[1;33m}\u001b[0m\u001b[1;33m,\u001b[0m\u001b[1;33m\u001b[0m\u001b[0m\n",
      "\u001b[1;32m~\\Anaconda3\\lib\\site-packages\\pandas\\core\\indexing.py\u001b[0m in \u001b[0;36m_validate_read_indexer\u001b[1;34m(self, key, indexer, axis)\u001b[0m\n\u001b[0;32m   1204\u001b[0m                 raise KeyError(\n\u001b[0;32m   1205\u001b[0m                     u\"None of [{key}] are in the [{axis}]\".format(\n\u001b[1;32m-> 1206\u001b[1;33m                         key=key, axis=self.obj._get_axis_name(axis)))\n\u001b[0m\u001b[0;32m   1207\u001b[0m \u001b[1;33m\u001b[0m\u001b[0m\n\u001b[0;32m   1208\u001b[0m             \u001b[1;31m# we skip the warning on Categorical/Interval\u001b[0m\u001b[1;33m\u001b[0m\u001b[1;33m\u001b[0m\u001b[0m\n",
      "\u001b[1;31mKeyError\u001b[0m: 'None of [INTERVALSTARTTIME_GMT\\n2018-11-01 07:00:00     0.00000\\n2018-11-01 07:05:00     0.00000\\n2018-11-01 07:10:00     0.00000\\n2018-11-01 07:15:00     0.00000\\n2018-11-01 07:20:00     0.00000\\n2018-11-01 07:25:00     0.00000\\n2018-11-01 07:30:00     0.00000\\n2018-11-01 07:35:00     0.00000\\n2018-11-01 07:40:00     0.00000\\n2018-11-01 07:45:00     0.00000\\n2018-11-01 07:50:00     0.00000\\n2018-11-01 07:55:00     0.00000\\n2018-11-01 08:00:00     0.00000\\n2018-11-01 08:05:00     0.00000\\n2018-11-01 08:10:00     0.00000\\n2018-11-01 08:15:00     0.00000\\n2018-11-01 08:20:00     0.00000\\n2018-11-01 08:25:00     0.00000\\n2018-11-01 08:30:00     0.00000\\n2018-11-01 08:35:00     0.00000\\n2018-11-01 08:40:00     0.00000\\n2018-11-01 08:45:00     0.00000\\n2018-11-01 08:50:00     0.00000\\n2018-11-01 08:55:00     0.00000\\n2018-11-01 09:00:00     0.00000\\n2018-11-01 09:05:00     0.00000\\n2018-11-01 09:10:00     0.00000\\n2018-11-01 09:15:00     0.00000\\n2018-11-01 09:20:00     0.00000\\n2018-11-01 09:25:00     0.00000\\n                         ...   \\n2018-12-01 05:30:00    53.56405\\n2018-12-01 05:35:00    53.56405\\n2018-12-01 05:40:00    53.72261\\n2018-12-01 05:45:00    55.85966\\n2018-12-01 05:50:00    55.85966\\n2018-12-01 05:55:00    66.40234\\n2018-12-01 06:00:00    79.59268\\n2018-12-01 06:05:00    71.82458\\n2018-12-01 06:10:00    75.98545\\n2018-12-01 06:15:00    99.03883\\n2018-12-01 06:20:00    81.66713\\n2018-12-01 06:25:00    72.85385\\n2018-12-01 06:30:00    71.61322\\n2018-12-01 06:35:00    69.85675\\n2018-12-01 06:40:00    67.05823\\n2018-12-01 06:45:00    65.20398\\n2018-12-01 06:50:00    64.51432\\n2018-12-01 06:55:00    65.25790\\n2018-12-01 07:00:00    70.63351\\n2018-12-01 07:05:00    73.65837\\n2018-12-01 07:10:00    70.21321\\n2018-12-01 07:15:00    66.14589\\n2018-12-01 07:20:00    63.06999\\n2018-12-01 07:25:00    60.21543\\n2018-12-01 07:30:00    56.01672\\n2018-12-01 07:35:00    52.31761\\n2018-12-01 07:40:00    51.70756\\n2018-12-01 07:45:00    48.82903\\n2018-12-01 07:50:00    48.07948\\n2018-12-01 07:55:00    46.81658\\nName: VALUE, Length: 43250, dtype: float64] are in the [columns]'"
     ]
    }
   ],
   "source": [
    "# df1.loc['2018-11-02':'2018-11-04', df1['VALUE']].plot()\n",
    "df1.loc[:'2018-11-07',df1['VALUE']].PLOT()  # puzzling. Interval is secribed below as Categorical \n",
    "# but above from df.info() is is shown as a DateTime object!!\n",
    "plt.show()\n",
    "        "
   ]
  },
  {
   "cell_type": "code",
   "execution_count": 21,
   "metadata": {},
   "outputs": [],
   "source": [
    "prices= df1[df1.XML_DATA_ITEM == 'LMP_PRC'] # So this drops the 4 unwanted price components and reduces the size by 80%"
   ]
  },
  {
   "cell_type": "code",
   "execution_count": 22,
   "metadata": {},
   "outputs": [
    {
     "data": {
      "text/html": [
       "<div>\n",
       "<style scoped>\n",
       "    .dataframe tbody tr th:only-of-type {\n",
       "        vertical-align: middle;\n",
       "    }\n",
       "\n",
       "    .dataframe tbody tr th {\n",
       "        vertical-align: top;\n",
       "    }\n",
       "\n",
       "    .dataframe thead th {\n",
       "        text-align: right;\n",
       "    }\n",
       "</style>\n",
       "<table border=\"1\" class=\"dataframe\">\n",
       "  <thead>\n",
       "    <tr style=\"text-align: right;\">\n",
       "      <th></th>\n",
       "      <th>OPR_HR</th>\n",
       "      <th>XML_DATA_ITEM</th>\n",
       "      <th>VALUE</th>\n",
       "      <th>OPR_INTERVAL</th>\n",
       "    </tr>\n",
       "    <tr>\n",
       "      <th>INTERVALSTARTTIME_GMT</th>\n",
       "      <th></th>\n",
       "      <th></th>\n",
       "      <th></th>\n",
       "      <th></th>\n",
       "    </tr>\n",
       "  </thead>\n",
       "  <tbody>\n",
       "    <tr>\n",
       "      <th>2018-11-01 07:00:00</th>\n",
       "      <td>1</td>\n",
       "      <td>LMP_PRC</td>\n",
       "      <td>22.75191</td>\n",
       "      <td>1</td>\n",
       "    </tr>\n",
       "    <tr>\n",
       "      <th>2018-11-01 07:05:00</th>\n",
       "      <td>1</td>\n",
       "      <td>LMP_PRC</td>\n",
       "      <td>28.40657</td>\n",
       "      <td>2</td>\n",
       "    </tr>\n",
       "    <tr>\n",
       "      <th>2018-11-01 07:10:00</th>\n",
       "      <td>1</td>\n",
       "      <td>LMP_PRC</td>\n",
       "      <td>27.41963</td>\n",
       "      <td>3</td>\n",
       "    </tr>\n",
       "    <tr>\n",
       "      <th>2018-11-01 07:15:00</th>\n",
       "      <td>1</td>\n",
       "      <td>LMP_PRC</td>\n",
       "      <td>24.94560</td>\n",
       "      <td>4</td>\n",
       "    </tr>\n",
       "    <tr>\n",
       "      <th>2018-11-01 07:20:00</th>\n",
       "      <td>1</td>\n",
       "      <td>LMP_PRC</td>\n",
       "      <td>24.82309</td>\n",
       "      <td>5</td>\n",
       "    </tr>\n",
       "  </tbody>\n",
       "</table>\n",
       "</div>"
      ],
      "text/plain": [
       "                       OPR_HR XML_DATA_ITEM     VALUE  OPR_INTERVAL\n",
       "INTERVALSTARTTIME_GMT                                              \n",
       "2018-11-01 07:00:00         1       LMP_PRC  22.75191             1\n",
       "2018-11-01 07:05:00         1       LMP_PRC  28.40657             2\n",
       "2018-11-01 07:10:00         1       LMP_PRC  27.41963             3\n",
       "2018-11-01 07:15:00         1       LMP_PRC  24.94560             4\n",
       "2018-11-01 07:20:00         1       LMP_PRC  24.82309             5"
      ]
     },
     "execution_count": 22,
     "metadata": {},
     "output_type": "execute_result"
    }
   ],
   "source": [
    "prices.head()"
   ]
  },
  {
   "cell_type": "code",
   "execution_count": 23,
   "metadata": {},
   "outputs": [
    {
     "ename": "AttributeError",
     "evalue": "module 'matplotlib' has no attribute 'show'",
     "output_type": "error",
     "traceback": [
      "\u001b[1;31m---------------------------------------------------------------------------\u001b[0m",
      "\u001b[1;31mAttributeError\u001b[0m                            Traceback (most recent call last)",
      "\u001b[1;32m<ipython-input-23-dddd5d431b13>\u001b[0m in \u001b[0;36m<module>\u001b[1;34m()\u001b[0m\n\u001b[0;32m      1\u001b[0m \u001b[0mprices\u001b[0m\u001b[1;33m.\u001b[0m\u001b[0mVALUE\u001b[0m\u001b[1;33m.\u001b[0m\u001b[0mplot\u001b[0m\u001b[1;33m(\u001b[0m\u001b[1;33m)\u001b[0m\u001b[1;33m\u001b[0m\u001b[0m\n\u001b[1;32m----> 2\u001b[1;33m \u001b[0mplt\u001b[0m\u001b[1;33m.\u001b[0m\u001b[0mshow\u001b[0m\u001b[1;33m(\u001b[0m\u001b[1;33m)\u001b[0m\u001b[1;33m\u001b[0m\u001b[0m\n\u001b[0m",
      "\u001b[1;31mAttributeError\u001b[0m: module 'matplotlib' has no attribute 'show'"
     ]
    },
    {
     "data": {
      "image/png": "[encoded data removed]",
      "text/plain": [
       "<Figure size 432x288 with 1 Axes>"
      ]
     },
     "metadata": {
      "needs_background": "light"
     },
     "output_type": "display_data"
    }
   ],
   "source": [
    "prices.VALUE.plot()\n",
    "plt.show()"
   ]
  },
  {
   "cell_type": "code",
   "execution_count": 24,
   "metadata": {},
   "outputs": [
    {
     "ename": "AttributeError",
     "evalue": "module 'matplotlib' has no attribute 'show'",
     "output_type": "error",
     "traceback": [
      "\u001b[1;31m---------------------------------------------------------------------------\u001b[0m",
      "\u001b[1;31mAttributeError\u001b[0m                            Traceback (most recent call last)",
      "\u001b[1;32m<ipython-input-24-6e9a53ae37fc>\u001b[0m in \u001b[0;36m<module>\u001b[1;34m()\u001b[0m\n\u001b[0;32m      1\u001b[0m \u001b[0mprices\u001b[0m\u001b[1;33m.\u001b[0m\u001b[0mVALUE\u001b[0m\u001b[1;33m.\u001b[0m\u001b[0mplot\u001b[0m\u001b[1;33m(\u001b[0m\u001b[0mkind\u001b[0m\u001b[1;33m=\u001b[0m\u001b[1;34m'hist'\u001b[0m\u001b[1;33m,\u001b[0m \u001b[0mbins\u001b[0m\u001b[1;33m=\u001b[0m\u001b[1;36m20\u001b[0m\u001b[1;33m)\u001b[0m\u001b[1;33m\u001b[0m\u001b[0m\n\u001b[1;32m----> 2\u001b[1;33m \u001b[0mplt\u001b[0m\u001b[1;33m.\u001b[0m\u001b[0mshow\u001b[0m\u001b[1;33m(\u001b[0m\u001b[1;33m)\u001b[0m\u001b[1;33m\u001b[0m\u001b[0m\n\u001b[0m",
      "\u001b[1;31mAttributeError\u001b[0m: module 'matplotlib' has no attribute 'show'"
     ]
    },
    {
     "data": {
      "image/png": "[encoded data removed]",
      "text/plain": [
       "<Figure size 432x288 with 1 Axes>"
      ]
     },
     "metadata": {
      "needs_background": "light"
     },
     "output_type": "display_data"
    }
   ],
   "source": [
    "prices.VALUE.plot(kind='hist', bins=20)\n",
    "plt.show()"
   ]
  },
  {
   "cell_type": "code",
   "execution_count": 48,
   "metadata": {},
   "outputs": [
    {
     "ename": "AttributeError",
     "evalue": "module 'matplotlib' has no attribute 'show'",
     "output_type": "error",
     "traceback": [
      "\u001b[1;31m---------------------------------------------------------------------------\u001b[0m",
      "\u001b[1;31mAttributeError\u001b[0m                            Traceback (most recent call last)",
      "\u001b[1;32m<ipython-input-48-e4e2be2716c9>\u001b[0m in \u001b[0;36m<module>\u001b[1;34m()\u001b[0m\n\u001b[0;32m      1\u001b[0m \u001b[0mprices\u001b[0m\u001b[1;33m.\u001b[0m\u001b[0mboxplot\u001b[0m\u001b[1;33m(\u001b[0m\u001b[0mcolumn\u001b[0m\u001b[1;33m=\u001b[0m \u001b[1;34m'VALUE'\u001b[0m\u001b[1;33m,\u001b[0m \u001b[0mby\u001b[0m\u001b[1;33m=\u001b[0m \u001b[1;34m'OPR_HR'\u001b[0m\u001b[1;33m)\u001b[0m\u001b[1;33m\u001b[0m\u001b[0m\n\u001b[1;32m----> 2\u001b[1;33m \u001b[0mplt\u001b[0m\u001b[1;33m.\u001b[0m\u001b[0mshow\u001b[0m\u001b[1;33m(\u001b[0m\u001b[1;33m)\u001b[0m\u001b[1;33m\u001b[0m\u001b[0m\n\u001b[0m",
      "\u001b[1;31mAttributeError\u001b[0m: module 'matplotlib' has no attribute 'show'"
     ]
    },
    {
     "data": {
      "image/png": "[encoded data removed]",
      "text/plain": [
       "<Figure size 432x288 with 1 Axes>"
      ]
     },
     "metadata": {
      "needs_background": "light"
     },
     "output_type": "display_data"
    }
   ],
   "source": [
    "prices.boxplot(column= 'VALUE', by= 'OPR_HR')\n",
    "plt.show()"
   ]
  },
  {
   "cell_type": "code",
   "execution_count": 49,
   "metadata": {},
   "outputs": [
    {
     "data": {
      "text/plain": [
       "(8928, 4)"
      ]
     },
     "execution_count": 49,
     "metadata": {},
     "output_type": "execute_result"
    }
   ],
   "source": [
    "prices.columns\n",
    "prices.shape"
   ]
  },
  {
   "cell_type": "code",
   "execution_count": 42,
   "metadata": {},
   "outputs": [
    {
     "data": {
      "text/plain": [
       "(1630, 4)"
      ]
     },
     "execution_count": 42,
     "metadata": {},
     "output_type": "execute_result"
    }
   ],
   "source": [
    "very_low_prices= prices[prices.VALUE < 30]  # Threshold price increased to $30/MWh, now have 1630 prices so > 720 for 2 hours\n",
    "very_low_prices.shape"
   ]
  },
  {
   "cell_type": "code",
   "execution_count": 44,
   "metadata": {},
   "outputs": [
    {
     "data": {
      "text/plain": [
       "(1630, 4)"
      ]
     },
     "execution_count": 44,
     "metadata": {},
     "output_type": "execute_result"
    }
   ],
   "source": [
    "low_prices= prices[(prices.VALUE < 30) & (prices.VALUE > -110)] # at $20 was (217,4) before -110 stipulation\n",
    "low_prices.shape                                                # Puzzling since one observation was -200 !?"
   ]
  },
  {
   "cell_type": "code",
   "execution_count": 46,
   "metadata": {},
   "outputs": [
    {
     "data": {
      "text/plain": [
       "OPR_HR                 1\n",
       "XML_DATA_ITEM    LMP_PRC\n",
       "VALUE           -4.78261\n",
       "OPR_INTERVAL           1\n",
       "dtype: object"
      ]
     },
     "execution_count": 46,
     "metadata": {},
     "output_type": "execute_result"
    }
   ],
   "source": [
    "low_prices.min()"
   ]
  },
  {
   "cell_type": "code",
   "execution_count": 47,
   "metadata": {},
   "outputs": [
    {
     "ename": "AttributeError",
     "evalue": "module 'matplotlib' has no attribute 'show'",
     "output_type": "error",
     "traceback": [
      "\u001b[1;31m---------------------------------------------------------------------------\u001b[0m",
      "\u001b[1;31mAttributeError\u001b[0m                            Traceback (most recent call last)",
      "\u001b[1;32m<ipython-input-47-f5235b904bc9>\u001b[0m in \u001b[0;36m<module>\u001b[1;34m()\u001b[0m\n\u001b[0;32m      1\u001b[0m \u001b[0mlow_prices\u001b[0m\u001b[1;33m.\u001b[0m\u001b[0mboxplot\u001b[0m\u001b[1;33m(\u001b[0m\u001b[0mcolumn\u001b[0m\u001b[1;33m=\u001b[0m \u001b[1;34m'VALUE'\u001b[0m\u001b[1;33m,\u001b[0m \u001b[0mby\u001b[0m\u001b[1;33m=\u001b[0m \u001b[1;34m'OPR_HR'\u001b[0m\u001b[1;33m)\u001b[0m\u001b[1;33m\u001b[0m\u001b[0m\n\u001b[1;32m----> 2\u001b[1;33m \u001b[0mplt\u001b[0m\u001b[1;33m.\u001b[0m\u001b[0mshow\u001b[0m\u001b[1;33m(\u001b[0m\u001b[1;33m)\u001b[0m\u001b[1;33m\u001b[0m\u001b[0m\n\u001b[0m",
      "\u001b[1;31mAttributeError\u001b[0m: module 'matplotlib' has no attribute 'show'"
     ]
    },
    {
     "data": {
      "image/png": "[encoded data removed]",
      "text/plain": [
       "<Figure size 432x288 with 1 Axes>"
      ]
     },
     "metadata": {
      "needs_background": "light"
     },
     "output_type": "display_data"
    }
   ],
   "source": [
    "low_prices.boxplot(column= 'VALUE', by= 'OPR_HR')\n",
    "plt.show()"
   ]
  },
  {
   "cell_type": "code",
   "execution_count": 48,
   "metadata": {},
   "outputs": [
    {
     "data": {
      "text/html": [
       "<div>\n",
       "<style scoped>\n",
       "    .dataframe tbody tr th:only-of-type {\n",
       "        vertical-align: middle;\n",
       "    }\n",
       "\n",
       "    .dataframe tbody tr th {\n",
       "        vertical-align: top;\n",
       "    }\n",
       "\n",
       "    .dataframe thead th {\n",
       "        text-align: right;\n",
       "    }\n",
       "</style>\n",
       "<table border=\"1\" class=\"dataframe\">\n",
       "  <thead>\n",
       "    <tr style=\"text-align: right;\">\n",
       "      <th></th>\n",
       "      <th>XML_DATA_ITEM</th>\n",
       "      <th>VALUE</th>\n",
       "      <th>OPR_INTERVAL</th>\n",
       "    </tr>\n",
       "    <tr>\n",
       "      <th>OPR_HR</th>\n",
       "      <th></th>\n",
       "      <th></th>\n",
       "      <th></th>\n",
       "    </tr>\n",
       "  </thead>\n",
       "  <tbody>\n",
       "    <tr>\n",
       "      <th>1</th>\n",
       "      <td>76</td>\n",
       "      <td>76</td>\n",
       "      <td>76</td>\n",
       "    </tr>\n",
       "    <tr>\n",
       "      <th>2</th>\n",
       "      <td>61</td>\n",
       "      <td>61</td>\n",
       "      <td>61</td>\n",
       "    </tr>\n",
       "    <tr>\n",
       "      <th>3</th>\n",
       "      <td>78</td>\n",
       "      <td>78</td>\n",
       "      <td>78</td>\n",
       "    </tr>\n",
       "    <tr>\n",
       "      <th>4</th>\n",
       "      <td>72</td>\n",
       "      <td>72</td>\n",
       "      <td>72</td>\n",
       "    </tr>\n",
       "    <tr>\n",
       "      <th>5</th>\n",
       "      <td>62</td>\n",
       "      <td>62</td>\n",
       "      <td>62</td>\n",
       "    </tr>\n",
       "    <tr>\n",
       "      <th>6</th>\n",
       "      <td>52</td>\n",
       "      <td>52</td>\n",
       "      <td>52</td>\n",
       "    </tr>\n",
       "    <tr>\n",
       "      <th>7</th>\n",
       "      <td>47</td>\n",
       "      <td>47</td>\n",
       "      <td>47</td>\n",
       "    </tr>\n",
       "    <tr>\n",
       "      <th>8</th>\n",
       "      <td>55</td>\n",
       "      <td>55</td>\n",
       "      <td>55</td>\n",
       "    </tr>\n",
       "    <tr>\n",
       "      <th>9</th>\n",
       "      <td>96</td>\n",
       "      <td>96</td>\n",
       "      <td>96</td>\n",
       "    </tr>\n",
       "    <tr>\n",
       "      <th>10</th>\n",
       "      <td>113</td>\n",
       "      <td>113</td>\n",
       "      <td>113</td>\n",
       "    </tr>\n",
       "    <tr>\n",
       "      <th>11</th>\n",
       "      <td>129</td>\n",
       "      <td>129</td>\n",
       "      <td>129</td>\n",
       "    </tr>\n",
       "    <tr>\n",
       "      <th>12</th>\n",
       "      <td>110</td>\n",
       "      <td>110</td>\n",
       "      <td>110</td>\n",
       "    </tr>\n",
       "    <tr>\n",
       "      <th>13</th>\n",
       "      <td>100</td>\n",
       "      <td>100</td>\n",
       "      <td>100</td>\n",
       "    </tr>\n",
       "    <tr>\n",
       "      <th>14</th>\n",
       "      <td>130</td>\n",
       "      <td>130</td>\n",
       "      <td>130</td>\n",
       "    </tr>\n",
       "    <tr>\n",
       "      <th>15</th>\n",
       "      <td>130</td>\n",
       "      <td>130</td>\n",
       "      <td>130</td>\n",
       "    </tr>\n",
       "    <tr>\n",
       "      <th>16</th>\n",
       "      <td>64</td>\n",
       "      <td>64</td>\n",
       "      <td>64</td>\n",
       "    </tr>\n",
       "    <tr>\n",
       "      <th>17</th>\n",
       "      <td>32</td>\n",
       "      <td>32</td>\n",
       "      <td>32</td>\n",
       "    </tr>\n",
       "    <tr>\n",
       "      <th>18</th>\n",
       "      <td>26</td>\n",
       "      <td>26</td>\n",
       "      <td>26</td>\n",
       "    </tr>\n",
       "    <tr>\n",
       "      <th>19</th>\n",
       "      <td>16</td>\n",
       "      <td>16</td>\n",
       "      <td>16</td>\n",
       "    </tr>\n",
       "    <tr>\n",
       "      <th>20</th>\n",
       "      <td>23</td>\n",
       "      <td>23</td>\n",
       "      <td>23</td>\n",
       "    </tr>\n",
       "    <tr>\n",
       "      <th>21</th>\n",
       "      <td>17</td>\n",
       "      <td>17</td>\n",
       "      <td>17</td>\n",
       "    </tr>\n",
       "    <tr>\n",
       "      <th>22</th>\n",
       "      <td>29</td>\n",
       "      <td>29</td>\n",
       "      <td>29</td>\n",
       "    </tr>\n",
       "    <tr>\n",
       "      <th>23</th>\n",
       "      <td>49</td>\n",
       "      <td>49</td>\n",
       "      <td>49</td>\n",
       "    </tr>\n",
       "    <tr>\n",
       "      <th>24</th>\n",
       "      <td>59</td>\n",
       "      <td>59</td>\n",
       "      <td>59</td>\n",
       "    </tr>\n",
       "    <tr>\n",
       "      <th>25</th>\n",
       "      <td>4</td>\n",
       "      <td>4</td>\n",
       "      <td>4</td>\n",
       "    </tr>\n",
       "  </tbody>\n",
       "</table>\n",
       "</div>"
      ],
      "text/plain": [
       "        XML_DATA_ITEM  VALUE  OPR_INTERVAL\n",
       "OPR_HR                                    \n",
       "1                  76     76            76\n",
       "2                  61     61            61\n",
       "3                  78     78            78\n",
       "4                  72     72            72\n",
       "5                  62     62            62\n",
       "6                  52     52            52\n",
       "7                  47     47            47\n",
       "8                  55     55            55\n",
       "9                  96     96            96\n",
       "10                113    113           113\n",
       "11                129    129           129\n",
       "12                110    110           110\n",
       "13                100    100           100\n",
       "14                130    130           130\n",
       "15                130    130           130\n",
       "16                 64     64            64\n",
       "17                 32     32            32\n",
       "18                 26     26            26\n",
       "19                 16     16            16\n",
       "20                 23     23            23\n",
       "21                 17     17            17\n",
       "22                 29     29            29\n",
       "23                 49     49            49\n",
       "24                 59     59            59\n",
       "25                  4      4             4"
      ]
     },
     "execution_count": 48,
     "metadata": {},
     "output_type": "execute_result"
    }
   ],
   "source": [
    "low_prices.groupby('OPR_HR').count()\n",
    "\n",
    "# This seems to be saying that the three hours in November with the most frequent low prices are from 10am to 3pm\n",
    "# But these 172 five-minute intervals average only 29 minutes a day of prices below $20/MWh\n",
    "# Level 1 charger is normally 2 hours of charging: MAY NEED TO INCREASE THRESHOLD TO 3 CENTS/$30/MWh\n",
    "# BIG QUESTION IS WHETHER THE DIFFERENCE FOR PEAK EVENING PRICES EXCEEDS 25 CENTS/KWH, OF $45/MWh (see p.17 of \"Charging Smart\")\n",
    "# Counts can be compared to 30 days x 12 Intervals = 360 Intervals/month"
   ]
  },
  {
   "cell_type": "code",
   "execution_count": 52,
   "metadata": {},
   "outputs": [
    {
     "data": {
      "text/html": [
       "<div>\n",
       "<style scoped>\n",
       "    .dataframe tbody tr th:only-of-type {\n",
       "        vertical-align: middle;\n",
       "    }\n",
       "\n",
       "    .dataframe tbody tr th {\n",
       "        vertical-align: top;\n",
       "    }\n",
       "\n",
       "    .dataframe thead th {\n",
       "        text-align: right;\n",
       "    }\n",
       "</style>\n",
       "<table border=\"1\" class=\"dataframe\">\n",
       "  <thead>\n",
       "    <tr style=\"text-align: right;\">\n",
       "      <th></th>\n",
       "      <th>VALUE</th>\n",
       "      <th>OPR_INTERVAL</th>\n",
       "    </tr>\n",
       "    <tr>\n",
       "      <th>OPR_HR</th>\n",
       "      <th></th>\n",
       "      <th></th>\n",
       "    </tr>\n",
       "  </thead>\n",
       "  <tbody>\n",
       "    <tr>\n",
       "      <th>1</th>\n",
       "      <td>26.688654</td>\n",
       "      <td>6.842105</td>\n",
       "    </tr>\n",
       "    <tr>\n",
       "      <th>2</th>\n",
       "      <td>25.764593</td>\n",
       "      <td>7.360656</td>\n",
       "    </tr>\n",
       "    <tr>\n",
       "      <th>3</th>\n",
       "      <td>25.754234</td>\n",
       "      <td>6.807692</td>\n",
       "    </tr>\n",
       "    <tr>\n",
       "      <th>4</th>\n",
       "      <td>26.420639</td>\n",
       "      <td>6.500000</td>\n",
       "    </tr>\n",
       "    <tr>\n",
       "      <th>5</th>\n",
       "      <td>27.772707</td>\n",
       "      <td>5.645161</td>\n",
       "    </tr>\n",
       "    <tr>\n",
       "      <th>6</th>\n",
       "      <td>26.731433</td>\n",
       "      <td>5.173077</td>\n",
       "    </tr>\n",
       "    <tr>\n",
       "      <th>7</th>\n",
       "      <td>27.453656</td>\n",
       "      <td>5.829787</td>\n",
       "    </tr>\n",
       "    <tr>\n",
       "      <th>8</th>\n",
       "      <td>24.364289</td>\n",
       "      <td>8.545455</td>\n",
       "    </tr>\n",
       "    <tr>\n",
       "      <th>9</th>\n",
       "      <td>23.395015</td>\n",
       "      <td>7.760417</td>\n",
       "    </tr>\n",
       "    <tr>\n",
       "      <th>10</th>\n",
       "      <td>22.310475</td>\n",
       "      <td>7.044248</td>\n",
       "    </tr>\n",
       "    <tr>\n",
       "      <th>11</th>\n",
       "      <td>23.676362</td>\n",
       "      <td>6.945736</td>\n",
       "    </tr>\n",
       "    <tr>\n",
       "      <th>12</th>\n",
       "      <td>24.489577</td>\n",
       "      <td>7.236364</td>\n",
       "    </tr>\n",
       "    <tr>\n",
       "      <th>13</th>\n",
       "      <td>21.870882</td>\n",
       "      <td>6.550000</td>\n",
       "    </tr>\n",
       "    <tr>\n",
       "      <th>14</th>\n",
       "      <td>22.280540</td>\n",
       "      <td>6.876923</td>\n",
       "    </tr>\n",
       "    <tr>\n",
       "      <th>15</th>\n",
       "      <td>22.343780</td>\n",
       "      <td>5.846154</td>\n",
       "    </tr>\n",
       "    <tr>\n",
       "      <th>16</th>\n",
       "      <td>24.107029</td>\n",
       "      <td>4.968750</td>\n",
       "    </tr>\n",
       "    <tr>\n",
       "      <th>17</th>\n",
       "      <td>25.274966</td>\n",
       "      <td>3.687500</td>\n",
       "    </tr>\n",
       "    <tr>\n",
       "      <th>18</th>\n",
       "      <td>27.530182</td>\n",
       "      <td>4.307692</td>\n",
       "    </tr>\n",
       "    <tr>\n",
       "      <th>19</th>\n",
       "      <td>29.274874</td>\n",
       "      <td>6.812500</td>\n",
       "    </tr>\n",
       "    <tr>\n",
       "      <th>20</th>\n",
       "      <td>27.749173</td>\n",
       "      <td>7.956522</td>\n",
       "    </tr>\n",
       "    <tr>\n",
       "      <th>21</th>\n",
       "      <td>29.003138</td>\n",
       "      <td>9.176471</td>\n",
       "    </tr>\n",
       "    <tr>\n",
       "      <th>22</th>\n",
       "      <td>27.698730</td>\n",
       "      <td>8.551724</td>\n",
       "    </tr>\n",
       "    <tr>\n",
       "      <th>23</th>\n",
       "      <td>27.394354</td>\n",
       "      <td>7.897959</td>\n",
       "    </tr>\n",
       "    <tr>\n",
       "      <th>24</th>\n",
       "      <td>26.428495</td>\n",
       "      <td>7.338983</td>\n",
       "    </tr>\n",
       "    <tr>\n",
       "      <th>25</th>\n",
       "      <td>29.772515</td>\n",
       "      <td>10.000000</td>\n",
       "    </tr>\n",
       "  </tbody>\n",
       "</table>\n",
       "</div>"
      ],
      "text/plain": [
       "            VALUE  OPR_INTERVAL\n",
       "OPR_HR                         \n",
       "1       26.688654      6.842105\n",
       "2       25.764593      7.360656\n",
       "3       25.754234      6.807692\n",
       "4       26.420639      6.500000\n",
       "5       27.772707      5.645161\n",
       "6       26.731433      5.173077\n",
       "7       27.453656      5.829787\n",
       "8       24.364289      8.545455\n",
       "9       23.395015      7.760417\n",
       "10      22.310475      7.044248\n",
       "11      23.676362      6.945736\n",
       "12      24.489577      7.236364\n",
       "13      21.870882      6.550000\n",
       "14      22.280540      6.876923\n",
       "15      22.343780      5.846154\n",
       "16      24.107029      4.968750\n",
       "17      25.274966      3.687500\n",
       "18      27.530182      4.307692\n",
       "19      29.274874      6.812500\n",
       "20      27.749173      7.956522\n",
       "21      29.003138      9.176471\n",
       "22      27.698730      8.551724\n",
       "23      27.394354      7.897959\n",
       "24      26.428495      7.338983\n",
       "25      29.772515     10.000000"
      ]
     },
     "execution_count": 52,
     "metadata": {},
     "output_type": "execute_result"
    }
   ],
   "source": [
    "low_prices.groupby('OPR_HR').mean()\n",
    "# The lowest average prices are from 9am to 4pm, which is when Solar is strongest."
   ]
  },
  {
   "cell_type": "code",
   "execution_count": null,
   "metadata": {},
   "outputs": [],
   "source": []
  },
  {
   "cell_type": "code",
   "execution_count": 51,
   "metadata": {},
   "outputs": [
    {
     "data": {
      "text/plain": [
       "<matplotlib.axes._subplots.AxesSubplot at 0x242cef4a048>"
      ]
     },
     "execution_count": 51,
     "metadata": {},
     "output_type": "execute_result"
    },
    {
     "data": {
      "image/png": "[encoded data removed]",
      "text/plain": [
       "<Figure size 432x288 with 1 Axes>"
      ]
     },
     "metadata": {
      "needs_background": "light"
     },
     "output_type": "display_data"
    }
   ],
   "source": [
    "low_prices.VALUE.plot(kind='hist', bins=30)  # No showfliers= False !!"
   ]
  },
  {
   "cell_type": "code",
   "execution_count": 50,
   "metadata": {},
   "outputs": [
    {
     "data": {
      "text/plain": [
       "<matplotlib.axes._subplots.AxesSubplot at 0x242cec46eb8>"
      ]
     },
     "execution_count": 50,
     "metadata": {},
     "output_type": "execute_result"
    },
    {
     "data": {
      "image/png": "[encoded data removed]",
      "text/plain": [
       "<Figure size 432x288 with 1 Axes>"
      ]
     },
     "metadata": {
      "needs_background": "light"
     },
     "output_type": "display_data"
    }
   ],
   "source": [
    "low_prices.VALUE.plot(kind='hist', bins=30, cumulative= True)\n",
    "# Two hours per day average for a Level One EV charger is 24 intervals x 30 days = 720: THRESHOLD must be increased!!!\n",
    "# Add a horizontal red line at 720 !!\n",
    "# Define a function that computes the average price (eg still below 2 cents?)"
   ]
  },
  {
   "cell_type": "code",
   "execution_count": null,
   "metadata": {},
   "outputs": [],
   "source": []
  },
  {
   "cell_type": "code",
   "execution_count": null,
   "metadata": {},
   "outputs": [],
   "source": [
    "# BIG QUESTION: EACH DAY FIND THE HIGHEST 100 PRICES AND THEN THE LOWEST 100 PRICES VIA SORT. \n",
    "# THEN SUBTRACT THE LOWEST FROM THE HIGHEST, AND SEE IF > $0.25. KEEP GOING UNTIL THIS THRESHOLD IS HIT! \n",
    "# SO CHARGE AT WORK FROM 9 TO 10AM AND USE AT HOME TO RUN AC IN PEAK HOURS!!!"
   ]
  },
  {
   "cell_type": "code",
   "execution_count": null,
   "metadata": {},
   "outputs": [],
   "source": []
  },
  {
   "cell_type": "code",
   "execution_count": null,
   "metadata": {},
   "outputs": [],
   "source": []
  },
  {
   "cell_type": "code",
   "execution_count": null,
   "metadata": {},
   "outputs": [],
   "source": []
  },
  {
   "cell_type": "code",
   "execution_count": null,
   "metadata": {},
   "outputs": [],
   "source": []
  }
 ],
 "metadata": {
  "kernelspec": {
   "display_name": "Python 3",
   "language": "python",
   "name": "python3"
  },
  "language_info": {
   "codemirror_mode": {
    "name": "ipython",
    "version": 3
   },
   "file_extension": ".py",
   "mimetype": "text/x-python",
   "name": "python",
   "nbconvert_exporter": "python",
   "pygments_lexer": "ipython3",
   "version": "3.7.0"
  }
 },
 "nbformat": 4,
 "nbformat_minor": 2
}
