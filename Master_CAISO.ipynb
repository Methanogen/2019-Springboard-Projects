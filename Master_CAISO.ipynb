{
 "cells": [
  {
   "cell_type": "code",
   "execution_count": 1,
   "metadata": {},
   "outputs": [
    {
     "name": "stdout",
     "output_type": "stream",
     "text": [
      "/Users/dww/Desktop/CAISO Monthly Prices\n"
     ]
    }
   ],
   "source": [
    "import os\n",
    "print(os.getcwd())"
   ]
  },
  {
   "cell_type": "code",
   "execution_count": 5,
   "metadata": {},
   "outputs": [],
   "source": [
    "import numpy as np\n",
    "import pandas as pd\n",
    "import urllib\n",
    "import re\n",
    "from datetime import datetime\n",
    "import matplotlib.pyplot as plt\n",
    "import seaborn as sns\n",
    "import statsmodels.api as sm             # these two imports as used in Boston Housing mini-project\n",
    "from statsmodels.formula.api import ols\n",
    "# import statsmodel.formula.spi as smf"
   ]
  },
  {
   "cell_type": "markdown",
   "metadata": {},
   "source": [
    "# A QUICK HISTORICAL LOOK AT THE HOURS WITH THE LOWEST PRICES "
   ]
  },
  {
   "cell_type": "markdown",
   "metadata": {},
   "source": [
    "# Import CAISO Hourly DAM Prices: Completed Six Months Analysis\n"
   ]
  },
  {
   "cell_type": "code",
   "execution_count": 26,
   "metadata": {},
   "outputs": [
    {
     "name": "stdout",
     "output_type": "stream",
     "text": [
      "<class 'pandas.core.frame.DataFrame'>\n",
      "DatetimeIndex: 4343 entries, 2018-01-01 23:00:00 to 2018-06-30 12:00:00\n",
      "Data columns (total 5 columns):\n",
      "hour       4343 non-null int64\n",
      "price      4343 non-null float64\n",
      "day        4343 non-null datetime64[ns]\n",
      "weekday    4343 non-null object\n",
      "month      4343 non-null int64\n",
      "dtypes: datetime64[ns](1), float64(1), int64(2), object(1)\n",
      "memory usage: 203.6+ KB\n"
     ]
    },
    {
     "name": "stderr",
     "output_type": "stream",
     "text": [
      "/anaconda3/lib/python3.7/site-packages/ipykernel_launcher.py:11: SettingWithCopyWarning: \n",
      "A value is trying to be set on a copy of a slice from a DataFrame.\n",
      "Try using .loc[row_indexer,col_indexer] = value instead\n",
      "\n",
      "See the caveats in the documentation: http://pandas.pydata.org/pandas-docs/stable/indexing.html#indexing-view-versus-copy\n",
      "  # This is added back by InteractiveShellApp.init_path()\n"
     ]
    },
    {
     "data": {
      "text/html": [
       "<div>\n",
       "<style scoped>\n",
       "    .dataframe tbody tr th:only-of-type {\n",
       "        vertical-align: middle;\n",
       "    }\n",
       "\n",
       "    .dataframe tbody tr th {\n",
       "        vertical-align: top;\n",
       "    }\n",
       "\n",
       "    .dataframe thead th {\n",
       "        text-align: right;\n",
       "    }\n",
       "</style>\n",
       "<table border=\"1\" class=\"dataframe\">\n",
       "  <thead>\n",
       "    <tr style=\"text-align: right;\">\n",
       "      <th></th>\n",
       "      <th>hour</th>\n",
       "      <th>price</th>\n",
       "      <th>day</th>\n",
       "      <th>weekday</th>\n",
       "      <th>month</th>\n",
       "    </tr>\n",
       "    <tr>\n",
       "      <th>date</th>\n",
       "      <th></th>\n",
       "      <th></th>\n",
       "      <th></th>\n",
       "      <th></th>\n",
       "      <th></th>\n",
       "    </tr>\n",
       "  </thead>\n",
       "  <tbody>\n",
       "    <tr>\n",
       "      <th>2018-06-30 20:00:00</th>\n",
       "      <td>14</td>\n",
       "      <td>30.77381</td>\n",
       "      <td>2018-06-30</td>\n",
       "      <td>Saturday</td>\n",
       "      <td>6</td>\n",
       "    </tr>\n",
       "    <tr>\n",
       "      <th>2018-06-30 13:00:00</th>\n",
       "      <td>7</td>\n",
       "      <td>26.89662</td>\n",
       "      <td>2018-06-30</td>\n",
       "      <td>Saturday</td>\n",
       "      <td>6</td>\n",
       "    </tr>\n",
       "    <tr>\n",
       "      <th>2018-07-01 03:00:00</th>\n",
       "      <td>21</td>\n",
       "      <td>50.77052</td>\n",
       "      <td>2018-06-30</td>\n",
       "      <td>Saturday</td>\n",
       "      <td>6</td>\n",
       "    </tr>\n",
       "    <tr>\n",
       "      <th>2018-06-30 18:00:00</th>\n",
       "      <td>12</td>\n",
       "      <td>25.32498</td>\n",
       "      <td>2018-06-30</td>\n",
       "      <td>Saturday</td>\n",
       "      <td>6</td>\n",
       "    </tr>\n",
       "    <tr>\n",
       "      <th>2018-06-30 12:00:00</th>\n",
       "      <td>6</td>\n",
       "      <td>36.75014</td>\n",
       "      <td>2018-06-30</td>\n",
       "      <td>Saturday</td>\n",
       "      <td>6</td>\n",
       "    </tr>\n",
       "  </tbody>\n",
       "</table>\n",
       "</div>"
      ],
      "text/plain": [
       "                     hour     price        day   weekday  month\n",
       "date                                                           \n",
       "2018-06-30 20:00:00    14  30.77381 2018-06-30  Saturday      6\n",
       "2018-06-30 13:00:00     7  26.89662 2018-06-30  Saturday      6\n",
       "2018-07-01 03:00:00    21  50.77052 2018-06-30  Saturday      6\n",
       "2018-06-30 18:00:00    12  25.32498 2018-06-30  Saturday      6\n",
       "2018-06-30 12:00:00     6  36.75014 2018-06-30  Saturday      6"
      ]
     },
     "execution_count": 26,
     "metadata": {},
     "output_type": "execute_result"
    }
   ],
   "source": [
    "files= ['DAM_Jan_2018.csv','DAM_Feb_2018.csv', 'DAM_March_2018.csv','DAM_April_2018.csv','DAM_May_2018.csv','DAM_June_2018.csv']\n",
    "# files= ['DAM_July_2018.csv','DAM_Aug_2018.csv','DAM_Sept_2018.csv','DAM_Oct_2018.csv','DAM_Nov_2018.csv','DAM_Dec_2018.csv']\n",
    "\n",
    "frames= [ pd.read_csv(file, header= 0, usecols= [0,2,3,9,14],parse_dates= True, index_col= 'INTERVALSTARTTIME_GMT')\n",
    "         for file in files]\n",
    "df1= pd.concat(frames)\n",
    "dfp= df1[df1['LMP_TYPE'] == 'LMP'] # drops the other four price components and reduces data rows by 80%\n",
    "dfp['date']= pd.to_datetime(dfp['OPR_DT']) #needed for plotting after the groupby SPECIFY FORMAT!!\n",
    "dfp= dfp.drop(['OPR_DT','LMP_TYPE'],axis=1)\n",
    "dfp.columns= ['hour','price','day']\n",
    "dfp['weekday']= dfp.day.dt.weekday_name\n",
    "dfp['month']= dfp.day.dt.month #new code\n",
    "dfp.index.names= ['date']\n",
    "# dfp.index= dfp.index.drop_duplicates(keep='first')  \n",
    "# dfp = dfp.sort_values(dfp.index) UNABLE TO SORT DUE TO DUPLICATES, BUT UNABLE TO REMOVE DUPLICATES W CODE ABOVE\n",
    "dfp.info()  # WE HAVE 4343 OBSERVATIONS (AS HOURS), but the scraped data has 4344 hours: MAKE SURE NOT OFF BY AN HOUR!!\n",
    "dfp.head()\n",
    "dfp.tail()  # dfp is dataframe for Prices"
   ]
  },
  {
   "cell_type": "code",
   "execution_count": 27,
   "metadata": {},
   "outputs": [
    {
     "name": "stdout",
     "output_type": "stream",
     "text": [
      "<class 'numpy.ndarray'>\n",
      "181\n",
      "[12  3  3 11 11 13 12  3  3 13 12 12 12 12  3  3 12 12 13 12 12 14 12 12\n",
      " 12 13 13 12 12 12 12 12 12 12 12 12 12 10 12 14 13 13 13 14 14 12 14 13\n",
      " 12 13 13 13 12 14 13 13 13 13 13 13 14 14 13 13 11 13 12 12  3  2 12  3\n",
      " 13 15 15 14 13 13  3  3  3 15 14 14 13 12 12 12 11 12 14 12 11 12 14 13\n",
      " 14 12 10 12 13 14 12 13 14 14 14 15 12 12 10 10  3  2  2 14 16 14 11 14\n",
      "  2  2  2 10  8 10  3  3 10 11 12 11 12  3 15 13 15  9  9 12  2  2  3 14\n",
      " 15 14  9  8  3 16 16 12  8  8  9  9  3 12  3  9  8  2  3  3  3  9 14 14\n",
      "  2  9  8  8  8  7  8  8  8  8  8  8  8]\n"
     ]
    }
   ],
   "source": [
    "# first drop excess variables\n",
    "df_pvt= dfp.drop(columns= dfp[['weekday','month']], axis=1)\n",
    "df_pvt= dfp.pivot('day','hour','price') \n",
    "# NB Some Nan in the last row (gives rise to the sole value of Hour 17 below??\n",
    "M= df_pvt.values  #argmin in NOT a Pandas method, so first we make a matrix, M.\n",
    "lowest_hours= M.argmin(axis=1)\n",
    "print(type(lowest_hours)) # numpy.ndarray\n",
    "print(len(lowest_hours)) # 181 (so Nan's did indeed effect the last day)\n",
    "print(lowest_hours)\n"
   ]
  },
  {
   "cell_type": "code",
   "execution_count": null,
   "metadata": {},
   "outputs": [],
   "source": [
    "# This is for H2\n",
    "# Something weird here: lowest hour is 24 everythime, which is not correct!!!\n",
    "plt.hist(lowest_hours, bins= np.arange(1,24,1) - 0.5,density= True)\n",
    "plt.title('Histogram of the Hour with the Lowest CAISO Price for the period 2018:H1' )\n",
    "plt.xlabel('Hour of the Day')\n",
    "plt.ylabel('Probability')\n",
    "plt.xticks= range(1,25)\n",
    "plt.show()\n",
    "# IMPROVE THIS W CALTECH CODE FOR EXACT SPECIFICATION OF BINS/bin edges (DWW TRY 17, SINCE NONE > 17)\n",
    "# ALSO PRINT THE COUNT FOR EACH HOUR!"
   ]
  },
  {
   "cell_type": "code",
   "execution_count": 9,
   "metadata": {},
   "outputs": [
    {
     "data": {
      "image/png": "[encoded data removed]",
      "text/plain": [
       "<Figure size 432x288 with 1 Axes>"
      ]
     },
     "metadata": {
      "needs_background": "light"
     },
     "output_type": "display_data"
    }
   ],
   "source": [
    "# This is for H1\n",
    "plt.hist(lowest_hours, bins= np.arange(1,24,1) - 0.5,density= True)\n",
    "plt.title('Histogram of the Hour with the Lowest CAISO Price for the period 2018:H1' )\n",
    "plt.xlabel('Hour of the Day')\n",
    "plt.ylabel('Probability')\n",
    "plt.xticks= range(1,25)\n",
    "plt.show()\n",
    "# IMPROVE THIS W CALTECH CODE FOR EXACT SPECIFICATION OF BINS/bin edges (DWW TRY 17, SINCE NONE > 17)\n",
    "# ALSO PRINT THE COUNT FOR EACH HOUR!"
   ]
  },
  {
   "cell_type": "markdown",
   "metadata": {},
   "source": [
    "# Commentary\n",
    "For this six month period, the lowest prices occured at night only in hours '2' & '3'.\n",
    "So from a Classification viewpoint, a simple model with dummy variables for the respective hours would have performed with 100% accuracy.\n",
    "We should extend the time period to at least a full year, and ideally several years.\n",
    "The formatting is still not quite right:\n",
    "see https://stackoverflow.com/questions/27083051/matplotlib-xticks-not-lining-up-with-histogram\n",
    "\n"
   ]
  },
  {
   "cell_type": "markdown",
   "metadata": {},
   "source": [
    "# Repeat with streamlined \"Production Code\" for H2 of 2018"
   ]
  },
  {
   "cell_type": "markdown",
   "metadata": {},
   "source": [
    "# Test exploration to understand why the index position 24 is returned ( = 11pm, so clearly wrong)"
   ]
  },
  {
   "cell_type": "code",
   "execution_count": 48,
   "metadata": {},
   "outputs": [
    {
     "data": {
      "text/html": [
       "<div>\n",
       "<style scoped>\n",
       "    .dataframe tbody tr th:only-of-type {\n",
       "        vertical-align: middle;\n",
       "    }\n",
       "\n",
       "    .dataframe tbody tr th {\n",
       "        vertical-align: top;\n",
       "    }\n",
       "\n",
       "    .dataframe thead th {\n",
       "        text-align: right;\n",
       "    }\n",
       "</style>\n",
       "<table border=\"1\" class=\"dataframe\">\n",
       "  <thead>\n",
       "    <tr style=\"text-align: right;\">\n",
       "      <th></th>\n",
       "      <th>OPR_DT</th>\n",
       "      <th>OPR_HR</th>\n",
       "      <th>LMP_TYPE</th>\n",
       "      <th>MW</th>\n",
       "    </tr>\n",
       "    <tr>\n",
       "      <th>INTERVALSTARTTIME_GMT</th>\n",
       "      <th></th>\n",
       "      <th></th>\n",
       "      <th></th>\n",
       "      <th></th>\n",
       "    </tr>\n",
       "  </thead>\n",
       "  <tbody>\n",
       "    <tr>\n",
       "      <th>2018-01-01 23:00:00</th>\n",
       "      <td>1/1/2018</td>\n",
       "      <td>16</td>\n",
       "      <td>LMP</td>\n",
       "      <td>32.19651</td>\n",
       "    </tr>\n",
       "    <tr>\n",
       "      <th>2018-01-02 00:00:00</th>\n",
       "      <td>1/1/2018</td>\n",
       "      <td>17</td>\n",
       "      <td>LMP</td>\n",
       "      <td>38.04513</td>\n",
       "    </tr>\n",
       "    <tr>\n",
       "      <th>2018-01-02 07:00:00</th>\n",
       "      <td>1/1/2018</td>\n",
       "      <td>24</td>\n",
       "      <td>LMP</td>\n",
       "      <td>34.87104</td>\n",
       "    </tr>\n",
       "  </tbody>\n",
       "</table>\n",
       "</div>"
      ],
      "text/plain": [
       "                         OPR_DT  OPR_HR LMP_TYPE        MW\n",
       "INTERVALSTARTTIME_GMT                                     \n",
       "2018-01-01 23:00:00    1/1/2018      16      LMP  32.19651\n",
       "2018-01-02 00:00:00    1/1/2018      17      LMP  38.04513\n",
       "2018-01-02 07:00:00    1/1/2018      24      LMP  34.87104"
      ]
     },
     "execution_count": 48,
     "metadata": {},
     "output_type": "execute_result"
    }
   ],
   "source": [
    "# Debugging exercise w test to understand why OPR_DT is missing at end (subject of the error message)\n",
    "test= pd.read_csv('DAM_Jan_2018.csv', header= 0, usecols= [0,2,3,9,14],parse_dates= True, index_col= 'INTERVALSTARTTIME_GMT')\n",
    "test= test[test['LMP_TYPE'] == 'LMP'] # drops the other four price components and reduces data rows by 80%\n",
    "test.head(3)"
   ]
  },
  {
   "cell_type": "code",
   "execution_count": 49,
   "metadata": {
    "scrolled": true
   },
   "outputs": [
    {
     "data": {
      "text/html": [
       "<div>\n",
       "<style scoped>\n",
       "    .dataframe tbody tr th:only-of-type {\n",
       "        vertical-align: middle;\n",
       "    }\n",
       "\n",
       "    .dataframe tbody tr th {\n",
       "        vertical-align: top;\n",
       "    }\n",
       "\n",
       "    .dataframe thead th {\n",
       "        text-align: right;\n",
       "    }\n",
       "</style>\n",
       "<table border=\"1\" class=\"dataframe\">\n",
       "  <thead>\n",
       "    <tr style=\"text-align: right;\">\n",
       "      <th></th>\n",
       "      <th>OPR_DT</th>\n",
       "      <th>OPR_HR</th>\n",
       "      <th>LMP_TYPE</th>\n",
       "      <th>MW</th>\n",
       "      <th>date</th>\n",
       "    </tr>\n",
       "    <tr>\n",
       "      <th>INTERVALSTARTTIME_GMT</th>\n",
       "      <th></th>\n",
       "      <th></th>\n",
       "      <th></th>\n",
       "      <th></th>\n",
       "      <th></th>\n",
       "    </tr>\n",
       "  </thead>\n",
       "  <tbody>\n",
       "    <tr>\n",
       "      <th>2018-01-01 23:00:00</th>\n",
       "      <td>1/1/2018</td>\n",
       "      <td>16</td>\n",
       "      <td>LMP</td>\n",
       "      <td>32.19651</td>\n",
       "      <td>2018-01-01</td>\n",
       "    </tr>\n",
       "    <tr>\n",
       "      <th>2018-01-02 00:00:00</th>\n",
       "      <td>1/1/2018</td>\n",
       "      <td>17</td>\n",
       "      <td>LMP</td>\n",
       "      <td>38.04513</td>\n",
       "      <td>2018-01-01</td>\n",
       "    </tr>\n",
       "    <tr>\n",
       "      <th>2018-01-02 07:00:00</th>\n",
       "      <td>1/1/2018</td>\n",
       "      <td>24</td>\n",
       "      <td>LMP</td>\n",
       "      <td>34.87104</td>\n",
       "      <td>2018-01-01</td>\n",
       "    </tr>\n",
       "  </tbody>\n",
       "</table>\n",
       "</div>"
      ],
      "text/plain": [
       "                         OPR_DT  OPR_HR LMP_TYPE        MW       date\n",
       "INTERVALSTARTTIME_GMT                                                \n",
       "2018-01-01 23:00:00    1/1/2018      16      LMP  32.19651 2018-01-01\n",
       "2018-01-02 00:00:00    1/1/2018      17      LMP  38.04513 2018-01-01\n",
       "2018-01-02 07:00:00    1/1/2018      24      LMP  34.87104 2018-01-01"
      ]
     },
     "execution_count": 49,
     "metadata": {},
     "output_type": "execute_result"
    }
   ],
   "source": [
    "test['date']= pd.to_datetime(test['OPR_DT']) #needed for plotting after the groupby SPECIFY FORMAT!!\n",
    "test.head(3)"
   ]
  },
  {
   "cell_type": "code",
   "execution_count": 50,
   "metadata": {},
   "outputs": [
    {
     "name": "stdout",
     "output_type": "stream",
     "text": [
      "(744, 3)\n"
     ]
    },
    {
     "data": {
      "text/html": [
       "<div>\n",
       "<style scoped>\n",
       "    .dataframe tbody tr th:only-of-type {\n",
       "        vertical-align: middle;\n",
       "    }\n",
       "\n",
       "    .dataframe tbody tr th {\n",
       "        vertical-align: top;\n",
       "    }\n",
       "\n",
       "    .dataframe thead th {\n",
       "        text-align: right;\n",
       "    }\n",
       "</style>\n",
       "<table border=\"1\" class=\"dataframe\">\n",
       "  <thead>\n",
       "    <tr style=\"text-align: right;\">\n",
       "      <th></th>\n",
       "      <th>hour</th>\n",
       "      <th>price</th>\n",
       "      <th>day</th>\n",
       "    </tr>\n",
       "    <tr>\n",
       "      <th>INTERVALSTARTTIME_GMT</th>\n",
       "      <th></th>\n",
       "      <th></th>\n",
       "      <th></th>\n",
       "    </tr>\n",
       "  </thead>\n",
       "  <tbody>\n",
       "    <tr>\n",
       "      <th>2018-01-01 23:00:00</th>\n",
       "      <td>16</td>\n",
       "      <td>32.19651</td>\n",
       "      <td>2018-01-01</td>\n",
       "    </tr>\n",
       "    <tr>\n",
       "      <th>2018-01-02 00:00:00</th>\n",
       "      <td>17</td>\n",
       "      <td>38.04513</td>\n",
       "      <td>2018-01-01</td>\n",
       "    </tr>\n",
       "    <tr>\n",
       "      <th>2018-01-02 07:00:00</th>\n",
       "      <td>24</td>\n",
       "      <td>34.87104</td>\n",
       "      <td>2018-01-01</td>\n",
       "    </tr>\n",
       "  </tbody>\n",
       "</table>\n",
       "</div>"
      ],
      "text/plain": [
       "                       hour     price        day\n",
       "INTERVALSTARTTIME_GMT                           \n",
       "2018-01-01 23:00:00      16  32.19651 2018-01-01\n",
       "2018-01-02 00:00:00      17  38.04513 2018-01-01\n",
       "2018-01-02 07:00:00      24  34.87104 2018-01-01"
      ]
     },
     "execution_count": 50,
     "metadata": {},
     "output_type": "execute_result"
    }
   ],
   "source": [
    "test= test.drop(['OPR_DT','LMP_TYPE'],axis=1)\n",
    "test.columns= ['hour','price','day']\n",
    "print(test.shape) # 744 hours in the 31 day month\n",
    "test.head(3)"
   ]
  },
  {
   "cell_type": "code",
   "execution_count": 51,
   "metadata": {},
   "outputs": [
    {
     "name": "stdout",
     "output_type": "stream",
     "text": [
      "(31, 24)\n"
     ]
    },
    {
     "data": {
      "text/html": [
       "<div>\n",
       "<style scoped>\n",
       "    .dataframe tbody tr th:only-of-type {\n",
       "        vertical-align: middle;\n",
       "    }\n",
       "\n",
       "    .dataframe tbody tr th {\n",
       "        vertical-align: top;\n",
       "    }\n",
       "\n",
       "    .dataframe thead th {\n",
       "        text-align: right;\n",
       "    }\n",
       "</style>\n",
       "<table border=\"1\" class=\"dataframe\">\n",
       "  <thead>\n",
       "    <tr style=\"text-align: right;\">\n",
       "      <th>hour</th>\n",
       "      <th>1</th>\n",
       "      <th>2</th>\n",
       "      <th>3</th>\n",
       "      <th>4</th>\n",
       "      <th>5</th>\n",
       "      <th>6</th>\n",
       "      <th>7</th>\n",
       "      <th>8</th>\n",
       "      <th>9</th>\n",
       "      <th>10</th>\n",
       "      <th>...</th>\n",
       "      <th>15</th>\n",
       "      <th>16</th>\n",
       "      <th>17</th>\n",
       "      <th>18</th>\n",
       "      <th>19</th>\n",
       "      <th>20</th>\n",
       "      <th>21</th>\n",
       "      <th>22</th>\n",
       "      <th>23</th>\n",
       "      <th>24</th>\n",
       "    </tr>\n",
       "    <tr>\n",
       "      <th>day</th>\n",
       "      <th></th>\n",
       "      <th></th>\n",
       "      <th></th>\n",
       "      <th></th>\n",
       "      <th></th>\n",
       "      <th></th>\n",
       "      <th></th>\n",
       "      <th></th>\n",
       "      <th></th>\n",
       "      <th></th>\n",
       "      <th></th>\n",
       "      <th></th>\n",
       "      <th></th>\n",
       "      <th></th>\n",
       "      <th></th>\n",
       "      <th></th>\n",
       "      <th></th>\n",
       "      <th></th>\n",
       "      <th></th>\n",
       "      <th></th>\n",
       "      <th></th>\n",
       "    </tr>\n",
       "  </thead>\n",
       "  <tbody>\n",
       "    <tr>\n",
       "      <th>2018-01-01</th>\n",
       "      <td>36.45428</td>\n",
       "      <td>34.76417</td>\n",
       "      <td>32.85036</td>\n",
       "      <td>31.64637</td>\n",
       "      <td>31.80000</td>\n",
       "      <td>33.24404</td>\n",
       "      <td>34.81122</td>\n",
       "      <td>34.33961</td>\n",
       "      <td>30.96026</td>\n",
       "      <td>26.84358</td>\n",
       "      <td>...</td>\n",
       "      <td>27.09790</td>\n",
       "      <td>32.19651</td>\n",
       "      <td>38.04513</td>\n",
       "      <td>50.17707</td>\n",
       "      <td>48.37496</td>\n",
       "      <td>50.48109</td>\n",
       "      <td>42.73274</td>\n",
       "      <td>39.75889</td>\n",
       "      <td>37.50306</td>\n",
       "      <td>34.87104</td>\n",
       "    </tr>\n",
       "    <tr>\n",
       "      <th>2018-01-02</th>\n",
       "      <td>35.25316</td>\n",
       "      <td>34.23951</td>\n",
       "      <td>33.45005</td>\n",
       "      <td>32.53616</td>\n",
       "      <td>34.18892</td>\n",
       "      <td>35.83031</td>\n",
       "      <td>42.60170</td>\n",
       "      <td>48.40524</td>\n",
       "      <td>37.88447</td>\n",
       "      <td>35.05042</td>\n",
       "      <td>...</td>\n",
       "      <td>34.77122</td>\n",
       "      <td>38.17153</td>\n",
       "      <td>42.65265</td>\n",
       "      <td>60.09228</td>\n",
       "      <td>57.71924</td>\n",
       "      <td>48.04210</td>\n",
       "      <td>42.44339</td>\n",
       "      <td>40.88191</td>\n",
       "      <td>38.17870</td>\n",
       "      <td>35.36900</td>\n",
       "    </tr>\n",
       "  </tbody>\n",
       "</table>\n",
       "<p>2 rows × 24 columns</p>\n",
       "</div>"
      ],
      "text/plain": [
       "hour              1         2         3         4         5         6   \\\n",
       "day                                                                      \n",
       "2018-01-01  36.45428  34.76417  32.85036  31.64637  31.80000  33.24404   \n",
       "2018-01-02  35.25316  34.23951  33.45005  32.53616  34.18892  35.83031   \n",
       "\n",
       "hour              7         8         9         10    ...           15  \\\n",
       "day                                                   ...                \n",
       "2018-01-01  34.81122  34.33961  30.96026  26.84358    ...     27.09790   \n",
       "2018-01-02  42.60170  48.40524  37.88447  35.05042    ...     34.77122   \n",
       "\n",
       "hour              16        17        18        19        20        21  \\\n",
       "day                                                                      \n",
       "2018-01-01  32.19651  38.04513  50.17707  48.37496  50.48109  42.73274   \n",
       "2018-01-02  38.17153  42.65265  60.09228  57.71924  48.04210  42.44339   \n",
       "\n",
       "hour              22        23        24  \n",
       "day                                       \n",
       "2018-01-01  39.75889  37.50306  34.87104  \n",
       "2018-01-02  40.88191  38.17870  35.36900  \n",
       "\n",
       "[2 rows x 24 columns]"
      ]
     },
     "execution_count": 51,
     "metadata": {},
     "output_type": "execute_result"
    }
   ],
   "source": [
    "test.index.names= ['date']\n",
    "test= test.pivot('day','hour','price') \n",
    "print(test.shape) # correct with 31 days and 24 hours\n",
    "test.head(2)"
   ]
  },
  {
   "cell_type": "code",
   "execution_count": 55,
   "metadata": {
    "collapsed": true
   },
   "outputs": [
    {
     "name": "stdout",
     "output_type": "stream",
     "text": [
      "(31, 24)\n"
     ]
    },
    {
     "data": {
      "text/plain": [
       "array([[36.45428, 34.76417, 32.85036, 31.64637, 31.8    , 33.24404,\n",
       "        34.81122, 34.33961, 30.96026, 26.84358, 25.38283, 24.4526 ,\n",
       "        23.48375, 24.51279, 27.0979 , 32.19651, 38.04513, 50.17707,\n",
       "        48.37496, 50.48109, 42.73274, 39.75889, 37.50306, 34.87104],\n",
       "       [35.25316, 34.23951, 33.45005, 32.53616, 34.18892, 35.83031,\n",
       "        42.6017 , 48.40524, 37.88447, 35.05042, 33.5341 , 32.77109,\n",
       "        32.77824, 34.2741 , 34.77122, 38.17153, 42.65265, 60.09228,\n",
       "        57.71924, 48.0421 , 42.44339, 40.88191, 38.1787 , 35.369  ],\n",
       "       [34.5062 , 33.87262, 32.43262, 32.31281, 33.78951, 38.87051,\n",
       "        45.92812, 46.0098 , 38.9598 , 35.84547, 33.91426, 33.36702,\n",
       "        33.00859, 35.28265, 36.25675, 38.2434 , 47.27651, 70.19563,\n",
       "        57.05297, 52.15927, 50.36635, 43.90656, 44.75887, 38.99024],\n",
       "       [36.55159, 34.43866, 33.76492, 33.0407 , 35.15533, 40.12334,\n",
       "        51.95137, 46.36478, 36.58994, 32.72247, 30.17027, 29.77306,\n",
       "        29.85782, 30.12218, 30.90647, 35.81945, 46.66195, 66.42245,\n",
       "        62.33478, 50.11669, 44.55393, 42.06302, 43.40983, 38.90769],\n",
       "       [30.08689, 29.12219, 29.08623, 29.07425, 29.14017, 33.44463,\n",
       "        41.3227 , 43.29131, 35.50686, 29.56817, 27.99188, 27.59002,\n",
       "        27.96068, 28.92823, 31.25   , 35.1821 , 41.82337, 44.33911,\n",
       "        50.55624, 43.99209, 41.9602 , 37.22916, 35.07697, 32.90385],\n",
       "       [29.77196, 29.58209, 28.69377, 28.58203, 28.35582, 28.77227,\n",
       "        30.26594, 30.81766, 30.06255, 29.29271, 27.92312, 25.33216,\n",
       "        24.57717, 23.5998 , 25.63896, 29.04562, 33.54987, 47.02409,\n",
       "        38.48688, 38.4999 , 35.78549, 33.46032, 29.61107, 29.36895],\n",
       "       [29.61913, 28.40764, 28.40458, 28.41291, 29.68232, 29.57373,\n",
       "        30.10475, 29.85395, 25.63691, 23.81112, 22.21082, 21.57665,\n",
       "        20.6991 , 21.44791, 22.20967, 28.41224, 33.58675, 41.46268,\n",
       "        46.6    , 40.82301, 36.50484, 33.86553, 32.21118, 29.81373],\n",
       "       [28.76288, 27.68977, 25.58989, 25.47326, 28.8322 , 31.9311 ,\n",
       "        36.18265, 42.79029, 38.81007, 35.88935, 33.60195, 34.07119,\n",
       "        33.32054, 32.54145, 33.69929, 35.96221, 37.5027 , 48.32088,\n",
       "        41.77934, 39.85777, 38.35125, 34.42875, 31.49217, 30.65741],\n",
       "       [28.29   , 27.06821, 25.8585 , 25.85261, 27.79581, 30.43291,\n",
       "        36.99202, 41.61256, 35.73578, 32.72173, 31.24437, 29.83277,\n",
       "        29.59794, 29.40632, 29.29771, 30.57625, 35.79986, 45.10219,\n",
       "        42.30451, 40.77976, 37.53579, 33.31833, 31.98884, 28.92216],\n",
       "       [22.94313, 21.61084, 20.43583, 20.4597 , 22.83477, 25.8666 ,\n",
       "        34.4973 , 40.62855, 29.77555, 25.42993, 23.11685, 22.04521,\n",
       "        20.64   , 19.94655, 21.43565, 28.69224, 33.5348 , 42.85071,\n",
       "        46.36723, 43.23583, 43.66982, 35.36113, 32.99645, 29.2068 ],\n",
       "       [24.76594, 22.69006, 21.95065, 22.1441 , 23.20552, 29.5522 ,\n",
       "        38.09424, 44.38045, 32.85092, 27.95984, 23.90704, 21.25315,\n",
       "        21.09819, 21.76314, 22.37151, 30.067  , 36.44327, 45.16407,\n",
       "        49.51068, 40.62264, 37.05423, 33.38   , 29.0386 , 29.02825],\n",
       "       [28.02493, 25.28816, 24.815  , 24.92718, 25.58862, 29.56784,\n",
       "        41.07291, 46.68173, 36.25042, 29.60811, 28.32075, 26.24437,\n",
       "        23.35176, 23.8649 , 28.39618, 32.4219 , 40.02584, 53.93983,\n",
       "        46.54226, 41.51715, 41.28903, 36.61873, 32.9659 , 30.62733],\n",
       "       [33.38657, 30.96607, 29.5536 , 29.7569 , 29.78192, 30.99731,\n",
       "        34.58286, 33.81103, 28.95953, 23.69263, 21.14989, 20.69538,\n",
       "        19.52201, 20.56335, 21.11604, 29.21985, 36.37135, 50.34348,\n",
       "        48.72065, 46.29226, 43.16786, 37.33432, 33.23333, 31.05807],\n",
       "       [31.28092, 29.83036, 29.25291, 28.9008 , 29.28185, 29.16586,\n",
       "        32.8264 , 30.55941, 28.92801, 24.16547, 22.59152, 21.80761,\n",
       "        20.46602, 20.53942, 23.38608, 29.33964, 35.72688, 49.85001,\n",
       "        53.03144, 48.08982, 42.36576, 35.42505, 32.18507, 30.60335],\n",
       "       [28.32149, 28.21   , 27.91342, 27.56319, 28.87757, 30.17861,\n",
       "        37.72492, 44.24827, 33.9    , 29.60792, 29.4789 , 28.44376,\n",
       "        28.62158, 29.39191, 29.88171, 34.08911, 41.16278, 50.65854,\n",
       "        49.11324, 48.15773, 45.6733 , 36.84403, 33.83869, 31.59125],\n",
       "       [28.77896, 28.83494, 27.87663, 26.47949, 28.44064, 30.73042,\n",
       "        40.04794, 42.60296, 35.63489, 30.90054, 29.26984, 26.6245 ,\n",
       "        26.54356, 26.88217, 28.44111, 32.11306, 38.35572, 47.86522,\n",
       "        47.89411, 44.57476, 43.00171, 37.19484, 33.30378, 31.7191 ],\n",
       "       [29.69043, 29.06098, 28.73303, 28.71503, 29.23569, 34.14   ,\n",
       "        44.26754, 45.76381, 33.30738, 28.77623, 25.13108, 24.11716,\n",
       "        23.1291 , 23.8395 , 24.61345, 32.26088, 37.4053 , 48.55702,\n",
       "        47.09289, 42.33862, 41.46812, 38.82696, 35.56294, 33.87483],\n",
       "       [28.76843, 27.23389, 26.79596, 25.64364, 27.41022, 34.11592,\n",
       "        45.32681, 46.49328, 33.48112, 28.05677, 27.28334, 24.9767 ,\n",
       "        21.63787, 24.68538, 27.29209, 30.38258, 36.12566, 44.26293,\n",
       "        48.11832, 42.84229, 39.74788, 36.81059, 33.17209, 31.20507],\n",
       "       [27.37639, 25.65072, 24.4596 , 24.67053, 26.82421, 30.7412 ,\n",
       "        39.85033, 43.16518, 33.96915, 29.31372, 27.42311, 24.63571,\n",
       "        23.21205, 21.48141, 24.11939, 28.38138, 34.78339, 37.75   ,\n",
       "        42.14762, 37.47572, 37.14707, 35.79202, 34.61375, 29.3144 ],\n",
       "       [28.55547, 26.43825, 25.90648, 25.90307, 26.81819, 29.07715,\n",
       "        33.83306, 34.03944, 26.70345, 21.28582, 11.78686, 15.     ,\n",
       "        11.41829, 12.15574, 15.62557, 20.61776, 31.36113, 37.18141,\n",
       "        43.49698, 38.94792, 37.01451, 36.94828, 33.49384, 32.43965],\n",
       "       [33.60773, 32.12847, 30.66407, 30.90364, 31.71642, 35.48273,\n",
       "        37.35724, 35.86872, 31.15311, 28.37963, 22.86257, 21.66542,\n",
       "        18.6233 , 19.56386, 21.78342, 28.34414, 35.57385, 47.1256 ,\n",
       "        54.08346, 43.63   , 41.13553, 39.06072, 34.19311, 31.22732],\n",
       "       [29.64152, 28.87948, 27.01893, 27.81007, 28.90188, 32.90475,\n",
       "        42.19815, 46.03689, 34.44346, 30.30683, 27.20192, 28.3535 ,\n",
       "        25.54504, 26.14552, 25.40202, 30.14968, 37.02857, 49.55242,\n",
       "        54.34292, 45.42748, 43.65494, 37.39198, 34.26376, 32.99189],\n",
       "       [29.74809, 28.31778, 27.79541, 28.11776, 28.7394 , 35.12036,\n",
       "        51.93387, 47.81277, 33.63728, 26.91079, 24.05774, 21.85146,\n",
       "        21.13192, 21.42626, 23.64492, 29.22248, 36.78752, 52.15981,\n",
       "        55.26165, 45.76376, 44.44   , 38.76019, 34.3135 , 32.11737],\n",
       "       [27.83654, 27.53354, 26.58537, 26.61415, 27.74121, 34.26493,\n",
       "        47.18653, 45.57173, 32.2502 , 25.21631, 22.85429, 20.9048 ,\n",
       "        19.78153, 19.81946, 21.45062, 29.11798, 34.03051, 43.9442 ,\n",
       "        53.3956 , 44.09068, 40.00235, 36.15379, 32.7995 , 30.01193],\n",
       "       [28.43129, 27.51246, 26.85913, 27.14228, 27.9296 , 33.01343,\n",
       "        44.43507, 44.87622, 32.22559, 25.53609, 23.04561, 20.     ,\n",
       "        18.90028, 18.95929, 20.9698 , 27.07198, 34.21572, 49.08289,\n",
       "        44.54558, 42.55549, 39.04205, 35.38392, 32.68335, 28.33926],\n",
       "       [27.92569, 26.62988, 26.30196, 26.53323, 29.0639 , 32.73442,\n",
       "        42.90219, 42.92511, 31.15614, 28.62915, 24.20051, 22.56049,\n",
       "        20.09412, 19.65989, 21.08219, 28.36286, 35.96   , 48.99483,\n",
       "        51.63   , 44.48562, 43.9201 , 41.447  , 35.46835, 32.65221],\n",
       "       [33.32061, 31.6068 , 30.58167, 31.03093, 30.20324, 33.96001,\n",
       "        37.92   , 36.20922, 32.64303, 28.5256 , 20.88225, 19.48664,\n",
       "        16.56901, 15.51119, 15.93546, 21.95265, 33.41102, 43.00067,\n",
       "        42.6054 , 40.51776, 39.44   , 36.44776, 34.34366, 31.31795],\n",
       "       [32.46408, 32.25386, 31.21719, 30.72369, 31.22369, 33.59138,\n",
       "        35.79958, 32.0047 , 28.10466, 17.91801, 15.53048, 14.67469,\n",
       "        11.81075, 12.89469, 15.29655, 22.75336, 35.34639, 46.39269,\n",
       "        47.57766, 41.8627 , 39.22098, 35.74118, 33.93219, 30.18816],\n",
       "       [27.95179, 26.471  , 26.38682, 26.5749 , 28.88564, 33.34343,\n",
       "        42.84469, 41.86251, 30.95463, 26.05801, 26.09388, 24.42029,\n",
       "        22.85487, 23.70499, 26.09336, 28.32642, 36.37847, 49.16   ,\n",
       "        52.58391, 44.38837, 42.38176, 37.42865, 33.36521, 30.02932],\n",
       "       [27.67827, 25.9335 , 25.3899 , 25.42647, 27.96259, 32.73847,\n",
       "        40.8496 , 42.26112, 30.33928, 26.8986 , 26.14517, 24.41933,\n",
       "        23.46248, 24.26687, 26.15213, 28.7122 , 34.53534, 49.02941,\n",
       "        51.78892, 40.4962 , 39.20812, 34.72663, 32.23878, 29.37056],\n",
       "       [27.96739, 27.00274, 26.03706, 25.9595 , 28.50303, 32.2744 ,\n",
       "        40.83122, 40.85938, 29.43588, 23.17344, 21.83359, 21.03129,\n",
       "        19.31407, 20.08057, 20.96624, 25.62565, 34.71841, 46.42981,\n",
       "        45.47707, 41.18527, 39.91948, 36.92465, 32.91822, 30.26462]])"
      ]
     },
     "execution_count": 55,
     "metadata": {},
     "output_type": "execute_result"
    }
   ],
   "source": [
    "M= test.values \n",
    "print(M.shape)\n",
    "M"
   ]
  },
  {
   "cell_type": "code",
   "execution_count": 56,
   "metadata": {},
   "outputs": [
    {
     "name": "stdout",
     "output_type": "stream",
     "text": [
      "31\n"
     ]
    },
    {
     "data": {
      "text/plain": [
       "array([12,  3,  3, 11, 11, 13, 12,  3,  3, 13, 12, 12, 12, 12,  3,  3, 12,\n",
       "       12, 13, 12, 12, 14, 12, 12, 12, 13, 13, 12, 12, 12, 12])"
      ]
     },
     "execution_count": 56,
     "metadata": {},
     "output_type": "execute_result"
    }
   ],
   "source": [
    "lowest_hours= M.argmin(axis=1)\n",
    "print(len(lowest_hours)) # 181 ??, when it should be 31 !!\n",
    "lowest_hours  # this looks correct, BUT NOTE W PYTHON ZERO INDEXING THAT 3 IS IN FACT THE 4TH HOUR !! ETC"
   ]
  },
  {
   "cell_type": "code",
   "execution_count": null,
   "metadata": {},
   "outputs": [],
   "source": []
  },
  {
   "cell_type": "code",
   "execution_count": 59,
   "metadata": {},
   "outputs": [],
   "source": [
    "H1= ['DAM_Jan_2018.csv','DAM_Feb_2018.csv', 'DAM_March_2018.csv','DAM_April_2018.csv','DAM_May_2018.csv','DAM_June_2018.csv']\n",
    "files= ['DAM_July_2018.csv','DAM_Aug_2018.csv','DAM_Sept_2018.csv','DAM_Oct_2018.csv','DAM_Nov_2018.csv',\n",
    "     'DAM_Dec_2018.csv']\n",
    "\n",
    "def get_hours_histogram(files):\n",
    "    '''This function prints a list of each of the day that had the lowest power price for the days covered by the files'''\n",
    "    frames= [ pd.read_csv(file, header= 0, usecols= [0,2,3,9,14],parse_dates= True, index_col= 'INTERVALSTARTTIME_GMT')\n",
    "         for file in files]\n",
    "    df1= pd.concat(frames)\n",
    "    dfp= df1[df1['LMP_TYPE'] == 'LMP'] # drops the other four price components and reduces data rows by 80%\n",
    "    dfp['date']= pd.to_datetime(dfp['OPR_DT']) #needed for plotting after the groupby SPECIFY FORMAT!!\n",
    "    dfp= dfp.drop(['OPR_DT','LMP_TYPE'],axis=1)\n",
    "    dfp.columns= ['hour','price','day']\n",
    "    dfp.index.names= ['date']\n",
    "    df_pvt= dfp.pivot('day','hour','price') \n",
    "    M= df_pvt.values  #argmin in NOT a Pandas method, so first we make a matrix, M.\n",
    "    # VERY ODDLY, RUNS OK FOR H1, BUT FOR THE H2 FILES, EVERY ELEMENT OF M IS EQUAL TO 24!\n",
    "    # return M\n",
    "    lowest_hours= M.argmin(axis=1)\n",
    "    print(lowest_hours)"
   ]
  },
  {
   "cell_type": "code",
   "execution_count": 61,
   "metadata": {},
   "outputs": [
    {
     "name": "stdout",
     "output_type": "stream",
     "text": [
      "[24 24 24 24 24 24 24 24 24 24 24 24 24 24 24 24 24 24 24 24 24 24 24 24\n",
      " 24 24 24 24 24 24 24 24 24 24 24 24 24 24 24 24 24 24 24 24 24 24 24 24\n",
      " 24 24 24 24 24 24 24 24 24 24 24 24 24 24 24 24 24 24 24 24 24 24 24 24\n",
      " 24 24 24 24 24 24 24 24 24 24 24 24 24 24 24 24 24 24 24 24 24 24 24 24\n",
      " 24 24 24 24 24 24 24 24 24 24 24 24 24 24 24 24 24 24 24 24 24 24 24 24\n",
      " 24 24 24 24 24 24 10 24 24 24 24 24 24 24 24 24 24 24 24 24 24 24 24 24\n",
      " 24 24 24 24 24 24 24 24 24 24 24 24 24 24 24 24 24 24 24 24 24 24 24 24\n",
      " 24 24 24 24 24 24 24 24 24 24 24 24 24 24 24 24]\n"
     ]
    },
    {
     "name": "stderr",
     "output_type": "stream",
     "text": [
      "/anaconda3/lib/python3.7/site-packages/ipykernel_launcher.py:11: SettingWithCopyWarning: \n",
      "A value is trying to be set on a copy of a slice from a DataFrame.\n",
      "Try using .loc[row_indexer,col_indexer] = value instead\n",
      "\n",
      "See the caveats in the documentation: http://pandas.pydata.org/pandas-docs/stable/indexing.html#indexing-view-versus-copy\n",
      "  # This is added back by InteractiveShellApp.init_path()\n"
     ]
    }
   ],
   "source": [
    "get_hours_histogram(files)"
   ]
  },
  {
   "cell_type": "code",
   "execution_count": null,
   "metadata": {},
   "outputs": [],
   "source": []
  },
  {
   "cell_type": "code",
   "execution_count": null,
   "metadata": {},
   "outputs": [],
   "source": []
  },
  {
   "cell_type": "code",
   "execution_count": null,
   "metadata": {},
   "outputs": [],
   "source": []
  },
  {
   "cell_type": "code",
   "execution_count": 23,
   "metadata": {},
   "outputs": [
    {
     "name": "stdout",
     "output_type": "stream",
     "text": [
      "[24 24 24 24 24 24 24 24 24 24 24 24 24 24 24 24 24 24 24 24 24 24 24 24\n",
      " 24 24 24 24 24 24 24 24 24 24 24 24 24 24 24 24 24 24 24 24 24 24 24 24\n",
      " 24 24 24 24 24 24 24 24 24 24 24 24 24 24 24 24 24 24 24 24 24 24 24 24\n",
      " 24 24 24 24 24 24 24 24 24 24 24 24 24 24 24 24 24 24 24 24 24 24 24 24\n",
      " 24 24 24 24 24 24 24 24 24 24 24 24 24 24 24 24 24 24 24 24 24 24 24 24\n",
      " 24 24 24 24 24 24 10 24 24 24 24 24 24 24 24 24 24 24 24 24 24 24 24 24\n",
      " 24 24 24 24 24 24 24 24 24 24 24 24 24 24 24 24 24 24 24 24 24 24 24 24\n",
      " 24 24 24 24 24 24 24 24 24 24 24 24 24 24 24 24]\n"
     ]
    },
    {
     "name": "stderr",
     "output_type": "stream",
     "text": [
      "/anaconda3/lib/python3.7/site-packages/ipykernel_launcher.py:11: SettingWithCopyWarning: \n",
      "A value is trying to be set on a copy of a slice from a DataFrame.\n",
      "Try using .loc[row_indexer,col_indexer] = value instead\n",
      "\n",
      "See the caveats in the documentation: http://pandas.pydata.org/pandas-docs/stable/indexing.html#indexing-view-versus-copy\n",
      "  # This is added back by InteractiveShellApp.init_path()\n"
     ]
    }
   ],
   "source": [
    "print(get_hours_histogram(files))"
   ]
  },
  {
   "cell_type": "code",
   "execution_count": 16,
   "metadata": {},
   "outputs": [
    {
     "name": "stderr",
     "output_type": "stream",
     "text": [
      "/anaconda3/lib/python3.7/site-packages/ipykernel_launcher.py:13: SettingWithCopyWarning: \n",
      "A value is trying to be set on a copy of a slice from a DataFrame.\n",
      "Try using .loc[row_indexer,col_indexer] = value instead\n",
      "\n",
      "See the caveats in the documentation: http://pandas.pydata.org/pandas-docs/stable/indexing.html#indexing-view-versus-copy\n",
      "  del sys.path[0]\n"
     ]
    }
   ],
   "source": [
    "files= ['DAM_July_2018.csv','DAM_Aug_2018.csv','DAM_Sept_2018.csv','DAM_Oct_2018.csv','DAM_Nov_2018.csv',\n",
    "     'DAM_Dec_2018.csv']\n",
    "get_hours_histogram(files)"
   ]
  },
  {
   "cell_type": "code",
   "execution_count": 21,
   "metadata": {},
   "outputs": [
    {
     "name": "stderr",
     "output_type": "stream",
     "text": [
      "/anaconda3/lib/python3.7/site-packages/ipykernel_launcher.py:11: SettingWithCopyWarning: \n",
      "A value is trying to be set on a copy of a slice from a DataFrame.\n",
      "Try using .loc[row_indexer,col_indexer] = value instead\n",
      "\n",
      "See the caveats in the documentation: http://pandas.pydata.org/pandas-docs/stable/indexing.html#indexing-view-versus-copy\n",
      "  # This is added back by InteractiveShellApp.init_path()\n"
     ]
    },
    {
     "data": {
      "image/png": "[encoded data removed]",
      "text/plain": [
       "<Figure size 432x288 with 1 Axes>"
      ]
     },
     "metadata": {
      "needs_background": "light"
     },
     "output_type": "display_data"
    }
   ],
   "source": [
    "plt.hist(get_hours_histogram(files), bins= np.arange(1,24,1) - 0.5,density= True)\n",
    "plt.title('Histogram of the Hour with the Lowest CAISO Price for the Subject Period ' )\n",
    "plt.xlabel('Hour of the Day')\n",
    "plt.ylabel('Probability')\n",
    "plt.xticks= range(1,25)\n",
    "plt.show()\n",
    "# IMPROVE THIS W CALTECH CODE FOR EXACT SPECIFICATION OF BINS/bin edges (DWW TRY 17, SINCE NONE > 17)\n",
    "# ALSO PRINT THE COUNT FOR EACH HOUR!"
   ]
  },
  {
   "cell_type": "code",
   "execution_count": null,
   "metadata": {},
   "outputs": [],
   "source": []
  },
  {
   "cell_type": "code",
   "execution_count": null,
   "metadata": {},
   "outputs": [],
   "source": []
  },
  {
   "cell_type": "code",
   "execution_count": null,
   "metadata": {},
   "outputs": [],
   "source": []
  },
  {
   "cell_type": "code",
   "execution_count": null,
   "metadata": {},
   "outputs": [],
   "source": []
  },
  {
   "cell_type": "code",
   "execution_count": null,
   "metadata": {},
   "outputs": [],
   "source": []
  },
  {
   "cell_type": "markdown",
   "metadata": {},
   "source": [
    "# Scraping CAISO Daily Reports for Hourly Generation by Type"
   ]
  },
  {
   "cell_type": "code",
   "execution_count": 2,
   "metadata": {},
   "outputs": [],
   "source": [
    "# scraping the CAISO daily reports for generation by type\n",
    "def read_one_day(date):\n",
    "    link = \"http://content.caiso.com/green/renewrpt/{}_DailyRenewablesWatch.txt\".format(date)\n",
    "    url = urllib.request.urlopen(link)\n",
    "    content = [str(word) for word in url.readlines()] # converting each word of each line to strings\n",
    "\n",
    "    # Note these are static, so may need to be adjusted.  Looks to be the same each day though.\n",
    "    # Could be possible to parse on the fly, but start simple for now\n",
    "    renewable_columns = ['hour', 'geo', 'biom', 'biog', 'shydro', 'wind', 'solarPV', 'sTH']\n",
    "    renewable_data = content[2:26]    \n",
    "    total_columns = ['hour', 'srnwbls','nucl', 'thermal', 'imports', 'lhydro']\n",
    "    total_data = content[30:]    \n",
    "    \n",
    "    parsed_renewable = [parse_array(row) for row in renewable_data] # calling function below w 3 Regular Expression calls\n",
    "    parsed_total = [parse_array(row) for row in total_data] # same\n",
    "    \n",
    "    renewable = pd.DataFrame(parsed_renewable, columns=renewable_columns)\n",
    "    total = pd.DataFrame(parsed_total, columns=total_columns)\n",
    "    \n",
    "    renewable['DATE'] = date\n",
    "    total['DATE'] = date\n",
    "    df= pd.merge(renewable,total,on= 'hour')  # s = pd.Series([\"a\", \"b\", \"c\", \"a\"], dtype=\"category\")//pd.series( ,dtype= 'category') rejected\n",
    "    df.hour= ['00','01','02','03','04','05','06','07','08','09','10','11','12','13','14','15','16','17','18','19','20','21','22','23']\n",
    "    df['DT'] = pd.to_datetime(df['DATE_y'] + ' ' + df['hour'] + ':00:00')\n",
    "    df.set_index(df['DT'], inplace= True)\n",
    "    df= df.drop(['DATE_x','DATE_y','DT'], axis=1)\n",
    "    # df['hour']= df['hour'].astype('category', ordered=True)# categories=[2, 1]\n",
    "    # FutureWarning: specifying 'categories' or 'ordered' in .astype() is deprecated; pass a CategoricalDtype instead\n",
    "    return df\n",
    "    \n",
    "def parse_array(one_row):\n",
    "    no_chars = re.sub(r\"[a-zA-Z']\", \"\", one_row) # were commas used to denote thousands (so needed to be removed)\n",
    "    no_slashes = re.sub(r\"\\\\+\", \",\", no_chars)\n",
    "    splitted_strings = no_slashes[1:-1].split(',')\n",
    "    return [int(elem) for elem in splitted_strings] # interesting syntax! return a List Comprehension!\n",
    "# after parsing numbers converted back to numeric for Pandas read"
   ]
  },
  {
   "cell_type": "code",
   "execution_count": 3,
   "metadata": {},
   "outputs": [],
   "source": [
    "def read_one_month(year_month):  # see datetime lectures Chapter 4\n",
    "    if year_month[4:6] in ['04','06','09','11']:\n",
    "        d= 31\n",
    "    elif year_month[4:6] == '02':\n",
    "        d=29\n",
    "    else:\n",
    "        d=32\n",
    "    month_dates_A= [(year_month + '0' + str(i)) for i in list(range(1,10))]\n",
    "    month_dates_B= [(year_month + str(i)) for i in list(range(10,d))]\n",
    "    month_dates= month_dates_A + month_dates_B\n",
    "    dfs= [read_one_day(date) for date in month_dates] #dfs for dataframeS\n",
    "    dfc= pd.concat(dfs)   \n",
    "    return dfc"
   ]
  },
  {
   "cell_type": "code",
   "execution_count": null,
   "metadata": {},
   "outputs": [],
   "source": []
  },
  {
   "cell_type": "code",
   "execution_count": 5,
   "metadata": {},
   "outputs": [
    {
     "name": "stdout",
     "output_type": "stream",
     "text": [
      "<class 'pandas.core.frame.DataFrame'>\n",
      "DatetimeIndex: 744 entries, 2019-01-01 00:00:00 to 2019-01-31 23:00:00\n",
      "Data columns (total 13 columns):\n",
      "hour       744 non-null object\n",
      "geo        744 non-null int64\n",
      "biom       744 non-null int64\n",
      "biog       744 non-null int64\n",
      "shydro     744 non-null int64\n",
      "wind       744 non-null int64\n",
      "solarPV    744 non-null int64\n",
      "sTH        744 non-null int64\n",
      "srnwbls    744 non-null int64\n",
      "nucl       744 non-null int64\n",
      "thermal    744 non-null int64\n",
      "imports    744 non-null int64\n",
      "lhydro     744 non-null int64\n",
      "dtypes: int64(12), object(1)\n",
      "memory usage: 81.4+ KB\n"
     ]
    },
    {
     "data": {
      "text/html": [
       "<div>\n",
       "<style scoped>\n",
       "    .dataframe tbody tr th:only-of-type {\n",
       "        vertical-align: middle;\n",
       "    }\n",
       "\n",
       "    .dataframe tbody tr th {\n",
       "        vertical-align: top;\n",
       "    }\n",
       "\n",
       "    .dataframe thead th {\n",
       "        text-align: right;\n",
       "    }\n",
       "</style>\n",
       "<table border=\"1\" class=\"dataframe\">\n",
       "  <thead>\n",
       "    <tr style=\"text-align: right;\">\n",
       "      <th></th>\n",
       "      <th>hour</th>\n",
       "      <th>geo</th>\n",
       "      <th>biom</th>\n",
       "      <th>biog</th>\n",
       "      <th>shydro</th>\n",
       "      <th>wind</th>\n",
       "      <th>solarPV</th>\n",
       "      <th>sTH</th>\n",
       "      <th>srnwbls</th>\n",
       "      <th>nucl</th>\n",
       "      <th>thermal</th>\n",
       "      <th>imports</th>\n",
       "      <th>lhydro</th>\n",
       "    </tr>\n",
       "    <tr>\n",
       "      <th>DT</th>\n",
       "      <th></th>\n",
       "      <th></th>\n",
       "      <th></th>\n",
       "      <th></th>\n",
       "      <th></th>\n",
       "      <th></th>\n",
       "      <th></th>\n",
       "      <th></th>\n",
       "      <th></th>\n",
       "      <th></th>\n",
       "      <th></th>\n",
       "      <th></th>\n",
       "      <th></th>\n",
       "    </tr>\n",
       "  </thead>\n",
       "  <tbody>\n",
       "    <tr>\n",
       "      <th>2019-01-31 19:00:00</th>\n",
       "      <td>19</td>\n",
       "      <td>911</td>\n",
       "      <td>344</td>\n",
       "      <td>235</td>\n",
       "      <td>366</td>\n",
       "      <td>251</td>\n",
       "      <td>0</td>\n",
       "      <td>0</td>\n",
       "      <td>2107</td>\n",
       "      <td>2261</td>\n",
       "      <td>10846</td>\n",
       "      <td>9225</td>\n",
       "      <td>2872</td>\n",
       "    </tr>\n",
       "    <tr>\n",
       "      <th>2019-01-31 20:00:00</th>\n",
       "      <td>20</td>\n",
       "      <td>911</td>\n",
       "      <td>347</td>\n",
       "      <td>234</td>\n",
       "      <td>400</td>\n",
       "      <td>264</td>\n",
       "      <td>0</td>\n",
       "      <td>0</td>\n",
       "      <td>2156</td>\n",
       "      <td>2262</td>\n",
       "      <td>10370</td>\n",
       "      <td>9220</td>\n",
       "      <td>2530</td>\n",
       "    </tr>\n",
       "    <tr>\n",
       "      <th>2019-01-31 21:00:00</th>\n",
       "      <td>21</td>\n",
       "      <td>912</td>\n",
       "      <td>358</td>\n",
       "      <td>233</td>\n",
       "      <td>397</td>\n",
       "      <td>338</td>\n",
       "      <td>0</td>\n",
       "      <td>0</td>\n",
       "      <td>2238</td>\n",
       "      <td>2261</td>\n",
       "      <td>9845</td>\n",
       "      <td>8530</td>\n",
       "      <td>2318</td>\n",
       "    </tr>\n",
       "    <tr>\n",
       "      <th>2019-01-31 22:00:00</th>\n",
       "      <td>22</td>\n",
       "      <td>914</td>\n",
       "      <td>369</td>\n",
       "      <td>232</td>\n",
       "      <td>307</td>\n",
       "      <td>564</td>\n",
       "      <td>0</td>\n",
       "      <td>0</td>\n",
       "      <td>2386</td>\n",
       "      <td>2261</td>\n",
       "      <td>9463</td>\n",
       "      <td>7279</td>\n",
       "      <td>2031</td>\n",
       "    </tr>\n",
       "    <tr>\n",
       "      <th>2019-01-31 23:00:00</th>\n",
       "      <td>23</td>\n",
       "      <td>915</td>\n",
       "      <td>370</td>\n",
       "      <td>233</td>\n",
       "      <td>303</td>\n",
       "      <td>550</td>\n",
       "      <td>0</td>\n",
       "      <td>0</td>\n",
       "      <td>2371</td>\n",
       "      <td>2263</td>\n",
       "      <td>8893</td>\n",
       "      <td>6493</td>\n",
       "      <td>1927</td>\n",
       "    </tr>\n",
       "  </tbody>\n",
       "</table>\n",
       "</div>"
      ],
      "text/plain": [
       "                    hour  geo  biom  biog  shydro  wind  solarPV  sTH  \\\n",
       "DT                                                                      \n",
       "2019-01-31 19:00:00   19  911   344   235     366   251        0    0   \n",
       "2019-01-31 20:00:00   20  911   347   234     400   264        0    0   \n",
       "2019-01-31 21:00:00   21  912   358   233     397   338        0    0   \n",
       "2019-01-31 22:00:00   22  914   369   232     307   564        0    0   \n",
       "2019-01-31 23:00:00   23  915   370   233     303   550        0    0   \n",
       "\n",
       "                     srnwbls  nucl  thermal  imports  lhydro  \n",
       "DT                                                            \n",
       "2019-01-31 19:00:00     2107  2261    10846     9225    2872  \n",
       "2019-01-31 20:00:00     2156  2262    10370     9220    2530  \n",
       "2019-01-31 21:00:00     2238  2261     9845     8530    2318  \n",
       "2019-01-31 22:00:00     2386  2261     9463     7279    2031  \n",
       "2019-01-31 23:00:00     2371  2263     8893     6493    1927  "
      ]
     },
     "execution_count": 5,
     "metadata": {},
     "output_type": "execute_result"
    }
   ],
   "source": [
    "dfc= read_one_month('201901')\n",
    "dfc.info() # 31 DAYS x 24 HOURS GIVES 744\n",
    "dfc.tail()"
   ]
  },
  {
   "cell_type": "code",
   "execution_count": null,
   "metadata": {},
   "outputs": [],
   "source": [
    "# THE ABOVE SEEMS TO WORK OK !!"
   ]
  },
  {
   "cell_type": "code",
   "execution_count": 6,
   "metadata": {},
   "outputs": [
    {
     "data": {
      "image/png": "[encoded data removed]",
      "text/plain": [
       "<Figure size 432x288 with 1 Axes>"
      ]
     },
     "metadata": {
      "needs_background": "light"
     },
     "output_type": "display_data"
    }
   ],
   "source": [
    "dfc.wind.plot()\n",
    "dfc.lhydro.plot()\n",
    "plt.show()\n"
   ]
  },
  {
   "cell_type": "code",
   "execution_count": null,
   "metadata": {},
   "outputs": [],
   "source": []
  },
  {
   "cell_type": "code",
   "execution_count": 7,
   "metadata": {},
   "outputs": [
    {
     "data": {
      "text/plain": [
       "Text(0,0.5,'Large Hydro (MWh)')"
      ]
     },
     "execution_count": 7,
     "metadata": {},
     "output_type": "execute_result"
    },
    {
     "data": {
      "image/png": "[encoded data removed]",
      "text/plain": [
       "<Figure size 432x288 with 1 Axes>"
      ]
     },
     "metadata": {
      "needs_background": "light"
     },
     "output_type": "display_data"
    }
   ],
   "source": [
    "plt.scatter(dfc['wind'], dfc['lhydro'])\n",
    "plt.xlabel(\"Wind MWh\")\n",
    "plt.ylabel(\"Large Hydro (MWh)\")"
   ]
  },
  {
   "cell_type": "code",
   "execution_count": 8,
   "metadata": {
    "scrolled": true
   },
   "outputs": [
    {
     "data": {
      "text/plain": [
       "<matplotlib.axes._subplots.AxesSubplot at 0x1c1f7e1240>"
      ]
     },
     "execution_count": 8,
     "metadata": {},
     "output_type": "execute_result"
    },
    {
     "data": {
      "image/png": "[encoded data removed]",
      "text/plain": [
       "<Figure size 432x288 with 1 Axes>"
      ]
     },
     "metadata": {
      "needs_background": "light"
     },
     "output_type": "display_data"
    }
   ],
   "source": [
    "dfc['hour']= dfc['hour'].astype('int') # wanted to plot as an ordered categorical variable but thrown an error\n",
    "#plt.boxplot(dfc['lhydro'], dfc['hour'])\n",
    "import seaborn as sns\n",
    "sns.boxplot(x=\"hour\", y=\"lhydro\", data=dfc)\n",
    "# From this plot the noon levels are 3300 vs 2200 for 3am, so 50% higher: used to back-up solar due to clouds?\n",
    "# Why does it climb from hours 20 to 24, so 8pm to midnight!! Not Solar imports, as sun set earlier!!\n",
    "# Plot versus price volatility in terms of std? Used as back-up (low-carbon)\n",
    "# NB THIS ISJUST FOR JANUARY, REPEAT FOR 6 MONTHS !!"
   ]
  },
  {
   "cell_type": "code",
   "execution_count": 9,
   "metadata": {},
   "outputs": [
    {
     "data": {
      "text/plain": [
       "<matplotlib.axes._subplots.AxesSubplot at 0x10c6255f8>"
      ]
     },
     "execution_count": 9,
     "metadata": {},
     "output_type": "execute_result"
    },
    {
     "data": {
      "image/png": "[encoded data removed]",
      "text/plain": [
       "<Figure size 432x288 with 1 Axes>"
      ]
     },
     "metadata": {
      "needs_background": "light"
     },
     "output_type": "display_data"
    }
   ],
   "source": [
    "sns.boxplot(x= \"hour\", y= \"wind\", data= dfc)"
   ]
  },
  {
   "cell_type": "markdown",
   "metadata": {},
   "source": [
    "# Commentary\n",
    "The median wind output for thine one month of January is surprisingly steady throughout the hours, unlike MISO levels.\n",
    "However, the means may be more variable, being influenced by possible huge outliers."
   ]
  },
  {
   "cell_type": "code",
   "execution_count": null,
   "metadata": {},
   "outputs": [],
   "source": []
  },
  {
   "cell_type": "code",
   "execution_count": null,
   "metadata": {},
   "outputs": [],
   "source": []
  },
  {
   "cell_type": "code",
   "execution_count": null,
   "metadata": {},
   "outputs": [],
   "source": []
  },
  {
   "cell_type": "markdown",
   "metadata": {},
   "source": [
    "# December 2018"
   ]
  },
  {
   "cell_type": "code",
   "execution_count": null,
   "metadata": {},
   "outputs": [],
   "source": [
    "DEC= read_one_month('201812')"
   ]
  },
  {
   "cell_type": "code",
   "execution_count": null,
   "metadata": {},
   "outputs": [],
   "source": [
    "DEC.tail()"
   ]
  },
  {
   "cell_type": "code",
   "execution_count": null,
   "metadata": {},
   "outputs": [],
   "source": [
    "OCT= read_one_month('201810') # temp variable d is the number of days in the month, plus one.\n",
    "def read_one_month(year_month):\n",
    "    if year_month[4:6] in ['04','06','09','11']:\n",
    "        d= 31\n",
    "    elif year_month[4:6] == '02':\n",
    "        d=29\n",
    "    else:\n",
    "        d=32\n",
    "    month_dates_A= [(year_month + '0' + str(i)) for i in list(range(1,10))]\n",
    "    month_dates_B= [(year_month + str(i)) for i in list(range(10,d))]\n",
    "    month_dates= month_dates_A + month_dates_B\n",
    "    dfs= [read_one_day(date) for date in month_dates] #dfs for dataframeS\n",
    "    dfc= pd.concat(dfs)   \n",
    "    return dfc"
   ]
  },
  {
   "cell_type": "code",
   "execution_count": 19,
   "metadata": {
    "collapsed": true
   },
   "outputs": [
    {
     "data": {
      "text/plain": [
       "['201801',\n",
       " '201802',\n",
       " '201803',\n",
       " '201804',\n",
       " '201805',\n",
       " '201806',\n",
       " '201807',\n",
       " '201808',\n",
       " '201809',\n",
       " '201810',\n",
       " '201811',\n",
       " '201812']"
      ]
     },
     "execution_count": 19,
     "metadata": {},
     "output_type": "execute_result"
    }
   ],
   "source": [
    "twelve_months= [('2018'+ rest) for rest in ['01','02','03','04','05','06','07','08','09']] + \\\n",
    "['201810','201811','201812']\n",
    "twelve_months"
   ]
  },
  {
   "cell_type": "markdown",
   "metadata": {},
   "source": [
    "# This did run at 9am, before start of Caiso day?\n",
    "This did not run before, but no error message (possibly exceeded CAISO limit?)"
   ]
  },
  {
   "cell_type": "code",
   "execution_count": 20,
   "metadata": {},
   "outputs": [],
   "source": [
    "one_year_data= [read_one_month(month) for month in twelve_months] \n",
    "# This did not run, but no error message (possibly exceeded CAISO limit?)"
   ]
  },
  {
   "cell_type": "code",
   "execution_count": 22,
   "metadata": {
    "collapsed": true
   },
   "outputs": [
    {
     "data": {
      "text/html": [
       "<div>\n",
       "<style scoped>\n",
       "    .dataframe tbody tr th:only-of-type {\n",
       "        vertical-align: middle;\n",
       "    }\n",
       "\n",
       "    .dataframe tbody tr th {\n",
       "        vertical-align: top;\n",
       "    }\n",
       "\n",
       "    .dataframe thead th {\n",
       "        text-align: right;\n",
       "    }\n",
       "</style>\n",
       "<table border=\"1\" class=\"dataframe\">\n",
       "  <thead>\n",
       "    <tr style=\"text-align: right;\">\n",
       "      <th></th>\n",
       "      <th>hour</th>\n",
       "      <th>geo</th>\n",
       "      <th>biom</th>\n",
       "      <th>biog</th>\n",
       "      <th>shydro</th>\n",
       "      <th>wind</th>\n",
       "      <th>solarPV</th>\n",
       "      <th>sTH</th>\n",
       "      <th>srnwbls</th>\n",
       "      <th>nucl</th>\n",
       "      <th>thermal</th>\n",
       "      <th>imports</th>\n",
       "      <th>lhydro</th>\n",
       "    </tr>\n",
       "    <tr>\n",
       "      <th>DT</th>\n",
       "      <th></th>\n",
       "      <th></th>\n",
       "      <th></th>\n",
       "      <th></th>\n",
       "      <th></th>\n",
       "      <th></th>\n",
       "      <th></th>\n",
       "      <th></th>\n",
       "      <th></th>\n",
       "      <th></th>\n",
       "      <th></th>\n",
       "      <th></th>\n",
       "      <th></th>\n",
       "    </tr>\n",
       "  </thead>\n",
       "  <tbody>\n",
       "    <tr>\n",
       "      <th>2018-12-01 00:00:00</th>\n",
       "      <td>00</td>\n",
       "      <td>992</td>\n",
       "      <td>341</td>\n",
       "      <td>236</td>\n",
       "      <td>128</td>\n",
       "      <td>4109</td>\n",
       "      <td>0</td>\n",
       "      <td>0</td>\n",
       "      <td>5806</td>\n",
       "      <td>2011</td>\n",
       "      <td>5614</td>\n",
       "      <td>6245</td>\n",
       "      <td>1864</td>\n",
       "    </tr>\n",
       "    <tr>\n",
       "      <th>2018-12-01 01:00:00</th>\n",
       "      <td>01</td>\n",
       "      <td>993</td>\n",
       "      <td>341</td>\n",
       "      <td>236</td>\n",
       "      <td>133</td>\n",
       "      <td>4145</td>\n",
       "      <td>0</td>\n",
       "      <td>0</td>\n",
       "      <td>5848</td>\n",
       "      <td>2009</td>\n",
       "      <td>5229</td>\n",
       "      <td>6258</td>\n",
       "      <td>1737</td>\n",
       "    </tr>\n",
       "    <tr>\n",
       "      <th>2018-12-01 02:00:00</th>\n",
       "      <td>02</td>\n",
       "      <td>994</td>\n",
       "      <td>342</td>\n",
       "      <td>236</td>\n",
       "      <td>128</td>\n",
       "      <td>3850</td>\n",
       "      <td>0</td>\n",
       "      <td>0</td>\n",
       "      <td>4556</td>\n",
       "      <td>2010</td>\n",
       "      <td>6220</td>\n",
       "      <td>6291</td>\n",
       "      <td>1597</td>\n",
       "    </tr>\n",
       "    <tr>\n",
       "      <th>2018-12-01 03:00:00</th>\n",
       "      <td>03</td>\n",
       "      <td>993</td>\n",
       "      <td>341</td>\n",
       "      <td>234</td>\n",
       "      <td>127</td>\n",
       "      <td>3545</td>\n",
       "      <td>0</td>\n",
       "      <td>0</td>\n",
       "      <td>5240</td>\n",
       "      <td>2009</td>\n",
       "      <td>5370</td>\n",
       "      <td>6332</td>\n",
       "      <td>1561</td>\n",
       "    </tr>\n",
       "    <tr>\n",
       "      <th>2018-12-01 04:00:00</th>\n",
       "      <td>04</td>\n",
       "      <td>992</td>\n",
       "      <td>339</td>\n",
       "      <td>233</td>\n",
       "      <td>149</td>\n",
       "      <td>3564</td>\n",
       "      <td>0</td>\n",
       "      <td>0</td>\n",
       "      <td>5277</td>\n",
       "      <td>2008</td>\n",
       "      <td>5409</td>\n",
       "      <td>6265</td>\n",
       "      <td>1676</td>\n",
       "    </tr>\n",
       "    <tr>\n",
       "      <th>2018-12-01 05:00:00</th>\n",
       "      <td>05</td>\n",
       "      <td>991</td>\n",
       "      <td>347</td>\n",
       "      <td>233</td>\n",
       "      <td>254</td>\n",
       "      <td>3433</td>\n",
       "      <td>0</td>\n",
       "      <td>0</td>\n",
       "      <td>5258</td>\n",
       "      <td>2009</td>\n",
       "      <td>5726</td>\n",
       "      <td>6021</td>\n",
       "      <td>2229</td>\n",
       "    </tr>\n",
       "    <tr>\n",
       "      <th>2018-12-01 06:00:00</th>\n",
       "      <td>06</td>\n",
       "      <td>992</td>\n",
       "      <td>357</td>\n",
       "      <td>234</td>\n",
       "      <td>268</td>\n",
       "      <td>3215</td>\n",
       "      <td>39</td>\n",
       "      <td>0</td>\n",
       "      <td>5105</td>\n",
       "      <td>2008</td>\n",
       "      <td>6253</td>\n",
       "      <td>6531</td>\n",
       "      <td>2347</td>\n",
       "    </tr>\n",
       "    <tr>\n",
       "      <th>2018-12-01 07:00:00</th>\n",
       "      <td>07</td>\n",
       "      <td>991</td>\n",
       "      <td>362</td>\n",
       "      <td>234</td>\n",
       "      <td>271</td>\n",
       "      <td>3080</td>\n",
       "      <td>1928</td>\n",
       "      <td>8</td>\n",
       "      <td>6874</td>\n",
       "      <td>2004</td>\n",
       "      <td>5442</td>\n",
       "      <td>6057</td>\n",
       "      <td>2187</td>\n",
       "    </tr>\n",
       "    <tr>\n",
       "      <th>2018-12-01 08:00:00</th>\n",
       "      <td>08</td>\n",
       "      <td>993</td>\n",
       "      <td>363</td>\n",
       "      <td>234</td>\n",
       "      <td>213</td>\n",
       "      <td>3077</td>\n",
       "      <td>5073</td>\n",
       "      <td>228</td>\n",
       "      <td>10181</td>\n",
       "      <td>1979</td>\n",
       "      <td>3922</td>\n",
       "      <td>4909</td>\n",
       "      <td>1663</td>\n",
       "    </tr>\n",
       "    <tr>\n",
       "      <th>2018-12-01 09:00:00</th>\n",
       "      <td>09</td>\n",
       "      <td>993</td>\n",
       "      <td>351</td>\n",
       "      <td>235</td>\n",
       "      <td>207</td>\n",
       "      <td>2933</td>\n",
       "      <td>6447</td>\n",
       "      <td>398</td>\n",
       "      <td>11564</td>\n",
       "      <td>1893</td>\n",
       "      <td>3236</td>\n",
       "      <td>4577</td>\n",
       "      <td>1619</td>\n",
       "    </tr>\n",
       "    <tr>\n",
       "      <th>2018-12-01 10:00:00</th>\n",
       "      <td>10</td>\n",
       "      <td>993</td>\n",
       "      <td>345</td>\n",
       "      <td>234</td>\n",
       "      <td>185</td>\n",
       "      <td>3132</td>\n",
       "      <td>6895</td>\n",
       "      <td>417</td>\n",
       "      <td>12201</td>\n",
       "      <td>818</td>\n",
       "      <td>3173</td>\n",
       "      <td>4455</td>\n",
       "      <td>1775</td>\n",
       "    </tr>\n",
       "    <tr>\n",
       "      <th>2018-12-01 11:00:00</th>\n",
       "      <td>11</td>\n",
       "      <td>992</td>\n",
       "      <td>343</td>\n",
       "      <td>234</td>\n",
       "      <td>180</td>\n",
       "      <td>3582</td>\n",
       "      <td>6441</td>\n",
       "      <td>326</td>\n",
       "      <td>12098</td>\n",
       "      <td>621</td>\n",
       "      <td>3361</td>\n",
       "      <td>4244</td>\n",
       "      <td>1762</td>\n",
       "    </tr>\n",
       "    <tr>\n",
       "      <th>2018-12-01 12:00:00</th>\n",
       "      <td>12</td>\n",
       "      <td>991</td>\n",
       "      <td>332</td>\n",
       "      <td>235</td>\n",
       "      <td>143</td>\n",
       "      <td>3463</td>\n",
       "      <td>6163</td>\n",
       "      <td>281</td>\n",
       "      <td>11608</td>\n",
       "      <td>554</td>\n",
       "      <td>3430</td>\n",
       "      <td>4651</td>\n",
       "      <td>1847</td>\n",
       "    </tr>\n",
       "    <tr>\n",
       "      <th>2018-12-01 13:00:00</th>\n",
       "      <td>13</td>\n",
       "      <td>991</td>\n",
       "      <td>337</td>\n",
       "      <td>234</td>\n",
       "      <td>149</td>\n",
       "      <td>3280</td>\n",
       "      <td>5877</td>\n",
       "      <td>134</td>\n",
       "      <td>11002</td>\n",
       "      <td>519</td>\n",
       "      <td>3580</td>\n",
       "      <td>5214</td>\n",
       "      <td>1716</td>\n",
       "    </tr>\n",
       "    <tr>\n",
       "      <th>2018-12-01 14:00:00</th>\n",
       "      <td>14</td>\n",
       "      <td>989</td>\n",
       "      <td>339</td>\n",
       "      <td>234</td>\n",
       "      <td>146</td>\n",
       "      <td>3153</td>\n",
       "      <td>4887</td>\n",
       "      <td>76</td>\n",
       "      <td>9824</td>\n",
       "      <td>535</td>\n",
       "      <td>4659</td>\n",
       "      <td>5648</td>\n",
       "      <td>1675</td>\n",
       "    </tr>\n",
       "    <tr>\n",
       "      <th>2018-12-01 15:00:00</th>\n",
       "      <td>15</td>\n",
       "      <td>991</td>\n",
       "      <td>341</td>\n",
       "      <td>233</td>\n",
       "      <td>193</td>\n",
       "      <td>3094</td>\n",
       "      <td>2353</td>\n",
       "      <td>0</td>\n",
       "      <td>7205</td>\n",
       "      <td>539</td>\n",
       "      <td>6718</td>\n",
       "      <td>6590</td>\n",
       "      <td>2108</td>\n",
       "    </tr>\n",
       "    <tr>\n",
       "      <th>2018-12-01 16:00:00</th>\n",
       "      <td>16</td>\n",
       "      <td>992</td>\n",
       "      <td>351</td>\n",
       "      <td>233</td>\n",
       "      <td>336</td>\n",
       "      <td>2895</td>\n",
       "      <td>283</td>\n",
       "      <td>0</td>\n",
       "      <td>5090</td>\n",
       "      <td>539</td>\n",
       "      <td>9231</td>\n",
       "      <td>6979</td>\n",
       "      <td>2569</td>\n",
       "    </tr>\n",
       "    <tr>\n",
       "      <th>2018-12-01 17:00:00</th>\n",
       "      <td>17</td>\n",
       "      <td>993</td>\n",
       "      <td>357</td>\n",
       "      <td>232</td>\n",
       "      <td>403</td>\n",
       "      <td>2705</td>\n",
       "      <td>122</td>\n",
       "      <td>0</td>\n",
       "      <td>4812</td>\n",
       "      <td>540</td>\n",
       "      <td>10766</td>\n",
       "      <td>7735</td>\n",
       "      <td>2906</td>\n",
       "    </tr>\n",
       "    <tr>\n",
       "      <th>2018-12-01 18:00:00</th>\n",
       "      <td>18</td>\n",
       "      <td>989</td>\n",
       "      <td>358</td>\n",
       "      <td>233</td>\n",
       "      <td>405</td>\n",
       "      <td>2606</td>\n",
       "      <td>48</td>\n",
       "      <td>0</td>\n",
       "      <td>4639</td>\n",
       "      <td>537</td>\n",
       "      <td>10767</td>\n",
       "      <td>8111</td>\n",
       "      <td>2735</td>\n",
       "    </tr>\n",
       "    <tr>\n",
       "      <th>2018-12-01 19:00:00</th>\n",
       "      <td>19</td>\n",
       "      <td>994</td>\n",
       "      <td>357</td>\n",
       "      <td>232</td>\n",
       "      <td>373</td>\n",
       "      <td>2653</td>\n",
       "      <td>0</td>\n",
       "      <td>0</td>\n",
       "      <td>4609</td>\n",
       "      <td>509</td>\n",
       "      <td>10598</td>\n",
       "      <td>8057</td>\n",
       "      <td>2555</td>\n",
       "    </tr>\n",
       "    <tr>\n",
       "      <th>2018-12-01 20:00:00</th>\n",
       "      <td>20</td>\n",
       "      <td>995</td>\n",
       "      <td>356</td>\n",
       "      <td>232</td>\n",
       "      <td>267</td>\n",
       "      <td>2824</td>\n",
       "      <td>0</td>\n",
       "      <td>0</td>\n",
       "      <td>4674</td>\n",
       "      <td>506</td>\n",
       "      <td>10221</td>\n",
       "      <td>8097</td>\n",
       "      <td>2356</td>\n",
       "    </tr>\n",
       "    <tr>\n",
       "      <th>2018-12-01 21:00:00</th>\n",
       "      <td>21</td>\n",
       "      <td>995</td>\n",
       "      <td>359</td>\n",
       "      <td>232</td>\n",
       "      <td>247</td>\n",
       "      <td>2604</td>\n",
       "      <td>0</td>\n",
       "      <td>0</td>\n",
       "      <td>4437</td>\n",
       "      <td>506</td>\n",
       "      <td>9688</td>\n",
       "      <td>8125</td>\n",
       "      <td>2206</td>\n",
       "    </tr>\n",
       "    <tr>\n",
       "      <th>2018-12-01 22:00:00</th>\n",
       "      <td>22</td>\n",
       "      <td>995</td>\n",
       "      <td>358</td>\n",
       "      <td>232</td>\n",
       "      <td>162</td>\n",
       "      <td>2276</td>\n",
       "      <td>0</td>\n",
       "      <td>0</td>\n",
       "      <td>4023</td>\n",
       "      <td>505</td>\n",
       "      <td>9678</td>\n",
       "      <td>7188</td>\n",
       "      <td>2178</td>\n",
       "    </tr>\n",
       "    <tr>\n",
       "      <th>2018-12-01 23:00:00</th>\n",
       "      <td>23</td>\n",
       "      <td>995</td>\n",
       "      <td>353</td>\n",
       "      <td>232</td>\n",
       "      <td>155</td>\n",
       "      <td>2157</td>\n",
       "      <td>0</td>\n",
       "      <td>0</td>\n",
       "      <td>3892</td>\n",
       "      <td>507</td>\n",
       "      <td>8885</td>\n",
       "      <td>7286</td>\n",
       "      <td>1883</td>\n",
       "    </tr>\n",
       "    <tr>\n",
       "      <th>2018-12-02 00:00:00</th>\n",
       "      <td>00</td>\n",
       "      <td>996</td>\n",
       "      <td>353</td>\n",
       "      <td>231</td>\n",
       "      <td>125</td>\n",
       "      <td>2160</td>\n",
       "      <td>0</td>\n",
       "      <td>0</td>\n",
       "      <td>3865</td>\n",
       "      <td>507</td>\n",
       "      <td>8686</td>\n",
       "      <td>6532</td>\n",
       "      <td>1933</td>\n",
       "    </tr>\n",
       "    <tr>\n",
       "      <th>2018-12-02 01:00:00</th>\n",
       "      <td>01</td>\n",
       "      <td>997</td>\n",
       "      <td>353</td>\n",
       "      <td>231</td>\n",
       "      <td>128</td>\n",
       "      <td>2081</td>\n",
       "      <td>0</td>\n",
       "      <td>0</td>\n",
       "      <td>3790</td>\n",
       "      <td>506</td>\n",
       "      <td>7981</td>\n",
       "      <td>6671</td>\n",
       "      <td>1883</td>\n",
       "    </tr>\n",
       "    <tr>\n",
       "      <th>2018-12-02 02:00:00</th>\n",
       "      <td>02</td>\n",
       "      <td>998</td>\n",
       "      <td>354</td>\n",
       "      <td>233</td>\n",
       "      <td>128</td>\n",
       "      <td>1996</td>\n",
       "      <td>0</td>\n",
       "      <td>0</td>\n",
       "      <td>2711</td>\n",
       "      <td>499</td>\n",
       "      <td>8761</td>\n",
       "      <td>6806</td>\n",
       "      <td>1543</td>\n",
       "    </tr>\n",
       "    <tr>\n",
       "      <th>2018-12-02 03:00:00</th>\n",
       "      <td>03</td>\n",
       "      <td>998</td>\n",
       "      <td>348</td>\n",
       "      <td>233</td>\n",
       "      <td>126</td>\n",
       "      <td>2031</td>\n",
       "      <td>0</td>\n",
       "      <td>0</td>\n",
       "      <td>3736</td>\n",
       "      <td>497</td>\n",
       "      <td>7528</td>\n",
       "      <td>6779</td>\n",
       "      <td>1556</td>\n",
       "    </tr>\n",
       "    <tr>\n",
       "      <th>2018-12-02 04:00:00</th>\n",
       "      <td>04</td>\n",
       "      <td>998</td>\n",
       "      <td>340</td>\n",
       "      <td>227</td>\n",
       "      <td>150</td>\n",
       "      <td>1945</td>\n",
       "      <td>0</td>\n",
       "      <td>0</td>\n",
       "      <td>3660</td>\n",
       "      <td>497</td>\n",
       "      <td>7569</td>\n",
       "      <td>6569</td>\n",
       "      <td>1884</td>\n",
       "    </tr>\n",
       "    <tr>\n",
       "      <th>2018-12-02 05:00:00</th>\n",
       "      <td>05</td>\n",
       "      <td>998</td>\n",
       "      <td>349</td>\n",
       "      <td>225</td>\n",
       "      <td>265</td>\n",
       "      <td>1676</td>\n",
       "      <td>0</td>\n",
       "      <td>0</td>\n",
       "      <td>3513</td>\n",
       "      <td>497</td>\n",
       "      <td>8049</td>\n",
       "      <td>6433</td>\n",
       "      <td>2137</td>\n",
       "    </tr>\n",
       "    <tr>\n",
       "      <th>...</th>\n",
       "      <td>...</td>\n",
       "      <td>...</td>\n",
       "      <td>...</td>\n",
       "      <td>...</td>\n",
       "      <td>...</td>\n",
       "      <td>...</td>\n",
       "      <td>...</td>\n",
       "      <td>...</td>\n",
       "      <td>...</td>\n",
       "      <td>...</td>\n",
       "      <td>...</td>\n",
       "      <td>...</td>\n",
       "      <td>...</td>\n",
       "    </tr>\n",
       "    <tr>\n",
       "      <th>2018-12-30 18:00:00</th>\n",
       "      <td>18</td>\n",
       "      <td>984</td>\n",
       "      <td>379</td>\n",
       "      <td>236</td>\n",
       "      <td>384</td>\n",
       "      <td>3146</td>\n",
       "      <td>0</td>\n",
       "      <td>0</td>\n",
       "      <td>5129</td>\n",
       "      <td>2272</td>\n",
       "      <td>7096</td>\n",
       "      <td>8974</td>\n",
       "      <td>3163</td>\n",
       "    </tr>\n",
       "    <tr>\n",
       "      <th>2018-12-30 19:00:00</th>\n",
       "      <td>19</td>\n",
       "      <td>985</td>\n",
       "      <td>376</td>\n",
       "      <td>234</td>\n",
       "      <td>382</td>\n",
       "      <td>3273</td>\n",
       "      <td>0</td>\n",
       "      <td>0</td>\n",
       "      <td>5250</td>\n",
       "      <td>2272</td>\n",
       "      <td>7496</td>\n",
       "      <td>8628</td>\n",
       "      <td>2791</td>\n",
       "    </tr>\n",
       "    <tr>\n",
       "      <th>2018-12-30 20:00:00</th>\n",
       "      <td>20</td>\n",
       "      <td>987</td>\n",
       "      <td>376</td>\n",
       "      <td>225</td>\n",
       "      <td>326</td>\n",
       "      <td>3371</td>\n",
       "      <td>0</td>\n",
       "      <td>0</td>\n",
       "      <td>5285</td>\n",
       "      <td>2272</td>\n",
       "      <td>7470</td>\n",
       "      <td>8291</td>\n",
       "      <td>2664</td>\n",
       "    </tr>\n",
       "    <tr>\n",
       "      <th>2018-12-30 21:00:00</th>\n",
       "      <td>21</td>\n",
       "      <td>989</td>\n",
       "      <td>380</td>\n",
       "      <td>233</td>\n",
       "      <td>234</td>\n",
       "      <td>3401</td>\n",
       "      <td>0</td>\n",
       "      <td>0</td>\n",
       "      <td>5237</td>\n",
       "      <td>2273</td>\n",
       "      <td>7118</td>\n",
       "      <td>7877</td>\n",
       "      <td>2567</td>\n",
       "    </tr>\n",
       "    <tr>\n",
       "      <th>2018-12-30 22:00:00</th>\n",
       "      <td>22</td>\n",
       "      <td>990</td>\n",
       "      <td>377</td>\n",
       "      <td>234</td>\n",
       "      <td>203</td>\n",
       "      <td>3129</td>\n",
       "      <td>0</td>\n",
       "      <td>0</td>\n",
       "      <td>4933</td>\n",
       "      <td>2273</td>\n",
       "      <td>6940</td>\n",
       "      <td>7448</td>\n",
       "      <td>2288</td>\n",
       "    </tr>\n",
       "    <tr>\n",
       "      <th>2018-12-30 23:00:00</th>\n",
       "      <td>23</td>\n",
       "      <td>989</td>\n",
       "      <td>377</td>\n",
       "      <td>234</td>\n",
       "      <td>200</td>\n",
       "      <td>2934</td>\n",
       "      <td>0</td>\n",
       "      <td>0</td>\n",
       "      <td>4734</td>\n",
       "      <td>2273</td>\n",
       "      <td>6407</td>\n",
       "      <td>6903</td>\n",
       "      <td>2242</td>\n",
       "    </tr>\n",
       "    <tr>\n",
       "      <th>2018-12-31 00:00:00</th>\n",
       "      <td>00</td>\n",
       "      <td>991</td>\n",
       "      <td>379</td>\n",
       "      <td>234</td>\n",
       "      <td>199</td>\n",
       "      <td>2592</td>\n",
       "      <td>0</td>\n",
       "      <td>0</td>\n",
       "      <td>4395</td>\n",
       "      <td>2272</td>\n",
       "      <td>5787</td>\n",
       "      <td>6872</td>\n",
       "      <td>2053</td>\n",
       "    </tr>\n",
       "    <tr>\n",
       "      <th>2018-12-31 01:00:00</th>\n",
       "      <td>01</td>\n",
       "      <td>992</td>\n",
       "      <td>369</td>\n",
       "      <td>234</td>\n",
       "      <td>205</td>\n",
       "      <td>2484</td>\n",
       "      <td>0</td>\n",
       "      <td>0</td>\n",
       "      <td>4284</td>\n",
       "      <td>2272</td>\n",
       "      <td>5506</td>\n",
       "      <td>6658</td>\n",
       "      <td>1824</td>\n",
       "    </tr>\n",
       "    <tr>\n",
       "      <th>2018-12-31 02:00:00</th>\n",
       "      <td>02</td>\n",
       "      <td>992</td>\n",
       "      <td>378</td>\n",
       "      <td>234</td>\n",
       "      <td>199</td>\n",
       "      <td>2660</td>\n",
       "      <td>0</td>\n",
       "      <td>0</td>\n",
       "      <td>3471</td>\n",
       "      <td>2273</td>\n",
       "      <td>6361</td>\n",
       "      <td>6002</td>\n",
       "      <td>1931</td>\n",
       "    </tr>\n",
       "    <tr>\n",
       "      <th>2018-12-31 03:00:00</th>\n",
       "      <td>03</td>\n",
       "      <td>993</td>\n",
       "      <td>378</td>\n",
       "      <td>234</td>\n",
       "      <td>206</td>\n",
       "      <td>3095</td>\n",
       "      <td>0</td>\n",
       "      <td>0</td>\n",
       "      <td>4906</td>\n",
       "      <td>2274</td>\n",
       "      <td>5369</td>\n",
       "      <td>5511</td>\n",
       "      <td>1939</td>\n",
       "    </tr>\n",
       "    <tr>\n",
       "      <th>2018-12-31 04:00:00</th>\n",
       "      <td>04</td>\n",
       "      <td>993</td>\n",
       "      <td>378</td>\n",
       "      <td>234</td>\n",
       "      <td>196</td>\n",
       "      <td>3339</td>\n",
       "      <td>0</td>\n",
       "      <td>0</td>\n",
       "      <td>5140</td>\n",
       "      <td>2275</td>\n",
       "      <td>5308</td>\n",
       "      <td>5548</td>\n",
       "      <td>2092</td>\n",
       "    </tr>\n",
       "    <tr>\n",
       "      <th>2018-12-31 05:00:00</th>\n",
       "      <td>05</td>\n",
       "      <td>994</td>\n",
       "      <td>384</td>\n",
       "      <td>234</td>\n",
       "      <td>244</td>\n",
       "      <td>3284</td>\n",
       "      <td>0</td>\n",
       "      <td>0</td>\n",
       "      <td>5140</td>\n",
       "      <td>2276</td>\n",
       "      <td>5203</td>\n",
       "      <td>6515</td>\n",
       "      <td>2261</td>\n",
       "    </tr>\n",
       "    <tr>\n",
       "      <th>2018-12-31 06:00:00</th>\n",
       "      <td>06</td>\n",
       "      <td>994</td>\n",
       "      <td>387</td>\n",
       "      <td>234</td>\n",
       "      <td>245</td>\n",
       "      <td>3053</td>\n",
       "      <td>0</td>\n",
       "      <td>0</td>\n",
       "      <td>4913</td>\n",
       "      <td>2276</td>\n",
       "      <td>5799</td>\n",
       "      <td>7590</td>\n",
       "      <td>2283</td>\n",
       "    </tr>\n",
       "    <tr>\n",
       "      <th>2018-12-31 07:00:00</th>\n",
       "      <td>07</td>\n",
       "      <td>994</td>\n",
       "      <td>384</td>\n",
       "      <td>234</td>\n",
       "      <td>245</td>\n",
       "      <td>2697</td>\n",
       "      <td>405</td>\n",
       "      <td>0</td>\n",
       "      <td>4959</td>\n",
       "      <td>2275</td>\n",
       "      <td>6584</td>\n",
       "      <td>7584</td>\n",
       "      <td>2362</td>\n",
       "    </tr>\n",
       "    <tr>\n",
       "      <th>2018-12-31 08:00:00</th>\n",
       "      <td>08</td>\n",
       "      <td>993</td>\n",
       "      <td>386</td>\n",
       "      <td>234</td>\n",
       "      <td>248</td>\n",
       "      <td>2219</td>\n",
       "      <td>2588</td>\n",
       "      <td>0</td>\n",
       "      <td>6668</td>\n",
       "      <td>2273</td>\n",
       "      <td>6541</td>\n",
       "      <td>6379</td>\n",
       "      <td>2291</td>\n",
       "    </tr>\n",
       "    <tr>\n",
       "      <th>2018-12-31 09:00:00</th>\n",
       "      <td>09</td>\n",
       "      <td>992</td>\n",
       "      <td>388</td>\n",
       "      <td>230</td>\n",
       "      <td>215</td>\n",
       "      <td>2160</td>\n",
       "      <td>4005</td>\n",
       "      <td>8</td>\n",
       "      <td>7998</td>\n",
       "      <td>2273</td>\n",
       "      <td>5589</td>\n",
       "      <td>6118</td>\n",
       "      <td>1965</td>\n",
       "    </tr>\n",
       "    <tr>\n",
       "      <th>2018-12-31 10:00:00</th>\n",
       "      <td>10</td>\n",
       "      <td>993</td>\n",
       "      <td>383</td>\n",
       "      <td>225</td>\n",
       "      <td>212</td>\n",
       "      <td>2483</td>\n",
       "      <td>4126</td>\n",
       "      <td>0</td>\n",
       "      <td>8422</td>\n",
       "      <td>2274</td>\n",
       "      <td>4822</td>\n",
       "      <td>6275</td>\n",
       "      <td>1741</td>\n",
       "    </tr>\n",
       "    <tr>\n",
       "      <th>2018-12-31 11:00:00</th>\n",
       "      <td>11</td>\n",
       "      <td>993</td>\n",
       "      <td>376</td>\n",
       "      <td>225</td>\n",
       "      <td>202</td>\n",
       "      <td>2496</td>\n",
       "      <td>4129</td>\n",
       "      <td>0</td>\n",
       "      <td>8421</td>\n",
       "      <td>2273</td>\n",
       "      <td>4566</td>\n",
       "      <td>6102</td>\n",
       "      <td>1553</td>\n",
       "    </tr>\n",
       "    <tr>\n",
       "      <th>2018-12-31 12:00:00</th>\n",
       "      <td>12</td>\n",
       "      <td>993</td>\n",
       "      <td>376</td>\n",
       "      <td>226</td>\n",
       "      <td>189</td>\n",
       "      <td>2317</td>\n",
       "      <td>4789</td>\n",
       "      <td>0</td>\n",
       "      <td>8890</td>\n",
       "      <td>2273</td>\n",
       "      <td>4352</td>\n",
       "      <td>5463</td>\n",
       "      <td>1480</td>\n",
       "    </tr>\n",
       "    <tr>\n",
       "      <th>2018-12-31 13:00:00</th>\n",
       "      <td>13</td>\n",
       "      <td>992</td>\n",
       "      <td>380</td>\n",
       "      <td>231</td>\n",
       "      <td>195</td>\n",
       "      <td>2298</td>\n",
       "      <td>4890</td>\n",
       "      <td>29</td>\n",
       "      <td>9015</td>\n",
       "      <td>2274</td>\n",
       "      <td>4034</td>\n",
       "      <td>5392</td>\n",
       "      <td>1487</td>\n",
       "    </tr>\n",
       "    <tr>\n",
       "      <th>2018-12-31 14:00:00</th>\n",
       "      <td>14</td>\n",
       "      <td>992</td>\n",
       "      <td>386</td>\n",
       "      <td>229</td>\n",
       "      <td>196</td>\n",
       "      <td>2574</td>\n",
       "      <td>4723</td>\n",
       "      <td>165</td>\n",
       "      <td>9265</td>\n",
       "      <td>2274</td>\n",
       "      <td>4214</td>\n",
       "      <td>5146</td>\n",
       "      <td>1633</td>\n",
       "    </tr>\n",
       "    <tr>\n",
       "      <th>2018-12-31 15:00:00</th>\n",
       "      <td>15</td>\n",
       "      <td>992</td>\n",
       "      <td>385</td>\n",
       "      <td>229</td>\n",
       "      <td>215</td>\n",
       "      <td>2522</td>\n",
       "      <td>2981</td>\n",
       "      <td>166</td>\n",
       "      <td>7490</td>\n",
       "      <td>2273</td>\n",
       "      <td>5330</td>\n",
       "      <td>6113</td>\n",
       "      <td>2036</td>\n",
       "    </tr>\n",
       "    <tr>\n",
       "      <th>2018-12-31 16:00:00</th>\n",
       "      <td>16</td>\n",
       "      <td>993</td>\n",
       "      <td>386</td>\n",
       "      <td>228</td>\n",
       "      <td>280</td>\n",
       "      <td>2338</td>\n",
       "      <td>440</td>\n",
       "      <td>3</td>\n",
       "      <td>4668</td>\n",
       "      <td>2273</td>\n",
       "      <td>7560</td>\n",
       "      <td>7873</td>\n",
       "      <td>2623</td>\n",
       "    </tr>\n",
       "    <tr>\n",
       "      <th>2018-12-31 17:00:00</th>\n",
       "      <td>17</td>\n",
       "      <td>993</td>\n",
       "      <td>386</td>\n",
       "      <td>228</td>\n",
       "      <td>378</td>\n",
       "      <td>2220</td>\n",
       "      <td>0</td>\n",
       "      <td>0</td>\n",
       "      <td>4205</td>\n",
       "      <td>2274</td>\n",
       "      <td>9063</td>\n",
       "      <td>8649</td>\n",
       "      <td>3491</td>\n",
       "    </tr>\n",
       "    <tr>\n",
       "      <th>2018-12-31 18:00:00</th>\n",
       "      <td>18</td>\n",
       "      <td>994</td>\n",
       "      <td>388</td>\n",
       "      <td>228</td>\n",
       "      <td>378</td>\n",
       "      <td>2288</td>\n",
       "      <td>0</td>\n",
       "      <td>0</td>\n",
       "      <td>4276</td>\n",
       "      <td>2273</td>\n",
       "      <td>8863</td>\n",
       "      <td>9109</td>\n",
       "      <td>3141</td>\n",
       "    </tr>\n",
       "    <tr>\n",
       "      <th>2018-12-31 19:00:00</th>\n",
       "      <td>19</td>\n",
       "      <td>993</td>\n",
       "      <td>389</td>\n",
       "      <td>228</td>\n",
       "      <td>383</td>\n",
       "      <td>2321</td>\n",
       "      <td>0</td>\n",
       "      <td>0</td>\n",
       "      <td>4314</td>\n",
       "      <td>2273</td>\n",
       "      <td>8037</td>\n",
       "      <td>9130</td>\n",
       "      <td>3082</td>\n",
       "    </tr>\n",
       "    <tr>\n",
       "      <th>2018-12-31 20:00:00</th>\n",
       "      <td>20</td>\n",
       "      <td>991</td>\n",
       "      <td>383</td>\n",
       "      <td>228</td>\n",
       "      <td>326</td>\n",
       "      <td>2795</td>\n",
       "      <td>0</td>\n",
       "      <td>0</td>\n",
       "      <td>4723</td>\n",
       "      <td>2273</td>\n",
       "      <td>7233</td>\n",
       "      <td>8748</td>\n",
       "      <td>2953</td>\n",
       "    </tr>\n",
       "    <tr>\n",
       "      <th>2018-12-31 21:00:00</th>\n",
       "      <td>21</td>\n",
       "      <td>992</td>\n",
       "      <td>383</td>\n",
       "      <td>227</td>\n",
       "      <td>292</td>\n",
       "      <td>3171</td>\n",
       "      <td>0</td>\n",
       "      <td>0</td>\n",
       "      <td>5065</td>\n",
       "      <td>2273</td>\n",
       "      <td>6500</td>\n",
       "      <td>8401</td>\n",
       "      <td>2724</td>\n",
       "    </tr>\n",
       "    <tr>\n",
       "      <th>2018-12-31 22:00:00</th>\n",
       "      <td>22</td>\n",
       "      <td>993</td>\n",
       "      <td>382</td>\n",
       "      <td>226</td>\n",
       "      <td>219</td>\n",
       "      <td>2796</td>\n",
       "      <td>0</td>\n",
       "      <td>0</td>\n",
       "      <td>4616</td>\n",
       "      <td>2272</td>\n",
       "      <td>7011</td>\n",
       "      <td>7417</td>\n",
       "      <td>2515</td>\n",
       "    </tr>\n",
       "    <tr>\n",
       "      <th>2018-12-31 23:00:00</th>\n",
       "      <td>23</td>\n",
       "      <td>993</td>\n",
       "      <td>379</td>\n",
       "      <td>226</td>\n",
       "      <td>193</td>\n",
       "      <td>2667</td>\n",
       "      <td>0</td>\n",
       "      <td>0</td>\n",
       "      <td>4458</td>\n",
       "      <td>2272</td>\n",
       "      <td>7038</td>\n",
       "      <td>6532</td>\n",
       "      <td>2488</td>\n",
       "    </tr>\n",
       "  </tbody>\n",
       "</table>\n",
       "<p>744 rows × 13 columns</p>\n",
       "</div>"
      ],
      "text/plain": [
       "                    hour  geo  biom  biog  shydro  wind  solarPV  sTH  \\\n",
       "DT                                                                      \n",
       "2018-12-01 00:00:00   00  992   341   236     128  4109        0    0   \n",
       "2018-12-01 01:00:00   01  993   341   236     133  4145        0    0   \n",
       "2018-12-01 02:00:00   02  994   342   236     128  3850        0    0   \n",
       "2018-12-01 03:00:00   03  993   341   234     127  3545        0    0   \n",
       "2018-12-01 04:00:00   04  992   339   233     149  3564        0    0   \n",
       "2018-12-01 05:00:00   05  991   347   233     254  3433        0    0   \n",
       "2018-12-01 06:00:00   06  992   357   234     268  3215       39    0   \n",
       "2018-12-01 07:00:00   07  991   362   234     271  3080     1928    8   \n",
       "2018-12-01 08:00:00   08  993   363   234     213  3077     5073  228   \n",
       "2018-12-01 09:00:00   09  993   351   235     207  2933     6447  398   \n",
       "2018-12-01 10:00:00   10  993   345   234     185  3132     6895  417   \n",
       "2018-12-01 11:00:00   11  992   343   234     180  3582     6441  326   \n",
       "2018-12-01 12:00:00   12  991   332   235     143  3463     6163  281   \n",
       "2018-12-01 13:00:00   13  991   337   234     149  3280     5877  134   \n",
       "2018-12-01 14:00:00   14  989   339   234     146  3153     4887   76   \n",
       "2018-12-01 15:00:00   15  991   341   233     193  3094     2353    0   \n",
       "2018-12-01 16:00:00   16  992   351   233     336  2895      283    0   \n",
       "2018-12-01 17:00:00   17  993   357   232     403  2705      122    0   \n",
       "2018-12-01 18:00:00   18  989   358   233     405  2606       48    0   \n",
       "2018-12-01 19:00:00   19  994   357   232     373  2653        0    0   \n",
       "2018-12-01 20:00:00   20  995   356   232     267  2824        0    0   \n",
       "2018-12-01 21:00:00   21  995   359   232     247  2604        0    0   \n",
       "2018-12-01 22:00:00   22  995   358   232     162  2276        0    0   \n",
       "2018-12-01 23:00:00   23  995   353   232     155  2157        0    0   \n",
       "2018-12-02 00:00:00   00  996   353   231     125  2160        0    0   \n",
       "2018-12-02 01:00:00   01  997   353   231     128  2081        0    0   \n",
       "2018-12-02 02:00:00   02  998   354   233     128  1996        0    0   \n",
       "2018-12-02 03:00:00   03  998   348   233     126  2031        0    0   \n",
       "2018-12-02 04:00:00   04  998   340   227     150  1945        0    0   \n",
       "2018-12-02 05:00:00   05  998   349   225     265  1676        0    0   \n",
       "...                  ...  ...   ...   ...     ...   ...      ...  ...   \n",
       "2018-12-30 18:00:00   18  984   379   236     384  3146        0    0   \n",
       "2018-12-30 19:00:00   19  985   376   234     382  3273        0    0   \n",
       "2018-12-30 20:00:00   20  987   376   225     326  3371        0    0   \n",
       "2018-12-30 21:00:00   21  989   380   233     234  3401        0    0   \n",
       "2018-12-30 22:00:00   22  990   377   234     203  3129        0    0   \n",
       "2018-12-30 23:00:00   23  989   377   234     200  2934        0    0   \n",
       "2018-12-31 00:00:00   00  991   379   234     199  2592        0    0   \n",
       "2018-12-31 01:00:00   01  992   369   234     205  2484        0    0   \n",
       "2018-12-31 02:00:00   02  992   378   234     199  2660        0    0   \n",
       "2018-12-31 03:00:00   03  993   378   234     206  3095        0    0   \n",
       "2018-12-31 04:00:00   04  993   378   234     196  3339        0    0   \n",
       "2018-12-31 05:00:00   05  994   384   234     244  3284        0    0   \n",
       "2018-12-31 06:00:00   06  994   387   234     245  3053        0    0   \n",
       "2018-12-31 07:00:00   07  994   384   234     245  2697      405    0   \n",
       "2018-12-31 08:00:00   08  993   386   234     248  2219     2588    0   \n",
       "2018-12-31 09:00:00   09  992   388   230     215  2160     4005    8   \n",
       "2018-12-31 10:00:00   10  993   383   225     212  2483     4126    0   \n",
       "2018-12-31 11:00:00   11  993   376   225     202  2496     4129    0   \n",
       "2018-12-31 12:00:00   12  993   376   226     189  2317     4789    0   \n",
       "2018-12-31 13:00:00   13  992   380   231     195  2298     4890   29   \n",
       "2018-12-31 14:00:00   14  992   386   229     196  2574     4723  165   \n",
       "2018-12-31 15:00:00   15  992   385   229     215  2522     2981  166   \n",
       "2018-12-31 16:00:00   16  993   386   228     280  2338      440    3   \n",
       "2018-12-31 17:00:00   17  993   386   228     378  2220        0    0   \n",
       "2018-12-31 18:00:00   18  994   388   228     378  2288        0    0   \n",
       "2018-12-31 19:00:00   19  993   389   228     383  2321        0    0   \n",
       "2018-12-31 20:00:00   20  991   383   228     326  2795        0    0   \n",
       "2018-12-31 21:00:00   21  992   383   227     292  3171        0    0   \n",
       "2018-12-31 22:00:00   22  993   382   226     219  2796        0    0   \n",
       "2018-12-31 23:00:00   23  993   379   226     193  2667        0    0   \n",
       "\n",
       "                     srnwbls  nucl  thermal  imports  lhydro  \n",
       "DT                                                            \n",
       "2018-12-01 00:00:00     5806  2011     5614     6245    1864  \n",
       "2018-12-01 01:00:00     5848  2009     5229     6258    1737  \n",
       "2018-12-01 02:00:00     4556  2010     6220     6291    1597  \n",
       "2018-12-01 03:00:00     5240  2009     5370     6332    1561  \n",
       "2018-12-01 04:00:00     5277  2008     5409     6265    1676  \n",
       "2018-12-01 05:00:00     5258  2009     5726     6021    2229  \n",
       "2018-12-01 06:00:00     5105  2008     6253     6531    2347  \n",
       "2018-12-01 07:00:00     6874  2004     5442     6057    2187  \n",
       "2018-12-01 08:00:00    10181  1979     3922     4909    1663  \n",
       "2018-12-01 09:00:00    11564  1893     3236     4577    1619  \n",
       "2018-12-01 10:00:00    12201   818     3173     4455    1775  \n",
       "2018-12-01 11:00:00    12098   621     3361     4244    1762  \n",
       "2018-12-01 12:00:00    11608   554     3430     4651    1847  \n",
       "2018-12-01 13:00:00    11002   519     3580     5214    1716  \n",
       "2018-12-01 14:00:00     9824   535     4659     5648    1675  \n",
       "2018-12-01 15:00:00     7205   539     6718     6590    2108  \n",
       "2018-12-01 16:00:00     5090   539     9231     6979    2569  \n",
       "2018-12-01 17:00:00     4812   540    10766     7735    2906  \n",
       "2018-12-01 18:00:00     4639   537    10767     8111    2735  \n",
       "2018-12-01 19:00:00     4609   509    10598     8057    2555  \n",
       "2018-12-01 20:00:00     4674   506    10221     8097    2356  \n",
       "2018-12-01 21:00:00     4437   506     9688     8125    2206  \n",
       "2018-12-01 22:00:00     4023   505     9678     7188    2178  \n",
       "2018-12-01 23:00:00     3892   507     8885     7286    1883  \n",
       "2018-12-02 00:00:00     3865   507     8686     6532    1933  \n",
       "2018-12-02 01:00:00     3790   506     7981     6671    1883  \n",
       "2018-12-02 02:00:00     2711   499     8761     6806    1543  \n",
       "2018-12-02 03:00:00     3736   497     7528     6779    1556  \n",
       "2018-12-02 04:00:00     3660   497     7569     6569    1884  \n",
       "2018-12-02 05:00:00     3513   497     8049     6433    2137  \n",
       "...                      ...   ...      ...      ...     ...  \n",
       "2018-12-30 18:00:00     5129  2272     7096     8974    3163  \n",
       "2018-12-30 19:00:00     5250  2272     7496     8628    2791  \n",
       "2018-12-30 20:00:00     5285  2272     7470     8291    2664  \n",
       "2018-12-30 21:00:00     5237  2273     7118     7877    2567  \n",
       "2018-12-30 22:00:00     4933  2273     6940     7448    2288  \n",
       "2018-12-30 23:00:00     4734  2273     6407     6903    2242  \n",
       "2018-12-31 00:00:00     4395  2272     5787     6872    2053  \n",
       "2018-12-31 01:00:00     4284  2272     5506     6658    1824  \n",
       "2018-12-31 02:00:00     3471  2273     6361     6002    1931  \n",
       "2018-12-31 03:00:00     4906  2274     5369     5511    1939  \n",
       "2018-12-31 04:00:00     5140  2275     5308     5548    2092  \n",
       "2018-12-31 05:00:00     5140  2276     5203     6515    2261  \n",
       "2018-12-31 06:00:00     4913  2276     5799     7590    2283  \n",
       "2018-12-31 07:00:00     4959  2275     6584     7584    2362  \n",
       "2018-12-31 08:00:00     6668  2273     6541     6379    2291  \n",
       "2018-12-31 09:00:00     7998  2273     5589     6118    1965  \n",
       "2018-12-31 10:00:00     8422  2274     4822     6275    1741  \n",
       "2018-12-31 11:00:00     8421  2273     4566     6102    1553  \n",
       "2018-12-31 12:00:00     8890  2273     4352     5463    1480  \n",
       "2018-12-31 13:00:00     9015  2274     4034     5392    1487  \n",
       "2018-12-31 14:00:00     9265  2274     4214     5146    1633  \n",
       "2018-12-31 15:00:00     7490  2273     5330     6113    2036  \n",
       "2018-12-31 16:00:00     4668  2273     7560     7873    2623  \n",
       "2018-12-31 17:00:00     4205  2274     9063     8649    3491  \n",
       "2018-12-31 18:00:00     4276  2273     8863     9109    3141  \n",
       "2018-12-31 19:00:00     4314  2273     8037     9130    3082  \n",
       "2018-12-31 20:00:00     4723  2273     7233     8748    2953  \n",
       "2018-12-31 21:00:00     5065  2273     6500     8401    2724  \n",
       "2018-12-31 22:00:00     4616  2272     7011     7417    2515  \n",
       "2018-12-31 23:00:00     4458  2272     7038     6532    2488  \n",
       "\n",
       "[744 rows x 13 columns]"
      ]
     },
     "execution_count": 22,
     "metadata": {},
     "output_type": "execute_result"
    }
   ],
   "source": [
    "one_year_data[11] # one year data is a list of df's, that need to be concatenated"
   ]
  },
  {
   "cell_type": "code",
   "execution_count": 23,
   "metadata": {},
   "outputs": [],
   "source": [
    "df2018= pd.concat(one_year_data)"
   ]
  },
  {
   "cell_type": "code",
   "execution_count": 24,
   "metadata": {
    "collapsed": true
   },
   "outputs": [
    {
     "name": "stdout",
     "output_type": "stream",
     "text": [
      "<class 'pandas.core.frame.DataFrame'>\n",
      "DatetimeIndex: 8760 entries, 2018-01-01 00:00:00 to 2018-12-31 23:00:00\n",
      "Data columns (total 13 columns):\n",
      "hour       8760 non-null object\n",
      "geo        8760 non-null int64\n",
      "biom       8760 non-null int64\n",
      "biog       8760 non-null int64\n",
      "shydro     8760 non-null int64\n",
      "wind       8760 non-null int64\n",
      "solarPV    8760 non-null int64\n",
      "sTH        8760 non-null int64\n",
      "srnwbls    8760 non-null int64\n",
      "nucl       8760 non-null int64\n",
      "thermal    8760 non-null int64\n",
      "imports    8760 non-null int64\n",
      "lhydro     8760 non-null int64\n",
      "dtypes: int64(12), object(1)\n",
      "memory usage: 958.1+ KB\n"
     ]
    }
   ],
   "source": [
    "df2018.info()"
   ]
  },
  {
   "cell_type": "code",
   "execution_count": 25,
   "metadata": {},
   "outputs": [
    {
     "data": {
      "text/html": [
       "<div>\n",
       "<style scoped>\n",
       "    .dataframe tbody tr th:only-of-type {\n",
       "        vertical-align: middle;\n",
       "    }\n",
       "\n",
       "    .dataframe tbody tr th {\n",
       "        vertical-align: top;\n",
       "    }\n",
       "\n",
       "    .dataframe thead th {\n",
       "        text-align: right;\n",
       "    }\n",
       "</style>\n",
       "<table border=\"1\" class=\"dataframe\">\n",
       "  <thead>\n",
       "    <tr style=\"text-align: right;\">\n",
       "      <th></th>\n",
       "      <th>hour</th>\n",
       "      <th>geo</th>\n",
       "      <th>biom</th>\n",
       "      <th>biog</th>\n",
       "      <th>shydro</th>\n",
       "      <th>wind</th>\n",
       "      <th>solarPV</th>\n",
       "      <th>sTH</th>\n",
       "      <th>srnwbls</th>\n",
       "      <th>nucl</th>\n",
       "      <th>thermal</th>\n",
       "      <th>imports</th>\n",
       "      <th>lhydro</th>\n",
       "    </tr>\n",
       "    <tr>\n",
       "      <th>DT</th>\n",
       "      <th></th>\n",
       "      <th></th>\n",
       "      <th></th>\n",
       "      <th></th>\n",
       "      <th></th>\n",
       "      <th></th>\n",
       "      <th></th>\n",
       "      <th></th>\n",
       "      <th></th>\n",
       "      <th></th>\n",
       "      <th></th>\n",
       "      <th></th>\n",
       "      <th></th>\n",
       "    </tr>\n",
       "  </thead>\n",
       "  <tbody>\n",
       "    <tr>\n",
       "      <th>2018-12-31 19:00:00</th>\n",
       "      <td>19</td>\n",
       "      <td>993</td>\n",
       "      <td>389</td>\n",
       "      <td>228</td>\n",
       "      <td>383</td>\n",
       "      <td>2321</td>\n",
       "      <td>0</td>\n",
       "      <td>0</td>\n",
       "      <td>4314</td>\n",
       "      <td>2273</td>\n",
       "      <td>8037</td>\n",
       "      <td>9130</td>\n",
       "      <td>3082</td>\n",
       "    </tr>\n",
       "    <tr>\n",
       "      <th>2018-12-31 20:00:00</th>\n",
       "      <td>20</td>\n",
       "      <td>991</td>\n",
       "      <td>383</td>\n",
       "      <td>228</td>\n",
       "      <td>326</td>\n",
       "      <td>2795</td>\n",
       "      <td>0</td>\n",
       "      <td>0</td>\n",
       "      <td>4723</td>\n",
       "      <td>2273</td>\n",
       "      <td>7233</td>\n",
       "      <td>8748</td>\n",
       "      <td>2953</td>\n",
       "    </tr>\n",
       "    <tr>\n",
       "      <th>2018-12-31 21:00:00</th>\n",
       "      <td>21</td>\n",
       "      <td>992</td>\n",
       "      <td>383</td>\n",
       "      <td>227</td>\n",
       "      <td>292</td>\n",
       "      <td>3171</td>\n",
       "      <td>0</td>\n",
       "      <td>0</td>\n",
       "      <td>5065</td>\n",
       "      <td>2273</td>\n",
       "      <td>6500</td>\n",
       "      <td>8401</td>\n",
       "      <td>2724</td>\n",
       "    </tr>\n",
       "    <tr>\n",
       "      <th>2018-12-31 22:00:00</th>\n",
       "      <td>22</td>\n",
       "      <td>993</td>\n",
       "      <td>382</td>\n",
       "      <td>226</td>\n",
       "      <td>219</td>\n",
       "      <td>2796</td>\n",
       "      <td>0</td>\n",
       "      <td>0</td>\n",
       "      <td>4616</td>\n",
       "      <td>2272</td>\n",
       "      <td>7011</td>\n",
       "      <td>7417</td>\n",
       "      <td>2515</td>\n",
       "    </tr>\n",
       "    <tr>\n",
       "      <th>2018-12-31 23:00:00</th>\n",
       "      <td>23</td>\n",
       "      <td>993</td>\n",
       "      <td>379</td>\n",
       "      <td>226</td>\n",
       "      <td>193</td>\n",
       "      <td>2667</td>\n",
       "      <td>0</td>\n",
       "      <td>0</td>\n",
       "      <td>4458</td>\n",
       "      <td>2272</td>\n",
       "      <td>7038</td>\n",
       "      <td>6532</td>\n",
       "      <td>2488</td>\n",
       "    </tr>\n",
       "  </tbody>\n",
       "</table>\n",
       "</div>"
      ],
      "text/plain": [
       "                    hour  geo  biom  biog  shydro  wind  solarPV  sTH  \\\n",
       "DT                                                                      \n",
       "2018-12-31 19:00:00   19  993   389   228     383  2321        0    0   \n",
       "2018-12-31 20:00:00   20  991   383   228     326  2795        0    0   \n",
       "2018-12-31 21:00:00   21  992   383   227     292  3171        0    0   \n",
       "2018-12-31 22:00:00   22  993   382   226     219  2796        0    0   \n",
       "2018-12-31 23:00:00   23  993   379   226     193  2667        0    0   \n",
       "\n",
       "                     srnwbls  nucl  thermal  imports  lhydro  \n",
       "DT                                                            \n",
       "2018-12-31 19:00:00     4314  2273     8037     9130    3082  \n",
       "2018-12-31 20:00:00     4723  2273     7233     8748    2953  \n",
       "2018-12-31 21:00:00     5065  2273     6500     8401    2724  \n",
       "2018-12-31 22:00:00     4616  2272     7011     7417    2515  \n",
       "2018-12-31 23:00:00     4458  2272     7038     6532    2488  "
      ]
     },
     "execution_count": 25,
     "metadata": {},
     "output_type": "execute_result"
    }
   ],
   "source": [
    "df2018.tail()"
   ]
  },
  {
   "cell_type": "markdown",
   "metadata": {},
   "source": [
    "# H2 2018  Are only Hours starting at 2am & 3am the lowest for this period also?\n",
    " Can also concatenate to make a full year and extend the regression analysis"
   ]
  },
  {
   "cell_type": "code",
   "execution_count": 13,
   "metadata": {},
   "outputs": [
    {
     "data": {
      "text/plain": [
       "['201807', '201808', '201809', '201810', '201811', '201812']"
      ]
     },
     "execution_count": 13,
     "metadata": {},
     "output_type": "execute_result"
    }
   ],
   "source": [
    "H2_2018_months=  [('2018'+ rest) for rest in ['07','08','09']] + ['201810','201811','201812']\n",
    "H2_2018"
   ]
  },
  {
   "cell_type": "code",
   "execution_count": 15,
   "metadata": {},
   "outputs": [],
   "source": [
    "H2_2018_data= [read_one_month(month) for month in H2_2018_months]     # response ONLY after two minutes?"
   ]
  },
  {
   "cell_type": "code",
   "execution_count": 18,
   "metadata": {
    "collapsed": true
   },
   "outputs": [
    {
     "name": "stdout",
     "output_type": "stream",
     "text": [
      "<class 'pandas.core.frame.DataFrame'>\n",
      "DatetimeIndex: 4416 entries, 2018-07-01 00:00:00 to 2018-12-31 23:00:00\n",
      "Data columns (total 13 columns):\n",
      "hour       4416 non-null object\n",
      "geo        4416 non-null int64\n",
      "biom       4416 non-null int64\n",
      "biog       4416 non-null int64\n",
      "shydro     4416 non-null int64\n",
      "wind       4416 non-null int64\n",
      "solarPV    4416 non-null int64\n",
      "sTH        4416 non-null int64\n",
      "srnwbls    4416 non-null int64\n",
      "nucl       4416 non-null int64\n",
      "thermal    4416 non-null int64\n",
      "imports    4416 non-null int64\n",
      "lhydro     4416 non-null int64\n",
      "dtypes: int64(12), object(1)\n",
      "memory usage: 483.0+ KB\n"
     ]
    },
    {
     "data": {
      "text/html": [
       "<div>\n",
       "<style scoped>\n",
       "    .dataframe tbody tr th:only-of-type {\n",
       "        vertical-align: middle;\n",
       "    }\n",
       "\n",
       "    .dataframe tbody tr th {\n",
       "        vertical-align: top;\n",
       "    }\n",
       "\n",
       "    .dataframe thead th {\n",
       "        text-align: right;\n",
       "    }\n",
       "</style>\n",
       "<table border=\"1\" class=\"dataframe\">\n",
       "  <thead>\n",
       "    <tr style=\"text-align: right;\">\n",
       "      <th></th>\n",
       "      <th>hour</th>\n",
       "      <th>geo</th>\n",
       "      <th>biom</th>\n",
       "      <th>biog</th>\n",
       "      <th>shydro</th>\n",
       "      <th>wind</th>\n",
       "      <th>solarPV</th>\n",
       "      <th>sTH</th>\n",
       "      <th>srnwbls</th>\n",
       "      <th>nucl</th>\n",
       "      <th>thermal</th>\n",
       "      <th>imports</th>\n",
       "      <th>lhydro</th>\n",
       "    </tr>\n",
       "    <tr>\n",
       "      <th>DT</th>\n",
       "      <th></th>\n",
       "      <th></th>\n",
       "      <th></th>\n",
       "      <th></th>\n",
       "      <th></th>\n",
       "      <th></th>\n",
       "      <th></th>\n",
       "      <th></th>\n",
       "      <th></th>\n",
       "      <th></th>\n",
       "      <th></th>\n",
       "      <th></th>\n",
       "      <th></th>\n",
       "    </tr>\n",
       "  </thead>\n",
       "  <tbody>\n",
       "    <tr>\n",
       "      <th>2018-12-31 19:00:00</th>\n",
       "      <td>19</td>\n",
       "      <td>993</td>\n",
       "      <td>389</td>\n",
       "      <td>228</td>\n",
       "      <td>383</td>\n",
       "      <td>2321</td>\n",
       "      <td>0</td>\n",
       "      <td>0</td>\n",
       "      <td>4314</td>\n",
       "      <td>2273</td>\n",
       "      <td>8037</td>\n",
       "      <td>9130</td>\n",
       "      <td>3082</td>\n",
       "    </tr>\n",
       "    <tr>\n",
       "      <th>2018-12-31 20:00:00</th>\n",
       "      <td>20</td>\n",
       "      <td>991</td>\n",
       "      <td>383</td>\n",
       "      <td>228</td>\n",
       "      <td>326</td>\n",
       "      <td>2795</td>\n",
       "      <td>0</td>\n",
       "      <td>0</td>\n",
       "      <td>4723</td>\n",
       "      <td>2273</td>\n",
       "      <td>7233</td>\n",
       "      <td>8748</td>\n",
       "      <td>2953</td>\n",
       "    </tr>\n",
       "    <tr>\n",
       "      <th>2018-12-31 21:00:00</th>\n",
       "      <td>21</td>\n",
       "      <td>992</td>\n",
       "      <td>383</td>\n",
       "      <td>227</td>\n",
       "      <td>292</td>\n",
       "      <td>3171</td>\n",
       "      <td>0</td>\n",
       "      <td>0</td>\n",
       "      <td>5065</td>\n",
       "      <td>2273</td>\n",
       "      <td>6500</td>\n",
       "      <td>8401</td>\n",
       "      <td>2724</td>\n",
       "    </tr>\n",
       "    <tr>\n",
       "      <th>2018-12-31 22:00:00</th>\n",
       "      <td>22</td>\n",
       "      <td>993</td>\n",
       "      <td>382</td>\n",
       "      <td>226</td>\n",
       "      <td>219</td>\n",
       "      <td>2796</td>\n",
       "      <td>0</td>\n",
       "      <td>0</td>\n",
       "      <td>4616</td>\n",
       "      <td>2272</td>\n",
       "      <td>7011</td>\n",
       "      <td>7417</td>\n",
       "      <td>2515</td>\n",
       "    </tr>\n",
       "    <tr>\n",
       "      <th>2018-12-31 23:00:00</th>\n",
       "      <td>23</td>\n",
       "      <td>993</td>\n",
       "      <td>379</td>\n",
       "      <td>226</td>\n",
       "      <td>193</td>\n",
       "      <td>2667</td>\n",
       "      <td>0</td>\n",
       "      <td>0</td>\n",
       "      <td>4458</td>\n",
       "      <td>2272</td>\n",
       "      <td>7038</td>\n",
       "      <td>6532</td>\n",
       "      <td>2488</td>\n",
       "    </tr>\n",
       "  </tbody>\n",
       "</table>\n",
       "</div>"
      ],
      "text/plain": [
       "                    hour  geo  biom  biog  shydro  wind  solarPV  sTH  \\\n",
       "DT                                                                      \n",
       "2018-12-31 19:00:00   19  993   389   228     383  2321        0    0   \n",
       "2018-12-31 20:00:00   20  991   383   228     326  2795        0    0   \n",
       "2018-12-31 21:00:00   21  992   383   227     292  3171        0    0   \n",
       "2018-12-31 22:00:00   22  993   382   226     219  2796        0    0   \n",
       "2018-12-31 23:00:00   23  993   379   226     193  2667        0    0   \n",
       "\n",
       "                     srnwbls  nucl  thermal  imports  lhydro  \n",
       "DT                                                            \n",
       "2018-12-31 19:00:00     4314  2273     8037     9130    3082  \n",
       "2018-12-31 20:00:00     4723  2273     7233     8748    2953  \n",
       "2018-12-31 21:00:00     5065  2273     6500     8401    2724  \n",
       "2018-12-31 22:00:00     4616  2272     7011     7417    2515  \n",
       "2018-12-31 23:00:00     4458  2272     7038     6532    2488  "
      ]
     },
     "execution_count": 18,
     "metadata": {},
     "output_type": "execute_result"
    }
   ],
   "source": [
    "df18H2 = pd.concat(H2_2018_data)\n",
    "df18H2.info()\n",
    "df18H2.tail()"
   ]
  },
  {
   "cell_type": "markdown",
   "metadata": {},
   "source": [
    "# Completed Work for the first six months of 2018 (H2 2018)"
   ]
  },
  {
   "cell_type": "code",
   "execution_count": null,
   "metadata": {},
   "outputs": [],
   "source": [
    "six_months= [('2018'+ rest) for rest in ['01','02','03','04','05','06']]\n",
    "six_months"
   ]
  },
  {
   "cell_type": "code",
   "execution_count": null,
   "metadata": {},
   "outputs": [],
   "source": [
    "half_year= [read_one_month(month) for month in six_months]     # response ONLY after two minutes!\n",
    "half_year[0] # half_year is a list of df's"
   ]
  },
  {
   "cell_type": "code",
   "execution_count": null,
   "metadata": {},
   "outputs": [],
   "source": [
    "six_months_data = pd.concat(half_year)\n",
    "six_months_data.head()\n",
    "six_months_data.info()\n",
    "six_months_data.tail()"
   ]
  },
  {
   "cell_type": "code",
   "execution_count": null,
   "metadata": {},
   "outputs": [],
   "source": [
    "# This version unnecesssary as the Code above does run, just with a delay of 2 minutes\n",
    "# half_year= [read_one_month(month) for month in [('2018'+ rest) for rest in ['01','02','03','04','05','06']]]"
   ]
  },
  {
   "cell_type": "code",
   "execution_count": null,
   "metadata": {},
   "outputs": [],
   "source": [
    "one_year_data= read_one_month(twelve_months[11])\n",
    "# OK for 0,1,2,3,4,5,6,7,8,9,10,11 : which comprises the whole year!\n",
    "#checked one month at a time!), as a precursor to the above"
   ]
  },
  {
   "cell_type": "markdown",
   "metadata": {},
   "source": [
    "# Graphing six_months_data"
   ]
  },
  {
   "cell_type": "code",
   "execution_count": null,
   "metadata": {},
   "outputs": [],
   "source": [
    "# six_months_data.info() # datetime index, hour as strings, rest are all type 'int'\n",
    "df= six_months_data.copy()\n",
    "x= range(1,4345) # number of hours\n",
    "y= [df.nucl, df.wind, df.solarPV, df.lhydro, df.thermal,df.imports]\n",
    "plt.stackplot(x,y,labels= ['nuclear', 'wind','solarPV','Lhydro','thermal','imports'])\n",
    "plt.xticks([720,1440,90,2160,2880,3600])  # these are in Hours, not days!\n",
    "plt.xlabel('Day')\n",
    "plt.ylabel('Power Generation (GWh)')\n",
    "plt.title('Daily Power Generation')\n",
    "plt.legend(loc= 'upper left')\n",
    "plt.show()                      # Completely overcrowded, so plot monthly in a pane of six months"
   ]
  },
  {
   "cell_type": "markdown",
   "metadata": {},
   "source": [
    "# Import CAISO Hourly DAM Prices: Completed Six Months Analysis"
   ]
  },
  {
   "cell_type": "code",
   "execution_count": 4,
   "metadata": {
    "collapsed": true
   },
   "outputs": [
    {
     "name": "stdout",
     "output_type": "stream",
     "text": [
      "<class 'pandas.core.frame.DataFrame'>\n",
      "DatetimeIndex: 4343 entries, 2018-01-01 23:00:00 to 2018-06-30 12:00:00\n",
      "Data columns (total 5 columns):\n",
      "hour       4343 non-null int64\n",
      "price      4343 non-null float64\n",
      "day        4343 non-null datetime64[ns]\n",
      "weekday    4343 non-null object\n",
      "month      4343 non-null int64\n",
      "dtypes: datetime64[ns](1), float64(1), int64(2), object(1)\n",
      "memory usage: 203.6+ KB\n"
     ]
    },
    {
     "name": "stderr",
     "output_type": "stream",
     "text": [
      "/anaconda3/lib/python3.7/site-packages/ipykernel_launcher.py:10: SettingWithCopyWarning: \n",
      "A value is trying to be set on a copy of a slice from a DataFrame.\n",
      "Try using .loc[row_indexer,col_indexer] = value instead\n",
      "\n",
      "See the caveats in the documentation: http://pandas.pydata.org/pandas-docs/stable/indexing.html#indexing-view-versus-copy\n",
      "  # Remove the CWD from sys.path while we load stuff.\n"
     ]
    },
    {
     "data": {
      "text/html": [
       "<div>\n",
       "<style scoped>\n",
       "    .dataframe tbody tr th:only-of-type {\n",
       "        vertical-align: middle;\n",
       "    }\n",
       "\n",
       "    .dataframe tbody tr th {\n",
       "        vertical-align: top;\n",
       "    }\n",
       "\n",
       "    .dataframe thead th {\n",
       "        text-align: right;\n",
       "    }\n",
       "</style>\n",
       "<table border=\"1\" class=\"dataframe\">\n",
       "  <thead>\n",
       "    <tr style=\"text-align: right;\">\n",
       "      <th></th>\n",
       "      <th>hour</th>\n",
       "      <th>price</th>\n",
       "      <th>day</th>\n",
       "      <th>weekday</th>\n",
       "      <th>month</th>\n",
       "    </tr>\n",
       "    <tr>\n",
       "      <th>date</th>\n",
       "      <th></th>\n",
       "      <th></th>\n",
       "      <th></th>\n",
       "      <th></th>\n",
       "      <th></th>\n",
       "    </tr>\n",
       "  </thead>\n",
       "  <tbody>\n",
       "    <tr>\n",
       "      <th>2018-06-30 20:00:00</th>\n",
       "      <td>14</td>\n",
       "      <td>30.77381</td>\n",
       "      <td>2018-06-30</td>\n",
       "      <td>Saturday</td>\n",
       "      <td>6</td>\n",
       "    </tr>\n",
       "    <tr>\n",
       "      <th>2018-06-30 13:00:00</th>\n",
       "      <td>7</td>\n",
       "      <td>26.89662</td>\n",
       "      <td>2018-06-30</td>\n",
       "      <td>Saturday</td>\n",
       "      <td>6</td>\n",
       "    </tr>\n",
       "    <tr>\n",
       "      <th>2018-07-01 03:00:00</th>\n",
       "      <td>21</td>\n",
       "      <td>50.77052</td>\n",
       "      <td>2018-06-30</td>\n",
       "      <td>Saturday</td>\n",
       "      <td>6</td>\n",
       "    </tr>\n",
       "    <tr>\n",
       "      <th>2018-06-30 18:00:00</th>\n",
       "      <td>12</td>\n",
       "      <td>25.32498</td>\n",
       "      <td>2018-06-30</td>\n",
       "      <td>Saturday</td>\n",
       "      <td>6</td>\n",
       "    </tr>\n",
       "    <tr>\n",
       "      <th>2018-06-30 12:00:00</th>\n",
       "      <td>6</td>\n",
       "      <td>36.75014</td>\n",
       "      <td>2018-06-30</td>\n",
       "      <td>Saturday</td>\n",
       "      <td>6</td>\n",
       "    </tr>\n",
       "  </tbody>\n",
       "</table>\n",
       "</div>"
      ],
      "text/plain": [
       "                     hour     price        day   weekday  month\n",
       "date                                                           \n",
       "2018-06-30 20:00:00    14  30.77381 2018-06-30  Saturday      6\n",
       "2018-06-30 13:00:00     7  26.89662 2018-06-30  Saturday      6\n",
       "2018-07-01 03:00:00    21  50.77052 2018-06-30  Saturday      6\n",
       "2018-06-30 18:00:00    12  25.32498 2018-06-30  Saturday      6\n",
       "2018-06-30 12:00:00     6  36.75014 2018-06-30  Saturday      6"
      ]
     },
     "execution_count": 4,
     "metadata": {},
     "output_type": "execute_result"
    }
   ],
   "source": [
    "# "
   ]
  },
  {
   "cell_type": "code",
   "execution_count": null,
   "metadata": {},
   "outputs": [],
   "source": []
  },
  {
   "cell_type": "code",
   "execution_count": null,
   "metadata": {},
   "outputs": [],
   "source": []
  },
  {
   "cell_type": "code",
   "execution_count": null,
   "metadata": {},
   "outputs": [],
   "source": []
  },
  {
   "cell_type": "code",
   "execution_count": null,
   "metadata": {},
   "outputs": [],
   "source": []
  },
  {
   "cell_type": "code",
   "execution_count": null,
   "metadata": {},
   "outputs": [],
   "source": [
    "# one way to make the hours line up should be to merge the two df's (df & dfp) on the datetime index"
   ]
  },
  {
   "cell_type": "code",
   "execution_count": null,
   "metadata": {},
   "outputs": [],
   "source": [
    "# dfc= pd.merge(df,dfp, how= 'inner', left_on= df.index, right_on= dfp.index)\n",
    "dfc= pd.merge(df,dfp, how= 'inner', left_on= df.index, right_on= dfp.index)"
   ]
  },
  {
   "cell_type": "code",
   "execution_count": null,
   "metadata": {},
   "outputs": [],
   "source": [
    "dfc.head() \n",
    "# note that for CAISO prices, the datetime is UK time, but for the scraped data the hour was imputed (so 7 hour delta)"
   ]
  },
  {
   "cell_type": "code",
   "execution_count": null,
   "metadata": {},
   "outputs": [],
   "source": []
  },
  {
   "cell_type": "code",
   "execution_count": null,
   "metadata": {},
   "outputs": [],
   "source": []
  },
  {
   "cell_type": "code",
   "execution_count": null,
   "metadata": {},
   "outputs": [],
   "source": [
    "df_pvt.head(3)"
   ]
  },
  {
   "cell_type": "code",
   "execution_count": null,
   "metadata": {},
   "outputs": [],
   "source": [
    "\n",
    "\n"
   ]
  },
  {
   "cell_type": "code",
   "execution_count": null,
   "metadata": {},
   "outputs": [],
   "source": []
  },
  {
   "cell_type": "code",
   "execution_count": null,
   "metadata": {},
   "outputs": [],
   "source": []
  },
  {
   "cell_type": "code",
   "execution_count": null,
   "metadata": {},
   "outputs": [],
   "source": [
    "\n"
   ]
  },
  {
   "cell_type": "code",
   "execution_count": null,
   "metadata": {},
   "outputs": [],
   "source": []
  },
  {
   "cell_type": "code",
   "execution_count": null,
   "metadata": {},
   "outputs": [],
   "source": []
  },
  {
   "cell_type": "code",
   "execution_count": null,
   "metadata": {},
   "outputs": [],
   "source": [
    "import numpy as np    \n",
    "hist, bin_edges = np.histogram([1, 1, 2, 2, 2, 2, 3], bins = range(5))\n",
    "Below, hist indicates that there are 0 items in bin #0, 2 in bin #1, 4 in bin #3, 1 in bin #4.\n",
    "\n",
    "print(hist)\n",
    "# array([0, 2, 4, 1])   \n",
    "bin_edges indicates that bin #0 is the interval [0,1), bin #1 is [1,2), ..., bin #3 is [3,4).\n",
    "\n",
    "print (bin_edges)\n",
    "# array([0, 1, 2, 3, 4]))  "
   ]
  },
  {
   "cell_type": "code",
   "execution_count": null,
   "metadata": {},
   "outputs": [],
   "source": [
    "hist = np.histogram(lowest_hours, bins = range(1,24))\n",
    "\n",
    "print(hist)\n",
    "\n",
    "# bin_edges indicates that bin #0 is the interval [0,1), bin #1 is [1,2), ..., bin #3 is [3,4).\n",
    "\n",
    "# print (bin_edges)\n",
    " "
   ]
  },
  {
   "cell_type": "markdown",
   "metadata": {},
   "source": [
    "# FAILED GROUPBY( )  EFFORT BELOW TO EXTRACT THE HOURS WITH THE LOWEST PRICES"
   ]
  },
  {
   "cell_type": "code",
   "execution_count": null,
   "metadata": {},
   "outputs": [],
   "source": [
    "g= dfc.groupby('day')    # ,g['price'].min()\n",
    "argmin()"
   ]
  },
  {
   "cell_type": "code",
   "execution_count": null,
   "metadata": {},
   "outputs": [],
   "source": [
    "g['price'].min() #now we have a llist \n",
    "# create a dictionary for each day, with hours and prices??\n",
    "# TypeError: f() takes 1 positional argument but 2 were given"
   ]
  },
  {
   "cell_type": "code",
   "execution_count": null,
   "metadata": {},
   "outputs": [],
   "source": []
  },
  {
   "cell_type": "code",
   "execution_count": null,
   "metadata": {},
   "outputs": [],
   "source": [
    "dfc['load']= dfc['srnwbls'] + dfc['nucl'] + dfc['thermal'] + dfc['imports'] + dfc['lhydro']\n",
    "# WE DROP 'DAY' HERE BUT MIGHT RETAIN FOR GROUPBY??\n",
    "dfc.index.names= ['date']\n",
    "dfc= dfc.rename(columns= {'hour_y': 'hour'})\n",
    "dfc['hour']= dfc['hour'].astype('category')\n",
    "dfc['weekday']= dfc['weekday'].astype('category')\n",
    "dfc['month']= dfc['month'].astype('category')\n",
    "dfc['hour']= dfc['hour'].astype('str')\n",
    "dfc.info()\n"
   ]
  },
  {
   "cell_type": "code",
   "execution_count": null,
   "metadata": {},
   "outputs": [],
   "source": [
    "# need to add dummies and carve out the night hours\n",
    "dfc.head()\n",
    "dfc.tail(10)\n",
    "dfc.hour[0:30] # Hmm all 24 hours do appear and in order\n",
    "dfc.hour[240:270] # also OK here"
   ]
  },
  {
   "cell_type": "code",
   "execution_count": null,
   "metadata": {},
   "outputs": [],
   "source": []
  },
  {
   "cell_type": "code",
   "execution_count": null,
   "metadata": {},
   "outputs": [],
   "source": [
    "df_wD= pd.get_dummies(dfc, drop_first= True)  # columns= [dfc.hour, dfc.weekday, dfc.month]"
   ]
  },
  {
   "cell_type": "code",
   "execution_count": null,
   "metadata": {},
   "outputs": [],
   "source": [
    "import statsmodels.api as sm\n",
    "from statsmodels.formula.api import ols\n",
    "# import statsmodels.formula.api as smf\n",
    "m= ols(formula= 'price ~ load + wind + solarPV + nucl + thermal + imports + lhydro + hour + weekday + month',\n",
    "       data= dfc).fit()"
   ]
  },
  {
   "cell_type": "code",
   "execution_count": null,
   "metadata": {},
   "outputs": [],
   "source": [
    "# .fit() already above"
   ]
  },
  {
   "cell_type": "code",
   "execution_count": null,
   "metadata": {},
   "outputs": [],
   "source": [
    "print(m.summary())"
   ]
  },
  {
   "cell_type": "markdown",
   "metadata": {},
   "source": [
    "# Commentary\n",
    "Allvariables except nuclear have statistically significant t-values.\n",
    "However, some have a positive effect on prices rather than a negative one (such as wind and solarPV).\n",
    "These surprises may be due to multicollinearity\n",
    "For example, load has a negative coefficient although common sense would suggest the opposite."
   ]
  },
  {
   "cell_type": "code",
   "execution_count": null,
   "metadata": {},
   "outputs": [],
   "source": [
    "# So we drop nuclear, and also 'load' to hopefully reduce multicollinearity\n",
    "# We see that the signs of the 'wind' & 'solarPV' variables have now switched, and make sense\n",
    "# With an adjusted R-squared of 71%, this is a credible starting point for predicting all 24 hours of the day\n",
    "m2= ols(formula= 'price ~ wind + solarPV +  thermal + imports + lhydro + hour + weekday + month', data= dfc).fit()"
   ]
  },
  {
   "cell_type": "code",
   "execution_count": null,
   "metadata": {},
   "outputs": [],
   "source": [
    "print(m2.summary())"
   ]
  },
  {
   "cell_type": "code",
   "execution_count": null,
   "metadata": {},
   "outputs": [],
   "source": [
    "dfc['hour'].isin(['1','2','3','4','5','6','23','24'])[0:30] # OK\n",
    "sum(dfc['hour'].isin(['1','2','3','4','5','6','23','24'])[0:24]) # also OK"
   ]
  },
  {
   "cell_type": "code",
   "execution_count": null,
   "metadata": {},
   "outputs": [],
   "source": [
    "# Now we focus the model exclusively on the off-peak hours of interest\n",
    "dfw= dfc[dfc['hour'].isin(['1','2','3','4','5','6','23','24'])]"
   ]
  },
  {
   "cell_type": "code",
   "execution_count": null,
   "metadata": {},
   "outputs": [],
   "source": [
    "dfw.head(10) # now OK "
   ]
  },
  {
   "cell_type": "code",
   "execution_count": null,
   "metadata": {},
   "outputs": [],
   "source": [
    "# recreate dummies for dfw ('wee hours')\n",
    "dfw_wD= pd.get_dummies(dfw, drop_first= True)  # columns= [dfw.hour, dfw.weekday, dfw.month]\n",
    "dfw_wD.head()\n",
    "dfw_wD.columns"
   ]
  },
  {
   "cell_type": "code",
   "execution_count": null,
   "metadata": {},
   "outputs": [],
   "source": [
    "# correct data specified? Two lines of code\n",
    "mw1= ols(formula= 'price ~ load + wind + solarPV + nucl + thermal + imports + lhydro + hour + weekday + month ', data= dfw).fit()"
   ]
  },
  {
   "cell_type": "code",
   "execution_count": null,
   "metadata": {},
   "outputs": [],
   "source": [
    "# OLD OUTPUT\n",
    "print(mw1.summary()) # Hmm very strange: we have MORE THAN 24 HOURS WHEN WE SHOULD HAVE JUST seven!!!\n",
    "# THIS ERROR AROSE AS 'data' had not been updated to dfw_wD"
   ]
  },
  {
   "cell_type": "markdown",
   "metadata": {},
   "source": [
    "# Argmax\n",
    "import numpy as np    \n",
    "A = np.matrix([[1,2,3,33],[4,5,6,66],[7,8,9,99]])\n",
    "\n",
    "np.argmax(A)  # 11, which is the position of 99\n",
    "\n",
    "np.argmax(A[:,:])  # 11, which is the position of 99\n",
    "\n",
    "np.argmax(A[:1])  # 3, which is the position of 33\n",
    "\n",
    "np.argmax(A[:,2])  # 2, which is the position of 9\n",
    "\n",
    "np.argmax(A[1:,2])  # 1, which is the position of 9"
   ]
  },
  {
   "cell_type": "code",
   "execution_count": null,
   "metadata": {},
   "outputs": [],
   "source": [
    "import numpy as np    \n",
    "A = np.matrix([[1,2,3,33],[4,5,6,66],[7,8,9,99]])\n",
    "A"
   ]
  },
  {
   "cell_type": "code",
   "execution_count": null,
   "metadata": {},
   "outputs": [],
   "source": [
    "np.argmax(A[:1])  # 3, which is the position of 33\n",
    "\n"
   ]
  },
  {
   "cell_type": "code",
   "execution_count": null,
   "metadata": {},
   "outputs": [],
   "source": [
    "np.argmax(A[:,2])  # 2, which is the position of 9\n",
    "\n"
   ]
  },
  {
   "cell_type": "code",
   "execution_count": null,
   "metadata": {},
   "outputs": [],
   "source": [
    "np.argmax(A[1:,2])  # 1, which is the position of 9"
   ]
  },
  {
   "cell_type": "code",
   "execution_count": null,
   "metadata": {},
   "outputs": [],
   "source": [
    "import numpy as np    \n",
    "A = np.matrix([[1,2,3,33],[4,5,6,66],[7,8,9,99]])\n",
    "A\n",
    "np.argmax(A[:0],axis=0) # when i=0, should be the first row"
   ]
  },
  {
   "cell_type": "code",
   "execution_count": null,
   "metadata": {},
   "outputs": [],
   "source": [
    "A.argmax(1)  # this is NOT numpy, but regular python. "
   ]
  },
  {
   "cell_type": "code",
   "execution_count": null,
   "metadata": {},
   "outputs": [],
   "source": [
    "# numpy.matrix.argmax\n",
    "\n",
    "matrix.argmax(axis=None, out=None)[source]\n",
    "Indexes of the maximum values along an axis.\n",
    "\n",
    "Return the indexes of the first occurrences of the maximum values along the specified axis. If axis is None, the index is for the flattened matrix.\n",
    "\n",
    "Parameters:\t\n",
    "See `numpy.argmax` for complete descriptions\n",
    "See also\n",
    "numpy.argmax\n",
    "\n",
    "Notes\n",
    "\n",
    "This is the same as ndarray.argmax, but returns a matrix object where ndarray.argmax would return an ndarray.\n",
    "\n",
    "Examples\n",
    "\n",
    ">>>\n",
    ">>> x = np.matrix(np.arange(12).reshape((3,4))); x\n",
    "matrix([[ 0,  1,  2,  3],\n",
    "        [ 4,  5,  6,  7],\n",
    "        [ 8,  9, 10, 11]])\n",
    ">>> x.argmax()            # for the flattened array\n",
    "11\n",
    ">>> x.argmax(0)           # axis = 0, the maximum for the column occurs in the 3rd row\n",
    "matrix([[2, 2, 2, 2]])\n",
    "\n",
    ">>> x.argmax(1)           # axis= 1 ; in each case the maximum for the ROW occurs in the third column!!\n",
    "matrix([[3],               # we want to know which column, so M.argmax(1)\n",
    "        [3],\n",
    "        [3]])"
   ]
  },
  {
   "cell_type": "code",
   "execution_count": null,
   "metadata": {},
   "outputs": [],
   "source": []
  },
  {
   "cell_type": "code",
   "execution_count": null,
   "metadata": {},
   "outputs": [],
   "source": []
  },
  {
   "cell_type": "code",
   "execution_count": null,
   "metadata": {},
   "outputs": [],
   "source": []
  },
  {
   "cell_type": "code",
   "execution_count": null,
   "metadata": {},
   "outputs": [],
   "source": []
  },
  {
   "cell_type": "code",
   "execution_count": null,
   "metadata": {},
   "outputs": [],
   "source": [
    "list(range(3))"
   ]
  },
  {
   "cell_type": "code",
   "execution_count": null,
   "metadata": {},
   "outputs": [],
   "source": [
    "[np.argmax(A[:i],axis=0) for i in list(range(3))]"
   ]
  },
  {
   "cell_type": "code",
   "execution_count": null,
   "metadata": {},
   "outputs": [],
   "source": []
  },
  {
   "cell_type": "markdown",
   "metadata": {},
   "source": [
    "# Various tests below on scraping different months and combinations of months."
   ]
  },
  {
   "cell_type": "code",
   "execution_count": null,
   "metadata": {},
   "outputs": [],
   "source": [
    "one_year[0].head()# OK"
   ]
  },
  {
   "cell_type": "code",
   "execution_count": null,
   "metadata": {},
   "outputs": [],
   "source": [
    "OCT.head()"
   ]
  },
  {
   "cell_type": "code",
   "execution_count": null,
   "metadata": {},
   "outputs": [],
   "source": [
    "NOV= read_one_month('201811')"
   ]
  },
  {
   "cell_type": "code",
   "execution_count": null,
   "metadata": {},
   "outputs": [],
   "source": [
    "NOV.tail()"
   ]
  },
  {
   "cell_type": "code",
   "execution_count": null,
   "metadata": {},
   "outputs": [],
   "source": [
    "JAN= read_one_month('201901')\n",
    "JAN.head()"
   ]
  },
  {
   "cell_type": "code",
   "execution_count": null,
   "metadata": {},
   "outputs": [],
   "source": [
    "type(JAN)"
   ]
  },
  {
   "cell_type": "code",
   "execution_count": null,
   "metadata": {},
   "outputs": [],
   "source": [
    "four_months= pd.concat(OCT, NOV, DEC, JAN) \n",
    "#TypeError: first argument must be an iterable of pandas objects, you passed an object of type \"DataFrame\"\n",
    "four_months.shape"
   ]
  },
  {
   "cell_type": "code",
   "execution_count": null,
   "metadata": {},
   "outputs": [],
   "source": []
  },
  {
   "cell_type": "code",
   "execution_count": null,
   "metadata": {},
   "outputs": [],
   "source": [
    "dfc= pd.concat(dfs)        # dfc for dataframes concatenated\n",
    "dfc.shape # 744 hours, 13"
   ]
  },
  {
   "cell_type": "code",
   "execution_count": null,
   "metadata": {},
   "outputs": [],
   "source": [
    "dfc.tail()"
   ]
  },
  {
   "cell_type": "code",
   "execution_count": null,
   "metadata": {},
   "outputs": [],
   "source": [
    "df.info()\n",
    "df.head(3)"
   ]
  },
  {
   "cell_type": "code",
   "execution_count": null,
   "metadata": {},
   "outputs": [],
   "source": []
  },
  {
   "cell_type": "code",
   "execution_count": null,
   "metadata": {},
   "outputs": [],
   "source": [
    "df.DD= pd.to_datetime()"
   ]
  },
  {
   "cell_type": "code",
   "execution_count": null,
   "metadata": {},
   "outputs": [],
   "source": []
  },
  {
   "cell_type": "code",
   "execution_count": null,
   "metadata": {},
   "outputs": [],
   "source": [
    "import pandas as pd  #Hmm, NOT tab-separated as blank columns inserted to accommodate long names!!\n",
    "\n",
    "def text_to_df(file):\n",
    "\n",
    "    df1= pd.read_csv(file, sep= '\\s+',skiprows = 2, header= None, nrows= 24)\n",
    "    df1.columns= ['hour','geo','biom','biog','shydro','wind','solar','solth']\n",
    "    df2= pd.read_csv(file,sep= '\\s+',skiprows = 30, header= None, nrows= 24)\n",
    "    df2.columns= ['hour','SRnwbls','nucl','thermal','imports','lhydro']\n",
    "    df2['load']= df2.hour + df2.SRnwbls + df2.nucl + df2.thermal + df2.imports + df2.lhydro\n",
    "    df2['netload'] = df2.load - df2.SRnwbls\n",
    "    df= pd.merge(df1,df2,on= 'hour')\n",
    "    return df\n"
   ]
  },
  {
   "cell_type": "code",
   "execution_count": null,
   "metadata": {},
   "outputs": [],
   "source": [
    "df= text_to_df('20190114_DailyRenewablesWatch.txt')\n",
    "print(df.head(2))\n"
   ]
  },
  {
   "cell_type": "code",
   "execution_count": null,
   "metadata": {},
   "outputs": [],
   "source": [
    "# THE requests package is much better than antiquated urllib (from DS)\n",
    "# better to use that!\n",
    "import requests\n",
    "url= 'http://content.caiso.com/green/renewrpt/20190114_DailyRenewablesWatch.txt'\n",
    "r= requests.get(url)# where r is the \"Response\"\n",
    "jan14= r.text # is this necessary as we already have a .txt file (not HTML)\n",
    "#save file w \n",
    "\n",
    "jan14file= open('jan14.txt', 'wb') # where wb is write binary: this saves the file (?) "
   ]
  },
  {
   "cell_type": "code",
   "execution_count": null,
   "metadata": {},
   "outputs": [],
   "source": [
    "# So the code runs on the downloaded file, but NOT on the API call using the requests.get() approach"
   ]
  },
  {
   "cell_type": "code",
   "execution_count": null,
   "metadata": {},
   "outputs": [],
   "source": [
    "df_caiso_jan14= text_to_df(jan14)#does not exist!!\n",
    "# df_caiso_jan14= text_to_df(jan14file) # UnsupportedOperation: read\n",
    "df_caiso_jan14= text_to_df(r) # Error: Invalid file path or buffer object type: <class 'requests.models.Response'>\n",
    "# DWW TRY STACK OVERFLOW FOR REFERENCES: ALSO LENOVO"
   ]
  },
  {
   "cell_type": "code",
   "execution_count": null,
   "metadata": {},
   "outputs": [],
   "source": []
  },
  {
   "cell_type": "code",
   "execution_count": null,
   "metadata": {},
   "outputs": [],
   "source": [
    "# we can just keep repeating with multiple df's to see them all on the same plot\n",
    "import matplotlib.pyplot as plt\n",
    "plt.xlabel('Hour of the Day')\n",
    "plt.ylabel('Net Load (in GW)')\n",
    "plt.title('The Characteristic California Solar-Driven Duck Curve: Hourly Net Load')\n",
    "\n",
    "plt.plot(df['hour'], df['netload'])# need to convert to Numpy array first?, eg via npm= df.values: apparently NOT\n",
    "plt.show()\n"
   ]
  },
  {
   "cell_type": "code",
   "execution_count": null,
   "metadata": {},
   "outputs": [],
   "source": []
  },
  {
   "cell_type": "code",
   "execution_count": null,
   "metadata": {},
   "outputs": [],
   "source": [
    "# Do we have the urllib library in the Anaconda distribution? It seems so, as no error thrown\n",
    "from urllib.request import urlretrieve\n",
    "url= 'http://www.caiso.com/market/Pages/ReportsBulletins/RenewablesReporting.aspx/20190114_DailyRenewablesWatch.txt'\n",
    "#NB the other daily file with all the charts is not a txt file, so will not be found!!\n",
    "urlretrieve( url, 'report20190114.txt')\n"
   ]
  },
  {
   "cell_type": "code",
   "execution_count": null,
   "metadata": {},
   "outputs": [],
   "source": [
    "file= 'report20190114.txt'"
   ]
  },
  {
   "cell_type": "code",
   "execution_count": null,
   "metadata": {},
   "outputs": [],
   "source": [
    "print(file)#Hmmm: check Hugo tutorial and printing the file, so we can understand how to read it!!!"
   ]
  },
  {
   "cell_type": "code",
   "execution_count": null,
   "metadata": {},
   "outputs": [],
   "source": [
    "text_to_df('report20190114.txt') # Error tokenizing data. C error: Expected 5 fields in line 6, saw 28\n",
    "# Hmm: confusing. why line 6? 28 columns seems too large vs. the 8 columns in df1 !?"
   ]
  },
  {
   "cell_type": "code",
   "execution_count": null,
   "metadata": {},
   "outputs": [],
   "source": [
    "# Now try it for january 12th, with automatic download from the CAISO website (RE-TYPE inverted commas if pasted!!)\n",
    "url2='http://www.caiso.com/market/Pages/ReportsBulletins/RenewablesReporting.aspx/20190112_DailyRenewablesWatch.txt'"
   ]
  },
  {
   "cell_type": "code",
   "execution_count": null,
   "metadata": {},
   "outputs": [],
   "source": [
    "# paste from above then modify\n",
    "url2= 'http://www.caiso.com/market/Pages/ReportsBulletins/RenewablesReporting.aspx/20190112_DailyRenewablesWatch.txt'"
   ]
  },
  {
   "cell_type": "code",
   "execution_count": null,
   "metadata": {},
   "outputs": [],
   "source": [
    "urlretrieve( url2, 'report20190112.txt') # naming the locally downloaded file for the January 12th text file\n",
    "# error message went away after retyping the pasted commas!!"
   ]
  },
  {
   "cell_type": "code",
   "execution_count": null,
   "metadata": {},
   "outputs": [],
   "source": [
    "text_to_df('report20190112.txt') # running the function on the January 12th file\n",
    "# Error tokenizing data. C error: Expected 5 fields in line 6, saw 28"
   ]
  },
  {
   "cell_type": "code",
   "execution_count": null,
   "metadata": {},
   "outputs": [],
   "source": [
    "#Whoops: first we must correctly name the long file to download from CAISO\n",
    "caisonames= [’http://www.caiso.com/market/Pages/ReportsBulletins/RenewablesReporting.aspx/'+ date + \n",
    "              /'_DailyRenewablesWatch.txt’ for date in dates] "
   ]
  },
  {
   "cell_type": "code",
   "execution_count": null,
   "metadata": {},
   "outputs": [],
   "source": [
    "dates= [d.strftime('%Y%m%d') for d in pd.date_range('20181201','20181231')] #try this for month of December to start\n",
    "dates[0:2]"
   ]
  },
  {
   "cell_type": "code",
   "execution_count": null,
   "metadata": {},
   "outputs": [],
   "source": [
    "filenames= []\n",
    "for date in dates:\n",
    "    filenames.append('report'+ date + '.text')\n",
    "filenames[0:2]"
   ]
  },
  {
   "cell_type": "code",
   "execution_count": null,
   "metadata": {},
   "outputs": [],
   "source": [
    "reportnames= ['report'+ date + '.text' for date in dates] # more succinctly using a list comprehension\n",
    "reportnames[0:3]"
   ]
  },
  {
   "cell_type": "code",
   "execution_count": null,
   "metadata": {},
   "outputs": [],
   "source": [
    "dfs= []\n",
    "for report in reportnames:\n",
    "    frames.append(text_to_df(report))\n",
    "combined= pd.concat(dfs)\n",
    "combined.shape\n",
    "combined.head()\n",
    "    "
   ]
  },
  {
   "cell_type": "code",
   "execution_count": null,
   "metadata": {},
   "outputs": [],
   "source": [
    "combined.tail()"
   ]
  },
  {
   "cell_type": "code",
   "execution_count": null,
   "metadata": {},
   "outputs": [],
   "source": []
  },
  {
   "cell_type": "code",
   "execution_count": null,
   "metadata": {},
   "outputs": [],
   "source": []
  },
  {
   "cell_type": "code",
   "execution_count": null,
   "metadata": {},
   "outputs": [],
   "source": []
  },
  {
   "cell_type": "markdown",
   "metadata": {},
   "source": [
    "# OLD CODE LISTED BELOW FOR POSSIBLE RECYCLING: IGNORE!"
   ]
  },
  {
   "cell_type": "code",
   "execution_count": null,
   "metadata": {},
   "outputs": [],
   "source": [
    "df_Mar= pd.read_csv('March_2018.csv', header= 0, usecols= [0,2,3,8,9,13,14],parse_dates= True, index_col= 'INTERVALSTARTTIME_GMT')"
   ]
  },
  {
   "cell_type": "code",
   "execution_count": null,
   "metadata": {},
   "outputs": [],
   "source": [
    "df_Apr= pd.read_csv('April_2018.csv', header= 0, usecols= [0,2,3,8,9,13,14],parse_dates= True, index_col= 'INTERVALSTARTTIME_GMT')"
   ]
  },
  {
   "cell_type": "code",
   "execution_count": null,
   "metadata": {},
   "outputs": [],
   "source": [
    "df_May= pd.read_csv('May_2018.csv', header= 0, usecols= [0,2,3,8,9,13,14],parse_dates= True, index_col= 'INTERVALSTARTTIME_GMT')"
   ]
  },
  {
   "cell_type": "code",
   "execution_count": null,
   "metadata": {},
   "outputs": [],
   "source": [
    "df_Jun= pd.read_csv('June_2018.csv', header= 0, usecols= [0,2,3,8,9,13,14],parse_dates= True, index_col= 'INTERVALSTARTTIME_GMT')"
   ]
  },
  {
   "cell_type": "code",
   "execution_count": null,
   "metadata": {},
   "outputs": [],
   "source": [
    "df_Jul= pd.read_csv('July_2018.csv', header= 0, usecols= [0,2,3,8,9,13,14],parse_dates= True, index_col= 'INTERVALSTARTTIME_GMT')\n"
   ]
  },
  {
   "cell_type": "code",
   "execution_count": null,
   "metadata": {},
   "outputs": [],
   "source": [
    "df_Aug= pd.read_csv('August_2018.csv', header= 0, usecols= [0,2,3,8,9,13,14],parse_dates= True, index_col= 'INTERVALSTARTTIME_GMT')\n"
   ]
  },
  {
   "cell_type": "code",
   "execution_count": null,
   "metadata": {},
   "outputs": [],
   "source": [
    "df_Sep= pd.read_csv('September_2018.csv', header= 0, usecols= [0,2,3,8,9,13,14],parse_dates= True, index_col= 'INTERVALSTARTTIME_GMT')"
   ]
  },
  {
   "cell_type": "code",
   "execution_count": null,
   "metadata": {},
   "outputs": [],
   "source": [
    "df_Oct= pd.read_csv('October_2018.csv', header= 0, usecols= [0,2,3,8,9,13,14],parse_dates= True, index_col= 'INTERVALSTARTTIME_GMT')\n"
   ]
  },
  {
   "cell_type": "code",
   "execution_count": null,
   "metadata": {},
   "outputs": [],
   "source": [
    "df_Nov= pd.read_csv('November_2018.csv', header= 0, usecols= [0,2,3,8,9,13,14],parse_dates= True, index_col= 'INTERVALSTARTTIME_GMT')"
   ]
  },
  {
   "cell_type": "code",
   "execution_count": null,
   "metadata": {},
   "outputs": [],
   "source": [
    "frames= [df_Jan,df_Feb,df_Mar, df_Apr, df_May, df_Jun, df_Jul,df_Aug, df_Sep, df_Oct, df_Nov]\n",
    "df1= pd.concat(frames)"
   ]
  },
  {
   "cell_type": "code",
   "execution_count": null,
   "metadata": {},
   "outputs": [],
   "source": [
    "dfp= df1[df1['LMP_TYPE'] == 'LMP'] # drops the other four price components and reduces data rows by 80%"
   ]
  },
  {
   "cell_type": "code",
   "execution_count": null,
   "metadata": {},
   "outputs": [],
   "source": [
    "dfp['date']= pd.to_datetime(dfp['OPR_DT']) #needed for plotting after the groupby"
   ]
  },
  {
   "cell_type": "code",
   "execution_count": null,
   "metadata": {},
   "outputs": [],
   "source": [
    "dfp.info() # as desired, the date is now the DateTime object (perfect for time series plotting)"
   ]
  },
  {
   "cell_type": "code",
   "execution_count": null,
   "metadata": {},
   "outputs": [],
   "source": [
    "dfp= dfp.drop(['OPR_DT','LMP_TYPE','XML_DATA_ITEM'],axis=1)\n",
    "dfp.columns= ['hour','price','interval','day']\n",
    "dfp['weekday']= dfp.day.dt.weekday_name\n",
    "dfp.index.names= ['date']\n",
    "\n",
    "dfp.head() # "
   ]
  },
  {
   "cell_type": "code",
   "execution_count": null,
   "metadata": {},
   "outputs": [],
   "source": [
    "dfp.info()"
   ]
  },
  {
   "cell_type": "code",
   "execution_count": null,
   "metadata": {},
   "outputs": [],
   "source": [
    "# import matplotlib.pyplot as plt # shocking grid instability due to price peaks \n",
    "dfp['price'].plot()\n",
    "# plt.show()"
   ]
  },
  {
   "cell_type": "code",
   "execution_count": null,
   "metadata": {},
   "outputs": [],
   "source": [
    "Feb= dfp.loc['2018-02-01':'2018-02-28'] # if a peak of $1000/MWh occurs only 1%, it still adds $10/MWh to the mean!!!*****\n",
    "Feb['price'].plot()\n",
    "# So what is causing the spikes!! $10/MWh versus average of 25:mostly only for 3 months Feb, March, April (but 1% is for the YEAR)\n",
    "# Easy to quantify frequency by month (could it be unexpected drops in Wind not reflected in Day-Ahead-Market ??)\n",
    "# while the negative prices are more frequent at 3%, the value is maybe $20/MWh so contribution to the mean is only \n",
    "# Review \"State of the Market\" report by Potomac (ask them this!!)"
   ]
  },
  {
   "cell_type": "code",
   "execution_count": null,
   "metadata": {},
   "outputs": [],
   "source": [
    "Mar= dfp.loc['2018-03-01':'2018-03-31'] # so a peak of $140/MWh is 14 cents\n",
    "Feb['price'].plot()\n",
    "        "
   ]
  },
  {
   "cell_type": "code",
   "execution_count": null,
   "metadata": {},
   "outputs": [],
   "source": [
    "April= dfp.loc['2018-04-01':'2018-04-30'] # so a peak of $140/MWh is 14 cents\n",
    "Feb['price'].plot()"
   ]
  },
  {
   "cell_type": "code",
   "execution_count": null,
   "metadata": {},
   "outputs": [],
   "source": [
    "May= dfp.loc['2018-05-01':'2018-05-31'] # so a peak of $140/MWh is 14 cents\n",
    "May['price'].plot()"
   ]
  },
  {
   "cell_type": "code",
   "execution_count": null,
   "metadata": {},
   "outputs": [],
   "source": [
    "June= dfp.loc['2018-06-01':'2018-06-30'] # so a peak of $140/MWh is 14 cents\n",
    "June['price'].plot()"
   ]
  },
  {
   "cell_type": "code",
   "execution_count": null,
   "metadata": {},
   "outputs": [],
   "source": []
  },
  {
   "cell_type": "code",
   "execution_count": null,
   "metadata": {},
   "outputs": [],
   "source": [
    "dfp.price.plot(kind='hist', bins=20) # the outliers at 1000 (50x the normal price) spoil the display\n"
   ]
  },
  {
   "cell_type": "code",
   "execution_count": null,
   "metadata": {},
   "outputs": [],
   "source": [
    "dfp.boxplot(column= 'price', by= 'hour')\n"
   ]
  },
  {
   "cell_type": "code",
   "execution_count": null,
   "metadata": {},
   "outputs": [],
   "source": [
    "dfp.columns\n",
    "dfp.shape"
   ]
  },
  {
   "cell_type": "code",
   "execution_count": null,
   "metadata": {},
   "outputs": [],
   "source": [
    "spikep= dfp[dfp.price > 100]  # so we have 1.2% frequency of spike prices, although optically they dominate the plots!\n",
    "spikep.shape"
   ]
  },
  {
   "cell_type": "code",
   "execution_count": null,
   "metadata": {},
   "outputs": [],
   "source": [
    "normalp= dfp[(dfp.price < 100) & (dfp.price > 0)] # \n",
    "normalp.shape"
   ]
  },
  {
   "cell_type": "code",
   "execution_count": null,
   "metadata": {},
   "outputs": [],
   "source": [
    "negativep= dfp[(dfp.price < 0) & (dfp.price > -30)] # so almost 3% of the time we have a negative price or zero\n",
    "negativep.shape   # and just four times we have prices more negative than 50"
   ]
  },
  {
   "cell_type": "code",
   "execution_count": null,
   "metadata": {},
   "outputs": [],
   "source": [
    "normalp.boxplot(column= 'price', by= 'hour')  # below uses showfliers=False to exclude the outliers being displayed\n"
   ]
  },
  {
   "cell_type": "code",
   "execution_count": null,
   "metadata": {},
   "outputs": [],
   "source": [
    "normalp.boxplot(column= 'price', by= 'hour',showfliers=False)  # showfliers=False\n"
   ]
  },
  {
   "cell_type": "code",
   "execution_count": null,
   "metadata": {},
   "outputs": [],
   "source": [
    "g= normalp.groupby('hour')\n",
    "g.count()\n",
    "\n",
    "# This seems to be saying that the three hours in November with the most frequent low prices are from 10am to 3pm\n",
    "# But these 172 five-minute intervals average only 29 minutes a day of prices below $20/MWh\n",
    "# Level 1 charger is normally 2 hours of charging: MAY NEED TO INCREASE THRESHOLD TO 3 CENTS/$30/MWh\n",
    "# BIG QUESTION IS WHETHER THE DIFFERENCE FOR PEAK EVENING PRICES EXCEEDS 25 CENTS/KWH, OF $45/MWh (see p.17 of \"Charging Smart\")\n",
    "# Counts can be compared to 30 days x 12 Intervals = 360 Intervals/month"
   ]
  },
  {
   "cell_type": "code",
   "execution_count": null,
   "metadata": {},
   "outputs": [],
   "source": [
    "normalp.groupby('hour').mean()\n",
    "# The lowest average prices are from 9am to 4pm, which is when Solar is strongest."
   ]
  },
  {
   "cell_type": "code",
   "execution_count": null,
   "metadata": {},
   "outputs": [],
   "source": [
    "spikep.price.plot(kind='hist', bins=30)"
   ]
  },
  {
   "cell_type": "code",
   "execution_count": null,
   "metadata": {},
   "outputs": [],
   "source": [
    "normalp.price.plot(kind='hist', bins=30)  # No showfliers= False !!"
   ]
  },
  {
   "cell_type": "code",
   "execution_count": null,
   "metadata": {},
   "outputs": [],
   "source": [
    "negativep.price.plot(kind='hist', bins=30) # excludes two outliers below -50 and an additional two below -30"
   ]
  },
  {
   "cell_type": "markdown",
   "metadata": {},
   "source": [
    "WHAT IS THE QUESTION: NEED TO LIMIT HOURS TO PGE NIGHT RANGE AND COMPARE 24 INTERVALS VS 12! COMPARE PRICE DELTA"
   ]
  },
  {
   "cell_type": "code",
   "execution_count": null,
   "metadata": {},
   "outputs": [],
   "source": [
    "normalp.price.plot(kind='hist', bins=30, cumulative= True)\n",
    "# Two hours per day average for a Level One EV charger is 24 intervals x 30 days = 720: THRESHOLD must be increased!!!\n",
    "# Add a horizontal red line at 720 !!\n",
    "# Define a function that computes the average price (eg still below 2 cents?)"
   ]
  },
  {
   "cell_type": "code",
   "execution_count": null,
   "metadata": {},
   "outputs": [],
   "source": []
  },
  {
   "cell_type": "code",
   "execution_count": null,
   "metadata": {},
   "outputs": [],
   "source": []
  },
  {
   "cell_type": "code",
   "execution_count": null,
   "metadata": {},
   "outputs": [],
   "source": [
    "# this function returns PG&E's designation of Peak (P), Off-Peak (OP), or Standard (S) EV pricing according to the hour of day\n",
    "def peak(hour): \n",
    "    if hour in [24,1,2,3,4,5,6,7]:\n",
    "        return 'OP'\n",
    "    elif hour in [15,16,17,18,19,20,21,22]:\n",
    "        return 'P'\n",
    "    else:\n",
    "        return 'S'\n",
    "    \n",
    "    "
   ]
  },
  {
   "cell_type": "markdown",
   "metadata": {},
   "source": [
    "COMPREHENSIVE APPROACH TO PG&E PUBLISHED SCHEDULE\n",
    "if date is a public holiday (saved as a list for 2018) OR day is weekend (Saturday/Sunday) then Peak is 3-7pm (rest Off Peak)\n",
    "if day is a weekday (and not a holiday) then:\n",
    "Peak is 2-9pm (hours 14 to 21)...list(range(14,22)\n",
    "Partial Peak is 7am to 2pm and 9-11pm: hours 7-14 & 21-23: hour in list(range(7,15)) + list(range(21,24))\n",
    "Otherwise (ELSE) 'OP' which is Off-Peak"
   ]
  },
  {
   "cell_type": "code",
   "execution_count": null,
   "metadata": {},
   "outputs": [],
   "source": [
    "# need to enter dates as strings and make the dates datetime objects with  .to_datetime() method in pandas\n",
    "holidays = ['2018-01-01','2018-01-15','2018-02-19','2018-05-28','2018-07-04','2018-09-03','2018-12-25'] #list of public holidays\n",
    "holidays= pd.to_datetime(holidays) \n",
    "holidays # this works OK it seems so the Boolean should match"
   ]
  },
  {
   "cell_type": "code",
   "execution_count": null,
   "metadata": {},
   "outputs": [],
   "source": [
    "# indentation is likely a problem as I mixed tabs and spaces!! Paste this into Spyder to debug? NOT SO! now runs!\n",
    "# NB at 7am the 7th hour has just concluded, so 'PP' begins with the 8th hour\n",
    "def PGE(hour,day,weekday): # hour, day, and weekday are columns from the dfp dataframe above (types listed 3 cells below)\n",
    "    # need to enter dates as strings and make the dates datetime objects with  .to_datetime() method in pandas (works OK above)\n",
    "    holidays = ['2018-01-01','2018-01-15','2018-02-19','2018-05-28','2018-07-04','2018-09-03','2018-12-25']\n",
    "    holidays= pd.to_datetime(holidays)\n",
    "    # list of public holiday\n",
    "    weekend_peak= list(range(16,20)) # weekend peak is 3-7pm: noon begins hour 13, so 2pm is hour 15, 3pm is hour 16\n",
    "    weekday_peak= list(range(15,23)) # this corresponds to the weekdays Monday to Friday, first for 2-9pm, for hours 15 to 8\n",
    "    partial_peak= list(range(8,15)) + list(range(22,24))\n",
    "    off_peak= list(range(1,8)) + [24] \n",
    "    if (day in holidays)|(weekday in ['Saturday','Sunday']):\n",
    "      if hour in weekend_peak: \n",
    "        return 'P'\n",
    "      else:   \n",
    "        return 'OP'  \n",
    "    elif hour in weekday_peak: \n",
    "      return'P'   \n",
    "    elif hour in partial_peak: \n",
    "      return 'PP'  \n",
    "    elif hour in off_peak:\n",
    "      return 'OP'\n",
    "    else:\n",
    "      return 'problem!' \n",
    "      # we should never see this condition triggered unless there is a problem (hour 25 when clocks set back!)\n",
    "# as a sanity check the respective lists added together should equal list(range(1,25)) so we should test with this Boolean!!\n",
    "PGE(16,holidays[0],'Tuesday')"
   ]
  },
  {
   "cell_type": "code",
   "execution_count": null,
   "metadata": {},
   "outputs": [],
   "source": [
    "list(range(1,8)) + [24]"
   ]
  },
  {
   "cell_type": "code",
   "execution_count": null,
   "metadata": {},
   "outputs": [],
   "source": [
    "PGE(14, holidays[0], 'Monday')"
   ]
  },
  {
   "cell_type": "code",
   "execution_count": null,
   "metadata": {},
   "outputs": [],
   "source": [
    "combined= list(range(15,23)) + list(range(8,15)) + list(range(22,24)) + list(range(1,8)) + [24] \n",
    "sorted(combined) # == list(range(1,25)) #  False!!  PROBLEM (Hmm: they match but combined is NOT horizontal but vertical!!)"
   ]
  },
  {
   "cell_type": "code",
   "execution_count": null,
   "metadata": {},
   "outputs": [],
   "source": [
    "list(range(15,22)) + list(range(8,15)) + list(range(22,24)) + list(range(1,8)) + [24] #22"
   ]
  },
  {
   "cell_type": "code",
   "execution_count": null,
   "metadata": {},
   "outputs": [],
   "source": [
    "list(range(7,14)) + list(range(21,22)) # test for Partial Peak ('PP')                    "
   ]
  },
  {
   "cell_type": "code",
   "execution_count": null,
   "metadata": {},
   "outputs": [],
   "source": [
    "list(range(14,21)) # test for Peak ('PP')"
   ]
  },
  {
   "cell_type": "code",
   "execution_count": null,
   "metadata": {},
   "outputs": [],
   "source": [
    "dfp.info()"
   ]
  },
  {
   "cell_type": "code",
   "execution_count": null,
   "metadata": {},
   "outputs": [],
   "source": [
    "this function returns PG&E's designation of Peak (P), Off-Peak (OP), or Standard (S) EV pricing according to the hour of day\n",
    "#def peak(hour): \n",
    "    if hour in [list(range(1,8) + [24]]:\n",
    "       return 'OP'\n",
    "   elif hour in [list(range(15,23)]:\n",
    "        return 'P'\n",
    "    else:\n",
    "        return 'S'\n",
    "   \n",
    "# list comprehension version? see below"
   ]
  },
  {
   "cell_type": "code",
   "execution_count": null,
   "metadata": {},
   "outputs": [],
   "source": [
    "d= {'OP':list(range(1,8))+ [24], 'P':list(range(15,23)),'S':list(range(8,15)) + list(range(22,24))}\n",
    "def PGE(hour):\n",
    "    for key,value in d.items:\n",
    "        if hour in d.value  #FIX THIS\n",
    "            return d.key\n",
    "print(PGE(3))"
   ]
  },
  {
   "cell_type": "code",
   "execution_count": null,
   "metadata": {},
   "outputs": [],
   "source": [
    "peak(1)\n",
    "peak(16)"
   ]
  },
  {
   "cell_type": "code",
   "execution_count": null,
   "metadata": {},
   "outputs": [],
   "source": [
    "dfp['PGE']= dfp.hour.apply(peak)\n",
    "dfp.PGE.head()\n",
    "dfp.PGE.tail()"
   ]
  },
  {
   "cell_type": "code",
   "execution_count": null,
   "metadata": {},
   "outputs": [],
   "source": [
    "dfp.head()"
   ]
  },
  {
   "cell_type": "code",
   "execution_count": null,
   "metadata": {},
   "outputs": [],
   "source": [
    "gPGE= dfp.groupby(['day','PGE'])"
   ]
  },
  {
   "cell_type": "code",
   "execution_count": null,
   "metadata": {},
   "outputs": [],
   "source": [
    "daily_PGE= gPGE.price.mean() # this is hourly data!!\n",
    "daily_PGE.head(20)"
   ]
  },
  {
   "cell_type": "code",
   "execution_count": null,
   "metadata": {},
   "outputs": [],
   "source": [
    "dfPGE= daily_PGE.to_frame()\n",
    "dfPGE= dfPGE.sort_values(['day'])\n",
    "dfPGE.head()"
   ]
  },
  {
   "cell_type": "code",
   "execution_count": null,
   "metadata": {},
   "outputs": [],
   "source": [
    "dfPGE.tail() # "
   ]
  },
  {
   "cell_type": "code",
   "execution_count": null,
   "metadata": {},
   "outputs": [],
   "source": [
    "dfPGE= dfPGE.unstack('PGE')\n",
    "dfPGE.head()"
   ]
  },
  {
   "cell_type": "code",
   "execution_count": null,
   "metadata": {},
   "outputs": [],
   "source": [
    "FebPGE = dfPGE.loc['2018-02-01':'2018-02-28'].plot()# so a peak of $140/MWh is 14 cents\n",
    "FebPGE.plot()"
   ]
  },
  {
   "cell_type": "code",
   "execution_count": null,
   "metadata": {},
   "outputs": [],
   "source": [
    "MarPGE = dfPGE.loc['2018-03-01':'2018-03-31'] # so a peak of $140/MWh is 14 cents\n",
    "MarPGE.plot()"
   ]
  },
  {
   "cell_type": "code",
   "execution_count": null,
   "metadata": {},
   "outputs": [],
   "source": [
    "AprPGE= dfPGE.loc['2018-04-01':'2018-04-30'] # so a peak of $140/MWh is 14 cents\n",
    "AprPGE.plot()"
   ]
  },
  {
   "cell_type": "code",
   "execution_count": null,
   "metadata": {},
   "outputs": [],
   "source": []
  },
  {
   "cell_type": "code",
   "execution_count": null,
   "metadata": {},
   "outputs": [],
   "source": [
    "dfPGE.plot() \n",
    "# THIS IS A CRITICAL PLOT TO BE REPEATED MONTHLY USING A PANEL APPROACH (can use df.loc() or extract 'month' as a variable)\n",
    "# Surprises: the highest spikes are not Peak but Standard, \n",
    "# peak is evening from 2pm to 8pm!\n",
    "# Peak seems to have recurring spikes perhaps related to the day of the week?\n",
    "# on many days the standard price is below the off-peak price Can calculate frequency with a Boolean!\n",
    "# Standard is from 8 until 2pm so prices are lowered by midday solar"
   ]
  },
  {
   "cell_type": "code",
   "execution_count": null,
   "metadata": {},
   "outputs": [],
   "source": [
    "dfPGE.info()"
   ]
  },
  {
   "cell_type": "code",
   "execution_count": null,
   "metadata": {},
   "outputs": [],
   "source": [
    "dfPGE.columns= ['OP','P','S']\n",
    "dfPGE.head(3)\n",
    "dfPGE.tail()"
   ]
  },
  {
   "cell_type": "code",
   "execution_count": null,
   "metadata": {},
   "outputs": [],
   "source": []
  },
  {
   "cell_type": "code",
   "execution_count": null,
   "metadata": {},
   "outputs": [],
   "source": []
  },
  {
   "cell_type": "code",
   "execution_count": null,
   "metadata": {},
   "outputs": [],
   "source": [
    "# BIG QUESTION: EACH DAY FIND THE HIGHEST 100 PRICES AND THEN THE LOWEST 100 PRICES VIA SORT. \n",
    "# THEN SUBTRACT THE LOWEST FROM THE HIGHEST, AND SEE IF > $0.25. KEEP GOING UNTIL THIS THRESHOLD IS HIT! \n",
    "# SO CHARGE AT WORK FROM 9 TO 10AM AND USE AT HOME TO RUN AC IN PEAK HOURS!!!"
   ]
  },
  {
   "cell_type": "code",
   "execution_count": null,
   "metadata": {},
   "outputs": [],
   "source": [
    "# We need suppose 2 hours on average daily, 24 intervals/day, 720/month. Find for cumulative of 720 the cut-off price\n",
    "# Then calculate the average price (of course less than cutoff): compute for 720 vs 360, and annnualise cost benefit\n",
    "# this is the economic value of the Level 2 Charger versus the Level 1."
   ]
  },
  {
   "cell_type": "code",
   "execution_count": null,
   "metadata": {},
   "outputs": [],
   "source": [
    "# downsample the 5-minute prices to hourly and match up with hourly wind and solar data (Dhavide Course One)"
   ]
  },
  {
   "cell_type": "code",
   "execution_count": null,
   "metadata": {},
   "outputs": [],
   "source": []
  },
  {
   "cell_type": "code",
   "execution_count": null,
   "metadata": {},
   "outputs": [],
   "source": []
  }
 ],
 "metadata": {
  "kernelspec": {
   "display_name": "Python 3",
   "language": "python",
   "name": "python3"
  },
  "language_info": {
   "codemirror_mode": {
    "name": "ipython",
    "version": 3
   },
   "file_extension": ".py",
   "mimetype": "text/x-python",
   "name": "python",
   "nbconvert_exporter": "python",
   "pygments_lexer": "ipython3",
   "version": "3.7.1"
  }
 },
 "nbformat": 4,
 "nbformat_minor": 2
}
