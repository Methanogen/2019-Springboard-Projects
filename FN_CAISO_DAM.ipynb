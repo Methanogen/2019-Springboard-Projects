{
 "cells": [
  {
   "cell_type": "markdown",
   "metadata": {},
   "source": [
    "# This Notebook develops three function, namely 1. get_price_series(files), 2. get_hours_histogram(files), and 3. get_OLS(files)\n",
    "\n",
    "The files are a list of CSV downloads from the CAISO website, which cover 2017 & 2018 in monthly data.\n",
    "The prices are hourly from the so-called \"Day-Ahead-Market\" (DAM), since most transactions are conducted on this market, and the Spot Market (RTM) is much less used.\n",
    "#1 returns an hourly price series for the PG&E main node.\n",
    "#2 returns a histogram for which hour of the day had the lowest price.\n",
    "#3 returns an OLS regression for the subject time period embodied by the files.\n"
   ]
  },
  {
   "cell_type": "code",
   "execution_count": 1,
   "metadata": {},
   "outputs": [
    {
     "name": "stdout",
     "output_type": "stream",
     "text": [
      "/Users/user/Desktop/CAISO Monthly Prices\n"
     ]
    }
   ],
   "source": [
    "import os\n",
    "print(os.getcwd())"
   ]
  },
  {
   "cell_type": "code",
   "execution_count": 2,
   "metadata": {},
   "outputs": [],
   "source": [
    "import numpy as np\n",
    "import pandas as pd\n",
    "import urllib\n",
    "import re\n",
    "from datetime import datetime\n",
    "import matplotlib.pyplot as plt\n",
    "import seaborn as sns\n",
    "import statsmodels.api as sm             # these two imports as used in Boston Housing mini-project\n",
    "from statsmodels.formula.api import ols\n",
    "# import statsmodel.formula.spi as smf"
   ]
  },
  {
   "cell_type": "markdown",
   "metadata": {},
   "source": [
    "# A QUICK HISTORICAL LOOK AT THE HOURS WITH THE LOWEST PRICES "
   ]
  },
  {
   "cell_type": "code",
   "execution_count": 113,
   "metadata": {},
   "outputs": [],
   "source": [
    "H1_18= ['DAM_Jan_2018.csv','DAM_Feb_2018.csv', 'DAM_March_2018.csv','DAM_April_2018.csv','DAM_May_2018.csv','DAM_June_2018.csv']\n",
    "H2_18= ['DAM_July_2018.csv','DAM_Aug_2018.csv','DAM_Sept_2018.csv','DAM_Oct_2018.csv','DAM_Nov_2018.csv','DAM_Dec_2018.csv']\n",
    "\n",
    "H1_17= ['DAM_Jan_2017.csv','DAM_Feb_2017.csv', 'DAM_March_2017.csv','DAM_May_2017.csv','DAM_June_2017.csv']\n",
    "# excludes the missing: 'DAM_April_2017.csv'\n",
    "H2_17= ['DAM_July_2017.csv','DAM_Aug_2017.csv','DAM_Sept_2017.csv','DAM_Oct_2017.csv','DAM_Nov_2017.csv','DAM_Dec_2017.csv']\n",
    "\n",
    "def get_price_series(files):\n",
    "    '''This function prints a list of each of the day that had the lowest power price for the days covered by the files'''\n",
    "    frames= [ pd.read_csv(file, header= 0, usecols= [0,2,3,9,14],parse_dates= True, index_col= 'INTERVALSTARTTIME_GMT')\n",
    "         for file in files]\n",
    "    df1= pd.concat(frames)\n",
    "    dfp= df1[df1['LMP_TYPE'] == 'LMP'] # drops the other four price components and reduces data rows by 80%\n",
    "    dfp['date']= pd.to_datetime(dfp['OPR_DT']) #needed for plotting after the groupby SPECIFY FORMAT!!\n",
    "    dfp= dfp.drop(['OPR_DT','LMP_TYPE'],axis=1)\n",
    "    dfp.columns= ['hour','price','day']\n",
    "    dfp.index.names= ['date']\n",
    "    df_pvt= dfp.pivot('day','hour','price') \n",
    "    print(df_pvt.head(3))\n",
    "    print(df_pvt.tail(3))\n",
    "    return(df_pvt)\n",
    "\n",
    "\n",
    "def get_hours_histogram(files):\n",
    "    '''This function prints a list of each of the day that had the lowest power price for the days covered by the files'''\n",
    "    frames= [ pd.read_csv(file, header= 0, usecols= [0,2,3,9,14],parse_dates= True, index_col= 'INTERVALSTARTTIME_GMT')\n",
    "         for file in files]\n",
    "    df1= pd.concat(frames)\n",
    "    dfp= df1[df1['LMP_TYPE'] == 'LMP'] # drops the other four price components and reduces data rows by 80%\n",
    "    dfp['date']= pd.to_datetime(dfp['OPR_DT']) #needed for plotting after the groupby SPECIFY FORMAT!!\n",
    "    dfp= dfp.drop(['OPR_DT','LMP_TYPE'],axis=1)\n",
    "    dfp.columns= ['hour','price','day']\n",
    "    dfp.index.names= ['date']\n",
    "    df_pvt= dfp.pivot('day','hour','price') \n",
    "    lowest_hours= df_pvt.idxmin(axis=1)       # THIS IS JEFF'S CODE FOR PANDAS SO NO M REQUIRED, NOR ARGMIN()\n",
    "    plt.hist(lowest_hours, bins= np.arange(1,24,1) - 0.5,density= True)\n",
    "    plt.title('Histogram of the Hour with the Lowest CAISO Price for the Subject Period ' )\n",
    "    plt.xlabel('Hour of the Day')\n",
    "    plt.ylabel('Probability')\n",
    "    plt.xticks= range(1,25)\n",
    "    plt.show()\n",
    "    return pd.Series(lowest_hours).value_counts(sort= False) # this gives the frequencies"
   ]
  },
  {
   "cell_type": "code",
   "execution_count": 117,
   "metadata": {},
   "outputs": [],
   "source": [
    "import statsmodels.api as sm\n",
    "from statsmodels.formula.api import ols\n",
    "\n",
    "# PROBLEM: the summary is returned, but is not visible in the wndow until one scrolls down quite a bit\n",
    "\n",
    "def get_OLS(files):  \n",
    "    df= get_price_series(files)\n",
    "    df= df.stack()       # can these three lines be chained into one line??\n",
    "    df= df.reset_index()\n",
    "    df.columns= ['day','hour','price']\n",
    "    df['weekday']= df['day'].dt.weekday_name.astype('category')\n",
    "    df['month']= df['day'].dt.month.astype('category')\n",
    "    df.hour= df.hour.astype('category') \n",
    "    m= ols(formula= 'price ~ hour + weekday + month', data= df).fit()\n",
    "    print(m.summary())\n",
    "    "
   ]
  },
  {
   "cell_type": "code",
   "execution_count": 119,
   "metadata": {},
   "outputs": [
    {
     "name": "stdout",
     "output_type": "stream",
     "text": [
      "hour              1         2         3         4         5         6   \\\n",
      "day                                                                      \n",
      "2018-01-01  36.45428  34.76417  32.85036  31.64637  31.80000  33.24404   \n",
      "2018-01-02  35.25316  34.23951  33.45005  32.53616  34.18892  35.83031   \n",
      "2018-01-03  34.50620  33.87262  32.43262  32.31281  33.78951  38.87051   \n",
      "\n",
      "hour              7         8         9         10    ...           15  \\\n",
      "day                                                   ...                \n",
      "2018-01-01  34.81122  34.33961  30.96026  26.84358    ...     27.09790   \n",
      "2018-01-02  42.60170  48.40524  37.88447  35.05042    ...     34.77122   \n",
      "2018-01-03  45.92812  46.00980  38.95980  35.84547    ...     36.25675   \n",
      "\n",
      "hour              16        17        18        19        20        21  \\\n",
      "day                                                                      \n",
      "2018-01-01  32.19651  38.04513  50.17707  48.37496  50.48109  42.73274   \n",
      "2018-01-02  38.17153  42.65265  60.09228  57.71924  48.04210  42.44339   \n",
      "2018-01-03  38.24340  47.27651  70.19563  57.05297  52.15927  50.36635   \n",
      "\n",
      "hour              22        23        24  \n",
      "day                                       \n",
      "2018-01-01  39.75889  37.50306  34.87104  \n",
      "2018-01-02  40.88191  38.17870  35.36900  \n",
      "2018-01-03  43.90656  44.75887  38.99024  \n",
      "\n",
      "[3 rows x 24 columns]\n",
      "hour              1         2         3         4         5         6   \\\n",
      "day                                                                      \n",
      "2018-06-28  26.09469  22.59063  20.31988  20.78673  22.01446  26.31065   \n",
      "2018-06-29  26.86228  23.86793  22.07145  21.72515  23.47620  36.48126   \n",
      "2018-06-30  28.34255  27.60032  26.94556  26.03280  27.06299  36.75014   \n",
      "\n",
      "hour              7         8         9         10    ...           15  \\\n",
      "day                                                   ...                \n",
      "2018-06-28  29.28413  23.05852  18.63121  19.17904    ...     24.50898   \n",
      "2018-06-29  36.42275  27.47188  19.96749  21.82426    ...     30.29009   \n",
      "2018-06-30  26.89662  20.37327  14.89224  19.84218    ...     31.34919   \n",
      "\n",
      "hour              16        17        18        19        20        21  \\\n",
      "day                                                                      \n",
      "2018-06-28  25.34851  26.18765  27.98966  36.44666  55.58503  48.23002   \n",
      "2018-06-29  31.83264  35.48430  40.53000  47.85817  61.19739  53.51671   \n",
      "2018-06-30  37.45000  39.48479  42.67359  49.50586  61.89512  50.77052   \n",
      "\n",
      "hour              22        23        24  \n",
      "day                                       \n",
      "2018-06-28  36.46184  29.01320  26.18665  \n",
      "2018-06-29  46.34416  39.68992  35.46901  \n",
      "2018-06-30  43.99665  37.42167  33.14319  \n",
      "\n",
      "[3 rows x 24 columns]\n",
      "                            OLS Regression Results                            \n",
      "==============================================================================\n",
      "Dep. Variable:                  price   R-squared:                       0.661\n",
      "Model:                            OLS   Adj. R-squared:                  0.659\n",
      "Method:                 Least Squares   F-statistic:                     247.3\n",
      "Date:                Tue, 26 Feb 2019   Prob (F-statistic):               0.00\n",
      "Time:                        14:51:37   Log-Likelihood:                -15174.\n",
      "No. Observations:                4343   AIC:                         3.042e+04\n",
      "Df Residuals:                    4308   BIC:                         3.064e+04\n",
      "Df Model:                          34                                         \n",
      "Covariance Type:            nonrobust                                         \n",
      "========================================================================================\n",
      "                           coef    std err          t      P>|t|      [0.025      0.975]\n",
      "----------------------------------------------------------------------------------------\n",
      "Intercept               31.1378      0.718     43.360      0.000      29.730      32.546\n",
      "hour[T.2]               -1.7914      0.841     -2.131      0.033      -3.439      -0.143\n",
      "hour[T.3]               -3.0606      0.842     -3.636      0.000      -4.711      -1.410\n",
      "hour[T.4]               -3.3616      0.841     -3.999      0.000      -5.010      -1.714\n",
      "hour[T.5]               -1.4961      0.841     -1.780      0.075      -3.144       0.152\n",
      "hour[T.6]                4.3051      0.841      5.121      0.000       2.657       5.953\n",
      "hour[T.7]               10.7400      0.841     12.776      0.000       9.092      12.388\n",
      "hour[T.8]                5.6541      0.841      6.726      0.000       4.006       7.302\n",
      "hour[T.9]               -2.4070      0.841     -2.863      0.004      -4.055      -0.759\n",
      "hour[T.10]              -6.2611      0.841     -7.448      0.000      -7.909      -4.613\n",
      "hour[T.11]              -8.3553      0.841     -9.939      0.000     -10.003      -6.707\n",
      "hour[T.12]              -9.3623      0.841    -11.137      0.000     -11.010      -7.714\n",
      "hour[T.13]             -10.0631      0.841    -11.971      0.000     -11.711      -8.415\n",
      "hour[T.14]              -9.7336      0.841    -11.579      0.000     -11.382      -8.086\n",
      "hour[T.15]              -8.7971      0.841    -10.465      0.000     -10.445      -7.149\n",
      "hour[T.16]              -5.8746      0.841     -6.988      0.000      -7.523      -4.227\n",
      "hour[T.17]              -0.9556      0.841     -1.137      0.256      -2.604       0.692\n",
      "hour[T.18]               7.8760      0.841      9.369      0.000       6.228       9.524\n",
      "hour[T.19]              17.2918      0.841     20.570      0.000      15.644      18.940\n",
      "hour[T.20]              23.7590      0.841     28.263      0.000      22.111      25.407\n",
      "hour[T.21]              22.8035      0.841     27.127      0.000      21.155      24.452\n",
      "hour[T.22]              13.9621      0.841     16.609      0.000      12.314      15.610\n",
      "hour[T.23]               6.2784      0.841      7.469      0.000       4.630       7.926\n",
      "hour[T.24]               2.2874      0.841      2.721      0.007       0.639       3.935\n",
      "weekday[T.Monday]        0.8136      0.453      1.795      0.073      -0.075       1.702\n",
      "weekday[T.Saturday]     -3.4937      0.453     -7.717      0.000      -4.381      -2.606\n",
      "weekday[T.Sunday]       -6.7279      0.458    -14.694      0.000      -7.626      -5.830\n",
      "weekday[T.Thursday]      1.1519      0.453      2.543      0.011       0.264       2.040\n",
      "weekday[T.Tuesday]       3.2897      0.453      7.257      0.000       2.401       4.178\n",
      "weekday[T.Wednesday]     3.1166      0.453      6.875      0.000       2.228       4.005\n",
      "month[T.2]              -2.2211      0.426     -5.216      0.000      -3.056      -1.386\n",
      "month[T.3]              -2.5936      0.416     -6.241      0.000      -3.408      -1.779\n",
      "month[T.4]              -7.5954      0.418    -18.151      0.000      -8.416      -6.775\n",
      "month[T.5]             -12.2065      0.415    -29.422      0.000     -13.020     -11.393\n",
      "month[T.6]              -4.4469      0.419    -10.620      0.000      -5.268      -3.626\n",
      "==============================================================================\n",
      "Omnibus:                      280.148   Durbin-Watson:                   0.371\n",
      "Prob(Omnibus):                  0.000   Jarque-Bera (JB):             1033.297\n",
      "Skew:                           0.230   Prob(JB):                    4.19e-225\n",
      "Kurtosis:                       5.345   Cond. No.                         28.0\n",
      "==============================================================================\n",
      "\n",
      "Warnings:\n",
      "[1] Standard Errors assume that the covariance matrix of the errors is correctly specified.\n"
     ]
    },
    {
     "name": "stderr",
     "output_type": "stream",
     "text": [
      "/anaconda3/lib/python3.7/site-packages/ipykernel_launcher.py:14: SettingWithCopyWarning: \n",
      "A value is trying to be set on a copy of a slice from a DataFrame.\n",
      "Try using .loc[row_indexer,col_indexer] = value instead\n",
      "\n",
      "See the caveats in the documentation: http://pandas.pydata.org/pandas-docs/stable/indexing.html#indexing-view-versus-copy\n",
      "  \n"
     ]
    }
   ],
   "source": [
    " get_OLS(H1_18) # R2 is 66% for the 24-hour model"
   ]
  },
  {
   "cell_type": "code",
   "execution_count": 120,
   "metadata": {},
   "outputs": [
    {
     "name": "stderr",
     "output_type": "stream",
     "text": [
      "/anaconda3/lib/python3.7/site-packages/ipykernel_launcher.py:14: SettingWithCopyWarning: \n",
      "A value is trying to be set on a copy of a slice from a DataFrame.\n",
      "Try using .loc[row_indexer,col_indexer] = value instead\n",
      "\n",
      "See the caveats in the documentation: http://pandas.pydata.org/pandas-docs/stable/indexing.html#indexing-view-versus-copy\n",
      "  \n"
     ]
    },
    {
     "name": "stdout",
     "output_type": "stream",
     "text": [
      "hour              1         2         3         4         5         6   \\\n",
      "day                                                                      \n",
      "2017-01-01  32.19913  32.06740  31.92218  31.92752  30.98894  33.02759   \n",
      "2017-01-02  31.81579  31.09262  29.55579  28.79941  30.02929  33.39157   \n",
      "2017-01-03  32.31014  30.50761  30.04905  29.54616  30.30745  35.59811   \n",
      "\n",
      "hour              7         8         9         10 ...        16        17  \\\n",
      "day                                                ...                       \n",
      "2017-01-01  34.98800  35.17125  30.17849  28.68226 ...  28.11420  36.63808   \n",
      "2017-01-02  34.93689  36.57167  37.03324  34.23898 ...  35.83154  41.99768   \n",
      "2017-01-03  47.65201  54.64544  46.98161  41.03564 ...  40.86793  51.38926   \n",
      "\n",
      "hour              18        19        20        21        22        23  \\\n",
      "day                                                                      \n",
      "2017-01-01  50.93429  51.14986  45.55332  41.06527  42.96233  37.43692   \n",
      "2017-01-02  55.13173  57.47936  53.97335  48.42643  44.88679  38.25987   \n",
      "2017-01-03  62.38457  64.33274  55.49607  53.07679  47.03655  40.14694   \n",
      "\n",
      "hour              24  25  \n",
      "day                       \n",
      "2017-01-01  34.74544 NaN  \n",
      "2017-01-02  36.39299 NaN  \n",
      "2017-01-03  36.89833 NaN  \n",
      "\n",
      "[3 rows x 25 columns]\n",
      "hour              1         2         3         4         5         6   \\\n",
      "day                                                                      \n",
      "2018-12-29  41.45085  40.79128  40.49360  39.51519  40.84428  42.74322   \n",
      "2018-12-30  39.51458  38.47167  37.12889  36.09913  36.11017  39.96875   \n",
      "2018-12-31  40.02860  36.39571  34.94225  34.73159  35.60933  41.14514   \n",
      "\n",
      "hour              7         8         9         10 ...        16        17  \\\n",
      "day                                                ...                       \n",
      "2018-12-29  43.93647  43.02294  36.40553  34.05525 ...  38.66327  45.26891   \n",
      "2018-12-30  43.06703  40.50966  35.95131  27.52221 ...  33.60059  41.20632   \n",
      "2018-12-31  45.06601  45.52133  40.84199  36.09758 ...  39.87941  45.18602   \n",
      "\n",
      "hour              18        19        20        21        22        23  \\\n",
      "day                                                                      \n",
      "2018-12-29  57.14295  56.32367  52.78317  49.12000  47.16777  44.25348   \n",
      "2018-12-30  49.47119  49.09425  47.13636  45.94142  44.94693  42.68424   \n",
      "2018-12-31  57.98162  57.03708  52.58652  46.29220  44.79403  44.12320   \n",
      "\n",
      "hour              24  25  \n",
      "day                       \n",
      "2018-12-29  42.13268 NaN  \n",
      "2018-12-30  38.50644 NaN  \n",
      "2018-12-31  42.06473 NaN  \n",
      "\n",
      "[3 rows x 25 columns]\n",
      "                            OLS Regression Results                            \n",
      "==============================================================================\n",
      "Dep. Variable:                  price   R-squared:                       0.284\n",
      "Model:                            OLS   Adj. R-squared:                  0.283\n",
      "Method:                 Least Squares   F-statistic:                     162.5\n",
      "Date:                Tue, 26 Feb 2019   Prob (F-statistic):               0.00\n",
      "Time:                        15:50:27   Log-Likelihood:                -77487.\n",
      "No. Observations:               16800   AIC:                         1.551e+05\n",
      "Df Residuals:                   16758   BIC:                         1.554e+05\n",
      "Df Model:                          41                                         \n",
      "Covariance Type:            nonrobust                                         \n",
      "========================================================================================\n",
      "                           coef    std err          t      P>|t|      [0.025      0.975]\n",
      "----------------------------------------------------------------------------------------\n",
      "Intercept               27.9739      1.198     23.349      0.000      25.626      30.322\n",
      "hour[T.2]               -2.1506      1.304     -1.649      0.099      -4.707       0.406\n",
      "hour[T.3]               -3.4557      1.305     -2.648      0.008      -6.014      -0.897\n",
      "hour[T.4]               -3.6732      1.304     -2.816      0.005      -6.230      -1.117\n",
      "hour[T.5]               -1.9217      1.304     -1.473      0.141      -4.478       0.635\n",
      "hour[T.6]                3.2944      1.304      2.526      0.012       0.738       5.851\n",
      "hour[T.7]                9.3454      1.304      7.165      0.000       6.789      11.902\n",
      "hour[T.8]                6.9292      1.304      5.313      0.000       4.373       9.486\n",
      "hour[T.9]               -1.1936      1.304     -0.915      0.360      -3.750       1.363\n",
      "hour[T.10]              -4.4732      1.304     -3.430      0.001      -7.030      -1.917\n",
      "hour[T.11]              -5.2595      1.304     -4.033      0.000      -7.816      -2.703\n",
      "hour[T.12]              -5.4207      1.304     -4.156      0.000      -7.977      -2.864\n",
      "hour[T.13]              -5.4592      1.304     -4.186      0.000      -8.016      -2.903\n",
      "hour[T.14]              -4.0948      1.304     -3.140      0.002      -6.651      -1.538\n",
      "hour[T.15]              -1.5865      1.304     -1.216      0.224      -4.143       0.970\n",
      "hour[T.16]               2.9729      1.304      2.279      0.023       0.416       5.529\n",
      "hour[T.17]              10.7265      1.304      8.224      0.000       8.170      13.283\n",
      "hour[T.18]              22.9808      1.304     17.620      0.000      20.424      25.537\n",
      "hour[T.19]              36.1174      1.304     27.692      0.000      33.561      38.674\n",
      "hour[T.20]              38.0926      1.304     29.206      0.000      35.536      40.649\n",
      "hour[T.21]              25.2748      1.304     19.379      0.000      22.718      27.831\n",
      "hour[T.22]              14.2472      1.304     10.923      0.000      11.691      16.804\n",
      "hour[T.23]               6.9130      1.304      5.300      0.000       4.356       9.469\n",
      "hour[T.24]               2.6774      1.304      2.053      0.040       0.121       5.234\n",
      "hour[T.25]               0.2030     17.296      0.012      0.991     -33.698      34.104\n",
      "weekday[T.Monday]        1.3568      0.703      1.929      0.054      -0.022       2.736\n",
      "weekday[T.Saturday]     -4.2249      0.706     -5.981      0.000      -5.609      -2.840\n",
      "weekday[T.Sunday]       -6.0832      0.705     -8.628      0.000      -7.465      -4.701\n",
      "weekday[T.Thursday]      0.7964      0.705      1.130      0.258      -0.585       2.177\n",
      "weekday[T.Tuesday]       4.2393      0.705      6.013      0.000       2.857       5.621\n",
      "weekday[T.Wednesday]     3.4358      0.705      4.875      0.000       2.054       4.817\n",
      "month[T.2]              -3.9296      0.918     -4.279      0.000      -5.730      -2.129\n",
      "month[T.3]              -7.7288      0.896     -8.630      0.000      -9.484      -5.973\n",
      "month[T.4]              -8.7140      1.108     -7.865      0.000     -10.886      -6.542\n",
      "month[T.5]              -9.2872      0.895    -10.380      0.000     -11.041      -7.533\n",
      "month[T.6]              -3.0940      0.903     -3.428      0.001      -4.863      -1.325\n",
      "month[T.7]              11.7499      0.895     13.133      0.000       9.996      13.504\n",
      "month[T.8]              13.5357      0.895     15.124      0.000      11.781      15.290\n",
      "month[T.9]               3.0324      0.902      3.360      0.001       1.263       4.801\n",
      "month[T.10]              8.5954      0.895      9.608      0.000       6.842      10.349\n",
      "month[T.11]             10.4874      0.902     11.621      0.000       8.718      12.256\n",
      "month[T.12]             10.7246      0.895     11.983      0.000       8.970      12.479\n",
      "==============================================================================\n",
      "Omnibus:                    31694.931   Durbin-Watson:                   0.282\n",
      "Prob(Omnibus):                  0.000   Jarque-Bera (JB):         78768386.857\n",
      "Skew:                          14.369   Prob(JB):                         0.00\n",
      "Kurtosis:                     337.216   Cond. No.                         102.\n",
      "==============================================================================\n",
      "\n",
      "Warnings:\n",
      "[1] Standard Errors assume that the covariance matrix of the errors is correctly specified.\n"
     ]
    }
   ],
   "source": [
    "get_OLS(two_years) # for the 24-hour model, the R2 drops to 28% for two years, vs. 65% for H1_2018"
   ]
  },
  {
   "cell_type": "code",
   "execution_count": null,
   "metadata": {},
   "outputs": [],
   "source": []
  },
  {
   "cell_type": "code",
   "execution_count": null,
   "metadata": {},
   "outputs": [],
   "source": []
  },
  {
   "cell_type": "code",
   "execution_count": 91,
   "metadata": {
    "scrolled": true
   },
   "outputs": [
    {
     "name": "stdout",
     "output_type": "stream",
     "text": [
      "hour              1         2         3         4         5         6   \\\n",
      "day                                                                      \n",
      "2018-01-01  36.45428  34.76417  32.85036  31.64637  31.80000  33.24404   \n",
      "2018-01-02  35.25316  34.23951  33.45005  32.53616  34.18892  35.83031   \n",
      "2018-01-03  34.50620  33.87262  32.43262  32.31281  33.78951  38.87051   \n",
      "\n",
      "hour              7         8         9         10    ...           15  \\\n",
      "day                                                   ...                \n",
      "2018-01-01  34.81122  34.33961  30.96026  26.84358    ...     27.09790   \n",
      "2018-01-02  42.60170  48.40524  37.88447  35.05042    ...     34.77122   \n",
      "2018-01-03  45.92812  46.00980  38.95980  35.84547    ...     36.25675   \n",
      "\n",
      "hour              16        17        18        19        20        21  \\\n",
      "day                                                                      \n",
      "2018-01-01  32.19651  38.04513  50.17707  48.37496  50.48109  42.73274   \n",
      "2018-01-02  38.17153  42.65265  60.09228  57.71924  48.04210  42.44339   \n",
      "2018-01-03  38.24340  47.27651  70.19563  57.05297  52.15927  50.36635   \n",
      "\n",
      "hour              22        23        24  \n",
      "day                                       \n",
      "2018-01-01  39.75889  37.50306  34.87104  \n",
      "2018-01-02  40.88191  38.17870  35.36900  \n",
      "2018-01-03  43.90656  44.75887  38.99024  \n",
      "\n",
      "[3 rows x 24 columns]\n",
      "hour              1         2         3         4         5         6   \\\n",
      "day                                                                      \n",
      "2018-06-28  26.09469  22.59063  20.31988  20.78673  22.01446  26.31065   \n",
      "2018-06-29  26.86228  23.86793  22.07145  21.72515  23.47620  36.48126   \n",
      "2018-06-30  28.34255  27.60032  26.94556  26.03280  27.06299  36.75014   \n",
      "\n",
      "hour              7         8         9         10    ...           15  \\\n",
      "day                                                   ...                \n",
      "2018-06-28  29.28413  23.05852  18.63121  19.17904    ...     24.50898   \n",
      "2018-06-29  36.42275  27.47188  19.96749  21.82426    ...     30.29009   \n",
      "2018-06-30  26.89662  20.37327  14.89224  19.84218    ...     31.34919   \n",
      "\n",
      "hour              16        17        18        19        20        21  \\\n",
      "day                                                                      \n",
      "2018-06-28  25.34851  26.18765  27.98966  36.44666  55.58503  48.23002   \n",
      "2018-06-29  31.83264  35.48430  40.53000  47.85817  61.19739  53.51671   \n",
      "2018-06-30  37.45000  39.48479  42.67359  49.50586  61.89512  50.77052   \n",
      "\n",
      "hour              22        23        24  \n",
      "day                                       \n",
      "2018-06-28  36.46184  29.01320  26.18665  \n",
      "2018-06-29  46.34416  39.68992  35.46901  \n",
      "2018-06-30  43.99665  37.42167  33.14319  \n",
      "\n",
      "[3 rows x 24 columns]\n",
      "<class 'pandas.core.frame.DataFrame'>\n"
     ]
    },
    {
     "name": "stderr",
     "output_type": "stream",
     "text": [
      "/anaconda3/lib/python3.7/site-packages/ipykernel_launcher.py:14: SettingWithCopyWarning: \n",
      "A value is trying to be set on a copy of a slice from a DataFrame.\n",
      "Try using .loc[row_indexer,col_indexer] = value instead\n",
      "\n",
      "See the caveats in the documentation: http://pandas.pydata.org/pandas-docs/stable/indexing.html#indexing-view-versus-copy\n",
      "  \n"
     ]
    }
   ],
   "source": [
    "df= get_price_series(H1_18) # just like MISO with the hours horizonta!!\n",
    "print(type(df)) # a df\n",
    "\n"
   ]
  },
  {
   "cell_type": "code",
   "execution_count": 92,
   "metadata": {},
   "outputs": [
    {
     "data": {
      "text/plain": [
       "day         hour\n",
       "2018-01-01  1       36.45428\n",
       "            2       34.76417\n",
       "            3       32.85036\n",
       "            4       31.64637\n",
       "            5       31.80000\n",
       "dtype: float64"
      ]
     },
     "execution_count": 92,
     "metadata": {},
     "output_type": "execute_result"
    }
   ],
   "source": [
    "df= df.stack()\n",
    "df.head()\n"
   ]
  },
  {
   "cell_type": "code",
   "execution_count": 93,
   "metadata": {},
   "outputs": [
    {
     "data": {
      "text/html": [
       "<div>\n",
       "<style scoped>\n",
       "    .dataframe tbody tr th:only-of-type {\n",
       "        vertical-align: middle;\n",
       "    }\n",
       "\n",
       "    .dataframe tbody tr th {\n",
       "        vertical-align: top;\n",
       "    }\n",
       "\n",
       "    .dataframe thead th {\n",
       "        text-align: right;\n",
       "    }\n",
       "</style>\n",
       "<table border=\"1\" class=\"dataframe\">\n",
       "  <thead>\n",
       "    <tr style=\"text-align: right;\">\n",
       "      <th></th>\n",
       "      <th>day</th>\n",
       "      <th>hour</th>\n",
       "      <th>price</th>\n",
       "    </tr>\n",
       "  </thead>\n",
       "  <tbody>\n",
       "    <tr>\n",
       "      <th>0</th>\n",
       "      <td>2018-01-01</td>\n",
       "      <td>1</td>\n",
       "      <td>36.45428</td>\n",
       "    </tr>\n",
       "    <tr>\n",
       "      <th>1</th>\n",
       "      <td>2018-01-01</td>\n",
       "      <td>2</td>\n",
       "      <td>34.76417</td>\n",
       "    </tr>\n",
       "    <tr>\n",
       "      <th>2</th>\n",
       "      <td>2018-01-01</td>\n",
       "      <td>3</td>\n",
       "      <td>32.85036</td>\n",
       "    </tr>\n",
       "    <tr>\n",
       "      <th>3</th>\n",
       "      <td>2018-01-01</td>\n",
       "      <td>4</td>\n",
       "      <td>31.64637</td>\n",
       "    </tr>\n",
       "    <tr>\n",
       "      <th>4</th>\n",
       "      <td>2018-01-01</td>\n",
       "      <td>5</td>\n",
       "      <td>31.80000</td>\n",
       "    </tr>\n",
       "  </tbody>\n",
       "</table>\n",
       "</div>"
      ],
      "text/plain": [
       "         day  hour     price\n",
       "0 2018-01-01     1  36.45428\n",
       "1 2018-01-01     2  34.76417\n",
       "2 2018-01-01     3  32.85036\n",
       "3 2018-01-01     4  31.64637\n",
       "4 2018-01-01     5  31.80000"
      ]
     },
     "execution_count": 93,
     "metadata": {},
     "output_type": "execute_result"
    }
   ],
   "source": [
    "df= df.reset_index()\n",
    "df.columns= ['day','hour','price']\n",
    "df.head()"
   ]
  },
  {
   "cell_type": "code",
   "execution_count": 94,
   "metadata": {},
   "outputs": [
    {
     "name": "stdout",
     "output_type": "stream",
     "text": [
      "<class 'pandas.core.frame.DataFrame'>\n",
      "RangeIndex: 4343 entries, 0 to 4342\n",
      "Data columns (total 3 columns):\n",
      "day      4343 non-null datetime64[ns]\n",
      "hour     4343 non-null int64\n",
      "price    4343 non-null float64\n",
      "dtypes: datetime64[ns](1), float64(1), int64(1)\n",
      "memory usage: 101.9 KB\n"
     ]
    }
   ],
   "source": [
    "df.info()"
   ]
  },
  {
   "cell_type": "code",
   "execution_count": 95,
   "metadata": {},
   "outputs": [
    {
     "name": "stdout",
     "output_type": "stream",
     "text": [
      "<class 'pandas.core.frame.DataFrame'>\n",
      "RangeIndex: 4343 entries, 0 to 4342\n",
      "Data columns (total 5 columns):\n",
      "day        4343 non-null datetime64[ns]\n",
      "hour       4343 non-null category\n",
      "price      4343 non-null float64\n",
      "weekday    4343 non-null category\n",
      "month      4343 non-null category\n",
      "dtypes: category(3), datetime64[ns](1), float64(1)\n",
      "memory usage: 82.0 KB\n"
     ]
    },
    {
     "data": {
      "text/html": [
       "<div>\n",
       "<style scoped>\n",
       "    .dataframe tbody tr th:only-of-type {\n",
       "        vertical-align: middle;\n",
       "    }\n",
       "\n",
       "    .dataframe tbody tr th {\n",
       "        vertical-align: top;\n",
       "    }\n",
       "\n",
       "    .dataframe thead th {\n",
       "        text-align: right;\n",
       "    }\n",
       "</style>\n",
       "<table border=\"1\" class=\"dataframe\">\n",
       "  <thead>\n",
       "    <tr style=\"text-align: right;\">\n",
       "      <th></th>\n",
       "      <th>day</th>\n",
       "      <th>hour</th>\n",
       "      <th>price</th>\n",
       "      <th>weekday</th>\n",
       "      <th>month</th>\n",
       "    </tr>\n",
       "  </thead>\n",
       "  <tbody>\n",
       "    <tr>\n",
       "      <th>0</th>\n",
       "      <td>2018-01-01</td>\n",
       "      <td>1</td>\n",
       "      <td>36.45428</td>\n",
       "      <td>Monday</td>\n",
       "      <td>1</td>\n",
       "    </tr>\n",
       "    <tr>\n",
       "      <th>1</th>\n",
       "      <td>2018-01-01</td>\n",
       "      <td>2</td>\n",
       "      <td>34.76417</td>\n",
       "      <td>Monday</td>\n",
       "      <td>1</td>\n",
       "    </tr>\n",
       "    <tr>\n",
       "      <th>2</th>\n",
       "      <td>2018-01-01</td>\n",
       "      <td>3</td>\n",
       "      <td>32.85036</td>\n",
       "      <td>Monday</td>\n",
       "      <td>1</td>\n",
       "    </tr>\n",
       "  </tbody>\n",
       "</table>\n",
       "</div>"
      ],
      "text/plain": [
       "         day hour     price weekday month\n",
       "0 2018-01-01    1  36.45428  Monday     1\n",
       "1 2018-01-01    2  34.76417  Monday     1\n",
       "2 2018-01-01    3  32.85036  Monday     1"
      ]
     },
     "execution_count": 95,
     "metadata": {},
     "output_type": "execute_result"
    }
   ],
   "source": [
    "df['weekday']= df['day'].dt.weekday_name.astype('category')\n",
    "df['month']= df['day'].dt.month.astype('category')\n",
    "df.hour= df.hour.astype('category') \n",
    "# no need to make adatetime object as day is already datetime and we can extract weekda\n",
    "df.info()\n",
    "df.head(3)"
   ]
  },
  {
   "cell_type": "code",
   "execution_count": 96,
   "metadata": {},
   "outputs": [],
   "source": [
    "import statsmodels.api as sm\n",
    "from statsmodels.formula.api import ols\n",
    "# import statsmodels.formula.api as smf\n",
    "m= ols(formula= 'price ~ hour + weekday + month', data= df).fit()"
   ]
  },
  {
   "cell_type": "code",
   "execution_count": 97,
   "metadata": {},
   "outputs": [
    {
     "name": "stdout",
     "output_type": "stream",
     "text": [
      "                            OLS Regression Results                            \n",
      "==============================================================================\n",
      "Dep. Variable:                  price   R-squared:                       0.661\n",
      "Model:                            OLS   Adj. R-squared:                  0.659\n",
      "Method:                 Least Squares   F-statistic:                     247.3\n",
      "Date:                Mon, 25 Feb 2019   Prob (F-statistic):               0.00\n",
      "Time:                        19:32:59   Log-Likelihood:                -15174.\n",
      "No. Observations:                4343   AIC:                         3.042e+04\n",
      "Df Residuals:                    4308   BIC:                         3.064e+04\n",
      "Df Model:                          34                                         \n",
      "Covariance Type:            nonrobust                                         \n",
      "========================================================================================\n",
      "                           coef    std err          t      P>|t|      [0.025      0.975]\n",
      "----------------------------------------------------------------------------------------\n",
      "Intercept               31.1378      0.718     43.360      0.000      29.730      32.546\n",
      "hour[T.2]               -1.7914      0.841     -2.131      0.033      -3.439      -0.143\n",
      "hour[T.3]               -3.0606      0.842     -3.636      0.000      -4.711      -1.410\n",
      "hour[T.4]               -3.3616      0.841     -3.999      0.000      -5.010      -1.714\n",
      "hour[T.5]               -1.4961      0.841     -1.780      0.075      -3.144       0.152\n",
      "hour[T.6]                4.3051      0.841      5.121      0.000       2.657       5.953\n",
      "hour[T.7]               10.7400      0.841     12.776      0.000       9.092      12.388\n",
      "hour[T.8]                5.6541      0.841      6.726      0.000       4.006       7.302\n",
      "hour[T.9]               -2.4070      0.841     -2.863      0.004      -4.055      -0.759\n",
      "hour[T.10]              -6.2611      0.841     -7.448      0.000      -7.909      -4.613\n",
      "hour[T.11]              -8.3553      0.841     -9.939      0.000     -10.003      -6.707\n",
      "hour[T.12]              -9.3623      0.841    -11.137      0.000     -11.010      -7.714\n",
      "hour[T.13]             -10.0631      0.841    -11.971      0.000     -11.711      -8.415\n",
      "hour[T.14]              -9.7336      0.841    -11.579      0.000     -11.382      -8.086\n",
      "hour[T.15]              -8.7971      0.841    -10.465      0.000     -10.445      -7.149\n",
      "hour[T.16]              -5.8746      0.841     -6.988      0.000      -7.523      -4.227\n",
      "hour[T.17]              -0.9556      0.841     -1.137      0.256      -2.604       0.692\n",
      "hour[T.18]               7.8760      0.841      9.369      0.000       6.228       9.524\n",
      "hour[T.19]              17.2918      0.841     20.570      0.000      15.644      18.940\n",
      "hour[T.20]              23.7590      0.841     28.263      0.000      22.111      25.407\n",
      "hour[T.21]              22.8035      0.841     27.127      0.000      21.155      24.452\n",
      "hour[T.22]              13.9621      0.841     16.609      0.000      12.314      15.610\n",
      "hour[T.23]               6.2784      0.841      7.469      0.000       4.630       7.926\n",
      "hour[T.24]               2.2874      0.841      2.721      0.007       0.639       3.935\n",
      "weekday[T.Monday]        0.8136      0.453      1.795      0.073      -0.075       1.702\n",
      "weekday[T.Saturday]     -3.4937      0.453     -7.717      0.000      -4.381      -2.606\n",
      "weekday[T.Sunday]       -6.7279      0.458    -14.694      0.000      -7.626      -5.830\n",
      "weekday[T.Thursday]      1.1519      0.453      2.543      0.011       0.264       2.040\n",
      "weekday[T.Tuesday]       3.2897      0.453      7.257      0.000       2.401       4.178\n",
      "weekday[T.Wednesday]     3.1166      0.453      6.875      0.000       2.228       4.005\n",
      "month[T.2]              -2.2211      0.426     -5.216      0.000      -3.056      -1.386\n",
      "month[T.3]              -2.5936      0.416     -6.241      0.000      -3.408      -1.779\n",
      "month[T.4]              -7.5954      0.418    -18.151      0.000      -8.416      -6.775\n",
      "month[T.5]             -12.2065      0.415    -29.422      0.000     -13.020     -11.393\n",
      "month[T.6]              -4.4469      0.419    -10.620      0.000      -5.268      -3.626\n",
      "==============================================================================\n",
      "Omnibus:                      280.148   Durbin-Watson:                   0.371\n",
      "Prob(Omnibus):                  0.000   Jarque-Bera (JB):             1033.297\n",
      "Skew:                           0.230   Prob(JB):                    4.19e-225\n",
      "Kurtosis:                       5.345   Cond. No.                         28.0\n",
      "==============================================================================\n",
      "\n",
      "Warnings:\n",
      "[1] Standard Errors assume that the covariance matrix of the errors is correctly specified.\n"
     ]
    }
   ],
   "source": [
    "print(m.summary())"
   ]
  },
  {
   "cell_type": "code",
   "execution_count": 100,
   "metadata": {
    "collapsed": true
   },
   "outputs": [
    {
     "data": {
      "text/plain": [
       "0        True\n",
       "1        True\n",
       "2        True\n",
       "3        True\n",
       "4        True\n",
       "5        True\n",
       "6       False\n",
       "7       False\n",
       "8       False\n",
       "9       False\n",
       "10      False\n",
       "11      False\n",
       "12      False\n",
       "13      False\n",
       "14      False\n",
       "15      False\n",
       "16      False\n",
       "17      False\n",
       "18      False\n",
       "19      False\n",
       "20      False\n",
       "21       True\n",
       "22       True\n",
       "23       True\n",
       "24       True\n",
       "25       True\n",
       "26       True\n",
       "27       True\n",
       "28       True\n",
       "29       True\n",
       "        ...  \n",
       "4313    False\n",
       "4314    False\n",
       "4315    False\n",
       "4316     True\n",
       "4317     True\n",
       "4318     True\n",
       "4319     True\n",
       "4320     True\n",
       "4321     True\n",
       "4322     True\n",
       "4323     True\n",
       "4324     True\n",
       "4325    False\n",
       "4326    False\n",
       "4327    False\n",
       "4328    False\n",
       "4329    False\n",
       "4330    False\n",
       "4331    False\n",
       "4332    False\n",
       "4333    False\n",
       "4334    False\n",
       "4335    False\n",
       "4336    False\n",
       "4337    False\n",
       "4338    False\n",
       "4339    False\n",
       "4340     True\n",
       "4341     True\n",
       "4342     True\n",
       "Name: hour, Length: 4343, dtype: bool"
      ]
     },
     "execution_count": 100,
     "metadata": {},
     "output_type": "execute_result"
    }
   ],
   "source": [
    "df['hour'].astype('int').isin(['1','2','3','4','5','6','22','23','24'])"
   ]
  },
  {
   "cell_type": "code",
   "execution_count": 103,
   "metadata": {},
   "outputs": [
    {
     "data": {
      "text/html": [
       "<div>\n",
       "<style scoped>\n",
       "    .dataframe tbody tr th:only-of-type {\n",
       "        vertical-align: middle;\n",
       "    }\n",
       "\n",
       "    .dataframe tbody tr th {\n",
       "        vertical-align: top;\n",
       "    }\n",
       "\n",
       "    .dataframe thead th {\n",
       "        text-align: right;\n",
       "    }\n",
       "</style>\n",
       "<table border=\"1\" class=\"dataframe\">\n",
       "  <thead>\n",
       "    <tr style=\"text-align: right;\">\n",
       "      <th></th>\n",
       "      <th>day</th>\n",
       "      <th>hour</th>\n",
       "      <th>price</th>\n",
       "      <th>weekday</th>\n",
       "      <th>month</th>\n",
       "    </tr>\n",
       "  </thead>\n",
       "  <tbody>\n",
       "    <tr>\n",
       "      <th>0</th>\n",
       "      <td>2018-01-01</td>\n",
       "      <td>1</td>\n",
       "      <td>36.45428</td>\n",
       "      <td>Monday</td>\n",
       "      <td>1</td>\n",
       "    </tr>\n",
       "    <tr>\n",
       "      <th>1</th>\n",
       "      <td>2018-01-01</td>\n",
       "      <td>2</td>\n",
       "      <td>34.76417</td>\n",
       "      <td>Monday</td>\n",
       "      <td>1</td>\n",
       "    </tr>\n",
       "    <tr>\n",
       "      <th>2</th>\n",
       "      <td>2018-01-01</td>\n",
       "      <td>3</td>\n",
       "      <td>32.85036</td>\n",
       "      <td>Monday</td>\n",
       "      <td>1</td>\n",
       "    </tr>\n",
       "    <tr>\n",
       "      <th>3</th>\n",
       "      <td>2018-01-01</td>\n",
       "      <td>4</td>\n",
       "      <td>31.64637</td>\n",
       "      <td>Monday</td>\n",
       "      <td>1</td>\n",
       "    </tr>\n",
       "    <tr>\n",
       "      <th>4</th>\n",
       "      <td>2018-01-01</td>\n",
       "      <td>5</td>\n",
       "      <td>31.80000</td>\n",
       "      <td>Monday</td>\n",
       "      <td>1</td>\n",
       "    </tr>\n",
       "    <tr>\n",
       "      <th>5</th>\n",
       "      <td>2018-01-01</td>\n",
       "      <td>6</td>\n",
       "      <td>33.24404</td>\n",
       "      <td>Monday</td>\n",
       "      <td>1</td>\n",
       "    </tr>\n",
       "    <tr>\n",
       "      <th>21</th>\n",
       "      <td>2018-01-01</td>\n",
       "      <td>22</td>\n",
       "      <td>39.75889</td>\n",
       "      <td>Monday</td>\n",
       "      <td>1</td>\n",
       "    </tr>\n",
       "    <tr>\n",
       "      <th>22</th>\n",
       "      <td>2018-01-01</td>\n",
       "      <td>23</td>\n",
       "      <td>37.50306</td>\n",
       "      <td>Monday</td>\n",
       "      <td>1</td>\n",
       "    </tr>\n",
       "    <tr>\n",
       "      <th>23</th>\n",
       "      <td>2018-01-01</td>\n",
       "      <td>24</td>\n",
       "      <td>34.87104</td>\n",
       "      <td>Monday</td>\n",
       "      <td>1</td>\n",
       "    </tr>\n",
       "    <tr>\n",
       "      <th>24</th>\n",
       "      <td>2018-01-02</td>\n",
       "      <td>1</td>\n",
       "      <td>35.25316</td>\n",
       "      <td>Tuesday</td>\n",
       "      <td>1</td>\n",
       "    </tr>\n",
       "  </tbody>\n",
       "</table>\n",
       "</div>"
      ],
      "text/plain": [
       "          day hour     price  weekday month\n",
       "0  2018-01-01    1  36.45428   Monday     1\n",
       "1  2018-01-01    2  34.76417   Monday     1\n",
       "2  2018-01-01    3  32.85036   Monday     1\n",
       "3  2018-01-01    4  31.64637   Monday     1\n",
       "4  2018-01-01    5  31.80000   Monday     1\n",
       "5  2018-01-01    6  33.24404   Monday     1\n",
       "21 2018-01-01   22  39.75889   Monday     1\n",
       "22 2018-01-01   23  37.50306   Monday     1\n",
       "23 2018-01-01   24  34.87104   Monday     1\n",
       "24 2018-01-02    1  35.25316  Tuesday     1"
      ]
     },
     "execution_count": 103,
     "metadata": {},
     "output_type": "execute_result"
    }
   ],
   "source": [
    "dfw= df[df['hour'].astype('int').isin(['1','2','3','4','5','6','22','23','24'])]\n",
    "dfw.head(10)"
   ]
  },
  {
   "cell_type": "code",
   "execution_count": 104,
   "metadata": {},
   "outputs": [],
   "source": [
    "mw= ols(formula= 'price ~ hour + weekday + month', data= dfw).fit()\n",
    "# code for all variables and their interactions, as from R ()"
   ]
  },
  {
   "cell_type": "code",
   "execution_count": 105,
   "metadata": {},
   "outputs": [
    {
     "name": "stdout",
     "output_type": "stream",
     "text": [
      "                            OLS Regression Results                            \n",
      "==============================================================================\n",
      "Dep. Variable:                  price   R-squared:                       0.658\n",
      "Model:                            OLS   Adj. R-squared:                  0.654\n",
      "Method:                 Least Squares   F-statistic:                     163.1\n",
      "Date:                Mon, 25 Feb 2019   Prob (F-statistic):               0.00\n",
      "Time:                        19:37:11   Log-Likelihood:                -4807.0\n",
      "No. Observations:                1628   AIC:                             9654.\n",
      "Df Residuals:                    1608   BIC:                             9762.\n",
      "Df Model:                          19                                         \n",
      "Covariance Type:            nonrobust                                         \n",
      "========================================================================================\n",
      "                           coef    std err          t      P>|t|      [0.025      0.975]\n",
      "----------------------------------------------------------------------------------------\n",
      "Intercept               28.7279      0.517     55.544      0.000      27.713      29.742\n",
      "hour[T.2]               -1.7914      0.490     -3.654      0.000      -2.753      -0.830\n",
      "hour[T.3]               -3.0319      0.491     -6.175      0.000      -3.995      -2.069\n",
      "hour[T.4]               -3.3616      0.490     -6.856      0.000      -4.323      -2.400\n",
      "hour[T.5]               -1.4961      0.490     -3.052      0.002      -2.458      -0.534\n",
      "hour[T.6]                4.3051      0.490      8.781      0.000       3.343       5.267\n",
      "hour[T.7]            -1.557e-14    4.9e-16    -31.777      0.000   -1.65e-14   -1.46e-14\n",
      "hour[T.8]              1.67e-15   1.17e-16     14.294      0.000    1.44e-15     1.9e-15\n",
      "hour[T.9]            -6.936e-16   1.51e-16     -4.584      0.000    -9.9e-16   -3.97e-16\n",
      "hour[T.10]           -4.125e-15   1.89e-16    -21.774      0.000    -4.5e-15   -3.75e-15\n",
      "hour[T.11]           -6.362e-15   2.33e-16    -27.345      0.000   -6.82e-15   -5.91e-15\n",
      "hour[T.12]           -2.276e-14   7.38e-16    -30.838      0.000   -2.42e-14   -2.13e-14\n",
      "hour[T.13]            8.712e-15    3.1e-16     28.077      0.000     8.1e-15    9.32e-15\n",
      "hour[T.14]            2.721e-15    1.4e-16     19.464      0.000    2.45e-15       3e-15\n",
      "hour[T.15]            1.044e-14   3.14e-16     33.279      0.000    9.83e-15    1.11e-14\n",
      "hour[T.16]            2.783e-15   1.16e-16     24.001      0.000    2.56e-15    3.01e-15\n",
      "hour[T.17]            1.275e-15   5.85e-17     21.789      0.000    1.16e-15    1.39e-15\n",
      "hour[T.18]           -1.983e-15   9.42e-17    -21.050      0.000   -2.17e-15    -1.8e-15\n",
      "hour[T.19]            3.688e-16   2.94e-17     12.539      0.000    3.11e-16    4.27e-16\n",
      "hour[T.20]            2.851e-16   1.82e-17     15.691      0.000    2.49e-16    3.21e-16\n",
      "hour[T.21]            5.651e-16   4.16e-17     13.568      0.000    4.83e-16    6.47e-16\n",
      "hour[T.22]              13.9621      0.490     28.477      0.000      13.000      14.924\n",
      "hour[T.23]               6.2784      0.490     12.805      0.000       5.317       7.240\n",
      "hour[T.24]               2.2874      0.490      4.665      0.000       1.326       3.249\n",
      "weekday[T.Monday]       -0.6352      0.432     -1.471      0.141      -1.482       0.212\n",
      "weekday[T.Saturday]      0.0612      0.431      0.142      0.887      -0.785       0.907\n",
      "weekday[T.Sunday]       -1.3261      0.436     -3.039      0.002      -2.182      -0.470\n",
      "weekday[T.Thursday]      0.5357      0.431      1.241      0.215      -0.311       1.382\n",
      "weekday[T.Tuesday]       1.3576      0.432      3.144      0.002       0.511       2.204\n",
      "weekday[T.Wednesday]     1.6957      0.432      3.927      0.000       0.849       2.543\n",
      "month[T.2]               0.7936      0.406      1.957      0.051      -0.002       1.589\n",
      "month[T.3]              -0.4214      0.396     -1.064      0.287      -1.198       0.355\n",
      "month[T.4]              -4.7936      0.399    -12.028      0.000      -5.575      -4.012\n",
      "month[T.5]              -9.4583      0.395    -23.936      0.000     -10.233      -8.683\n",
      "month[T.6]              -3.4940      0.399     -8.761      0.000      -4.276      -2.712\n",
      "==============================================================================\n",
      "Omnibus:                       74.099   Durbin-Watson:                   0.499\n",
      "Prob(Omnibus):                  0.000   Jarque-Bera (JB):              166.173\n",
      "Skew:                           0.270   Prob(JB):                     8.24e-37\n",
      "Kurtosis:                       4.469   Cond. No.                     2.51e+16\n",
      "==============================================================================\n",
      "\n",
      "Warnings:\n",
      "[1] Standard Errors assume that the covariance matrix of the errors is correctly specified.\n",
      "[2] The smallest eigenvalue is 3.52e-30. This might indicate that there are\n",
      "strong multicollinearity problems or that the design matrix is singular.\n"
     ]
    }
   ],
   "source": [
    "print(mw.summary())"
   ]
  },
  {
   "cell_type": "code",
   "execution_count": null,
   "metadata": {},
   "outputs": [],
   "source": []
  },
  {
   "cell_type": "code",
   "execution_count": 40,
   "metadata": {},
   "outputs": [
    {
     "name": "stderr",
     "output_type": "stream",
     "text": [
      "/anaconda3/lib/python3.7/site-packages/ipykernel_launcher.py:15: SettingWithCopyWarning: \n",
      "A value is trying to be set on a copy of a slice from a DataFrame.\n",
      "Try using .loc[row_indexer,col_indexer] = value instead\n",
      "\n",
      "See the caveats in the documentation: http://pandas.pydata.org/pandas-docs/stable/indexing.html#indexing-view-versus-copy\n",
      "  from ipykernel import kernelapp as app\n"
     ]
    },
    {
     "data": {
      "image/png": "[encoded data removed]",
      "text/plain": [
       "<Figure size 432x288 with 1 Axes>"
      ]
     },
     "metadata": {
      "needs_background": "light"
     },
     "output_type": "display_data"
    },
    {
     "data": {
      "text/plain": [
       "1       2\n",
       "2       2\n",
       "3      59\n",
       "4     139\n",
       "5       5\n",
       "8       5\n",
       "9      56\n",
       "10     62\n",
       "11     57\n",
       "12     37\n",
       "13    143\n",
       "14     83\n",
       "15     36\n",
       "16     11\n",
       "17      3\n",
       "dtype: int64"
      ]
     },
     "execution_count": 40,
     "metadata": {},
     "output_type": "execute_result"
    }
   ],
   "source": [
    "two_years= H1_17 + H2_17 + H1_18 + H2_18\n",
    "len(two_years)# 23 (as April, 2017 is missing)\n",
    "get_hours_histogram(two_years)"
   ]
  },
  {
   "cell_type": "markdown",
   "metadata": {},
   "source": [
    "# Regression Analysis"
   ]
  },
  {
   "cell_type": "code",
   "execution_count": null,
   "metadata": {},
   "outputs": [],
   "source": [
    "A. Time Variables Only"
   ]
  },
  {
   "cell_type": "code",
   "execution_count": null,
   "metadata": {},
   "outputs": [],
   "source": []
  },
  {
   "cell_type": "code",
   "execution_count": null,
   "metadata": {},
   "outputs": [],
   "source": []
  },
  {
   "cell_type": "code",
   "execution_count": null,
   "metadata": {},
   "outputs": [],
   "source": []
  },
  {
   "cell_type": "code",
   "execution_count": null,
   "metadata": {},
   "outputs": [],
   "source": []
  },
  {
   "cell_type": "code",
   "execution_count": 41,
   "metadata": {},
   "outputs": [
    {
     "name": "stderr",
     "output_type": "stream",
     "text": [
      "/anaconda3/lib/python3.7/site-packages/ipykernel_launcher.py:15: SettingWithCopyWarning: \n",
      "A value is trying to be set on a copy of a slice from a DataFrame.\n",
      "Try using .loc[row_indexer,col_indexer] = value instead\n",
      "\n",
      "See the caveats in the documentation: http://pandas.pydata.org/pandas-docs/stable/indexing.html#indexing-view-versus-copy\n",
      "  from ipykernel import kernelapp as app\n"
     ]
    },
    {
     "data": {
      "image/png": "[encoded data removed]",
      "text/plain": [
       "<Figure size 432x288 with 1 Axes>"
      ]
     },
     "metadata": {
      "needs_background": "light"
     },
     "output_type": "display_data"
    },
    {
     "data": {
      "text/plain": [
       "3      9\n",
       "4     22\n",
       "8      1\n",
       "9     15\n",
       "10     8\n",
       "11     7\n",
       "12     8\n",
       "13    46\n",
       "14    29\n",
       "15    26\n",
       "16     7\n",
       "17     3\n",
       "dtype: int64"
      ]
     },
     "execution_count": 41,
     "metadata": {},
     "output_type": "execute_result"
    }
   ],
   "source": [
    "get_hours_histogram(H1_18)"
   ]
  },
  {
   "cell_type": "code",
   "execution_count": 14,
   "metadata": {},
   "outputs": [
    {
     "ename": "NameError",
     "evalue": "name 'lowest_hours' is not defined",
     "output_type": "error",
     "traceback": [
      "\u001b[0;31m---------------------------------------------------------------------------\u001b[0m",
      "\u001b[0;31mNameError\u001b[0m                                 Traceback (most recent call last)",
      "\u001b[0;32m<ipython-input-14-9d7e68617c32>\u001b[0m in \u001b[0;36m<module>\u001b[0;34m\u001b[0m\n\u001b[0;32m----> 1\u001b[0;31m \u001b[0mprint\u001b[0m\u001b[0;34m(\u001b[0m\u001b[0mlowest_hours\u001b[0m\u001b[0;34m)\u001b[0m\u001b[0;34m\u001b[0m\u001b[0;34m\u001b[0m\u001b[0m\n\u001b[0m",
      "\u001b[0;31mNameError\u001b[0m: name 'lowest_hours' is not defined"
     ]
    }
   ],
   "source": [
    "print(lowest_hours) # WHY IS THIS, WHEN IT HAS BEEN RETURNED!? (earlier version)"
   ]
  },
  {
   "cell_type": "code",
   "execution_count": 42,
   "metadata": {},
   "outputs": [
    {
     "name": "stderr",
     "output_type": "stream",
     "text": [
      "/anaconda3/lib/python3.7/site-packages/ipykernel_launcher.py:15: SettingWithCopyWarning: \n",
      "A value is trying to be set on a copy of a slice from a DataFrame.\n",
      "Try using .loc[row_indexer,col_indexer] = value instead\n",
      "\n",
      "See the caveats in the documentation: http://pandas.pydata.org/pandas-docs/stable/indexing.html#indexing-view-versus-copy\n",
      "  from ipykernel import kernelapp as app\n"
     ]
    },
    {
     "data": {
      "image/png": "[encoded data removed]",
      "text/plain": [
       "<Figure size 432x288 with 1 Axes>"
      ]
     },
     "metadata": {
      "needs_background": "light"
     },
     "output_type": "display_data"
    },
    {
     "data": {
      "text/plain": [
       "3     17\n",
       "4     40\n",
       "5      4\n",
       "8      1\n",
       "9     20\n",
       "10    26\n",
       "11    17\n",
       "12    13\n",
       "13    31\n",
       "14    13\n",
       "15     2\n",
       "dtype: int64"
      ]
     },
     "execution_count": 42,
     "metadata": {},
     "output_type": "execute_result"
    }
   ],
   "source": [
    "get_hours_histogram(H2_18)"
   ]
  },
  {
   "cell_type": "code",
   "execution_count": 43,
   "metadata": {},
   "outputs": [
    {
     "name": "stderr",
     "output_type": "stream",
     "text": [
      "/anaconda3/lib/python3.7/site-packages/ipykernel_launcher.py:15: SettingWithCopyWarning: \n",
      "A value is trying to be set on a copy of a slice from a DataFrame.\n",
      "Try using .loc[row_indexer,col_indexer] = value instead\n",
      "\n",
      "See the caveats in the documentation: http://pandas.pydata.org/pandas-docs/stable/indexing.html#indexing-view-versus-copy\n",
      "  from ipykernel import kernelapp as app\n"
     ]
    },
    {
     "data": {
      "image/png": "[encoded data removed]",
      "text/plain": [
       "<Figure size 432x288 with 1 Axes>"
      ]
     },
     "metadata": {
      "needs_background": "light"
     },
     "output_type": "display_data"
    },
    {
     "data": {
      "text/plain": [
       "1      2\n",
       "2      1\n",
       "3     29\n",
       "4     26\n",
       "8      2\n",
       "9      5\n",
       "10    11\n",
       "11     8\n",
       "12     5\n",
       "13    25\n",
       "14    26\n",
       "15     7\n",
       "16     4\n",
       "dtype: int64"
      ]
     },
     "execution_count": 43,
     "metadata": {},
     "output_type": "execute_result"
    }
   ],
   "source": [
    "get_hours_histogram(H1_17)"
   ]
  },
  {
   "cell_type": "code",
   "execution_count": 44,
   "metadata": {},
   "outputs": [
    {
     "name": "stderr",
     "output_type": "stream",
     "text": [
      "/anaconda3/lib/python3.7/site-packages/ipykernel_launcher.py:15: SettingWithCopyWarning: \n",
      "A value is trying to be set on a copy of a slice from a DataFrame.\n",
      "Try using .loc[row_indexer,col_indexer] = value instead\n",
      "\n",
      "See the caveats in the documentation: http://pandas.pydata.org/pandas-docs/stable/indexing.html#indexing-view-versus-copy\n",
      "  from ipykernel import kernelapp as app\n"
     ]
    },
    {
     "data": {
      "image/png": "[encoded data removed]",
      "text/plain": [
       "<Figure size 432x288 with 1 Axes>"
      ]
     },
     "metadata": {
      "needs_background": "light"
     },
     "output_type": "display_data"
    },
    {
     "data": {
      "text/plain": [
       "2      1\n",
       "3      4\n",
       "4     51\n",
       "5      1\n",
       "8      1\n",
       "9     16\n",
       "10    17\n",
       "11    25\n",
       "12    11\n",
       "13    41\n",
       "14    15\n",
       "15     1\n",
       "dtype: int64"
      ]
     },
     "execution_count": 44,
     "metadata": {},
     "output_type": "execute_result"
    }
   ],
   "source": [
    "get_hours_histogram(H2_17)"
   ]
  },
  {
   "cell_type": "code",
   "execution_count": null,
   "metadata": {},
   "outputs": [],
   "source": []
  },
  {
   "cell_type": "code",
   "execution_count": null,
   "metadata": {},
   "outputs": [],
   "source": []
  },
  {
   "cell_type": "code",
   "execution_count": null,
   "metadata": {},
   "outputs": [],
   "source": []
  },
  {
   "cell_type": "code",
   "execution_count": null,
   "metadata": {},
   "outputs": [],
   "source": []
  },
  {
   "cell_type": "code",
   "execution_count": null,
   "metadata": {},
   "outputs": [],
   "source": []
  },
  {
   "cell_type": "markdown",
   "metadata": {},
   "source": [
    "# Import CAISO Hourly DAM Prices: Completed Six Months Analysis\n"
   ]
  },
  {
   "cell_type": "code",
   "execution_count": null,
   "metadata": {},
   "outputs": [],
   "source": [
    "files= ['DAM_Jan_2018.csv','DAM_Feb_2018.csv', 'DAM_March_2018.csv','DAM_April_2018.csv','DAM_May_2018.csv','DAM_June_2018.csv']\n",
    "# files= ['DAM_July_2018.csv','DAM_Aug_2018.csv','DAM_Sept_2018.csv','DAM_Oct_2018.csv','DAM_Nov_2018.csv','DAM_Dec_2018.csv']\n",
    "\n",
    "frames= [ pd.read_csv(file, header= 0, usecols= [0,2,3,9,14],parse_dates= True, index_col= 'INTERVALSTARTTIME_GMT')\n",
    "         for file in files]\n",
    "df1= pd.concat(frames)\n",
    "dfp= df1[df1['LMP_TYPE'] == 'LMP'] # drops the other four price components and reduces data rows by 80%\n",
    "dfp['date']= pd.to_datetime(dfp['OPR_DT']) #needed for plotting after the groupby SPECIFY FORMAT!!\n",
    "dfp= dfp.drop(['OPR_DT','LMP_TYPE'],axis=1)\n",
    "dfp.columns= ['hour','price','day']\n",
    "dfp['weekday']= dfp.day.dt.weekday_name\n",
    "dfp['month']= dfp.day.dt.month #new code\n",
    "dfp.index.names= ['date']\n",
    "# dfp.index= dfp.index.drop_duplicates(keep='first')  \n",
    "# dfp = dfp.sort_values(dfp.index) UNABLE TO SORT DUE TO DUPLICATES, BUT UNABLE TO REMOVE DUPLICATES W CODE ABOVE\n",
    "dfp.info()  # WE HAVE 4343 OBSERVATIONS (AS HOURS), but the scraped data has 4344 hours: MAKE SURE NOT OFF BY AN HOUR!!\n",
    "print(dfp.head())\n",
    "print(dfp.tail()) # dfp is dataframe for Prices"
   ]
  },
  {
   "cell_type": "code",
   "execution_count": null,
   "metadata": {},
   "outputs": [],
   "source": [
    "# first drop excess variables\n",
    "df_pvt= dfp.drop(columns= dfp[['weekday','month']], axis=1)\n",
    "df_pvt= dfp.pivot('day','hour','price') \n",
    "# NB Some Nan in the last row (gives rise to the sole value of Hour 17 below??\n",
    "M= df_pvt.values  #argmin in NOT a Pandas method, so first we make a matrix, M.\n",
    "lowest_hours= M.argmin(axis=1)\n",
    "print(type(lowest_hours)) # numpy.ndarray\n",
    "print(len(lowest_hours)) # 181 (so Nan's did indeed effect the last day)\n",
    "print(lowest_hours)\n"
   ]
  },
  {
   "cell_type": "code",
   "execution_count": null,
   "metadata": {},
   "outputs": [],
   "source": [
    "# This is for H2\n",
    "# Something weird here: lowest hour is 24 everythime, which is not correct!!!\n",
    "plt.hist(lowest_hours, bins= np.arange(1,24,1) - 0.5,density= True)\n",
    "plt.title('Histogram of the Hour with the Lowest CAISO Price for the period 2018:H1' )\n",
    "plt.xlabel('Hour of the Day')\n",
    "plt.ylabel('Probability')\n",
    "plt.xticks= range(1,25)\n",
    "plt.show()\n",
    "# IMPROVE THIS W CALTECH CODE FOR EXACT SPECIFICATION OF BINS/bin edges (DWW TRY 17, SINCE NONE > 17)\n",
    "# ALSO PRINT THE COUNT FOR EACH HOUR!"
   ]
  },
  {
   "cell_type": "code",
   "execution_count": null,
   "metadata": {},
   "outputs": [],
   "source": [
    "# np.arange(0,14 + 1.5)- 0.5 # centered around 0 to 14 This is the CalTech code\n",
    "bins= np.arange(0,24 + 1.5)- 0.5"
   ]
  },
  {
   "cell_type": "code",
   "execution_count": null,
   "metadata": {},
   "outputs": [],
   "source": [
    "# This is for H1\n",
    "plt.hist(lowest_hours, bins= np.arange(0,24 + 1.5)- 0.5,density= True)\n",
    "plt.title('Histogram of the Hour with the Lowest CAISO Price for the period 2018:H1' )\n",
    "plt.xlabel('Hour of the Day')\n",
    "plt.ylabel('Probability')\n",
    "plt.xticks= range(1,25)\n",
    "plt.show()\n",
    "# IMPROVE THIS W CALTECH CODE FOR EXACT SPECIFICATION OF BINS/bin edges (DWW TRY 17, SINCE NONE > 17)\n",
    "# ALSO PRINT THE COUNT FOR EACH HOUR!"
   ]
  },
  {
   "cell_type": "markdown",
   "metadata": {},
   "source": [
    "# Commentary\n",
    "For this six month period, the lowest prices occured at night only in Python index positions 2 & 3, corresponding to hours '3' & '4'.\n",
    "So from a Classification viewpoint, a simple model with dummy variables for the respective hours would have performed with 100% accuracy.\n",
    "We should extend the time period to at least a full year, and ideally several years.\n",
    "The histogram formatting with respect to the edges is still not quite right:\n",
    "see https://stackoverflow.com/questions/27083051/matplotlib-xticks-not-lining-up-with-histogram\n",
    "\n"
   ]
  },
  {
   "cell_type": "markdown",
   "metadata": {},
   "source": [
    "# df.idxmin( ) Variation suggested by Jeff: runs fine for H1"
   ]
  },
  {
   "cell_type": "code",
   "execution_count": null,
   "metadata": {},
   "outputs": [],
   "source": [
    "# first drop excess variables\n",
    "df_pvt= dfp.drop(columns= dfp[['weekday','month']], axis=1)\n",
    "df_pvt= dfp.pivot('day','hour','price') \n",
    "# NB Some Nan in the last row (gives rise to the sole value of Hour 17 below??\n"
   ]
  },
  {
   "cell_type": "code",
   "execution_count": null,
   "metadata": {},
   "outputs": [],
   "source": [
    "lowest_hours= df_pvt.idxmin(axis=1)\n",
    "print(type(lowest_hours)) # numpy.ndarray\n",
    "print(len(lowest_hours)) # 181 (so Nan's did indeed effect the last day)\n",
    "print(lowest_hours)"
   ]
  },
  {
   "cell_type": "code",
   "execution_count": null,
   "metadata": {},
   "outputs": [],
   "source": [
    "# This is for H1\n",
    "plt.hist(lowest_hours, bins= np.arange(0,24 + 1.5)- 0.5,density= True)\n",
    "plt.title('Histogram of the Hour with the Lowest CAISO Price for the period 2018:H1' )\n",
    "plt.xlabel('Hour of the Day')\n",
    "plt.ylabel('Probability')\n",
    "plt.xticks= range(1,24)\n",
    "plt.show()"
   ]
  },
  {
   "cell_type": "markdown",
   "metadata": {},
   "source": [
    "# Repeat with streamlined \"Production Code\" for H2 of 2018"
   ]
  },
  {
   "cell_type": "code",
   "execution_count": null,
   "metadata": {},
   "outputs": [],
   "source": [
    "print(len(lowest_hours)) # 181 ??, when it should be 31 !!\n",
    "lowest_hours  # this looks correct, BUT NOTE W PYTHON ZERO INDEXING THAT 3 IS IN FACT THE 4TH HOUR !! ETC"
   ]
  },
  {
   "cell_type": "code",
   "execution_count": null,
   "metadata": {},
   "outputs": [],
   "source": []
  },
  {
   "cell_type": "code",
   "execution_count": null,
   "metadata": {},
   "outputs": [],
   "source": [
    "H1= ['DAM_Jan_2018.csv','DAM_Feb_2018.csv', 'DAM_March_2018.csv','DAM_April_2018.csv','DAM_May_2018.csv','DAM_June_2018.csv']\n",
    "files= ['DAM_July_2018.csv','DAM_Aug_2018.csv','DAM_Sept_2018.csv','DAM_Oct_2018.csv','DAM_Nov_2018.csv','DAM_Dec_2018.csv']\n",
    "\n",
    "def get_hours_histogram(files):\n",
    "    '''This function prints a list of each of the day that had the lowest power price for the days covered by the files'''\n",
    "    frames= [ pd.read_csv(file, header= 0, usecols= [0,2,3,9,14],parse_dates= True, index_col= 'INTERVALSTARTTIME_GMT')\n",
    "         for file in files]\n",
    "    df1= pd.concat(frames)\n",
    "    dfp= df1[df1['LMP_TYPE'] == 'LMP'] # drops the other four price components and reduces data rows by 80%\n",
    "    dfp['date']= pd.to_datetime(dfp['OPR_DT']) #needed for plotting after the groupby SPECIFY FORMAT!!\n",
    "    dfp= dfp.drop(['OPR_DT','LMP_TYPE'],axis=1)\n",
    "    dfp.columns= ['hour','price','day']\n",
    "    dfp.index.names= ['date']\n",
    "    df_pvt= dfp.pivot('day','hour','price') \n",
    "    lowest_hours= df_pvt.idxmin(axis=1)       # THIS IS JEFF'S CODE FOR PANDAS SO NO M REQUIRED, NOR ARGMIN()\n",
    "    # M= df_pvt.values  #argmin in NOT a Pandas method, so first we make a matrix, M.\n",
    "    # VERY ODDLY, RUNS OK FOR H1, BUT FOR THE H2 FILES, EVERY ELEMENT OF M IS EQUAL TO 24!\n",
    "    # return M\n",
    "    # lowest_hours= M.argmin(axis=1)\n",
    "    print(lowest_hours)\n",
    "    # fn worked for H1, as before\n",
    "    plt.hist(lowest_hours, bins= np.arange(1,24,1) - 0.5,density= True)\n",
    "    plt.title('Histogram of the Hour with the Lowest CAISO Price for the Subject Period ' )\n",
    "    plt.xlabel('Hour of the Day')\n",
    "    plt.ylabel('Probability')\n",
    "    plt.xticks= range(1,25)\n",
    "    plt.show()"
   ]
  },
  {
   "cell_type": "code",
   "execution_count": null,
   "metadata": {
    "scrolled": true
   },
   "outputs": [],
   "source": [
    "get_hours_histogram(files)"
   ]
  },
  {
   "cell_type": "markdown",
   "metadata": {},
   "source": [
    "# Full Year 2018"
   ]
  },
  {
   "cell_type": "code",
   "execution_count": null,
   "metadata": {},
   "outputs": [],
   "source": [
    "year_2018= ['DAM_Jan_2018.csv','DAM_Feb_2018.csv', 'DAM_March_2018.csv','DAM_April_2018.csv','DAM_May_2018.csv',\n",
    "            'DAM_June_2018.csv','DAM_July_2018.csv','DAM_Aug_2018.csv','DAM_Sept_2018.csv','DAM_Oct_2018.csv',\n",
    "            'DAM_Nov_2018.csv','DAM_Dec_2018.csv']\n",
    "get_hours_histogram(year_2018)"
   ]
  },
  {
   "cell_type": "code",
   "execution_count": null,
   "metadata": {},
   "outputs": [],
   "source": [
    "# Commentary\n",
    "For the full year 2018, we can see that with respect to the off peak hours starting at 9pm, "
   ]
  },
  {
   "cell_type": "code",
   "execution_count": null,
   "metadata": {},
   "outputs": [],
   "source": []
  },
  {
   "cell_type": "markdown",
   "metadata": {},
   "source": [
    "# H2 2018 Analysis"
   ]
  },
  {
   "cell_type": "code",
   "execution_count": null,
   "metadata": {},
   "outputs": [],
   "source": [
    "print(get_hours_histogram(files))"
   ]
  },
  {
   "cell_type": "code",
   "execution_count": null,
   "metadata": {},
   "outputs": [],
   "source": [
    "files= ['DAM_July_2018.csv','DAM_Aug_2018.csv','DAM_Sept_2018.csv','DAM_Oct_2018.csv','DAM_Nov_2018.csv',\n",
    "     'DAM_Dec_2018.csv']\n",
    "get_hours_histogram(files)"
   ]
  },
  {
   "cell_type": "code",
   "execution_count": null,
   "metadata": {},
   "outputs": [],
   "source": [
    "# plt.hist(get_hours_histogram(files), bins= np.arange(1,24,1) - 0.5,density= True)\n",
    "# the above returns lowest_hours, not hist: but data is for H2 ...so an improvement!!\n",
    "plt.hist(lowest_hours, bins= np.arange(1,24,1) - 0.5,density= True)\n",
    "plt.title('Histogram of the Hour with the Lowest CAISO Price for the Subject Period ' )\n",
    "plt.xlabel('Hour of the Day')\n",
    "plt.ylabel('Probability')\n",
    "plt.xticks= range(1,25)\n",
    "plt.show()\n",
    "# IMPROVE THIS W CALTECH CODE FOR EXACT SPECIFICATION OF BINS/bin edges (DWW TRY 17, SINCE NONE > 17)\n",
    "# ALSO PRINT THE COUNT FOR EACH HOUR!"
   ]
  },
  {
   "cell_type": "markdown",
   "metadata": {},
   "source": [
    "# 2. Comparison of DAM Prices at Hours 3 & 4 with PGE Off-Peak Onset"
   ]
  },
  {
   "cell_type": "code",
   "execution_count": null,
   "metadata": {},
   "outputs": [],
   "source": [
    "g= dfp.groupby(by= dfp['hour'])"
   ]
  },
  {
   "cell_type": "code",
   "execution_count": null,
   "metadata": {},
   "outputs": [],
   "source": [
    "dfh= g.price.mean()\n",
    "\n",
    "type(dfh) # pandas.core.series.Series\n",
    "print(dfh)\n",
    "print(dfh[3])\n",
    "discount= 100 * (1 - (dfh[3]+ dfh[4])/(dfh[22]+ dfh[23]))\n",
    "print('Average Percent Saving of Lowest-Price hours versus the onset of Off-Peak', round(discount,1), '%')"
   ]
  },
  {
   "cell_type": "markdown",
   "metadata": {},
   "source": [
    "# Commentary\n",
    "With the PG&E off-peak period starting at 9pm (which is \"Hour 22\"), the average price for two hours of charging is simply the average of the respective prices. This may be compared to the average prices for Hours 3 & 4.\n",
    "As calculated above, the Average Percent Saving of Lowest-Price hours versus the onset of Off-Peak is c.37%."
   ]
  },
  {
   "cell_type": "code",
   "execution_count": null,
   "metadata": {},
   "outputs": [],
   "source": []
  },
  {
   "cell_type": "markdown",
   "metadata": {},
   "source": [
    "# Scraping CAISO Daily Reports for Hourly Generation by Type"
   ]
  },
  {
   "cell_type": "code",
   "execution_count": null,
   "metadata": {},
   "outputs": [],
   "source": [
    "# scraping the CAISO daily reports for generation by type\n",
    "def read_one_day(date):\n",
    "    link = \"http://content.caiso.com/green/renewrpt/{}_DailyRenewablesWatch.txt\".format(date)\n",
    "    url = urllib.request.urlopen(link)\n",
    "    content = [str(word) for word in url.readlines()] # converting each word of each line to strings\n",
    "\n",
    "    # Note these are static, so may need to be adjusted.  Looks to be the same each day though.\n",
    "    # Could be possible to parse on the fly, but start simple for now\n",
    "    renewable_columns = ['hour', 'geo', 'biom', 'biog', 'shydro', 'wind', 'solarPV', 'sTH']\n",
    "    renewable_data = content[2:26]    \n",
    "    total_columns = ['hour', 'srnwbls','nucl', 'thermal', 'imports', 'lhydro']\n",
    "    total_data = content[30:]    \n",
    "    \n",
    "    parsed_renewable = [parse_array(row) for row in renewable_data] # calling function below w 3 Regular Expression calls\n",
    "    parsed_total = [parse_array(row) for row in total_data] # same\n",
    "    \n",
    "    renewable = pd.DataFrame(parsed_renewable, columns=renewable_columns)\n",
    "    total = pd.DataFrame(parsed_total, columns=total_columns)\n",
    "    \n",
    "    renewable['DATE'] = date\n",
    "    total['DATE'] = date\n",
    "    df= pd.merge(renewable,total,on= 'hour')  # s = pd.Series([\"a\", \"b\", \"c\", \"a\"], dtype=\"category\")//pd.series( ,dtype= 'category') rejected\n",
    "    df.hour= ['00','01','02','03','04','05','06','07','08','09','10','11','12','13','14','15','16','17','18','19','20','21','22','23']\n",
    "    df['DT'] = pd.to_datetime(df['DATE_y'] + ' ' + df['hour'] + ':00:00')\n",
    "    df.set_index(df['DT'], inplace= True)\n",
    "    df= df.drop(['DATE_x','DATE_y','DT'], axis=1)\n",
    "    # df['hour']= df['hour'].astype('category', ordered=True)# categories=[2, 1]\n",
    "    # FutureWarning: specifying 'categories' or 'ordered' in .astype() is deprecated; pass a CategoricalDtype instead\n",
    "    return df\n",
    "    \n",
    "def parse_array(one_row):\n",
    "    no_chars = re.sub(r\"[a-zA-Z']\", \"\", one_row) # were commas used to denote thousands (so needed to be removed)\n",
    "    no_slashes = re.sub(r\"\\\\+\", \",\", no_chars)\n",
    "    splitted_strings = no_slashes[1:-1].split(',')\n",
    "    return [int(elem) for elem in splitted_strings] # interesting syntax! return a List Comprehension!\n",
    "# after parsing numbers converted back to numeric for Pandas read"
   ]
  },
  {
   "cell_type": "code",
   "execution_count": null,
   "metadata": {},
   "outputs": [],
   "source": [
    "def read_one_month(year_month):  # see datetime lectures Chapter 4\n",
    "    if year_month[4:6] in ['04','06','09','11']:\n",
    "        d= 31\n",
    "    elif year_month[4:6] == '02':\n",
    "        d=29\n",
    "    else:\n",
    "        d=32\n",
    "    month_dates_A= [(year_month + '0' + str(i)) for i in list(range(1,10))]\n",
    "    month_dates_B= [(year_month + str(i)) for i in list(range(10,d))]\n",
    "    month_dates= month_dates_A + month_dates_B\n",
    "    dfs= [read_one_day(date) for date in month_dates] #dfs for dataframeS\n",
    "    dfc= pd.concat(dfs)   \n",
    "    return dfc"
   ]
  },
  {
   "cell_type": "code",
   "execution_count": null,
   "metadata": {},
   "outputs": [],
   "source": []
  },
  {
   "cell_type": "code",
   "execution_count": null,
   "metadata": {},
   "outputs": [],
   "source": [
    "dfc= read_one_month('201901')\n",
    "dfc.info() # 31 DAYS x 24 HOURS GIVES 744\n",
    "dfc.tail()"
   ]
  },
  {
   "cell_type": "code",
   "execution_count": null,
   "metadata": {},
   "outputs": [],
   "source": [
    "# THE ABOVE SEEMS TO WORK OK !!"
   ]
  },
  {
   "cell_type": "code",
   "execution_count": null,
   "metadata": {},
   "outputs": [],
   "source": [
    "dfc.wind.plot()\n",
    "dfc.lhydro.plot()\n",
    "plt.show()\n"
   ]
  },
  {
   "cell_type": "code",
   "execution_count": null,
   "metadata": {},
   "outputs": [],
   "source": []
  },
  {
   "cell_type": "code",
   "execution_count": null,
   "metadata": {},
   "outputs": [],
   "source": [
    "plt.scatter(dfc['wind'], dfc['lhydro'])\n",
    "plt.xlabel(\"Wind MWh\")\n",
    "plt.ylabel(\"Large Hydro (MWh)\")"
   ]
  },
  {
   "cell_type": "code",
   "execution_count": null,
   "metadata": {
    "scrolled": true
   },
   "outputs": [],
   "source": [
    "dfc['hour']= dfc['hour'].astype('int') # wanted to plot as an ordered categorical variable but thrown an error\n",
    "#plt.boxplot(dfc['lhydro'], dfc['hour'])\n",
    "import seaborn as sns\n",
    "sns.boxplot(x=\"hour\", y=\"lhydro\", data=dfc)\n",
    "# From this plot the noon levels are 3300 vs 2200 for 3am, so 50% higher: used to back-up solar due to clouds?\n",
    "# Why does it climb from hours 20 to 24, so 8pm to midnight!! Not Solar imports, as sun set earlier!!\n",
    "# Plot versus price volatility in terms of std? Used as back-up (low-carbon)\n",
    "# NB THIS ISJUST FOR JANUARY, REPEAT FOR 6 MONTHS !!"
   ]
  },
  {
   "cell_type": "code",
   "execution_count": null,
   "metadata": {},
   "outputs": [],
   "source": [
    "sns.boxplot(x= \"hour\", y= \"wind\", data= dfc)"
   ]
  },
  {
   "cell_type": "markdown",
   "metadata": {},
   "source": [
    "# Commentary\n",
    "The median wind output for thine one month of January is surprisingly steady throughout the hours, unlike MISO levels.\n",
    "However, the means may be more variable, being influenced by possible huge outliers."
   ]
  },
  {
   "cell_type": "code",
   "execution_count": null,
   "metadata": {},
   "outputs": [],
   "source": []
  },
  {
   "cell_type": "code",
   "execution_count": null,
   "metadata": {},
   "outputs": [],
   "source": []
  },
  {
   "cell_type": "code",
   "execution_count": null,
   "metadata": {},
   "outputs": [],
   "source": []
  },
  {
   "cell_type": "markdown",
   "metadata": {},
   "source": [
    "# December 2018"
   ]
  },
  {
   "cell_type": "code",
   "execution_count": null,
   "metadata": {},
   "outputs": [],
   "source": [
    "DEC= read_one_month('201812')"
   ]
  },
  {
   "cell_type": "code",
   "execution_count": null,
   "metadata": {},
   "outputs": [],
   "source": [
    "DEC.tail()"
   ]
  },
  {
   "cell_type": "code",
   "execution_count": null,
   "metadata": {},
   "outputs": [],
   "source": [
    "OCT= read_one_month('201810') # temp variable d is the number of days in the month, plus one.\n",
    "def read_one_month(year_month):\n",
    "    if year_month[4:6] in ['04','06','09','11']:\n",
    "        d= 31\n",
    "    elif year_month[4:6] == '02':\n",
    "        d=29\n",
    "    else:\n",
    "        d=32\n",
    "    month_dates_A= [(year_month + '0' + str(i)) for i in list(range(1,10))]\n",
    "    month_dates_B= [(year_month + str(i)) for i in list(range(10,d))]\n",
    "    month_dates= month_dates_A + month_dates_B\n",
    "    dfs= [read_one_day(date) for date in month_dates] #dfs for dataframeS\n",
    "    dfc= pd.concat(dfs)   \n",
    "    return dfc"
   ]
  },
  {
   "cell_type": "code",
   "execution_count": null,
   "metadata": {},
   "outputs": [],
   "source": [
    "twelve_months= [('2018'+ rest) for rest in ['01','02','03','04','05','06','07','08','09']] + \\\n",
    "['201810','201811','201812']\n",
    "twelve_months"
   ]
  },
  {
   "cell_type": "markdown",
   "metadata": {},
   "source": [
    "# This did run at 9am, before start of Caiso day?\n",
    "This did not run before, but no error message (possibly exceeded CAISO limit?)"
   ]
  },
  {
   "cell_type": "code",
   "execution_count": null,
   "metadata": {},
   "outputs": [],
   "source": [
    "one_year_data= [read_one_month(month) for month in twelve_months] \n",
    "# This did not run, but no error message (possibly exceeded CAISO limit?)"
   ]
  },
  {
   "cell_type": "code",
   "execution_count": null,
   "metadata": {},
   "outputs": [],
   "source": [
    "one_year_data[11] # one year data is a list of df's, that need to be concatenated"
   ]
  },
  {
   "cell_type": "code",
   "execution_count": null,
   "metadata": {},
   "outputs": [],
   "source": [
    "df2018= pd.concat(one_year_data)"
   ]
  },
  {
   "cell_type": "code",
   "execution_count": null,
   "metadata": {},
   "outputs": [],
   "source": [
    "df2018.info()"
   ]
  },
  {
   "cell_type": "code",
   "execution_count": null,
   "metadata": {},
   "outputs": [],
   "source": [
    "df2018.tail()"
   ]
  },
  {
   "cell_type": "markdown",
   "metadata": {},
   "source": [
    "# H2 2018  Are only Hours starting at 2am & 3am the lowest for this period also?\n",
    " Can also concatenate to make a full year and extend the regression analysis"
   ]
  },
  {
   "cell_type": "code",
   "execution_count": null,
   "metadata": {},
   "outputs": [],
   "source": [
    "H2_2018_months=  [('2018'+ rest) for rest in ['07','08','09']] + ['201810','201811','201812']\n",
    "H2_2018"
   ]
  },
  {
   "cell_type": "code",
   "execution_count": null,
   "metadata": {},
   "outputs": [],
   "source": [
    "H2_2018_data= [read_one_month(month) for month in H2_2018_months]     # response ONLY after two minutes?"
   ]
  },
  {
   "cell_type": "code",
   "execution_count": null,
   "metadata": {},
   "outputs": [],
   "source": [
    "df18H2 = pd.concat(H2_2018_data)\n",
    "df18H2.info()\n",
    "df18H2.tail()"
   ]
  },
  {
   "cell_type": "markdown",
   "metadata": {},
   "source": [
    "# Completed Work for the first six months of 2018 (H2 2018)"
   ]
  },
  {
   "cell_type": "code",
   "execution_count": null,
   "metadata": {},
   "outputs": [],
   "source": [
    "six_months= [('2018'+ rest) for rest in ['01','02','03','04','05','06']]\n",
    "six_months"
   ]
  },
  {
   "cell_type": "code",
   "execution_count": null,
   "metadata": {},
   "outputs": [],
   "source": [
    "half_year= [read_one_month(month) for month in six_months]     # response ONLY after two minutes!\n",
    "half_year[0] # half_year is a list of df's"
   ]
  },
  {
   "cell_type": "code",
   "execution_count": null,
   "metadata": {},
   "outputs": [],
   "source": [
    "six_months_data = pd.concat(half_year)\n",
    "six_months_data.head()\n",
    "six_months_data.info()\n",
    "six_months_data.tail()"
   ]
  },
  {
   "cell_type": "code",
   "execution_count": null,
   "metadata": {},
   "outputs": [],
   "source": [
    "# This version unnecesssary as the Code above does run, just with a delay of 2 minutes\n",
    "# half_year= [read_one_month(month) for month in [('2018'+ rest) for rest in ['01','02','03','04','05','06']]]"
   ]
  },
  {
   "cell_type": "code",
   "execution_count": null,
   "metadata": {},
   "outputs": [],
   "source": [
    "one_year_data= read_one_month(twelve_months[11])\n",
    "# OK for 0,1,2,3,4,5,6,7,8,9,10,11 : which comprises the whole year!\n",
    "#checked one month at a time!), as a precursor to the above"
   ]
  },
  {
   "cell_type": "markdown",
   "metadata": {},
   "source": [
    "# Graphing six_months_data"
   ]
  },
  {
   "cell_type": "code",
   "execution_count": null,
   "metadata": {},
   "outputs": [],
   "source": [
    "# six_months_data.info() # datetime index, hour as strings, rest are all type 'int'\n",
    "df= six_months_data.copy()\n",
    "x= range(1,4345) # number of hours\n",
    "y= [df.nucl, df.wind, df.solarPV, df.lhydro, df.thermal,df.imports]\n",
    "plt.stackplot(x,y,labels= ['nuclear', 'wind','solarPV','Lhydro','thermal','imports'])\n",
    "plt.xticks([720,1440,90,2160,2880,3600])  # these are in Hours, not days!\n",
    "plt.xlabel('Day')\n",
    "plt.ylabel('Power Generation (GWh)')\n",
    "plt.title('Daily Power Generation')\n",
    "plt.legend(loc= 'upper left')\n",
    "plt.show()                      # Completely overcrowded, so plot monthly in a pane of six months"
   ]
  },
  {
   "cell_type": "markdown",
   "metadata": {},
   "source": [
    "# Import CAISO Hourly DAM Prices: Completed Six Months Analysis"
   ]
  },
  {
   "cell_type": "code",
   "execution_count": null,
   "metadata": {},
   "outputs": [],
   "source": [
    "# "
   ]
  },
  {
   "cell_type": "code",
   "execution_count": null,
   "metadata": {},
   "outputs": [],
   "source": []
  },
  {
   "cell_type": "code",
   "execution_count": null,
   "metadata": {},
   "outputs": [],
   "source": []
  },
  {
   "cell_type": "code",
   "execution_count": null,
   "metadata": {},
   "outputs": [],
   "source": []
  },
  {
   "cell_type": "code",
   "execution_count": null,
   "metadata": {},
   "outputs": [],
   "source": []
  },
  {
   "cell_type": "code",
   "execution_count": null,
   "metadata": {},
   "outputs": [],
   "source": [
    "# one way to make the hours line up should be to merge the two df's (df & dfp) on the datetime index"
   ]
  },
  {
   "cell_type": "code",
   "execution_count": null,
   "metadata": {},
   "outputs": [],
   "source": [
    "# dfc= pd.merge(df,dfp, how= 'inner', left_on= df.index, right_on= dfp.index)\n",
    "dfc= pd.merge(df,dfp, how= 'inner', left_on= df.index, right_on= dfp.index)"
   ]
  },
  {
   "cell_type": "code",
   "execution_count": null,
   "metadata": {},
   "outputs": [],
   "source": [
    "dfc.head() \n",
    "# note that for CAISO prices, the datetime is UK time, but for the scraped data the hour was imputed (so 7 hour delta)"
   ]
  },
  {
   "cell_type": "code",
   "execution_count": null,
   "metadata": {},
   "outputs": [],
   "source": []
  },
  {
   "cell_type": "code",
   "execution_count": null,
   "metadata": {},
   "outputs": [],
   "source": []
  },
  {
   "cell_type": "code",
   "execution_count": null,
   "metadata": {},
   "outputs": [],
   "source": [
    "df_pvt.head(3)"
   ]
  },
  {
   "cell_type": "code",
   "execution_count": null,
   "metadata": {},
   "outputs": [],
   "source": [
    "\n",
    "\n"
   ]
  },
  {
   "cell_type": "code",
   "execution_count": null,
   "metadata": {},
   "outputs": [],
   "source": []
  },
  {
   "cell_type": "code",
   "execution_count": null,
   "metadata": {},
   "outputs": [],
   "source": []
  },
  {
   "cell_type": "code",
   "execution_count": null,
   "metadata": {},
   "outputs": [],
   "source": [
    "\n"
   ]
  },
  {
   "cell_type": "code",
   "execution_count": null,
   "metadata": {},
   "outputs": [],
   "source": []
  },
  {
   "cell_type": "code",
   "execution_count": null,
   "metadata": {},
   "outputs": [],
   "source": []
  },
  {
   "cell_type": "code",
   "execution_count": null,
   "metadata": {},
   "outputs": [],
   "source": [
    "import numpy as np    \n",
    "hist, bin_edges = np.histogram([1, 1, 2, 2, 2, 2, 3], bins = range(5))\n",
    "Below, hist indicates that there are 0 items in bin #0, 2 in bin #1, 4 in bin #3, 1 in bin #4.\n",
    "\n",
    "print(hist)\n",
    "# array([0, 2, 4, 1])   \n",
    "bin_edges indicates that bin #0 is the interval [0,1), bin #1 is [1,2), ..., bin #3 is [3,4).\n",
    "\n",
    "print (bin_edges)\n",
    "# array([0, 1, 2, 3, 4]))  "
   ]
  },
  {
   "cell_type": "code",
   "execution_count": null,
   "metadata": {},
   "outputs": [],
   "source": [
    "hist = np.histogram(lowest_hours, bins = range(1,24))\n",
    "\n",
    "print(hist)\n",
    "\n",
    "# bin_edges indicates that bin #0 is the interval [0,1), bin #1 is [1,2), ..., bin #3 is [3,4).\n",
    "\n",
    "# print (bin_edges)\n",
    " "
   ]
  },
  {
   "cell_type": "markdown",
   "metadata": {},
   "source": [
    "# FAILED GROUPBY( )  EFFORT BELOW TO EXTRACT THE HOURS WITH THE LOWEST PRICES"
   ]
  },
  {
   "cell_type": "code",
   "execution_count": null,
   "metadata": {},
   "outputs": [],
   "source": [
    "g= dfc.groupby('day')    # ,g['price'].min()\n",
    "argmin()"
   ]
  },
  {
   "cell_type": "code",
   "execution_count": null,
   "metadata": {},
   "outputs": [],
   "source": [
    "g['price'].min() #now we have a llist \n",
    "# create a dictionary for each day, with hours and prices??\n",
    "# TypeError: f() takes 1 positional argument but 2 were given"
   ]
  },
  {
   "cell_type": "code",
   "execution_count": null,
   "metadata": {},
   "outputs": [],
   "source": []
  },
  {
   "cell_type": "code",
   "execution_count": null,
   "metadata": {},
   "outputs": [],
   "source": [
    "dfc['load']= dfc['srnwbls'] + dfc['nucl'] + dfc['thermal'] + dfc['imports'] + dfc['lhydro']\n",
    "# WE DROP 'DAY' HERE BUT MIGHT RETAIN FOR GROUPBY??\n",
    "dfc.index.names= ['date']\n",
    "dfc= dfc.rename(columns= {'hour_y': 'hour'})\n",
    "dfc['hour']= dfc['hour'].astype('category')\n",
    "dfc['weekday']= dfc['weekday'].astype('category')\n",
    "dfc['month']= dfc['month'].astype('category')\n",
    "dfc['hour']= dfc['hour'].astype('str')\n",
    "dfc.info()\n"
   ]
  },
  {
   "cell_type": "code",
   "execution_count": null,
   "metadata": {},
   "outputs": [],
   "source": [
    "# need to add dummies and carve out the night hours\n",
    "dfc.head()\n",
    "dfc.tail(10)\n",
    "dfc.hour[0:30] # Hmm all 24 hours do appear and in order\n",
    "dfc.hour[240:270] # also OK here"
   ]
  },
  {
   "cell_type": "code",
   "execution_count": null,
   "metadata": {},
   "outputs": [],
   "source": []
  },
  {
   "cell_type": "code",
   "execution_count": null,
   "metadata": {},
   "outputs": [],
   "source": [
    "df_wD= pd.get_dummies(dfc, drop_first= True)  # columns= [dfc.hour, dfc.weekday, dfc.month]"
   ]
  },
  {
   "cell_type": "code",
   "execution_count": null,
   "metadata": {},
   "outputs": [],
   "source": [
    "import statsmodels.api as sm\n",
    "from statsmodels.formula.api import ols\n",
    "# import statsmodels.formula.api as smf\n",
    "m= ols(formula= 'price ~ load + wind + solarPV + nucl + thermal + imports + lhydro + hour + weekday + month',\n",
    "       data= dfc).fit()"
   ]
  },
  {
   "cell_type": "code",
   "execution_count": null,
   "metadata": {},
   "outputs": [],
   "source": [
    "# .fit() already above"
   ]
  },
  {
   "cell_type": "code",
   "execution_count": null,
   "metadata": {},
   "outputs": [],
   "source": [
    "print(m.summary())"
   ]
  },
  {
   "cell_type": "markdown",
   "metadata": {},
   "source": [
    "# Commentary\n",
    "Allvariables except nuclear have statistically significant t-values.\n",
    "However, some have a positive effect on prices rather than a negative one (such as wind and solarPV).\n",
    "These surprises may be due to multicollinearity\n",
    "For example, load has a negative coefficient although common sense would suggest the opposite."
   ]
  },
  {
   "cell_type": "code",
   "execution_count": null,
   "metadata": {},
   "outputs": [],
   "source": [
    "# So we drop nuclear, and also 'load' to hopefully reduce multicollinearity\n",
    "# We see that the signs of the 'wind' & 'solarPV' variables have now switched, and make sense\n",
    "# With an adjusted R-squared of 71%, this is a credible starting point for predicting all 24 hours of the day\n",
    "m2= ols(formula= 'price ~ wind + solarPV +  thermal + imports + lhydro + hour + weekday + month', data= dfc).fit()"
   ]
  },
  {
   "cell_type": "code",
   "execution_count": null,
   "metadata": {},
   "outputs": [],
   "source": [
    "print(m2.summary())"
   ]
  },
  {
   "cell_type": "code",
   "execution_count": null,
   "metadata": {},
   "outputs": [],
   "source": [
    "dfc['hour'].isin(['1','2','3','4','5','6','23','24'])[0:30] # OK\n",
    "sum(dfc['hour'].isin(['1','2','3','4','5','6','23','24'])[0:24]) # also OK"
   ]
  },
  {
   "cell_type": "code",
   "execution_count": null,
   "metadata": {},
   "outputs": [],
   "source": [
    "# Now we focus the model exclusively on the off-peak hours of interest\n",
    "dfw= dfc[dfc['hour'].isin(['1','2','3','4','5','6','23','24'])]"
   ]
  },
  {
   "cell_type": "code",
   "execution_count": null,
   "metadata": {},
   "outputs": [],
   "source": [
    "dfw.head(10) # now OK "
   ]
  },
  {
   "cell_type": "code",
   "execution_count": null,
   "metadata": {},
   "outputs": [],
   "source": [
    "# recreate dummies for dfw ('wee hours')\n",
    "dfw_wD= pd.get_dummies(dfw, drop_first= True)  # columns= [dfw.hour, dfw.weekday, dfw.month]\n",
    "dfw_wD.head()\n",
    "dfw_wD.columns"
   ]
  },
  {
   "cell_type": "code",
   "execution_count": null,
   "metadata": {},
   "outputs": [],
   "source": [
    "# correct data specified? Two lines of code\n",
    "mw1= ols(formula= 'price ~ load + wind + solarPV + nucl + thermal + imports + lhydro + hour + weekday + month ', data= dfw).fit()"
   ]
  },
  {
   "cell_type": "code",
   "execution_count": null,
   "metadata": {},
   "outputs": [],
   "source": [
    "# OLD OUTPUT\n",
    "print(mw1.summary()) # Hmm very strange: we have MORE THAN 24 HOURS WHEN WE SHOULD HAVE JUST seven!!!\n",
    "# THIS ERROR AROSE AS 'data' had not been updated to dfw_wD"
   ]
  },
  {
   "cell_type": "markdown",
   "metadata": {},
   "source": [
    "# Argmax\n",
    "import numpy as np    \n",
    "A = np.matrix([[1,2,3,33],[4,5,6,66],[7,8,9,99]])\n",
    "\n",
    "np.argmax(A)  # 11, which is the position of 99\n",
    "\n",
    "np.argmax(A[:,:])  # 11, which is the position of 99\n",
    "\n",
    "np.argmax(A[:1])  # 3, which is the position of 33\n",
    "\n",
    "np.argmax(A[:,2])  # 2, which is the position of 9\n",
    "\n",
    "np.argmax(A[1:,2])  # 1, which is the position of 9"
   ]
  },
  {
   "cell_type": "code",
   "execution_count": null,
   "metadata": {},
   "outputs": [],
   "source": [
    "import numpy as np    \n",
    "A = np.matrix([[1,2,3,33],[4,5,6,66],[7,8,9,99]])\n",
    "A"
   ]
  },
  {
   "cell_type": "code",
   "execution_count": null,
   "metadata": {},
   "outputs": [],
   "source": [
    "np.argmax(A[:1])  # 3, which is the position of 33\n",
    "\n"
   ]
  },
  {
   "cell_type": "code",
   "execution_count": null,
   "metadata": {},
   "outputs": [],
   "source": [
    "np.argmax(A[:,2])  # 2, which is the position of 9\n",
    "\n"
   ]
  },
  {
   "cell_type": "code",
   "execution_count": null,
   "metadata": {},
   "outputs": [],
   "source": [
    "np.argmax(A[1:,2])  # 1, which is the position of 9"
   ]
  },
  {
   "cell_type": "code",
   "execution_count": null,
   "metadata": {},
   "outputs": [],
   "source": [
    "import numpy as np    \n",
    "A = np.matrix([[1,2,3,33],[4,5,6,66],[7,8,9,99]])\n",
    "A\n",
    "np.argmax(A[:0],axis=0) # when i=0, should be the first row"
   ]
  },
  {
   "cell_type": "code",
   "execution_count": null,
   "metadata": {},
   "outputs": [],
   "source": [
    "A.argmax(1)  # this is NOT numpy, but regular python. "
   ]
  },
  {
   "cell_type": "code",
   "execution_count": null,
   "metadata": {},
   "outputs": [],
   "source": [
    "# numpy.matrix.argmax\n",
    "\n",
    "matrix.argmax(axis=None, out=None)[source]\n",
    "Indexes of the maximum values along an axis.\n",
    "\n",
    "Return the indexes of the first occurrences of the maximum values along the specified axis. If axis is None, the index is for the flattened matrix.\n",
    "\n",
    "Parameters:\t\n",
    "See `numpy.argmax` for complete descriptions\n",
    "See also\n",
    "numpy.argmax\n",
    "\n",
    "Notes\n",
    "\n",
    "This is the same as ndarray.argmax, but returns a matrix object where ndarray.argmax would return an ndarray.\n",
    "\n",
    "Examples\n",
    "\n",
    ">>>\n",
    ">>> x = np.matrix(np.arange(12).reshape((3,4))); x\n",
    "matrix([[ 0,  1,  2,  3],\n",
    "        [ 4,  5,  6,  7],\n",
    "        [ 8,  9, 10, 11]])\n",
    ">>> x.argmax()            # for the flattened array\n",
    "11\n",
    ">>> x.argmax(0)           # axis = 0, the maximum for the column occurs in the 3rd row\n",
    "matrix([[2, 2, 2, 2]])\n",
    "\n",
    ">>> x.argmax(1)           # axis= 1 ; in each case the maximum for the ROW occurs in the third column!!\n",
    "matrix([[3],               # we want to know which column, so M.argmax(1)\n",
    "        [3],\n",
    "        [3]])"
   ]
  },
  {
   "cell_type": "code",
   "execution_count": null,
   "metadata": {},
   "outputs": [],
   "source": []
  },
  {
   "cell_type": "code",
   "execution_count": null,
   "metadata": {},
   "outputs": [],
   "source": []
  },
  {
   "cell_type": "code",
   "execution_count": null,
   "metadata": {},
   "outputs": [],
   "source": []
  },
  {
   "cell_type": "code",
   "execution_count": null,
   "metadata": {},
   "outputs": [],
   "source": []
  },
  {
   "cell_type": "code",
   "execution_count": null,
   "metadata": {},
   "outputs": [],
   "source": [
    "list(range(3))"
   ]
  },
  {
   "cell_type": "code",
   "execution_count": null,
   "metadata": {},
   "outputs": [],
   "source": [
    "[np.argmax(A[:i],axis=0) for i in list(range(3))]"
   ]
  },
  {
   "cell_type": "code",
   "execution_count": null,
   "metadata": {},
   "outputs": [],
   "source": []
  },
  {
   "cell_type": "markdown",
   "metadata": {},
   "source": [
    "# Various tests below on scraping different months and combinations of months."
   ]
  },
  {
   "cell_type": "code",
   "execution_count": null,
   "metadata": {},
   "outputs": [],
   "source": [
    "one_year[0].head()# OK"
   ]
  },
  {
   "cell_type": "code",
   "execution_count": null,
   "metadata": {},
   "outputs": [],
   "source": [
    "OCT.head()"
   ]
  },
  {
   "cell_type": "code",
   "execution_count": null,
   "metadata": {},
   "outputs": [],
   "source": [
    "NOV= read_one_month('201811')"
   ]
  },
  {
   "cell_type": "code",
   "execution_count": null,
   "metadata": {},
   "outputs": [],
   "source": [
    "NOV.tail()"
   ]
  },
  {
   "cell_type": "code",
   "execution_count": null,
   "metadata": {},
   "outputs": [],
   "source": [
    "JAN= read_one_month('201901')\n",
    "JAN.head()"
   ]
  },
  {
   "cell_type": "code",
   "execution_count": null,
   "metadata": {},
   "outputs": [],
   "source": [
    "type(JAN)"
   ]
  },
  {
   "cell_type": "code",
   "execution_count": null,
   "metadata": {},
   "outputs": [],
   "source": [
    "four_months= pd.concat(OCT, NOV, DEC, JAN) \n",
    "#TypeError: first argument must be an iterable of pandas objects, you passed an object of type \"DataFrame\"\n",
    "four_months.shape"
   ]
  },
  {
   "cell_type": "code",
   "execution_count": null,
   "metadata": {},
   "outputs": [],
   "source": []
  },
  {
   "cell_type": "code",
   "execution_count": null,
   "metadata": {},
   "outputs": [],
   "source": [
    "dfc= pd.concat(dfs)        # dfc for dataframes concatenated\n",
    "dfc.shape # 744 hours, 13"
   ]
  },
  {
   "cell_type": "code",
   "execution_count": null,
   "metadata": {},
   "outputs": [],
   "source": [
    "dfc.tail()"
   ]
  },
  {
   "cell_type": "code",
   "execution_count": null,
   "metadata": {},
   "outputs": [],
   "source": [
    "df.info()\n",
    "df.head(3)"
   ]
  },
  {
   "cell_type": "code",
   "execution_count": null,
   "metadata": {},
   "outputs": [],
   "source": []
  },
  {
   "cell_type": "code",
   "execution_count": null,
   "metadata": {},
   "outputs": [],
   "source": [
    "df.DD= pd.to_datetime()"
   ]
  },
  {
   "cell_type": "code",
   "execution_count": null,
   "metadata": {},
   "outputs": [],
   "source": []
  },
  {
   "cell_type": "code",
   "execution_count": null,
   "metadata": {},
   "outputs": [],
   "source": [
    "import pandas as pd  #Hmm, NOT tab-separated as blank columns inserted to accommodate long names!!\n",
    "\n",
    "def text_to_df(file):\n",
    "\n",
    "    df1= pd.read_csv(file, sep= '\\s+',skiprows = 2, header= None, nrows= 24)\n",
    "    df1.columns= ['hour','geo','biom','biog','shydro','wind','solar','solth']\n",
    "    df2= pd.read_csv(file,sep= '\\s+',skiprows = 30, header= None, nrows= 24)\n",
    "    df2.columns= ['hour','SRnwbls','nucl','thermal','imports','lhydro']\n",
    "    df2['load']= df2.hour + df2.SRnwbls + df2.nucl + df2.thermal + df2.imports + df2.lhydro\n",
    "    df2['netload'] = df2.load - df2.SRnwbls\n",
    "    df= pd.merge(df1,df2,on= 'hour')\n",
    "    return df\n"
   ]
  },
  {
   "cell_type": "code",
   "execution_count": null,
   "metadata": {},
   "outputs": [],
   "source": [
    "df= text_to_df('20190114_DailyRenewablesWatch.txt')\n",
    "print(df.head(2))\n"
   ]
  },
  {
   "cell_type": "code",
   "execution_count": null,
   "metadata": {},
   "outputs": [],
   "source": [
    "# THE requests package is much better than antiquated urllib (from DS)\n",
    "# better to use that!\n",
    "import requests\n",
    "url= 'http://content.caiso.com/green/renewrpt/20190114_DailyRenewablesWatch.txt'\n",
    "r= requests.get(url)# where r is the \"Response\"\n",
    "jan14= r.text # is this necessary as we already have a .txt file (not HTML)\n",
    "#save file w \n",
    "\n",
    "jan14file= open('jan14.txt', 'wb') # where wb is write binary: this saves the file (?) "
   ]
  },
  {
   "cell_type": "code",
   "execution_count": null,
   "metadata": {},
   "outputs": [],
   "source": [
    "# So the code runs on the downloaded file, but NOT on the API call using the requests.get() approach"
   ]
  },
  {
   "cell_type": "code",
   "execution_count": null,
   "metadata": {},
   "outputs": [],
   "source": [
    "df_caiso_jan14= text_to_df(jan14)#does not exist!!\n",
    "# df_caiso_jan14= text_to_df(jan14file) # UnsupportedOperation: read\n",
    "df_caiso_jan14= text_to_df(r) # Error: Invalid file path or buffer object type: <class 'requests.models.Response'>\n",
    "# DWW TRY STACK OVERFLOW FOR REFERENCES: ALSO LENOVO"
   ]
  },
  {
   "cell_type": "code",
   "execution_count": null,
   "metadata": {},
   "outputs": [],
   "source": []
  },
  {
   "cell_type": "code",
   "execution_count": null,
   "metadata": {},
   "outputs": [],
   "source": [
    "# we can just keep repeating with multiple df's to see them all on the same plot\n",
    "import matplotlib.pyplot as plt\n",
    "plt.xlabel('Hour of the Day')\n",
    "plt.ylabel('Net Load (in GW)')\n",
    "plt.title('The Characteristic California Solar-Driven Duck Curve: Hourly Net Load')\n",
    "\n",
    "plt.plot(df['hour'], df['netload'])# need to convert to Numpy array first?, eg via npm= df.values: apparently NOT\n",
    "plt.show()\n"
   ]
  },
  {
   "cell_type": "code",
   "execution_count": null,
   "metadata": {},
   "outputs": [],
   "source": []
  },
  {
   "cell_type": "code",
   "execution_count": null,
   "metadata": {},
   "outputs": [],
   "source": [
    "# Do we have the urllib library in the Anaconda distribution? It seems so, as no error thrown\n",
    "from urllib.request import urlretrieve\n",
    "url= 'http://www.caiso.com/market/Pages/ReportsBulletins/RenewablesReporting.aspx/20190114_DailyRenewablesWatch.txt'\n",
    "#NB the other daily file with all the charts is not a txt file, so will not be found!!\n",
    "urlretrieve( url, 'report20190114.txt')\n"
   ]
  },
  {
   "cell_type": "code",
   "execution_count": null,
   "metadata": {},
   "outputs": [],
   "source": [
    "file= 'report20190114.txt'"
   ]
  },
  {
   "cell_type": "code",
   "execution_count": null,
   "metadata": {},
   "outputs": [],
   "source": [
    "print(file)#Hmmm: check Hugo tutorial and printing the file, so we can understand how to read it!!!"
   ]
  },
  {
   "cell_type": "code",
   "execution_count": null,
   "metadata": {},
   "outputs": [],
   "source": [
    "text_to_df('report20190114.txt') # Error tokenizing data. C error: Expected 5 fields in line 6, saw 28\n",
    "# Hmm: confusing. why line 6? 28 columns seems too large vs. the 8 columns in df1 !?"
   ]
  },
  {
   "cell_type": "code",
   "execution_count": null,
   "metadata": {},
   "outputs": [],
   "source": [
    "# Now try it for january 12th, with automatic download from the CAISO website (RE-TYPE inverted commas if pasted!!)\n",
    "url2='http://www.caiso.com/market/Pages/ReportsBulletins/RenewablesReporting.aspx/20190112_DailyRenewablesWatch.txt'"
   ]
  },
  {
   "cell_type": "code",
   "execution_count": null,
   "metadata": {},
   "outputs": [],
   "source": [
    "# paste from above then modify\n",
    "url2= 'http://www.caiso.com/market/Pages/ReportsBulletins/RenewablesReporting.aspx/20190112_DailyRenewablesWatch.txt'"
   ]
  },
  {
   "cell_type": "code",
   "execution_count": null,
   "metadata": {},
   "outputs": [],
   "source": [
    "urlretrieve( url2, 'report20190112.txt') # naming the locally downloaded file for the January 12th text file\n",
    "# error message went away after retyping the pasted commas!!"
   ]
  },
  {
   "cell_type": "code",
   "execution_count": null,
   "metadata": {},
   "outputs": [],
   "source": [
    "text_to_df('report20190112.txt') # running the function on the January 12th file\n",
    "# Error tokenizing data. C error: Expected 5 fields in line 6, saw 28"
   ]
  },
  {
   "cell_type": "code",
   "execution_count": null,
   "metadata": {},
   "outputs": [],
   "source": [
    "#Whoops: first we must correctly name the long file to download from CAISO\n",
    "caisonames= [’http://www.caiso.com/market/Pages/ReportsBulletins/RenewablesReporting.aspx/'+ date + \n",
    "              /'_DailyRenewablesWatch.txt’ for date in dates] "
   ]
  },
  {
   "cell_type": "code",
   "execution_count": null,
   "metadata": {},
   "outputs": [],
   "source": [
    "dates= [d.strftime('%Y%m%d') for d in pd.date_range('20181201','20181231')] #try this for month of December to start\n",
    "dates[0:2]"
   ]
  },
  {
   "cell_type": "code",
   "execution_count": null,
   "metadata": {},
   "outputs": [],
   "source": [
    "filenames= []\n",
    "for date in dates:\n",
    "    filenames.append('report'+ date + '.text')\n",
    "filenames[0:2]"
   ]
  },
  {
   "cell_type": "code",
   "execution_count": null,
   "metadata": {},
   "outputs": [],
   "source": [
    "reportnames= ['report'+ date + '.text' for date in dates] # more succinctly using a list comprehension\n",
    "reportnames[0:3]"
   ]
  },
  {
   "cell_type": "code",
   "execution_count": null,
   "metadata": {},
   "outputs": [],
   "source": [
    "dfs= []\n",
    "for report in reportnames:\n",
    "    frames.append(text_to_df(report))\n",
    "combined= pd.concat(dfs)\n",
    "combined.shape\n",
    "combined.head()\n",
    "    "
   ]
  },
  {
   "cell_type": "code",
   "execution_count": null,
   "metadata": {},
   "outputs": [],
   "source": [
    "combined.tail()"
   ]
  },
  {
   "cell_type": "code",
   "execution_count": null,
   "metadata": {},
   "outputs": [],
   "source": []
  },
  {
   "cell_type": "code",
   "execution_count": null,
   "metadata": {},
   "outputs": [],
   "source": []
  },
  {
   "cell_type": "code",
   "execution_count": null,
   "metadata": {},
   "outputs": [],
   "source": []
  },
  {
   "cell_type": "markdown",
   "metadata": {},
   "source": [
    "# OLD CODE LISTED BELOW FOR POSSIBLE RECYCLING: IGNORE!"
   ]
  },
  {
   "cell_type": "code",
   "execution_count": null,
   "metadata": {},
   "outputs": [],
   "source": [
    "df_Mar= pd.read_csv('March_2018.csv', header= 0, usecols= [0,2,3,8,9,13,14],parse_dates= True, index_col= 'INTERVALSTARTTIME_GMT')"
   ]
  },
  {
   "cell_type": "code",
   "execution_count": null,
   "metadata": {},
   "outputs": [],
   "source": [
    "df_Apr= pd.read_csv('April_2018.csv', header= 0, usecols= [0,2,3,8,9,13,14],parse_dates= True, index_col= 'INTERVALSTARTTIME_GMT')"
   ]
  },
  {
   "cell_type": "code",
   "execution_count": null,
   "metadata": {},
   "outputs": [],
   "source": [
    "df_May= pd.read_csv('May_2018.csv', header= 0, usecols= [0,2,3,8,9,13,14],parse_dates= True, index_col= 'INTERVALSTARTTIME_GMT')"
   ]
  },
  {
   "cell_type": "code",
   "execution_count": null,
   "metadata": {},
   "outputs": [],
   "source": [
    "df_Jun= pd.read_csv('June_2018.csv', header= 0, usecols= [0,2,3,8,9,13,14],parse_dates= True, index_col= 'INTERVALSTARTTIME_GMT')"
   ]
  },
  {
   "cell_type": "code",
   "execution_count": null,
   "metadata": {},
   "outputs": [],
   "source": [
    "df_Jul= pd.read_csv('July_2018.csv', header= 0, usecols= [0,2,3,8,9,13,14],parse_dates= True, index_col= 'INTERVALSTARTTIME_GMT')\n"
   ]
  },
  {
   "cell_type": "code",
   "execution_count": null,
   "metadata": {},
   "outputs": [],
   "source": [
    "df_Aug= pd.read_csv('August_2018.csv', header= 0, usecols= [0,2,3,8,9,13,14],parse_dates= True, index_col= 'INTERVALSTARTTIME_GMT')\n"
   ]
  },
  {
   "cell_type": "code",
   "execution_count": null,
   "metadata": {},
   "outputs": [],
   "source": [
    "df_Sep= pd.read_csv('September_2018.csv', header= 0, usecols= [0,2,3,8,9,13,14],parse_dates= True, index_col= 'INTERVALSTARTTIME_GMT')"
   ]
  },
  {
   "cell_type": "code",
   "execution_count": null,
   "metadata": {},
   "outputs": [],
   "source": [
    "df_Oct= pd.read_csv('October_2018.csv', header= 0, usecols= [0,2,3,8,9,13,14],parse_dates= True, index_col= 'INTERVALSTARTTIME_GMT')\n"
   ]
  },
  {
   "cell_type": "code",
   "execution_count": null,
   "metadata": {},
   "outputs": [],
   "source": [
    "df_Nov= pd.read_csv('November_2018.csv', header= 0, usecols= [0,2,3,8,9,13,14],parse_dates= True, index_col= 'INTERVALSTARTTIME_GMT')"
   ]
  },
  {
   "cell_type": "code",
   "execution_count": null,
   "metadata": {},
   "outputs": [],
   "source": [
    "frames= [df_Jan,df_Feb,df_Mar, df_Apr, df_May, df_Jun, df_Jul,df_Aug, df_Sep, df_Oct, df_Nov]\n",
    "df1= pd.concat(frames)"
   ]
  },
  {
   "cell_type": "code",
   "execution_count": null,
   "metadata": {},
   "outputs": [],
   "source": [
    "dfp= df1[df1['LMP_TYPE'] == 'LMP'] # drops the other four price components and reduces data rows by 80%"
   ]
  },
  {
   "cell_type": "code",
   "execution_count": null,
   "metadata": {},
   "outputs": [],
   "source": [
    "dfp['date']= pd.to_datetime(dfp['OPR_DT']) #needed for plotting after the groupby"
   ]
  },
  {
   "cell_type": "code",
   "execution_count": null,
   "metadata": {},
   "outputs": [],
   "source": [
    "dfp.info() # as desired, the date is now the DateTime object (perfect for time series plotting)"
   ]
  },
  {
   "cell_type": "code",
   "execution_count": null,
   "metadata": {},
   "outputs": [],
   "source": [
    "dfp= dfp.drop(['OPR_DT','LMP_TYPE','XML_DATA_ITEM'],axis=1)\n",
    "dfp.columns= ['hour','price','interval','day']\n",
    "dfp['weekday']= dfp.day.dt.weekday_name\n",
    "dfp.index.names= ['date']\n",
    "\n",
    "dfp.head() # "
   ]
  },
  {
   "cell_type": "code",
   "execution_count": null,
   "metadata": {},
   "outputs": [],
   "source": [
    "dfp.info()"
   ]
  },
  {
   "cell_type": "code",
   "execution_count": null,
   "metadata": {},
   "outputs": [],
   "source": [
    "# import matplotlib.pyplot as plt # shocking grid instability due to price peaks \n",
    "dfp['price'].plot()\n",
    "# plt.show()"
   ]
  },
  {
   "cell_type": "code",
   "execution_count": null,
   "metadata": {},
   "outputs": [],
   "source": [
    "Feb= dfp.loc['2018-02-01':'2018-02-28'] # if a peak of $1000/MWh occurs only 1%, it still adds $10/MWh to the mean!!!*****\n",
    "Feb['price'].plot()\n",
    "# So what is causing the spikes!! $10/MWh versus average of 25:mostly only for 3 months Feb, March, April (but 1% is for the YEAR)\n",
    "# Easy to quantify frequency by month (could it be unexpected drops in Wind not reflected in Day-Ahead-Market ??)\n",
    "# while the negative prices are more frequent at 3%, the value is maybe $20/MWh so contribution to the mean is only \n",
    "# Review \"State of the Market\" report by Potomac (ask them this!!)"
   ]
  },
  {
   "cell_type": "code",
   "execution_count": null,
   "metadata": {},
   "outputs": [],
   "source": [
    "Mar= dfp.loc['2018-03-01':'2018-03-31'] # so a peak of $140/MWh is 14 cents\n",
    "Feb['price'].plot()\n",
    "        "
   ]
  },
  {
   "cell_type": "code",
   "execution_count": null,
   "metadata": {},
   "outputs": [],
   "source": [
    "April= dfp.loc['2018-04-01':'2018-04-30'] # so a peak of $140/MWh is 14 cents\n",
    "Feb['price'].plot()"
   ]
  },
  {
   "cell_type": "code",
   "execution_count": null,
   "metadata": {},
   "outputs": [],
   "source": [
    "May= dfp.loc['2018-05-01':'2018-05-31'] # so a peak of $140/MWh is 14 cents\n",
    "May['price'].plot()"
   ]
  },
  {
   "cell_type": "code",
   "execution_count": null,
   "metadata": {},
   "outputs": [],
   "source": [
    "June= dfp.loc['2018-06-01':'2018-06-30'] # so a peak of $140/MWh is 14 cents\n",
    "June['price'].plot()"
   ]
  },
  {
   "cell_type": "code",
   "execution_count": null,
   "metadata": {},
   "outputs": [],
   "source": []
  },
  {
   "cell_type": "code",
   "execution_count": null,
   "metadata": {},
   "outputs": [],
   "source": [
    "dfp.price.plot(kind='hist', bins=20) # the outliers at 1000 (50x the normal price) spoil the display\n"
   ]
  },
  {
   "cell_type": "code",
   "execution_count": null,
   "metadata": {},
   "outputs": [],
   "source": [
    "dfp.boxplot(column= 'price', by= 'hour')\n"
   ]
  },
  {
   "cell_type": "code",
   "execution_count": null,
   "metadata": {},
   "outputs": [],
   "source": [
    "dfp.columns\n",
    "dfp.shape"
   ]
  },
  {
   "cell_type": "code",
   "execution_count": null,
   "metadata": {},
   "outputs": [],
   "source": [
    "spikep= dfp[dfp.price > 100]  # so we have 1.2% frequency of spike prices, although optically they dominate the plots!\n",
    "spikep.shape"
   ]
  },
  {
   "cell_type": "code",
   "execution_count": null,
   "metadata": {},
   "outputs": [],
   "source": [
    "normalp= dfp[(dfp.price < 100) & (dfp.price > 0)] # \n",
    "normalp.shape"
   ]
  },
  {
   "cell_type": "code",
   "execution_count": null,
   "metadata": {},
   "outputs": [],
   "source": [
    "negativep= dfp[(dfp.price < 0) & (dfp.price > -30)] # so almost 3% of the time we have a negative price or zero\n",
    "negativep.shape   # and just four times we have prices more negative than 50"
   ]
  },
  {
   "cell_type": "code",
   "execution_count": null,
   "metadata": {},
   "outputs": [],
   "source": [
    "normalp.boxplot(column= 'price', by= 'hour')  # below uses showfliers=False to exclude the outliers being displayed\n"
   ]
  },
  {
   "cell_type": "code",
   "execution_count": null,
   "metadata": {},
   "outputs": [],
   "source": [
    "normalp.boxplot(column= 'price', by= 'hour',showfliers=False)  # showfliers=False\n"
   ]
  },
  {
   "cell_type": "code",
   "execution_count": null,
   "metadata": {},
   "outputs": [],
   "source": [
    "g= normalp.groupby('hour')\n",
    "g.count()\n",
    "\n",
    "# This seems to be saying that the three hours in November with the most frequent low prices are from 10am to 3pm\n",
    "# But these 172 five-minute intervals average only 29 minutes a day of prices below $20/MWh\n",
    "# Level 1 charger is normally 2 hours of charging: MAY NEED TO INCREASE THRESHOLD TO 3 CENTS/$30/MWh\n",
    "# BIG QUESTION IS WHETHER THE DIFFERENCE FOR PEAK EVENING PRICES EXCEEDS 25 CENTS/KWH, OF $45/MWh (see p.17 of \"Charging Smart\")\n",
    "# Counts can be compared to 30 days x 12 Intervals = 360 Intervals/month"
   ]
  },
  {
   "cell_type": "code",
   "execution_count": null,
   "metadata": {},
   "outputs": [],
   "source": [
    "normalp.groupby('hour').mean()\n",
    "# The lowest average prices are from 9am to 4pm, which is when Solar is strongest."
   ]
  },
  {
   "cell_type": "code",
   "execution_count": null,
   "metadata": {},
   "outputs": [],
   "source": [
    "spikep.price.plot(kind='hist', bins=30)"
   ]
  },
  {
   "cell_type": "code",
   "execution_count": null,
   "metadata": {},
   "outputs": [],
   "source": [
    "normalp.price.plot(kind='hist', bins=30)  # No showfliers= False !!"
   ]
  },
  {
   "cell_type": "code",
   "execution_count": null,
   "metadata": {},
   "outputs": [],
   "source": [
    "negativep.price.plot(kind='hist', bins=30) # excludes two outliers below -50 and an additional two below -30"
   ]
  },
  {
   "cell_type": "markdown",
   "metadata": {},
   "source": [
    "WHAT IS THE QUESTION: NEED TO LIMIT HOURS TO PGE NIGHT RANGE AND COMPARE 24 INTERVALS VS 12! COMPARE PRICE DELTA"
   ]
  },
  {
   "cell_type": "code",
   "execution_count": null,
   "metadata": {},
   "outputs": [],
   "source": [
    "normalp.price.plot(kind='hist', bins=30, cumulative= True)\n",
    "# Two hours per day average for a Level One EV charger is 24 intervals x 30 days = 720: THRESHOLD must be increased!!!\n",
    "# Add a horizontal red line at 720 !!\n",
    "# Define a function that computes the average price (eg still below 2 cents?)"
   ]
  },
  {
   "cell_type": "code",
   "execution_count": null,
   "metadata": {},
   "outputs": [],
   "source": []
  },
  {
   "cell_type": "code",
   "execution_count": null,
   "metadata": {},
   "outputs": [],
   "source": []
  },
  {
   "cell_type": "code",
   "execution_count": null,
   "metadata": {},
   "outputs": [],
   "source": [
    "# this function returns PG&E's designation of Peak (P), Off-Peak (OP), or Standard (S) EV pricing according to the hour of day\n",
    "def peak(hour): \n",
    "    if hour in [24,1,2,3,4,5,6,7]:\n",
    "        return 'OP'\n",
    "    elif hour in [15,16,17,18,19,20,21,22]:\n",
    "        return 'P'\n",
    "    else:\n",
    "        return 'S'\n",
    "    \n",
    "    "
   ]
  },
  {
   "cell_type": "markdown",
   "metadata": {},
   "source": [
    "COMPREHENSIVE APPROACH TO PG&E PUBLISHED SCHEDULE\n",
    "if date is a public holiday (saved as a list for 2018) OR day is weekend (Saturday/Sunday) then Peak is 3-7pm (rest Off Peak)\n",
    "if day is a weekday (and not a holiday) then:\n",
    "Peak is 2-9pm (hours 14 to 21)...list(range(14,22)\n",
    "Partial Peak is 7am to 2pm and 9-11pm: hours 7-14 & 21-23: hour in list(range(7,15)) + list(range(21,24))\n",
    "Otherwise (ELSE) 'OP' which is Off-Peak"
   ]
  },
  {
   "cell_type": "code",
   "execution_count": null,
   "metadata": {},
   "outputs": [],
   "source": [
    "# need to enter dates as strings and make the dates datetime objects with  .to_datetime() method in pandas\n",
    "holidays = ['2018-01-01','2018-01-15','2018-02-19','2018-05-28','2018-07-04','2018-09-03','2018-12-25'] #list of public holidays\n",
    "holidays= pd.to_datetime(holidays) \n",
    "holidays # this works OK it seems so the Boolean should match"
   ]
  },
  {
   "cell_type": "code",
   "execution_count": null,
   "metadata": {},
   "outputs": [],
   "source": [
    "# indentation is likely a problem as I mixed tabs and spaces!! Paste this into Spyder to debug? NOT SO! now runs!\n",
    "# NB at 7am the 7th hour has just concluded, so 'PP' begins with the 8th hour\n",
    "def PGE(hour,day,weekday): # hour, day, and weekday are columns from the dfp dataframe above (types listed 3 cells below)\n",
    "    # need to enter dates as strings and make the dates datetime objects with  .to_datetime() method in pandas (works OK above)\n",
    "    holidays = ['2018-01-01','2018-01-15','2018-02-19','2018-05-28','2018-07-04','2018-09-03','2018-12-25']\n",
    "    holidays= pd.to_datetime(holidays)\n",
    "    # list of public holiday\n",
    "    weekend_peak= list(range(16,20)) # weekend peak is 3-7pm: noon begins hour 13, so 2pm is hour 15, 3pm is hour 16\n",
    "    weekday_peak= list(range(15,23)) # this corresponds to the weekdays Monday to Friday, first for 2-9pm, for hours 15 to 8\n",
    "    partial_peak= list(range(8,15)) + list(range(22,24))\n",
    "    off_peak= list(range(1,8)) + [24] \n",
    "    if (day in holidays)|(weekday in ['Saturday','Sunday']):\n",
    "      if hour in weekend_peak: \n",
    "        return 'P'\n",
    "      else:   \n",
    "        return 'OP'  \n",
    "    elif hour in weekday_peak: \n",
    "      return'P'   \n",
    "    elif hour in partial_peak: \n",
    "      return 'PP'  \n",
    "    elif hour in off_peak:\n",
    "      return 'OP'\n",
    "    else:\n",
    "      return 'problem!' \n",
    "      # we should never see this condition triggered unless there is a problem (hour 25 when clocks set back!)\n",
    "# as a sanity check the respective lists added together should equal list(range(1,25)) so we should test with this Boolean!!\n",
    "PGE(16,holidays[0],'Tuesday')"
   ]
  },
  {
   "cell_type": "code",
   "execution_count": null,
   "metadata": {},
   "outputs": [],
   "source": [
    "list(range(1,8)) + [24]"
   ]
  },
  {
   "cell_type": "code",
   "execution_count": null,
   "metadata": {},
   "outputs": [],
   "source": [
    "PGE(14, holidays[0], 'Monday')"
   ]
  },
  {
   "cell_type": "code",
   "execution_count": null,
   "metadata": {},
   "outputs": [],
   "source": [
    "combined= list(range(15,23)) + list(range(8,15)) + list(range(22,24)) + list(range(1,8)) + [24] \n",
    "sorted(combined) # == list(range(1,25)) #  False!!  PROBLEM (Hmm: they match but combined is NOT horizontal but vertical!!)"
   ]
  },
  {
   "cell_type": "code",
   "execution_count": null,
   "metadata": {},
   "outputs": [],
   "source": [
    "list(range(15,22)) + list(range(8,15)) + list(range(22,24)) + list(range(1,8)) + [24] #22"
   ]
  },
  {
   "cell_type": "code",
   "execution_count": null,
   "metadata": {},
   "outputs": [],
   "source": [
    "list(range(7,14)) + list(range(21,22)) # test for Partial Peak ('PP')                    "
   ]
  },
  {
   "cell_type": "code",
   "execution_count": null,
   "metadata": {},
   "outputs": [],
   "source": [
    "list(range(14,21)) # test for Peak ('PP')"
   ]
  },
  {
   "cell_type": "code",
   "execution_count": null,
   "metadata": {},
   "outputs": [],
   "source": [
    "dfp.info()"
   ]
  },
  {
   "cell_type": "code",
   "execution_count": null,
   "metadata": {},
   "outputs": [],
   "source": [
    "this function returns PG&E's designation of Peak (P), Off-Peak (OP), or Standard (S) EV pricing according to the hour of day\n",
    "#def peak(hour): \n",
    "    if hour in [list(range(1,8) + [24]]:\n",
    "       return 'OP'\n",
    "   elif hour in [list(range(15,23)]:\n",
    "        return 'P'\n",
    "    else:\n",
    "        return 'S'\n",
    "   \n",
    "# list comprehension version? see below"
   ]
  },
  {
   "cell_type": "code",
   "execution_count": null,
   "metadata": {},
   "outputs": [],
   "source": [
    "d= {'OP':list(range(1,8))+ [24], 'P':list(range(15,23)),'S':list(range(8,15)) + list(range(22,24))}\n",
    "def PGE(hour):\n",
    "    for key,value in d.items:\n",
    "        if hour in d.value  #FIX THIS\n",
    "            return d.key\n",
    "print(PGE(3))"
   ]
  },
  {
   "cell_type": "code",
   "execution_count": null,
   "metadata": {},
   "outputs": [],
   "source": [
    "peak(1)\n",
    "peak(16)"
   ]
  },
  {
   "cell_type": "code",
   "execution_count": null,
   "metadata": {},
   "outputs": [],
   "source": [
    "dfp['PGE']= dfp.hour.apply(peak)\n",
    "dfp.PGE.head()\n",
    "dfp.PGE.tail()"
   ]
  },
  {
   "cell_type": "code",
   "execution_count": null,
   "metadata": {},
   "outputs": [],
   "source": [
    "dfp.head()"
   ]
  },
  {
   "cell_type": "code",
   "execution_count": null,
   "metadata": {},
   "outputs": [],
   "source": [
    "gPGE= dfp.groupby(['day','PGE'])"
   ]
  },
  {
   "cell_type": "code",
   "execution_count": null,
   "metadata": {},
   "outputs": [],
   "source": [
    "daily_PGE= gPGE.price.mean() # this is hourly data!!\n",
    "daily_PGE.head(20)"
   ]
  },
  {
   "cell_type": "code",
   "execution_count": null,
   "metadata": {},
   "outputs": [],
   "source": [
    "dfPGE= daily_PGE.to_frame()\n",
    "dfPGE= dfPGE.sort_values(['day'])\n",
    "dfPGE.head()"
   ]
  },
  {
   "cell_type": "code",
   "execution_count": null,
   "metadata": {},
   "outputs": [],
   "source": [
    "dfPGE.tail() # "
   ]
  },
  {
   "cell_type": "code",
   "execution_count": null,
   "metadata": {},
   "outputs": [],
   "source": [
    "dfPGE= dfPGE.unstack('PGE')\n",
    "dfPGE.head()"
   ]
  },
  {
   "cell_type": "code",
   "execution_count": null,
   "metadata": {},
   "outputs": [],
   "source": [
    "FebPGE = dfPGE.loc['2018-02-01':'2018-02-28'].plot()# so a peak of $140/MWh is 14 cents\n",
    "FebPGE.plot()"
   ]
  },
  {
   "cell_type": "code",
   "execution_count": null,
   "metadata": {},
   "outputs": [],
   "source": [
    "MarPGE = dfPGE.loc['2018-03-01':'2018-03-31'] # so a peak of $140/MWh is 14 cents\n",
    "MarPGE.plot()"
   ]
  },
  {
   "cell_type": "code",
   "execution_count": null,
   "metadata": {},
   "outputs": [],
   "source": [
    "AprPGE= dfPGE.loc['2018-04-01':'2018-04-30'] # so a peak of $140/MWh is 14 cents\n",
    "AprPGE.plot()"
   ]
  },
  {
   "cell_type": "code",
   "execution_count": null,
   "metadata": {},
   "outputs": [],
   "source": []
  },
  {
   "cell_type": "code",
   "execution_count": null,
   "metadata": {},
   "outputs": [],
   "source": [
    "dfPGE.plot() \n",
    "# THIS IS A CRITICAL PLOT TO BE REPEATED MONTHLY USING A PANEL APPROACH (can use df.loc() or extract 'month' as a variable)\n",
    "# Surprises: the highest spikes are not Peak but Standard, \n",
    "# peak is evening from 2pm to 8pm!\n",
    "# Peak seems to have recurring spikes perhaps related to the day of the week?\n",
    "# on many days the standard price is below the off-peak price Can calculate frequency with a Boolean!\n",
    "# Standard is from 8 until 2pm so prices are lowered by midday solar"
   ]
  },
  {
   "cell_type": "code",
   "execution_count": null,
   "metadata": {},
   "outputs": [],
   "source": [
    "dfPGE.info()"
   ]
  },
  {
   "cell_type": "code",
   "execution_count": null,
   "metadata": {},
   "outputs": [],
   "source": [
    "dfPGE.columns= ['OP','P','S']\n",
    "dfPGE.head(3)\n",
    "dfPGE.tail()"
   ]
  },
  {
   "cell_type": "code",
   "execution_count": null,
   "metadata": {},
   "outputs": [],
   "source": []
  },
  {
   "cell_type": "code",
   "execution_count": null,
   "metadata": {},
   "outputs": [],
   "source": []
  },
  {
   "cell_type": "code",
   "execution_count": null,
   "metadata": {},
   "outputs": [],
   "source": [
    "# BIG QUESTION: EACH DAY FIND THE HIGHEST 100 PRICES AND THEN THE LOWEST 100 PRICES VIA SORT. \n",
    "# THEN SUBTRACT THE LOWEST FROM THE HIGHEST, AND SEE IF > $0.25. KEEP GOING UNTIL THIS THRESHOLD IS HIT! \n",
    "# SO CHARGE AT WORK FROM 9 TO 10AM AND USE AT HOME TO RUN AC IN PEAK HOURS!!!"
   ]
  },
  {
   "cell_type": "code",
   "execution_count": null,
   "metadata": {},
   "outputs": [],
   "source": [
    "# We need suppose 2 hours on average daily, 24 intervals/day, 720/month. Find for cumulative of 720 the cut-off price\n",
    "# Then calculate the average price (of course less than cutoff): compute for 720 vs 360, and annnualise cost benefit\n",
    "# this is the economic value of the Level 2 Charger versus the Level 1."
   ]
  },
  {
   "cell_type": "code",
   "execution_count": null,
   "metadata": {},
   "outputs": [],
   "source": [
    "# downsample the 5-minute prices to hourly and match up with hourly wind and solar data (Dhavide Course One)"
   ]
  },
  {
   "cell_type": "code",
   "execution_count": null,
   "metadata": {},
   "outputs": [],
   "source": []
  },
  {
   "cell_type": "code",
   "execution_count": null,
   "metadata": {},
   "outputs": [],
   "source": []
  }
 ],
 "metadata": {
  "kernelspec": {
   "display_name": "Python 3",
   "language": "python",
   "name": "python3"
  },
  "language_info": {
   "codemirror_mode": {
    "name": "ipython",
    "version": 3
   },
   "file_extension": ".py",
   "mimetype": "text/x-python",
   "name": "python",
   "nbconvert_exporter": "python",
   "pygments_lexer": "ipython3",
   "version": "3.7.1"
  }
 },
 "nbformat": 4,
 "nbformat_minor": 2
}
