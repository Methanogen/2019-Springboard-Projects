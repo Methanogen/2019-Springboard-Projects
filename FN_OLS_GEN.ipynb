{
 "cells": [
  {
   "cell_type": "markdown",
   "metadata": {},
   "source": [
    "# This Notebook develops five functions to facilitate analysis of the CAISO wholeale power prices and related variables of interest:\n",
    "\n",
    "# 1. get_price_series(files),  \n",
    "# 2. get_hours_histogram(files), \n",
    "# 3.plot_price_averages(files) , \n",
    "# 4. compare_hourly_prices(files1, files2), and \n",
    "# 5. get_OLS(files)\n",
    "\n",
    "The files are a list of CSV downloads from the CAISO website, which cover 2017 & 2018 in monthly data.\n",
    "The prices are hourly from the so-called \"Day-Ahead-Market\" (DAM), since most transactions are conducted on this market, and the Spot Market (RTM) is much less used.\n",
    "#1 returns an hourly price series for the PG&E main node.\n",
    "#2 returns a normed histogram for which hour of the day had the lowest price, and displays the respective value counts\n",
    "#3 plots the hourly mean prices over a given time period encompassed by the files\n",
    "#4 returns the average hourly price (of 24) for the subject files (eg by month, quarter, or half-year, or period of years) and plots a line chart of the mean hourly prices (and compares it to the year prior same time period).\n",
    "#5 returns an OLS regression for the subject time period embodied by the files."
   ]
  },
  {
   "cell_type": "code",
   "execution_count": 1,
   "metadata": {},
   "outputs": [
    {
     "name": "stdout",
     "output_type": "stream",
     "text": [
      "/Users/user/Desktop/CAISO Monthly Prices\n"
     ]
    }
   ],
   "source": [
    "import os\n",
    "print(os.getcwd())"
   ]
  },
  {
   "cell_type": "code",
   "execution_count": 2,
   "metadata": {},
   "outputs": [],
   "source": [
    "import warnings\n",
    "warnings.filterwarnings('ignore')\n",
    "\n",
    "import numpy as np\n",
    "import pandas as pd\n",
    "import urllib\n",
    "import re\n",
    "from datetime import datetime\n",
    "import matplotlib.pyplot as plt\n",
    "import seaborn as sns\n",
    "import statsmodels.api as sm             # these two imports as used in Boston Housing mini-project\n",
    "from statsmodels.formula.api import ols"
   ]
  },
  {
   "cell_type": "markdown",
   "metadata": {},
   "source": [
    "# A QUICK HISTORICAL LOOK AT THE HOURS WITH THE LOWEST PRICES "
   ]
  },
  {
   "cell_type": "code",
   "execution_count": 3,
   "metadata": {},
   "outputs": [],
   "source": [
    "H1_18= ['DAM_Jan_2018.csv','DAM_Feb_2018.csv', 'DAM_March_2018.csv','DAM_April_2018.csv','DAM_May_2018.csv','DAM_June_2018.csv']\n",
    "H2_18= ['DAM_July_2018.csv','DAM_Aug_2018.csv','DAM_Sept_2018.csv','DAM_Oct_2018.csv','DAM_Nov_2018.csv','DAM_Dec_2018.csv']\n",
    "\n",
    "H1_17= ['DAM_Jan_2017.csv','DAM_Feb_2017.csv', 'DAM_March_2017.csv','DAM_May_2017.csv','DAM_June_2017.csv']\n",
    "# excludes the missing: 'DAM_April_2017.csv'\n",
    "H2_17= ['DAM_July_2017.csv','DAM_Aug_2017.csv','DAM_Sept_2017.csv','DAM_Oct_2017.csv','DAM_Nov_2017.csv','DAM_Dec_2017.csv']\n",
    "\n",
    "def get_price_series(files):\n",
    "    '''This function prints a list of each of the day that had the lowest power price for the days covered by the files'''\n",
    "    frames= [ pd.read_csv(file, header= 0, usecols= [0,2,3,9,14],parse_dates= True, index_col= 'INTERVALSTARTTIME_GMT')\n",
    "         for file in files]\n",
    "    df1= pd.concat(frames)\n",
    "    dfp= df1[df1['LMP_TYPE'] == 'LMP'] # drops the other four price components and reduces data rows by 80%\n",
    "    dfp['date']= pd.to_datetime(dfp['OPR_DT']) #needed for plotting after the groupby SPECIFY FORMAT!!\n",
    "    dfp= dfp.drop(['OPR_DT','LMP_TYPE'],axis=1)\n",
    "    dfp.columns= ['hour','price','day']\n",
    "    dfp.index.names= ['date']\n",
    "    dfp= dfp.sort_index()\n",
    "    # dfp= dfp.sort_values\n",
    "    # df_pvt= dfp.pivot('day','hour','price') # Hmm: already vertical column so pivot() wold make HORIZONTAL\n",
    "    # print(df_pvt.head(3)) drop this as this FN() is called elsewhere\n",
    "    # print(df_pvt.tail(3))\n",
    "    return(dfp)\n",
    "\n",
    "# graphs mean hourly prices for the subject time period (one line only)\n",
    "def plot_price_averages(files):\n",
    "    plt.title('Average Hourly Prices for PGE N.California Hub ($/MWh)')\n",
    "    plt.ylabel('Price')\n",
    "    plt.ylabel('Hour of the Day')\n",
    "    df_pm= get_price_series(H1_17)\n",
    "    df_pm= df_pm.groupby('hour').price.mean().plot()\n",
    "\n",
    "\n",
    "\n",
    "def get_hours_histogram(files):\n",
    "    '''This function prints a list of each of the day that had the lowest power price for the days covered by the files'''\n",
    "    frames= [ pd.read_csv(file, header= 0, usecols= [0,2,3,9,14],parse_dates= True, index_col= 'INTERVALSTARTTIME_GMT')\n",
    "         for file in files]\n",
    "    df1= pd.concat(frames)\n",
    "    dfp= df1[df1['LMP_TYPE'] == 'LMP'] # drops the other four price components and reduces data rows by 80%\n",
    "    dfp['date']= pd.to_datetime(dfp['OPR_DT']) #needed for plotting after the groupby SPECIFY FORMAT!!\n",
    "    dfp= dfp.drop(['OPR_DT','LMP_TYPE'],axis=1)\n",
    "    dfp.columns= ['hour','price','day']\n",
    "    dfp.index.names= ['date']\n",
    "    df_pvt= dfp.pivot('day','hour','price') \n",
    "    lowest_hours= df_pvt.idxmin(axis=1)       # THIS IS JEFF'S CODE FOR PANDAS SO NO M REQUIRED, NOR ARGMIN()\n",
    "    plt.hist(lowest_hours, bins= np.arange(1,24,1) - 0.5,density= True)\n",
    "    plt.title('Histogram of the Hour with the Lowest CAISO Price for the Subject Period ' )\n",
    "    plt.xlabel('Hour of the Day')\n",
    "    plt.ylabel('Probability')\n",
    "    plt.xticks= range(1,25)\n",
    "    plt.show()\n",
    "    return pd.Series(lowest_hours).value_counts(sort= False) # this gives the frequencies"
   ]
  },
  {
   "cell_type": "code",
   "execution_count": 4,
   "metadata": {},
   "outputs": [
    {
     "data": {
      "text/html": [
       "<div>\n",
       "<style scoped>\n",
       "    .dataframe tbody tr th:only-of-type {\n",
       "        vertical-align: middle;\n",
       "    }\n",
       "\n",
       "    .dataframe tbody tr th {\n",
       "        vertical-align: top;\n",
       "    }\n",
       "\n",
       "    .dataframe thead th {\n",
       "        text-align: right;\n",
       "    }\n",
       "</style>\n",
       "<table border=\"1\" class=\"dataframe\">\n",
       "  <thead>\n",
       "    <tr style=\"text-align: right;\">\n",
       "      <th></th>\n",
       "      <th>hour</th>\n",
       "      <th>price</th>\n",
       "      <th>day</th>\n",
       "    </tr>\n",
       "    <tr>\n",
       "      <th>date</th>\n",
       "      <th></th>\n",
       "      <th></th>\n",
       "      <th></th>\n",
       "    </tr>\n",
       "  </thead>\n",
       "  <tbody>\n",
       "    <tr>\n",
       "      <th>2017-01-01 08:00:00</th>\n",
       "      <td>1</td>\n",
       "      <td>32.19913</td>\n",
       "      <td>2017-01-01</td>\n",
       "    </tr>\n",
       "    <tr>\n",
       "      <th>2017-01-01 09:00:00</th>\n",
       "      <td>2</td>\n",
       "      <td>32.06740</td>\n",
       "      <td>2017-01-01</td>\n",
       "    </tr>\n",
       "    <tr>\n",
       "      <th>2017-01-01 10:00:00</th>\n",
       "      <td>3</td>\n",
       "      <td>31.92218</td>\n",
       "      <td>2017-01-01</td>\n",
       "    </tr>\n",
       "  </tbody>\n",
       "</table>\n",
       "</div>"
      ],
      "text/plain": [
       "                     hour     price        day\n",
       "date                                          \n",
       "2017-01-01 08:00:00     1  32.19913 2017-01-01\n",
       "2017-01-01 09:00:00     2  32.06740 2017-01-01\n",
       "2017-01-01 10:00:00     3  31.92218 2017-01-01"
      ]
     },
     "execution_count": 4,
     "metadata": {},
     "output_type": "execute_result"
    }
   ],
   "source": [
    "get_price_series(H1_17).head(3) #OK, w columns:  hour, price, day"
   ]
  },
  {
   "cell_type": "code",
   "execution_count": 5,
   "metadata": {},
   "outputs": [
    {
     "data": {
      "image/png": "[encoded data removed]",
      "text/plain": [
       "<Figure size 432x288 with 1 Axes>"
      ]
     },
     "metadata": {
      "needs_background": "light"
     },
     "output_type": "display_data"
    }
   ],
   "source": [
    "plot_price_averages(H1_17)"
   ]
  },
  {
   "cell_type": "code",
   "execution_count": 6,
   "metadata": {},
   "outputs": [
    {
     "data": {
      "image/png": "[encoded data removed]",
      "text/plain": [
       "<Figure size 432x288 with 1 Axes>"
      ]
     },
     "metadata": {
      "needs_background": "light"
     },
     "output_type": "display_data"
    },
    {
     "data": {
      "text/plain": [
       "1      2\n",
       "2      1\n",
       "3     29\n",
       "4     26\n",
       "8      2\n",
       "9      5\n",
       "10    11\n",
       "11     8\n",
       "12     5\n",
       "13    25\n",
       "14    26\n",
       "15     7\n",
       "16     4\n",
       "dtype: int64"
      ]
     },
     "execution_count": 6,
     "metadata": {},
     "output_type": "execute_result"
    }
   ],
   "source": [
    "get_hours_histogram(H1_17) #OK, w value counts also returned, and a datetime index"
   ]
  },
  {
   "cell_type": "code",
   "execution_count": 7,
   "metadata": {},
   "outputs": [],
   "source": [
    "def compare_hourly_prices(files1,files2):\n",
    "    df1= get_price_series(files1) #local variable\n",
    "    df1= df1.pivot('day','hour','price')\n",
    "    m1= df1.mean().round(1) # vertical\n",
    "    df2= get_price_series(files2) #local variable\n",
    "    df2= df2.pivot('day','hour','price')\n",
    "    m2= df2.mean().round(1) # vertical\n",
    "    # now create a df (dfd) to display the actual prices\n",
    "    dfd= pd.DataFrame()         # pandas.DataFrame.plot\n",
    "    dfd['first_period']=  m1\n",
    "    dfd['second_period']= m2\n",
    "    print(dfd.T.round(1))  # rounds all prices to one decimal places to display better. NEED TO FIX!!\n",
    "    \n",
    "    # Now plot the two lines of mean hourly prices\n",
    "    plt.plot(m1)\n",
    "    plt.plot(m2)\n",
    "    plt.title('Average Hourly Prices for PGE N.California Hub ($/MWh)')\n",
    "    plt.ylabel('Price')\n",
    "    plt.xlabel('Hour of the Day') # this is OK but NO LEGEND\n",
    "    \n",
    "    fig, ax = plt.subplots()\n",
    "    ax.plot(m1, '-b', label='First Period') # FAILED ATTEMP TO ADD A LEGEND\n",
    "    ax.plot(m2, '--r', label='Second Period')# HAS A WEIRD SCALE AND V. BAD LOOK!!!!\n",
    "    # ax.axis('equal')\n",
    "    leg = ax.legend();\n",
    "    plt.show()\n",
    "    \n",
    "    # Pandas plot (but no labelling of axes nor title, but does have a legend)\n",
    "    plt.title('Average Hourly Prices for PGE N.California Hub ($/MWh)')\n",
    "    plt.ylabel('Price')\n",
    "    plt.xlabel('Hour of the Day')\n",
    "    dfd.plot() # this works and includes a legend! It appears as the third plot."
   ]
  },
  {
   "cell_type": "code",
   "execution_count": null,
   "metadata": {},
   "outputs": [],
   "source": []
  },
  {
   "cell_type": "code",
   "execution_count": 8,
   "metadata": {
    "collapsed": true
   },
   "outputs": [
    {
     "name": "stdout",
     "output_type": "stream",
     "text": [
      "hour             1     2     3     4     5     6     7     8     9     10  \\\n",
      "first_period   23.2  20.8  19.4  19.6  22.5  30.0  36.6  35.4  25.4  20.5   \n",
      "second_period  26.0  24.2  23.0  22.7  24.5  30.3  36.8  31.7  23.6  19.8   \n",
      "\n",
      "hour           ...     15    16    17    18    19    20    21    22    23  \\\n",
      "first_period   ...   21.1  24.4  31.8  41.2  52.6  59.4  51.2  40.7  32.8   \n",
      "second_period  ...   17.2  20.2  25.1  33.9  43.3  49.8  48.8  40.0  32.3   \n",
      "\n",
      "hour             24  \n",
      "first_period   27.9  \n",
      "second_period  28.3  \n",
      "\n",
      "[2 rows x 24 columns]\n"
     ]
    },
    {
     "data": {
      "image/png": "[encoded data removed]",
      "text/plain": [
       "<Figure size 432x288 with 1 Axes>"
      ]
     },
     "metadata": {
      "needs_background": "light"
     },
     "output_type": "display_data"
    },
    {
     "data": {
      "image/png": "[encoded data removed]",
      "text/plain": [
       "<Figure size 432x288 with 1 Axes>"
      ]
     },
     "metadata": {
      "needs_background": "light"
     },
     "output_type": "display_data"
    },
    {
     "data": {
      "image/png": "[encoded data removed]",
      "text/plain": [
       "<Figure size 432x288 with 1 Axes>"
      ]
     },
     "metadata": {
      "needs_background": "light"
     },
     "output_type": "display_data"
    },
    {
     "data": {
      "image/png": "[encoded data removed]",
      "text/plain": [
       "<Figure size 432x288 with 1 Axes>"
      ]
     },
     "metadata": {
      "needs_background": "light"
     },
     "output_type": "display_data"
    }
   ],
   "source": [
    "compare_hourly_prices(H1_17,H1_18) # how to stop the new line and have 16 hours on the first line??"
   ]
  },
  {
   "cell_type": "code",
   "execution_count": null,
   "metadata": {},
   "outputs": [],
   "source": [
    "plot_price_averages(H1_17)"
   ]
  },
  {
   "cell_type": "code",
   "execution_count": null,
   "metadata": {},
   "outputs": [],
   "source": [
    "# Comparison of DAM Prices at Hours 3 & 4 with PGE Off-Peak Onset\n",
    "g= dfp.groupby(by= dfp['hour'])\n",
    "dfh= g.price.mean()\n",
    "type(dfh) # pandas.core.series.Series\n",
    "print(dfh)\n",
    "print(dfh[3])\n",
    "discount= 100 * (1 - (dfh[3]+ dfh[4])/(dfh[22]+ dfh[23]))\n",
    "print('Average Percent Saving of Lowest-Price hours versus the onset of Off-Peak', round(discount,1), '%')\n",
    "#Commentary\n",
    "#With the PG&E off-peak period starting at 9pm (which is \"Hour 22\"), the average price for two hours of charging\n",
    "#is simply the average of the respective prices. This may be compared to the average prices for Hours 3 & 4. \n",
    "#As calculated above, the Average Percent Saving of Lowest-Price hours versus the onset of Off-Peak is c.37%."
   ]
  },
  {
   "cell_type": "code",
   "execution_count": null,
   "metadata": {},
   "outputs": [],
   "source": []
  },
  {
   "cell_type": "code",
   "execution_count": null,
   "metadata": {},
   "outputs": [],
   "source": [
    "[plot_price_averages(file) for file in H1_18] "
   ]
  },
  {
   "cell_type": "code",
   "execution_count": null,
   "metadata": {},
   "outputs": [],
   "source": [
    "plt.plot(get_price_series(H1_18[0:3]).mean()) # Ok for a slice: but otherwise FileNotFoundError: File b'D' does not exist"
   ]
  },
  {
   "cell_type": "code",
   "execution_count": null,
   "metadata": {},
   "outputs": [],
   "source": [
    "import statsmodels.api as sm\n",
    "from statsmodels.formula.api import ols\n",
    "\n",
    "# PROBLEM: the summary is returned, but is not visible in the wndow until one scrolls down quite a bit\n",
    "\n",
    "def get_OLS(files):  \n",
    "    df= get_price_series(files)\n",
    "    df['weekday']= df['day'].dt.weekday_name.astype('category')\n",
    "    df['month']= df['day'].dt.month.astype('category')\n",
    "    df.hour= df.hour.astype('category') \n",
    "    # print(df)\n",
    "    m= ols(formula= 'price ~ hour + weekday + month', data= df).fit()\n",
    "    print(m.summary())  "
   ]
  },
  {
   "cell_type": "code",
   "execution_count": null,
   "metadata": {},
   "outputs": [],
   "source": []
  },
  {
   "cell_type": "code",
   "execution_count": null,
   "metadata": {
    "scrolled": true
   },
   "outputs": [],
   "source": [
    "# get_OLS(H1_18)   # R2= 66% w time variables only\n",
    "# get_OLS(H2_18)   # R2= 22% w time variables only\n",
    "# get_OLS(H1_17)   # R2= 39% w time variables only\n",
    "# get_OLS(H2_17)   # R2= 26% w time variables only\n",
    "two_years= H1_17 + H2_17 + H1_18 + H2_18\n",
    "get_OLS(two_years) # R2= 28% w time variables only"
   ]
  },
  {
   "cell_type": "code",
   "execution_count": null,
   "metadata": {},
   "outputs": [],
   "source": []
  },
  {
   "cell_type": "code",
   "execution_count": null,
   "metadata": {},
   "outputs": [],
   "source": [
    "two_years= H1_17 + H2_17 + H1_18 + H2_18\n",
    "len(two_years)# 23 (as April, 2017 is missing)\n",
    "get_hours_histogram(two_years)"
   ]
  },
  {
   "cell_type": "code",
   "execution_count": null,
   "metadata": {},
   "outputs": [],
   "source": [
    "# THIS FUNCTION DOES AN OLS REGRESSION JUST FOR THE DESIGNATED OFF-PEAK HOURS\n",
    "def get_OLS_offpeak(files):  \n",
    "    df= get_price_series(files)\n",
    "    df['weekday']= df['day'].dt.weekday_name.astype('category')\n",
    "    df['month']= df['day'].dt.month.astype('category')\n",
    "    df= df[df['hour'].astype('int').isin(['1','2','3','4','5','6','22','23','24'])]\n",
    "    #df['hour'].astype('int').isin(['1','2','3','4','5','6','22','23','24'])\n",
    "    df.hour= df.hour.astype('category') \n",
    "    # print(df)\n",
    "    m= ols(formula= 'price ~ hour + weekday + month', data= df).fit()\n",
    "    print(m.summary())  "
   ]
  },
  {
   "cell_type": "code",
   "execution_count": null,
   "metadata": {},
   "outputs": [],
   "source": [
    "# get_OLS_offpeak(H1_17)   # R2=72%\n",
    "# get_OLS_offpeak(H2_17)   # R2=56%\n",
    "# get_OLS_offpeak(H1_18)   # R2=66%\n",
    "# get_OLS_offpeak(H2_18)   # R2=38%\n",
    "get_OLS_offpeak(two_years) # R2=48% So for the off-peak hours fully half of the variability is time related"
   ]
  },
  {
   "cell_type": "markdown",
   "metadata": {},
   "source": [
    "# Scraping the CAISO Daily Reports for power generation by type"
   ]
  },
  {
   "cell_type": "code",
   "execution_count": 14,
   "metadata": {},
   "outputs": [],
   "source": [
    "\n",
    "def read_one_day(date):\n",
    "    link = \"http://content.caiso.com/green/renewrpt/{}_DailyRenewablesWatch.txt\".format(date)\n",
    "    url = urllib.request.urlopen(link)\n",
    "    content = [str(word) for word in url.readlines()] # converting each word of each line to strings\n",
    "\n",
    "    # Note these are static, so may need to be adjusted.  Looks to be the same each day though.\n",
    "    # Could be possible to parse on the fly, but start simple for now\n",
    "    renewable_columns = ['hour', 'geo', 'biom', 'biog', 'shydro', 'wind', 'solarPV', 'sTH']\n",
    "    renewable_data = content[2:26]    \n",
    "    total_columns = ['hour', 'srnwbls','nucl', 'thermal', 'imports', 'lhydro']\n",
    "    total_data = content[30:]    \n",
    "    \n",
    "    parsed_renewable = [parse_array(row) for row in renewable_data] # calling function below w 3 Regular Expression calls\n",
    "    parsed_total = [parse_array(row) for row in total_data] # same\n",
    "    \n",
    "    renewable = pd.DataFrame(parsed_renewable, columns=renewable_columns)\n",
    "    total = pd.DataFrame(parsed_total, columns=total_columns)\n",
    "    \n",
    "    renewable['DATE'] = date\n",
    "    total['DATE'] = date\n",
    "    df= pd.merge(renewable,total,on= 'hour')  # s = pd.Series([\"a\", \"b\", \"c\", \"a\"], dtype=\"category\")//pd.series( ,dtype= 'category') rejected\n",
    "    df.hour= ['00','01','02','03','04','05','06','07','08','09','10','11','12','13','14','15','16','17','18','19','20','21','22','23']\n",
    "    df['DT'] = pd.to_datetime(df['DATE_y'] + ' ' + df['hour'] + ':00:00')\n",
    "    df.set_index(df['DT'], inplace= True)\n",
    "    df= df.drop(['DATE_x','DATE_y','DT'], axis=1)\n",
    "    # df['hour']= df['hour'].astype('category', ordered=True)# categories=[2, 1]\n",
    "    # FutureWarning: specifying 'categories' or 'ordered' in .astype() is deprecated; pass a CategoricalDtype instead\n",
    "    return df\n",
    "    \n",
    "def parse_array(one_row):\n",
    "    no_chars = re.sub(r\"[a-zA-Z']\", \"\", one_row) # were commas used to denote thousands (so needed to be removed)\n",
    "    no_slashes = re.sub(r\"\\\\+\", \",\", no_chars)\n",
    "    splitted_strings = no_slashes[1:-1].split(',')\n",
    "    return [int(elem) for elem in splitted_strings] # interesting syntax! return a List Comprehension!\n",
    "# after parsing numbers converted back to numeric for Pandas read"
   ]
  },
  {
   "cell_type": "code",
   "execution_count": 15,
   "metadata": {},
   "outputs": [],
   "source": [
    "def read_one_month(year_month):  # see datetime lectures Chapter 4\n",
    "    if year_month[4:6] in ['04','06','09','11']:\n",
    "        d= 31\n",
    "    elif year_month[4:6] == '02':\n",
    "        d=29\n",
    "    else:\n",
    "        d=32\n",
    "    month_dates_A= [(year_month + '0' + str(i)) for i in list(range(1,10))]\n",
    "    month_dates_B= [(year_month + str(i)) for i in list(range(10,d))]\n",
    "    month_dates= month_dates_A + month_dates_B\n",
    "    dfs= [read_one_day(date) for date in month_dates] #dfs for dataframeS\n",
    "    dfc= pd.concat(dfs)   \n",
    "    return dfc"
   ]
  },
  {
   "cell_type": "code",
   "execution_count": 55,
   "metadata": {},
   "outputs": [
    {
     "name": "stdout",
     "output_type": "stream",
     "text": [
      "                    hour  geo  biom  biog  shydro  wind  solarPV  sTH  \\\n",
      "DT                                                                      \n",
      "2018-01-01 00:00:00   00  975   304   214     299   236        0    0   \n",
      "2018-01-01 01:00:00   01  976   304   215     301   277        0    0   \n",
      "2018-01-01 02:00:00   02  975   304   216     301   128        0    0   \n",
      "\n",
      "                     srnwbls  nucl  thermal  imports  lhydro  \n",
      "DT                                                            \n",
      "2018-01-01 00:00:00     2028  2260     7236     7501    2102  \n",
      "2018-01-01 01:00:00     2073  2259     6702     7453    2043  \n",
      "2018-01-01 02:00:00     1924  2260     6266     7498    2033  \n",
      "<class 'pandas.core.frame.DataFrame'>\n",
      "DatetimeIndex: 4344 entries, 2018-01-01 00:00:00 to 2018-06-30 23:00:00\n",
      "Data columns (total 13 columns):\n",
      "hour       4344 non-null object\n",
      "geo        4344 non-null int64\n",
      "biom       4344 non-null int64\n",
      "biog       4344 non-null int64\n",
      "shydro     4344 non-null int64\n",
      "wind       4344 non-null int64\n",
      "solarPV    4344 non-null int64\n",
      "sTH        4344 non-null int64\n",
      "srnwbls    4344 non-null int64\n",
      "nucl       4344 non-null int64\n",
      "thermal    4344 non-null int64\n",
      "imports    4344 non-null int64\n",
      "lhydro     4344 non-null int64\n",
      "dtypes: int64(12), object(1)\n",
      "memory usage: 475.1+ KB\n",
      "                    hour  geo  biom  biog  shydro  wind  solarPV  sTH  \\\n",
      "DT                                                                      \n",
      "2018-06-30 21:00:00   21  991   368   223     551  3559        0    0   \n",
      "2018-06-30 22:00:00   22  992   351   226     466  4115        0    0   \n",
      "2018-06-30 23:00:00   23  991   346   226     392  4177        0    0   \n",
      "\n",
      "                     srnwbls  nucl  thermal  imports  lhydro  \n",
      "DT                                                            \n",
      "2018-06-30 21:00:00     5692  2261    11618     7781    3873  \n",
      "2018-06-30 22:00:00     6150  2264    10607     7144    2970  \n",
      "2018-06-30 23:00:00     6132  2267     9103     6675    2752  \n"
     ]
    }
   ],
   "source": [
    "# Completed Work for the first six months of 2018 (H1 2018)\n",
    "\n",
    "H1_18_gen_dates= [('2018'+ rest) for rest in ['01','02','03','04','05','06']]\n",
    "H1_18_gen_dates\n",
    "\n",
    "H1_18_gen_dfs= [read_one_month(month) for month in H1_18_gen_dates]     # response ONLY after two minutes!\n",
    "H1_18_gen_dfs[0] # H1_18_gen_files is a list of df's\n",
    "\n",
    "H1_18_gen_data = pd.concat(H1_18_gen_dfs)\n",
    "print(H1_18_gen_data.head(3))\n",
    "H1_18_gen_data.info()\n",
    "print(H1_18_gen_data.tail(3))\n"
   ]
  },
  {
   "cell_type": "code",
   "execution_count": 56,
   "metadata": {},
   "outputs": [
    {
     "data": {
      "text/plain": [
       "pandas.core.frame.DataFrame"
      ]
     },
     "execution_count": 56,
     "metadata": {},
     "output_type": "execute_result"
    }
   ],
   "source": [
    "type(H1_18_gen_data)"
   ]
  },
  {
   "cell_type": "code",
   "execution_count": 57,
   "metadata": {},
   "outputs": [],
   "source": [
    "# write to a csv file for storage for convenient future use\n",
    "H1_18_gen_data = H1_18_gen_data.to_csv(r'C:\\Users\\user\\Desktop\\CAISO Monthly Prices\\H1_18_gen_data.csv', \n",
    "                                        index = 'DT', header=True) \n"
   ]
  },
  {
   "cell_type": "markdown",
   "metadata": {},
   "source": [
    "# H1_17 below does not run!! (but H2_17, H1_18 & H2_18 all do run)"
   ]
  },
  {
   "cell_type": "code",
   "execution_count": 35,
   "metadata": {},
   "outputs": [
    {
     "ename": "ValueError",
     "evalue": "invalid literal for int() with base 10: '\"      .   '",
     "output_type": "error",
     "traceback": [
      "\u001b[0;31m---------------------------------------------------------------------------\u001b[0m",
      "\u001b[0;31mValueError\u001b[0m                                Traceback (most recent call last)",
      "\u001b[0;32m<ipython-input-35-8467cb7918ff>\u001b[0m in \u001b[0;36m<module>\u001b[0;34m\u001b[0m\n\u001b[1;32m      2\u001b[0m \u001b[0mH1_17_gen_dates\u001b[0m\u001b[0;34m\u001b[0m\u001b[0;34m\u001b[0m\u001b[0m\n\u001b[1;32m      3\u001b[0m \u001b[0;34m\u001b[0m\u001b[0m\n\u001b[0;32m----> 4\u001b[0;31m \u001b[0mH1_17_gen_dfs\u001b[0m\u001b[0;34m=\u001b[0m \u001b[0;34m[\u001b[0m\u001b[0mread_one_month\u001b[0m\u001b[0;34m(\u001b[0m\u001b[0mmonth\u001b[0m\u001b[0;34m)\u001b[0m \u001b[0;32mfor\u001b[0m \u001b[0mmonth\u001b[0m \u001b[0;32min\u001b[0m \u001b[0mH1_17_gen_dates\u001b[0m\u001b[0;34m]\u001b[0m     \u001b[0;31m# response ONLY after two minutes!\u001b[0m\u001b[0;34m\u001b[0m\u001b[0;34m\u001b[0m\u001b[0m\n\u001b[0m\u001b[1;32m      5\u001b[0m \u001b[0mH1_17_gen_dfs\u001b[0m\u001b[0;34m[\u001b[0m\u001b[0;36m0\u001b[0m\u001b[0;34m]\u001b[0m \u001b[0;31m# H1_17_gen_files is a list of df's\u001b[0m\u001b[0;34m\u001b[0m\u001b[0;34m\u001b[0m\u001b[0m\n\u001b[1;32m      6\u001b[0m \u001b[0;34m\u001b[0m\u001b[0m\n",
      "\u001b[0;32m<ipython-input-35-8467cb7918ff>\u001b[0m in \u001b[0;36m<listcomp>\u001b[0;34m(.0)\u001b[0m\n\u001b[1;32m      2\u001b[0m \u001b[0mH1_17_gen_dates\u001b[0m\u001b[0;34m\u001b[0m\u001b[0;34m\u001b[0m\u001b[0m\n\u001b[1;32m      3\u001b[0m \u001b[0;34m\u001b[0m\u001b[0m\n\u001b[0;32m----> 4\u001b[0;31m \u001b[0mH1_17_gen_dfs\u001b[0m\u001b[0;34m=\u001b[0m \u001b[0;34m[\u001b[0m\u001b[0mread_one_month\u001b[0m\u001b[0;34m(\u001b[0m\u001b[0mmonth\u001b[0m\u001b[0;34m)\u001b[0m \u001b[0;32mfor\u001b[0m \u001b[0mmonth\u001b[0m \u001b[0;32min\u001b[0m \u001b[0mH1_17_gen_dates\u001b[0m\u001b[0;34m]\u001b[0m     \u001b[0;31m# response ONLY after two minutes!\u001b[0m\u001b[0;34m\u001b[0m\u001b[0;34m\u001b[0m\u001b[0m\n\u001b[0m\u001b[1;32m      5\u001b[0m \u001b[0mH1_17_gen_dfs\u001b[0m\u001b[0;34m[\u001b[0m\u001b[0;36m0\u001b[0m\u001b[0;34m]\u001b[0m \u001b[0;31m# H1_17_gen_files is a list of df's\u001b[0m\u001b[0;34m\u001b[0m\u001b[0;34m\u001b[0m\u001b[0m\n\u001b[1;32m      6\u001b[0m \u001b[0;34m\u001b[0m\u001b[0m\n",
      "\u001b[0;32m<ipython-input-15-7f924a41aeb8>\u001b[0m in \u001b[0;36mread_one_month\u001b[0;34m(year_month)\u001b[0m\n\u001b[1;32m      9\u001b[0m     \u001b[0mmonth_dates_B\u001b[0m\u001b[0;34m=\u001b[0m \u001b[0;34m[\u001b[0m\u001b[0;34m(\u001b[0m\u001b[0myear_month\u001b[0m \u001b[0;34m+\u001b[0m \u001b[0mstr\u001b[0m\u001b[0;34m(\u001b[0m\u001b[0mi\u001b[0m\u001b[0;34m)\u001b[0m\u001b[0;34m)\u001b[0m \u001b[0;32mfor\u001b[0m \u001b[0mi\u001b[0m \u001b[0;32min\u001b[0m \u001b[0mlist\u001b[0m\u001b[0;34m(\u001b[0m\u001b[0mrange\u001b[0m\u001b[0;34m(\u001b[0m\u001b[0;36m10\u001b[0m\u001b[0;34m,\u001b[0m\u001b[0md\u001b[0m\u001b[0;34m)\u001b[0m\u001b[0;34m)\u001b[0m\u001b[0;34m]\u001b[0m\u001b[0;34m\u001b[0m\u001b[0;34m\u001b[0m\u001b[0m\n\u001b[1;32m     10\u001b[0m     \u001b[0mmonth_dates\u001b[0m\u001b[0;34m=\u001b[0m \u001b[0mmonth_dates_A\u001b[0m \u001b[0;34m+\u001b[0m \u001b[0mmonth_dates_B\u001b[0m\u001b[0;34m\u001b[0m\u001b[0;34m\u001b[0m\u001b[0m\n\u001b[0;32m---> 11\u001b[0;31m     \u001b[0mdfs\u001b[0m\u001b[0;34m=\u001b[0m \u001b[0;34m[\u001b[0m\u001b[0mread_one_day\u001b[0m\u001b[0;34m(\u001b[0m\u001b[0mdate\u001b[0m\u001b[0;34m)\u001b[0m \u001b[0;32mfor\u001b[0m \u001b[0mdate\u001b[0m \u001b[0;32min\u001b[0m \u001b[0mmonth_dates\u001b[0m\u001b[0;34m]\u001b[0m \u001b[0;31m#dfs for dataframeS\u001b[0m\u001b[0;34m\u001b[0m\u001b[0;34m\u001b[0m\u001b[0m\n\u001b[0m\u001b[1;32m     12\u001b[0m     \u001b[0mdfc\u001b[0m\u001b[0;34m=\u001b[0m \u001b[0mpd\u001b[0m\u001b[0;34m.\u001b[0m\u001b[0mconcat\u001b[0m\u001b[0;34m(\u001b[0m\u001b[0mdfs\u001b[0m\u001b[0;34m)\u001b[0m\u001b[0;34m\u001b[0m\u001b[0;34m\u001b[0m\u001b[0m\n\u001b[1;32m     13\u001b[0m     \u001b[0;32mreturn\u001b[0m \u001b[0mdfc\u001b[0m\u001b[0;34m\u001b[0m\u001b[0;34m\u001b[0m\u001b[0m\n",
      "\u001b[0;32m<ipython-input-15-7f924a41aeb8>\u001b[0m in \u001b[0;36m<listcomp>\u001b[0;34m(.0)\u001b[0m\n\u001b[1;32m      9\u001b[0m     \u001b[0mmonth_dates_B\u001b[0m\u001b[0;34m=\u001b[0m \u001b[0;34m[\u001b[0m\u001b[0;34m(\u001b[0m\u001b[0myear_month\u001b[0m \u001b[0;34m+\u001b[0m \u001b[0mstr\u001b[0m\u001b[0;34m(\u001b[0m\u001b[0mi\u001b[0m\u001b[0;34m)\u001b[0m\u001b[0;34m)\u001b[0m \u001b[0;32mfor\u001b[0m \u001b[0mi\u001b[0m \u001b[0;32min\u001b[0m \u001b[0mlist\u001b[0m\u001b[0;34m(\u001b[0m\u001b[0mrange\u001b[0m\u001b[0;34m(\u001b[0m\u001b[0;36m10\u001b[0m\u001b[0;34m,\u001b[0m\u001b[0md\u001b[0m\u001b[0;34m)\u001b[0m\u001b[0;34m)\u001b[0m\u001b[0;34m]\u001b[0m\u001b[0;34m\u001b[0m\u001b[0;34m\u001b[0m\u001b[0m\n\u001b[1;32m     10\u001b[0m     \u001b[0mmonth_dates\u001b[0m\u001b[0;34m=\u001b[0m \u001b[0mmonth_dates_A\u001b[0m \u001b[0;34m+\u001b[0m \u001b[0mmonth_dates_B\u001b[0m\u001b[0;34m\u001b[0m\u001b[0;34m\u001b[0m\u001b[0m\n\u001b[0;32m---> 11\u001b[0;31m     \u001b[0mdfs\u001b[0m\u001b[0;34m=\u001b[0m \u001b[0;34m[\u001b[0m\u001b[0mread_one_day\u001b[0m\u001b[0;34m(\u001b[0m\u001b[0mdate\u001b[0m\u001b[0;34m)\u001b[0m \u001b[0;32mfor\u001b[0m \u001b[0mdate\u001b[0m \u001b[0;32min\u001b[0m \u001b[0mmonth_dates\u001b[0m\u001b[0;34m]\u001b[0m \u001b[0;31m#dfs for dataframeS\u001b[0m\u001b[0;34m\u001b[0m\u001b[0;34m\u001b[0m\u001b[0m\n\u001b[0m\u001b[1;32m     12\u001b[0m     \u001b[0mdfc\u001b[0m\u001b[0;34m=\u001b[0m \u001b[0mpd\u001b[0m\u001b[0;34m.\u001b[0m\u001b[0mconcat\u001b[0m\u001b[0;34m(\u001b[0m\u001b[0mdfs\u001b[0m\u001b[0;34m)\u001b[0m\u001b[0;34m\u001b[0m\u001b[0;34m\u001b[0m\u001b[0m\n\u001b[1;32m     13\u001b[0m     \u001b[0;32mreturn\u001b[0m \u001b[0mdfc\u001b[0m\u001b[0;34m\u001b[0m\u001b[0;34m\u001b[0m\u001b[0m\n",
      "\u001b[0;32m<ipython-input-14-52d6e0c41efc>\u001b[0m in \u001b[0;36mread_one_day\u001b[0;34m(date)\u001b[0m\n\u001b[1;32m     12\u001b[0m     \u001b[0mtotal_data\u001b[0m \u001b[0;34m=\u001b[0m \u001b[0mcontent\u001b[0m\u001b[0;34m[\u001b[0m\u001b[0;36m30\u001b[0m\u001b[0;34m:\u001b[0m\u001b[0;34m]\u001b[0m\u001b[0;34m\u001b[0m\u001b[0;34m\u001b[0m\u001b[0m\n\u001b[1;32m     13\u001b[0m \u001b[0;34m\u001b[0m\u001b[0m\n\u001b[0;32m---> 14\u001b[0;31m     \u001b[0mparsed_renewable\u001b[0m \u001b[0;34m=\u001b[0m \u001b[0;34m[\u001b[0m\u001b[0mparse_array\u001b[0m\u001b[0;34m(\u001b[0m\u001b[0mrow\u001b[0m\u001b[0;34m)\u001b[0m \u001b[0;32mfor\u001b[0m \u001b[0mrow\u001b[0m \u001b[0;32min\u001b[0m \u001b[0mrenewable_data\u001b[0m\u001b[0;34m]\u001b[0m \u001b[0;31m# calling function below w 3 Regular Expression calls\u001b[0m\u001b[0;34m\u001b[0m\u001b[0;34m\u001b[0m\u001b[0m\n\u001b[0m\u001b[1;32m     15\u001b[0m     \u001b[0mparsed_total\u001b[0m \u001b[0;34m=\u001b[0m \u001b[0;34m[\u001b[0m\u001b[0mparse_array\u001b[0m\u001b[0;34m(\u001b[0m\u001b[0mrow\u001b[0m\u001b[0;34m)\u001b[0m \u001b[0;32mfor\u001b[0m \u001b[0mrow\u001b[0m \u001b[0;32min\u001b[0m \u001b[0mtotal_data\u001b[0m\u001b[0;34m]\u001b[0m \u001b[0;31m# same\u001b[0m\u001b[0;34m\u001b[0m\u001b[0;34m\u001b[0m\u001b[0m\n\u001b[1;32m     16\u001b[0m \u001b[0;34m\u001b[0m\u001b[0m\n",
      "\u001b[0;32m<ipython-input-14-52d6e0c41efc>\u001b[0m in \u001b[0;36m<listcomp>\u001b[0;34m(.0)\u001b[0m\n\u001b[1;32m     12\u001b[0m     \u001b[0mtotal_data\u001b[0m \u001b[0;34m=\u001b[0m \u001b[0mcontent\u001b[0m\u001b[0;34m[\u001b[0m\u001b[0;36m30\u001b[0m\u001b[0;34m:\u001b[0m\u001b[0;34m]\u001b[0m\u001b[0;34m\u001b[0m\u001b[0;34m\u001b[0m\u001b[0m\n\u001b[1;32m     13\u001b[0m \u001b[0;34m\u001b[0m\u001b[0m\n\u001b[0;32m---> 14\u001b[0;31m     \u001b[0mparsed_renewable\u001b[0m \u001b[0;34m=\u001b[0m \u001b[0;34m[\u001b[0m\u001b[0mparse_array\u001b[0m\u001b[0;34m(\u001b[0m\u001b[0mrow\u001b[0m\u001b[0;34m)\u001b[0m \u001b[0;32mfor\u001b[0m \u001b[0mrow\u001b[0m \u001b[0;32min\u001b[0m \u001b[0mrenewable_data\u001b[0m\u001b[0;34m]\u001b[0m \u001b[0;31m# calling function below w 3 Regular Expression calls\u001b[0m\u001b[0;34m\u001b[0m\u001b[0;34m\u001b[0m\u001b[0m\n\u001b[0m\u001b[1;32m     15\u001b[0m     \u001b[0mparsed_total\u001b[0m \u001b[0;34m=\u001b[0m \u001b[0;34m[\u001b[0m\u001b[0mparse_array\u001b[0m\u001b[0;34m(\u001b[0m\u001b[0mrow\u001b[0m\u001b[0;34m)\u001b[0m \u001b[0;32mfor\u001b[0m \u001b[0mrow\u001b[0m \u001b[0;32min\u001b[0m \u001b[0mtotal_data\u001b[0m\u001b[0;34m]\u001b[0m \u001b[0;31m# same\u001b[0m\u001b[0;34m\u001b[0m\u001b[0;34m\u001b[0m\u001b[0m\n\u001b[1;32m     16\u001b[0m \u001b[0;34m\u001b[0m\u001b[0m\n",
      "\u001b[0;32m<ipython-input-14-52d6e0c41efc>\u001b[0m in \u001b[0;36mparse_array\u001b[0;34m(one_row)\u001b[0m\n\u001b[1;32m     33\u001b[0m     \u001b[0mno_slashes\u001b[0m \u001b[0;34m=\u001b[0m \u001b[0mre\u001b[0m\u001b[0;34m.\u001b[0m\u001b[0msub\u001b[0m\u001b[0;34m(\u001b[0m\u001b[0;34mr\"\\\\+\"\u001b[0m\u001b[0;34m,\u001b[0m \u001b[0;34m\",\"\u001b[0m\u001b[0;34m,\u001b[0m \u001b[0mno_chars\u001b[0m\u001b[0;34m)\u001b[0m\u001b[0;34m\u001b[0m\u001b[0;34m\u001b[0m\u001b[0m\n\u001b[1;32m     34\u001b[0m     \u001b[0msplitted_strings\u001b[0m \u001b[0;34m=\u001b[0m \u001b[0mno_slashes\u001b[0m\u001b[0;34m[\u001b[0m\u001b[0;36m1\u001b[0m\u001b[0;34m:\u001b[0m\u001b[0;34m-\u001b[0m\u001b[0;36m1\u001b[0m\u001b[0;34m]\u001b[0m\u001b[0;34m.\u001b[0m\u001b[0msplit\u001b[0m\u001b[0;34m(\u001b[0m\u001b[0;34m','\u001b[0m\u001b[0;34m)\u001b[0m\u001b[0;34m\u001b[0m\u001b[0;34m\u001b[0m\u001b[0m\n\u001b[0;32m---> 35\u001b[0;31m     \u001b[0;32mreturn\u001b[0m \u001b[0;34m[\u001b[0m\u001b[0mint\u001b[0m\u001b[0;34m(\u001b[0m\u001b[0melem\u001b[0m\u001b[0;34m)\u001b[0m \u001b[0;32mfor\u001b[0m \u001b[0melem\u001b[0m \u001b[0;32min\u001b[0m \u001b[0msplitted_strings\u001b[0m\u001b[0;34m]\u001b[0m \u001b[0;31m# interesting syntax! return a List Comprehension!\u001b[0m\u001b[0;34m\u001b[0m\u001b[0;34m\u001b[0m\u001b[0m\n\u001b[0m\u001b[1;32m     36\u001b[0m \u001b[0;31m# after parsing numbers converted back to numeric for Pandas read\u001b[0m\u001b[0;34m\u001b[0m\u001b[0;34m\u001b[0m\u001b[0;34m\u001b[0m\u001b[0m\n",
      "\u001b[0;32m<ipython-input-14-52d6e0c41efc>\u001b[0m in \u001b[0;36m<listcomp>\u001b[0;34m(.0)\u001b[0m\n\u001b[1;32m     33\u001b[0m     \u001b[0mno_slashes\u001b[0m \u001b[0;34m=\u001b[0m \u001b[0mre\u001b[0m\u001b[0;34m.\u001b[0m\u001b[0msub\u001b[0m\u001b[0;34m(\u001b[0m\u001b[0;34mr\"\\\\+\"\u001b[0m\u001b[0;34m,\u001b[0m \u001b[0;34m\",\"\u001b[0m\u001b[0;34m,\u001b[0m \u001b[0mno_chars\u001b[0m\u001b[0;34m)\u001b[0m\u001b[0;34m\u001b[0m\u001b[0;34m\u001b[0m\u001b[0m\n\u001b[1;32m     34\u001b[0m     \u001b[0msplitted_strings\u001b[0m \u001b[0;34m=\u001b[0m \u001b[0mno_slashes\u001b[0m\u001b[0;34m[\u001b[0m\u001b[0;36m1\u001b[0m\u001b[0;34m:\u001b[0m\u001b[0;34m-\u001b[0m\u001b[0;36m1\u001b[0m\u001b[0;34m]\u001b[0m\u001b[0;34m.\u001b[0m\u001b[0msplit\u001b[0m\u001b[0;34m(\u001b[0m\u001b[0;34m','\u001b[0m\u001b[0;34m)\u001b[0m\u001b[0;34m\u001b[0m\u001b[0;34m\u001b[0m\u001b[0m\n\u001b[0;32m---> 35\u001b[0;31m     \u001b[0;32mreturn\u001b[0m \u001b[0;34m[\u001b[0m\u001b[0mint\u001b[0m\u001b[0;34m(\u001b[0m\u001b[0melem\u001b[0m\u001b[0;34m)\u001b[0m \u001b[0;32mfor\u001b[0m \u001b[0melem\u001b[0m \u001b[0;32min\u001b[0m \u001b[0msplitted_strings\u001b[0m\u001b[0;34m]\u001b[0m \u001b[0;31m# interesting syntax! return a List Comprehension!\u001b[0m\u001b[0;34m\u001b[0m\u001b[0;34m\u001b[0m\u001b[0m\n\u001b[0m\u001b[1;32m     36\u001b[0m \u001b[0;31m# after parsing numbers converted back to numeric for Pandas read\u001b[0m\u001b[0;34m\u001b[0m\u001b[0;34m\u001b[0m\u001b[0;34m\u001b[0m\u001b[0m\n",
      "\u001b[0;31mValueError\u001b[0m: invalid literal for int() with base 10: '\"      .   '"
     ]
    }
   ],
   "source": [
    "H1_17_gen_dates= [('2017'+ rest) for rest in ['01','02','03','04','05','06']]\n",
    "H1_17_gen_dates\n",
    "\n",
    "H1_17_gen_dfs= [read_one_month(month) for month in H1_17_gen_dates]     # response ONLY after two minutes!\n",
    "H1_17_gen_dfs[0] # H1_17_gen_files is a list of df's\n",
    "\n",
    "H1_17_gen_data = pd.concat(H1_17_gen_dfs)\n",
    "print(H1_17_gen_data.head(3))\n",
    "H1_17_gen_data.info()\n",
    "print(H1_17_gen_data.tail(3))   # ValueError: invalid literal for int() with base 10: '\"  "
   ]
  },
  {
   "cell_type": "code",
   "execution_count": 58,
   "metadata": {},
   "outputs": [
    {
     "name": "stdout",
     "output_type": "stream",
     "text": [
      "                    hour  geo  biom  biog  shydro  wind  solarPV  sTH  \\\n",
      "DT                                                                      \n",
      "2018-07-01 00:00:00   00  992   342   223     347  4087        0    0   \n",
      "2018-07-01 01:00:00   01  994   343   223     341  4053        0    0   \n",
      "2018-07-01 02:00:00   02  994   344   223     310  3919        0    0   \n",
      "\n",
      "                     srnwbls  nucl  thermal  imports  lhydro  \n",
      "DT                                                            \n",
      "2018-07-01 00:00:00     5991  2268     7648     6776    2585  \n",
      "2018-07-01 01:00:00     5954  2267     6245     7007    2400  \n",
      "2018-07-01 02:00:00     4796  2259     6286     7170    2360  \n",
      "<class 'pandas.core.frame.DataFrame'>\n",
      "DatetimeIndex: 4416 entries, 2018-07-01 00:00:00 to 2018-12-31 23:00:00\n",
      "Data columns (total 13 columns):\n",
      "hour       4416 non-null object\n",
      "geo        4416 non-null int64\n",
      "biom       4416 non-null int64\n",
      "biog       4416 non-null int64\n",
      "shydro     4416 non-null int64\n",
      "wind       4416 non-null int64\n",
      "solarPV    4416 non-null int64\n",
      "sTH        4416 non-null int64\n",
      "srnwbls    4416 non-null int64\n",
      "nucl       4416 non-null int64\n",
      "thermal    4416 non-null int64\n",
      "imports    4416 non-null int64\n",
      "lhydro     4416 non-null int64\n",
      "dtypes: int64(12), object(1)\n",
      "memory usage: 483.0+ KB\n",
      "                    hour  geo  biom  biog  shydro  wind  solarPV  sTH  \\\n",
      "DT                                                                      \n",
      "2018-12-31 21:00:00   21  992   383   227     292  3171        0    0   \n",
      "2018-12-31 22:00:00   22  993   382   226     219  2796        0    0   \n",
      "2018-12-31 23:00:00   23  993   379   226     193  2667        0    0   \n",
      "\n",
      "                     srnwbls  nucl  thermal  imports  lhydro  \n",
      "DT                                                            \n",
      "2018-12-31 21:00:00     5065  2273     6500     8401    2724  \n",
      "2018-12-31 22:00:00     4616  2272     7011     7417    2515  \n",
      "2018-12-31 23:00:00     4458  2272     7038     6532    2488  \n"
     ]
    }
   ],
   "source": [
    "H2_18_gen_dates= [('2018'+ rest) for rest in ['07','08','09','10','11','12']]\n",
    "H2_18_gen_dates\n",
    "\n",
    "H2_18_gen_dfs= [read_one_month(month) for month in H2_18_gen_dates]     # response ONLY after two minutes!\n",
    "H2_18_gen_dfs[0] # a list of df's\n",
    "\n",
    "H2_18_gen_data = pd.concat(H2_18_gen_dfs)\n",
    "print(H2_18_gen_data.head(3))\n",
    "H2_18_gen_data.info()\n",
    "print(H2_18_gen_data.tail(3))  "
   ]
  },
  {
   "cell_type": "code",
   "execution_count": 59,
   "metadata": {},
   "outputs": [],
   "source": [
    "# write to a csv file for storage for convenient future use\n",
    "H2_18_gen_data = H2_18_gen_data.to_csv(r'C:\\Users\\user\\Desktop\\CAISO Monthly Prices\\H2_18_gen_data.csv', \n",
    "                                        index = 'DT', header=True) "
   ]
  },
  {
   "cell_type": "code",
   "execution_count": 51,
   "metadata": {},
   "outputs": [
    {
     "name": "stdout",
     "output_type": "stream",
     "text": [
      "                    hour   geo  biom  biog  shydro  wind  solarPV  sTH  \\\n",
      "DT                                                                       \n",
      "2017-07-01 00:00:00   00  1025   226   184     482  3629        0    0   \n",
      "2017-07-01 01:00:00   01  1025   226   184     481  3575        0    0   \n",
      "2017-07-01 02:00:00   02  1025   228   185     477  3630        0    0   \n",
      "\n",
      "                     srnwbls  nucl  thermal  imports  lhydro  \n",
      "DT                                                            \n",
      "2017-07-01 00:00:00     5514  2277     6182     7510    4075  \n",
      "2017-07-01 01:00:00     5491  2278     4715     7377    4074  \n",
      "2017-07-01 02:00:00     5545  2278     3625     7411    4068  \n",
      "<class 'pandas.core.frame.DataFrame'>\n",
      "DatetimeIndex: 4416 entries, 2017-07-01 00:00:00 to 2017-12-31 23:00:00\n",
      "Data columns (total 13 columns):\n",
      "hour       4416 non-null object\n",
      "geo        4416 non-null int64\n",
      "biom       4416 non-null int64\n",
      "biog       4416 non-null int64\n",
      "shydro     4416 non-null int64\n",
      "wind       4416 non-null int64\n",
      "solarPV    4416 non-null int64\n",
      "sTH        4416 non-null int64\n",
      "srnwbls    4416 non-null int64\n",
      "nucl       4416 non-null int64\n",
      "thermal    4416 non-null int64\n",
      "imports    4416 non-null int64\n",
      "lhydro     4416 non-null int64\n",
      "dtypes: int64(12), object(1)\n",
      "memory usage: 483.0+ KB\n",
      "                    hour  geo  biom  biog  shydro  wind  solarPV  sTH  \\\n",
      "DT                                                                      \n",
      "2017-12-31 21:00:00   21  975   316   245     421   241        0    0   \n",
      "2017-12-31 22:00:00   22  976   306   244     349   185        0    0   \n",
      "2017-12-31 23:00:00   23  976   306   243     305   230        0    0   \n",
      "\n",
      "                     srnwbls  nucl  thermal  imports  lhydro  \n",
      "DT                                                            \n",
      "2017-12-31 21:00:00     2199  2262     8064     9121    2577  \n",
      "2017-12-31 22:00:00     2060  2261     8237     8311    2379  \n",
      "2017-12-31 23:00:00     2060  2260     8002     7547    2305  \n"
     ]
    }
   ],
   "source": [
    "H2_17_gen_dates= [('2017'+ rest) for rest in ['07','08','09','10','11','12']]\n",
    "H2_17_gen_dates\n",
    "\n",
    "H2_17_gen_dfs= [read_one_month(month) for month in H2_17_gen_dates]     # response ONLY after two minutes!\n",
    "H2_17_gen_dfs[0] # a list of df's\n",
    "\n",
    "H2_17_gen_data = pd.concat(H2_17_gen_dfs)\n",
    "print(H2_17_gen_data.head(3))\n",
    "H2_17_gen_data.info()\n",
    "print(H2_17_gen_data.tail(3))"
   ]
  },
  {
   "cell_type": "code",
   "execution_count": 52,
   "metadata": {},
   "outputs": [],
   "source": [
    "# write to a csv file for storage for convenient future use\n",
    "H2_17_gen_data = H2_17_gen_data.to_csv(r'C:\\Users\\user\\Desktop\\CAISO Monthly Prices\\H2_17_gen_data.csv', \n",
    "                                       index= 'DT', header=True) "
   ]
  },
  {
   "cell_type": "code",
   "execution_count": 73,
   "metadata": {},
   "outputs": [
    {
     "data": {
      "text/html": [
       "<div>\n",
       "<style scoped>\n",
       "    .dataframe tbody tr th:only-of-type {\n",
       "        vertical-align: middle;\n",
       "    }\n",
       "\n",
       "    .dataframe tbody tr th {\n",
       "        vertical-align: top;\n",
       "    }\n",
       "\n",
       "    .dataframe thead th {\n",
       "        text-align: right;\n",
       "    }\n",
       "</style>\n",
       "<table border=\"1\" class=\"dataframe\">\n",
       "  <thead>\n",
       "    <tr style=\"text-align: right;\">\n",
       "      <th></th>\n",
       "      <th>DT</th>\n",
       "      <th>hour</th>\n",
       "      <th>geo</th>\n",
       "      <th>biom</th>\n",
       "      <th>biog</th>\n",
       "      <th>shydro</th>\n",
       "      <th>wind</th>\n",
       "      <th>solarPV</th>\n",
       "      <th>sTH</th>\n",
       "      <th>srnwbls</th>\n",
       "      <th>nucl</th>\n",
       "      <th>thermal</th>\n",
       "      <th>imports</th>\n",
       "      <th>lhydro</th>\n",
       "    </tr>\n",
       "  </thead>\n",
       "  <tbody>\n",
       "    <tr>\n",
       "      <th>0</th>\n",
       "      <td>2017-07-01 00:00:00</td>\n",
       "      <td>0</td>\n",
       "      <td>1025</td>\n",
       "      <td>226</td>\n",
       "      <td>184</td>\n",
       "      <td>482</td>\n",
       "      <td>3629</td>\n",
       "      <td>0</td>\n",
       "      <td>0</td>\n",
       "      <td>5514</td>\n",
       "      <td>2277</td>\n",
       "      <td>6182</td>\n",
       "      <td>7510</td>\n",
       "      <td>4075</td>\n",
       "    </tr>\n",
       "    <tr>\n",
       "      <th>1</th>\n",
       "      <td>2017-07-01 01:00:00</td>\n",
       "      <td>1</td>\n",
       "      <td>1025</td>\n",
       "      <td>226</td>\n",
       "      <td>184</td>\n",
       "      <td>481</td>\n",
       "      <td>3575</td>\n",
       "      <td>0</td>\n",
       "      <td>0</td>\n",
       "      <td>5491</td>\n",
       "      <td>2278</td>\n",
       "      <td>4715</td>\n",
       "      <td>7377</td>\n",
       "      <td>4074</td>\n",
       "    </tr>\n",
       "    <tr>\n",
       "      <th>2</th>\n",
       "      <td>2017-07-01 02:00:00</td>\n",
       "      <td>2</td>\n",
       "      <td>1025</td>\n",
       "      <td>228</td>\n",
       "      <td>185</td>\n",
       "      <td>477</td>\n",
       "      <td>3630</td>\n",
       "      <td>0</td>\n",
       "      <td>0</td>\n",
       "      <td>5545</td>\n",
       "      <td>2278</td>\n",
       "      <td>3625</td>\n",
       "      <td>7411</td>\n",
       "      <td>4068</td>\n",
       "    </tr>\n",
       "  </tbody>\n",
       "</table>\n",
       "</div>"
      ],
      "text/plain": [
       "                    DT  hour   geo  biom  biog  shydro  wind  solarPV  sTH  \\\n",
       "0  2017-07-01 00:00:00     0  1025   226   184     482  3629        0    0   \n",
       "1  2017-07-01 01:00:00     1  1025   226   184     481  3575        0    0   \n",
       "2  2017-07-01 02:00:00     2  1025   228   185     477  3630        0    0   \n",
       "\n",
       "   srnwbls  nucl  thermal  imports  lhydro  \n",
       "0     5514  2277     6182     7510    4075  \n",
       "1     5491  2278     4715     7377    4074  \n",
       "2     5545  2278     3625     7411    4068  "
      ]
     },
     "execution_count": 73,
     "metadata": {},
     "output_type": "execute_result"
    }
   ],
   "source": [
    "H2_17G = pd.read_csv(r'C:\\Users\\user\\Desktop\\CAISO Monthly Prices\\H2_17_gen_data.csv', index_col= 'DT') \n",
    "test_read.head(3)"
   ]
  },
  {
   "cell_type": "code",
   "execution_count": 74,
   "metadata": {},
   "outputs": [],
   "source": [
    "H2_18G = pd.read_csv(r'C:\\Users\\user\\Desktop\\CAISO Monthly Prices\\H2_18_gen_data.csv',index_col= 'DT')"
   ]
  },
  {
   "cell_type": "code",
   "execution_count": 75,
   "metadata": {},
   "outputs": [],
   "source": [
    "H1_18G = pd.read_csv(r'C:\\Users\\user\\Desktop\\CAISO Monthly Prices\\H1_18_gen_data.csv',index_col= 'DT')"
   ]
  },
  {
   "cell_type": "code",
   "execution_count": 85,
   "metadata": {},
   "outputs": [],
   "source": [
    "dfgc= pd.concat([H2_17G, H1_18G,H2_18G]) #dfgc is the df's Generating Consolidated, here spanning 18 months"
   ]
  },
  {
   "cell_type": "code",
   "execution_count": 86,
   "metadata": {},
   "outputs": [
    {
     "name": "stdout",
     "output_type": "stream",
     "text": [
      "13176\n"
     ]
    },
    {
     "data": {
      "text/html": [
       "<div>\n",
       "<style scoped>\n",
       "    .dataframe tbody tr th:only-of-type {\n",
       "        vertical-align: middle;\n",
       "    }\n",
       "\n",
       "    .dataframe tbody tr th {\n",
       "        vertical-align: top;\n",
       "    }\n",
       "\n",
       "    .dataframe thead th {\n",
       "        text-align: right;\n",
       "    }\n",
       "</style>\n",
       "<table border=\"1\" class=\"dataframe\">\n",
       "  <thead>\n",
       "    <tr style=\"text-align: right;\">\n",
       "      <th></th>\n",
       "      <th>hour</th>\n",
       "      <th>geo</th>\n",
       "      <th>biom</th>\n",
       "      <th>biog</th>\n",
       "      <th>shydro</th>\n",
       "      <th>wind</th>\n",
       "      <th>solarPV</th>\n",
       "      <th>sTH</th>\n",
       "      <th>srnwbls</th>\n",
       "      <th>nucl</th>\n",
       "      <th>thermal</th>\n",
       "      <th>imports</th>\n",
       "      <th>lhydro</th>\n",
       "    </tr>\n",
       "    <tr>\n",
       "      <th>DT</th>\n",
       "      <th></th>\n",
       "      <th></th>\n",
       "      <th></th>\n",
       "      <th></th>\n",
       "      <th></th>\n",
       "      <th></th>\n",
       "      <th></th>\n",
       "      <th></th>\n",
       "      <th></th>\n",
       "      <th></th>\n",
       "      <th></th>\n",
       "      <th></th>\n",
       "      <th></th>\n",
       "    </tr>\n",
       "  </thead>\n",
       "  <tbody>\n",
       "    <tr>\n",
       "      <th>2017-07-01 00:00:00</th>\n",
       "      <td>0</td>\n",
       "      <td>1025</td>\n",
       "      <td>226</td>\n",
       "      <td>184</td>\n",
       "      <td>482</td>\n",
       "      <td>3629</td>\n",
       "      <td>0</td>\n",
       "      <td>0</td>\n",
       "      <td>5514</td>\n",
       "      <td>2277</td>\n",
       "      <td>6182</td>\n",
       "      <td>7510</td>\n",
       "      <td>4075</td>\n",
       "    </tr>\n",
       "    <tr>\n",
       "      <th>2017-07-01 01:00:00</th>\n",
       "      <td>1</td>\n",
       "      <td>1025</td>\n",
       "      <td>226</td>\n",
       "      <td>184</td>\n",
       "      <td>481</td>\n",
       "      <td>3575</td>\n",
       "      <td>0</td>\n",
       "      <td>0</td>\n",
       "      <td>5491</td>\n",
       "      <td>2278</td>\n",
       "      <td>4715</td>\n",
       "      <td>7377</td>\n",
       "      <td>4074</td>\n",
       "    </tr>\n",
       "    <tr>\n",
       "      <th>2017-07-01 02:00:00</th>\n",
       "      <td>2</td>\n",
       "      <td>1025</td>\n",
       "      <td>228</td>\n",
       "      <td>185</td>\n",
       "      <td>477</td>\n",
       "      <td>3630</td>\n",
       "      <td>0</td>\n",
       "      <td>0</td>\n",
       "      <td>5545</td>\n",
       "      <td>2278</td>\n",
       "      <td>3625</td>\n",
       "      <td>7411</td>\n",
       "      <td>4068</td>\n",
       "    </tr>\n",
       "  </tbody>\n",
       "</table>\n",
       "</div>"
      ],
      "text/plain": [
       "                     hour   geo  biom  biog  shydro  wind  solarPV  sTH  \\\n",
       "DT                                                                        \n",
       "2017-07-01 00:00:00     0  1025   226   184     482  3629        0    0   \n",
       "2017-07-01 01:00:00     1  1025   226   184     481  3575        0    0   \n",
       "2017-07-01 02:00:00     2  1025   228   185     477  3630        0    0   \n",
       "\n",
       "                     srnwbls  nucl  thermal  imports  lhydro  \n",
       "DT                                                            \n",
       "2017-07-01 00:00:00     5514  2277     6182     7510    4075  \n",
       "2017-07-01 01:00:00     5491  2278     4715     7377    4074  \n",
       "2017-07-01 02:00:00     5545  2278     3625     7411    4068  "
      ]
     },
     "execution_count": 86,
     "metadata": {},
     "output_type": "execute_result"
    }
   ],
   "source": [
    "print(len(dfgc)) # the number of hours spanned (here for 18 months)\n",
    "dfc.head(3)"
   ]
  },
  {
   "cell_type": "code",
   "execution_count": 87,
   "metadata": {},
   "outputs": [],
   "source": [
    "# we need to merge with CAISO prices! (DT is still a column and load is already introduced as a variable)"
   ]
  },
  {
   "cell_type": "code",
   "execution_count": 83,
   "metadata": {},
   "outputs": [
    {
     "data": {
      "text/html": [
       "<div>\n",
       "<style scoped>\n",
       "    .dataframe tbody tr th:only-of-type {\n",
       "        vertical-align: middle;\n",
       "    }\n",
       "\n",
       "    .dataframe tbody tr th {\n",
       "        vertical-align: top;\n",
       "    }\n",
       "\n",
       "    .dataframe thead th {\n",
       "        text-align: right;\n",
       "    }\n",
       "</style>\n",
       "<table border=\"1\" class=\"dataframe\">\n",
       "  <thead>\n",
       "    <tr style=\"text-align: right;\">\n",
       "      <th></th>\n",
       "      <th>hour</th>\n",
       "      <th>price</th>\n",
       "      <th>day</th>\n",
       "    </tr>\n",
       "    <tr>\n",
       "      <th>date</th>\n",
       "      <th></th>\n",
       "      <th></th>\n",
       "      <th></th>\n",
       "    </tr>\n",
       "  </thead>\n",
       "  <tbody>\n",
       "    <tr>\n",
       "      <th>2017-01-01 08:00:00</th>\n",
       "      <td>1</td>\n",
       "      <td>32.19913</td>\n",
       "      <td>2017-01-01</td>\n",
       "    </tr>\n",
       "    <tr>\n",
       "      <th>2017-01-01 09:00:00</th>\n",
       "      <td>2</td>\n",
       "      <td>32.06740</td>\n",
       "      <td>2017-01-01</td>\n",
       "    </tr>\n",
       "    <tr>\n",
       "      <th>2017-01-01 10:00:00</th>\n",
       "      <td>3</td>\n",
       "      <td>31.92218</td>\n",
       "      <td>2017-01-01</td>\n",
       "    </tr>\n",
       "  </tbody>\n",
       "</table>\n",
       "</div>"
      ],
      "text/plain": [
       "                     hour     price        day\n",
       "date                                          \n",
       "2017-01-01 08:00:00     1  32.19913 2017-01-01\n",
       "2017-01-01 09:00:00     2  32.06740 2017-01-01\n",
       "2017-01-01 10:00:00     3  31.92218 2017-01-01"
      ]
     },
     "execution_count": 83,
     "metadata": {},
     "output_type": "execute_result"
    }
   ],
   "source": [
    "get_price_series(H1_17).head(3) # we need to create a CA time datetime index, "
   ]
  },
  {
   "cell_type": "code",
   "execution_count": 101,
   "metadata": {},
   "outputs": [],
   "source": [
    "dfpc= pd.concat([get_price_series(H2_17),get_price_series(H1_18),get_price_series(H2_18)])# Prices Consolidated"
   ]
  },
  {
   "cell_type": "code",
   "execution_count": 102,
   "metadata": {},
   "outputs": [],
   "source": [
    "dfpc.hour= dfpc.hour.astype('category') # even though now a categorical variable, still no broadcasting!"
   ]
  },
  {
   "cell_type": "code",
   "execution_count": 103,
   "metadata": {},
   "outputs": [
    {
     "name": "stdout",
     "output_type": "stream",
     "text": [
      "<class 'pandas.core.frame.DataFrame'>\n",
      "DatetimeIndex: 13177 entries, 2017-07-01 07:00:00 to 2019-01-01 07:00:00\n",
      "Data columns (total 3 columns):\n",
      "hour     13177 non-null category\n",
      "price    13177 non-null float64\n",
      "day      13177 non-null datetime64[ns]\n",
      "dtypes: category(1), datetime64[ns](1), float64(1)\n",
      "memory usage: 322.5 KB\n"
     ]
    }
   ],
   "source": [
    "dfpc.info()"
   ]
  },
  {
   "cell_type": "code",
   "execution_count": 105,
   "metadata": {
    "scrolled": false
   },
   "outputs": [],
   "source": [
    "dfpc= dfpc.pivot(index= 'day',columns= 'hour', values= 'price')\n"
   ]
  },
  {
   "cell_type": "code",
   "execution_count": null,
   "metadata": {},
   "outputs": [],
   "source": []
  },
  {
   "cell_type": "code",
   "execution_count": 106,
   "metadata": {},
   "outputs": [],
   "source": [
    "dfpc.columns= ['00','01','02','03','04','05','06','07','08','09','10','11','12','13','14','15','16','17','18','19',\n",
    "            '20','21','22','23','25'] # ValueError: Length of values does not match length of index: NO BROADCASTING!!"
   ]
  },
  {
   "cell_type": "code",
   "execution_count": null,
   "metadata": {},
   "outputs": [],
   "source": []
  },
  {
   "cell_type": "code",
   "execution_count": 107,
   "metadata": {},
   "outputs": [
    {
     "data": {
      "text/html": [
       "<div>\n",
       "<style scoped>\n",
       "    .dataframe tbody tr th:only-of-type {\n",
       "        vertical-align: middle;\n",
       "    }\n",
       "\n",
       "    .dataframe tbody tr th {\n",
       "        vertical-align: top;\n",
       "    }\n",
       "\n",
       "    .dataframe thead th {\n",
       "        text-align: right;\n",
       "    }\n",
       "</style>\n",
       "<table border=\"1\" class=\"dataframe\">\n",
       "  <thead>\n",
       "    <tr style=\"text-align: right;\">\n",
       "      <th></th>\n",
       "      <th>00</th>\n",
       "      <th>01</th>\n",
       "      <th>02</th>\n",
       "      <th>03</th>\n",
       "      <th>04</th>\n",
       "      <th>05</th>\n",
       "      <th>06</th>\n",
       "      <th>07</th>\n",
       "      <th>08</th>\n",
       "      <th>09</th>\n",
       "      <th>...</th>\n",
       "      <th>15</th>\n",
       "      <th>16</th>\n",
       "      <th>17</th>\n",
       "      <th>18</th>\n",
       "      <th>19</th>\n",
       "      <th>20</th>\n",
       "      <th>21</th>\n",
       "      <th>22</th>\n",
       "      <th>23</th>\n",
       "      <th>25</th>\n",
       "    </tr>\n",
       "    <tr>\n",
       "      <th>day</th>\n",
       "      <th></th>\n",
       "      <th></th>\n",
       "      <th></th>\n",
       "      <th></th>\n",
       "      <th></th>\n",
       "      <th></th>\n",
       "      <th></th>\n",
       "      <th></th>\n",
       "      <th></th>\n",
       "      <th></th>\n",
       "      <th></th>\n",
       "      <th></th>\n",
       "      <th></th>\n",
       "      <th></th>\n",
       "      <th></th>\n",
       "      <th></th>\n",
       "      <th></th>\n",
       "      <th></th>\n",
       "      <th></th>\n",
       "      <th></th>\n",
       "      <th></th>\n",
       "    </tr>\n",
       "  </thead>\n",
       "  <tbody>\n",
       "    <tr>\n",
       "      <th>2017-07-01</th>\n",
       "      <td>30.45000</td>\n",
       "      <td>25.01777</td>\n",
       "      <td>27.22040</td>\n",
       "      <td>23.83924</td>\n",
       "      <td>23.71329</td>\n",
       "      <td>24.86218</td>\n",
       "      <td>20.90412</td>\n",
       "      <td>13.97944</td>\n",
       "      <td>10.51006</td>\n",
       "      <td>13.45180</td>\n",
       "      <td>...</td>\n",
       "      <td>27.91586</td>\n",
       "      <td>31.00000</td>\n",
       "      <td>34.24536</td>\n",
       "      <td>39.74598</td>\n",
       "      <td>50.46233</td>\n",
       "      <td>48.73126</td>\n",
       "      <td>41.38012</td>\n",
       "      <td>32.14099</td>\n",
       "      <td>29.07179</td>\n",
       "      <td>NaN</td>\n",
       "    </tr>\n",
       "    <tr>\n",
       "      <th>2017-07-02</th>\n",
       "      <td>25.51645</td>\n",
       "      <td>23.38522</td>\n",
       "      <td>25.42727</td>\n",
       "      <td>24.75996</td>\n",
       "      <td>24.80005</td>\n",
       "      <td>25.16132</td>\n",
       "      <td>21.89304</td>\n",
       "      <td>11.80617</td>\n",
       "      <td>9.11610</td>\n",
       "      <td>9.59645</td>\n",
       "      <td>...</td>\n",
       "      <td>27.73144</td>\n",
       "      <td>29.73995</td>\n",
       "      <td>32.88751</td>\n",
       "      <td>39.65068</td>\n",
       "      <td>50.86344</td>\n",
       "      <td>50.68040</td>\n",
       "      <td>42.61538</td>\n",
       "      <td>32.01566</td>\n",
       "      <td>27.20471</td>\n",
       "      <td>NaN</td>\n",
       "    </tr>\n",
       "  </tbody>\n",
       "</table>\n",
       "<p>2 rows × 25 columns</p>\n",
       "</div>"
      ],
      "text/plain": [
       "                  00        01        02        03        04        05  \\\n",
       "day                                                                      \n",
       "2017-07-01  30.45000  25.01777  27.22040  23.83924  23.71329  24.86218   \n",
       "2017-07-02  25.51645  23.38522  25.42727  24.75996  24.80005  25.16132   \n",
       "\n",
       "                  06        07        08        09 ...        15        16  \\\n",
       "day                                                ...                       \n",
       "2017-07-01  20.90412  13.97944  10.51006  13.45180 ...  27.91586  31.00000   \n",
       "2017-07-02  21.89304  11.80617   9.11610   9.59645 ...  27.73144  29.73995   \n",
       "\n",
       "                  17        18        19        20        21        22  \\\n",
       "day                                                                      \n",
       "2017-07-01  34.24536  39.74598  50.46233  48.73126  41.38012  32.14099   \n",
       "2017-07-02  32.88751  39.65068  50.86344  50.68040  42.61538  32.01566   \n",
       "\n",
       "                  23  25  \n",
       "day                       \n",
       "2017-07-01  29.07179 NaN  \n",
       "2017-07-02  27.20471 NaN  \n",
       "\n",
       "[2 rows x 25 columns]"
      ]
     },
     "execution_count": 107,
     "metadata": {},
     "output_type": "execute_result"
    }
   ],
   "source": [
    "dfpc.head(2)"
   ]
  },
  {
   "cell_type": "code",
   "execution_count": 108,
   "metadata": {},
   "outputs": [],
   "source": [
    "dfpc= dfpc.drop(['25'],axis=1)"
   ]
  },
  {
   "cell_type": "code",
   "execution_count": 109,
   "metadata": {},
   "outputs": [
    {
     "data": {
      "text/html": [
       "<div>\n",
       "<style scoped>\n",
       "    .dataframe tbody tr th:only-of-type {\n",
       "        vertical-align: middle;\n",
       "    }\n",
       "\n",
       "    .dataframe tbody tr th {\n",
       "        vertical-align: top;\n",
       "    }\n",
       "\n",
       "    .dataframe thead th {\n",
       "        text-align: right;\n",
       "    }\n",
       "</style>\n",
       "<table border=\"1\" class=\"dataframe\">\n",
       "  <thead>\n",
       "    <tr style=\"text-align: right;\">\n",
       "      <th></th>\n",
       "      <th>00</th>\n",
       "      <th>01</th>\n",
       "      <th>02</th>\n",
       "      <th>03</th>\n",
       "      <th>04</th>\n",
       "      <th>05</th>\n",
       "      <th>06</th>\n",
       "      <th>07</th>\n",
       "      <th>08</th>\n",
       "      <th>09</th>\n",
       "      <th>...</th>\n",
       "      <th>14</th>\n",
       "      <th>15</th>\n",
       "      <th>16</th>\n",
       "      <th>17</th>\n",
       "      <th>18</th>\n",
       "      <th>19</th>\n",
       "      <th>20</th>\n",
       "      <th>21</th>\n",
       "      <th>22</th>\n",
       "      <th>23</th>\n",
       "    </tr>\n",
       "    <tr>\n",
       "      <th>day</th>\n",
       "      <th></th>\n",
       "      <th></th>\n",
       "      <th></th>\n",
       "      <th></th>\n",
       "      <th></th>\n",
       "      <th></th>\n",
       "      <th></th>\n",
       "      <th></th>\n",
       "      <th></th>\n",
       "      <th></th>\n",
       "      <th></th>\n",
       "      <th></th>\n",
       "      <th></th>\n",
       "      <th></th>\n",
       "      <th></th>\n",
       "      <th></th>\n",
       "      <th></th>\n",
       "      <th></th>\n",
       "      <th></th>\n",
       "      <th></th>\n",
       "      <th></th>\n",
       "    </tr>\n",
       "  </thead>\n",
       "  <tbody>\n",
       "    <tr>\n",
       "      <th>2017-07-01</th>\n",
       "      <td>30.45000</td>\n",
       "      <td>25.01777</td>\n",
       "      <td>27.22040</td>\n",
       "      <td>23.83924</td>\n",
       "      <td>23.71329</td>\n",
       "      <td>24.86218</td>\n",
       "      <td>20.90412</td>\n",
       "      <td>13.97944</td>\n",
       "      <td>10.51006</td>\n",
       "      <td>13.45180</td>\n",
       "      <td>...</td>\n",
       "      <td>26.21352</td>\n",
       "      <td>27.91586</td>\n",
       "      <td>31.00000</td>\n",
       "      <td>34.24536</td>\n",
       "      <td>39.74598</td>\n",
       "      <td>50.46233</td>\n",
       "      <td>48.73126</td>\n",
       "      <td>41.38012</td>\n",
       "      <td>32.14099</td>\n",
       "      <td>29.07179</td>\n",
       "    </tr>\n",
       "    <tr>\n",
       "      <th>2017-07-02</th>\n",
       "      <td>25.51645</td>\n",
       "      <td>23.38522</td>\n",
       "      <td>25.42727</td>\n",
       "      <td>24.75996</td>\n",
       "      <td>24.80005</td>\n",
       "      <td>25.16132</td>\n",
       "      <td>21.89304</td>\n",
       "      <td>11.80617</td>\n",
       "      <td>9.11610</td>\n",
       "      <td>9.59645</td>\n",
       "      <td>...</td>\n",
       "      <td>23.49277</td>\n",
       "      <td>27.73144</td>\n",
       "      <td>29.73995</td>\n",
       "      <td>32.88751</td>\n",
       "      <td>39.65068</td>\n",
       "      <td>50.86344</td>\n",
       "      <td>50.68040</td>\n",
       "      <td>42.61538</td>\n",
       "      <td>32.01566</td>\n",
       "      <td>27.20471</td>\n",
       "    </tr>\n",
       "  </tbody>\n",
       "</table>\n",
       "<p>2 rows × 24 columns</p>\n",
       "</div>"
      ],
      "text/plain": [
       "                  00        01        02        03        04        05  \\\n",
       "day                                                                      \n",
       "2017-07-01  30.45000  25.01777  27.22040  23.83924  23.71329  24.86218   \n",
       "2017-07-02  25.51645  23.38522  25.42727  24.75996  24.80005  25.16132   \n",
       "\n",
       "                  06        07        08        09    ...           14  \\\n",
       "day                                                   ...                \n",
       "2017-07-01  20.90412  13.97944  10.51006  13.45180    ...     26.21352   \n",
       "2017-07-02  21.89304  11.80617   9.11610   9.59645    ...     23.49277   \n",
       "\n",
       "                  15        16        17        18        19        20  \\\n",
       "day                                                                      \n",
       "2017-07-01  27.91586  31.00000  34.24536  39.74598  50.46233  48.73126   \n",
       "2017-07-02  27.73144  29.73995  32.88751  39.65068  50.86344  50.68040   \n",
       "\n",
       "                  21        22        23  \n",
       "day                                       \n",
       "2017-07-01  41.38012  32.14099  29.07179  \n",
       "2017-07-02  42.61538  32.01566  27.20471  \n",
       "\n",
       "[2 rows x 24 columns]"
      ]
     },
     "execution_count": 109,
     "metadata": {},
     "output_type": "execute_result"
    }
   ],
   "source": [
    "dfpc.head(2)"
   ]
  },
  {
   "cell_type": "code",
   "execution_count": null,
   "metadata": {},
   "outputs": [],
   "source": [
    "# dfpc=# fpc.melt(['id_vars=None', 'value_vars=None', 'var_name=None', \"value_name='value'\","
   ]
  },
  {
   "cell_type": "code",
   "execution_count": 114,
   "metadata": {
    "collapsed": true
   },
   "outputs": [
    {
     "ename": "KeyError",
     "evalue": "'day'",
     "output_type": "error",
     "traceback": [
      "\u001b[0;31m---------------------------------------------------------------------------\u001b[0m",
      "\u001b[0;31mKeyError\u001b[0m                                  Traceback (most recent call last)",
      "\u001b[0;32m/anaconda3/lib/python3.7/site-packages/pandas/core/indexes/base.py\u001b[0m in \u001b[0;36mget_loc\u001b[0;34m(self, key, method, tolerance)\u001b[0m\n\u001b[1;32m   3077\u001b[0m             \u001b[0;32mtry\u001b[0m\u001b[0;34m:\u001b[0m\u001b[0;34m\u001b[0m\u001b[0;34m\u001b[0m\u001b[0m\n\u001b[0;32m-> 3078\u001b[0;31m                 \u001b[0;32mreturn\u001b[0m \u001b[0mself\u001b[0m\u001b[0;34m.\u001b[0m\u001b[0m_engine\u001b[0m\u001b[0;34m.\u001b[0m\u001b[0mget_loc\u001b[0m\u001b[0;34m(\u001b[0m\u001b[0mkey\u001b[0m\u001b[0;34m)\u001b[0m\u001b[0;34m\u001b[0m\u001b[0;34m\u001b[0m\u001b[0m\n\u001b[0m\u001b[1;32m   3079\u001b[0m             \u001b[0;32mexcept\u001b[0m \u001b[0mKeyError\u001b[0m\u001b[0;34m:\u001b[0m\u001b[0;34m\u001b[0m\u001b[0;34m\u001b[0m\u001b[0m\n",
      "\u001b[0;32mpandas/_libs/index.pyx\u001b[0m in \u001b[0;36mpandas._libs.index.IndexEngine.get_loc\u001b[0;34m()\u001b[0m\n",
      "\u001b[0;32mpandas/_libs/index.pyx\u001b[0m in \u001b[0;36mpandas._libs.index.IndexEngine.get_loc\u001b[0;34m()\u001b[0m\n",
      "\u001b[0;32mpandas/_libs/hashtable_class_helper.pxi\u001b[0m in \u001b[0;36mpandas._libs.hashtable.PyObjectHashTable.get_item\u001b[0;34m()\u001b[0m\n",
      "\u001b[0;32mpandas/_libs/hashtable_class_helper.pxi\u001b[0m in \u001b[0;36mpandas._libs.hashtable.PyObjectHashTable.get_item\u001b[0;34m()\u001b[0m\n",
      "\u001b[0;31mKeyError\u001b[0m: 'day'",
      "\nDuring handling of the above exception, another exception occurred:\n",
      "\u001b[0;31mKeyError\u001b[0m                                  Traceback (most recent call last)",
      "\u001b[0;32m<ipython-input-114-05b99c016bec>\u001b[0m in \u001b[0;36m<module>\u001b[0;34m\u001b[0m\n\u001b[0;32m----> 1\u001b[0;31m \u001b[0mdfpc\u001b[0m\u001b[0;34m.\u001b[0m\u001b[0mmelt\u001b[0m\u001b[0;34m(\u001b[0m\u001b[0mid_vars\u001b[0m\u001b[0;34m=\u001b[0m \u001b[0;34m'day'\u001b[0m\u001b[0;34m,\u001b[0m \u001b[0mvalue_vars\u001b[0m\u001b[0;34m=\u001b[0m\u001b[0;32mNone\u001b[0m\u001b[0;34m,\u001b[0m \u001b[0mvar_name\u001b[0m\u001b[0;34m=\u001b[0m\u001b[0;34m'hour'\u001b[0m\u001b[0;34m,\u001b[0m \u001b[0mvalue_name\u001b[0m\u001b[0;34m=\u001b[0m \u001b[0;34m'price'\u001b[0m\u001b[0;34m)\u001b[0m\u001b[0;34m\u001b[0m\u001b[0;34m\u001b[0m\u001b[0m\n\u001b[0m",
      "\u001b[0;32m/anaconda3/lib/python3.7/site-packages/pandas/core/frame.py\u001b[0m in \u001b[0;36mmelt\u001b[0;34m(self, id_vars, value_vars, var_name, value_name, col_level)\u001b[0m\n\u001b[1;32m   5636\u001b[0m         return melt(self, id_vars=id_vars, value_vars=value_vars,\n\u001b[1;32m   5637\u001b[0m                     \u001b[0mvar_name\u001b[0m\u001b[0;34m=\u001b[0m\u001b[0mvar_name\u001b[0m\u001b[0;34m,\u001b[0m \u001b[0mvalue_name\u001b[0m\u001b[0;34m=\u001b[0m\u001b[0mvalue_name\u001b[0m\u001b[0;34m,\u001b[0m\u001b[0;34m\u001b[0m\u001b[0;34m\u001b[0m\u001b[0m\n\u001b[0;32m-> 5638\u001b[0;31m                     col_level=col_level)\n\u001b[0m\u001b[1;32m   5639\u001b[0m \u001b[0;34m\u001b[0m\u001b[0m\n\u001b[1;32m   5640\u001b[0m     \u001b[0;31m# ----------------------------------------------------------------------\u001b[0m\u001b[0;34m\u001b[0m\u001b[0;34m\u001b[0m\u001b[0;34m\u001b[0m\u001b[0m\n",
      "\u001b[0;32m/anaconda3/lib/python3.7/site-packages/pandas/core/reshape/melt.py\u001b[0m in \u001b[0;36mmelt\u001b[0;34m(frame, id_vars, value_vars, var_name, value_name, col_level)\u001b[0m\n\u001b[1;32m     73\u001b[0m     \u001b[0mmdata\u001b[0m \u001b[0;34m=\u001b[0m \u001b[0;34m{\u001b[0m\u001b[0;34m}\u001b[0m\u001b[0;34m\u001b[0m\u001b[0;34m\u001b[0m\u001b[0m\n\u001b[1;32m     74\u001b[0m     \u001b[0;32mfor\u001b[0m \u001b[0mcol\u001b[0m \u001b[0;32min\u001b[0m \u001b[0mid_vars\u001b[0m\u001b[0;34m:\u001b[0m\u001b[0;34m\u001b[0m\u001b[0;34m\u001b[0m\u001b[0m\n\u001b[0;32m---> 75\u001b[0;31m         \u001b[0mid_data\u001b[0m \u001b[0;34m=\u001b[0m \u001b[0mframe\u001b[0m\u001b[0;34m.\u001b[0m\u001b[0mpop\u001b[0m\u001b[0;34m(\u001b[0m\u001b[0mcol\u001b[0m\u001b[0;34m)\u001b[0m\u001b[0;34m\u001b[0m\u001b[0;34m\u001b[0m\u001b[0m\n\u001b[0m\u001b[1;32m     76\u001b[0m         \u001b[0;32mif\u001b[0m \u001b[0mis_extension_type\u001b[0m\u001b[0;34m(\u001b[0m\u001b[0mid_data\u001b[0m\u001b[0;34m)\u001b[0m\u001b[0;34m:\u001b[0m\u001b[0;34m\u001b[0m\u001b[0;34m\u001b[0m\u001b[0m\n\u001b[1;32m     77\u001b[0m             \u001b[0mid_data\u001b[0m \u001b[0;34m=\u001b[0m \u001b[0mconcat\u001b[0m\u001b[0;34m(\u001b[0m\u001b[0;34m[\u001b[0m\u001b[0mid_data\u001b[0m\u001b[0;34m]\u001b[0m \u001b[0;34m*\u001b[0m \u001b[0mK\u001b[0m\u001b[0;34m,\u001b[0m \u001b[0mignore_index\u001b[0m\u001b[0;34m=\u001b[0m\u001b[0;32mTrue\u001b[0m\u001b[0;34m)\u001b[0m\u001b[0;34m\u001b[0m\u001b[0;34m\u001b[0m\u001b[0m\n",
      "\u001b[0;32m/anaconda3/lib/python3.7/site-packages/pandas/core/generic.py\u001b[0m in \u001b[0;36mpop\u001b[0;34m(self, item)\u001b[0m\n\u001b[1;32m    758\u001b[0m         \u001b[0;36m3\u001b[0m  \u001b[0mmonkey\u001b[0m        \u001b[0mNaN\u001b[0m\u001b[0;34m\u001b[0m\u001b[0;34m\u001b[0m\u001b[0m\n\u001b[1;32m    759\u001b[0m         \"\"\"\n\u001b[0;32m--> 760\u001b[0;31m         \u001b[0mresult\u001b[0m \u001b[0;34m=\u001b[0m \u001b[0mself\u001b[0m\u001b[0;34m[\u001b[0m\u001b[0mitem\u001b[0m\u001b[0;34m]\u001b[0m\u001b[0;34m\u001b[0m\u001b[0;34m\u001b[0m\u001b[0m\n\u001b[0m\u001b[1;32m    761\u001b[0m         \u001b[0;32mdel\u001b[0m \u001b[0mself\u001b[0m\u001b[0;34m[\u001b[0m\u001b[0mitem\u001b[0m\u001b[0;34m]\u001b[0m\u001b[0;34m\u001b[0m\u001b[0;34m\u001b[0m\u001b[0m\n\u001b[1;32m    762\u001b[0m         \u001b[0;32mtry\u001b[0m\u001b[0;34m:\u001b[0m\u001b[0;34m\u001b[0m\u001b[0;34m\u001b[0m\u001b[0m\n",
      "\u001b[0;32m/anaconda3/lib/python3.7/site-packages/pandas/core/frame.py\u001b[0m in \u001b[0;36m__getitem__\u001b[0;34m(self, key)\u001b[0m\n\u001b[1;32m   2686\u001b[0m             \u001b[0;32mreturn\u001b[0m \u001b[0mself\u001b[0m\u001b[0;34m.\u001b[0m\u001b[0m_getitem_multilevel\u001b[0m\u001b[0;34m(\u001b[0m\u001b[0mkey\u001b[0m\u001b[0;34m)\u001b[0m\u001b[0;34m\u001b[0m\u001b[0;34m\u001b[0m\u001b[0m\n\u001b[1;32m   2687\u001b[0m         \u001b[0;32melse\u001b[0m\u001b[0;34m:\u001b[0m\u001b[0;34m\u001b[0m\u001b[0;34m\u001b[0m\u001b[0m\n\u001b[0;32m-> 2688\u001b[0;31m             \u001b[0;32mreturn\u001b[0m \u001b[0mself\u001b[0m\u001b[0;34m.\u001b[0m\u001b[0m_getitem_column\u001b[0m\u001b[0;34m(\u001b[0m\u001b[0mkey\u001b[0m\u001b[0;34m)\u001b[0m\u001b[0;34m\u001b[0m\u001b[0;34m\u001b[0m\u001b[0m\n\u001b[0m\u001b[1;32m   2689\u001b[0m \u001b[0;34m\u001b[0m\u001b[0m\n\u001b[1;32m   2690\u001b[0m     \u001b[0;32mdef\u001b[0m \u001b[0m_getitem_column\u001b[0m\u001b[0;34m(\u001b[0m\u001b[0mself\u001b[0m\u001b[0;34m,\u001b[0m \u001b[0mkey\u001b[0m\u001b[0;34m)\u001b[0m\u001b[0;34m:\u001b[0m\u001b[0;34m\u001b[0m\u001b[0;34m\u001b[0m\u001b[0m\n",
      "\u001b[0;32m/anaconda3/lib/python3.7/site-packages/pandas/core/frame.py\u001b[0m in \u001b[0;36m_getitem_column\u001b[0;34m(self, key)\u001b[0m\n\u001b[1;32m   2693\u001b[0m         \u001b[0;31m# get column\u001b[0m\u001b[0;34m\u001b[0m\u001b[0;34m\u001b[0m\u001b[0;34m\u001b[0m\u001b[0m\n\u001b[1;32m   2694\u001b[0m         \u001b[0;32mif\u001b[0m \u001b[0mself\u001b[0m\u001b[0;34m.\u001b[0m\u001b[0mcolumns\u001b[0m\u001b[0;34m.\u001b[0m\u001b[0mis_unique\u001b[0m\u001b[0;34m:\u001b[0m\u001b[0;34m\u001b[0m\u001b[0;34m\u001b[0m\u001b[0m\n\u001b[0;32m-> 2695\u001b[0;31m             \u001b[0;32mreturn\u001b[0m \u001b[0mself\u001b[0m\u001b[0;34m.\u001b[0m\u001b[0m_get_item_cache\u001b[0m\u001b[0;34m(\u001b[0m\u001b[0mkey\u001b[0m\u001b[0;34m)\u001b[0m\u001b[0;34m\u001b[0m\u001b[0;34m\u001b[0m\u001b[0m\n\u001b[0m\u001b[1;32m   2696\u001b[0m \u001b[0;34m\u001b[0m\u001b[0m\n\u001b[1;32m   2697\u001b[0m         \u001b[0;31m# duplicate columns & possible reduce dimensionality\u001b[0m\u001b[0;34m\u001b[0m\u001b[0;34m\u001b[0m\u001b[0;34m\u001b[0m\u001b[0m\n",
      "\u001b[0;32m/anaconda3/lib/python3.7/site-packages/pandas/core/generic.py\u001b[0m in \u001b[0;36m_get_item_cache\u001b[0;34m(self, item)\u001b[0m\n\u001b[1;32m   2487\u001b[0m         \u001b[0mres\u001b[0m \u001b[0;34m=\u001b[0m \u001b[0mcache\u001b[0m\u001b[0;34m.\u001b[0m\u001b[0mget\u001b[0m\u001b[0;34m(\u001b[0m\u001b[0mitem\u001b[0m\u001b[0;34m)\u001b[0m\u001b[0;34m\u001b[0m\u001b[0;34m\u001b[0m\u001b[0m\n\u001b[1;32m   2488\u001b[0m         \u001b[0;32mif\u001b[0m \u001b[0mres\u001b[0m \u001b[0;32mis\u001b[0m \u001b[0;32mNone\u001b[0m\u001b[0;34m:\u001b[0m\u001b[0;34m\u001b[0m\u001b[0;34m\u001b[0m\u001b[0m\n\u001b[0;32m-> 2489\u001b[0;31m             \u001b[0mvalues\u001b[0m \u001b[0;34m=\u001b[0m \u001b[0mself\u001b[0m\u001b[0;34m.\u001b[0m\u001b[0m_data\u001b[0m\u001b[0;34m.\u001b[0m\u001b[0mget\u001b[0m\u001b[0;34m(\u001b[0m\u001b[0mitem\u001b[0m\u001b[0;34m)\u001b[0m\u001b[0;34m\u001b[0m\u001b[0;34m\u001b[0m\u001b[0m\n\u001b[0m\u001b[1;32m   2490\u001b[0m             \u001b[0mres\u001b[0m \u001b[0;34m=\u001b[0m \u001b[0mself\u001b[0m\u001b[0;34m.\u001b[0m\u001b[0m_box_item_values\u001b[0m\u001b[0;34m(\u001b[0m\u001b[0mitem\u001b[0m\u001b[0;34m,\u001b[0m \u001b[0mvalues\u001b[0m\u001b[0;34m)\u001b[0m\u001b[0;34m\u001b[0m\u001b[0;34m\u001b[0m\u001b[0m\n\u001b[1;32m   2491\u001b[0m             \u001b[0mcache\u001b[0m\u001b[0;34m[\u001b[0m\u001b[0mitem\u001b[0m\u001b[0;34m]\u001b[0m \u001b[0;34m=\u001b[0m \u001b[0mres\u001b[0m\u001b[0;34m\u001b[0m\u001b[0;34m\u001b[0m\u001b[0m\n",
      "\u001b[0;32m/anaconda3/lib/python3.7/site-packages/pandas/core/internals.py\u001b[0m in \u001b[0;36mget\u001b[0;34m(self, item, fastpath)\u001b[0m\n\u001b[1;32m   4113\u001b[0m \u001b[0;34m\u001b[0m\u001b[0m\n\u001b[1;32m   4114\u001b[0m             \u001b[0;32mif\u001b[0m \u001b[0;32mnot\u001b[0m \u001b[0misna\u001b[0m\u001b[0;34m(\u001b[0m\u001b[0mitem\u001b[0m\u001b[0;34m)\u001b[0m\u001b[0;34m:\u001b[0m\u001b[0;34m\u001b[0m\u001b[0;34m\u001b[0m\u001b[0m\n\u001b[0;32m-> 4115\u001b[0;31m                 \u001b[0mloc\u001b[0m \u001b[0;34m=\u001b[0m \u001b[0mself\u001b[0m\u001b[0;34m.\u001b[0m\u001b[0mitems\u001b[0m\u001b[0;34m.\u001b[0m\u001b[0mget_loc\u001b[0m\u001b[0;34m(\u001b[0m\u001b[0mitem\u001b[0m\u001b[0;34m)\u001b[0m\u001b[0;34m\u001b[0m\u001b[0;34m\u001b[0m\u001b[0m\n\u001b[0m\u001b[1;32m   4116\u001b[0m             \u001b[0;32melse\u001b[0m\u001b[0;34m:\u001b[0m\u001b[0;34m\u001b[0m\u001b[0;34m\u001b[0m\u001b[0m\n\u001b[1;32m   4117\u001b[0m                 \u001b[0mindexer\u001b[0m \u001b[0;34m=\u001b[0m \u001b[0mnp\u001b[0m\u001b[0;34m.\u001b[0m\u001b[0marange\u001b[0m\u001b[0;34m(\u001b[0m\u001b[0mlen\u001b[0m\u001b[0;34m(\u001b[0m\u001b[0mself\u001b[0m\u001b[0;34m.\u001b[0m\u001b[0mitems\u001b[0m\u001b[0;34m)\u001b[0m\u001b[0;34m)\u001b[0m\u001b[0;34m[\u001b[0m\u001b[0misna\u001b[0m\u001b[0;34m(\u001b[0m\u001b[0mself\u001b[0m\u001b[0;34m.\u001b[0m\u001b[0mitems\u001b[0m\u001b[0;34m)\u001b[0m\u001b[0;34m]\u001b[0m\u001b[0;34m\u001b[0m\u001b[0;34m\u001b[0m\u001b[0m\n",
      "\u001b[0;32m/anaconda3/lib/python3.7/site-packages/pandas/core/indexes/base.py\u001b[0m in \u001b[0;36mget_loc\u001b[0;34m(self, key, method, tolerance)\u001b[0m\n\u001b[1;32m   3078\u001b[0m                 \u001b[0;32mreturn\u001b[0m \u001b[0mself\u001b[0m\u001b[0;34m.\u001b[0m\u001b[0m_engine\u001b[0m\u001b[0;34m.\u001b[0m\u001b[0mget_loc\u001b[0m\u001b[0;34m(\u001b[0m\u001b[0mkey\u001b[0m\u001b[0;34m)\u001b[0m\u001b[0;34m\u001b[0m\u001b[0;34m\u001b[0m\u001b[0m\n\u001b[1;32m   3079\u001b[0m             \u001b[0;32mexcept\u001b[0m \u001b[0mKeyError\u001b[0m\u001b[0;34m:\u001b[0m\u001b[0;34m\u001b[0m\u001b[0;34m\u001b[0m\u001b[0m\n\u001b[0;32m-> 3080\u001b[0;31m                 \u001b[0;32mreturn\u001b[0m \u001b[0mself\u001b[0m\u001b[0;34m.\u001b[0m\u001b[0m_engine\u001b[0m\u001b[0;34m.\u001b[0m\u001b[0mget_loc\u001b[0m\u001b[0;34m(\u001b[0m\u001b[0mself\u001b[0m\u001b[0;34m.\u001b[0m\u001b[0m_maybe_cast_indexer\u001b[0m\u001b[0;34m(\u001b[0m\u001b[0mkey\u001b[0m\u001b[0;34m)\u001b[0m\u001b[0;34m)\u001b[0m\u001b[0;34m\u001b[0m\u001b[0;34m\u001b[0m\u001b[0m\n\u001b[0m\u001b[1;32m   3081\u001b[0m \u001b[0;34m\u001b[0m\u001b[0m\n\u001b[1;32m   3082\u001b[0m         \u001b[0mindexer\u001b[0m \u001b[0;34m=\u001b[0m \u001b[0mself\u001b[0m\u001b[0;34m.\u001b[0m\u001b[0mget_indexer\u001b[0m\u001b[0;34m(\u001b[0m\u001b[0;34m[\u001b[0m\u001b[0mkey\u001b[0m\u001b[0;34m]\u001b[0m\u001b[0;34m,\u001b[0m \u001b[0mmethod\u001b[0m\u001b[0;34m=\u001b[0m\u001b[0mmethod\u001b[0m\u001b[0;34m,\u001b[0m \u001b[0mtolerance\u001b[0m\u001b[0;34m=\u001b[0m\u001b[0mtolerance\u001b[0m\u001b[0;34m)\u001b[0m\u001b[0;34m\u001b[0m\u001b[0;34m\u001b[0m\u001b[0m\n",
      "\u001b[0;32mpandas/_libs/index.pyx\u001b[0m in \u001b[0;36mpandas._libs.index.IndexEngine.get_loc\u001b[0;34m()\u001b[0m\n",
      "\u001b[0;32mpandas/_libs/index.pyx\u001b[0m in \u001b[0;36mpandas._libs.index.IndexEngine.get_loc\u001b[0;34m()\u001b[0m\n",
      "\u001b[0;32mpandas/_libs/hashtable_class_helper.pxi\u001b[0m in \u001b[0;36mpandas._libs.hashtable.PyObjectHashTable.get_item\u001b[0;34m()\u001b[0m\n",
      "\u001b[0;32mpandas/_libs/hashtable_class_helper.pxi\u001b[0m in \u001b[0;36mpandas._libs.hashtable.PyObjectHashTable.get_item\u001b[0;34m()\u001b[0m\n",
      "\u001b[0;31mKeyError\u001b[0m: 'day'"
     ]
    }
   ],
   "source": [
    "dfpc.melt(id_vars= 'day', value_vars=None, var_name='hour', value_name= 'price') "
   ]
  },
  {
   "cell_type": "code",
   "execution_count": null,
   "metadata": {},
   "outputs": [],
   "source": []
  },
  {
   "cell_type": "code",
   "execution_count": 84,
   "metadata": {},
   "outputs": [],
   "source": [
    "dfpc['DT']= pd.to_datetime(dfpc['day'] + '' + dfpc.hour + ':00:00')"
   ]
  },
  {
   "cell_type": "code",
   "execution_count": null,
   "metadata": {},
   "outputs": [],
   "source": [
    "# one way to make the hours line up should be to merge the two df's (df & dfp) on the datetime index\n",
    "\n",
    "# dfc= pd.merge(df,dfp, how= 'inner', left_on= df.index, right_on= dfp.index)\n",
    "dfc= pd.merge(df,dfp, how= 'inner', left_on= df.index, right_on= dfp.index)\n",
    "\n",
    "dfc.head() \n",
    "# note that for CAISO prices, the datetime is UK time, but for the scraped data the hour was imputed (so 7 hour delta)"
   ]
  },
  {
   "cell_type": "code",
   "execution_count": 68,
   "metadata": {
    "scrolled": true
   },
   "outputs": [
    {
     "ename": "KeyError",
     "evalue": "'weekday'",
     "output_type": "error",
     "traceback": [
      "\u001b[0;31m---------------------------------------------------------------------------\u001b[0m",
      "\u001b[0;31mKeyError\u001b[0m                                  Traceback (most recent call last)",
      "\u001b[0;32m/anaconda3/lib/python3.7/site-packages/pandas/core/indexes/base.py\u001b[0m in \u001b[0;36mget_loc\u001b[0;34m(self, key, method, tolerance)\u001b[0m\n\u001b[1;32m   3077\u001b[0m             \u001b[0;32mtry\u001b[0m\u001b[0;34m:\u001b[0m\u001b[0;34m\u001b[0m\u001b[0;34m\u001b[0m\u001b[0m\n\u001b[0;32m-> 3078\u001b[0;31m                 \u001b[0;32mreturn\u001b[0m \u001b[0mself\u001b[0m\u001b[0;34m.\u001b[0m\u001b[0m_engine\u001b[0m\u001b[0;34m.\u001b[0m\u001b[0mget_loc\u001b[0m\u001b[0;34m(\u001b[0m\u001b[0mkey\u001b[0m\u001b[0;34m)\u001b[0m\u001b[0;34m\u001b[0m\u001b[0;34m\u001b[0m\u001b[0m\n\u001b[0m\u001b[1;32m   3079\u001b[0m             \u001b[0;32mexcept\u001b[0m \u001b[0mKeyError\u001b[0m\u001b[0;34m:\u001b[0m\u001b[0;34m\u001b[0m\u001b[0;34m\u001b[0m\u001b[0m\n",
      "\u001b[0;32mpandas/_libs/index.pyx\u001b[0m in \u001b[0;36mpandas._libs.index.IndexEngine.get_loc\u001b[0;34m()\u001b[0m\n",
      "\u001b[0;32mpandas/_libs/index.pyx\u001b[0m in \u001b[0;36mpandas._libs.index.IndexEngine.get_loc\u001b[0;34m()\u001b[0m\n",
      "\u001b[0;32mpandas/_libs/hashtable_class_helper.pxi\u001b[0m in \u001b[0;36mpandas._libs.hashtable.PyObjectHashTable.get_item\u001b[0;34m()\u001b[0m\n",
      "\u001b[0;32mpandas/_libs/hashtable_class_helper.pxi\u001b[0m in \u001b[0;36mpandas._libs.hashtable.PyObjectHashTable.get_item\u001b[0;34m()\u001b[0m\n",
      "\u001b[0;31mKeyError\u001b[0m: 'weekday'",
      "\nDuring handling of the above exception, another exception occurred:\n",
      "\u001b[0;31mKeyError\u001b[0m                                  Traceback (most recent call last)",
      "\u001b[0;32m<ipython-input-68-01848cb9df4a>\u001b[0m in \u001b[0;36m<module>\u001b[0;34m\u001b[0m\n\u001b[1;32m      4\u001b[0m \u001b[0mdfc\u001b[0m\u001b[0;34m=\u001b[0m \u001b[0mdfc\u001b[0m\u001b[0;34m.\u001b[0m\u001b[0mrename\u001b[0m\u001b[0;34m(\u001b[0m\u001b[0mcolumns\u001b[0m\u001b[0;34m=\u001b[0m \u001b[0;34m{\u001b[0m\u001b[0;34m'hour_y'\u001b[0m\u001b[0;34m:\u001b[0m \u001b[0;34m'hour'\u001b[0m\u001b[0;34m}\u001b[0m\u001b[0;34m)\u001b[0m\u001b[0;34m\u001b[0m\u001b[0;34m\u001b[0m\u001b[0m\n\u001b[1;32m      5\u001b[0m \u001b[0mdfc\u001b[0m\u001b[0;34m[\u001b[0m\u001b[0;34m'hour'\u001b[0m\u001b[0;34m]\u001b[0m\u001b[0;34m=\u001b[0m \u001b[0mdfc\u001b[0m\u001b[0;34m[\u001b[0m\u001b[0;34m'hour'\u001b[0m\u001b[0;34m]\u001b[0m\u001b[0;34m.\u001b[0m\u001b[0mastype\u001b[0m\u001b[0;34m(\u001b[0m\u001b[0;34m'category'\u001b[0m\u001b[0;34m)\u001b[0m\u001b[0;34m\u001b[0m\u001b[0;34m\u001b[0m\u001b[0m\n\u001b[0;32m----> 6\u001b[0;31m \u001b[0mdfc\u001b[0m\u001b[0;34m[\u001b[0m\u001b[0;34m'weekday'\u001b[0m\u001b[0;34m]\u001b[0m\u001b[0;34m=\u001b[0m \u001b[0mdfc\u001b[0m\u001b[0;34m[\u001b[0m\u001b[0;34m'weekday'\u001b[0m\u001b[0;34m]\u001b[0m\u001b[0;34m.\u001b[0m\u001b[0mastype\u001b[0m\u001b[0;34m(\u001b[0m\u001b[0;34m'category'\u001b[0m\u001b[0;34m)\u001b[0m\u001b[0;34m\u001b[0m\u001b[0;34m\u001b[0m\u001b[0m\n\u001b[0m\u001b[1;32m      7\u001b[0m \u001b[0mdfc\u001b[0m\u001b[0;34m[\u001b[0m\u001b[0;34m'month'\u001b[0m\u001b[0;34m]\u001b[0m\u001b[0;34m=\u001b[0m \u001b[0mdfc\u001b[0m\u001b[0;34m[\u001b[0m\u001b[0;34m'month'\u001b[0m\u001b[0;34m]\u001b[0m\u001b[0;34m.\u001b[0m\u001b[0mastype\u001b[0m\u001b[0;34m(\u001b[0m\u001b[0;34m'category'\u001b[0m\u001b[0;34m)\u001b[0m\u001b[0;34m\u001b[0m\u001b[0;34m\u001b[0m\u001b[0m\n\u001b[1;32m      8\u001b[0m \u001b[0mdfc\u001b[0m\u001b[0;34m[\u001b[0m\u001b[0;34m'hour'\u001b[0m\u001b[0;34m]\u001b[0m\u001b[0;34m=\u001b[0m \u001b[0mdfc\u001b[0m\u001b[0;34m[\u001b[0m\u001b[0;34m'hour'\u001b[0m\u001b[0;34m]\u001b[0m\u001b[0;34m.\u001b[0m\u001b[0mastype\u001b[0m\u001b[0;34m(\u001b[0m\u001b[0;34m'str'\u001b[0m\u001b[0;34m)\u001b[0m\u001b[0;34m\u001b[0m\u001b[0;34m\u001b[0m\u001b[0m\n",
      "\u001b[0;32m/anaconda3/lib/python3.7/site-packages/pandas/core/frame.py\u001b[0m in \u001b[0;36m__getitem__\u001b[0;34m(self, key)\u001b[0m\n\u001b[1;32m   2686\u001b[0m             \u001b[0;32mreturn\u001b[0m \u001b[0mself\u001b[0m\u001b[0;34m.\u001b[0m\u001b[0m_getitem_multilevel\u001b[0m\u001b[0;34m(\u001b[0m\u001b[0mkey\u001b[0m\u001b[0;34m)\u001b[0m\u001b[0;34m\u001b[0m\u001b[0;34m\u001b[0m\u001b[0m\n\u001b[1;32m   2687\u001b[0m         \u001b[0;32melse\u001b[0m\u001b[0;34m:\u001b[0m\u001b[0;34m\u001b[0m\u001b[0;34m\u001b[0m\u001b[0m\n\u001b[0;32m-> 2688\u001b[0;31m             \u001b[0;32mreturn\u001b[0m \u001b[0mself\u001b[0m\u001b[0;34m.\u001b[0m\u001b[0m_getitem_column\u001b[0m\u001b[0;34m(\u001b[0m\u001b[0mkey\u001b[0m\u001b[0;34m)\u001b[0m\u001b[0;34m\u001b[0m\u001b[0;34m\u001b[0m\u001b[0m\n\u001b[0m\u001b[1;32m   2689\u001b[0m \u001b[0;34m\u001b[0m\u001b[0m\n\u001b[1;32m   2690\u001b[0m     \u001b[0;32mdef\u001b[0m \u001b[0m_getitem_column\u001b[0m\u001b[0;34m(\u001b[0m\u001b[0mself\u001b[0m\u001b[0;34m,\u001b[0m \u001b[0mkey\u001b[0m\u001b[0;34m)\u001b[0m\u001b[0;34m:\u001b[0m\u001b[0;34m\u001b[0m\u001b[0;34m\u001b[0m\u001b[0m\n",
      "\u001b[0;32m/anaconda3/lib/python3.7/site-packages/pandas/core/frame.py\u001b[0m in \u001b[0;36m_getitem_column\u001b[0;34m(self, key)\u001b[0m\n\u001b[1;32m   2693\u001b[0m         \u001b[0;31m# get column\u001b[0m\u001b[0;34m\u001b[0m\u001b[0;34m\u001b[0m\u001b[0;34m\u001b[0m\u001b[0m\n\u001b[1;32m   2694\u001b[0m         \u001b[0;32mif\u001b[0m \u001b[0mself\u001b[0m\u001b[0;34m.\u001b[0m\u001b[0mcolumns\u001b[0m\u001b[0;34m.\u001b[0m\u001b[0mis_unique\u001b[0m\u001b[0;34m:\u001b[0m\u001b[0;34m\u001b[0m\u001b[0;34m\u001b[0m\u001b[0m\n\u001b[0;32m-> 2695\u001b[0;31m             \u001b[0;32mreturn\u001b[0m \u001b[0mself\u001b[0m\u001b[0;34m.\u001b[0m\u001b[0m_get_item_cache\u001b[0m\u001b[0;34m(\u001b[0m\u001b[0mkey\u001b[0m\u001b[0;34m)\u001b[0m\u001b[0;34m\u001b[0m\u001b[0;34m\u001b[0m\u001b[0m\n\u001b[0m\u001b[1;32m   2696\u001b[0m \u001b[0;34m\u001b[0m\u001b[0m\n\u001b[1;32m   2697\u001b[0m         \u001b[0;31m# duplicate columns & possible reduce dimensionality\u001b[0m\u001b[0;34m\u001b[0m\u001b[0;34m\u001b[0m\u001b[0;34m\u001b[0m\u001b[0m\n",
      "\u001b[0;32m/anaconda3/lib/python3.7/site-packages/pandas/core/generic.py\u001b[0m in \u001b[0;36m_get_item_cache\u001b[0;34m(self, item)\u001b[0m\n\u001b[1;32m   2487\u001b[0m         \u001b[0mres\u001b[0m \u001b[0;34m=\u001b[0m \u001b[0mcache\u001b[0m\u001b[0;34m.\u001b[0m\u001b[0mget\u001b[0m\u001b[0;34m(\u001b[0m\u001b[0mitem\u001b[0m\u001b[0;34m)\u001b[0m\u001b[0;34m\u001b[0m\u001b[0;34m\u001b[0m\u001b[0m\n\u001b[1;32m   2488\u001b[0m         \u001b[0;32mif\u001b[0m \u001b[0mres\u001b[0m \u001b[0;32mis\u001b[0m \u001b[0;32mNone\u001b[0m\u001b[0;34m:\u001b[0m\u001b[0;34m\u001b[0m\u001b[0;34m\u001b[0m\u001b[0m\n\u001b[0;32m-> 2489\u001b[0;31m             \u001b[0mvalues\u001b[0m \u001b[0;34m=\u001b[0m \u001b[0mself\u001b[0m\u001b[0;34m.\u001b[0m\u001b[0m_data\u001b[0m\u001b[0;34m.\u001b[0m\u001b[0mget\u001b[0m\u001b[0;34m(\u001b[0m\u001b[0mitem\u001b[0m\u001b[0;34m)\u001b[0m\u001b[0;34m\u001b[0m\u001b[0;34m\u001b[0m\u001b[0m\n\u001b[0m\u001b[1;32m   2490\u001b[0m             \u001b[0mres\u001b[0m \u001b[0;34m=\u001b[0m \u001b[0mself\u001b[0m\u001b[0;34m.\u001b[0m\u001b[0m_box_item_values\u001b[0m\u001b[0;34m(\u001b[0m\u001b[0mitem\u001b[0m\u001b[0;34m,\u001b[0m \u001b[0mvalues\u001b[0m\u001b[0;34m)\u001b[0m\u001b[0;34m\u001b[0m\u001b[0;34m\u001b[0m\u001b[0m\n\u001b[1;32m   2491\u001b[0m             \u001b[0mcache\u001b[0m\u001b[0;34m[\u001b[0m\u001b[0mitem\u001b[0m\u001b[0;34m]\u001b[0m \u001b[0;34m=\u001b[0m \u001b[0mres\u001b[0m\u001b[0;34m\u001b[0m\u001b[0;34m\u001b[0m\u001b[0m\n",
      "\u001b[0;32m/anaconda3/lib/python3.7/site-packages/pandas/core/internals.py\u001b[0m in \u001b[0;36mget\u001b[0;34m(self, item, fastpath)\u001b[0m\n\u001b[1;32m   4113\u001b[0m \u001b[0;34m\u001b[0m\u001b[0m\n\u001b[1;32m   4114\u001b[0m             \u001b[0;32mif\u001b[0m \u001b[0;32mnot\u001b[0m \u001b[0misna\u001b[0m\u001b[0;34m(\u001b[0m\u001b[0mitem\u001b[0m\u001b[0;34m)\u001b[0m\u001b[0;34m:\u001b[0m\u001b[0;34m\u001b[0m\u001b[0;34m\u001b[0m\u001b[0m\n\u001b[0;32m-> 4115\u001b[0;31m                 \u001b[0mloc\u001b[0m \u001b[0;34m=\u001b[0m \u001b[0mself\u001b[0m\u001b[0;34m.\u001b[0m\u001b[0mitems\u001b[0m\u001b[0;34m.\u001b[0m\u001b[0mget_loc\u001b[0m\u001b[0;34m(\u001b[0m\u001b[0mitem\u001b[0m\u001b[0;34m)\u001b[0m\u001b[0;34m\u001b[0m\u001b[0;34m\u001b[0m\u001b[0m\n\u001b[0m\u001b[1;32m   4116\u001b[0m             \u001b[0;32melse\u001b[0m\u001b[0;34m:\u001b[0m\u001b[0;34m\u001b[0m\u001b[0;34m\u001b[0m\u001b[0m\n\u001b[1;32m   4117\u001b[0m                 \u001b[0mindexer\u001b[0m \u001b[0;34m=\u001b[0m \u001b[0mnp\u001b[0m\u001b[0;34m.\u001b[0m\u001b[0marange\u001b[0m\u001b[0;34m(\u001b[0m\u001b[0mlen\u001b[0m\u001b[0;34m(\u001b[0m\u001b[0mself\u001b[0m\u001b[0;34m.\u001b[0m\u001b[0mitems\u001b[0m\u001b[0;34m)\u001b[0m\u001b[0;34m)\u001b[0m\u001b[0;34m[\u001b[0m\u001b[0misna\u001b[0m\u001b[0;34m(\u001b[0m\u001b[0mself\u001b[0m\u001b[0;34m.\u001b[0m\u001b[0mitems\u001b[0m\u001b[0;34m)\u001b[0m\u001b[0;34m]\u001b[0m\u001b[0;34m\u001b[0m\u001b[0;34m\u001b[0m\u001b[0m\n",
      "\u001b[0;32m/anaconda3/lib/python3.7/site-packages/pandas/core/indexes/base.py\u001b[0m in \u001b[0;36mget_loc\u001b[0;34m(self, key, method, tolerance)\u001b[0m\n\u001b[1;32m   3078\u001b[0m                 \u001b[0;32mreturn\u001b[0m \u001b[0mself\u001b[0m\u001b[0;34m.\u001b[0m\u001b[0m_engine\u001b[0m\u001b[0;34m.\u001b[0m\u001b[0mget_loc\u001b[0m\u001b[0;34m(\u001b[0m\u001b[0mkey\u001b[0m\u001b[0;34m)\u001b[0m\u001b[0;34m\u001b[0m\u001b[0;34m\u001b[0m\u001b[0m\n\u001b[1;32m   3079\u001b[0m             \u001b[0;32mexcept\u001b[0m \u001b[0mKeyError\u001b[0m\u001b[0;34m:\u001b[0m\u001b[0;34m\u001b[0m\u001b[0;34m\u001b[0m\u001b[0m\n\u001b[0;32m-> 3080\u001b[0;31m                 \u001b[0;32mreturn\u001b[0m \u001b[0mself\u001b[0m\u001b[0;34m.\u001b[0m\u001b[0m_engine\u001b[0m\u001b[0;34m.\u001b[0m\u001b[0mget_loc\u001b[0m\u001b[0;34m(\u001b[0m\u001b[0mself\u001b[0m\u001b[0;34m.\u001b[0m\u001b[0m_maybe_cast_indexer\u001b[0m\u001b[0;34m(\u001b[0m\u001b[0mkey\u001b[0m\u001b[0;34m)\u001b[0m\u001b[0;34m)\u001b[0m\u001b[0;34m\u001b[0m\u001b[0;34m\u001b[0m\u001b[0m\n\u001b[0m\u001b[1;32m   3081\u001b[0m \u001b[0;34m\u001b[0m\u001b[0m\n\u001b[1;32m   3082\u001b[0m         \u001b[0mindexer\u001b[0m \u001b[0;34m=\u001b[0m \u001b[0mself\u001b[0m\u001b[0;34m.\u001b[0m\u001b[0mget_indexer\u001b[0m\u001b[0;34m(\u001b[0m\u001b[0;34m[\u001b[0m\u001b[0mkey\u001b[0m\u001b[0;34m]\u001b[0m\u001b[0;34m,\u001b[0m \u001b[0mmethod\u001b[0m\u001b[0;34m=\u001b[0m\u001b[0mmethod\u001b[0m\u001b[0;34m,\u001b[0m \u001b[0mtolerance\u001b[0m\u001b[0;34m=\u001b[0m\u001b[0mtolerance\u001b[0m\u001b[0;34m)\u001b[0m\u001b[0;34m\u001b[0m\u001b[0;34m\u001b[0m\u001b[0m\n",
      "\u001b[0;32mpandas/_libs/index.pyx\u001b[0m in \u001b[0;36mpandas._libs.index.IndexEngine.get_loc\u001b[0;34m()\u001b[0m\n",
      "\u001b[0;32mpandas/_libs/index.pyx\u001b[0m in \u001b[0;36mpandas._libs.index.IndexEngine.get_loc\u001b[0;34m()\u001b[0m\n",
      "\u001b[0;32mpandas/_libs/hashtable_class_helper.pxi\u001b[0m in \u001b[0;36mpandas._libs.hashtable.PyObjectHashTable.get_item\u001b[0;34m()\u001b[0m\n",
      "\u001b[0;32mpandas/_libs/hashtable_class_helper.pxi\u001b[0m in \u001b[0;36mpandas._libs.hashtable.PyObjectHashTable.get_item\u001b[0;34m()\u001b[0m\n",
      "\u001b[0;31mKeyError\u001b[0m: 'weekday'"
     ]
    }
   ],
   "source": [
    "dfc['load']= dfc['srnwbls'] + dfc['nucl'] + dfc['thermal'] + dfc['imports'] + dfc['lhydro']\n",
    "# WE DROP 'DAY' HERE BUT MIGHT RETAIN FOR GROUPBY??\n",
    "dfc.index.names= ['date']\n",
    "dfc= dfc.rename(columns= {'hour_y': 'hour'})\n",
    "dfc['hour']= dfc['hour'].astype('category')\n",
    "dfc['weekday']= dfc['weekday'].astype('category')\n",
    "dfc['month']= dfc['month'].astype('category')\n",
    "dfc['hour']= dfc['hour'].astype('str')\n",
    "dfc.info()\n",
    "\n",
    "\n",
    "import statsmodels.api as sm\n",
    "from statsmodels.formula.api import ols\n",
    "# import statsmodels.formula.api as smf\n",
    "m= ols(formula= 'price ~ load + wind + solarPV + nucl + thermal + imports + lhydro + hour + weekday + month',\n",
    "       data= dfc).fit()  # .fit() already done (chained)\n",
    "\n",
    "print(m.summary())"
   ]
  },
  {
   "cell_type": "markdown",
   "metadata": {},
   "source": [
    "# Commentary\n",
    "All variables except nuclear have statistically significant t-values.\n",
    "However, some have a positive effect on prices rather than a negative one (such as wind and solarPV).\n",
    "These surprises may be due to multicollinearity\n",
    "For example, load has a negative coefficient although common sense would suggest the opposite."
   ]
  },
  {
   "cell_type": "code",
   "execution_count": null,
   "metadata": {},
   "outputs": [],
   "source": [
    "# So we drop nuclear, and also 'load' to hopefully reduce multicollinearity\n",
    "# We see that the signs of the 'wind' & 'solarPV' variables have now switched, and make sense\n",
    "# With an adjusted R-squared of 71%, this is a credible starting point for predicting all 24 hours of the day"
   ]
  },
  {
   "cell_type": "code",
   "execution_count": null,
   "metadata": {},
   "outputs": [],
   "source": [
    "\n",
    "m2= ols(formula= 'price ~ wind + solarPV +  thermal + imports + lhydro + hour + weekday + month', data= dfc).fit()\n",
    "\n",
    "print(m2.summary())\n",
    "\n",
    "dfc['hour'].isin(['1','2','3','4','5','6','23','24'])[0:30] # OK\n",
    "sum(dfc['hour'].isin(['1','2','3','4','5','6','23','24'])[0:24]) # also OK"
   ]
  },
  {
   "cell_type": "code",
   "execution_count": null,
   "metadata": {},
   "outputs": [],
   "source": []
  },
  {
   "cell_type": "code",
   "execution_count": null,
   "metadata": {},
   "outputs": [],
   "source": []
  },
  {
   "cell_type": "code",
   "execution_count": null,
   "metadata": {},
   "outputs": [],
   "source": []
  },
  {
   "cell_type": "code",
   "execution_count": null,
   "metadata": {},
   "outputs": [],
   "source": []
  },
  {
   "cell_type": "code",
   "execution_count": null,
   "metadata": {},
   "outputs": [],
   "source": []
  },
  {
   "cell_type": "code",
   "execution_count": 44,
   "metadata": {},
   "outputs": [
    {
     "name": "stdout",
     "output_type": "stream",
     "text": [
      "<class 'pandas.core.frame.DataFrame'>\n",
      "DatetimeIndex: 744 entries, 2019-01-01 00:00:00 to 2019-01-31 23:00:00\n",
      "Data columns (total 13 columns):\n",
      "hour       744 non-null object\n",
      "geo        744 non-null int64\n",
      "biom       744 non-null int64\n",
      "biog       744 non-null int64\n",
      "shydro     744 non-null int64\n",
      "wind       744 non-null int64\n",
      "solarPV    744 non-null int64\n",
      "sTH        744 non-null int64\n",
      "srnwbls    744 non-null int64\n",
      "nucl       744 non-null int64\n",
      "thermal    744 non-null int64\n",
      "imports    744 non-null int64\n",
      "lhydro     744 non-null int64\n",
      "dtypes: int64(12), object(1)\n",
      "memory usage: 81.4+ KB\n"
     ]
    },
    {
     "data": {
      "image/png": "[encoded data removed]",
      "text/plain": [
       "<Figure size 432x288 with 1 Axes>"
      ]
     },
     "metadata": {
      "needs_background": "light"
     },
     "output_type": "display_data"
    }
   ],
   "source": [
    "dfc= read_one_month('201901')\n",
    "dfc.info() # 31 DAYS x 24 HOURS GIVES 744\n",
    "dfc.tail()\n",
    "\n",
    "dfc.wind.plot()\n",
    "dfc.lhydro.plot()\n",
    "plt.show()"
   ]
  },
  {
   "cell_type": "code",
   "execution_count": 42,
   "metadata": {},
   "outputs": [
    {
     "data": {
      "text/plain": [
       "Text(0, 0.5, 'Large Hydro (MWh)')"
      ]
     },
     "execution_count": 42,
     "metadata": {},
     "output_type": "execute_result"
    },
    {
     "data": {
      "image/png": "[encoded data removed]",
      "text/plain": [
       "<Figure size 432x288 with 1 Axes>"
      ]
     },
     "metadata": {
      "needs_background": "light"
     },
     "output_type": "display_data"
    }
   ],
   "source": [
    "plt.scatter(dfc['wind'], dfc['lhydro'])\n",
    "plt.xlabel(\"Wind MWh\")\n",
    "plt.ylabel(\"Large Hydro (MWh)\")\n",
    "\n",
    "# Commentary\n",
    "# The median wind output for thine one month of January is surprisingly steady throughout the hours, unlike MISO levels.\n",
    "# However, the means may be more variable, being influenced by possible huge outliers."
   ]
  },
  {
   "cell_type": "code",
   "execution_count": 19,
   "metadata": {},
   "outputs": [
    {
     "data": {
      "text/plain": [
       "<matplotlib.axes._subplots.AxesSubplot at 0x1c20e714e0>"
      ]
     },
     "execution_count": 19,
     "metadata": {},
     "output_type": "execute_result"
    },
    {
     "data": {
      "image/png": "[encoded data removed]",
      "text/plain": [
       "<Figure size 432x288 with 1 Axes>"
      ]
     },
     "metadata": {
      "needs_background": "light"
     },
     "output_type": "display_data"
    }
   ],
   "source": [
    "dfc['hour']= dfc['hour'].astype('int') # wanted to plot as an ordered categorical variable but thrown an error\n",
    "#plt.boxplot(dfc['lhydro'], dfc['hour'])\n",
    "import seaborn as sns\n",
    "sns.boxplot(x=\"hour\", y=\"lhydro\", data=dfc)\n",
    "# From this plot the noon levels are 3300 vs 2200 for 3am, so 50% higher: used to back-up solar due to clouds?\n",
    "# Why does it climb from hours 20 to 24, so 8pm to midnight!! Not Solar imports, as sun set earlier!!\n",
    "# Plot versus price volatility in terms of std? Used as back-up (low-carbon)\n",
    "# NB THIS ISJUST FOR JANUARY, REPEAT FOR 6 MONTHS !!\n",
    "\n",
    "sns.boxplot(x= \"hour\", y= \"wind\", data= dfc)\n",
    "\n"
   ]
  },
  {
   "cell_type": "markdown",
   "metadata": {},
   "source": [
    "# Commentary\n",
    "The median wind output for this one month of January is surprisingly steady throughout the hours, unlike MISO levels.\n",
    "However, the means may be more variable, being influenced by possible huge outliers."
   ]
  },
  {
   "cell_type": "code",
   "execution_count": 21,
   "metadata": {
    "collapsed": true
   },
   "outputs": [
    {
     "data": {
      "text/plain": [
       "['201801',\n",
       " '201802',\n",
       " '201803',\n",
       " '201804',\n",
       " '201805',\n",
       " '201806',\n",
       " '201807',\n",
       " '201808',\n",
       " '201809',\n",
       " '201810',\n",
       " '201811',\n",
       " '201812']"
      ]
     },
     "execution_count": 21,
     "metadata": {},
     "output_type": "execute_result"
    }
   ],
   "source": [
    "twelve_months= [('2018'+ rest) for rest in ['01','02','03','04','05','06','07','08','09','10','11','12']]\n",
    "twelve_months # OK"
   ]
  },
  {
   "cell_type": "code",
   "execution_count": 22,
   "metadata": {
    "collapsed": true
   },
   "outputs": [
    {
     "ename": "TypeError",
     "evalue": "can only concatenate list (not \"str\") to list",
     "output_type": "error",
     "traceback": [
      "\u001b[0;31m---------------------------------------------------------------------------\u001b[0m",
      "\u001b[0;31mTypeError\u001b[0m                                 Traceback (most recent call last)",
      "\u001b[0;32m<ipython-input-22-b3518c7a277d>\u001b[0m in \u001b[0;36m<module>\u001b[0;34m\u001b[0m\n\u001b[1;32m      2\u001b[0m \u001b[0;31m# half_year= [read_one_month(month) for month in [('2018'+ rest) for rest in ['01','02','03','04','05','06']]]\u001b[0m\u001b[0;34m\u001b[0m\u001b[0;34m\u001b[0m\u001b[0;34m\u001b[0m\u001b[0m\n\u001b[1;32m      3\u001b[0m \u001b[0;34m\u001b[0m\u001b[0m\n\u001b[0;32m----> 4\u001b[0;31m \u001b[0mone_year_data\u001b[0m\u001b[0;34m=\u001b[0m \u001b[0mread_one_month\u001b[0m\u001b[0;34m(\u001b[0m\u001b[0mtwelve_months\u001b[0m\u001b[0;34m)\u001b[0m\u001b[0;34m\u001b[0m\u001b[0;34m\u001b[0m\u001b[0m\n\u001b[0m\u001b[1;32m      5\u001b[0m \u001b[0mone_year_data\u001b[0m\u001b[0;34m.\u001b[0m\u001b[0mhead\u001b[0m\u001b[0;34m(\u001b[0m\u001b[0;36m10\u001b[0m\u001b[0;34m)\u001b[0m\u001b[0;34m\u001b[0m\u001b[0;34m\u001b[0m\u001b[0m\n\u001b[1;32m      6\u001b[0m \u001b[0;31m# OK for 0,1,2,3,4,5,6,7,8,9,10,11 : which comprises the whole year!\u001b[0m\u001b[0;34m\u001b[0m\u001b[0;34m\u001b[0m\u001b[0;34m\u001b[0m\u001b[0m\n",
      "\u001b[0;32m<ipython-input-15-7f924a41aeb8>\u001b[0m in \u001b[0;36mread_one_month\u001b[0;34m(year_month)\u001b[0m\n\u001b[1;32m      6\u001b[0m     \u001b[0;32melse\u001b[0m\u001b[0;34m:\u001b[0m\u001b[0;34m\u001b[0m\u001b[0;34m\u001b[0m\u001b[0m\n\u001b[1;32m      7\u001b[0m         \u001b[0md\u001b[0m\u001b[0;34m=\u001b[0m\u001b[0;36m32\u001b[0m\u001b[0;34m\u001b[0m\u001b[0;34m\u001b[0m\u001b[0m\n\u001b[0;32m----> 8\u001b[0;31m     \u001b[0mmonth_dates_A\u001b[0m\u001b[0;34m=\u001b[0m \u001b[0;34m[\u001b[0m\u001b[0;34m(\u001b[0m\u001b[0myear_month\u001b[0m \u001b[0;34m+\u001b[0m \u001b[0;34m'0'\u001b[0m \u001b[0;34m+\u001b[0m \u001b[0mstr\u001b[0m\u001b[0;34m(\u001b[0m\u001b[0mi\u001b[0m\u001b[0;34m)\u001b[0m\u001b[0;34m)\u001b[0m \u001b[0;32mfor\u001b[0m \u001b[0mi\u001b[0m \u001b[0;32min\u001b[0m \u001b[0mlist\u001b[0m\u001b[0;34m(\u001b[0m\u001b[0mrange\u001b[0m\u001b[0;34m(\u001b[0m\u001b[0;36m1\u001b[0m\u001b[0;34m,\u001b[0m\u001b[0;36m10\u001b[0m\u001b[0;34m)\u001b[0m\u001b[0;34m)\u001b[0m\u001b[0;34m]\u001b[0m\u001b[0;34m\u001b[0m\u001b[0;34m\u001b[0m\u001b[0m\n\u001b[0m\u001b[1;32m      9\u001b[0m     \u001b[0mmonth_dates_B\u001b[0m\u001b[0;34m=\u001b[0m \u001b[0;34m[\u001b[0m\u001b[0;34m(\u001b[0m\u001b[0myear_month\u001b[0m \u001b[0;34m+\u001b[0m \u001b[0mstr\u001b[0m\u001b[0;34m(\u001b[0m\u001b[0mi\u001b[0m\u001b[0;34m)\u001b[0m\u001b[0;34m)\u001b[0m \u001b[0;32mfor\u001b[0m \u001b[0mi\u001b[0m \u001b[0;32min\u001b[0m \u001b[0mlist\u001b[0m\u001b[0;34m(\u001b[0m\u001b[0mrange\u001b[0m\u001b[0;34m(\u001b[0m\u001b[0;36m10\u001b[0m\u001b[0;34m,\u001b[0m\u001b[0md\u001b[0m\u001b[0;34m)\u001b[0m\u001b[0;34m)\u001b[0m\u001b[0;34m]\u001b[0m\u001b[0;34m\u001b[0m\u001b[0;34m\u001b[0m\u001b[0m\n\u001b[1;32m     10\u001b[0m     \u001b[0mmonth_dates\u001b[0m\u001b[0;34m=\u001b[0m \u001b[0mmonth_dates_A\u001b[0m \u001b[0;34m+\u001b[0m \u001b[0mmonth_dates_B\u001b[0m\u001b[0;34m\u001b[0m\u001b[0;34m\u001b[0m\u001b[0m\n",
      "\u001b[0;32m<ipython-input-15-7f924a41aeb8>\u001b[0m in \u001b[0;36m<listcomp>\u001b[0;34m(.0)\u001b[0m\n\u001b[1;32m      6\u001b[0m     \u001b[0;32melse\u001b[0m\u001b[0;34m:\u001b[0m\u001b[0;34m\u001b[0m\u001b[0;34m\u001b[0m\u001b[0m\n\u001b[1;32m      7\u001b[0m         \u001b[0md\u001b[0m\u001b[0;34m=\u001b[0m\u001b[0;36m32\u001b[0m\u001b[0;34m\u001b[0m\u001b[0;34m\u001b[0m\u001b[0m\n\u001b[0;32m----> 8\u001b[0;31m     \u001b[0mmonth_dates_A\u001b[0m\u001b[0;34m=\u001b[0m \u001b[0;34m[\u001b[0m\u001b[0;34m(\u001b[0m\u001b[0myear_month\u001b[0m \u001b[0;34m+\u001b[0m \u001b[0;34m'0'\u001b[0m \u001b[0;34m+\u001b[0m \u001b[0mstr\u001b[0m\u001b[0;34m(\u001b[0m\u001b[0mi\u001b[0m\u001b[0;34m)\u001b[0m\u001b[0;34m)\u001b[0m \u001b[0;32mfor\u001b[0m \u001b[0mi\u001b[0m \u001b[0;32min\u001b[0m \u001b[0mlist\u001b[0m\u001b[0;34m(\u001b[0m\u001b[0mrange\u001b[0m\u001b[0;34m(\u001b[0m\u001b[0;36m1\u001b[0m\u001b[0;34m,\u001b[0m\u001b[0;36m10\u001b[0m\u001b[0;34m)\u001b[0m\u001b[0;34m)\u001b[0m\u001b[0;34m]\u001b[0m\u001b[0;34m\u001b[0m\u001b[0;34m\u001b[0m\u001b[0m\n\u001b[0m\u001b[1;32m      9\u001b[0m     \u001b[0mmonth_dates_B\u001b[0m\u001b[0;34m=\u001b[0m \u001b[0;34m[\u001b[0m\u001b[0;34m(\u001b[0m\u001b[0myear_month\u001b[0m \u001b[0;34m+\u001b[0m \u001b[0mstr\u001b[0m\u001b[0;34m(\u001b[0m\u001b[0mi\u001b[0m\u001b[0;34m)\u001b[0m\u001b[0;34m)\u001b[0m \u001b[0;32mfor\u001b[0m \u001b[0mi\u001b[0m \u001b[0;32min\u001b[0m \u001b[0mlist\u001b[0m\u001b[0;34m(\u001b[0m\u001b[0mrange\u001b[0m\u001b[0;34m(\u001b[0m\u001b[0;36m10\u001b[0m\u001b[0;34m,\u001b[0m\u001b[0md\u001b[0m\u001b[0;34m)\u001b[0m\u001b[0;34m)\u001b[0m\u001b[0;34m]\u001b[0m\u001b[0;34m\u001b[0m\u001b[0;34m\u001b[0m\u001b[0m\n\u001b[1;32m     10\u001b[0m     \u001b[0mmonth_dates\u001b[0m\u001b[0;34m=\u001b[0m \u001b[0mmonth_dates_A\u001b[0m \u001b[0;34m+\u001b[0m \u001b[0mmonth_dates_B\u001b[0m\u001b[0;34m\u001b[0m\u001b[0;34m\u001b[0m\u001b[0m\n",
      "\u001b[0;31mTypeError\u001b[0m: can only concatenate list (not \"str\") to list"
     ]
    }
   ],
   "source": [
    "# This version unnecesssary as the Code above does run, just with a delay of 2 minutes\n",
    "# half_year= [read_one_month(month) for month in [('2018'+ rest) for rest in ['01','02','03','04','05','06']]]\n",
    "\n",
    "one_year_data= read_one_month(twelve_months) # TypeError: can only concatenate list (not \"str\") to list\n",
    "one_year_data.head(10)\n",
    "# OK for 0,1,2,3,4,5,6,7,8,9,10,11 : which comprises the whole year!\n",
    "#checked one month at a time!), as a precursor to the above\n",
    "\n"
   ]
  },
  {
   "cell_type": "code",
   "execution_count": null,
   "metadata": {},
   "outputs": [],
   "source": [
    "# Graphing six_months_data\n",
    "\n",
    "# six_months_data.info() # datetime index, hour as strings, rest are all type 'int'\n",
    "df= six_months_data.copy()\n",
    "x= range(1,4345) # number of hours\n",
    "y= [df.nucl, df.wind, df.solarPV, df.lhydro, df.thermal,df.imports]\n",
    "plt.stackplot(x,y,labels= ['nuclear', 'wind','solarPV','Lhydro','thermal','imports'])\n",
    "plt.xticks([720,1440,90,2160,2880,3600])  # these are in Hours, not days!\n",
    "plt.xlabel('Day')\n",
    "plt.ylabel('Power Generation (GWh)')\n",
    "plt.title('Daily Power Generation')\n",
    "plt.legend(loc= 'upper left')\n",
    "plt.show()                      # Completely overcrowded, so plot monthly in a pane of six months"
   ]
  },
  {
   "cell_type": "code",
   "execution_count": null,
   "metadata": {},
   "outputs": [],
   "source": []
  },
  {
   "cell_type": "code",
   "execution_count": null,
   "metadata": {},
   "outputs": [],
   "source": []
  },
  {
   "cell_type": "code",
   "execution_count": null,
   "metadata": {},
   "outputs": [],
   "source": []
  },
  {
   "cell_type": "code",
   "execution_count": null,
   "metadata": {},
   "outputs": [],
   "source": []
  },
  {
   "cell_type": "code",
   "execution_count": null,
   "metadata": {},
   "outputs": [],
   "source": [
    "dfc['load']= dfc['srnwbls'] + dfc['nucl'] + dfc['thermal'] + dfc['imports'] + dfc['lhydro']\n",
    "# WE DROP 'DAY' HERE BUT MIGHT RETAIN FOR GROUPBY??\n",
    "dfc.index.names= ['date']\n",
    "dfc= dfc.rename(columns= {'hour_y': 'hour'})\n",
    "dfc['hour']= dfc['hour'].astype('category')\n",
    "dfc['weekday']= dfc['weekday'].astype('category')\n",
    "dfc['month']= dfc['month'].astype('category')\n",
    "dfc['hour']= dfc['hour'].astype('str')\n",
    "dfc.info()\n",
    "\n",
    "\n",
    "# need to add dummies and carve out the night hours\n",
    "dfc.head()\n",
    "dfc.tail(10)\n",
    "dfc.hour[0:30] # Hmm all 24 hours do appear and in order\n",
    "dfc.hour[240:270] # also OK here\n",
    "\n",
    "\n",
    "\n",
    "df_wD= pd.get_dummies(dfc, drop_first= True)  # columns= [dfc.hour, dfc.weekday, dfc.month]\n",
    "\n",
    "import statsmodels.api as sm\n",
    "from statsmodels.formula.api import ols\n",
    "# import statsmodels.formula.api as smf\n",
    "m= ols(formula= 'price ~ load + wind + solarPV + nucl + thermal + imports + lhydro + hour + weekday + month',\n",
    "       data= dfc).fit()\n",
    "\n",
    "# .fit() already above\n",
    "\n",
    "print(m.summary())\n",
    "\n",
    "# Commentary\n",
    "Allvariables except nuclear have statistically significant t-values.\n",
    "However, some have a positive effect on prices rather than a negative one (such as wind and solarPV).\n",
    "These surprises may be due to multicollinearity\n",
    "For example, load has a negative coefficient although common sense would suggest the opposite.\n",
    "\n",
    "# So we drop nuclear, and also 'load' to hopefully reduce multicollinearity\n",
    "# We see that the signs of the 'wind' & 'solarPV' variables have now switched, and make sense\n",
    "# With an adjusted R-squared of 71%, this is a credible starting point for predicting all 24 hours of the day\n",
    "m2= ols(formula= 'price ~ wind + solarPV +  thermal + imports + lhydro + hour + weekday + month', data= dfc).fit()\n",
    "\n",
    "print(m2.summary())\n",
    "\n",
    "dfc['hour'].isin(['1','2','3','4','5','6','23','24'])[0:30] # OK\n",
    "sum(dfc['hour'].isin(['1','2','3','4','5','6','23','24'])[0:24]) # also OK\n",
    "\n"
   ]
  },
  {
   "cell_type": "code",
   "execution_count": null,
   "metadata": {},
   "outputs": [],
   "source": []
  },
  {
   "cell_type": "code",
   "execution_count": null,
   "metadata": {},
   "outputs": [],
   "source": [
    "# Now we focus the model exclusively on the off-peak hours of interest\n",
    "dfw= dfc[dfc['hour'].isin(['1','2','3','4','5','6','23','24'])]\n",
    "\n",
    "dfw.head(10) # now OK \n",
    "\n",
    "# Unlke scikitlearn, dummies are automatically created with statsmodel\n",
    "# correct data specified? Two lines of code\n",
    "mw1= ols(formula= 'price ~ load + wind + solarPV + nucl + thermal + imports + lhydro + hour + weekday + month ',\n",
    "         data= dfw).fit()\n",
    "\n",
    "# OLD OUTPUT\n",
    "print(mw1.summary()) # Hmm very strange: we have MORE THAN 24 HOURS WHEN WE SHOULD HAVE JUST seven!!!\n",
    "# THIS ERROR AROSE AS 'data' had not been updated to dfw_wD"
   ]
  },
  {
   "cell_type": "code",
   "execution_count": null,
   "metadata": {},
   "outputs": [],
   "source": []
  },
  {
   "cell_type": "code",
   "execution_count": null,
   "metadata": {},
   "outputs": [],
   "source": []
  },
  {
   "cell_type": "code",
   "execution_count": null,
   "metadata": {},
   "outputs": [],
   "source": []
  },
  {
   "cell_type": "markdown",
   "metadata": {},
   "source": [
    "# Import CAISO Hourly DAM Prices: Completed Six Months Analysis\n"
   ]
  },
  {
   "cell_type": "code",
   "execution_count": null,
   "metadata": {},
   "outputs": [],
   "source": [
    "files= ['DAM_Jan_2018.csv','DAM_Feb_2018.csv', 'DAM_March_2018.csv','DAM_April_2018.csv','DAM_May_2018.csv','DAM_June_2018.csv']\n",
    "# files= ['DAM_July_2018.csv','DAM_Aug_2018.csv','DAM_Sept_2018.csv','DAM_Oct_2018.csv','DAM_Nov_2018.csv','DAM_Dec_2018.csv']\n",
    "\n",
    "frames= [ pd.read_csv(file, header= 0, usecols= [0,2,3,9,14],parse_dates= True, index_col= 'INTERVALSTARTTIME_GMT')\n",
    "         for file in files]\n",
    "df1= pd.concat(frames)\n",
    "dfp= df1[df1['LMP_TYPE'] == 'LMP'] # drops the other four price components and reduces data rows by 80%\n",
    "dfp['date']= pd.to_datetime(dfp['OPR_DT']) #needed for plotting after the groupby SPECIFY FORMAT!!\n",
    "dfp= dfp.drop(['OPR_DT','LMP_TYPE'],axis=1)\n",
    "dfp.columns= ['hour','price','day']\n",
    "dfp['weekday']= dfp.day.dt.weekday_name\n",
    "dfp['month']= dfp.day.dt.month #new code\n",
    "dfp.index.names= ['date']\n",
    "# dfp.index= dfp.index.drop_duplicates(keep='first')  \n",
    "# dfp = dfp.sort_values(dfp.index) UNABLE TO SORT DUE TO DUPLICATES, BUT UNABLE TO REMOVE DUPLICATES W CODE ABOVE\n",
    "dfp.info()  # WE HAVE 4343 OBSERVATIONS (AS HOURS), but the scraped data has 4344 hours: MAKE SURE NOT OFF BY AN HOUR!!\n",
    "print(dfp.head())\n",
    "print(dfp.tail()) # dfp is dataframe for Prices\n"
   ]
  },
  {
   "cell_type": "markdown",
   "metadata": {},
   "source": [
    "# NB price is now a vertical series and the use of pivot will now make it HORIZONTAL!! (as happens below)"
   ]
  },
  {
   "cell_type": "code",
   "execution_count": null,
   "metadata": {},
   "outputs": [],
   "source": [
    "# first drop excess variables\n",
    "df_pvt= dfp.drop(columns= dfp[['weekday','month']], axis=1)\n",
    "df_pvt= dfp.pivot('day','hour','price') \n",
    "# NB Some Nan in the last row (gives rise to the sole value of Hour 17 below??\n",
    "df_pvt.head(3)\n"
   ]
  },
  {
   "cell_type": "code",
   "execution_count": null,
   "metadata": {},
   "outputs": [],
   "source": [
    "M= df_pvt.values  #argmin in NOT a Pandas method, so first we make a matrix, M.\n",
    "lowest_hours= M.argmin(axis=1)\n",
    "print(type(lowest_hours)) # numpy.ndarray\n",
    "print(len(lowest_hours)) # 181 (so Nan's did indeed effect the last day)\n",
    "print(lowest_hours)"
   ]
  },
  {
   "cell_type": "code",
   "execution_count": null,
   "metadata": {},
   "outputs": [],
   "source": [
    "# This is for H2\n",
    "# Something weird here: lowest hour is 24 everythime, which is not correct!!!\n",
    "plt.hist(lowest_hours, bins= np.arange(1,24,1) - 0.5,density= True)\n",
    "plt.title('Histogram of the Hour with the Lowest CAISO Price for the period 2018:H1' )\n",
    "plt.xlabel('Hour of the Day')\n",
    "plt.ylabel('Probability')\n",
    "plt.xticks= range(1,25)\n",
    "plt.show()\n",
    "# IMPROVE THIS W CALTECH CODE FOR EXACT SPECIFICATION OF BINS/bin edges (DWW TRY 17, SINCE NONE > 17)\n",
    "# ALSO PRINT THE COUNT FOR EACH HOUR!"
   ]
  },
  {
   "cell_type": "code",
   "execution_count": null,
   "metadata": {},
   "outputs": [],
   "source": [
    "# np.arange(0,14 + 1.5)- 0.5 # centered around 0 to 14 This is the CalTech code\n",
    "bins= np.arange(0,24 + 1.5)- 0.5"
   ]
  },
  {
   "cell_type": "code",
   "execution_count": null,
   "metadata": {},
   "outputs": [],
   "source": [
    "# This is for H1\n",
    "plt.hist(lowest_hours, bins= np.arange(0,24 + 1.5)- 0.5,density= True)\n",
    "plt.title('Histogram of the Hour with the Lowest CAISO Price for the period 2018:H1' )\n",
    "plt.xlabel('Hour of the Day')\n",
    "plt.ylabel('Probability')\n",
    "plt.xticks= range(1,25)\n",
    "plt.show()\n",
    "# IMPROVE THIS W CALTECH CODE FOR EXACT SPECIFICATION OF BINS/bin edges (DWW TRY 17, SINCE NONE > 17)\n",
    "# ALSO PRINT THE COUNT FOR EACH HOUR!"
   ]
  },
  {
   "cell_type": "markdown",
   "metadata": {},
   "source": [
    "# Commentary\n",
    "For this six month period, the lowest prices occured at night only in Python index positions 2 & 3, corresponding to hours '3' & '4'.\n",
    "So from a Classification viewpoint, a simple model with dummy variables for the respective hours would have performed with 100% accuracy.\n",
    "We should extend the time period to at least a full year, and ideally several years.\n",
    "The histogram formatting with respect to the edges is still not quite right:\n",
    "see https://stackoverflow.com/questions/27083051/matplotlib-xticks-not-lining-up-with-histogram\n",
    "\n"
   ]
  },
  {
   "cell_type": "markdown",
   "metadata": {},
   "source": [
    "# df.idxmin( ) Variation suggested by Jeff: runs fine for H1"
   ]
  },
  {
   "cell_type": "code",
   "execution_count": null,
   "metadata": {},
   "outputs": [],
   "source": [
    "# first drop excess variables\n",
    "df_pvt= dfp.drop(columns= dfp[['weekday','month']], axis=1)\n",
    "df_pvt= dfp.pivot('day','hour','price') \n",
    "# NB Some Nan in the last row (gives rise to the sole value of Hour 17 below??\n"
   ]
  },
  {
   "cell_type": "code",
   "execution_count": null,
   "metadata": {},
   "outputs": [],
   "source": [
    "lowest_hours= df_pvt.idxmin(axis=1)\n",
    "print(type(lowest_hours)) # numpy.ndarray\n",
    "print(len(lowest_hours)) # 181 (so Nan's did indeed effect the last day)\n",
    "print(lowest_hours)"
   ]
  },
  {
   "cell_type": "code",
   "execution_count": null,
   "metadata": {},
   "outputs": [],
   "source": [
    "# This is for H1\n",
    "plt.hist(lowest_hours, bins= np.arange(0,24 + 1.5)- 0.5,density= True)\n",
    "plt.title('Histogram of the Hour with the Lowest CAISO Price for the period 2018:H1' )\n",
    "plt.xlabel('Hour of the Day')\n",
    "plt.ylabel('Probability')\n",
    "plt.xticks= range(1,24)\n",
    "plt.show()"
   ]
  },
  {
   "cell_type": "markdown",
   "metadata": {},
   "source": [
    "# Repeat with streamlined \"Production Code\" for H2 of 2018"
   ]
  },
  {
   "cell_type": "code",
   "execution_count": null,
   "metadata": {},
   "outputs": [],
   "source": [
    "print(len(lowest_hours)) # 181 ??, when it should be 31 !!\n",
    "lowest_hours  # this looks correct, BUT NOTE W PYTHON ZERO INDEXING THAT 3 IS IN FACT THE 4TH HOUR !! ETC"
   ]
  },
  {
   "cell_type": "code",
   "execution_count": null,
   "metadata": {},
   "outputs": [],
   "source": []
  },
  {
   "cell_type": "code",
   "execution_count": null,
   "metadata": {},
   "outputs": [],
   "source": [
    "H1= ['DAM_Jan_2018.csv','DAM_Feb_2018.csv', 'DAM_March_2018.csv','DAM_April_2018.csv','DAM_May_2018.csv','DAM_June_2018.csv']\n",
    "files= ['DAM_July_2018.csv','DAM_Aug_2018.csv','DAM_Sept_2018.csv','DAM_Oct_2018.csv','DAM_Nov_2018.csv','DAM_Dec_2018.csv']\n",
    "\n",
    "def get_hours_histogram(files):\n",
    "    '''This function prints a list of each of the day that had the lowest power price for the days covered by the files'''\n",
    "    frames= [ pd.read_csv(file, header= 0, usecols= [0,2,3,9,14],parse_dates= True, index_col= 'INTERVALSTARTTIME_GMT')\n",
    "         for file in files]\n",
    "    df1= pd.concat(frames)\n",
    "    dfp= df1[df1['LMP_TYPE'] == 'LMP'] # drops the other four price components and reduces data rows by 80%\n",
    "    dfp['date']= pd.to_datetime(dfp['OPR_DT']) #needed for plotting after the groupby SPECIFY FORMAT!!\n",
    "    dfp= dfp.drop(['OPR_DT','LMP_TYPE'],axis=1)\n",
    "    dfp.columns= ['hour','price','day']\n",
    "    dfp.index.names= ['date']\n",
    "    df_pvt= dfp.pivot('day','hour','price') \n",
    "    lowest_hours= df_pvt.idxmin(axis=1)       # THIS IS JEFF'S CODE FOR PANDAS SO NO M REQUIRED, NOR ARGMIN()\n",
    "    # M= df_pvt.values  #argmin in NOT a Pandas method, so first we make a matrix, M.\n",
    "    # VERY ODDLY, RUNS OK FOR H1, BUT FOR THE H2 FILES, EVERY ELEMENT OF M IS EQUAL TO 24!\n",
    "    # return M\n",
    "    # lowest_hours= M.argmin(axis=1)\n",
    "    print(lowest_hours)\n",
    "    # fn worked for H1, as before\n",
    "    plt.hist(lowest_hours, bins= np.arange(1,24,1) - 0.5,density= True)\n",
    "    plt.title('Histogram of the Hour with the Lowest CAISO Price for the Subject Period ' )\n",
    "    plt.xlabel('Hour of the Day')\n",
    "    plt.ylabel('Probability')\n",
    "    plt.xticks= range(1,25)\n",
    "    plt.show()"
   ]
  },
  {
   "cell_type": "code",
   "execution_count": null,
   "metadata": {
    "scrolled": true
   },
   "outputs": [],
   "source": [
    "get_hours_histogram(files)"
   ]
  },
  {
   "cell_type": "markdown",
   "metadata": {},
   "source": [
    "# Full Year 2018"
   ]
  },
  {
   "cell_type": "code",
   "execution_count": null,
   "metadata": {},
   "outputs": [],
   "source": [
    "year_2018= ['DAM_Jan_2018.csv','DAM_Feb_2018.csv', 'DAM_March_2018.csv','DAM_April_2018.csv','DAM_May_2018.csv',\n",
    "            'DAM_June_2018.csv','DAM_July_2018.csv','DAM_Aug_2018.csv','DAM_Sept_2018.csv','DAM_Oct_2018.csv',\n",
    "            'DAM_Nov_2018.csv','DAM_Dec_2018.csv']\n",
    "get_hours_histogram(year_2018)"
   ]
  },
  {
   "cell_type": "code",
   "execution_count": null,
   "metadata": {},
   "outputs": [],
   "source": [
    "# Commentary\n",
    "For the full year 2018, we can see that with respect to the off peak hours starting at 9pm, "
   ]
  },
  {
   "cell_type": "code",
   "execution_count": null,
   "metadata": {},
   "outputs": [],
   "source": []
  },
  {
   "cell_type": "markdown",
   "metadata": {},
   "source": [
    "# H2 2018 Analysis"
   ]
  },
  {
   "cell_type": "code",
   "execution_count": null,
   "metadata": {},
   "outputs": [],
   "source": [
    "print(get_hours_histogram(files))"
   ]
  },
  {
   "cell_type": "code",
   "execution_count": null,
   "metadata": {},
   "outputs": [],
   "source": [
    "files= ['DAM_July_2018.csv','DAM_Aug_2018.csv','DAM_Sept_2018.csv','DAM_Oct_2018.csv','DAM_Nov_2018.csv',\n",
    "     'DAM_Dec_2018.csv']\n",
    "get_hours_histogram(files)"
   ]
  },
  {
   "cell_type": "code",
   "execution_count": null,
   "metadata": {},
   "outputs": [],
   "source": [
    "# plt.hist(get_hours_histogram(files), bins= np.arange(1,24,1) - 0.5,density= True)\n",
    "# the above returns lowest_hours, not hist: but data is for H2 ...so an improvement!!\n",
    "plt.hist(lowest_hours, bins= np.arange(1,24,1) - 0.5,density= True)\n",
    "plt.title('Histogram of the Hour with the Lowest CAISO Price for the Subject Period ' )\n",
    "plt.xlabel('Hour of the Day')\n",
    "plt.ylabel('Probability')\n",
    "plt.xticks= range(1,25)\n",
    "plt.show()\n",
    "# IMPROVE THIS W CALTECH CODE FOR EXACT SPECIFICATION OF BINS/bin edges (DWW TRY 17, SINCE NONE > 17)\n",
    "# ALSO PRINT THE COUNT FOR EACH HOUR!"
   ]
  },
  {
   "cell_type": "markdown",
   "metadata": {},
   "source": [
    "# 2. Comparison of DAM Prices at Hours 3 & 4 with PGE Off-Peak Onset"
   ]
  },
  {
   "cell_type": "code",
   "execution_count": null,
   "metadata": {},
   "outputs": [],
   "source": []
  },
  {
   "cell_type": "code",
   "execution_count": null,
   "metadata": {},
   "outputs": [],
   "source": []
  },
  {
   "cell_type": "markdown",
   "metadata": {},
   "source": [
    "# Commentary\n",
    "With the PG&E off-peak period starting at 9pm (which is \"Hour 22\"), the average price for two hours of charging is simply the average of the respective prices. This may be compared to the average prices for Hours 3 & 4.\n",
    "As calculated above, the Average Percent Saving of Lowest-Price hours versus the onset of Off-Peak is c.37%."
   ]
  },
  {
   "cell_type": "code",
   "execution_count": null,
   "metadata": {},
   "outputs": [],
   "source": []
  },
  {
   "cell_type": "markdown",
   "metadata": {},
   "source": []
  },
  {
   "cell_type": "code",
   "execution_count": null,
   "metadata": {},
   "outputs": [],
   "source": []
  },
  {
   "cell_type": "code",
   "execution_count": null,
   "metadata": {},
   "outputs": [],
   "source": []
  },
  {
   "cell_type": "code",
   "execution_count": null,
   "metadata": {},
   "outputs": [],
   "source": []
  },
  {
   "cell_type": "code",
   "execution_count": null,
   "metadata": {},
   "outputs": [],
   "source": []
  },
  {
   "cell_type": "markdown",
   "metadata": {},
   "source": [
    "# December 2018"
   ]
  },
  {
   "cell_type": "code",
   "execution_count": null,
   "metadata": {},
   "outputs": [],
   "source": [
    "DEC= read_one_month('201812')"
   ]
  },
  {
   "cell_type": "code",
   "execution_count": null,
   "metadata": {},
   "outputs": [],
   "source": [
    "DEC.tail()"
   ]
  },
  {
   "cell_type": "code",
   "execution_count": null,
   "metadata": {},
   "outputs": [],
   "source": [
    "OCT= read_one_month('201810') # temp variable d is the number of days in the month, plus one.\n",
    "def read_one_month(year_month):\n",
    "    if year_month[4:6] in ['04','06','09','11']:\n",
    "        d= 31\n",
    "    elif year_month[4:6] == '02':\n",
    "        d=29\n",
    "    else:\n",
    "        d=32\n",
    "    month_dates_A= [(year_month + '0' + str(i)) for i in list(range(1,10))]\n",
    "    month_dates_B= [(year_month + str(i)) for i in list(range(10,d))]\n",
    "    month_dates= month_dates_A + month_dates_B\n",
    "    dfs= [read_one_day(date) for date in month_dates] #dfs for dataframeS\n",
    "    dfc= pd.concat(dfs)   \n",
    "    return dfc"
   ]
  },
  {
   "cell_type": "code",
   "execution_count": null,
   "metadata": {},
   "outputs": [],
   "source": [
    "twelve_months= [('2018'+ rest) for rest in ['01','02','03','04','05','06','07','08','09']] + \\\n",
    "['201810','201811','201812']\n",
    "twelve_months"
   ]
  },
  {
   "cell_type": "markdown",
   "metadata": {},
   "source": [
    "# This did run at 9am, before start of Caiso day?\n",
    "This did not run before, but no error message (possibly exceeded CAISO limit?)"
   ]
  },
  {
   "cell_type": "code",
   "execution_count": null,
   "metadata": {},
   "outputs": [],
   "source": [
    "one_year_data= [read_one_month(month) for month in twelve_months] \n",
    "# This did not run, but no error message (possibly exceeded CAISO limit?)"
   ]
  },
  {
   "cell_type": "code",
   "execution_count": null,
   "metadata": {},
   "outputs": [],
   "source": [
    "one_year_data[11] # one year data is a list of df's, that need to be concatenated"
   ]
  },
  {
   "cell_type": "code",
   "execution_count": null,
   "metadata": {},
   "outputs": [],
   "source": [
    "df2018= pd.concat(one_year_data)"
   ]
  },
  {
   "cell_type": "code",
   "execution_count": null,
   "metadata": {},
   "outputs": [],
   "source": [
    "df2018.info()"
   ]
  },
  {
   "cell_type": "code",
   "execution_count": null,
   "metadata": {},
   "outputs": [],
   "source": [
    "df2018.tail()"
   ]
  },
  {
   "cell_type": "markdown",
   "metadata": {},
   "source": [
    "# H2 2018  Are only Hours starting at 2am & 3am the lowest for this period also?\n",
    " Can also concatenate to make a full year and extend the regression analysis"
   ]
  },
  {
   "cell_type": "code",
   "execution_count": null,
   "metadata": {},
   "outputs": [],
   "source": [
    "H2_2018_months=  [('2018'+ rest) for rest in ['07','08','09']] + ['201810','201811','201812']\n",
    "H2_2018"
   ]
  },
  {
   "cell_type": "code",
   "execution_count": null,
   "metadata": {},
   "outputs": [],
   "source": [
    "H2_2018_data= [read_one_month(month) for month in H2_2018_months]     # response ONLY after two minutes?"
   ]
  },
  {
   "cell_type": "code",
   "execution_count": null,
   "metadata": {},
   "outputs": [],
   "source": [
    "df18H2 = pd.concat(H2_2018_data)\n",
    "df18H2.info()\n",
    "df18H2.tail()"
   ]
  },
  {
   "cell_type": "code",
   "execution_count": null,
   "metadata": {},
   "outputs": [],
   "source": []
  },
  {
   "cell_type": "markdown",
   "metadata": {},
   "source": [
    "# Import CAISO Hourly DAM Prices: Completed Six Months Analysis"
   ]
  },
  {
   "cell_type": "code",
   "execution_count": null,
   "metadata": {},
   "outputs": [],
   "source": [
    "# "
   ]
  },
  {
   "cell_type": "code",
   "execution_count": null,
   "metadata": {},
   "outputs": [],
   "source": []
  },
  {
   "cell_type": "code",
   "execution_count": null,
   "metadata": {},
   "outputs": [],
   "source": []
  },
  {
   "cell_type": "code",
   "execution_count": null,
   "metadata": {},
   "outputs": [],
   "source": []
  },
  {
   "cell_type": "code",
   "execution_count": null,
   "metadata": {},
   "outputs": [],
   "source": []
  },
  {
   "cell_type": "code",
   "execution_count": null,
   "metadata": {},
   "outputs": [],
   "source": []
  },
  {
   "cell_type": "code",
   "execution_count": null,
   "metadata": {},
   "outputs": [],
   "source": []
  },
  {
   "cell_type": "code",
   "execution_count": null,
   "metadata": {},
   "outputs": [],
   "source": []
  },
  {
   "cell_type": "code",
   "execution_count": null,
   "metadata": {},
   "outputs": [],
   "source": [
    "df_pvt.head(3)"
   ]
  },
  {
   "cell_type": "code",
   "execution_count": null,
   "metadata": {},
   "outputs": [],
   "source": [
    "\n",
    "\n"
   ]
  },
  {
   "cell_type": "code",
   "execution_count": null,
   "metadata": {},
   "outputs": [],
   "source": []
  },
  {
   "cell_type": "code",
   "execution_count": null,
   "metadata": {},
   "outputs": [],
   "source": []
  },
  {
   "cell_type": "code",
   "execution_count": null,
   "metadata": {},
   "outputs": [],
   "source": [
    "\n"
   ]
  },
  {
   "cell_type": "code",
   "execution_count": null,
   "metadata": {},
   "outputs": [],
   "source": []
  },
  {
   "cell_type": "code",
   "execution_count": null,
   "metadata": {},
   "outputs": [],
   "source": []
  },
  {
   "cell_type": "code",
   "execution_count": null,
   "metadata": {},
   "outputs": [],
   "source": [
    "import numpy as np    \n",
    "hist, bin_edges = np.histogram([1, 1, 2, 2, 2, 2, 3], bins = range(5))\n",
    "Below, hist indicates that there are 0 items in bin #0, 2 in bin #1, 4 in bin #3, 1 in bin #4.\n",
    "\n",
    "print(hist)\n",
    "# array([0, 2, 4, 1])   \n",
    "bin_edges indicates that bin #0 is the interval [0,1), bin #1 is [1,2), ..., bin #3 is [3,4).\n",
    "\n",
    "print (bin_edges)\n",
    "# array([0, 1, 2, 3, 4]))  "
   ]
  },
  {
   "cell_type": "code",
   "execution_count": null,
   "metadata": {},
   "outputs": [],
   "source": [
    "hist = np.histogram(lowest_hours, bins = range(1,24))\n",
    "\n",
    "print(hist)\n",
    "\n",
    "# bin_edges indicates that bin #0 is the interval [0,1), bin #1 is [1,2), ..., bin #3 is [3,4).\n",
    "\n",
    "# print (bin_edges)\n",
    " "
   ]
  },
  {
   "cell_type": "code",
   "execution_count": null,
   "metadata": {},
   "outputs": [],
   "source": []
  },
  {
   "cell_type": "code",
   "execution_count": null,
   "metadata": {},
   "outputs": [],
   "source": []
  },
  {
   "cell_type": "code",
   "execution_count": null,
   "metadata": {},
   "outputs": [],
   "source": []
  },
  {
   "cell_type": "code",
   "execution_count": null,
   "metadata": {},
   "outputs": [],
   "source": []
  },
  {
   "cell_type": "code",
   "execution_count": null,
   "metadata": {},
   "outputs": [],
   "source": []
  },
  {
   "cell_type": "markdown",
   "metadata": {},
   "source": [
    "# Argmax\n",
    "import numpy as np    \n",
    "A = np.matrix([[1,2,3,33],[4,5,6,66],[7,8,9,99]])\n",
    "\n",
    "np.argmax(A)  # 11, which is the position of 99\n",
    "\n",
    "np.argmax(A[:,:])  # 11, which is the position of 99\n",
    "\n",
    "np.argmax(A[:1])  # 3, which is the position of 33\n",
    "\n",
    "np.argmax(A[:,2])  # 2, which is the position of 9\n",
    "\n",
    "np.argmax(A[1:,2])  # 1, which is the position of 9"
   ]
  },
  {
   "cell_type": "code",
   "execution_count": null,
   "metadata": {},
   "outputs": [],
   "source": [
    "import numpy as np    \n",
    "A = np.matrix([[1,2,3,33],[4,5,6,66],[7,8,9,99]])\n",
    "A"
   ]
  },
  {
   "cell_type": "code",
   "execution_count": null,
   "metadata": {},
   "outputs": [],
   "source": [
    "np.argmax(A[:1])  # 3, which is the position of 33\n",
    "\n"
   ]
  },
  {
   "cell_type": "code",
   "execution_count": null,
   "metadata": {},
   "outputs": [],
   "source": [
    "np.argmax(A[:,2])  # 2, which is the position of 9\n",
    "\n"
   ]
  },
  {
   "cell_type": "code",
   "execution_count": null,
   "metadata": {},
   "outputs": [],
   "source": [
    "np.argmax(A[1:,2])  # 1, which is the position of 9"
   ]
  },
  {
   "cell_type": "code",
   "execution_count": null,
   "metadata": {},
   "outputs": [],
   "source": [
    "import numpy as np    \n",
    "A = np.matrix([[1,2,3,33],[4,5,6,66],[7,8,9,99]])\n",
    "A\n",
    "np.argmax(A[:0],axis=0) # when i=0, should be the first row"
   ]
  },
  {
   "cell_type": "code",
   "execution_count": null,
   "metadata": {},
   "outputs": [],
   "source": [
    "A.argmax(1)  # this is NOT numpy, but regular python. "
   ]
  },
  {
   "cell_type": "code",
   "execution_count": null,
   "metadata": {},
   "outputs": [],
   "source": [
    "# numpy.matrix.argmax\n",
    "\n",
    "matrix.argmax(axis=None, out=None)[source]\n",
    "Indexes of the maximum values along an axis.\n",
    "\n",
    "Return the indexes of the first occurrences of the maximum values along the specified axis. If axis is None, the index is for the flattened matrix.\n",
    "\n",
    "Parameters:\t\n",
    "See `numpy.argmax` for complete descriptions\n",
    "See also\n",
    "numpy.argmax\n",
    "\n",
    "Notes\n",
    "\n",
    "This is the same as ndarray.argmax, but returns a matrix object where ndarray.argmax would return an ndarray.\n",
    "\n",
    "Examples\n",
    "\n",
    ">>>\n",
    ">>> x = np.matrix(np.arange(12).reshape((3,4))); x\n",
    "matrix([[ 0,  1,  2,  3],\n",
    "        [ 4,  5,  6,  7],\n",
    "        [ 8,  9, 10, 11]])\n",
    ">>> x.argmax()            # for the flattened array\n",
    "11\n",
    ">>> x.argmax(0)           # axis = 0, the maximum for the column occurs in the 3rd row\n",
    "matrix([[2, 2, 2, 2]])\n",
    "\n",
    ">>> x.argmax(1)           # axis= 1 ; in each case the maximum for the ROW occurs in the third column!!\n",
    "matrix([[3],               # we want to know which column, so M.argmax(1)\n",
    "        [3],\n",
    "        [3]])"
   ]
  },
  {
   "cell_type": "code",
   "execution_count": null,
   "metadata": {},
   "outputs": [],
   "source": []
  },
  {
   "cell_type": "code",
   "execution_count": null,
   "metadata": {},
   "outputs": [],
   "source": []
  },
  {
   "cell_type": "code",
   "execution_count": null,
   "metadata": {},
   "outputs": [],
   "source": []
  },
  {
   "cell_type": "code",
   "execution_count": null,
   "metadata": {},
   "outputs": [],
   "source": []
  },
  {
   "cell_type": "code",
   "execution_count": null,
   "metadata": {},
   "outputs": [],
   "source": [
    "list(range(3))"
   ]
  },
  {
   "cell_type": "code",
   "execution_count": null,
   "metadata": {},
   "outputs": [],
   "source": [
    "[np.argmax(A[:i],axis=0) for i in list(range(3))]"
   ]
  },
  {
   "cell_type": "code",
   "execution_count": null,
   "metadata": {},
   "outputs": [],
   "source": []
  },
  {
   "cell_type": "markdown",
   "metadata": {},
   "source": [
    "# Various tests below on scraping different months and combinations of months."
   ]
  },
  {
   "cell_type": "code",
   "execution_count": null,
   "metadata": {},
   "outputs": [],
   "source": [
    "one_year[0].head()# OK"
   ]
  },
  {
   "cell_type": "code",
   "execution_count": null,
   "metadata": {},
   "outputs": [],
   "source": [
    "OCT.head()"
   ]
  },
  {
   "cell_type": "code",
   "execution_count": null,
   "metadata": {},
   "outputs": [],
   "source": [
    "NOV= read_one_month('201811')"
   ]
  },
  {
   "cell_type": "code",
   "execution_count": null,
   "metadata": {},
   "outputs": [],
   "source": [
    "NOV.tail()"
   ]
  },
  {
   "cell_type": "code",
   "execution_count": null,
   "metadata": {},
   "outputs": [],
   "source": [
    "JAN= read_one_month('201901')\n",
    "JAN.head()"
   ]
  },
  {
   "cell_type": "code",
   "execution_count": null,
   "metadata": {},
   "outputs": [],
   "source": [
    "type(JAN)"
   ]
  },
  {
   "cell_type": "code",
   "execution_count": null,
   "metadata": {},
   "outputs": [],
   "source": [
    "four_months= pd.concat(OCT, NOV, DEC, JAN) \n",
    "#TypeError: first argument must be an iterable of pandas objects, you passed an object of type \"DataFrame\"\n",
    "four_months.shape"
   ]
  },
  {
   "cell_type": "code",
   "execution_count": null,
   "metadata": {},
   "outputs": [],
   "source": []
  },
  {
   "cell_type": "code",
   "execution_count": null,
   "metadata": {},
   "outputs": [],
   "source": [
    "dfc= pd.concat(dfs)        # dfc for dataframes concatenated\n",
    "dfc.shape # 744 hours, 13"
   ]
  },
  {
   "cell_type": "code",
   "execution_count": null,
   "metadata": {},
   "outputs": [],
   "source": [
    "dfc.tail()"
   ]
  },
  {
   "cell_type": "code",
   "execution_count": null,
   "metadata": {},
   "outputs": [],
   "source": [
    "df.info()\n",
    "df.head(3)"
   ]
  },
  {
   "cell_type": "code",
   "execution_count": null,
   "metadata": {},
   "outputs": [],
   "source": []
  },
  {
   "cell_type": "code",
   "execution_count": null,
   "metadata": {},
   "outputs": [],
   "source": [
    "df.DD= pd.to_datetime()"
   ]
  },
  {
   "cell_type": "code",
   "execution_count": null,
   "metadata": {},
   "outputs": [],
   "source": []
  },
  {
   "cell_type": "code",
   "execution_count": null,
   "metadata": {},
   "outputs": [],
   "source": [
    "import pandas as pd  #Hmm, NOT tab-separated as blank columns inserted to accommodate long names!!\n",
    "\n",
    "def text_to_df(file):\n",
    "\n",
    "    df1= pd.read_csv(file, sep= '\\s+',skiprows = 2, header= None, nrows= 24)\n",
    "    df1.columns= ['hour','geo','biom','biog','shydro','wind','solar','solth']\n",
    "    df2= pd.read_csv(file,sep= '\\s+',skiprows = 30, header= None, nrows= 24)\n",
    "    df2.columns= ['hour','SRnwbls','nucl','thermal','imports','lhydro']\n",
    "    df2['load']= df2.hour + df2.SRnwbls + df2.nucl + df2.thermal + df2.imports + df2.lhydro\n",
    "    df2['netload'] = df2.load - df2.SRnwbls\n",
    "    df= pd.merge(df1,df2,on= 'hour')\n",
    "    return df\n"
   ]
  },
  {
   "cell_type": "code",
   "execution_count": null,
   "metadata": {},
   "outputs": [],
   "source": [
    "df= text_to_df('20190114_DailyRenewablesWatch.txt')\n",
    "print(df.head(2))\n"
   ]
  },
  {
   "cell_type": "code",
   "execution_count": null,
   "metadata": {},
   "outputs": [],
   "source": [
    "# THE requests package is much better than antiquated urllib (from DS)\n",
    "# better to use that!\n",
    "import requests\n",
    "url= 'http://content.caiso.com/green/renewrpt/20190114_DailyRenewablesWatch.txt'\n",
    "r= requests.get(url)# where r is the \"Response\"\n",
    "jan14= r.text # is this necessary as we already have a .txt file (not HTML)\n",
    "#save file w \n",
    "\n",
    "jan14file= open('jan14.txt', 'wb') # where wb is write binary: this saves the file (?) "
   ]
  },
  {
   "cell_type": "code",
   "execution_count": null,
   "metadata": {},
   "outputs": [],
   "source": [
    "# So the code runs on the downloaded file, but NOT on the API call using the requests.get() approach"
   ]
  },
  {
   "cell_type": "code",
   "execution_count": null,
   "metadata": {},
   "outputs": [],
   "source": [
    "df_caiso_jan14= text_to_df(jan14)#does not exist!!\n",
    "# df_caiso_jan14= text_to_df(jan14file) # UnsupportedOperation: read\n",
    "df_caiso_jan14= text_to_df(r) # Error: Invalid file path or buffer object type: <class 'requests.models.Response'>\n",
    "# DWW TRY STACK OVERFLOW FOR REFERENCES: ALSO LENOVO"
   ]
  },
  {
   "cell_type": "code",
   "execution_count": null,
   "metadata": {},
   "outputs": [],
   "source": []
  },
  {
   "cell_type": "code",
   "execution_count": null,
   "metadata": {},
   "outputs": [],
   "source": [
    "# we can just keep repeating with multiple df's to see them all on the same plot\n",
    "import matplotlib.pyplot as plt\n",
    "plt.xlabel('Hour of the Day')\n",
    "plt.ylabel('Net Load (in GW)')\n",
    "plt.title('The Characteristic California Solar-Driven Duck Curve: Hourly Net Load')\n",
    "\n",
    "plt.plot(df['hour'], df['netload'])# need to convert to Numpy array first?, eg via npm= df.values: apparently NOT\n",
    "plt.show()\n"
   ]
  },
  {
   "cell_type": "code",
   "execution_count": null,
   "metadata": {},
   "outputs": [],
   "source": []
  },
  {
   "cell_type": "code",
   "execution_count": null,
   "metadata": {},
   "outputs": [],
   "source": [
    "# Do we have the urllib library in the Anaconda distribution? It seems so, as no error thrown\n",
    "from urllib.request import urlretrieve\n",
    "url= 'http://www.caiso.com/market/Pages/ReportsBulletins/RenewablesReporting.aspx/20190114_DailyRenewablesWatch.txt'\n",
    "#NB the other daily file with all the charts is not a txt file, so will not be found!!\n",
    "urlretrieve( url, 'report20190114.txt')\n"
   ]
  },
  {
   "cell_type": "code",
   "execution_count": null,
   "metadata": {},
   "outputs": [],
   "source": [
    "file= 'report20190114.txt'"
   ]
  },
  {
   "cell_type": "code",
   "execution_count": null,
   "metadata": {},
   "outputs": [],
   "source": [
    "print(file)#Hmmm: check Hugo tutorial and printing the file, so we can understand how to read it!!!"
   ]
  },
  {
   "cell_type": "code",
   "execution_count": null,
   "metadata": {},
   "outputs": [],
   "source": [
    "text_to_df('report20190114.txt') # Error tokenizing data. C error: Expected 5 fields in line 6, saw 28\n",
    "# Hmm: confusing. why line 6? 28 columns seems too large vs. the 8 columns in df1 !?"
   ]
  },
  {
   "cell_type": "code",
   "execution_count": null,
   "metadata": {},
   "outputs": [],
   "source": [
    "# Now try it for january 12th, with automatic download from the CAISO website (RE-TYPE inverted commas if pasted!!)\n",
    "url2='http://www.caiso.com/market/Pages/ReportsBulletins/RenewablesReporting.aspx/20190112_DailyRenewablesWatch.txt'"
   ]
  },
  {
   "cell_type": "code",
   "execution_count": null,
   "metadata": {},
   "outputs": [],
   "source": [
    "# paste from above then modify\n",
    "url2= 'http://www.caiso.com/market/Pages/ReportsBulletins/RenewablesReporting.aspx/20190112_DailyRenewablesWatch.txt'"
   ]
  },
  {
   "cell_type": "code",
   "execution_count": null,
   "metadata": {},
   "outputs": [],
   "source": [
    "urlretrieve( url2, 'report20190112.txt') # naming the locally downloaded file for the January 12th text file\n",
    "# error message went away after retyping the pasted commas!!"
   ]
  },
  {
   "cell_type": "code",
   "execution_count": null,
   "metadata": {},
   "outputs": [],
   "source": [
    "text_to_df('report20190112.txt') # running the function on the January 12th file\n",
    "# Error tokenizing data. C error: Expected 5 fields in line 6, saw 28"
   ]
  },
  {
   "cell_type": "code",
   "execution_count": null,
   "metadata": {},
   "outputs": [],
   "source": [
    "#Whoops: first we must correctly name the long file to download from CAISO\n",
    "caisonames= [’http://www.caiso.com/market/Pages/ReportsBulletins/RenewablesReporting.aspx/'+ date + \n",
    "              /'_DailyRenewablesWatch.txt’ for date in dates] "
   ]
  },
  {
   "cell_type": "code",
   "execution_count": null,
   "metadata": {},
   "outputs": [],
   "source": [
    "dates= [d.strftime('%Y%m%d') for d in pd.date_range('20181201','20181231')] #try this for month of December to start\n",
    "dates[0:2]"
   ]
  },
  {
   "cell_type": "code",
   "execution_count": null,
   "metadata": {},
   "outputs": [],
   "source": [
    "filenames= []\n",
    "for date in dates:\n",
    "    filenames.append('report'+ date + '.text')\n",
    "filenames[0:2]"
   ]
  },
  {
   "cell_type": "code",
   "execution_count": null,
   "metadata": {},
   "outputs": [],
   "source": [
    "reportnames= ['report'+ date + '.text' for date in dates] # more succinctly using a list comprehension\n",
    "reportnames[0:3]"
   ]
  },
  {
   "cell_type": "code",
   "execution_count": null,
   "metadata": {},
   "outputs": [],
   "source": [
    "dfs= []\n",
    "for report in reportnames:\n",
    "    frames.append(text_to_df(report))\n",
    "combined= pd.concat(dfs)\n",
    "combined.shape\n",
    "combined.head()\n",
    "    "
   ]
  },
  {
   "cell_type": "code",
   "execution_count": null,
   "metadata": {},
   "outputs": [],
   "source": [
    "combined.tail()"
   ]
  },
  {
   "cell_type": "code",
   "execution_count": null,
   "metadata": {},
   "outputs": [],
   "source": []
  },
  {
   "cell_type": "code",
   "execution_count": null,
   "metadata": {},
   "outputs": [],
   "source": []
  },
  {
   "cell_type": "code",
   "execution_count": null,
   "metadata": {},
   "outputs": [],
   "source": []
  },
  {
   "cell_type": "markdown",
   "metadata": {},
   "source": [
    "# OLD CODE LISTED BELOW FOR POSSIBLE RECYCLING: IGNORE!"
   ]
  },
  {
   "cell_type": "code",
   "execution_count": null,
   "metadata": {},
   "outputs": [],
   "source": [
    "df_Mar= pd.read_csv('March_2018.csv', header= 0, usecols= [0,2,3,8,9,13,14],parse_dates= True, index_col= 'INTERVALSTARTTIME_GMT')"
   ]
  },
  {
   "cell_type": "code",
   "execution_count": null,
   "metadata": {},
   "outputs": [],
   "source": [
    "df_Apr= pd.read_csv('April_2018.csv', header= 0, usecols= [0,2,3,8,9,13,14],parse_dates= True, index_col= 'INTERVALSTARTTIME_GMT')"
   ]
  },
  {
   "cell_type": "code",
   "execution_count": null,
   "metadata": {},
   "outputs": [],
   "source": [
    "df_May= pd.read_csv('May_2018.csv', header= 0, usecols= [0,2,3,8,9,13,14],parse_dates= True, index_col= 'INTERVALSTARTTIME_GMT')"
   ]
  },
  {
   "cell_type": "code",
   "execution_count": null,
   "metadata": {},
   "outputs": [],
   "source": [
    "df_Jun= pd.read_csv('June_2018.csv', header= 0, usecols= [0,2,3,8,9,13,14],parse_dates= True, index_col= 'INTERVALSTARTTIME_GMT')"
   ]
  },
  {
   "cell_type": "code",
   "execution_count": null,
   "metadata": {},
   "outputs": [],
   "source": [
    "df_Jul= pd.read_csv('July_2018.csv', header= 0, usecols= [0,2,3,8,9,13,14],parse_dates= True, index_col= 'INTERVALSTARTTIME_GMT')\n"
   ]
  },
  {
   "cell_type": "code",
   "execution_count": null,
   "metadata": {},
   "outputs": [],
   "source": [
    "df_Aug= pd.read_csv('August_2018.csv', header= 0, usecols= [0,2,3,8,9,13,14],parse_dates= True, index_col= 'INTERVALSTARTTIME_GMT')\n"
   ]
  },
  {
   "cell_type": "code",
   "execution_count": null,
   "metadata": {},
   "outputs": [],
   "source": [
    "df_Sep= pd.read_csv('September_2018.csv', header= 0, usecols= [0,2,3,8,9,13,14],parse_dates= True, index_col= 'INTERVALSTARTTIME_GMT')"
   ]
  },
  {
   "cell_type": "code",
   "execution_count": null,
   "metadata": {},
   "outputs": [],
   "source": [
    "df_Oct= pd.read_csv('October_2018.csv', header= 0, usecols= [0,2,3,8,9,13,14],parse_dates= True, index_col= 'INTERVALSTARTTIME_GMT')\n"
   ]
  },
  {
   "cell_type": "code",
   "execution_count": null,
   "metadata": {},
   "outputs": [],
   "source": [
    "df_Nov= pd.read_csv('November_2018.csv', header= 0, usecols= [0,2,3,8,9,13,14],parse_dates= True, index_col= 'INTERVALSTARTTIME_GMT')"
   ]
  },
  {
   "cell_type": "code",
   "execution_count": null,
   "metadata": {},
   "outputs": [],
   "source": [
    "frames= [df_Jan,df_Feb,df_Mar, df_Apr, df_May, df_Jun, df_Jul,df_Aug, df_Sep, df_Oct, df_Nov]\n",
    "df1= pd.concat(frames)"
   ]
  },
  {
   "cell_type": "code",
   "execution_count": null,
   "metadata": {},
   "outputs": [],
   "source": [
    "dfp= df1[df1['LMP_TYPE'] == 'LMP'] # drops the other four price components and reduces data rows by 80%"
   ]
  },
  {
   "cell_type": "code",
   "execution_count": null,
   "metadata": {},
   "outputs": [],
   "source": [
    "dfp['date']= pd.to_datetime(dfp['OPR_DT']) #needed for plotting after the groupby"
   ]
  },
  {
   "cell_type": "code",
   "execution_count": null,
   "metadata": {},
   "outputs": [],
   "source": [
    "dfp.info() # as desired, the date is now the DateTime object (perfect for time series plotting)"
   ]
  },
  {
   "cell_type": "code",
   "execution_count": null,
   "metadata": {},
   "outputs": [],
   "source": [
    "dfp= dfp.drop(['OPR_DT','LMP_TYPE','XML_DATA_ITEM'],axis=1)\n",
    "dfp.columns= ['hour','price','interval','day']\n",
    "dfp['weekday']= dfp.day.dt.weekday_name\n",
    "dfp.index.names= ['date']\n",
    "\n",
    "dfp.head() # "
   ]
  },
  {
   "cell_type": "code",
   "execution_count": null,
   "metadata": {},
   "outputs": [],
   "source": [
    "dfp.info()"
   ]
  },
  {
   "cell_type": "code",
   "execution_count": null,
   "metadata": {},
   "outputs": [],
   "source": [
    "# import matplotlib.pyplot as plt # shocking grid instability due to price peaks \n",
    "dfp['price'].plot()\n",
    "# plt.show()"
   ]
  },
  {
   "cell_type": "code",
   "execution_count": null,
   "metadata": {},
   "outputs": [],
   "source": [
    "Feb= dfp.loc['2018-02-01':'2018-02-28'] # if a peak of $1000/MWh occurs only 1%, it still adds $10/MWh to the mean!!!*****\n",
    "Feb['price'].plot()\n",
    "# So what is causing the spikes!! $10/MWh versus average of 25:mostly only for 3 months Feb, March, April (but 1% is for the YEAR)\n",
    "# Easy to quantify frequency by month (could it be unexpected drops in Wind not reflected in Day-Ahead-Market ??)\n",
    "# while the negative prices are more frequent at 3%, the value is maybe $20/MWh so contribution to the mean is only \n",
    "# Review \"State of the Market\" report by Potomac (ask them this!!)"
   ]
  },
  {
   "cell_type": "code",
   "execution_count": null,
   "metadata": {},
   "outputs": [],
   "source": [
    "Mar= dfp.loc['2018-03-01':'2018-03-31'] # so a peak of $140/MWh is 14 cents\n",
    "Feb['price'].plot()\n",
    "        "
   ]
  },
  {
   "cell_type": "code",
   "execution_count": null,
   "metadata": {},
   "outputs": [],
   "source": [
    "April= dfp.loc['2018-04-01':'2018-04-30'] # so a peak of $140/MWh is 14 cents\n",
    "Feb['price'].plot()"
   ]
  },
  {
   "cell_type": "code",
   "execution_count": null,
   "metadata": {},
   "outputs": [],
   "source": [
    "May= dfp.loc['2018-05-01':'2018-05-31'] # so a peak of $140/MWh is 14 cents\n",
    "May['price'].plot()"
   ]
  },
  {
   "cell_type": "code",
   "execution_count": null,
   "metadata": {},
   "outputs": [],
   "source": [
    "June= dfp.loc['2018-06-01':'2018-06-30'] # so a peak of $140/MWh is 14 cents\n",
    "June['price'].plot()"
   ]
  },
  {
   "cell_type": "code",
   "execution_count": null,
   "metadata": {},
   "outputs": [],
   "source": []
  },
  {
   "cell_type": "code",
   "execution_count": null,
   "metadata": {},
   "outputs": [],
   "source": [
    "dfp.price.plot(kind='hist', bins=20) # the outliers at 1000 (50x the normal price) spoil the display\n"
   ]
  },
  {
   "cell_type": "code",
   "execution_count": null,
   "metadata": {},
   "outputs": [],
   "source": [
    "dfp.boxplot(column= 'price', by= 'hour')\n"
   ]
  },
  {
   "cell_type": "code",
   "execution_count": null,
   "metadata": {},
   "outputs": [],
   "source": [
    "dfp.columns\n",
    "dfp.shape"
   ]
  },
  {
   "cell_type": "code",
   "execution_count": null,
   "metadata": {},
   "outputs": [],
   "source": [
    "spikep= dfp[dfp.price > 100]  # so we have 1.2% frequency of spike prices, although optically they dominate the plots!\n",
    "spikep.shape"
   ]
  },
  {
   "cell_type": "code",
   "execution_count": null,
   "metadata": {},
   "outputs": [],
   "source": [
    "normalp= dfp[(dfp.price < 100) & (dfp.price > 0)] # \n",
    "normalp.shape"
   ]
  },
  {
   "cell_type": "code",
   "execution_count": null,
   "metadata": {},
   "outputs": [],
   "source": [
    "negativep= dfp[(dfp.price < 0) & (dfp.price > -30)] # so almost 3% of the time we have a negative price or zero\n",
    "negativep.shape   # and just four times we have prices more negative than 50"
   ]
  },
  {
   "cell_type": "code",
   "execution_count": null,
   "metadata": {},
   "outputs": [],
   "source": [
    "normalp.boxplot(column= 'price', by= 'hour')  # below uses showfliers=False to exclude the outliers being displayed\n"
   ]
  },
  {
   "cell_type": "code",
   "execution_count": null,
   "metadata": {},
   "outputs": [],
   "source": [
    "normalp.boxplot(column= 'price', by= 'hour',showfliers=False)  # showfliers=False\n"
   ]
  },
  {
   "cell_type": "code",
   "execution_count": null,
   "metadata": {},
   "outputs": [],
   "source": [
    "g= normalp.groupby('hour')\n",
    "g.count()\n",
    "\n",
    "# This seems to be saying that the three hours in November with the most frequent low prices are from 10am to 3pm\n",
    "# But these 172 five-minute intervals average only 29 minutes a day of prices below $20/MWh\n",
    "# Level 1 charger is normally 2 hours of charging: MAY NEED TO INCREASE THRESHOLD TO 3 CENTS/$30/MWh\n",
    "# BIG QUESTION IS WHETHER THE DIFFERENCE FOR PEAK EVENING PRICES EXCEEDS 25 CENTS/KWH, OF $45/MWh (see p.17 of \"Charging Smart\")\n",
    "# Counts can be compared to 30 days x 12 Intervals = 360 Intervals/month"
   ]
  },
  {
   "cell_type": "code",
   "execution_count": null,
   "metadata": {},
   "outputs": [],
   "source": [
    "normalp.groupby('hour').mean()\n",
    "# The lowest average prices are from 9am to 4pm, which is when Solar is strongest."
   ]
  },
  {
   "cell_type": "code",
   "execution_count": null,
   "metadata": {},
   "outputs": [],
   "source": [
    "spikep.price.plot(kind='hist', bins=30)"
   ]
  },
  {
   "cell_type": "code",
   "execution_count": null,
   "metadata": {},
   "outputs": [],
   "source": [
    "normalp.price.plot(kind='hist', bins=30)  # No showfliers= False !!"
   ]
  },
  {
   "cell_type": "code",
   "execution_count": null,
   "metadata": {},
   "outputs": [],
   "source": [
    "negativep.price.plot(kind='hist', bins=30) # excludes two outliers below -50 and an additional two below -30"
   ]
  },
  {
   "cell_type": "markdown",
   "metadata": {},
   "source": [
    "WHAT IS THE QUESTION: NEED TO LIMIT HOURS TO PGE NIGHT RANGE AND COMPARE 24 INTERVALS VS 12! COMPARE PRICE DELTA"
   ]
  },
  {
   "cell_type": "code",
   "execution_count": null,
   "metadata": {},
   "outputs": [],
   "source": [
    "normalp.price.plot(kind='hist', bins=30, cumulative= True)\n",
    "# Two hours per day average for a Level One EV charger is 24 intervals x 30 days = 720: THRESHOLD must be increased!!!\n",
    "# Add a horizontal red line at 720 !!\n",
    "# Define a function that computes the average price (eg still below 2 cents?)"
   ]
  },
  {
   "cell_type": "code",
   "execution_count": null,
   "metadata": {},
   "outputs": [],
   "source": []
  },
  {
   "cell_type": "code",
   "execution_count": null,
   "metadata": {},
   "outputs": [],
   "source": []
  },
  {
   "cell_type": "code",
   "execution_count": null,
   "metadata": {},
   "outputs": [],
   "source": [
    "# this function returns PG&E's designation of Peak (P), Off-Peak (OP), or Standard (S) EV pricing according to the hour of day\n",
    "def peak(hour): \n",
    "    if hour in [24,1,2,3,4,5,6,7]:\n",
    "        return 'OP'\n",
    "    elif hour in [15,16,17,18,19,20,21,22]:\n",
    "        return 'P'\n",
    "    else:\n",
    "        return 'S'\n",
    "    \n",
    "    "
   ]
  },
  {
   "cell_type": "markdown",
   "metadata": {},
   "source": [
    "COMPREHENSIVE APPROACH TO PG&E PUBLISHED SCHEDULE\n",
    "if date is a public holiday (saved as a list for 2018) OR day is weekend (Saturday/Sunday) then Peak is 3-7pm (rest Off Peak)\n",
    "if day is a weekday (and not a holiday) then:\n",
    "Peak is 2-9pm (hours 14 to 21)...list(range(14,22)\n",
    "Partial Peak is 7am to 2pm and 9-11pm: hours 7-14 & 21-23: hour in list(range(7,15)) + list(range(21,24))\n",
    "Otherwise (ELSE) 'OP' which is Off-Peak"
   ]
  },
  {
   "cell_type": "code",
   "execution_count": null,
   "metadata": {},
   "outputs": [],
   "source": [
    "# need to enter dates as strings and make the dates datetime objects with  .to_datetime() method in pandas\n",
    "holidays = ['2018-01-01','2018-01-15','2018-02-19','2018-05-28','2018-07-04','2018-09-03','2018-12-25'] #list of public holidays\n",
    "holidays= pd.to_datetime(holidays) \n",
    "holidays # this works OK it seems so the Boolean should match"
   ]
  },
  {
   "cell_type": "code",
   "execution_count": null,
   "metadata": {},
   "outputs": [],
   "source": [
    "# indentation is likely a problem as I mixed tabs and spaces!! Paste this into Spyder to debug? NOT SO! now runs!\n",
    "# NB at 7am the 7th hour has just concluded, so 'PP' begins with the 8th hour\n",
    "def PGE(hour,day,weekday): # hour, day, and weekday are columns from the dfp dataframe above (types listed 3 cells below)\n",
    "    # need to enter dates as strings and make the dates datetime objects with  .to_datetime() method in pandas (works OK above)\n",
    "    holidays = ['2018-01-01','2018-01-15','2018-02-19','2018-05-28','2018-07-04','2018-09-03','2018-12-25']\n",
    "    holidays= pd.to_datetime(holidays)\n",
    "    # list of public holiday\n",
    "    weekend_peak= list(range(16,20)) # weekend peak is 3-7pm: noon begins hour 13, so 2pm is hour 15, 3pm is hour 16\n",
    "    weekday_peak= list(range(15,23)) # this corresponds to the weekdays Monday to Friday, first for 2-9pm, for hours 15 to 8\n",
    "    partial_peak= list(range(8,15)) + list(range(22,24))\n",
    "    off_peak= list(range(1,8)) + [24] \n",
    "    if (day in holidays)|(weekday in ['Saturday','Sunday']):\n",
    "      if hour in weekend_peak: \n",
    "        return 'P'\n",
    "      else:   \n",
    "        return 'OP'  \n",
    "    elif hour in weekday_peak: \n",
    "      return'P'   \n",
    "    elif hour in partial_peak: \n",
    "      return 'PP'  \n",
    "    elif hour in off_peak:\n",
    "      return 'OP'\n",
    "    else:\n",
    "      return 'problem!' \n",
    "      # we should never see this condition triggered unless there is a problem (hour 25 when clocks set back!)\n",
    "# as a sanity check the respective lists added together should equal list(range(1,25)) so we should test with this Boolean!!\n",
    "PGE(16,holidays[0],'Tuesday')"
   ]
  },
  {
   "cell_type": "code",
   "execution_count": null,
   "metadata": {},
   "outputs": [],
   "source": [
    "list(range(1,8)) + [24]"
   ]
  },
  {
   "cell_type": "code",
   "execution_count": null,
   "metadata": {},
   "outputs": [],
   "source": [
    "PGE(14, holidays[0], 'Monday')"
   ]
  },
  {
   "cell_type": "code",
   "execution_count": null,
   "metadata": {},
   "outputs": [],
   "source": [
    "combined= list(range(15,23)) + list(range(8,15)) + list(range(22,24)) + list(range(1,8)) + [24] \n",
    "sorted(combined) # == list(range(1,25)) #  False!!  PROBLEM (Hmm: they match but combined is NOT horizontal but vertical!!)"
   ]
  },
  {
   "cell_type": "code",
   "execution_count": null,
   "metadata": {},
   "outputs": [],
   "source": [
    "list(range(15,22)) + list(range(8,15)) + list(range(22,24)) + list(range(1,8)) + [24] #22"
   ]
  },
  {
   "cell_type": "code",
   "execution_count": null,
   "metadata": {},
   "outputs": [],
   "source": [
    "list(range(7,14)) + list(range(21,22)) # test for Partial Peak ('PP')                    "
   ]
  },
  {
   "cell_type": "code",
   "execution_count": null,
   "metadata": {},
   "outputs": [],
   "source": [
    "list(range(14,21)) # test for Peak ('PP')"
   ]
  },
  {
   "cell_type": "code",
   "execution_count": null,
   "metadata": {},
   "outputs": [],
   "source": [
    "dfp.info()"
   ]
  },
  {
   "cell_type": "code",
   "execution_count": null,
   "metadata": {},
   "outputs": [],
   "source": [
    "this function returns PG&E's designation of Peak (P), Off-Peak (OP), or Standard (S) EV pricing according to the hour of day\n",
    "#def peak(hour): \n",
    "    if hour in [list(range(1,8) + [24]]:\n",
    "       return 'OP'\n",
    "   elif hour in [list(range(15,23)]:\n",
    "        return 'P'\n",
    "    else:\n",
    "        return 'S'\n",
    "   \n",
    "# list comprehension version? see below"
   ]
  },
  {
   "cell_type": "code",
   "execution_count": null,
   "metadata": {},
   "outputs": [],
   "source": [
    "d= {'OP':list(range(1,8))+ [24], 'P':list(range(15,23)),'S':list(range(8,15)) + list(range(22,24))}\n",
    "def PGE(hour):\n",
    "    for key,value in d.items:\n",
    "        if hour in d.value  #FIX THIS\n",
    "            return d.key\n",
    "print(PGE(3))"
   ]
  },
  {
   "cell_type": "code",
   "execution_count": null,
   "metadata": {},
   "outputs": [],
   "source": [
    "peak(1)\n",
    "peak(16)"
   ]
  },
  {
   "cell_type": "code",
   "execution_count": null,
   "metadata": {},
   "outputs": [],
   "source": [
    "dfp['PGE']= dfp.hour.apply(peak)\n",
    "dfp.PGE.head()\n",
    "dfp.PGE.tail()"
   ]
  },
  {
   "cell_type": "code",
   "execution_count": null,
   "metadata": {},
   "outputs": [],
   "source": [
    "dfp.head()"
   ]
  },
  {
   "cell_type": "code",
   "execution_count": null,
   "metadata": {},
   "outputs": [],
   "source": [
    "gPGE= dfp.groupby(['day','PGE'])"
   ]
  },
  {
   "cell_type": "code",
   "execution_count": null,
   "metadata": {},
   "outputs": [],
   "source": [
    "daily_PGE= gPGE.price.mean() # this is hourly data!!\n",
    "daily_PGE.head(20)"
   ]
  },
  {
   "cell_type": "code",
   "execution_count": null,
   "metadata": {},
   "outputs": [],
   "source": [
    "dfPGE= daily_PGE.to_frame()\n",
    "dfPGE= dfPGE.sort_values(['day'])\n",
    "dfPGE.head()"
   ]
  },
  {
   "cell_type": "code",
   "execution_count": null,
   "metadata": {},
   "outputs": [],
   "source": [
    "dfPGE.tail() # "
   ]
  },
  {
   "cell_type": "code",
   "execution_count": null,
   "metadata": {},
   "outputs": [],
   "source": [
    "dfPGE= dfPGE.unstack('PGE')\n",
    "dfPGE.head()"
   ]
  },
  {
   "cell_type": "code",
   "execution_count": null,
   "metadata": {},
   "outputs": [],
   "source": [
    "FebPGE = dfPGE.loc['2018-02-01':'2018-02-28'].plot()# so a peak of $140/MWh is 14 cents\n",
    "FebPGE.plot()"
   ]
  },
  {
   "cell_type": "code",
   "execution_count": null,
   "metadata": {},
   "outputs": [],
   "source": [
    "MarPGE = dfPGE.loc['2018-03-01':'2018-03-31'] # so a peak of $140/MWh is 14 cents\n",
    "MarPGE.plot()"
   ]
  },
  {
   "cell_type": "code",
   "execution_count": null,
   "metadata": {},
   "outputs": [],
   "source": [
    "AprPGE= dfPGE.loc['2018-04-01':'2018-04-30'] # so a peak of $140/MWh is 14 cents\n",
    "AprPGE.plot()"
   ]
  },
  {
   "cell_type": "code",
   "execution_count": null,
   "metadata": {},
   "outputs": [],
   "source": []
  },
  {
   "cell_type": "code",
   "execution_count": null,
   "metadata": {},
   "outputs": [],
   "source": [
    "dfPGE.plot() \n",
    "# THIS IS A CRITICAL PLOT TO BE REPEATED MONTHLY USING A PANEL APPROACH (can use df.loc() or extract 'month' as a variable)\n",
    "# Surprises: the highest spikes are not Peak but Standard, \n",
    "# peak is evening from 2pm to 8pm!\n",
    "# Peak seems to have recurring spikes perhaps related to the day of the week?\n",
    "# on many days the standard price is below the off-peak price Can calculate frequency with a Boolean!\n",
    "# Standard is from 8 until 2pm so prices are lowered by midday solar"
   ]
  },
  {
   "cell_type": "code",
   "execution_count": null,
   "metadata": {},
   "outputs": [],
   "source": [
    "dfPGE.info()"
   ]
  },
  {
   "cell_type": "code",
   "execution_count": null,
   "metadata": {},
   "outputs": [],
   "source": [
    "dfPGE.columns= ['OP','P','S']\n",
    "dfPGE.head(3)\n",
    "dfPGE.tail()"
   ]
  },
  {
   "cell_type": "code",
   "execution_count": null,
   "metadata": {},
   "outputs": [],
   "source": []
  },
  {
   "cell_type": "code",
   "execution_count": null,
   "metadata": {},
   "outputs": [],
   "source": []
  },
  {
   "cell_type": "code",
   "execution_count": null,
   "metadata": {},
   "outputs": [],
   "source": [
    "# BIG QUESTION: EACH DAY FIND THE HIGHEST 100 PRICES AND THEN THE LOWEST 100 PRICES VIA SORT. \n",
    "# THEN SUBTRACT THE LOWEST FROM THE HIGHEST, AND SEE IF > $0.25. KEEP GOING UNTIL THIS THRESHOLD IS HIT! \n",
    "# SO CHARGE AT WORK FROM 9 TO 10AM AND USE AT HOME TO RUN AC IN PEAK HOURS!!!"
   ]
  },
  {
   "cell_type": "code",
   "execution_count": null,
   "metadata": {},
   "outputs": [],
   "source": [
    "# We need suppose 2 hours on average daily, 24 intervals/day, 720/month. Find for cumulative of 720 the cut-off price\n",
    "# Then calculate the average price (of course less than cutoff): compute for 720 vs 360, and annnualise cost benefit\n",
    "# this is the economic value of the Level 2 Charger versus the Level 1."
   ]
  },
  {
   "cell_type": "code",
   "execution_count": null,
   "metadata": {},
   "outputs": [],
   "source": [
    "# downsample the 5-minute prices to hourly and match up with hourly wind and solar data (Dhavide Course One)"
   ]
  },
  {
   "cell_type": "code",
   "execution_count": null,
   "metadata": {},
   "outputs": [],
   "source": []
  },
  {
   "cell_type": "code",
   "execution_count": null,
   "metadata": {},
   "outputs": [],
   "source": []
  }
 ],
 "metadata": {
  "kernelspec": {
   "display_name": "Python 3",
   "language": "python",
   "name": "python3"
  },
  "language_info": {
   "codemirror_mode": {
    "name": "ipython",
    "version": 3
   },
   "file_extension": ".py",
   "mimetype": "text/x-python",
   "name": "python",
   "nbconvert_exporter": "python",
   "pygments_lexer": "ipython3",
   "version": "3.7.1"
  }
 },
 "nbformat": 4,
 "nbformat_minor": 2
}
