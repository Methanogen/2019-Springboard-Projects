{
 "cells": [
  {
   "cell_type": "code",
   "execution_count": 1,
   "metadata": {},
   "outputs": [
    {
     "name": "stdout",
     "output_type": "stream",
     "text": [
      "/Users/user/Desktop\n"
     ]
    }
   ],
   "source": [
    "import os\n",
    "print(os.getcwd())"
   ]
  },
  {
   "cell_type": "code",
   "execution_count": 2,
   "metadata": {},
   "outputs": [
    {
     "name": "stdout",
     "output_type": "stream",
     "text": [
      "/Users/user/Desktop\n"
     ]
    }
   ],
   "source": [
    "# os.chdir(r'C:/Users/user/Desktop/Hevrin Data') # r is a raw string, not read as an escape sequence\n",
    "print(os.getcwd())  # so copied and pasted the required files from IDrive located by a search"
   ]
  },
  {
   "cell_type": "markdown",
   "metadata": {},
   "source": [
    "# I. DATA WRANGLING TO OBTAIN A TIME SERIES WITH A DATETIME INDEX"
   ]
  },
  {
   "cell_type": "code",
   "execution_count": 3,
   "metadata": {},
   "outputs": [
    {
     "name": "stdout",
     "output_type": "stream",
     "text": [
      "(2788, 25)\n"
     ]
    },
    {
     "data": {
      "text/html": [
       "<div>\n",
       "<style scoped>\n",
       "    .dataframe tbody tr th:only-of-type {\n",
       "        vertical-align: middle;\n",
       "    }\n",
       "\n",
       "    .dataframe tbody tr th {\n",
       "        vertical-align: top;\n",
       "    }\n",
       "\n",
       "    .dataframe thead th {\n",
       "        text-align: right;\n",
       "    }\n",
       "</style>\n",
       "<table border=\"1\" class=\"dataframe\">\n",
       "  <thead>\n",
       "    <tr style=\"text-align: right;\">\n",
       "      <th></th>\n",
       "      <th>45</th>\n",
       "      <th>46</th>\n",
       "      <th>47</th>\n",
       "      <th>48</th>\n",
       "      <th>49</th>\n",
       "      <th>50</th>\n",
       "      <th>51</th>\n",
       "      <th>52</th>\n",
       "      <th>53</th>\n",
       "      <th>54</th>\n",
       "      <th>...</th>\n",
       "      <th>60</th>\n",
       "      <th>61</th>\n",
       "      <th>62</th>\n",
       "      <th>63</th>\n",
       "      <th>64</th>\n",
       "      <th>65</th>\n",
       "      <th>66</th>\n",
       "      <th>67</th>\n",
       "      <th>68</th>\n",
       "      <th>69</th>\n",
       "    </tr>\n",
       "  </thead>\n",
       "  <tbody>\n",
       "    <tr>\n",
       "      <th>0</th>\n",
       "      <td>08/01/2011</td>\n",
       "      <td>0.77</td>\n",
       "      <td>0.64</td>\n",
       "      <td>0.70</td>\n",
       "      <td>0.58</td>\n",
       "      <td>0.58</td>\n",
       "      <td>0.51</td>\n",
       "      <td>0.70</td>\n",
       "      <td>0.70</td>\n",
       "      <td>0.32</td>\n",
       "      <td>...</td>\n",
       "      <td>1.600</td>\n",
       "      <td>2.18</td>\n",
       "      <td>2.50</td>\n",
       "      <td>2.75</td>\n",
       "      <td>3.58</td>\n",
       "      <td>3.33</td>\n",
       "      <td>3.33</td>\n",
       "      <td>3.33</td>\n",
       "      <td>2.62</td>\n",
       "      <td>1.60</td>\n",
       "    </tr>\n",
       "    <tr>\n",
       "      <th>1</th>\n",
       "      <td>08/02/2011</td>\n",
       "      <td>0.77</td>\n",
       "      <td>0.64</td>\n",
       "      <td>0.70</td>\n",
       "      <td>0.70</td>\n",
       "      <td>0.58</td>\n",
       "      <td>0.64</td>\n",
       "      <td>0.70</td>\n",
       "      <td>0.38</td>\n",
       "      <td>0.26</td>\n",
       "      <td>...</td>\n",
       "      <td>2.112</td>\n",
       "      <td>1.66</td>\n",
       "      <td>2.43</td>\n",
       "      <td>3.07</td>\n",
       "      <td>4.29</td>\n",
       "      <td>8.45</td>\n",
       "      <td>6.08</td>\n",
       "      <td>3.71</td>\n",
       "      <td>2.75</td>\n",
       "      <td>1.86</td>\n",
       "    </tr>\n",
       "    <tr>\n",
       "      <th>2</th>\n",
       "      <td>08/03/2011</td>\n",
       "      <td>1.22</td>\n",
       "      <td>0.70</td>\n",
       "      <td>0.77</td>\n",
       "      <td>0.70</td>\n",
       "      <td>1.09</td>\n",
       "      <td>0.77</td>\n",
       "      <td>0.83</td>\n",
       "      <td>0.38</td>\n",
       "      <td>0.32</td>\n",
       "      <td>...</td>\n",
       "      <td>1.536</td>\n",
       "      <td>2.43</td>\n",
       "      <td>3.20</td>\n",
       "      <td>3.26</td>\n",
       "      <td>2.69</td>\n",
       "      <td>3.97</td>\n",
       "      <td>3.26</td>\n",
       "      <td>3.46</td>\n",
       "      <td>1.47</td>\n",
       "      <td>0.45</td>\n",
       "    </tr>\n",
       "    <tr>\n",
       "      <th>3</th>\n",
       "      <td>08/04/2011</td>\n",
       "      <td>0.38</td>\n",
       "      <td>0.58</td>\n",
       "      <td>0.38</td>\n",
       "      <td>0.38</td>\n",
       "      <td>0.38</td>\n",
       "      <td>0.32</td>\n",
       "      <td>0.45</td>\n",
       "      <td>0.38</td>\n",
       "      <td>0.32</td>\n",
       "      <td>...</td>\n",
       "      <td>0.704</td>\n",
       "      <td>2.05</td>\n",
       "      <td>3.39</td>\n",
       "      <td>3.65</td>\n",
       "      <td>3.33</td>\n",
       "      <td>2.56</td>\n",
       "      <td>1.47</td>\n",
       "      <td>1.09</td>\n",
       "      <td>1.22</td>\n",
       "      <td>0.77</td>\n",
       "    </tr>\n",
       "    <tr>\n",
       "      <th>4</th>\n",
       "      <td>08/05/2011</td>\n",
       "      <td>0.51</td>\n",
       "      <td>0.70</td>\n",
       "      <td>0.45</td>\n",
       "      <td>0.38</td>\n",
       "      <td>0.51</td>\n",
       "      <td>0.38</td>\n",
       "      <td>0.51</td>\n",
       "      <td>0.32</td>\n",
       "      <td>0.32</td>\n",
       "      <td>...</td>\n",
       "      <td>1.088</td>\n",
       "      <td>1.86</td>\n",
       "      <td>2.75</td>\n",
       "      <td>3.20</td>\n",
       "      <td>2.50</td>\n",
       "      <td>1.92</td>\n",
       "      <td>1.54</td>\n",
       "      <td>1.22</td>\n",
       "      <td>1.22</td>\n",
       "      <td>0.77</td>\n",
       "    </tr>\n",
       "  </tbody>\n",
       "</table>\n",
       "<p>5 rows × 25 columns</p>\n",
       "</div>"
      ],
      "text/plain": [
       "           45    46    47    48    49    50    51    52    53    54  ...   \\\n",
       "0  08/01/2011  0.77  0.64  0.70  0.58  0.58  0.51  0.70  0.70  0.32  ...    \n",
       "1  08/02/2011  0.77  0.64  0.70  0.70  0.58  0.64  0.70  0.38  0.26  ...    \n",
       "2  08/03/2011  1.22  0.70  0.77  0.70  1.09  0.77  0.83  0.38  0.32  ...    \n",
       "3  08/04/2011  0.38  0.58  0.38  0.38  0.38  0.32  0.45  0.38  0.32  ...    \n",
       "4  08/05/2011  0.51  0.70  0.45  0.38  0.51  0.38  0.51  0.32  0.32  ...    \n",
       "\n",
       "      60    61    62    63    64    65    66    67    68    69  \n",
       "0  1.600  2.18  2.50  2.75  3.58  3.33  3.33  3.33  2.62  1.60  \n",
       "1  2.112  1.66  2.43  3.07  4.29  8.45  6.08  3.71  2.75  1.86  \n",
       "2  1.536  2.43  3.20  3.26  2.69  3.97  3.26  3.46  1.47  0.45  \n",
       "3  0.704  2.05  3.39  3.65  3.33  2.56  1.47  1.09  1.22  0.77  \n",
       "4  1.088  1.86  2.75  3.20  2.50  1.92  1.54  1.22  1.22  0.77  \n",
       "\n",
       "[5 rows x 25 columns]"
      ]
     },
     "execution_count": 3,
     "metadata": {},
     "output_type": "execute_result"
    }
   ],
   "source": [
    "import pandas as pd\n",
    "df= pd.read_csv('Hevrin Usage.csv',header= None,skiprows= 17, usecols= [*range(45,70)]) \n",
    "# skip rows st start August 1st\n",
    "# nrows= 730,   nrows st two years to start with: better is all days, then resample to weekly with .resample('W')\n",
    "print(df.shape)\n",
    "df.head()"
   ]
  },
  {
   "cell_type": "code",
   "execution_count": 4,
   "metadata": {},
   "outputs": [],
   "source": [
    "# df.info()"
   ]
  },
  {
   "cell_type": "code",
   "execution_count": 5,
   "metadata": {},
   "outputs": [],
   "source": [
    "df.columns= ['day','00','01','02','03','04','05','06','07','08','09','10','11','12','13','14','15','16','17','18','19','20','21','22','23']"
   ]
  },
  {
   "cell_type": "code",
   "execution_count": 6,
   "metadata": {},
   "outputs": [
    {
     "data": {
      "text/html": [
       "<div>\n",
       "<style scoped>\n",
       "    .dataframe tbody tr th:only-of-type {\n",
       "        vertical-align: middle;\n",
       "    }\n",
       "\n",
       "    .dataframe tbody tr th {\n",
       "        vertical-align: top;\n",
       "    }\n",
       "\n",
       "    .dataframe thead th {\n",
       "        text-align: right;\n",
       "    }\n",
       "</style>\n",
       "<table border=\"1\" class=\"dataframe\">\n",
       "  <thead>\n",
       "    <tr style=\"text-align: right;\">\n",
       "      <th></th>\n",
       "      <th>00</th>\n",
       "      <th>01</th>\n",
       "      <th>02</th>\n",
       "      <th>03</th>\n",
       "      <th>04</th>\n",
       "      <th>05</th>\n",
       "      <th>06</th>\n",
       "      <th>07</th>\n",
       "      <th>08</th>\n",
       "      <th>09</th>\n",
       "      <th>...</th>\n",
       "      <th>14</th>\n",
       "      <th>15</th>\n",
       "      <th>16</th>\n",
       "      <th>17</th>\n",
       "      <th>18</th>\n",
       "      <th>19</th>\n",
       "      <th>20</th>\n",
       "      <th>21</th>\n",
       "      <th>22</th>\n",
       "      <th>23</th>\n",
       "    </tr>\n",
       "    <tr>\n",
       "      <th>day</th>\n",
       "      <th></th>\n",
       "      <th></th>\n",
       "      <th></th>\n",
       "      <th></th>\n",
       "      <th></th>\n",
       "      <th></th>\n",
       "      <th></th>\n",
       "      <th></th>\n",
       "      <th></th>\n",
       "      <th></th>\n",
       "      <th></th>\n",
       "      <th></th>\n",
       "      <th></th>\n",
       "      <th></th>\n",
       "      <th></th>\n",
       "      <th></th>\n",
       "      <th></th>\n",
       "      <th></th>\n",
       "      <th></th>\n",
       "      <th></th>\n",
       "      <th></th>\n",
       "    </tr>\n",
       "  </thead>\n",
       "  <tbody>\n",
       "    <tr>\n",
       "      <th>03/17/2019</th>\n",
       "      <td>0.58</td>\n",
       "      <td>0.45</td>\n",
       "      <td>0.58</td>\n",
       "      <td>0.58</td>\n",
       "      <td>0.45</td>\n",
       "      <td>0.51</td>\n",
       "      <td>0.51</td>\n",
       "      <td>0.51</td>\n",
       "      <td>0.96</td>\n",
       "      <td>2.11</td>\n",
       "      <td>...</td>\n",
       "      <td>1.024</td>\n",
       "      <td>0.96</td>\n",
       "      <td>0.96</td>\n",
       "      <td>1.22</td>\n",
       "      <td>2.18</td>\n",
       "      <td>6.78</td>\n",
       "      <td>2.75</td>\n",
       "      <td>2.88</td>\n",
       "      <td>0.83</td>\n",
       "      <td>0.51</td>\n",
       "    </tr>\n",
       "    <tr>\n",
       "      <th>03/18/2019</th>\n",
       "      <td>0.45</td>\n",
       "      <td>0.51</td>\n",
       "      <td>0.51</td>\n",
       "      <td>0.51</td>\n",
       "      <td>0.51</td>\n",
       "      <td>0.51</td>\n",
       "      <td>0.58</td>\n",
       "      <td>3.97</td>\n",
       "      <td>3.33</td>\n",
       "      <td>0.70</td>\n",
       "      <td>...</td>\n",
       "      <td>4.352</td>\n",
       "      <td>6.78</td>\n",
       "      <td>2.56</td>\n",
       "      <td>0.96</td>\n",
       "      <td>0.45</td>\n",
       "      <td>0.77</td>\n",
       "      <td>0.90</td>\n",
       "      <td>0.83</td>\n",
       "      <td>2.82</td>\n",
       "      <td>0.58</td>\n",
       "    </tr>\n",
       "    <tr>\n",
       "      <th>03/19/2019</th>\n",
       "      <td>0.58</td>\n",
       "      <td>0.51</td>\n",
       "      <td>0.51</td>\n",
       "      <td>NaN</td>\n",
       "      <td>NaN</td>\n",
       "      <td>NaN</td>\n",
       "      <td>NaN</td>\n",
       "      <td>NaN</td>\n",
       "      <td>NaN</td>\n",
       "      <td>NaN</td>\n",
       "      <td>...</td>\n",
       "      <td>NaN</td>\n",
       "      <td>NaN</td>\n",
       "      <td>NaN</td>\n",
       "      <td>NaN</td>\n",
       "      <td>NaN</td>\n",
       "      <td>NaN</td>\n",
       "      <td>NaN</td>\n",
       "      <td>NaN</td>\n",
       "      <td>NaN</td>\n",
       "      <td>NaN</td>\n",
       "    </tr>\n",
       "  </tbody>\n",
       "</table>\n",
       "<p>3 rows × 24 columns</p>\n",
       "</div>"
      ],
      "text/plain": [
       "              00    01    02    03    04    05    06    07    08    09  ...   \\\n",
       "day                                                                     ...    \n",
       "03/17/2019  0.58  0.45  0.58  0.58  0.45  0.51  0.51  0.51  0.96  2.11  ...    \n",
       "03/18/2019  0.45  0.51  0.51  0.51  0.51  0.51  0.58  3.97  3.33  0.70  ...    \n",
       "03/19/2019  0.58  0.51  0.51   NaN   NaN   NaN   NaN   NaN   NaN   NaN  ...    \n",
       "\n",
       "               14    15    16    17    18    19    20    21    22    23  \n",
       "day                                                                      \n",
       "03/17/2019  1.024  0.96  0.96  1.22  2.18  6.78  2.75  2.88  0.83  0.51  \n",
       "03/18/2019  4.352  6.78  2.56  0.96  0.45  0.77  0.90  0.83  2.82  0.58  \n",
       "03/19/2019    NaN   NaN   NaN   NaN   NaN   NaN   NaN   NaN   NaN   NaN  \n",
       "\n",
       "[3 rows x 24 columns]"
      ]
     },
     "execution_count": 6,
     "metadata": {},
     "output_type": "execute_result"
    }
   ],
   "source": [
    "df= df.set_index(df['day'])\n",
    "df= df.drop(['day'], axis=1)\n",
    "df.tail(3)"
   ]
  },
  {
   "cell_type": "code",
   "execution_count": 7,
   "metadata": {},
   "outputs": [],
   "source": [
    "dft= df.stack()\n",
    "dft=dft.reset_index()\n",
    "dft.columns= ['day','hour','kwh'] # where 'day' is string, not DT"
   ]
  },
  {
   "cell_type": "code",
   "execution_count": 8,
   "metadata": {},
   "outputs": [
    {
     "data": {
      "text/html": [
       "<div>\n",
       "<style scoped>\n",
       "    .dataframe tbody tr th:only-of-type {\n",
       "        vertical-align: middle;\n",
       "    }\n",
       "\n",
       "    .dataframe tbody tr th {\n",
       "        vertical-align: top;\n",
       "    }\n",
       "\n",
       "    .dataframe thead th {\n",
       "        text-align: right;\n",
       "    }\n",
       "</style>\n",
       "<table border=\"1\" class=\"dataframe\">\n",
       "  <thead>\n",
       "    <tr style=\"text-align: right;\">\n",
       "      <th></th>\n",
       "      <th>day</th>\n",
       "      <th>hour</th>\n",
       "      <th>kwh</th>\n",
       "    </tr>\n",
       "  </thead>\n",
       "  <tbody>\n",
       "    <tr>\n",
       "      <th>0</th>\n",
       "      <td>08/01/2011</td>\n",
       "      <td>00</td>\n",
       "      <td>0.77</td>\n",
       "    </tr>\n",
       "    <tr>\n",
       "      <th>1</th>\n",
       "      <td>08/01/2011</td>\n",
       "      <td>01</td>\n",
       "      <td>0.64</td>\n",
       "    </tr>\n",
       "    <tr>\n",
       "      <th>2</th>\n",
       "      <td>08/01/2011</td>\n",
       "      <td>02</td>\n",
       "      <td>0.70</td>\n",
       "    </tr>\n",
       "    <tr>\n",
       "      <th>3</th>\n",
       "      <td>08/01/2011</td>\n",
       "      <td>03</td>\n",
       "      <td>0.58</td>\n",
       "    </tr>\n",
       "    <tr>\n",
       "      <th>4</th>\n",
       "      <td>08/01/2011</td>\n",
       "      <td>04</td>\n",
       "      <td>0.58</td>\n",
       "    </tr>\n",
       "    <tr>\n",
       "      <th>5</th>\n",
       "      <td>08/01/2011</td>\n",
       "      <td>05</td>\n",
       "      <td>0.51</td>\n",
       "    </tr>\n",
       "    <tr>\n",
       "      <th>6</th>\n",
       "      <td>08/01/2011</td>\n",
       "      <td>06</td>\n",
       "      <td>0.70</td>\n",
       "    </tr>\n",
       "    <tr>\n",
       "      <th>7</th>\n",
       "      <td>08/01/2011</td>\n",
       "      <td>07</td>\n",
       "      <td>0.70</td>\n",
       "    </tr>\n",
       "  </tbody>\n",
       "</table>\n",
       "</div>"
      ],
      "text/plain": [
       "          day hour   kwh\n",
       "0  08/01/2011   00  0.77\n",
       "1  08/01/2011   01  0.64\n",
       "2  08/01/2011   02  0.70\n",
       "3  08/01/2011   03  0.58\n",
       "4  08/01/2011   04  0.58\n",
       "5  08/01/2011   05  0.51\n",
       "6  08/01/2011   06  0.70\n",
       "7  08/01/2011   07  0.70"
      ]
     },
     "execution_count": 8,
     "metadata": {},
     "output_type": "execute_result"
    }
   ],
   "source": [
    "dft.head(8)"
   ]
  },
  {
   "cell_type": "code",
   "execution_count": 9,
   "metadata": {},
   "outputs": [
    {
     "name": "stdout",
     "output_type": "stream",
     "text": [
      "<class 'pandas.core.frame.DataFrame'>\n",
      "DatetimeIndex: 66505 entries, 2011-08-01 00:00:00 to 2019-03-19 02:00:00\n",
      "Data columns (total 5 columns):\n",
      "hour       66505 non-null category\n",
      "kwh        66505 non-null float64\n",
      "weekday    66505 non-null category\n",
      "month      66505 non-null category\n",
      "year       66505 non-null category\n",
      "dtypes: category(4), float64(1)\n",
      "memory usage: 1.3 MB\n"
     ]
    },
    {
     "data": {
      "text/html": [
       "<div>\n",
       "<style scoped>\n",
       "    .dataframe tbody tr th:only-of-type {\n",
       "        vertical-align: middle;\n",
       "    }\n",
       "\n",
       "    .dataframe tbody tr th {\n",
       "        vertical-align: top;\n",
       "    }\n",
       "\n",
       "    .dataframe thead th {\n",
       "        text-align: right;\n",
       "    }\n",
       "</style>\n",
       "<table border=\"1\" class=\"dataframe\">\n",
       "  <thead>\n",
       "    <tr style=\"text-align: right;\">\n",
       "      <th></th>\n",
       "      <th>hour</th>\n",
       "      <th>kwh</th>\n",
       "      <th>weekday</th>\n",
       "      <th>month</th>\n",
       "      <th>year</th>\n",
       "    </tr>\n",
       "    <tr>\n",
       "      <th>date</th>\n",
       "      <th></th>\n",
       "      <th></th>\n",
       "      <th></th>\n",
       "      <th></th>\n",
       "      <th></th>\n",
       "    </tr>\n",
       "  </thead>\n",
       "  <tbody>\n",
       "    <tr>\n",
       "      <th>2011-08-01 00:00:00</th>\n",
       "      <td>00</td>\n",
       "      <td>0.77</td>\n",
       "      <td>Monday</td>\n",
       "      <td>8</td>\n",
       "      <td>2011</td>\n",
       "    </tr>\n",
       "    <tr>\n",
       "      <th>2011-08-01 01:00:00</th>\n",
       "      <td>01</td>\n",
       "      <td>0.64</td>\n",
       "      <td>Monday</td>\n",
       "      <td>8</td>\n",
       "      <td>2011</td>\n",
       "    </tr>\n",
       "    <tr>\n",
       "      <th>2011-08-01 02:00:00</th>\n",
       "      <td>02</td>\n",
       "      <td>0.70</td>\n",
       "      <td>Monday</td>\n",
       "      <td>8</td>\n",
       "      <td>2011</td>\n",
       "    </tr>\n",
       "    <tr>\n",
       "      <th>2011-08-01 03:00:00</th>\n",
       "      <td>03</td>\n",
       "      <td>0.58</td>\n",
       "      <td>Monday</td>\n",
       "      <td>8</td>\n",
       "      <td>2011</td>\n",
       "    </tr>\n",
       "    <tr>\n",
       "      <th>2011-08-01 04:00:00</th>\n",
       "      <td>04</td>\n",
       "      <td>0.58</td>\n",
       "      <td>Monday</td>\n",
       "      <td>8</td>\n",
       "      <td>2011</td>\n",
       "    </tr>\n",
       "  </tbody>\n",
       "</table>\n",
       "</div>"
      ],
      "text/plain": [
       "                    hour   kwh weekday month  year\n",
       "date                                              \n",
       "2011-08-01 00:00:00   00  0.77  Monday     8  2011\n",
       "2011-08-01 01:00:00   01  0.64  Monday     8  2011\n",
       "2011-08-01 02:00:00   02  0.70  Monday     8  2011\n",
       "2011-08-01 03:00:00   03  0.58  Monday     8  2011\n",
       "2011-08-01 04:00:00   04  0.58  Monday     8  2011"
      ]
     },
     "execution_count": 9,
     "metadata": {},
     "output_type": "execute_result"
    }
   ],
   "source": [
    "dft['date']= pd.to_datetime(dft['day'] + ' ' + dft['hour'] + ':00:00')\n",
    "from datetime import datetime\n",
    "dft['weekday']= dft.date.dt.weekday_name\n",
    "dft['month']= dft.date.dt.month\n",
    "dft['year']= dft.date.dt.year\n",
    "dft.set_index(dft['date'], inplace= True)\n",
    "dft= dft.drop(['day','date'], axis=1)\n",
    "dft['hour']= dft['hour'].astype('category')\n",
    "dft['weekday']= dft['weekday'].astype('category')\n",
    "dft['month']= dft['month'].astype('category')\n",
    "dft['year']= dft['year'].astype('category')\n",
    "dft.info()\n",
    "dft.head()"
   ]
  },
  {
   "cell_type": "markdown",
   "metadata": {},
   "source": [
    "# Preparation of Seasonal Data"
   ]
  },
  {
   "cell_type": "code",
   "execution_count": 10,
   "metadata": {},
   "outputs": [
    {
     "data": {
      "text/html": [
       "<div>\n",
       "<style scoped>\n",
       "    .dataframe tbody tr th:only-of-type {\n",
       "        vertical-align: middle;\n",
       "    }\n",
       "\n",
       "    .dataframe tbody tr th {\n",
       "        vertical-align: top;\n",
       "    }\n",
       "\n",
       "    .dataframe thead th {\n",
       "        text-align: right;\n",
       "    }\n",
       "</style>\n",
       "<table border=\"1\" class=\"dataframe\">\n",
       "  <thead>\n",
       "    <tr style=\"text-align: right;\">\n",
       "      <th></th>\n",
       "      <th>hour</th>\n",
       "      <th>kwh</th>\n",
       "      <th>weekday</th>\n",
       "      <th>month</th>\n",
       "      <th>year</th>\n",
       "    </tr>\n",
       "    <tr>\n",
       "      <th>date</th>\n",
       "      <th></th>\n",
       "      <th></th>\n",
       "      <th></th>\n",
       "      <th></th>\n",
       "      <th></th>\n",
       "    </tr>\n",
       "  </thead>\n",
       "  <tbody>\n",
       "    <tr>\n",
       "      <th>2017-01-01 00:00:00</th>\n",
       "      <td>00</td>\n",
       "      <td>0.51</td>\n",
       "      <td>Sunday</td>\n",
       "      <td>1</td>\n",
       "      <td>2017</td>\n",
       "    </tr>\n",
       "    <tr>\n",
       "      <th>2017-01-01 01:00:00</th>\n",
       "      <td>01</td>\n",
       "      <td>0.51</td>\n",
       "      <td>Sunday</td>\n",
       "      <td>1</td>\n",
       "      <td>2017</td>\n",
       "    </tr>\n",
       "    <tr>\n",
       "      <th>2017-01-01 02:00:00</th>\n",
       "      <td>02</td>\n",
       "      <td>0.45</td>\n",
       "      <td>Sunday</td>\n",
       "      <td>1</td>\n",
       "      <td>2017</td>\n",
       "    </tr>\n",
       "  </tbody>\n",
       "</table>\n",
       "</div>"
      ],
      "text/plain": [
       "                    hour   kwh weekday month  year\n",
       "date                                              \n",
       "2017-01-01 00:00:00   00  0.51  Sunday     1  2017\n",
       "2017-01-01 01:00:00   01  0.51  Sunday     1  2017\n",
       "2017-01-01 02:00:00   02  0.45  Sunday     1  2017"
      ]
     },
     "execution_count": 10,
     "metadata": {},
     "output_type": "execute_result"
    }
   ],
   "source": [
    "df_17= dft[dft.year== 2017]\n",
    "df_17.head(3)"
   ]
  },
  {
   "cell_type": "code",
   "execution_count": 11,
   "metadata": {},
   "outputs": [
    {
     "data": {
      "text/plain": [
       "[0.51, 0.51, 0.45, 0.51]"
      ]
     },
     "execution_count": 11,
     "metadata": {},
     "output_type": "execute_result"
    }
   ],
   "source": [
    "kwh_17= df_17.kwh.tolist()\n",
    "W_17= kwh_17[0:2184]          # W Winter is the first 13 weeks of 168 hours \n",
    "W_17[0:4]\n",
    "# len(W_17)"
   ]
  },
  {
   "cell_type": "code",
   "execution_count": 12,
   "metadata": {},
   "outputs": [],
   "source": [
    "# create nested list 13 weeks of 168 hours each for Winter (W)\n",
    "W17_weekly= [ W_17[i:i+168] for i in range(0,2184,168)] \n"
   ]
  },
  {
   "cell_type": "code",
   "execution_count": 13,
   "metadata": {},
   "outputs": [],
   "source": [
    "# Repeat for other years\n",
    "df_16= dft[dft.year== 2016]\n",
    "kwh_16= df_16.kwh.tolist()\n",
    "df_15= dft[dft.year== 2015]\n",
    "kwh_15= df_15.kwh.tolist()\n",
    "df_14= dft[dft.year== 2014]\n",
    "kwh_14= df_14.kwh.tolist()\n",
    "df_13= dft[dft.year== 2013]\n",
    "kwh_13= df_13.kwh.tolist()\n",
    "df_12= dft[dft.year== 2012]\n",
    "kwh_12= df_12.kwh.tolist()"
   ]
  },
  {
   "cell_type": "code",
   "execution_count": null,
   "metadata": {},
   "outputs": [],
   "source": []
  },
  {
   "cell_type": "code",
   "execution_count": 14,
   "metadata": {},
   "outputs": [],
   "source": [
    "import random               # n=50 later for ROC Curve?\n",
    "def Season_list(list,n):\n",
    "    S= []\n",
    "    for i in range(n):\n",
    "        a= [random.choice(list) for p in range(13)]      # List Comprehension to draw 13 weeks of 168 hours\n",
    "        b= [item for sublist in a for item in sublist]   # Flatten each List-of-lists into a single list\n",
    "        S.append(b)\n",
    "    return S"
   ]
  },
  {
   "cell_type": "code",
   "execution_count": 15,
   "metadata": {},
   "outputs": [
    {
     "data": {
      "text/plain": [
       "(100, 2184)"
      ]
     },
     "execution_count": 15,
     "metadata": {},
     "output_type": "execute_result"
    }
   ],
   "source": [
    "# create nested list 13 weeks of 168 hours each for Winter (W)\n",
    "W_17= kwh_17[0:2184] \n",
    "W17_weekly= [W_17[i:i+168] for i in range(0,2184,168)] \n",
    "W_16= kwh_16[0:2184]\n",
    "W16_weekly= [W_16[i:i+168] for i in range(0,2184,168)] \n",
    "W_15= kwh_15[0:2184]\n",
    "W15_weekly= [W_15[i:i+168] for i in range(0,2184,168)] \n",
    "W_14= kwh_14[0:2184]\n",
    "W14_weekly= [W_14[i:i+168] for i in range(0,2184,168)] \n",
    "\n",
    "W_13= kwh_13[0:2184]\n",
    "W13_weekly= [W_13[i:i+168] for i in range(0,2184,168)] \n",
    "W_12= kwh_12[0:2184]\n",
    "W12_weekly= [W_12[i:i+168] for i in range(0,2184,168)] \n",
    "\n",
    "W_weekly= W17_weekly + W16_weekly + W15_weekly + W14_weekly + W13_weekly + W12_weekly\n",
    "len(W_weekly)\n",
    "w= Season_list(W_weekly,100)\n",
    "# This generates a dataframe from the list of lists; This is exactly what we need!!\n",
    "dfW= pd.DataFrame(w)\n",
    "dfW.shape"
   ]
  },
  {
   "cell_type": "code",
   "execution_count": 16,
   "metadata": {},
   "outputs": [
    {
     "data": {
      "text/plain": [
       "(100, 2184)"
      ]
     },
     "execution_count": 16,
     "metadata": {},
     "output_type": "execute_result"
    }
   ],
   "source": [
    "# Repeat for Spring\n",
    "# create nested list 13 weeks of 168 hours each for Spring (SP)\n",
    "SP_17= kwh_17[2184:4368] \n",
    "SP17_weekly= [ SP_17[i:i+168] for i in range(0,2184,168)] \n",
    "SP_16= kwh_16[2184:4368]\n",
    "SP16_weekly= [SP_16[i:i+168] for i in range(0,2184,168)] \n",
    "SP_15= kwh_15[2184:4368]\n",
    "SP15_weekly= [SP_15[i:i+168] for i in range(0,2184,168)] \n",
    "SP_14= kwh_14[2184:4368]\n",
    "SP14_weekly= [SP_14[i:i+168] for i in range(0,2184,168)] \n",
    "\n",
    "SP_13= kwh_13[2184:4368]\n",
    "SP13_weekly= [SP_13[i:i+168] for i in range(0,2184,168)] \n",
    "SP_12= kwh_12[2184:4368]\n",
    "SP12_weekly= [SP_12[i:i+168] for i in range(0,2184,168)] \n",
    "\n",
    "SP_weekly= SP17_weekly + SP16_weekly + SP15_weekly + SP14_weekly + SP13_weekly + SP12_weekly\n",
    "len(SP_weekly)\n",
    "sp= Season_list(SP_weekly,100)\n",
    "# This generates a dataframe from the list of lists; This is exactly what we need!!\n",
    "dfSP= pd.DataFrame(sp)\n",
    "dfSP.shape"
   ]
  },
  {
   "cell_type": "code",
   "execution_count": 17,
   "metadata": {},
   "outputs": [
    {
     "data": {
      "text/plain": [
       "100"
      ]
     },
     "execution_count": 17,
     "metadata": {},
     "output_type": "execute_result"
    }
   ],
   "source": [
    "len(sp) #sp is a list-of-lists, with each list having 2184 hourly entries"
   ]
  },
  {
   "cell_type": "code",
   "execution_count": 18,
   "metadata": {},
   "outputs": [
    {
     "data": {
      "text/plain": [
       "(100, 2184)"
      ]
     },
     "execution_count": 18,
     "metadata": {},
     "output_type": "execute_result"
    }
   ],
   "source": [
    "# Repeat for Summer: SU\n",
    "# create nested list 13 weeks of 168 hours each for Summer (SU)\n",
    "SU_17= kwh_17[4368:6552] \n",
    "SU17_weekly= [ SU_17[i:i+168] for i in range(0,2184,168)] \n",
    "SU_16= kwh_16[4368:6552]\n",
    "SU16_weekly= [SU_16[i:i+168] for i in range(0,2184,168)] \n",
    "SU_15= kwh_15[4368:6552]\n",
    "SU15_weekly= [SU_15[i:i+168] for i in range(0,2184,168)] \n",
    "SU_14= kwh_14[4368:6552]\n",
    "SU14_weekly= [SU_14[i:i+168] for i in range(0,2184,168)] \n",
    "\n",
    "SU_13= kwh_13[4368:6552]\n",
    "SU13_weekly= [SU_13[i:i+168] for i in range(0,2184,168)] \n",
    "SU_12= kwh_12[4368:6552]\n",
    "SU12_weekly= [SU_12[i:i+168] for i in range(0,2184,168)] \n",
    "\n",
    "SU_weekly= SU17_weekly + SU16_weekly + SU15_weekly + SU14_weekly + SU13_weekly + SU12_weekly\n",
    "len(SU_weekly)\n",
    "su= Season_list(SU_weekly,100)\n",
    "# This generates a dataframe from the list of lists; This is exactly what we need!!\n",
    "dfSU= pd.DataFrame(su)\n",
    "dfSU.shape"
   ]
  },
  {
   "cell_type": "code",
   "execution_count": 19,
   "metadata": {},
   "outputs": [
    {
     "data": {
      "text/plain": [
       "(100, 2184)"
      ]
     },
     "execution_count": 19,
     "metadata": {},
     "output_type": "execute_result"
    }
   ],
   "source": [
    "# Repeat for Fall: F\n",
    "# create nested list 13 weeks of 168 hours each for Fall (F)\n",
    "F_17= kwh_17[6552:8736] \n",
    "F17_weekly= [ F_17[i:i+168] for i in range(0,2184,168)] \n",
    "F_16= kwh_16[6552:8736]\n",
    "F16_weekly= [F_16[i:i+168] for i in range(0,2184,168)] \n",
    "F_15= kwh_15[6552:8736]\n",
    "F15_weekly= [F_15[i:i+168] for i in range(0,2184,168)] \n",
    "F_14= kwh_14[6552:8736]\n",
    "F14_weekly= [F_14[i:i+168] for i in range(0,2184,168)] \n",
    "\n",
    "F_13= kwh_13[6552:8736]\n",
    "F13_weekly= [F_13[i:i+168] for i in range(0,2184,168)] \n",
    "F_12= kwh_12[6552:8736]\n",
    "F12_weekly= [F_12[i:i+168] for i in range(0,2184,168)] \n",
    "\n",
    "F_weekly= F17_weekly + F16_weekly + F15_weekly + F14_weekly + F13_weekly +F12_weekly\n",
    "len(F_weekly)\n",
    "f= Season_list(F_weekly,100)\n",
    "# This generates a dataframe from the list of lists; This is exactly what we need!!\n",
    "dfF= pd.DataFrame(f)\n",
    "dfF.shape"
   ]
  },
  {
   "cell_type": "code",
   "execution_count": 20,
   "metadata": {},
   "outputs": [],
   "source": [
    "# NEXT MERGE ALL THREE SEASONS AND THEN ADD A datetime index so can carve out the night hours\n",
    "# check added columns w .shape ! "
   ]
  },
  {
   "cell_type": "markdown",
   "metadata": {},
   "source": [
    "# Creating a Non-Seasonal Tesla Benchmark"
   ]
  },
  {
   "cell_type": "code",
   "execution_count": 21,
   "metadata": {},
   "outputs": [
    {
     "data": {
      "text/plain": [
       "840"
      ]
     },
     "execution_count": 21,
     "metadata": {},
     "output_type": "execute_result"
    }
   ],
   "source": [
    "m1T = dft['2019-02-12':'2019-03-18'].kwh.reset_index()    #This is the period for Tesla metering\n",
    "T= m1T.kwh.tolist()\n",
    "len(T) # 840 this is 5 weeks exactly: so we divide this into 5 equal pieces, rather than the 13 for complete seasons"
   ]
  },
  {
   "cell_type": "code",
   "execution_count": 22,
   "metadata": {},
   "outputs": [
    {
     "data": {
      "text/plain": [
       "15"
      ]
     },
     "execution_count": 22,
     "metadata": {},
     "output_type": "execute_result"
    }
   ],
   "source": [
    "T_weekly= [ T[i:i+168] for i in range(0,840,168)]  # gives 5 weeks of Tesla hourly records\n",
    "T_adj= T_weekly + T_weekly + T_weekly           # we now (artificially) have 15 weeks to draw 13 weeks from, below.\n",
    "len(T_adj)"
   ]
  },
  {
   "cell_type": "code",
   "execution_count": 23,
   "metadata": {},
   "outputs": [
    {
     "data": {
      "text/plain": [
       "13"
      ]
     },
     "execution_count": 23,
     "metadata": {},
     "output_type": "execute_result"
    }
   ],
   "source": [
    "import random\n",
    "mrT= [random.choice(T_weekly) for i in range(13)]  # m1 is Metering Record 1\n",
    "mrT[0]\n",
    "len(mrT) # 13 : so we have a list of lists, drawn at random"
   ]
  },
  {
   "cell_type": "code",
   "execution_count": 24,
   "metadata": {},
   "outputs": [
    {
     "data": {
      "text/plain": [
       "2184"
      ]
     },
     "execution_count": 24,
     "metadata": {},
     "output_type": "execute_result"
    }
   ],
   "source": [
    "# We now need to flatten the list-of-lists into a single list of length 168 x 14 weeks\n",
    "fmrT = [item for sublist in mrT for item in sublist]\n",
    "len(fmrT) # 2184 : a flat list of 13 winter weeks chosen at random \n",
    "# We now need to repeat this 100x and add to dataframe"
   ]
  },
  {
   "cell_type": "code",
   "execution_count": 25,
   "metadata": {},
   "outputs": [
    {
     "data": {
      "text/plain": [
       "100"
      ]
     },
     "execution_count": 25,
     "metadata": {},
     "output_type": "execute_result"
    }
   ],
   "source": [
    "Tesla= Season_list(T_adj,100)\n",
    "len(Tesla)   # 840 only, we need 2184??"
   ]
  },
  {
   "cell_type": "code",
   "execution_count": 26,
   "metadata": {},
   "outputs": [
    {
     "data": {
      "text/plain": [
       "(100, 2184)"
      ]
     },
     "execution_count": 26,
     "metadata": {},
     "output_type": "execute_result"
    }
   ],
   "source": [
    "dfTesla= pd.DataFrame(Tesla) # Have a df for Tesla of 5 observations:need to calc metrics then append it to a season  \n",
    "dfTesla.shape                # Have to append \"below\": not extending the date range!"
   ]
  },
  {
   "cell_type": "markdown",
   "metadata": {},
   "source": [
    "# Creating a Non-Seasonal PHEV Benchmark\n"
   ]
  },
  {
   "cell_type": "code",
   "execution_count": 27,
   "metadata": {},
   "outputs": [
    {
     "data": {
      "text/plain": [
       "5048"
      ]
     },
     "execution_count": 27,
     "metadata": {},
     "output_type": "execute_result"
    }
   ],
   "source": [
    "mPHEV = dft['2018-07-16':'2019-02-11'].kwh.reset_index()    #This is the period for Tesla metering\n",
    "lPHEV= mPHEV.kwh.tolist()\n",
    "len(lPHEV) #  this is 30.05 weeks: so we divide this into 30 equal pieces, rather than the 13 for complete seasons\n"
   ]
  },
  {
   "cell_type": "code",
   "execution_count": 28,
   "metadata": {},
   "outputs": [
    {
     "data": {
      "text/plain": [
       "30"
      ]
     },
     "execution_count": 28,
     "metadata": {},
     "output_type": "execute_result"
    }
   ],
   "source": [
    "PHEV_weekly= [ lPHEV[i:i+168] for i in range(0,5040,168)]  # gives 30 weeks of PHEV hourly records\n",
    "len(PHEV_weekly)"
   ]
  },
  {
   "cell_type": "code",
   "execution_count": 29,
   "metadata": {},
   "outputs": [
    {
     "data": {
      "text/plain": [
       "100"
      ]
     },
     "execution_count": 29,
     "metadata": {},
     "output_type": "execute_result"
    }
   ],
   "source": [
    "PHEV= Season_list(PHEV_weekly,100) # Increase to 100, so that Test Set will be increased\n",
    "len(PHEV)   # 840 only, we need 2184??"
   ]
  },
  {
   "cell_type": "code",
   "execution_count": 30,
   "metadata": {},
   "outputs": [
    {
     "data": {
      "text/plain": [
       "(100, 2184)"
      ]
     },
     "execution_count": 30,
     "metadata": {},
     "output_type": "execute_result"
    }
   ],
   "source": [
    "dfPHEV= pd.DataFrame(PHEV) #Have a df for PHEV of 100 observations:need to calc metrics then append metrics to a season  \n",
    "dfPHEV.shape  "
   ]
  },
  {
   "cell_type": "code",
   "execution_count": null,
   "metadata": {},
   "outputs": [],
   "source": []
  },
  {
   "cell_type": "code",
   "execution_count": 31,
   "metadata": {},
   "outputs": [],
   "source": [
    "   # try .apply()   ADD TRAILING 30-day increased 20% for night hours!?"
   ]
  },
  {
   "cell_type": "code",
   "execution_count": 32,
   "metadata": {},
   "outputs": [],
   "source": [
    "# DWW: transpose so with head or tail() we can access Classification Metrics (eg max/min max deciles )\n",
    "# No longer required as now stored in a separate matrix"
   ]
  },
  {
   "cell_type": "code",
   "execution_count": 33,
   "metadata": {},
   "outputs": [],
   "source": [
    "def df_metrics(df):\n",
    "    x= pd.DataFrame()  \n",
    "    x['total']= df.sum(axis = 1, skipna = True) \n",
    "    x['average']= df.mean(axis = 1, skipna = True) \n",
    "    x['max_kwh']= df.max(axis = 1, skipna = True) \n",
    "    x['top5'] = df.quantile(0.95, axis = 1)\n",
    "    x['top_decile'] = df.quantile(0.9, axis = 1)\n",
    "    x['median'] = df.quantile(0.5, axis = 1)\n",
    "    x['top5_vs_median']= x['top5']/x['median']\n",
    "    return x"
   ]
  },
  {
   "cell_type": "code",
   "execution_count": 34,
   "metadata": {},
   "outputs": [
    {
     "data": {
      "text/html": [
       "<div>\n",
       "<style scoped>\n",
       "    .dataframe tbody tr th:only-of-type {\n",
       "        vertical-align: middle;\n",
       "    }\n",
       "\n",
       "    .dataframe tbody tr th {\n",
       "        vertical-align: top;\n",
       "    }\n",
       "\n",
       "    .dataframe thead th {\n",
       "        text-align: right;\n",
       "    }\n",
       "</style>\n",
       "<table border=\"1\" class=\"dataframe\">\n",
       "  <thead>\n",
       "    <tr style=\"text-align: right;\">\n",
       "      <th></th>\n",
       "      <th>total</th>\n",
       "      <th>average</th>\n",
       "      <th>max_kwh</th>\n",
       "      <th>top5</th>\n",
       "      <th>top_decile</th>\n",
       "      <th>median</th>\n",
       "      <th>top5_vs_median</th>\n",
       "    </tr>\n",
       "  </thead>\n",
       "  <tbody>\n",
       "    <tr>\n",
       "      <th>95</th>\n",
       "      <td>2396.826</td>\n",
       "      <td>1.097448</td>\n",
       "      <td>5.50</td>\n",
       "      <td>2.551</td>\n",
       "      <td>1.86</td>\n",
       "      <td>0.90</td>\n",
       "      <td>2.834444</td>\n",
       "    </tr>\n",
       "    <tr>\n",
       "      <th>96</th>\n",
       "      <td>2322.130</td>\n",
       "      <td>1.063246</td>\n",
       "      <td>5.50</td>\n",
       "      <td>2.304</td>\n",
       "      <td>1.73</td>\n",
       "      <td>0.90</td>\n",
       "      <td>2.560000</td>\n",
       "    </tr>\n",
       "    <tr>\n",
       "      <th>97</th>\n",
       "      <td>2344.702</td>\n",
       "      <td>1.073582</td>\n",
       "      <td>5.50</td>\n",
       "      <td>2.370</td>\n",
       "      <td>1.73</td>\n",
       "      <td>0.90</td>\n",
       "      <td>2.633333</td>\n",
       "    </tr>\n",
       "    <tr>\n",
       "      <th>98</th>\n",
       "      <td>2322.196</td>\n",
       "      <td>1.063277</td>\n",
       "      <td>6.85</td>\n",
       "      <td>2.370</td>\n",
       "      <td>1.73</td>\n",
       "      <td>0.90</td>\n",
       "      <td>2.633333</td>\n",
       "    </tr>\n",
       "    <tr>\n",
       "      <th>99</th>\n",
       "      <td>2201.758</td>\n",
       "      <td>1.008131</td>\n",
       "      <td>6.21</td>\n",
       "      <td>2.240</td>\n",
       "      <td>1.66</td>\n",
       "      <td>0.83</td>\n",
       "      <td>2.698795</td>\n",
       "    </tr>\n",
       "  </tbody>\n",
       "</table>\n",
       "</div>"
      ],
      "text/plain": [
       "       total   average  max_kwh   top5  top_decile  median  top5_vs_median\n",
       "95  2396.826  1.097448     5.50  2.551        1.86    0.90        2.834444\n",
       "96  2322.130  1.063246     5.50  2.304        1.73    0.90        2.560000\n",
       "97  2344.702  1.073582     5.50  2.370        1.73    0.90        2.633333\n",
       "98  2322.196  1.063277     6.85  2.370        1.73    0.90        2.633333\n",
       "99  2201.758  1.008131     6.21  2.240        1.66    0.83        2.698795"
      ]
     },
     "execution_count": 34,
     "metadata": {},
     "output_type": "execute_result"
    }
   ],
   "source": [
    "df_metrics(dfW).tail()"
   ]
  },
  {
   "cell_type": "code",
   "execution_count": 35,
   "metadata": {},
   "outputs": [
    {
     "data": {
      "text/html": [
       "<div>\n",
       "<style scoped>\n",
       "    .dataframe tbody tr th:only-of-type {\n",
       "        vertical-align: middle;\n",
       "    }\n",
       "\n",
       "    .dataframe tbody tr th {\n",
       "        vertical-align: top;\n",
       "    }\n",
       "\n",
       "    .dataframe thead th {\n",
       "        text-align: right;\n",
       "    }\n",
       "</style>\n",
       "<table border=\"1\" class=\"dataframe\">\n",
       "  <thead>\n",
       "    <tr style=\"text-align: right;\">\n",
       "      <th></th>\n",
       "      <th>total</th>\n",
       "      <th>average</th>\n",
       "      <th>max_kwh</th>\n",
       "      <th>top5</th>\n",
       "      <th>top_decile</th>\n",
       "      <th>median</th>\n",
       "      <th>top5_vs_median</th>\n",
       "    </tr>\n",
       "  </thead>\n",
       "  <tbody>\n",
       "    <tr>\n",
       "      <th>95</th>\n",
       "      <td>2668.938</td>\n",
       "      <td>1.222041</td>\n",
       "      <td>5.95</td>\n",
       "      <td>3.46</td>\n",
       "      <td>2.7500</td>\n",
       "      <td>0.83</td>\n",
       "      <td>4.168675</td>\n",
       "    </tr>\n",
       "    <tr>\n",
       "      <th>96</th>\n",
       "      <td>1923.028</td>\n",
       "      <td>0.880507</td>\n",
       "      <td>7.74</td>\n",
       "      <td>2.37</td>\n",
       "      <td>1.6600</td>\n",
       "      <td>0.64</td>\n",
       "      <td>3.703125</td>\n",
       "    </tr>\n",
       "    <tr>\n",
       "      <th>97</th>\n",
       "      <td>2185.302</td>\n",
       "      <td>1.000596</td>\n",
       "      <td>9.28</td>\n",
       "      <td>2.88</td>\n",
       "      <td>2.1596</td>\n",
       "      <td>0.70</td>\n",
       "      <td>4.114286</td>\n",
       "    </tr>\n",
       "    <tr>\n",
       "      <th>98</th>\n",
       "      <td>2306.384</td>\n",
       "      <td>1.056037</td>\n",
       "      <td>6.27</td>\n",
       "      <td>2.94</td>\n",
       "      <td>2.2400</td>\n",
       "      <td>0.77</td>\n",
       "      <td>3.818182</td>\n",
       "    </tr>\n",
       "    <tr>\n",
       "      <th>99</th>\n",
       "      <td>2343.016</td>\n",
       "      <td>1.072810</td>\n",
       "      <td>5.31</td>\n",
       "      <td>3.07</td>\n",
       "      <td>2.4300</td>\n",
       "      <td>0.70</td>\n",
       "      <td>4.385714</td>\n",
       "    </tr>\n",
       "  </tbody>\n",
       "</table>\n",
       "</div>"
      ],
      "text/plain": [
       "       total   average  max_kwh  top5  top_decile  median  top5_vs_median\n",
       "95  2668.938  1.222041     5.95  3.46      2.7500    0.83        4.168675\n",
       "96  1923.028  0.880507     7.74  2.37      1.6600    0.64        3.703125\n",
       "97  2185.302  1.000596     9.28  2.88      2.1596    0.70        4.114286\n",
       "98  2306.384  1.056037     6.27  2.94      2.2400    0.77        3.818182\n",
       "99  2343.016  1.072810     5.31  3.07      2.4300    0.70        4.385714"
      ]
     },
     "execution_count": 35,
     "metadata": {},
     "output_type": "execute_result"
    }
   ],
   "source": [
    "df_metrics(dfSP).tail()"
   ]
  },
  {
   "cell_type": "code",
   "execution_count": 36,
   "metadata": {},
   "outputs": [
    {
     "data": {
      "text/html": [
       "<div>\n",
       "<style scoped>\n",
       "    .dataframe tbody tr th:only-of-type {\n",
       "        vertical-align: middle;\n",
       "    }\n",
       "\n",
       "    .dataframe tbody tr th {\n",
       "        vertical-align: top;\n",
       "    }\n",
       "\n",
       "    .dataframe thead th {\n",
       "        text-align: right;\n",
       "    }\n",
       "</style>\n",
       "<table border=\"1\" class=\"dataframe\">\n",
       "  <thead>\n",
       "    <tr style=\"text-align: right;\">\n",
       "      <th></th>\n",
       "      <th>total</th>\n",
       "      <th>average</th>\n",
       "      <th>max_kwh</th>\n",
       "      <th>top5</th>\n",
       "      <th>top_decile</th>\n",
       "      <th>median</th>\n",
       "      <th>top5_vs_median</th>\n",
       "      <th>label</th>\n",
       "    </tr>\n",
       "  </thead>\n",
       "  <tbody>\n",
       "    <tr>\n",
       "      <th>93</th>\n",
       "      <td>2661.116</td>\n",
       "      <td>1.218460</td>\n",
       "      <td>5.89</td>\n",
       "      <td>3.2510</td>\n",
       "      <td>2.6200</td>\n",
       "      <td>0.83</td>\n",
       "      <td>3.916867</td>\n",
       "      <td>0</td>\n",
       "    </tr>\n",
       "    <tr>\n",
       "      <th>94</th>\n",
       "      <td>3387.974</td>\n",
       "      <td>1.551270</td>\n",
       "      <td>7.49</td>\n",
       "      <td>4.0210</td>\n",
       "      <td>3.3294</td>\n",
       "      <td>1.09</td>\n",
       "      <td>3.688991</td>\n",
       "      <td>0</td>\n",
       "    </tr>\n",
       "    <tr>\n",
       "      <th>95</th>\n",
       "      <td>3087.144</td>\n",
       "      <td>1.413527</td>\n",
       "      <td>8.19</td>\n",
       "      <td>3.7100</td>\n",
       "      <td>3.0700</td>\n",
       "      <td>0.96</td>\n",
       "      <td>3.864583</td>\n",
       "      <td>0</td>\n",
       "    </tr>\n",
       "    <tr>\n",
       "      <th>96</th>\n",
       "      <td>2633.620</td>\n",
       "      <td>1.205870</td>\n",
       "      <td>8.19</td>\n",
       "      <td>3.2600</td>\n",
       "      <td>2.5000</td>\n",
       "      <td>0.83</td>\n",
       "      <td>3.927711</td>\n",
       "      <td>0</td>\n",
       "    </tr>\n",
       "    <tr>\n",
       "      <th>97</th>\n",
       "      <td>2780.624</td>\n",
       "      <td>1.273179</td>\n",
       "      <td>7.04</td>\n",
       "      <td>3.4498</td>\n",
       "      <td>2.8200</td>\n",
       "      <td>0.90</td>\n",
       "      <td>3.833111</td>\n",
       "      <td>0</td>\n",
       "    </tr>\n",
       "    <tr>\n",
       "      <th>98</th>\n",
       "      <td>2775.204</td>\n",
       "      <td>1.270698</td>\n",
       "      <td>7.49</td>\n",
       "      <td>3.3900</td>\n",
       "      <td>2.7500</td>\n",
       "      <td>0.90</td>\n",
       "      <td>3.766667</td>\n",
       "      <td>0</td>\n",
       "    </tr>\n",
       "    <tr>\n",
       "      <th>99</th>\n",
       "      <td>3144.220</td>\n",
       "      <td>1.439661</td>\n",
       "      <td>8.19</td>\n",
       "      <td>3.7117</td>\n",
       "      <td>2.9400</td>\n",
       "      <td>1.09</td>\n",
       "      <td>3.405229</td>\n",
       "      <td>0</td>\n",
       "    </tr>\n",
       "  </tbody>\n",
       "</table>\n",
       "</div>"
      ],
      "text/plain": [
       "       total   average  max_kwh    top5  top_decile  median  top5_vs_median  \\\n",
       "93  2661.116  1.218460     5.89  3.2510      2.6200    0.83        3.916867   \n",
       "94  3387.974  1.551270     7.49  4.0210      3.3294    1.09        3.688991   \n",
       "95  3087.144  1.413527     8.19  3.7100      3.0700    0.96        3.864583   \n",
       "96  2633.620  1.205870     8.19  3.2600      2.5000    0.83        3.927711   \n",
       "97  2780.624  1.273179     7.04  3.4498      2.8200    0.90        3.833111   \n",
       "98  2775.204  1.270698     7.49  3.3900      2.7500    0.90        3.766667   \n",
       "99  3144.220  1.439661     8.19  3.7117      2.9400    1.09        3.405229   \n",
       "\n",
       "    label  \n",
       "93      0  \n",
       "94      0  \n",
       "95      0  \n",
       "96      0  \n",
       "97      0  \n",
       "98      0  \n",
       "99      0  "
      ]
     },
     "execution_count": 36,
     "metadata": {},
     "output_type": "execute_result"
    }
   ],
   "source": [
    "# Creating labelled data for Summer ('SU') whill will be used as a base for comparison\n",
    "df_base_mSU= df_metrics(dfSU)  # mSU. metrics for SU = Summer\n",
    "df_base_mSU\n",
    "df_base_mSU['label']= 0\n",
    "df_base_mSU.tail(7)"
   ]
  },
  {
   "cell_type": "code",
   "execution_count": 37,
   "metadata": {},
   "outputs": [
    {
     "data": {
      "text/html": [
       "<div>\n",
       "<style scoped>\n",
       "    .dataframe tbody tr th:only-of-type {\n",
       "        vertical-align: middle;\n",
       "    }\n",
       "\n",
       "    .dataframe tbody tr th {\n",
       "        vertical-align: top;\n",
       "    }\n",
       "\n",
       "    .dataframe thead th {\n",
       "        text-align: right;\n",
       "    }\n",
       "</style>\n",
       "<table border=\"1\" class=\"dataframe\">\n",
       "  <thead>\n",
       "    <tr style=\"text-align: right;\">\n",
       "      <th></th>\n",
       "      <th>total</th>\n",
       "      <th>average</th>\n",
       "      <th>max_kwh</th>\n",
       "      <th>top5</th>\n",
       "      <th>top_decile</th>\n",
       "      <th>median</th>\n",
       "      <th>top5_vs_median</th>\n",
       "      <th>label</th>\n",
       "    </tr>\n",
       "  </thead>\n",
       "  <tbody>\n",
       "    <tr>\n",
       "      <th>93</th>\n",
       "      <td>3030.296</td>\n",
       "      <td>1.387498</td>\n",
       "      <td>7.49</td>\n",
       "      <td>3.52</td>\n",
       "      <td>2.82</td>\n",
       "      <td>0.96</td>\n",
       "      <td>3.666667</td>\n",
       "      <td>1</td>\n",
       "    </tr>\n",
       "    <tr>\n",
       "      <th>94</th>\n",
       "      <td>3014.718</td>\n",
       "      <td>1.380365</td>\n",
       "      <td>7.49</td>\n",
       "      <td>3.58</td>\n",
       "      <td>2.94</td>\n",
       "      <td>1.02</td>\n",
       "      <td>3.509804</td>\n",
       "      <td>1</td>\n",
       "    </tr>\n",
       "    <tr>\n",
       "      <th>95</th>\n",
       "      <td>3049.192</td>\n",
       "      <td>1.396150</td>\n",
       "      <td>7.49</td>\n",
       "      <td>3.58</td>\n",
       "      <td>2.75</td>\n",
       "      <td>0.96</td>\n",
       "      <td>3.729167</td>\n",
       "      <td>1</td>\n",
       "    </tr>\n",
       "    <tr>\n",
       "      <th>96</th>\n",
       "      <td>3119.014</td>\n",
       "      <td>1.428120</td>\n",
       "      <td>7.49</td>\n",
       "      <td>3.58</td>\n",
       "      <td>2.94</td>\n",
       "      <td>1.09</td>\n",
       "      <td>3.284404</td>\n",
       "      <td>1</td>\n",
       "    </tr>\n",
       "    <tr>\n",
       "      <th>97</th>\n",
       "      <td>3010.414</td>\n",
       "      <td>1.378395</td>\n",
       "      <td>6.66</td>\n",
       "      <td>3.33</td>\n",
       "      <td>2.50</td>\n",
       "      <td>1.02</td>\n",
       "      <td>3.264706</td>\n",
       "      <td>1</td>\n",
       "    </tr>\n",
       "    <tr>\n",
       "      <th>98</th>\n",
       "      <td>3012.518</td>\n",
       "      <td>1.379358</td>\n",
       "      <td>7.49</td>\n",
       "      <td>3.46</td>\n",
       "      <td>2.69</td>\n",
       "      <td>0.96</td>\n",
       "      <td>3.604167</td>\n",
       "      <td>1</td>\n",
       "    </tr>\n",
       "    <tr>\n",
       "      <th>99</th>\n",
       "      <td>3070.144</td>\n",
       "      <td>1.405744</td>\n",
       "      <td>7.49</td>\n",
       "      <td>3.52</td>\n",
       "      <td>2.75</td>\n",
       "      <td>1.02</td>\n",
       "      <td>3.450980</td>\n",
       "      <td>1</td>\n",
       "    </tr>\n",
       "  </tbody>\n",
       "</table>\n",
       "</div>"
      ],
      "text/plain": [
       "       total   average  max_kwh  top5  top_decile  median  top5_vs_median  \\\n",
       "93  3030.296  1.387498     7.49  3.52        2.82    0.96        3.666667   \n",
       "94  3014.718  1.380365     7.49  3.58        2.94    1.02        3.509804   \n",
       "95  3049.192  1.396150     7.49  3.58        2.75    0.96        3.729167   \n",
       "96  3119.014  1.428120     7.49  3.58        2.94    1.09        3.284404   \n",
       "97  3010.414  1.378395     6.66  3.33        2.50    1.02        3.264706   \n",
       "98  3012.518  1.379358     7.49  3.46        2.69    0.96        3.604167   \n",
       "99  3070.144  1.405744     7.49  3.52        2.75    1.02        3.450980   \n",
       "\n",
       "    label  \n",
       "93      1  \n",
       "94      1  \n",
       "95      1  \n",
       "96      1  \n",
       "97      1  \n",
       "98      1  \n",
       "99      1  "
      ]
     },
     "execution_count": 37,
     "metadata": {},
     "output_type": "execute_result"
    }
   ],
   "source": [
    "df_mPHEV= df_metrics(dfPHEV)  # m= metrics, \n",
    "df_mPHEV\n",
    "df_mPHEV['label']= 1\n",
    "df_mPHEV.tail(7)"
   ]
  },
  {
   "cell_type": "code",
   "execution_count": 38,
   "metadata": {},
   "outputs": [
    {
     "data": {
      "text/html": [
       "<div>\n",
       "<style scoped>\n",
       "    .dataframe tbody tr th:only-of-type {\n",
       "        vertical-align: middle;\n",
       "    }\n",
       "\n",
       "    .dataframe tbody tr th {\n",
       "        vertical-align: top;\n",
       "    }\n",
       "\n",
       "    .dataframe thead th {\n",
       "        text-align: right;\n",
       "    }\n",
       "</style>\n",
       "<table border=\"1\" class=\"dataframe\">\n",
       "  <thead>\n",
       "    <tr style=\"text-align: right;\">\n",
       "      <th></th>\n",
       "      <th>total</th>\n",
       "      <th>average</th>\n",
       "      <th>max_kwh</th>\n",
       "      <th>top5</th>\n",
       "      <th>top_decile</th>\n",
       "      <th>median</th>\n",
       "      <th>top5_vs_median</th>\n",
       "      <th>label</th>\n",
       "    </tr>\n",
       "  </thead>\n",
       "  <tbody>\n",
       "    <tr>\n",
       "      <th>93</th>\n",
       "      <td>3893.354</td>\n",
       "      <td>1.782671</td>\n",
       "      <td>12.1</td>\n",
       "      <td>7.451</td>\n",
       "      <td>4.670</td>\n",
       "      <td>0.7</td>\n",
       "      <td>10.644286</td>\n",
       "      <td>2</td>\n",
       "    </tr>\n",
       "    <tr>\n",
       "      <th>94</th>\n",
       "      <td>3713.940</td>\n",
       "      <td>1.700522</td>\n",
       "      <td>12.1</td>\n",
       "      <td>6.980</td>\n",
       "      <td>4.740</td>\n",
       "      <td>0.7</td>\n",
       "      <td>9.971429</td>\n",
       "      <td>2</td>\n",
       "    </tr>\n",
       "    <tr>\n",
       "      <th>95</th>\n",
       "      <td>3802.004</td>\n",
       "      <td>1.740844</td>\n",
       "      <td>12.1</td>\n",
       "      <td>6.980</td>\n",
       "      <td>4.670</td>\n",
       "      <td>0.7</td>\n",
       "      <td>9.971429</td>\n",
       "      <td>2</td>\n",
       "    </tr>\n",
       "    <tr>\n",
       "      <th>96</th>\n",
       "      <td>3861.684</td>\n",
       "      <td>1.768170</td>\n",
       "      <td>12.1</td>\n",
       "      <td>7.100</td>\n",
       "      <td>4.972</td>\n",
       "      <td>0.7</td>\n",
       "      <td>10.142857</td>\n",
       "      <td>2</td>\n",
       "    </tr>\n",
       "    <tr>\n",
       "      <th>97</th>\n",
       "      <td>3636.326</td>\n",
       "      <td>1.664984</td>\n",
       "      <td>12.1</td>\n",
       "      <td>6.850</td>\n",
       "      <td>4.420</td>\n",
       "      <td>0.7</td>\n",
       "      <td>9.785714</td>\n",
       "      <td>2</td>\n",
       "    </tr>\n",
       "    <tr>\n",
       "      <th>98</th>\n",
       "      <td>3781.464</td>\n",
       "      <td>1.731440</td>\n",
       "      <td>12.1</td>\n",
       "      <td>6.910</td>\n",
       "      <td>4.540</td>\n",
       "      <td>0.7</td>\n",
       "      <td>9.871429</td>\n",
       "      <td>2</td>\n",
       "    </tr>\n",
       "    <tr>\n",
       "      <th>99</th>\n",
       "      <td>3571.740</td>\n",
       "      <td>1.635412</td>\n",
       "      <td>12.1</td>\n",
       "      <td>6.780</td>\n",
       "      <td>4.420</td>\n",
       "      <td>0.7</td>\n",
       "      <td>9.685714</td>\n",
       "      <td>2</td>\n",
       "    </tr>\n",
       "  </tbody>\n",
       "</table>\n",
       "</div>"
      ],
      "text/plain": [
       "       total   average  max_kwh   top5  top_decile  median  top5_vs_median  \\\n",
       "93  3893.354  1.782671     12.1  7.451       4.670     0.7       10.644286   \n",
       "94  3713.940  1.700522     12.1  6.980       4.740     0.7        9.971429   \n",
       "95  3802.004  1.740844     12.1  6.980       4.670     0.7        9.971429   \n",
       "96  3861.684  1.768170     12.1  7.100       4.972     0.7       10.142857   \n",
       "97  3636.326  1.664984     12.1  6.850       4.420     0.7        9.785714   \n",
       "98  3781.464  1.731440     12.1  6.910       4.540     0.7        9.871429   \n",
       "99  3571.740  1.635412     12.1  6.780       4.420     0.7        9.685714   \n",
       "\n",
       "    label  \n",
       "93      2  \n",
       "94      2  \n",
       "95      2  \n",
       "96      2  \n",
       "97      2  \n",
       "98      2  \n",
       "99      2  "
      ]
     },
     "execution_count": 38,
     "metadata": {},
     "output_type": "execute_result"
    }
   ],
   "source": [
    "df_mTesla= df_metrics(dfTesla)  # m= metrics, \n",
    "df_mTesla\n",
    "df_mTesla['label']= 2\n",
    "df_mTesla.tail(7)"
   ]
  },
  {
   "cell_type": "code",
   "execution_count": 39,
   "metadata": {},
   "outputs": [
    {
     "name": "stdout",
     "output_type": "stream",
     "text": [
      "     total  average  max_kwh  top5  top_decile  median  top5_vs_median  label\n",
      "0  2996.15     1.37     6.53  3.51        2.94    0.96            3.66      0\n",
      "1  2733.54     1.25     7.49  3.26        2.62    0.90            3.62      0\n",
      "2  3095.43     1.42     7.49  3.46        2.94    1.09            3.17      0\n",
      "3  3063.56     1.40     7.62  3.65        2.94    0.96            3.80      0\n",
      "4  3101.66     1.42     7.62  3.64        2.88    1.02            3.57      0\n"
     ]
    },
    {
     "data": {
      "text/html": [
       "<div>\n",
       "<style scoped>\n",
       "    .dataframe tbody tr th:only-of-type {\n",
       "        vertical-align: middle;\n",
       "    }\n",
       "\n",
       "    .dataframe tbody tr th {\n",
       "        vertical-align: top;\n",
       "    }\n",
       "\n",
       "    .dataframe thead th {\n",
       "        text-align: right;\n",
       "    }\n",
       "</style>\n",
       "<table border=\"1\" class=\"dataframe\">\n",
       "  <thead>\n",
       "    <tr style=\"text-align: right;\">\n",
       "      <th></th>\n",
       "      <th>total</th>\n",
       "      <th>average</th>\n",
       "      <th>max_kwh</th>\n",
       "      <th>top5</th>\n",
       "      <th>top_decile</th>\n",
       "      <th>median</th>\n",
       "      <th>top5_vs_median</th>\n",
       "      <th>label</th>\n",
       "    </tr>\n",
       "  </thead>\n",
       "  <tbody>\n",
       "    <tr>\n",
       "      <th>195</th>\n",
       "      <td>3802.00</td>\n",
       "      <td>1.74</td>\n",
       "      <td>12.1</td>\n",
       "      <td>6.98</td>\n",
       "      <td>4.67</td>\n",
       "      <td>0.7</td>\n",
       "      <td>9.97</td>\n",
       "      <td>2</td>\n",
       "    </tr>\n",
       "    <tr>\n",
       "      <th>196</th>\n",
       "      <td>3861.68</td>\n",
       "      <td>1.77</td>\n",
       "      <td>12.1</td>\n",
       "      <td>7.10</td>\n",
       "      <td>4.97</td>\n",
       "      <td>0.7</td>\n",
       "      <td>10.14</td>\n",
       "      <td>2</td>\n",
       "    </tr>\n",
       "    <tr>\n",
       "      <th>197</th>\n",
       "      <td>3636.33</td>\n",
       "      <td>1.66</td>\n",
       "      <td>12.1</td>\n",
       "      <td>6.85</td>\n",
       "      <td>4.42</td>\n",
       "      <td>0.7</td>\n",
       "      <td>9.79</td>\n",
       "      <td>2</td>\n",
       "    </tr>\n",
       "    <tr>\n",
       "      <th>198</th>\n",
       "      <td>3781.46</td>\n",
       "      <td>1.73</td>\n",
       "      <td>12.1</td>\n",
       "      <td>6.91</td>\n",
       "      <td>4.54</td>\n",
       "      <td>0.7</td>\n",
       "      <td>9.87</td>\n",
       "      <td>2</td>\n",
       "    </tr>\n",
       "    <tr>\n",
       "      <th>199</th>\n",
       "      <td>3571.74</td>\n",
       "      <td>1.64</td>\n",
       "      <td>12.1</td>\n",
       "      <td>6.78</td>\n",
       "      <td>4.42</td>\n",
       "      <td>0.7</td>\n",
       "      <td>9.69</td>\n",
       "      <td>2</td>\n",
       "    </tr>\n",
       "  </tbody>\n",
       "</table>\n",
       "</div>"
      ],
      "text/plain": [
       "       total  average  max_kwh  top5  top_decile  median  top5_vs_median  \\\n",
       "195  3802.00     1.74     12.1  6.98        4.67     0.7            9.97   \n",
       "196  3861.68     1.77     12.1  7.10        4.97     0.7           10.14   \n",
       "197  3636.33     1.66     12.1  6.85        4.42     0.7            9.79   \n",
       "198  3781.46     1.73     12.1  6.91        4.54     0.7            9.87   \n",
       "199  3571.74     1.64     12.1  6.78        4.42     0.7            9.69   \n",
       "\n",
       "     label  \n",
       "195      2  \n",
       "196      2  \n",
       "197      2  \n",
       "198      2  \n",
       "199      2  "
      ]
     },
     "execution_count": 39,
     "metadata": {},
     "output_type": "execute_result"
    }
   ],
   "source": [
    "df_comb = pd.concat([df_base_mSU, df_mTesla],ignore_index= True)\n",
    "print(df_comb.head().round(2))\n",
    "df_comb.tail().round(2)"
   ]
  },
  {
   "cell_type": "code",
   "execution_count": 48,
   "metadata": {},
   "outputs": [
    {
     "data": {
      "text/plain": [
       "<BarContainer object of 200 artists>"
      ]
     },
     "execution_count": 48,
     "metadata": {},
     "output_type": "execute_result"
    },
    {
     "data": {
      "image/png": "[encoded data removed]",
      "text/plain": [
       "<Figure size 432x288 with 1 Axes>"
      ]
     },
     "metadata": {
      "needs_background": "light"
     },
     "output_type": "display_data"
    }
   ],
   "source": [
    "import matplotlib.pyplot as plt\n",
    "plt.bar(df_comb.label, df_comb.top5_vs_median)  # want two overlapping histograms"
   ]
  },
  {
   "cell_type": "code",
   "execution_count": 49,
   "metadata": {},
   "outputs": [
    {
     "data": {
      "text/plain": [
       "(array([58., 42.,  0.,  0.,  0.,  0.,  0.,  0., 49., 51.]),\n",
       " array([ 2.9929078 ,  3.77218845,  4.5514691 ,  5.33074975,  6.1100304 ,\n",
       "         6.88931104,  7.66859169,  8.44787234,  9.22715299, 10.00643364,\n",
       "        10.78571429]),\n",
       " <a list of 10 Patch objects>)"
      ]
     },
     "execution_count": 49,
     "metadata": {},
     "output_type": "execute_result"
    },
    {
     "data": {
      "image/png": "[encoded data removed]",
      "text/plain": [
       "<Figure size 432x288 with 1 Axes>"
      ]
     },
     "metadata": {
      "needs_background": "light"
     },
     "output_type": "display_data"
    }
   ],
   "source": [
    "plt.hist(df_comb.top5_vs_median) # df_comb.label"
   ]
  },
  {
   "cell_type": "markdown",
   "metadata": {},
   "source": [
    "# Tesla Decision Tree Classification with Scikit Learn"
   ]
  },
  {
   "cell_type": "code",
   "execution_count": 55,
   "metadata": {},
   "outputs": [],
   "source": [
    "from sklearn.tree import DecisionTreeClassifier         # Import Decision Tree Classifier\n",
    "from sklearn.model_selection import train_test_split    # Import train_test_split function\n",
    "from sklearn import metrics                             # Import scikit-learn metrics module for accuracy calculation\n"
   ]
  },
  {
   "cell_type": "code",
   "execution_count": 56,
   "metadata": {},
   "outputs": [],
   "source": [
    "feature_cols = ['total','average','max_kwh','top5','top_decile','median','top5_vs_median']\n",
    "\n",
    "X = df_comb[feature_cols] # Features\n",
    "y = df_comb.label         # Target variable \n"
   ]
  },
  {
   "cell_type": "code",
   "execution_count": 52,
   "metadata": {},
   "outputs": [],
   "source": [
    "X_train, X_test, y_train, y_test = train_test_split(X, y, test_size=0.4, random_state=1) # 60% training and 40% test\n"
   ]
  },
  {
   "cell_type": "code",
   "execution_count": 53,
   "metadata": {},
   "outputs": [],
   "source": [
    "# Create Decision Tree classifer object\n",
    "dtree_T = DecisionTreeClassifier(random_state=3, criterion='entropy',splitter='best', max_depth= 3,\n",
    "                                 min_samples_split=2)          \n",
    "dtree_T = dtree_T.fit(X_train,y_train)          # Train Decision Tree Classifer\n",
    "y_pred = dtree_T.predict(X_test)            # Predict the response for test dataset\n",
    "\n",
    "#clf = clf.fit(X,y)          # Train Decision Tree Classifer just for test set for now\n",
    "# y_pred = clf.predict(X)"
   ]
  },
  {
   "cell_type": "code",
   "execution_count": 54,
   "metadata": {},
   "outputs": [
    {
     "name": "stdout",
     "output_type": "stream",
     "text": [
      "Accuracy: 1.0\n"
     ]
    }
   ],
   "source": [
    "# Model Accuracy, how often is the classifier correct?\n",
    "print(\"Accuracy:\",metrics.accuracy_score(y_test, y_pred))\n"
   ]
  },
  {
   "cell_type": "code",
   "execution_count": 57,
   "metadata": {},
   "outputs": [],
   "source": [
    "# All of the below implemented: but still 99% accurate with a test set of 80 (0.4 x (100 + 100))\n",
    "# Hmmm. this was expected, given the clear demarcation\n",
    "# Increased to samples of 100 each, and repeated with Train Test Split\n",
    "# PHEV addition, as for Tesla\n",
    "from sklearn.externals.six import StringIO  \n",
    "from IPython.display import Image  \n",
    "from sklearn.tree import export_graphviz\n",
    "import pydotplus"
   ]
  },
  {
   "cell_type": "code",
   "execution_count": 58,
   "metadata": {},
   "outputs": [
    {
     "data": {
      "image/png": "[encoded data removed]",
      "text/plain": [
       "<IPython.core.display.Image object>"
      ]
     },
     "execution_count": 58,
     "metadata": {},
     "output_type": "execute_result"
    }
   ],
   "source": [
    "# Add graphics to understand which variables selected for Tree and parameter breaks!\n",
    "dot_data = StringIO()\n",
    "export_graphviz(dtree_T, out_file=dot_data, special_characters=True,filled=True, rounded=True,\n",
    "                        feature_names= ['total','average','max_kwh','top5','top_decile','median','top5_vs_median'],  \n",
    "                        class_names= 'label')\n",
    "graph = pydotplus.graph_from_dot_data(dot_data.getvalue())  \n",
    "Image(graph.create_png())\n",
    "# This Tree has just a single branch, and accurately predicts Tesla if the median kwh exceeds 0.735 kwh"
   ]
  },
  {
   "cell_type": "markdown",
   "metadata": {},
   "source": [
    "# PHEV Classification"
   ]
  },
  {
   "cell_type": "code",
   "execution_count": 59,
   "metadata": {},
   "outputs": [
    {
     "data": {
      "text/html": [
       "<div>\n",
       "<style scoped>\n",
       "    .dataframe tbody tr th:only-of-type {\n",
       "        vertical-align: middle;\n",
       "    }\n",
       "\n",
       "    .dataframe tbody tr th {\n",
       "        vertical-align: top;\n",
       "    }\n",
       "\n",
       "    .dataframe thead th {\n",
       "        text-align: right;\n",
       "    }\n",
       "</style>\n",
       "<table border=\"1\" class=\"dataframe\">\n",
       "  <thead>\n",
       "    <tr style=\"text-align: right;\">\n",
       "      <th></th>\n",
       "      <th>total</th>\n",
       "      <th>average</th>\n",
       "      <th>max_kwh</th>\n",
       "      <th>top5</th>\n",
       "      <th>top_decile</th>\n",
       "      <th>median</th>\n",
       "      <th>top5_vs_median</th>\n",
       "      <th>label</th>\n",
       "    </tr>\n",
       "  </thead>\n",
       "  <tbody>\n",
       "    <tr>\n",
       "      <th>0</th>\n",
       "      <td>2996.152</td>\n",
       "      <td>1.371864</td>\n",
       "      <td>6.53</td>\n",
       "      <td>3.5110</td>\n",
       "      <td>2.944</td>\n",
       "      <td>0.96</td>\n",
       "      <td>3.657292</td>\n",
       "      <td>0</td>\n",
       "    </tr>\n",
       "    <tr>\n",
       "      <th>1</th>\n",
       "      <td>2733.540</td>\n",
       "      <td>1.251621</td>\n",
       "      <td>7.49</td>\n",
       "      <td>3.2600</td>\n",
       "      <td>2.620</td>\n",
       "      <td>0.90</td>\n",
       "      <td>3.622222</td>\n",
       "      <td>0</td>\n",
       "    </tr>\n",
       "    <tr>\n",
       "      <th>2</th>\n",
       "      <td>3095.430</td>\n",
       "      <td>1.417321</td>\n",
       "      <td>7.49</td>\n",
       "      <td>3.4600</td>\n",
       "      <td>2.940</td>\n",
       "      <td>1.09</td>\n",
       "      <td>3.174312</td>\n",
       "      <td>0</td>\n",
       "    </tr>\n",
       "    <tr>\n",
       "      <th>3</th>\n",
       "      <td>3063.558</td>\n",
       "      <td>1.402728</td>\n",
       "      <td>7.62</td>\n",
       "      <td>3.6500</td>\n",
       "      <td>2.940</td>\n",
       "      <td>0.96</td>\n",
       "      <td>3.802083</td>\n",
       "      <td>0</td>\n",
       "    </tr>\n",
       "    <tr>\n",
       "      <th>4</th>\n",
       "      <td>3101.662</td>\n",
       "      <td>1.420175</td>\n",
       "      <td>7.62</td>\n",
       "      <td>3.6401</td>\n",
       "      <td>2.880</td>\n",
       "      <td>1.02</td>\n",
       "      <td>3.568725</td>\n",
       "      <td>0</td>\n",
       "    </tr>\n",
       "  </tbody>\n",
       "</table>\n",
       "</div>"
      ],
      "text/plain": [
       "      total   average  max_kwh    top5  top_decile  median  top5_vs_median  \\\n",
       "0  2996.152  1.371864     6.53  3.5110       2.944    0.96        3.657292   \n",
       "1  2733.540  1.251621     7.49  3.2600       2.620    0.90        3.622222   \n",
       "2  3095.430  1.417321     7.49  3.4600       2.940    1.09        3.174312   \n",
       "3  3063.558  1.402728     7.62  3.6500       2.940    0.96        3.802083   \n",
       "4  3101.662  1.420175     7.62  3.6401       2.880    1.02        3.568725   \n",
       "\n",
       "   label  \n",
       "0      0  \n",
       "1      0  \n",
       "2      0  \n",
       "3      0  \n",
       "4      0  "
      ]
     },
     "execution_count": 59,
     "metadata": {},
     "output_type": "execute_result"
    }
   ],
   "source": [
    "df_BPHEV = pd.concat([df_base_mSU, df_mPHEV],ignore_index= True)\n",
    "df_BPHEV.head() # These are non-EV with label of 0"
   ]
  },
  {
   "cell_type": "code",
   "execution_count": 60,
   "metadata": {},
   "outputs": [
    {
     "data": {
      "text/html": [
       "<div>\n",
       "<style scoped>\n",
       "    .dataframe tbody tr th:only-of-type {\n",
       "        vertical-align: middle;\n",
       "    }\n",
       "\n",
       "    .dataframe tbody tr th {\n",
       "        vertical-align: top;\n",
       "    }\n",
       "\n",
       "    .dataframe thead th {\n",
       "        text-align: right;\n",
       "    }\n",
       "</style>\n",
       "<table border=\"1\" class=\"dataframe\">\n",
       "  <thead>\n",
       "    <tr style=\"text-align: right;\">\n",
       "      <th></th>\n",
       "      <th>total</th>\n",
       "      <th>average</th>\n",
       "      <th>max_kwh</th>\n",
       "      <th>top5</th>\n",
       "      <th>top_decile</th>\n",
       "      <th>median</th>\n",
       "      <th>top5_vs_median</th>\n",
       "      <th>label</th>\n",
       "    </tr>\n",
       "  </thead>\n",
       "  <tbody>\n",
       "    <tr>\n",
       "      <th>195</th>\n",
       "      <td>3049.192</td>\n",
       "      <td>1.396150</td>\n",
       "      <td>7.49</td>\n",
       "      <td>3.58</td>\n",
       "      <td>2.75</td>\n",
       "      <td>0.96</td>\n",
       "      <td>3.729167</td>\n",
       "      <td>1</td>\n",
       "    </tr>\n",
       "    <tr>\n",
       "      <th>196</th>\n",
       "      <td>3119.014</td>\n",
       "      <td>1.428120</td>\n",
       "      <td>7.49</td>\n",
       "      <td>3.58</td>\n",
       "      <td>2.94</td>\n",
       "      <td>1.09</td>\n",
       "      <td>3.284404</td>\n",
       "      <td>1</td>\n",
       "    </tr>\n",
       "    <tr>\n",
       "      <th>197</th>\n",
       "      <td>3010.414</td>\n",
       "      <td>1.378395</td>\n",
       "      <td>6.66</td>\n",
       "      <td>3.33</td>\n",
       "      <td>2.50</td>\n",
       "      <td>1.02</td>\n",
       "      <td>3.264706</td>\n",
       "      <td>1</td>\n",
       "    </tr>\n",
       "    <tr>\n",
       "      <th>198</th>\n",
       "      <td>3012.518</td>\n",
       "      <td>1.379358</td>\n",
       "      <td>7.49</td>\n",
       "      <td>3.46</td>\n",
       "      <td>2.69</td>\n",
       "      <td>0.96</td>\n",
       "      <td>3.604167</td>\n",
       "      <td>1</td>\n",
       "    </tr>\n",
       "    <tr>\n",
       "      <th>199</th>\n",
       "      <td>3070.144</td>\n",
       "      <td>1.405744</td>\n",
       "      <td>7.49</td>\n",
       "      <td>3.52</td>\n",
       "      <td>2.75</td>\n",
       "      <td>1.02</td>\n",
       "      <td>3.450980</td>\n",
       "      <td>1</td>\n",
       "    </tr>\n",
       "  </tbody>\n",
       "</table>\n",
       "</div>"
      ],
      "text/plain": [
       "        total   average  max_kwh  top5  top_decile  median  top5_vs_median  \\\n",
       "195  3049.192  1.396150     7.49  3.58        2.75    0.96        3.729167   \n",
       "196  3119.014  1.428120     7.49  3.58        2.94    1.09        3.284404   \n",
       "197  3010.414  1.378395     6.66  3.33        2.50    1.02        3.264706   \n",
       "198  3012.518  1.379358     7.49  3.46        2.69    0.96        3.604167   \n",
       "199  3070.144  1.405744     7.49  3.52        2.75    1.02        3.450980   \n",
       "\n",
       "     label  \n",
       "195      1  \n",
       "196      1  \n",
       "197      1  \n",
       "198      1  \n",
       "199      1  "
      ]
     },
     "execution_count": 60,
     "metadata": {},
     "output_type": "execute_result"
    }
   ],
   "source": [
    "df_BPHEV.tail()   # These are PHEV with label of 1"
   ]
  },
  {
   "cell_type": "code",
   "execution_count": 61,
   "metadata": {},
   "outputs": [],
   "source": [
    "feature_names = ['total','average','max_kwh','top5','top_decile','median','top5_vs_median']\n",
    "\n",
    "Xphev = df_BPHEV[feature_names] # Features\n",
    "yphev = df_BPHEV.label         # Target variable "
   ]
  },
  {
   "cell_type": "code",
   "execution_count": 62,
   "metadata": {},
   "outputs": [],
   "source": [
    "Xp_train, Xp_test, yp_train, yp_test = train_test_split(Xphev, yphev, test_size=0.4, random_state=1) \n",
    "# 60% training and 40% test We now have 80 in the Test (40% of 200)"
   ]
  },
  {
   "cell_type": "markdown",
   "metadata": {},
   "source": [
    "# Decision Tree Classifier for PHEV vs Summer"
   ]
  },
  {
   "cell_type": "code",
   "execution_count": 63,
   "metadata": {},
   "outputs": [],
   "source": [
    "# Create Decision Tree classifer object for P = PHEV\n",
    "dtree_P = DecisionTreeClassifier(random_state=3, criterion='entropy',splitter='best', max_depth= 4,\n",
    "                                 min_samples_split=2)           \n",
    "dtree_P = dtree_P.fit(Xp_train,yp_train)          # Train Decision Tree Classifer\n",
    "yp_pred = dtree_P.predict(Xp_test)            # Predict the response for test dataset"
   ]
  },
  {
   "cell_type": "code",
   "execution_count": 64,
   "metadata": {},
   "outputs": [
    {
     "name": "stdout",
     "output_type": "stream",
     "text": [
      "PHEV Accuracy: 0.8125\n"
     ]
    }
   ],
   "source": [
    "# Model Accuracy, how often is the classifier correct for PHEV vs Baseline Summer?\n",
    "print(\"PHEV Accuracy:\",metrics.accuracy_score(yp_test, yp_pred))"
   ]
  },
  {
   "cell_type": "code",
   "execution_count": 65,
   "metadata": {},
   "outputs": [],
   "source": [
    "# min_samples_split : int, float, optional (default=2) The minimum number of samples required to split an internal node:\n",
    "# If int, then consider min_samples_split as the minimum number. If float, then min_samples_split is a fraction and ceil(min_samples_split * n_samples) are the \n",
    "# minimum number of samples for each split."
   ]
  },
  {
   "cell_type": "code",
   "execution_count": 66,
   "metadata": {},
   "outputs": [],
   "source": [
    "# Yet another attempt, this time from Medium\n",
    "\n",
    "from sklearn.externals.six import StringIO  \n",
    "from IPython.display import Image  \n",
    "from sklearn.tree import export_graphviz\n",
    "import pydotplus\n",
    "\n",
    "# X InvocationException: GraphViz's executables not found Resolved by renstalling packages \n",
    "# conda install -c anaconda graphviz/ conda install -c anaconda pydot !!!"
   ]
  },
  {
   "cell_type": "code",
   "execution_count": 67,
   "metadata": {},
   "outputs": [
    {
     "data": {
      "image/png": "[encoded data removed]",
      "text/plain": [
       "<IPython.core.display.Image object>"
      ]
     },
     "execution_count": 67,
     "metadata": {},
     "output_type": "execute_result"
    }
   ],
   "source": [
    "dot_data = StringIO()\n",
    "export_graphviz(dtree_P, out_file=dot_data, special_characters=True,filled=True, rounded=True,\n",
    "                        feature_names= ['total','average','max_kwh','top5','top_decile','median','top5_vs_median'],  \n",
    "                        class_names= 'label')\n",
    "graph = pydotplus.graph_from_dot_data(dot_data.getvalue())  \n",
    "Image(graph.create_png())\n",
    "# DWW Interpretation....CONFUSING!!! not intuitive , so reduced # of levels to 4 (as below).\n",
    "# 1. if max_kwh > 7.555 then PHEV (Red Box) 28/28 of 61          \n",
    "# 2. if max_kwh < 7.555 BUT (average < 1.269 AND max_kwh > 6.11), then PHEV (12/12 cases)\n",
    "# DWW: equivalent to max_kwh between [6.11, 7.55] AND average < 1.269: so Max is large RELATIVE to average (sensible)\n",
    "# 3. if max_kwh < 7.555 AND (average > 1.269 AND top5 > 3.55 AND max_kwh > 6.5) THEN PHEV ()\n",
    "# So correctly classified for Train set is: 28 + 12 + 11 = 51 \"True Positives\"\n",
    "# NB Darker boxes are more confident!! Relatively pure! \n",
    "# Very light is about 50/50 !! (see bottow row, third box: pale since 16/14 split is almost 50/50 !!)"
   ]
  },
  {
   "cell_type": "code",
   "execution_count": 68,
   "metadata": {},
   "outputs": [
    {
     "data": {
      "text/plain": [
       "7"
      ]
     },
     "execution_count": 68,
     "metadata": {},
     "output_type": "execute_result"
    }
   ],
   "source": [
    "len(['total','average','max_kwh','top5','top_decile','median','top5_vs_median'])"
   ]
  },
  {
   "cell_type": "code",
   "execution_count": 69,
   "metadata": {},
   "outputs": [
    {
     "data": {
      "image/png": "[encoded data removed]",
      "text/plain": [
       "<IPython.core.display.Image object>"
      ]
     },
     "execution_count": 69,
     "metadata": {},
     "output_type": "execute_result"
    }
   ],
   "source": [
    "from sklearn import tree\n",
    "from IPython.display import Image\n",
    "import pydotplus\n",
    "dt = tree.DecisionTreeClassifier(random_state=3, criterion='entropy',\n",
    "splitter='best', max_depth= 4, min_samples_split=2)\n",
    " \n",
    "clfP = dt.fit(Xp_train,yp_train)\n",
    "\n",
    "# Create DOT data\n",
    "dot_data = tree.export_graphviz(clfP, out_file= \"resume.dot\", \n",
    "                                feature_names= ['total','average','max_kwh','top5','top_decile','median','top5_vs_median'],  \n",
    "                                class_names= 'label')\n",
    "\n",
    "graph= pydotplus.graphviz.graph_from_dot_file(\"resume.dot\") \n",
    "Image(graph.create_png())  # where label/Class =1 is for PHEV  : NB THIS TREE HAS NINE LEVELS !!!!! see max-depth"
   ]
  },
  {
   "cell_type": "code",
   "execution_count": 70,
   "metadata": {
    "scrolled": true
   },
   "outputs": [],
   "source": [
    "# where label/Class =1 is for PHEV  : NB THIS TREE HAD NINE LEVELS !!!!! see max-depth\n",
    "# DWW interpretation:\n",
    "# 1. if max_kwh > 7.555 then PHEV (28 cases of 60 PHEV)\n",
    "# 2. if max_kwh < 7.555 BUT then PHEV"
   ]
  },
  {
   "cell_type": "code",
   "execution_count": null,
   "metadata": {},
   "outputs": [],
   "source": []
  },
  {
   "cell_type": "code",
   "execution_count": 71,
   "metadata": {},
   "outputs": [
    {
     "data": {
      "text/plain": [
       "array([0.82, 0.  , 0.  , 0.82, 0.82, 1.  , 0.  , 0.  , 0.  , 0.82, 1.  ,\n",
       "       0.5 , 0.  , 0.  , 0.82, 0.82, 1.  , 0.5 , 0.82, 0.  , 0.  , 0.5 ,\n",
       "       0.5 , 0.  , 0.  , 0.5 , 0.5 , 0.  , 0.5 , 0.  , 0.  , 0.82, 0.5 ,\n",
       "       1.  , 0.5 , 0.5 , 0.  , 0.  , 0.  , 0.82, 0.5 , 0.82, 1.  , 0.  ,\n",
       "       0.  , 0.  , 0.82, 0.5 , 1.  , 1.  , 0.82, 0.5 , 0.5 , 0.82, 0.  ,\n",
       "       0.5 , 0.82, 1.  , 1.  , 0.82, 1.  , 0.5 , 0.  , 0.  , 0.  , 0.  ,\n",
       "       0.82, 0.5 , 0.  , 0.5 , 0.  , 0.  , 0.5 , 1.  , 1.  , 0.5 , 0.5 ,\n",
       "       1.  , 0.  , 1.  ])"
      ]
     },
     "execution_count": 71,
     "metadata": {},
     "output_type": "execute_result"
    }
   ],
   "source": [
    "import numpy as np\n",
    "# yp_pred # shows labels, not probabilities! how do we show probabilities?\n",
    "probs = dtree_P.predict_proba(Xp_test)\n",
    "# keep probabilities for the positive outcome only\n",
    "probs = probs[:, 1]\n",
    "# len(probs) = 80 for the Test set\n",
    "probs.round(decimals= 2)\n",
    "\n"
   ]
  },
  {
   "cell_type": "code",
   "execution_count": 72,
   "metadata": {},
   "outputs": [
    {
     "name": "stdout",
     "output_type": "stream",
     "text": [
      "0.40982142857142856 0.53125\n"
     ]
    }
   ],
   "source": [
    "# Hmmm...the first 40 and the second 40 should be quite different but seem similar?\n",
    "print(np.mean(probs[0:40]),np.mean(probs[40:80]))\n",
    "# Different, but not VERY different"
   ]
  },
  {
   "cell_type": "code",
   "execution_count": 73,
   "metadata": {},
   "outputs": [
    {
     "data": {
      "image/png": "[encoded data removed]",
      "text/plain": [
       "<Figure size 432x288 with 1 Axes>"
      ]
     },
     "metadata": {
      "needs_background": "light"
     },
     "output_type": "display_data"
    }
   ],
   "source": [
    "# AUC Curve....80% of PHEV's can be Identfied with only a 15% False-Positive Rate: then deteriorates markedly.\n",
    "# The straight line with a kink suggests that just two \"leafs\" occur, with a high and a lower probability.\n",
    "# This is for PHEV vs. Data sampled for the season: 'Summer' (SU)\n",
    "# if Repeat for Fall would be more conformed, as this is the largest component (almost half - 14/30 weeks)\n",
    "# could also match the dates exactly and compare fore this exact period!!\n",
    "import matplotlib.pyplot as plt\n",
    "fpr, tpr, _ = metrics.roc_curve(yp_test, yp_pred)       # NB Third argument is underscore_, prob may be needed??\n",
    "auc = metrics.roc_auc_score(yp_test, yp_pred)\n",
    "plt.plot(fpr,tpr,label=\"data 1, auc=\"+str(auc))\n",
    "plt.legend(loc=4)\n",
    "plt.xlabel('False Positive Rate')\n",
    "plt.ylabel('True Positive Rate')\n",
    "plt.title(\"Decision Tree: ROC Curve for Classifying PHEV's vs. Non-EV's\")\n",
    "plt.show()\n"
   ]
  },
  {
   "cell_type": "code",
   "execution_count": null,
   "metadata": {},
   "outputs": [],
   "source": []
  },
  {
   "cell_type": "code",
   "execution_count": 74,
   "metadata": {},
   "outputs": [
    {
     "data": {
      "image/png": "[encoded data removed]",
      "text/plain": [
       "<Figure size 432x288 with 1 Axes>"
      ]
     },
     "metadata": {
      "needs_background": "light"
     },
     "output_type": "display_data"
    }
   ],
   "source": [
    "fpr_p, tpr_p, prob_p = metrics.roc_curve(yp_test, probs)   # Third argument should be probs, not Labels!!! Sarkar\n",
    "auc = metrics.roc_auc_score(yp_test, yp_pred)        # But we get the same kinked curve as probs = 1.0 or 0.0\n",
    "plt.plot(fpr_p,tpr_p,label=\"data 1, auc=\"+str(auc))\n",
    "plt.legend(loc=4)\n",
    "plt.xlabel('False Positive Rate')\n",
    "plt.ylabel('True Positive Rate')\n",
    "plt.title(\"Decision Tree: ROC Curve for Classifying PHEV's vs. Non-EV's\")\n",
    "plt.show()"
   ]
  },
  {
   "cell_type": "code",
   "execution_count": 75,
   "metadata": {},
   "outputs": [
    {
     "name": "stdout",
     "output_type": "stream",
     "text": [
      "(0.0, 0.0, 2.0)\n",
      "(0.358974358974359, 0.0, 1.0)\n",
      "(0.6923076923076923, 0.07317073170731707, 0.8214285714285714)\n",
      "(0.9743589743589743, 0.3170731707317073, 0.5)\n",
      "(1.0, 1.0, 0.0)\n"
     ]
    }
   ],
   "source": [
    "for items in zip( tpr_p,fpr_p, prob_p):    # read this from the bottom!! 0.6 is a good threshold or .59\n",
    "    print(items)        # .round(decimals= 2) AttributeError: 'tuple' object has no attribute 'round'\n",
    "# third element is threshold class probability: even with 1 we still have 7% FP"
   ]
  },
  {
   "cell_type": "code",
   "execution_count": 76,
   "metadata": {},
   "outputs": [
    {
     "data": {
      "image/png": "[encoded data removed]",
      "text/plain": [
       "<Figure size 432x288 with 2 Axes>"
      ]
     },
     "metadata": {
      "needs_background": "light"
     },
     "output_type": "display_data"
    }
   ],
   "source": [
    "import scikitplot as skplt    # package installed as scikit-plot : CONFUSING!!\n",
    "# use Seaborn!!\n",
    "skplt.metrics.plot_confusion_matrix(yp_test, yp_pred, normalize=False)\n",
    "plt.show()\n",
    "# DWW Interpretation: \n",
    "# There were properly 39 PHEV's. We predicted 35 + 8 PHEV's, of which 35 were correct.\n",
    "# So we found 35 of the actual 39.\n"
   ]
  },
  {
   "cell_type": "code",
   "execution_count": 78,
   "metadata": {},
   "outputs": [
    {
     "name": "stdout",
     "output_type": "stream",
     "text": [
      "              precision    recall  f1-score   support\n",
      "\n",
      "           0       0.76      0.93      0.84        41\n",
      "           1       0.90      0.69      0.78        39\n",
      "\n",
      "   micro avg       0.81      0.81      0.81        80\n",
      "   macro avg       0.83      0.81      0.81        80\n",
      "weighted avg       0.83      0.81      0.81        80\n",
      "\n"
     ]
    },
    {
     "data": {
      "text/html": [
       "<div>\n",
       "<style scoped>\n",
       "    .dataframe tbody tr th:only-of-type {\n",
       "        vertical-align: middle;\n",
       "    }\n",
       "\n",
       "    .dataframe tbody tr th {\n",
       "        vertical-align: top;\n",
       "    }\n",
       "\n",
       "    .dataframe thead th {\n",
       "        text-align: right;\n",
       "    }\n",
       "</style>\n",
       "<table border=\"1\" class=\"dataframe\">\n",
       "  <thead>\n",
       "    <tr style=\"text-align: right;\">\n",
       "      <th></th>\n",
       "      <th>negative</th>\n",
       "      <th>positive</th>\n",
       "    </tr>\n",
       "  </thead>\n",
       "  <tbody>\n",
       "    <tr>\n",
       "      <th>negative</th>\n",
       "      <td>38</td>\n",
       "      <td>3</td>\n",
       "    </tr>\n",
       "    <tr>\n",
       "      <th>positive</th>\n",
       "      <td>12</td>\n",
       "      <td>27</td>\n",
       "    </tr>\n",
       "  </tbody>\n",
       "</table>\n",
       "</div>"
      ],
      "text/plain": [
       "          negative  positive\n",
       "negative        38         3\n",
       "positive        12        27"
      ]
     },
     "execution_count": 78,
     "metadata": {},
     "output_type": "execute_result"
    }
   ],
   "source": [
    "from sklearn.metrics import confusion_matrix\n",
    "from sklearn.metrics import classification_report\n",
    "labels= ['negative','positive']\n",
    "print(classification_report(yp_test, yp_pred))\n",
    "pd.DataFrame(confusion_matrix(yp_test,yp_pred),index=labels,columns= labels)"
   ]
  },
  {
   "cell_type": "code",
   "execution_count": null,
   "metadata": {},
   "outputs": [],
   "source": []
  },
  {
   "cell_type": "code",
   "execution_count": null,
   "metadata": {},
   "outputs": [],
   "source": []
  },
  {
   "cell_type": "code",
   "execution_count": null,
   "metadata": {},
   "outputs": [],
   "source": []
  },
  {
   "cell_type": "markdown",
   "metadata": {},
   "source": [
    "# AUC varies greatly with each simulation: \n",
    "# DTree 0.83 then 0.9: Random Forest Worse than Tree: Logistic 0.73 then 0.57"
   ]
  },
  {
   "cell_type": "code",
   "execution_count": 79,
   "metadata": {},
   "outputs": [
    {
     "data": {
      "image/png": "[encoded data removed]",
      "text/plain": [
       "<Figure size 432x288 with 2 Axes>"
      ]
     },
     "metadata": {
      "needs_background": "light"
     },
     "output_type": "display_data"
    }
   ],
   "source": [
    "import scikitplot as skplt    # package installed as scikit-plot : CONFUSING!!\n",
    "skplt.metrics.plot_confusion_matrix(yp_test, yp_pred, normalize=True)\n",
    "# matplotlib.axes._subplots.AxesSubplot object at 0x7fe967d64490>\n",
    "plt.show()\n"
   ]
  },
  {
   "cell_type": "code",
   "execution_count": 80,
   "metadata": {},
   "outputs": [],
   "source": [
    "from sklearn.externals.six import StringIO  \n",
    "from IPython.display import Image  \n",
    "from sklearn.tree import export_graphviz\n",
    "import pydotplus"
   ]
  },
  {
   "cell_type": "code",
   "execution_count": 81,
   "metadata": {},
   "outputs": [
    {
     "data": {
      "image/png": "[encoded data removed]",
      "text/plain": [
       "<IPython.core.display.Image object>"
      ]
     },
     "execution_count": 81,
     "metadata": {},
     "output_type": "execute_result"
    }
   ],
   "source": [
    "\n",
    "dot_data = StringIO()\n",
    "export_graphviz(dtree_P, out_file=dot_data,  \n",
    "                filled=True, rounded=True,\n",
    "                special_characters=True)\n",
    "graph = pydotplus.graph_from_dot_data(dot_data.getvalue())  \n",
    "Image(graph.create_png())"
   ]
  },
  {
   "cell_type": "markdown",
   "metadata": {},
   "source": [
    "# Logistic Regression"
   ]
  },
  {
   "cell_type": "code",
   "execution_count": 82,
   "metadata": {},
   "outputs": [],
   "source": [
    "# If we had logistic regression as the classifier, then would the ROC curve would be more continuous???\n",
    "from sklearn.linear_model import LogisticRegression"
   ]
  },
  {
   "cell_type": "code",
   "execution_count": 83,
   "metadata": {},
   "outputs": [
    {
     "name": "stderr",
     "output_type": "stream",
     "text": [
      "/anaconda3/lib/python3.7/site-packages/sklearn/linear_model/logistic.py:433: FutureWarning: Default solver will be changed to 'lbfgs' in 0.22. Specify a solver to silence this warning.\n",
      "  FutureWarning)\n"
     ]
    }
   ],
   "source": [
    "L_model = LogisticRegression(penalty='l2', C=0.1)                   # Logistic Regression\n",
    "L_model = L_model.fit(Xp_train,yp_train)                       # Train Decision Tree Classifer\n",
    "yp_pred_L = L_model.predict(Xp_test)                        # Predict the response for test dataset"
   ]
  },
  {
   "cell_type": "code",
   "execution_count": 84,
   "metadata": {},
   "outputs": [
    {
     "data": {
      "text/plain": [
       "array([0.52219439, 0.46144625, 0.49085426, 0.44596775, 0.45172363,\n",
       "       0.48533009, 0.3992071 , 0.47358743, 0.48253655, 0.64299586,\n",
       "       0.59515571, 0.49968359, 0.47849153, 0.50244398, 0.55007469,\n",
       "       0.59231661, 0.57427998, 0.47144129, 0.59365867, 0.39721978,\n",
       "       0.45956419, 0.49623317, 0.57760511, 0.52859793, 0.49201416,\n",
       "       0.554847  , 0.45731416, 0.35306402, 0.47789644, 0.47214079,\n",
       "       0.44039924, 0.61137086, 0.45085693, 0.47050183, 0.46765495,\n",
       "       0.44818368, 0.59682399, 0.39265545, 0.39168428, 0.44560343,\n",
       "       0.54896371, 0.53876433, 0.48881431, 0.50653383, 0.41734823,\n",
       "       0.4469812 , 0.53245043, 0.45271227, 0.5716484 , 0.55862255,\n",
       "       0.4069932 , 0.58919701, 0.45692914, 0.50210751, 0.39722695,\n",
       "       0.45747466, 0.60977903, 0.47715997, 0.49015919, 0.44023121,\n",
       "       0.5550491 , 0.59880208, 0.31236608, 0.41154058, 0.50506834,\n",
       "       0.51963596, 0.5841032 , 0.45096373, 0.50490182, 0.58992177,\n",
       "       0.39209347, 0.4610035 , 0.5858757 , 0.48681546, 0.59224082,\n",
       "       0.47522276, 0.50946841, 0.46031278, 0.56005783, 0.57024006])"
      ]
     },
     "execution_count": 84,
     "metadata": {},
     "output_type": "execute_result"
    }
   ],
   "source": [
    "# yp_pred # shows labels, not probabilities! how do we show probabilities?\n",
    "probs_L = L_model.predict_proba(Xp_test)\n",
    "# keep probabilities for the positive outcome only\n",
    "probs_L = probs_L[:, 1]\n",
    "probs_L\n",
    "# Hmmm...this is for 30 observations BUT we do have probabilities!!!"
   ]
  },
  {
   "cell_type": "code",
   "execution_count": 85,
   "metadata": {},
   "outputs": [
    {
     "data": {
      "image/png": "[encoded data removed]",
      "text/plain": [
       "<Figure size 432x288 with 1 Axes>"
      ]
     },
     "metadata": {
      "needs_background": "light"
     },
     "output_type": "display_data"
    }
   ],
   "source": [
    "fpr, tpr, prob = metrics.roc_curve(yp_test,  yp_pred_L)  # NEW CODE\n",
    "auc = metrics.roc_auc_score(yp_test, yp_pred_L)\n",
    "plt.plot(fpr,tpr,label=\"data 1, auc=\"+str(auc))\n",
    "plt.legend(loc=4)\n",
    "plt.xlabel('False Positive Rate')\n",
    "plt.ylabel('True Positive Rate')\n",
    "plt.title(\"Logistic Regression: ROC Curve for Classifying PHEV's vs. Non-EV's\")\n",
    "plt.show()\n",
    "# Hmmm....AUC has gone down a lot, and still not continuous!!!"
   ]
  },
  {
   "cell_type": "code",
   "execution_count": 86,
   "metadata": {},
   "outputs": [
    {
     "name": "stdout",
     "output_type": "stream",
     "text": [
      "(0.0, 0.0, 2)\n",
      "(0.3170731707317073, 0.5384615384615384, 1)\n",
      "(1.0, 1.0, 0)\n"
     ]
    }
   ],
   "source": [
    "for items in zip(fpr, tpr, prob):      # sarkar ...read from the bottom??\n",
    "    print(items)"
   ]
  },
  {
   "cell_type": "code",
   "execution_count": 87,
   "metadata": {},
   "outputs": [
    {
     "data": {
      "image/png": "[encoded data removed]",
      "text/plain": [
       "<Figure size 432x288 with 1 Axes>"
      ]
     },
     "metadata": {
      "needs_background": "light"
     },
     "output_type": "display_data"
    }
   ],
   "source": [
    "fpr, tpr, prob = metrics.roc_curve(yp_test,  probs_L)   # Third argument should be probs, not Labels!!! Sarkar\n",
    "auc = metrics.roc_auc_score(yp_test, yp_pred_L)\n",
    "plt.plot(fpr,tpr,label=\"data 1, auc=\"+str(auc))\n",
    "plt.legend(loc=4)\n",
    "plt.xlabel('False Positive Rate')\n",
    "plt.ylabel('True Positive Rate')\n",
    "plt.title(\"Logistic Regression: ROC Curve for Classifying PHEV's vs. Non-EV's\")\n",
    "plt.show()\n",
    "# Hmmm....AUC has gone down a lot, and still not continuous!!!"
   ]
  },
  {
   "cell_type": "code",
   "execution_count": 88,
   "metadata": {},
   "outputs": [
    {
     "name": "stdout",
     "output_type": "stream",
     "text": [
      "(0.0, 0.0, 1.6429958631690669)\n",
      "(0.0, 0.02564102564102564, 0.6429958631690669)\n",
      "(0.0, 0.07692307692307693, 0.6097790307973897)\n",
      "(0.024390243902439025, 0.07692307692307693, 0.5988020764853201)\n",
      "(0.024390243902439025, 0.20512820512820512, 0.592240816592197)\n",
      "(0.04878048780487805, 0.20512820512820512, 0.5899217704340856)\n",
      "(0.04878048780487805, 0.28205128205128205, 0.5841032009792989)\n",
      "(0.07317073170731707, 0.28205128205128205, 0.5776051079062517)\n",
      "(0.07317073170731707, 0.358974358974359, 0.5702400594585695)\n",
      "(0.0975609756097561, 0.358974358974359, 0.5600578254153684)\n",
      "(0.0975609756097561, 0.5384615384615384, 0.5324504323952929)\n",
      "(0.4146341463414634, 0.5384615384615384, 0.49085425925897064)\n",
      "(0.4146341463414634, 0.6410256410256411, 0.48533008660294896)\n",
      "(0.4634146341463415, 0.6410256410256411, 0.4784915316725263)\n",
      "(0.4634146341463415, 0.717948717948718, 0.4752227624981288)\n",
      "(0.5365853658536586, 0.717948717948718, 0.4714412905647003)\n",
      "(0.5365853658536586, 0.7692307692307693, 0.46765494696062315)\n",
      "(0.5853658536585366, 0.7692307692307693, 0.4610035047562478)\n",
      "(0.5853658536585366, 0.7948717948717948, 0.4603127808539779)\n",
      "(0.6097560975609756, 0.7948717948717948, 0.4595641868215762)\n",
      "(0.6097560975609756, 0.8205128205128205, 0.4574746608385847)\n",
      "(0.6341463414634146, 0.8205128205128205, 0.4573141552172523)\n",
      "(0.6341463414634146, 0.8461538461538461, 0.4569291352968084)\n",
      "(0.6585365853658537, 0.8461538461538461, 0.4527122704338014)\n",
      "(0.6585365853658537, 0.9230769230769231, 0.45085693385903397)\n",
      "(0.7073170731707317, 0.9230769230769231, 0.4469811997003937)\n",
      "(0.7073170731707317, 0.9743589743589743, 0.4456034287219963)\n",
      "(0.7317073170731707, 0.9743589743589743, 0.44039924038860906)\n",
      "(0.7317073170731707, 1.0, 0.44023121145353206)\n",
      "(1.0, 1.0, 0.31236607514402853)\n"
     ]
    }
   ],
   "source": [
    "for items in zip(fpr, tpr, prob):    # read this from the bottom!! 0.6 is a good threshold or .59\n",
    "    print(items)"
   ]
  },
  {
   "cell_type": "markdown",
   "metadata": {},
   "source": [
    "# Random Forest Classifier"
   ]
  },
  {
   "cell_type": "code",
   "execution_count": 89,
   "metadata": {},
   "outputs": [],
   "source": [
    "# Try a RandomForest Classifier\n",
    "from sklearn.ensemble import RandomForestClassifier\n",
    "\n",
    "# Limit max depth\n",
    "forest = RandomForestClassifier(max_depth = 4, n_estimators=10)\n",
    "\n",
    "forest.fit(Xp_train,yp_train)             # Train\n",
    "yp_pred_F = forest.predict(Xp_test)      # Predict the response for test dataset"
   ]
  },
  {
   "cell_type": "code",
   "execution_count": 90,
   "metadata": {},
   "outputs": [
    {
     "data": {
      "image/png": "[encoded data removed]",
      "text/plain": [
       "<Figure size 432x288 with 1 Axes>"
      ]
     },
     "metadata": {
      "needs_background": "light"
     },
     "output_type": "display_data"
    }
   ],
   "source": [
    "fpr, tpr, _ = metrics.roc_curve(yp_test,  yp_pred_F)        # Third argument should be probs, not Labels!!! Sarkar\n",
    "auc = metrics.roc_auc_score(yp_test, yp_pred_F)\n",
    "plt.plot(fpr,tpr,label=\"data 1, auc=\"+str(auc))\n",
    "plt.legend(loc=4)\n",
    "plt.xlabel('False Positive Rate')\n",
    "plt.ylabel('True Positive Rate')\n",
    "plt.title(\"Random Forest: ROC Curve for Classifying PHEV's vs. Non-EV's\")\n",
    "plt.show()"
   ]
  },
  {
   "cell_type": "code",
   "execution_count": 91,
   "metadata": {},
   "outputs": [
    {
     "data": {
      "text/plain": [
       "array([[0.2797915 , 0.7202085 ],\n",
       "       [1.        , 0.        ],\n",
       "       [1.        , 0.        ],\n",
       "       [0.24633163, 0.75366837],\n",
       "       [0.16669626, 0.83330374]])"
      ]
     },
     "execution_count": 91,
     "metadata": {},
     "output_type": "execute_result"
    }
   ],
   "source": [
    "probs_F = forest.predict_proba(Xp_test)\n",
    "# keep probabilities for the positive outcome only\n",
    "probs_F[0:5]         # [:1]\n",
    "# Hmm...just want the first entries!? Extract via a list comprehension?\n",
    "# type(probs_F) #= numpy.ndarray\n"
   ]
  },
  {
   "cell_type": "code",
   "execution_count": 92,
   "metadata": {},
   "outputs": [],
   "source": [
    "#.round(decimals= 2)"
   ]
  },
  {
   "cell_type": "code",
   "execution_count": 93,
   "metadata": {},
   "outputs": [
    {
     "name": "stdout",
     "output_type": "stream",
     "text": [
      "[0.28, 1.0, 1.0, 0.25, 0.17, 0.2, 0.97, 0.97, 0.97, 0.35, 0.21, 0.59, 0.97, 1.0, 0.28, 0.35, 0.1, 0.63, 0.17, 0.97, 0.85, 0.79, 0.76, 0.95, 1.0, 0.51, 0.52, 0.87, 0.4, 0.85, 0.85, 0.26, 0.52, 0.17, 0.47, 0.51, 0.25, 1.0, 0.97, 0.22, 0.43, 0.26, 0.26, 0.82, 0.79, 0.93, 0.19, 0.5, 0.21, 0.2, 0.36, 0.25, 0.4, 0.36, 0.85, 0.4, 0.16, 0.2, 0.1, 0.28, 0.17, 0.76, 1.0, 1.0, 1.0, 0.85, 0.27, 0.4, 1.0, 0.38, 0.85, 0.88, 0.3, 0.18, 0.17, 0.37, 0.56, 0.21, 1.0, 0.21]\n"
     ]
    }
   ],
   "source": [
    "print([probs_F[i][0].round(decimals= 2) for i in range(len(probs_F))]) "
   ]
  },
  {
   "cell_type": "code",
   "execution_count": 94,
   "metadata": {},
   "outputs": [],
   "source": [
    "# Extract single tree\n",
    "estimator_limited = forest.estimators_[5]"
   ]
  },
  {
   "cell_type": "code",
   "execution_count": 95,
   "metadata": {},
   "outputs": [
    {
     "name": "stderr",
     "output_type": "stream",
     "text": [
      "/anaconda3/lib/python3.7/site-packages/sklearn/utils/deprecation.py:77: DeprecationWarning: Function plot_roc_curve is deprecated; This will be removed in v0.5.0. Please use scikitplot.metrics.plot_roc instead.\n",
      "  warnings.warn(msg, category=DeprecationWarning)\n"
     ]
    },
    {
     "ename": "IndexError",
     "evalue": "too many indices for array",
     "output_type": "error",
     "traceback": [
      "\u001b[0;31m---------------------------------------------------------------------------\u001b[0m",
      "\u001b[0;31mIndexError\u001b[0m                                Traceback (most recent call last)",
      "\u001b[0;32m<ipython-input-95-1f287b5f0c9b>\u001b[0m in \u001b[0;36m<module>\u001b[0;34m\u001b[0m\n\u001b[1;32m      4\u001b[0m \u001b[0;31m# y_true =              # ground truth labels.                                                                              Here y_test\u001b[0m\u001b[0;34m\u001b[0m\u001b[0;34m\u001b[0m\u001b[0;34m\u001b[0m\u001b[0m\n\u001b[1;32m      5\u001b[0m \u001b[0;31m# y_probas =         # predicted probabilities generated by sklearn classifier.          Here y_pred ?\u001b[0m\u001b[0;34m\u001b[0m\u001b[0;34m\u001b[0m\u001b[0;34m\u001b[0m\u001b[0m\n\u001b[0;32m----> 6\u001b[0;31m \u001b[0mskplt\u001b[0m\u001b[0;34m.\u001b[0m\u001b[0mmetrics\u001b[0m\u001b[0;34m.\u001b[0m\u001b[0mplot_roc_curve\u001b[0m\u001b[0;34m(\u001b[0m\u001b[0my\u001b[0m\u001b[0;34m,\u001b[0m \u001b[0my_pred\u001b[0m\u001b[0;34m)\u001b[0m\u001b[0;34m\u001b[0m\u001b[0;34m\u001b[0m\u001b[0m\n\u001b[0m\u001b[1;32m      7\u001b[0m \u001b[0mplt\u001b[0m\u001b[0;34m.\u001b[0m\u001b[0mshow\u001b[0m\u001b[0;34m(\u001b[0m\u001b[0;34m)\u001b[0m\u001b[0;34m\u001b[0m\u001b[0;34m\u001b[0m\u001b[0m\n",
      "\u001b[0;32m/anaconda3/lib/python3.7/site-packages/sklearn/utils/deprecation.py\u001b[0m in \u001b[0;36mwrapped\u001b[0;34m(*args, **kwargs)\u001b[0m\n\u001b[1;32m     76\u001b[0m         \u001b[0;32mdef\u001b[0m \u001b[0mwrapped\u001b[0m\u001b[0;34m(\u001b[0m\u001b[0;34m*\u001b[0m\u001b[0margs\u001b[0m\u001b[0;34m,\u001b[0m \u001b[0;34m**\u001b[0m\u001b[0mkwargs\u001b[0m\u001b[0;34m)\u001b[0m\u001b[0;34m:\u001b[0m\u001b[0;34m\u001b[0m\u001b[0;34m\u001b[0m\u001b[0m\n\u001b[1;32m     77\u001b[0m             \u001b[0mwarnings\u001b[0m\u001b[0;34m.\u001b[0m\u001b[0mwarn\u001b[0m\u001b[0;34m(\u001b[0m\u001b[0mmsg\u001b[0m\u001b[0;34m,\u001b[0m \u001b[0mcategory\u001b[0m\u001b[0;34m=\u001b[0m\u001b[0mDeprecationWarning\u001b[0m\u001b[0;34m)\u001b[0m\u001b[0;34m\u001b[0m\u001b[0;34m\u001b[0m\u001b[0m\n\u001b[0;32m---> 78\u001b[0;31m             \u001b[0;32mreturn\u001b[0m \u001b[0mfun\u001b[0m\u001b[0;34m(\u001b[0m\u001b[0;34m*\u001b[0m\u001b[0margs\u001b[0m\u001b[0;34m,\u001b[0m \u001b[0;34m**\u001b[0m\u001b[0mkwargs\u001b[0m\u001b[0;34m)\u001b[0m\u001b[0;34m\u001b[0m\u001b[0;34m\u001b[0m\u001b[0m\n\u001b[0m\u001b[1;32m     79\u001b[0m \u001b[0;34m\u001b[0m\u001b[0m\n\u001b[1;32m     80\u001b[0m         \u001b[0mwrapped\u001b[0m\u001b[0;34m.\u001b[0m\u001b[0m__doc__\u001b[0m \u001b[0;34m=\u001b[0m \u001b[0mself\u001b[0m\u001b[0;34m.\u001b[0m\u001b[0m_update_doc\u001b[0m\u001b[0;34m(\u001b[0m\u001b[0mwrapped\u001b[0m\u001b[0;34m.\u001b[0m\u001b[0m__doc__\u001b[0m\u001b[0;34m)\u001b[0m\u001b[0;34m\u001b[0m\u001b[0;34m\u001b[0m\u001b[0m\n",
      "\u001b[0;32m/anaconda3/lib/python3.7/site-packages/scikitplot/metrics.py\u001b[0m in \u001b[0;36mplot_roc_curve\u001b[0;34m(y_true, y_probas, title, curves, ax, figsize, cmap, title_fontsize, text_fontsize)\u001b[0m\n\u001b[1;32m    255\u001b[0m     \u001b[0mroc_auc\u001b[0m \u001b[0;34m=\u001b[0m \u001b[0mdict\u001b[0m\u001b[0;34m(\u001b[0m\u001b[0;34m)\u001b[0m\u001b[0;34m\u001b[0m\u001b[0;34m\u001b[0m\u001b[0m\n\u001b[1;32m    256\u001b[0m     \u001b[0;32mfor\u001b[0m \u001b[0mi\u001b[0m \u001b[0;32min\u001b[0m \u001b[0mrange\u001b[0m\u001b[0;34m(\u001b[0m\u001b[0mlen\u001b[0m\u001b[0;34m(\u001b[0m\u001b[0mclasses\u001b[0m\u001b[0;34m)\u001b[0m\u001b[0;34m)\u001b[0m\u001b[0;34m:\u001b[0m\u001b[0;34m\u001b[0m\u001b[0;34m\u001b[0m\u001b[0m\n\u001b[0;32m--> 257\u001b[0;31m         fpr[i], tpr[i], _ = roc_curve(y_true, probas[:, i],\n\u001b[0m\u001b[1;32m    258\u001b[0m                                       pos_label=classes[i])\n\u001b[1;32m    259\u001b[0m         \u001b[0mroc_auc\u001b[0m\u001b[0;34m[\u001b[0m\u001b[0mi\u001b[0m\u001b[0;34m]\u001b[0m \u001b[0;34m=\u001b[0m \u001b[0mauc\u001b[0m\u001b[0;34m(\u001b[0m\u001b[0mfpr\u001b[0m\u001b[0;34m[\u001b[0m\u001b[0mi\u001b[0m\u001b[0;34m]\u001b[0m\u001b[0;34m,\u001b[0m \u001b[0mtpr\u001b[0m\u001b[0;34m[\u001b[0m\u001b[0mi\u001b[0m\u001b[0;34m]\u001b[0m\u001b[0;34m)\u001b[0m\u001b[0;34m\u001b[0m\u001b[0;34m\u001b[0m\u001b[0m\n",
      "\u001b[0;31mIndexError\u001b[0m: too many indices for array"
     ]
    }
   ],
   "source": [
    "import scikitplot as skplt\n",
    "import matplotlib.pyplot as plt\n",
    "\n",
    "# y_true =              # ground truth labels.                                                                              Here y_test\n",
    "# y_probas =         # predicted probabilities generated by sklearn classifier.          Here y_pred ?\n",
    "skplt.metrics.plot_roc_curve(y, y_pred)\n",
    "plt.show()\n"
   ]
  },
  {
   "cell_type": "markdown",
   "metadata": {},
   "source": [
    "# Repeat for PHEV in Fall (F)"
   ]
  },
  {
   "cell_type": "code",
   "execution_count": null,
   "metadata": {},
   "outputs": [],
   "source": []
  },
  {
   "cell_type": "code",
   "execution_count": 96,
   "metadata": {},
   "outputs": [
    {
     "data": {
      "text/html": [
       "<div>\n",
       "<style scoped>\n",
       "    .dataframe tbody tr th:only-of-type {\n",
       "        vertical-align: middle;\n",
       "    }\n",
       "\n",
       "    .dataframe tbody tr th {\n",
       "        vertical-align: top;\n",
       "    }\n",
       "\n",
       "    .dataframe thead th {\n",
       "        text-align: right;\n",
       "    }\n",
       "</style>\n",
       "<table border=\"1\" class=\"dataframe\">\n",
       "  <thead>\n",
       "    <tr style=\"text-align: right;\">\n",
       "      <th></th>\n",
       "      <th>total</th>\n",
       "      <th>average</th>\n",
       "      <th>max_kwh</th>\n",
       "      <th>top5</th>\n",
       "      <th>top_decile</th>\n",
       "      <th>median</th>\n",
       "      <th>top5_vs_median</th>\n",
       "      <th>label</th>\n",
       "    </tr>\n",
       "  </thead>\n",
       "  <tbody>\n",
       "    <tr>\n",
       "      <th>0</th>\n",
       "      <td>2396.092</td>\n",
       "      <td>1.097112</td>\n",
       "      <td>6.21</td>\n",
       "      <td>2.6200</td>\n",
       "      <td>1.860</td>\n",
       "      <td>0.900</td>\n",
       "      <td>2.911111</td>\n",
       "      <td>0</td>\n",
       "    </tr>\n",
       "    <tr>\n",
       "      <th>1</th>\n",
       "      <td>2213.422</td>\n",
       "      <td>1.062613</td>\n",
       "      <td>4.80</td>\n",
       "      <td>2.4932</td>\n",
       "      <td>1.790</td>\n",
       "      <td>0.900</td>\n",
       "      <td>2.770222</td>\n",
       "      <td>0</td>\n",
       "    </tr>\n",
       "    <tr>\n",
       "      <th>2</th>\n",
       "      <td>2500.080</td>\n",
       "      <td>1.159054</td>\n",
       "      <td>5.25</td>\n",
       "      <td>2.5600</td>\n",
       "      <td>1.920</td>\n",
       "      <td>0.960</td>\n",
       "      <td>2.666667</td>\n",
       "      <td>0</td>\n",
       "    </tr>\n",
       "    <tr>\n",
       "      <th>3</th>\n",
       "      <td>2304.632</td>\n",
       "      <td>1.068443</td>\n",
       "      <td>5.70</td>\n",
       "      <td>2.5000</td>\n",
       "      <td>1.860</td>\n",
       "      <td>0.900</td>\n",
       "      <td>2.777778</td>\n",
       "      <td>0</td>\n",
       "    </tr>\n",
       "    <tr>\n",
       "      <th>4</th>\n",
       "      <td>2548.592</td>\n",
       "      <td>1.166938</td>\n",
       "      <td>5.25</td>\n",
       "      <td>2.5600</td>\n",
       "      <td>1.962</td>\n",
       "      <td>1.020</td>\n",
       "      <td>2.509804</td>\n",
       "      <td>0</td>\n",
       "    </tr>\n",
       "    <tr>\n",
       "      <th>5</th>\n",
       "      <td>2280.792</td>\n",
       "      <td>1.044319</td>\n",
       "      <td>5.50</td>\n",
       "      <td>2.3700</td>\n",
       "      <td>1.730</td>\n",
       "      <td>0.832</td>\n",
       "      <td>2.848558</td>\n",
       "      <td>0</td>\n",
       "    </tr>\n",
       "    <tr>\n",
       "      <th>6</th>\n",
       "      <td>2239.258</td>\n",
       "      <td>1.067330</td>\n",
       "      <td>5.25</td>\n",
       "      <td>2.5090</td>\n",
       "      <td>1.860</td>\n",
       "      <td>0.830</td>\n",
       "      <td>3.022892</td>\n",
       "      <td>0</td>\n",
       "    </tr>\n",
       "    <tr>\n",
       "      <th>7</th>\n",
       "      <td>2270.102</td>\n",
       "      <td>1.052435</td>\n",
       "      <td>6.78</td>\n",
       "      <td>2.5600</td>\n",
       "      <td>1.860</td>\n",
       "      <td>0.830</td>\n",
       "      <td>3.084337</td>\n",
       "      <td>0</td>\n",
       "    </tr>\n",
       "    <tr>\n",
       "      <th>8</th>\n",
       "      <td>2165.450</td>\n",
       "      <td>1.032150</td>\n",
       "      <td>5.31</td>\n",
       "      <td>2.6200</td>\n",
       "      <td>1.790</td>\n",
       "      <td>0.770</td>\n",
       "      <td>3.402597</td>\n",
       "      <td>0</td>\n",
       "    </tr>\n",
       "    <tr>\n",
       "      <th>9</th>\n",
       "      <td>2368.142</td>\n",
       "      <td>1.084314</td>\n",
       "      <td>5.25</td>\n",
       "      <td>2.5600</td>\n",
       "      <td>1.920</td>\n",
       "      <td>0.900</td>\n",
       "      <td>2.844444</td>\n",
       "      <td>0</td>\n",
       "    </tr>\n",
       "    <tr>\n",
       "      <th>10</th>\n",
       "      <td>2427.056</td>\n",
       "      <td>1.111289</td>\n",
       "      <td>5.50</td>\n",
       "      <td>2.6200</td>\n",
       "      <td>1.920</td>\n",
       "      <td>0.900</td>\n",
       "      <td>2.911111</td>\n",
       "      <td>0</td>\n",
       "    </tr>\n",
       "    <tr>\n",
       "      <th>11</th>\n",
       "      <td>2248.508</td>\n",
       "      <td>1.085711</td>\n",
       "      <td>6.59</td>\n",
       "      <td>2.6200</td>\n",
       "      <td>1.860</td>\n",
       "      <td>0.900</td>\n",
       "      <td>2.911111</td>\n",
       "      <td>0</td>\n",
       "    </tr>\n",
       "    <tr>\n",
       "      <th>12</th>\n",
       "      <td>2410.150</td>\n",
       "      <td>1.103549</td>\n",
       "      <td>5.38</td>\n",
       "      <td>2.5600</td>\n",
       "      <td>1.920</td>\n",
       "      <td>0.900</td>\n",
       "      <td>2.844444</td>\n",
       "      <td>0</td>\n",
       "    </tr>\n",
       "    <tr>\n",
       "      <th>13</th>\n",
       "      <td>2144.582</td>\n",
       "      <td>1.073902</td>\n",
       "      <td>5.31</td>\n",
       "      <td>2.6884</td>\n",
       "      <td>1.920</td>\n",
       "      <td>0.830</td>\n",
       "      <td>3.239036</td>\n",
       "      <td>0</td>\n",
       "    </tr>\n",
       "    <tr>\n",
       "      <th>14</th>\n",
       "      <td>2400.212</td>\n",
       "      <td>1.152286</td>\n",
       "      <td>6.34</td>\n",
       "      <td>2.5600</td>\n",
       "      <td>1.920</td>\n",
       "      <td>0.960</td>\n",
       "      <td>2.666667</td>\n",
       "      <td>0</td>\n",
       "    </tr>\n",
       "    <tr>\n",
       "      <th>15</th>\n",
       "      <td>2059.436</td>\n",
       "      <td>1.031265</td>\n",
       "      <td>5.31</td>\n",
       "      <td>2.4300</td>\n",
       "      <td>1.790</td>\n",
       "      <td>0.830</td>\n",
       "      <td>2.927711</td>\n",
       "      <td>0</td>\n",
       "    </tr>\n",
       "    <tr>\n",
       "      <th>16</th>\n",
       "      <td>2591.486</td>\n",
       "      <td>1.186578</td>\n",
       "      <td>6.21</td>\n",
       "      <td>2.5600</td>\n",
       "      <td>1.980</td>\n",
       "      <td>1.020</td>\n",
       "      <td>2.509804</td>\n",
       "      <td>0</td>\n",
       "    </tr>\n",
       "    <tr>\n",
       "      <th>17</th>\n",
       "      <td>2255.168</td>\n",
       "      <td>1.074913</td>\n",
       "      <td>7.49</td>\n",
       "      <td>2.8800</td>\n",
       "      <td>2.050</td>\n",
       "      <td>0.770</td>\n",
       "      <td>3.740260</td>\n",
       "      <td>0</td>\n",
       "    </tr>\n",
       "    <tr>\n",
       "      <th>18</th>\n",
       "      <td>2053.342</td>\n",
       "      <td>1.028213</td>\n",
       "      <td>6.34</td>\n",
       "      <td>2.5600</td>\n",
       "      <td>1.790</td>\n",
       "      <td>0.830</td>\n",
       "      <td>3.084337</td>\n",
       "      <td>0</td>\n",
       "    </tr>\n",
       "    <tr>\n",
       "      <th>19</th>\n",
       "      <td>2555.718</td>\n",
       "      <td>1.184848</td>\n",
       "      <td>7.49</td>\n",
       "      <td>2.8800</td>\n",
       "      <td>2.050</td>\n",
       "      <td>0.960</td>\n",
       "      <td>3.000000</td>\n",
       "      <td>0</td>\n",
       "    </tr>\n",
       "    <tr>\n",
       "      <th>20</th>\n",
       "      <td>2160.498</td>\n",
       "      <td>0.989239</td>\n",
       "      <td>6.34</td>\n",
       "      <td>2.4300</td>\n",
       "      <td>1.660</td>\n",
       "      <td>0.770</td>\n",
       "      <td>3.155844</td>\n",
       "      <td>0</td>\n",
       "    </tr>\n",
       "    <tr>\n",
       "      <th>21</th>\n",
       "      <td>2357.094</td>\n",
       "      <td>1.106617</td>\n",
       "      <td>6.78</td>\n",
       "      <td>2.3700</td>\n",
       "      <td>1.860</td>\n",
       "      <td>0.960</td>\n",
       "      <td>2.468750</td>\n",
       "      <td>0</td>\n",
       "    </tr>\n",
       "    <tr>\n",
       "      <th>22</th>\n",
       "      <td>2294.464</td>\n",
       "      <td>1.050579</td>\n",
       "      <td>6.78</td>\n",
       "      <td>2.4300</td>\n",
       "      <td>1.790</td>\n",
       "      <td>0.830</td>\n",
       "      <td>2.927711</td>\n",
       "      <td>0</td>\n",
       "    </tr>\n",
       "    <tr>\n",
       "      <th>23</th>\n",
       "      <td>2252.484</td>\n",
       "      <td>1.073634</td>\n",
       "      <td>6.21</td>\n",
       "      <td>2.6200</td>\n",
       "      <td>1.860</td>\n",
       "      <td>0.830</td>\n",
       "      <td>3.156627</td>\n",
       "      <td>0</td>\n",
       "    </tr>\n",
       "    <tr>\n",
       "      <th>24</th>\n",
       "      <td>2451.464</td>\n",
       "      <td>1.122465</td>\n",
       "      <td>7.49</td>\n",
       "      <td>2.8095</td>\n",
       "      <td>2.050</td>\n",
       "      <td>0.900</td>\n",
       "      <td>3.121667</td>\n",
       "      <td>0</td>\n",
       "    </tr>\n",
       "    <tr>\n",
       "      <th>25</th>\n",
       "      <td>2349.920</td>\n",
       "      <td>1.075971</td>\n",
       "      <td>5.50</td>\n",
       "      <td>2.8800</td>\n",
       "      <td>1.920</td>\n",
       "      <td>0.832</td>\n",
       "      <td>3.461538</td>\n",
       "      <td>0</td>\n",
       "    </tr>\n",
       "    <tr>\n",
       "      <th>26</th>\n",
       "      <td>2397.826</td>\n",
       "      <td>1.097906</td>\n",
       "      <td>6.34</td>\n",
       "      <td>2.5600</td>\n",
       "      <td>1.860</td>\n",
       "      <td>0.900</td>\n",
       "      <td>2.844444</td>\n",
       "      <td>0</td>\n",
       "    </tr>\n",
       "    <tr>\n",
       "      <th>27</th>\n",
       "      <td>2306.328</td>\n",
       "      <td>1.056011</td>\n",
       "      <td>6.59</td>\n",
       "      <td>2.3697</td>\n",
       "      <td>1.730</td>\n",
       "      <td>0.832</td>\n",
       "      <td>2.848197</td>\n",
       "      <td>0</td>\n",
       "    </tr>\n",
       "    <tr>\n",
       "      <th>28</th>\n",
       "      <td>2391.130</td>\n",
       "      <td>1.094840</td>\n",
       "      <td>5.12</td>\n",
       "      <td>2.3700</td>\n",
       "      <td>1.730</td>\n",
       "      <td>0.960</td>\n",
       "      <td>2.468750</td>\n",
       "      <td>0</td>\n",
       "    </tr>\n",
       "    <tr>\n",
       "      <th>29</th>\n",
       "      <td>2348.554</td>\n",
       "      <td>1.075345</td>\n",
       "      <td>6.34</td>\n",
       "      <td>2.7500</td>\n",
       "      <td>1.920</td>\n",
       "      <td>0.830</td>\n",
       "      <td>3.313253</td>\n",
       "      <td>0</td>\n",
       "    </tr>\n",
       "    <tr>\n",
       "      <th>...</th>\n",
       "      <td>...</td>\n",
       "      <td>...</td>\n",
       "      <td>...</td>\n",
       "      <td>...</td>\n",
       "      <td>...</td>\n",
       "      <td>...</td>\n",
       "      <td>...</td>\n",
       "      <td>...</td>\n",
       "    </tr>\n",
       "    <tr>\n",
       "      <th>70</th>\n",
       "      <td>2210.354</td>\n",
       "      <td>1.012067</td>\n",
       "      <td>6.78</td>\n",
       "      <td>2.4300</td>\n",
       "      <td>1.730</td>\n",
       "      <td>0.770</td>\n",
       "      <td>3.155844</td>\n",
       "      <td>0</td>\n",
       "    </tr>\n",
       "    <tr>\n",
       "      <th>71</th>\n",
       "      <td>2094.140</td>\n",
       "      <td>0.998160</td>\n",
       "      <td>5.38</td>\n",
       "      <td>2.5600</td>\n",
       "      <td>1.790</td>\n",
       "      <td>0.770</td>\n",
       "      <td>3.324675</td>\n",
       "      <td>0</td>\n",
       "    </tr>\n",
       "    <tr>\n",
       "      <th>72</th>\n",
       "      <td>2517.652</td>\n",
       "      <td>1.167201</td>\n",
       "      <td>5.25</td>\n",
       "      <td>2.8320</td>\n",
       "      <td>2.050</td>\n",
       "      <td>0.960</td>\n",
       "      <td>2.950000</td>\n",
       "      <td>0</td>\n",
       "    </tr>\n",
       "    <tr>\n",
       "      <th>73</th>\n",
       "      <td>2181.736</td>\n",
       "      <td>1.047401</td>\n",
       "      <td>5.38</td>\n",
       "      <td>2.5540</td>\n",
       "      <td>1.790</td>\n",
       "      <td>0.830</td>\n",
       "      <td>3.077108</td>\n",
       "      <td>0</td>\n",
       "    </tr>\n",
       "    <tr>\n",
       "      <th>74</th>\n",
       "      <td>2336.324</td>\n",
       "      <td>1.121615</td>\n",
       "      <td>5.50</td>\n",
       "      <td>2.5000</td>\n",
       "      <td>1.920</td>\n",
       "      <td>0.900</td>\n",
       "      <td>2.777778</td>\n",
       "      <td>0</td>\n",
       "    </tr>\n",
       "    <tr>\n",
       "      <th>75</th>\n",
       "      <td>2119.998</td>\n",
       "      <td>1.017762</td>\n",
       "      <td>6.59</td>\n",
       "      <td>2.2400</td>\n",
       "      <td>1.730</td>\n",
       "      <td>0.830</td>\n",
       "      <td>2.698795</td>\n",
       "      <td>0</td>\n",
       "    </tr>\n",
       "    <tr>\n",
       "      <th>76</th>\n",
       "      <td>2137.702</td>\n",
       "      <td>1.018924</td>\n",
       "      <td>5.38</td>\n",
       "      <td>2.5600</td>\n",
       "      <td>1.860</td>\n",
       "      <td>0.770</td>\n",
       "      <td>3.324675</td>\n",
       "      <td>0</td>\n",
       "    </tr>\n",
       "    <tr>\n",
       "      <th>77</th>\n",
       "      <td>2162.446</td>\n",
       "      <td>1.038140</td>\n",
       "      <td>5.38</td>\n",
       "      <td>2.3700</td>\n",
       "      <td>1.730</td>\n",
       "      <td>0.830</td>\n",
       "      <td>2.855422</td>\n",
       "      <td>0</td>\n",
       "    </tr>\n",
       "    <tr>\n",
       "      <th>78</th>\n",
       "      <td>2299.964</td>\n",
       "      <td>1.053097</td>\n",
       "      <td>5.70</td>\n",
       "      <td>2.4300</td>\n",
       "      <td>1.860</td>\n",
       "      <td>0.830</td>\n",
       "      <td>2.927711</td>\n",
       "      <td>0</td>\n",
       "    </tr>\n",
       "    <tr>\n",
       "      <th>79</th>\n",
       "      <td>2362.018</td>\n",
       "      <td>1.182783</td>\n",
       "      <td>6.59</td>\n",
       "      <td>2.5720</td>\n",
       "      <td>1.920</td>\n",
       "      <td>1.020</td>\n",
       "      <td>2.521569</td>\n",
       "      <td>0</td>\n",
       "    </tr>\n",
       "    <tr>\n",
       "      <th>80</th>\n",
       "      <td>2128.784</td>\n",
       "      <td>0.986919</td>\n",
       "      <td>5.38</td>\n",
       "      <td>2.5000</td>\n",
       "      <td>1.860</td>\n",
       "      <td>0.770</td>\n",
       "      <td>3.246753</td>\n",
       "      <td>0</td>\n",
       "    </tr>\n",
       "    <tr>\n",
       "      <th>81</th>\n",
       "      <td>2232.608</td>\n",
       "      <td>1.022256</td>\n",
       "      <td>5.70</td>\n",
       "      <td>2.4895</td>\n",
       "      <td>1.728</td>\n",
       "      <td>0.830</td>\n",
       "      <td>2.999398</td>\n",
       "      <td>0</td>\n",
       "    </tr>\n",
       "    <tr>\n",
       "      <th>82</th>\n",
       "      <td>2459.670</td>\n",
       "      <td>1.126223</td>\n",
       "      <td>5.50</td>\n",
       "      <td>2.6200</td>\n",
       "      <td>1.920</td>\n",
       "      <td>0.960</td>\n",
       "      <td>2.729167</td>\n",
       "      <td>0</td>\n",
       "    </tr>\n",
       "    <tr>\n",
       "      <th>83</th>\n",
       "      <td>2723.560</td>\n",
       "      <td>1.247051</td>\n",
       "      <td>6.21</td>\n",
       "      <td>2.6897</td>\n",
       "      <td>2.050</td>\n",
       "      <td>1.090</td>\n",
       "      <td>2.467615</td>\n",
       "      <td>0</td>\n",
       "    </tr>\n",
       "    <tr>\n",
       "      <th>84</th>\n",
       "      <td>2414.632</td>\n",
       "      <td>1.119440</td>\n",
       "      <td>5.70</td>\n",
       "      <td>2.4300</td>\n",
       "      <td>1.860</td>\n",
       "      <td>0.960</td>\n",
       "      <td>2.531250</td>\n",
       "      <td>0</td>\n",
       "    </tr>\n",
       "    <tr>\n",
       "      <th>85</th>\n",
       "      <td>2432.052</td>\n",
       "      <td>1.113577</td>\n",
       "      <td>6.21</td>\n",
       "      <td>2.6110</td>\n",
       "      <td>1.860</td>\n",
       "      <td>0.960</td>\n",
       "      <td>2.719792</td>\n",
       "      <td>0</td>\n",
       "    </tr>\n",
       "    <tr>\n",
       "      <th>86</th>\n",
       "      <td>2080.492</td>\n",
       "      <td>0.952606</td>\n",
       "      <td>6.59</td>\n",
       "      <td>2.2400</td>\n",
       "      <td>1.660</td>\n",
       "      <td>0.770</td>\n",
       "      <td>2.909091</td>\n",
       "      <td>0</td>\n",
       "    </tr>\n",
       "    <tr>\n",
       "      <th>87</th>\n",
       "      <td>2170.546</td>\n",
       "      <td>0.993840</td>\n",
       "      <td>5.31</td>\n",
       "      <td>2.5600</td>\n",
       "      <td>1.772</td>\n",
       "      <td>0.770</td>\n",
       "      <td>3.324675</td>\n",
       "      <td>0</td>\n",
       "    </tr>\n",
       "    <tr>\n",
       "      <th>88</th>\n",
       "      <td>2165.320</td>\n",
       "      <td>0.991447</td>\n",
       "      <td>6.78</td>\n",
       "      <td>2.3700</td>\n",
       "      <td>1.600</td>\n",
       "      <td>0.800</td>\n",
       "      <td>2.962500</td>\n",
       "      <td>0</td>\n",
       "    </tr>\n",
       "    <tr>\n",
       "      <th>89</th>\n",
       "      <td>2477.196</td>\n",
       "      <td>1.134247</td>\n",
       "      <td>6.34</td>\n",
       "      <td>2.6778</td>\n",
       "      <td>1.920</td>\n",
       "      <td>0.900</td>\n",
       "      <td>2.975333</td>\n",
       "      <td>0</td>\n",
       "    </tr>\n",
       "    <tr>\n",
       "      <th>90</th>\n",
       "      <td>2185.828</td>\n",
       "      <td>1.041863</td>\n",
       "      <td>5.25</td>\n",
       "      <td>2.6305</td>\n",
       "      <td>1.920</td>\n",
       "      <td>0.830</td>\n",
       "      <td>3.169277</td>\n",
       "      <td>0</td>\n",
       "    </tr>\n",
       "    <tr>\n",
       "      <th>91</th>\n",
       "      <td>2558.650</td>\n",
       "      <td>1.186208</td>\n",
       "      <td>6.59</td>\n",
       "      <td>2.6900</td>\n",
       "      <td>2.050</td>\n",
       "      <td>1.020</td>\n",
       "      <td>2.637255</td>\n",
       "      <td>0</td>\n",
       "    </tr>\n",
       "    <tr>\n",
       "      <th>92</th>\n",
       "      <td>2425.034</td>\n",
       "      <td>1.124262</td>\n",
       "      <td>7.49</td>\n",
       "      <td>2.5600</td>\n",
       "      <td>1.790</td>\n",
       "      <td>0.960</td>\n",
       "      <td>2.666667</td>\n",
       "      <td>0</td>\n",
       "    </tr>\n",
       "    <tr>\n",
       "      <th>93</th>\n",
       "      <td>2135.180</td>\n",
       "      <td>1.025050</td>\n",
       "      <td>5.70</td>\n",
       "      <td>2.3000</td>\n",
       "      <td>1.660</td>\n",
       "      <td>0.830</td>\n",
       "      <td>2.771084</td>\n",
       "      <td>0</td>\n",
       "    </tr>\n",
       "    <tr>\n",
       "      <th>94</th>\n",
       "      <td>2323.658</td>\n",
       "      <td>1.115534</td>\n",
       "      <td>6.78</td>\n",
       "      <td>2.5000</td>\n",
       "      <td>1.860</td>\n",
       "      <td>0.960</td>\n",
       "      <td>2.604167</td>\n",
       "      <td>0</td>\n",
       "    </tr>\n",
       "    <tr>\n",
       "      <th>95</th>\n",
       "      <td>2433.222</td>\n",
       "      <td>1.114113</td>\n",
       "      <td>7.49</td>\n",
       "      <td>2.6900</td>\n",
       "      <td>1.920</td>\n",
       "      <td>0.900</td>\n",
       "      <td>2.988889</td>\n",
       "      <td>0</td>\n",
       "    </tr>\n",
       "    <tr>\n",
       "      <th>96</th>\n",
       "      <td>2504.470</td>\n",
       "      <td>1.161089</td>\n",
       "      <td>6.21</td>\n",
       "      <td>2.6900</td>\n",
       "      <td>1.980</td>\n",
       "      <td>0.960</td>\n",
       "      <td>2.802083</td>\n",
       "      <td>0</td>\n",
       "    </tr>\n",
       "    <tr>\n",
       "      <th>97</th>\n",
       "      <td>2137.192</td>\n",
       "      <td>1.018681</td>\n",
       "      <td>5.70</td>\n",
       "      <td>2.5090</td>\n",
       "      <td>1.730</td>\n",
       "      <td>0.830</td>\n",
       "      <td>3.022892</td>\n",
       "      <td>0</td>\n",
       "    </tr>\n",
       "    <tr>\n",
       "      <th>98</th>\n",
       "      <td>2145.090</td>\n",
       "      <td>1.043332</td>\n",
       "      <td>6.78</td>\n",
       "      <td>2.4300</td>\n",
       "      <td>1.730</td>\n",
       "      <td>0.830</td>\n",
       "      <td>2.927711</td>\n",
       "      <td>0</td>\n",
       "    </tr>\n",
       "    <tr>\n",
       "      <th>99</th>\n",
       "      <td>2613.482</td>\n",
       "      <td>1.271149</td>\n",
       "      <td>6.21</td>\n",
       "      <td>2.8800</td>\n",
       "      <td>2.050</td>\n",
       "      <td>1.150</td>\n",
       "      <td>2.504348</td>\n",
       "      <td>0</td>\n",
       "    </tr>\n",
       "  </tbody>\n",
       "</table>\n",
       "<p>100 rows × 8 columns</p>\n",
       "</div>"
      ],
      "text/plain": [
       "       total   average  max_kwh    top5  top_decile  median  top5_vs_median  \\\n",
       "0   2396.092  1.097112     6.21  2.6200       1.860   0.900        2.911111   \n",
       "1   2213.422  1.062613     4.80  2.4932       1.790   0.900        2.770222   \n",
       "2   2500.080  1.159054     5.25  2.5600       1.920   0.960        2.666667   \n",
       "3   2304.632  1.068443     5.70  2.5000       1.860   0.900        2.777778   \n",
       "4   2548.592  1.166938     5.25  2.5600       1.962   1.020        2.509804   \n",
       "5   2280.792  1.044319     5.50  2.3700       1.730   0.832        2.848558   \n",
       "6   2239.258  1.067330     5.25  2.5090       1.860   0.830        3.022892   \n",
       "7   2270.102  1.052435     6.78  2.5600       1.860   0.830        3.084337   \n",
       "8   2165.450  1.032150     5.31  2.6200       1.790   0.770        3.402597   \n",
       "9   2368.142  1.084314     5.25  2.5600       1.920   0.900        2.844444   \n",
       "10  2427.056  1.111289     5.50  2.6200       1.920   0.900        2.911111   \n",
       "11  2248.508  1.085711     6.59  2.6200       1.860   0.900        2.911111   \n",
       "12  2410.150  1.103549     5.38  2.5600       1.920   0.900        2.844444   \n",
       "13  2144.582  1.073902     5.31  2.6884       1.920   0.830        3.239036   \n",
       "14  2400.212  1.152286     6.34  2.5600       1.920   0.960        2.666667   \n",
       "15  2059.436  1.031265     5.31  2.4300       1.790   0.830        2.927711   \n",
       "16  2591.486  1.186578     6.21  2.5600       1.980   1.020        2.509804   \n",
       "17  2255.168  1.074913     7.49  2.8800       2.050   0.770        3.740260   \n",
       "18  2053.342  1.028213     6.34  2.5600       1.790   0.830        3.084337   \n",
       "19  2555.718  1.184848     7.49  2.8800       2.050   0.960        3.000000   \n",
       "20  2160.498  0.989239     6.34  2.4300       1.660   0.770        3.155844   \n",
       "21  2357.094  1.106617     6.78  2.3700       1.860   0.960        2.468750   \n",
       "22  2294.464  1.050579     6.78  2.4300       1.790   0.830        2.927711   \n",
       "23  2252.484  1.073634     6.21  2.6200       1.860   0.830        3.156627   \n",
       "24  2451.464  1.122465     7.49  2.8095       2.050   0.900        3.121667   \n",
       "25  2349.920  1.075971     5.50  2.8800       1.920   0.832        3.461538   \n",
       "26  2397.826  1.097906     6.34  2.5600       1.860   0.900        2.844444   \n",
       "27  2306.328  1.056011     6.59  2.3697       1.730   0.832        2.848197   \n",
       "28  2391.130  1.094840     5.12  2.3700       1.730   0.960        2.468750   \n",
       "29  2348.554  1.075345     6.34  2.7500       1.920   0.830        3.313253   \n",
       "..       ...       ...      ...     ...         ...     ...             ...   \n",
       "70  2210.354  1.012067     6.78  2.4300       1.730   0.770        3.155844   \n",
       "71  2094.140  0.998160     5.38  2.5600       1.790   0.770        3.324675   \n",
       "72  2517.652  1.167201     5.25  2.8320       2.050   0.960        2.950000   \n",
       "73  2181.736  1.047401     5.38  2.5540       1.790   0.830        3.077108   \n",
       "74  2336.324  1.121615     5.50  2.5000       1.920   0.900        2.777778   \n",
       "75  2119.998  1.017762     6.59  2.2400       1.730   0.830        2.698795   \n",
       "76  2137.702  1.018924     5.38  2.5600       1.860   0.770        3.324675   \n",
       "77  2162.446  1.038140     5.38  2.3700       1.730   0.830        2.855422   \n",
       "78  2299.964  1.053097     5.70  2.4300       1.860   0.830        2.927711   \n",
       "79  2362.018  1.182783     6.59  2.5720       1.920   1.020        2.521569   \n",
       "80  2128.784  0.986919     5.38  2.5000       1.860   0.770        3.246753   \n",
       "81  2232.608  1.022256     5.70  2.4895       1.728   0.830        2.999398   \n",
       "82  2459.670  1.126223     5.50  2.6200       1.920   0.960        2.729167   \n",
       "83  2723.560  1.247051     6.21  2.6897       2.050   1.090        2.467615   \n",
       "84  2414.632  1.119440     5.70  2.4300       1.860   0.960        2.531250   \n",
       "85  2432.052  1.113577     6.21  2.6110       1.860   0.960        2.719792   \n",
       "86  2080.492  0.952606     6.59  2.2400       1.660   0.770        2.909091   \n",
       "87  2170.546  0.993840     5.31  2.5600       1.772   0.770        3.324675   \n",
       "88  2165.320  0.991447     6.78  2.3700       1.600   0.800        2.962500   \n",
       "89  2477.196  1.134247     6.34  2.6778       1.920   0.900        2.975333   \n",
       "90  2185.828  1.041863     5.25  2.6305       1.920   0.830        3.169277   \n",
       "91  2558.650  1.186208     6.59  2.6900       2.050   1.020        2.637255   \n",
       "92  2425.034  1.124262     7.49  2.5600       1.790   0.960        2.666667   \n",
       "93  2135.180  1.025050     5.70  2.3000       1.660   0.830        2.771084   \n",
       "94  2323.658  1.115534     6.78  2.5000       1.860   0.960        2.604167   \n",
       "95  2433.222  1.114113     7.49  2.6900       1.920   0.900        2.988889   \n",
       "96  2504.470  1.161089     6.21  2.6900       1.980   0.960        2.802083   \n",
       "97  2137.192  1.018681     5.70  2.5090       1.730   0.830        3.022892   \n",
       "98  2145.090  1.043332     6.78  2.4300       1.730   0.830        2.927711   \n",
       "99  2613.482  1.271149     6.21  2.8800       2.050   1.150        2.504348   \n",
       "\n",
       "    label  \n",
       "0       0  \n",
       "1       0  \n",
       "2       0  \n",
       "3       0  \n",
       "4       0  \n",
       "5       0  \n",
       "6       0  \n",
       "7       0  \n",
       "8       0  \n",
       "9       0  \n",
       "10      0  \n",
       "11      0  \n",
       "12      0  \n",
       "13      0  \n",
       "14      0  \n",
       "15      0  \n",
       "16      0  \n",
       "17      0  \n",
       "18      0  \n",
       "19      0  \n",
       "20      0  \n",
       "21      0  \n",
       "22      0  \n",
       "23      0  \n",
       "24      0  \n",
       "25      0  \n",
       "26      0  \n",
       "27      0  \n",
       "28      0  \n",
       "29      0  \n",
       "..    ...  \n",
       "70      0  \n",
       "71      0  \n",
       "72      0  \n",
       "73      0  \n",
       "74      0  \n",
       "75      0  \n",
       "76      0  \n",
       "77      0  \n",
       "78      0  \n",
       "79      0  \n",
       "80      0  \n",
       "81      0  \n",
       "82      0  \n",
       "83      0  \n",
       "84      0  \n",
       "85      0  \n",
       "86      0  \n",
       "87      0  \n",
       "88      0  \n",
       "89      0  \n",
       "90      0  \n",
       "91      0  \n",
       "92      0  \n",
       "93      0  \n",
       "94      0  \n",
       "95      0  \n",
       "96      0  \n",
       "97      0  \n",
       "98      0  \n",
       "99      0  \n",
       "\n",
       "[100 rows x 8 columns]"
      ]
     },
     "execution_count": 96,
     "metadata": {},
     "output_type": "execute_result"
    }
   ],
   "source": [
    "df_base_mF= df_metrics(dfF)  # metrics for F = Fall\n",
    "df_base_mF\n",
    "df_base_mF['label']= 0\n",
    "df_base_mF"
   ]
  },
  {
   "cell_type": "code",
   "execution_count": 97,
   "metadata": {},
   "outputs": [
    {
     "data": {
      "text/html": [
       "<div>\n",
       "<style scoped>\n",
       "    .dataframe tbody tr th:only-of-type {\n",
       "        vertical-align: middle;\n",
       "    }\n",
       "\n",
       "    .dataframe tbody tr th {\n",
       "        vertical-align: top;\n",
       "    }\n",
       "\n",
       "    .dataframe thead th {\n",
       "        text-align: right;\n",
       "    }\n",
       "</style>\n",
       "<table border=\"1\" class=\"dataframe\">\n",
       "  <thead>\n",
       "    <tr style=\"text-align: right;\">\n",
       "      <th></th>\n",
       "      <th>total</th>\n",
       "      <th>average</th>\n",
       "      <th>max_kwh</th>\n",
       "      <th>top5</th>\n",
       "      <th>top_decile</th>\n",
       "      <th>median</th>\n",
       "      <th>top5_vs_median</th>\n",
       "      <th>label</th>\n",
       "    </tr>\n",
       "  </thead>\n",
       "  <tbody>\n",
       "    <tr>\n",
       "      <th>0</th>\n",
       "      <td>2396.092</td>\n",
       "      <td>1.097112</td>\n",
       "      <td>6.21</td>\n",
       "      <td>2.6200</td>\n",
       "      <td>1.8600</td>\n",
       "      <td>0.900</td>\n",
       "      <td>2.911111</td>\n",
       "      <td>0</td>\n",
       "    </tr>\n",
       "    <tr>\n",
       "      <th>1</th>\n",
       "      <td>2213.422</td>\n",
       "      <td>1.062613</td>\n",
       "      <td>4.80</td>\n",
       "      <td>2.4932</td>\n",
       "      <td>1.7900</td>\n",
       "      <td>0.900</td>\n",
       "      <td>2.770222</td>\n",
       "      <td>0</td>\n",
       "    </tr>\n",
       "    <tr>\n",
       "      <th>2</th>\n",
       "      <td>2500.080</td>\n",
       "      <td>1.159054</td>\n",
       "      <td>5.25</td>\n",
       "      <td>2.5600</td>\n",
       "      <td>1.9200</td>\n",
       "      <td>0.960</td>\n",
       "      <td>2.666667</td>\n",
       "      <td>0</td>\n",
       "    </tr>\n",
       "    <tr>\n",
       "      <th>3</th>\n",
       "      <td>2304.632</td>\n",
       "      <td>1.068443</td>\n",
       "      <td>5.70</td>\n",
       "      <td>2.5000</td>\n",
       "      <td>1.8600</td>\n",
       "      <td>0.900</td>\n",
       "      <td>2.777778</td>\n",
       "      <td>0</td>\n",
       "    </tr>\n",
       "    <tr>\n",
       "      <th>4</th>\n",
       "      <td>2548.592</td>\n",
       "      <td>1.166938</td>\n",
       "      <td>5.25</td>\n",
       "      <td>2.5600</td>\n",
       "      <td>1.9620</td>\n",
       "      <td>1.020</td>\n",
       "      <td>2.509804</td>\n",
       "      <td>0</td>\n",
       "    </tr>\n",
       "    <tr>\n",
       "      <th>5</th>\n",
       "      <td>2280.792</td>\n",
       "      <td>1.044319</td>\n",
       "      <td>5.50</td>\n",
       "      <td>2.3700</td>\n",
       "      <td>1.7300</td>\n",
       "      <td>0.832</td>\n",
       "      <td>2.848558</td>\n",
       "      <td>0</td>\n",
       "    </tr>\n",
       "    <tr>\n",
       "      <th>6</th>\n",
       "      <td>2239.258</td>\n",
       "      <td>1.067330</td>\n",
       "      <td>5.25</td>\n",
       "      <td>2.5090</td>\n",
       "      <td>1.8600</td>\n",
       "      <td>0.830</td>\n",
       "      <td>3.022892</td>\n",
       "      <td>0</td>\n",
       "    </tr>\n",
       "    <tr>\n",
       "      <th>7</th>\n",
       "      <td>2270.102</td>\n",
       "      <td>1.052435</td>\n",
       "      <td>6.78</td>\n",
       "      <td>2.5600</td>\n",
       "      <td>1.8600</td>\n",
       "      <td>0.830</td>\n",
       "      <td>3.084337</td>\n",
       "      <td>0</td>\n",
       "    </tr>\n",
       "    <tr>\n",
       "      <th>8</th>\n",
       "      <td>2165.450</td>\n",
       "      <td>1.032150</td>\n",
       "      <td>5.31</td>\n",
       "      <td>2.6200</td>\n",
       "      <td>1.7900</td>\n",
       "      <td>0.770</td>\n",
       "      <td>3.402597</td>\n",
       "      <td>0</td>\n",
       "    </tr>\n",
       "    <tr>\n",
       "      <th>9</th>\n",
       "      <td>2368.142</td>\n",
       "      <td>1.084314</td>\n",
       "      <td>5.25</td>\n",
       "      <td>2.5600</td>\n",
       "      <td>1.9200</td>\n",
       "      <td>0.900</td>\n",
       "      <td>2.844444</td>\n",
       "      <td>0</td>\n",
       "    </tr>\n",
       "    <tr>\n",
       "      <th>10</th>\n",
       "      <td>2427.056</td>\n",
       "      <td>1.111289</td>\n",
       "      <td>5.50</td>\n",
       "      <td>2.6200</td>\n",
       "      <td>1.9200</td>\n",
       "      <td>0.900</td>\n",
       "      <td>2.911111</td>\n",
       "      <td>0</td>\n",
       "    </tr>\n",
       "    <tr>\n",
       "      <th>11</th>\n",
       "      <td>2248.508</td>\n",
       "      <td>1.085711</td>\n",
       "      <td>6.59</td>\n",
       "      <td>2.6200</td>\n",
       "      <td>1.8600</td>\n",
       "      <td>0.900</td>\n",
       "      <td>2.911111</td>\n",
       "      <td>0</td>\n",
       "    </tr>\n",
       "    <tr>\n",
       "      <th>12</th>\n",
       "      <td>2410.150</td>\n",
       "      <td>1.103549</td>\n",
       "      <td>5.38</td>\n",
       "      <td>2.5600</td>\n",
       "      <td>1.9200</td>\n",
       "      <td>0.900</td>\n",
       "      <td>2.844444</td>\n",
       "      <td>0</td>\n",
       "    </tr>\n",
       "    <tr>\n",
       "      <th>13</th>\n",
       "      <td>2144.582</td>\n",
       "      <td>1.073902</td>\n",
       "      <td>5.31</td>\n",
       "      <td>2.6884</td>\n",
       "      <td>1.9200</td>\n",
       "      <td>0.830</td>\n",
       "      <td>3.239036</td>\n",
       "      <td>0</td>\n",
       "    </tr>\n",
       "    <tr>\n",
       "      <th>14</th>\n",
       "      <td>2400.212</td>\n",
       "      <td>1.152286</td>\n",
       "      <td>6.34</td>\n",
       "      <td>2.5600</td>\n",
       "      <td>1.9200</td>\n",
       "      <td>0.960</td>\n",
       "      <td>2.666667</td>\n",
       "      <td>0</td>\n",
       "    </tr>\n",
       "    <tr>\n",
       "      <th>15</th>\n",
       "      <td>2059.436</td>\n",
       "      <td>1.031265</td>\n",
       "      <td>5.31</td>\n",
       "      <td>2.4300</td>\n",
       "      <td>1.7900</td>\n",
       "      <td>0.830</td>\n",
       "      <td>2.927711</td>\n",
       "      <td>0</td>\n",
       "    </tr>\n",
       "    <tr>\n",
       "      <th>16</th>\n",
       "      <td>2591.486</td>\n",
       "      <td>1.186578</td>\n",
       "      <td>6.21</td>\n",
       "      <td>2.5600</td>\n",
       "      <td>1.9800</td>\n",
       "      <td>1.020</td>\n",
       "      <td>2.509804</td>\n",
       "      <td>0</td>\n",
       "    </tr>\n",
       "    <tr>\n",
       "      <th>17</th>\n",
       "      <td>2255.168</td>\n",
       "      <td>1.074913</td>\n",
       "      <td>7.49</td>\n",
       "      <td>2.8800</td>\n",
       "      <td>2.0500</td>\n",
       "      <td>0.770</td>\n",
       "      <td>3.740260</td>\n",
       "      <td>0</td>\n",
       "    </tr>\n",
       "    <tr>\n",
       "      <th>18</th>\n",
       "      <td>2053.342</td>\n",
       "      <td>1.028213</td>\n",
       "      <td>6.34</td>\n",
       "      <td>2.5600</td>\n",
       "      <td>1.7900</td>\n",
       "      <td>0.830</td>\n",
       "      <td>3.084337</td>\n",
       "      <td>0</td>\n",
       "    </tr>\n",
       "    <tr>\n",
       "      <th>19</th>\n",
       "      <td>2555.718</td>\n",
       "      <td>1.184848</td>\n",
       "      <td>7.49</td>\n",
       "      <td>2.8800</td>\n",
       "      <td>2.0500</td>\n",
       "      <td>0.960</td>\n",
       "      <td>3.000000</td>\n",
       "      <td>0</td>\n",
       "    </tr>\n",
       "    <tr>\n",
       "      <th>20</th>\n",
       "      <td>2160.498</td>\n",
       "      <td>0.989239</td>\n",
       "      <td>6.34</td>\n",
       "      <td>2.4300</td>\n",
       "      <td>1.6600</td>\n",
       "      <td>0.770</td>\n",
       "      <td>3.155844</td>\n",
       "      <td>0</td>\n",
       "    </tr>\n",
       "    <tr>\n",
       "      <th>21</th>\n",
       "      <td>2357.094</td>\n",
       "      <td>1.106617</td>\n",
       "      <td>6.78</td>\n",
       "      <td>2.3700</td>\n",
       "      <td>1.8600</td>\n",
       "      <td>0.960</td>\n",
       "      <td>2.468750</td>\n",
       "      <td>0</td>\n",
       "    </tr>\n",
       "    <tr>\n",
       "      <th>22</th>\n",
       "      <td>2294.464</td>\n",
       "      <td>1.050579</td>\n",
       "      <td>6.78</td>\n",
       "      <td>2.4300</td>\n",
       "      <td>1.7900</td>\n",
       "      <td>0.830</td>\n",
       "      <td>2.927711</td>\n",
       "      <td>0</td>\n",
       "    </tr>\n",
       "    <tr>\n",
       "      <th>23</th>\n",
       "      <td>2252.484</td>\n",
       "      <td>1.073634</td>\n",
       "      <td>6.21</td>\n",
       "      <td>2.6200</td>\n",
       "      <td>1.8600</td>\n",
       "      <td>0.830</td>\n",
       "      <td>3.156627</td>\n",
       "      <td>0</td>\n",
       "    </tr>\n",
       "    <tr>\n",
       "      <th>24</th>\n",
       "      <td>2451.464</td>\n",
       "      <td>1.122465</td>\n",
       "      <td>7.49</td>\n",
       "      <td>2.8095</td>\n",
       "      <td>2.0500</td>\n",
       "      <td>0.900</td>\n",
       "      <td>3.121667</td>\n",
       "      <td>0</td>\n",
       "    </tr>\n",
       "    <tr>\n",
       "      <th>25</th>\n",
       "      <td>2349.920</td>\n",
       "      <td>1.075971</td>\n",
       "      <td>5.50</td>\n",
       "      <td>2.8800</td>\n",
       "      <td>1.9200</td>\n",
       "      <td>0.832</td>\n",
       "      <td>3.461538</td>\n",
       "      <td>0</td>\n",
       "    </tr>\n",
       "    <tr>\n",
       "      <th>26</th>\n",
       "      <td>2397.826</td>\n",
       "      <td>1.097906</td>\n",
       "      <td>6.34</td>\n",
       "      <td>2.5600</td>\n",
       "      <td>1.8600</td>\n",
       "      <td>0.900</td>\n",
       "      <td>2.844444</td>\n",
       "      <td>0</td>\n",
       "    </tr>\n",
       "    <tr>\n",
       "      <th>27</th>\n",
       "      <td>2306.328</td>\n",
       "      <td>1.056011</td>\n",
       "      <td>6.59</td>\n",
       "      <td>2.3697</td>\n",
       "      <td>1.7300</td>\n",
       "      <td>0.832</td>\n",
       "      <td>2.848197</td>\n",
       "      <td>0</td>\n",
       "    </tr>\n",
       "    <tr>\n",
       "      <th>28</th>\n",
       "      <td>2391.130</td>\n",
       "      <td>1.094840</td>\n",
       "      <td>5.12</td>\n",
       "      <td>2.3700</td>\n",
       "      <td>1.7300</td>\n",
       "      <td>0.960</td>\n",
       "      <td>2.468750</td>\n",
       "      <td>0</td>\n",
       "    </tr>\n",
       "    <tr>\n",
       "      <th>29</th>\n",
       "      <td>2348.554</td>\n",
       "      <td>1.075345</td>\n",
       "      <td>6.34</td>\n",
       "      <td>2.7500</td>\n",
       "      <td>1.9200</td>\n",
       "      <td>0.830</td>\n",
       "      <td>3.313253</td>\n",
       "      <td>0</td>\n",
       "    </tr>\n",
       "    <tr>\n",
       "      <th>...</th>\n",
       "      <td>...</td>\n",
       "      <td>...</td>\n",
       "      <td>...</td>\n",
       "      <td>...</td>\n",
       "      <td>...</td>\n",
       "      <td>...</td>\n",
       "      <td>...</td>\n",
       "      <td>...</td>\n",
       "    </tr>\n",
       "    <tr>\n",
       "      <th>170</th>\n",
       "      <td>2888.564</td>\n",
       "      <td>1.322603</td>\n",
       "      <td>6.46</td>\n",
       "      <td>3.4600</td>\n",
       "      <td>2.7500</td>\n",
       "      <td>0.830</td>\n",
       "      <td>4.168675</td>\n",
       "      <td>1</td>\n",
       "    </tr>\n",
       "    <tr>\n",
       "      <th>171</th>\n",
       "      <td>2962.528</td>\n",
       "      <td>1.356469</td>\n",
       "      <td>6.27</td>\n",
       "      <td>3.4600</td>\n",
       "      <td>2.6900</td>\n",
       "      <td>0.960</td>\n",
       "      <td>3.604167</td>\n",
       "      <td>1</td>\n",
       "    </tr>\n",
       "    <tr>\n",
       "      <th>172</th>\n",
       "      <td>2794.736</td>\n",
       "      <td>1.279641</td>\n",
       "      <td>7.49</td>\n",
       "      <td>3.3300</td>\n",
       "      <td>2.5600</td>\n",
       "      <td>0.830</td>\n",
       "      <td>4.012048</td>\n",
       "      <td>1</td>\n",
       "    </tr>\n",
       "    <tr>\n",
       "      <th>173</th>\n",
       "      <td>3009.200</td>\n",
       "      <td>1.377839</td>\n",
       "      <td>6.66</td>\n",
       "      <td>3.5710</td>\n",
       "      <td>2.8800</td>\n",
       "      <td>0.960</td>\n",
       "      <td>3.719792</td>\n",
       "      <td>1</td>\n",
       "    </tr>\n",
       "    <tr>\n",
       "      <th>174</th>\n",
       "      <td>3198.268</td>\n",
       "      <td>1.464408</td>\n",
       "      <td>6.66</td>\n",
       "      <td>3.5800</td>\n",
       "      <td>2.8200</td>\n",
       "      <td>1.150</td>\n",
       "      <td>3.113043</td>\n",
       "      <td>1</td>\n",
       "    </tr>\n",
       "    <tr>\n",
       "      <th>175</th>\n",
       "      <td>2966.762</td>\n",
       "      <td>1.358408</td>\n",
       "      <td>6.27</td>\n",
       "      <td>3.5200</td>\n",
       "      <td>2.7500</td>\n",
       "      <td>0.900</td>\n",
       "      <td>3.911111</td>\n",
       "      <td>1</td>\n",
       "    </tr>\n",
       "    <tr>\n",
       "      <th>176</th>\n",
       "      <td>2989.400</td>\n",
       "      <td>1.368773</td>\n",
       "      <td>7.49</td>\n",
       "      <td>3.5800</td>\n",
       "      <td>2.8800</td>\n",
       "      <td>0.900</td>\n",
       "      <td>3.977778</td>\n",
       "      <td>1</td>\n",
       "    </tr>\n",
       "    <tr>\n",
       "      <th>177</th>\n",
       "      <td>2969.962</td>\n",
       "      <td>1.359873</td>\n",
       "      <td>7.49</td>\n",
       "      <td>3.4600</td>\n",
       "      <td>2.6900</td>\n",
       "      <td>0.960</td>\n",
       "      <td>3.604167</td>\n",
       "      <td>1</td>\n",
       "    </tr>\n",
       "    <tr>\n",
       "      <th>178</th>\n",
       "      <td>2962.752</td>\n",
       "      <td>1.356571</td>\n",
       "      <td>6.66</td>\n",
       "      <td>3.3900</td>\n",
       "      <td>2.5600</td>\n",
       "      <td>0.960</td>\n",
       "      <td>3.531250</td>\n",
       "      <td>1</td>\n",
       "    </tr>\n",
       "    <tr>\n",
       "      <th>179</th>\n",
       "      <td>2971.552</td>\n",
       "      <td>1.360601</td>\n",
       "      <td>7.49</td>\n",
       "      <td>3.5200</td>\n",
       "      <td>2.8200</td>\n",
       "      <td>0.960</td>\n",
       "      <td>3.666667</td>\n",
       "      <td>1</td>\n",
       "    </tr>\n",
       "    <tr>\n",
       "      <th>180</th>\n",
       "      <td>3047.990</td>\n",
       "      <td>1.395600</td>\n",
       "      <td>7.49</td>\n",
       "      <td>3.5800</td>\n",
       "      <td>3.0100</td>\n",
       "      <td>0.960</td>\n",
       "      <td>3.729167</td>\n",
       "      <td>1</td>\n",
       "    </tr>\n",
       "    <tr>\n",
       "      <th>181</th>\n",
       "      <td>2870.862</td>\n",
       "      <td>1.314497</td>\n",
       "      <td>6.08</td>\n",
       "      <td>3.2600</td>\n",
       "      <td>2.4300</td>\n",
       "      <td>0.960</td>\n",
       "      <td>3.395833</td>\n",
       "      <td>1</td>\n",
       "    </tr>\n",
       "    <tr>\n",
       "      <th>182</th>\n",
       "      <td>2970.316</td>\n",
       "      <td>1.360035</td>\n",
       "      <td>7.49</td>\n",
       "      <td>3.4461</td>\n",
       "      <td>2.6900</td>\n",
       "      <td>0.960</td>\n",
       "      <td>3.589687</td>\n",
       "      <td>1</td>\n",
       "    </tr>\n",
       "    <tr>\n",
       "      <th>183</th>\n",
       "      <td>3084.700</td>\n",
       "      <td>1.412408</td>\n",
       "      <td>6.46</td>\n",
       "      <td>3.5800</td>\n",
       "      <td>2.8200</td>\n",
       "      <td>1.090</td>\n",
       "      <td>3.284404</td>\n",
       "      <td>1</td>\n",
       "    </tr>\n",
       "    <tr>\n",
       "      <th>184</th>\n",
       "      <td>2849.078</td>\n",
       "      <td>1.304523</td>\n",
       "      <td>7.49</td>\n",
       "      <td>3.4600</td>\n",
       "      <td>2.6900</td>\n",
       "      <td>0.830</td>\n",
       "      <td>4.168675</td>\n",
       "      <td>1</td>\n",
       "    </tr>\n",
       "    <tr>\n",
       "      <th>185</th>\n",
       "      <td>3023.462</td>\n",
       "      <td>1.384369</td>\n",
       "      <td>6.66</td>\n",
       "      <td>3.5110</td>\n",
       "      <td>2.7320</td>\n",
       "      <td>0.960</td>\n",
       "      <td>3.657292</td>\n",
       "      <td>1</td>\n",
       "    </tr>\n",
       "    <tr>\n",
       "      <th>186</th>\n",
       "      <td>2991.580</td>\n",
       "      <td>1.369771</td>\n",
       "      <td>7.49</td>\n",
       "      <td>3.5710</td>\n",
       "      <td>2.8800</td>\n",
       "      <td>0.960</td>\n",
       "      <td>3.719792</td>\n",
       "      <td>1</td>\n",
       "    </tr>\n",
       "    <tr>\n",
       "      <th>187</th>\n",
       "      <td>2953.572</td>\n",
       "      <td>1.352368</td>\n",
       "      <td>6.27</td>\n",
       "      <td>3.4600</td>\n",
       "      <td>2.7500</td>\n",
       "      <td>0.960</td>\n",
       "      <td>3.604167</td>\n",
       "      <td>1</td>\n",
       "    </tr>\n",
       "    <tr>\n",
       "      <th>188</th>\n",
       "      <td>2917.586</td>\n",
       "      <td>1.335891</td>\n",
       "      <td>6.66</td>\n",
       "      <td>3.4600</td>\n",
       "      <td>2.6894</td>\n",
       "      <td>0.900</td>\n",
       "      <td>3.844444</td>\n",
       "      <td>1</td>\n",
       "    </tr>\n",
       "    <tr>\n",
       "      <th>189</th>\n",
       "      <td>3033.350</td>\n",
       "      <td>1.388897</td>\n",
       "      <td>7.49</td>\n",
       "      <td>3.3300</td>\n",
       "      <td>2.5600</td>\n",
       "      <td>1.090</td>\n",
       "      <td>3.055046</td>\n",
       "      <td>1</td>\n",
       "    </tr>\n",
       "    <tr>\n",
       "      <th>190</th>\n",
       "      <td>2910.802</td>\n",
       "      <td>1.332785</td>\n",
       "      <td>6.66</td>\n",
       "      <td>3.3300</td>\n",
       "      <td>2.5000</td>\n",
       "      <td>0.960</td>\n",
       "      <td>3.468750</td>\n",
       "      <td>1</td>\n",
       "    </tr>\n",
       "    <tr>\n",
       "      <th>191</th>\n",
       "      <td>2769.240</td>\n",
       "      <td>1.267967</td>\n",
       "      <td>6.27</td>\n",
       "      <td>3.3195</td>\n",
       "      <td>2.5600</td>\n",
       "      <td>0.830</td>\n",
       "      <td>3.999398</td>\n",
       "      <td>1</td>\n",
       "    </tr>\n",
       "    <tr>\n",
       "      <th>192</th>\n",
       "      <td>2774.270</td>\n",
       "      <td>1.270270</td>\n",
       "      <td>6.02</td>\n",
       "      <td>3.4600</td>\n",
       "      <td>2.6200</td>\n",
       "      <td>0.770</td>\n",
       "      <td>4.493506</td>\n",
       "      <td>1</td>\n",
       "    </tr>\n",
       "    <tr>\n",
       "      <th>193</th>\n",
       "      <td>3030.296</td>\n",
       "      <td>1.387498</td>\n",
       "      <td>7.49</td>\n",
       "      <td>3.5200</td>\n",
       "      <td>2.8200</td>\n",
       "      <td>0.960</td>\n",
       "      <td>3.666667</td>\n",
       "      <td>1</td>\n",
       "    </tr>\n",
       "    <tr>\n",
       "      <th>194</th>\n",
       "      <td>3014.718</td>\n",
       "      <td>1.380365</td>\n",
       "      <td>7.49</td>\n",
       "      <td>3.5800</td>\n",
       "      <td>2.9400</td>\n",
       "      <td>1.020</td>\n",
       "      <td>3.509804</td>\n",
       "      <td>1</td>\n",
       "    </tr>\n",
       "    <tr>\n",
       "      <th>195</th>\n",
       "      <td>3049.192</td>\n",
       "      <td>1.396150</td>\n",
       "      <td>7.49</td>\n",
       "      <td>3.5800</td>\n",
       "      <td>2.7500</td>\n",
       "      <td>0.960</td>\n",
       "      <td>3.729167</td>\n",
       "      <td>1</td>\n",
       "    </tr>\n",
       "    <tr>\n",
       "      <th>196</th>\n",
       "      <td>3119.014</td>\n",
       "      <td>1.428120</td>\n",
       "      <td>7.49</td>\n",
       "      <td>3.5800</td>\n",
       "      <td>2.9400</td>\n",
       "      <td>1.090</td>\n",
       "      <td>3.284404</td>\n",
       "      <td>1</td>\n",
       "    </tr>\n",
       "    <tr>\n",
       "      <th>197</th>\n",
       "      <td>3010.414</td>\n",
       "      <td>1.378395</td>\n",
       "      <td>6.66</td>\n",
       "      <td>3.3300</td>\n",
       "      <td>2.5000</td>\n",
       "      <td>1.020</td>\n",
       "      <td>3.264706</td>\n",
       "      <td>1</td>\n",
       "    </tr>\n",
       "    <tr>\n",
       "      <th>198</th>\n",
       "      <td>3012.518</td>\n",
       "      <td>1.379358</td>\n",
       "      <td>7.49</td>\n",
       "      <td>3.4600</td>\n",
       "      <td>2.6900</td>\n",
       "      <td>0.960</td>\n",
       "      <td>3.604167</td>\n",
       "      <td>1</td>\n",
       "    </tr>\n",
       "    <tr>\n",
       "      <th>199</th>\n",
       "      <td>3070.144</td>\n",
       "      <td>1.405744</td>\n",
       "      <td>7.49</td>\n",
       "      <td>3.5200</td>\n",
       "      <td>2.7500</td>\n",
       "      <td>1.020</td>\n",
       "      <td>3.450980</td>\n",
       "      <td>1</td>\n",
       "    </tr>\n",
       "  </tbody>\n",
       "</table>\n",
       "<p>200 rows × 8 columns</p>\n",
       "</div>"
      ],
      "text/plain": [
       "        total   average  max_kwh    top5  top_decile  median  top5_vs_median  \\\n",
       "0    2396.092  1.097112     6.21  2.6200      1.8600   0.900        2.911111   \n",
       "1    2213.422  1.062613     4.80  2.4932      1.7900   0.900        2.770222   \n",
       "2    2500.080  1.159054     5.25  2.5600      1.9200   0.960        2.666667   \n",
       "3    2304.632  1.068443     5.70  2.5000      1.8600   0.900        2.777778   \n",
       "4    2548.592  1.166938     5.25  2.5600      1.9620   1.020        2.509804   \n",
       "5    2280.792  1.044319     5.50  2.3700      1.7300   0.832        2.848558   \n",
       "6    2239.258  1.067330     5.25  2.5090      1.8600   0.830        3.022892   \n",
       "7    2270.102  1.052435     6.78  2.5600      1.8600   0.830        3.084337   \n",
       "8    2165.450  1.032150     5.31  2.6200      1.7900   0.770        3.402597   \n",
       "9    2368.142  1.084314     5.25  2.5600      1.9200   0.900        2.844444   \n",
       "10   2427.056  1.111289     5.50  2.6200      1.9200   0.900        2.911111   \n",
       "11   2248.508  1.085711     6.59  2.6200      1.8600   0.900        2.911111   \n",
       "12   2410.150  1.103549     5.38  2.5600      1.9200   0.900        2.844444   \n",
       "13   2144.582  1.073902     5.31  2.6884      1.9200   0.830        3.239036   \n",
       "14   2400.212  1.152286     6.34  2.5600      1.9200   0.960        2.666667   \n",
       "15   2059.436  1.031265     5.31  2.4300      1.7900   0.830        2.927711   \n",
       "16   2591.486  1.186578     6.21  2.5600      1.9800   1.020        2.509804   \n",
       "17   2255.168  1.074913     7.49  2.8800      2.0500   0.770        3.740260   \n",
       "18   2053.342  1.028213     6.34  2.5600      1.7900   0.830        3.084337   \n",
       "19   2555.718  1.184848     7.49  2.8800      2.0500   0.960        3.000000   \n",
       "20   2160.498  0.989239     6.34  2.4300      1.6600   0.770        3.155844   \n",
       "21   2357.094  1.106617     6.78  2.3700      1.8600   0.960        2.468750   \n",
       "22   2294.464  1.050579     6.78  2.4300      1.7900   0.830        2.927711   \n",
       "23   2252.484  1.073634     6.21  2.6200      1.8600   0.830        3.156627   \n",
       "24   2451.464  1.122465     7.49  2.8095      2.0500   0.900        3.121667   \n",
       "25   2349.920  1.075971     5.50  2.8800      1.9200   0.832        3.461538   \n",
       "26   2397.826  1.097906     6.34  2.5600      1.8600   0.900        2.844444   \n",
       "27   2306.328  1.056011     6.59  2.3697      1.7300   0.832        2.848197   \n",
       "28   2391.130  1.094840     5.12  2.3700      1.7300   0.960        2.468750   \n",
       "29   2348.554  1.075345     6.34  2.7500      1.9200   0.830        3.313253   \n",
       "..        ...       ...      ...     ...         ...     ...             ...   \n",
       "170  2888.564  1.322603     6.46  3.4600      2.7500   0.830        4.168675   \n",
       "171  2962.528  1.356469     6.27  3.4600      2.6900   0.960        3.604167   \n",
       "172  2794.736  1.279641     7.49  3.3300      2.5600   0.830        4.012048   \n",
       "173  3009.200  1.377839     6.66  3.5710      2.8800   0.960        3.719792   \n",
       "174  3198.268  1.464408     6.66  3.5800      2.8200   1.150        3.113043   \n",
       "175  2966.762  1.358408     6.27  3.5200      2.7500   0.900        3.911111   \n",
       "176  2989.400  1.368773     7.49  3.5800      2.8800   0.900        3.977778   \n",
       "177  2969.962  1.359873     7.49  3.4600      2.6900   0.960        3.604167   \n",
       "178  2962.752  1.356571     6.66  3.3900      2.5600   0.960        3.531250   \n",
       "179  2971.552  1.360601     7.49  3.5200      2.8200   0.960        3.666667   \n",
       "180  3047.990  1.395600     7.49  3.5800      3.0100   0.960        3.729167   \n",
       "181  2870.862  1.314497     6.08  3.2600      2.4300   0.960        3.395833   \n",
       "182  2970.316  1.360035     7.49  3.4461      2.6900   0.960        3.589687   \n",
       "183  3084.700  1.412408     6.46  3.5800      2.8200   1.090        3.284404   \n",
       "184  2849.078  1.304523     7.49  3.4600      2.6900   0.830        4.168675   \n",
       "185  3023.462  1.384369     6.66  3.5110      2.7320   0.960        3.657292   \n",
       "186  2991.580  1.369771     7.49  3.5710      2.8800   0.960        3.719792   \n",
       "187  2953.572  1.352368     6.27  3.4600      2.7500   0.960        3.604167   \n",
       "188  2917.586  1.335891     6.66  3.4600      2.6894   0.900        3.844444   \n",
       "189  3033.350  1.388897     7.49  3.3300      2.5600   1.090        3.055046   \n",
       "190  2910.802  1.332785     6.66  3.3300      2.5000   0.960        3.468750   \n",
       "191  2769.240  1.267967     6.27  3.3195      2.5600   0.830        3.999398   \n",
       "192  2774.270  1.270270     6.02  3.4600      2.6200   0.770        4.493506   \n",
       "193  3030.296  1.387498     7.49  3.5200      2.8200   0.960        3.666667   \n",
       "194  3014.718  1.380365     7.49  3.5800      2.9400   1.020        3.509804   \n",
       "195  3049.192  1.396150     7.49  3.5800      2.7500   0.960        3.729167   \n",
       "196  3119.014  1.428120     7.49  3.5800      2.9400   1.090        3.284404   \n",
       "197  3010.414  1.378395     6.66  3.3300      2.5000   1.020        3.264706   \n",
       "198  3012.518  1.379358     7.49  3.4600      2.6900   0.960        3.604167   \n",
       "199  3070.144  1.405744     7.49  3.5200      2.7500   1.020        3.450980   \n",
       "\n",
       "     label  \n",
       "0        0  \n",
       "1        0  \n",
       "2        0  \n",
       "3        0  \n",
       "4        0  \n",
       "5        0  \n",
       "6        0  \n",
       "7        0  \n",
       "8        0  \n",
       "9        0  \n",
       "10       0  \n",
       "11       0  \n",
       "12       0  \n",
       "13       0  \n",
       "14       0  \n",
       "15       0  \n",
       "16       0  \n",
       "17       0  \n",
       "18       0  \n",
       "19       0  \n",
       "20       0  \n",
       "21       0  \n",
       "22       0  \n",
       "23       0  \n",
       "24       0  \n",
       "25       0  \n",
       "26       0  \n",
       "27       0  \n",
       "28       0  \n",
       "29       0  \n",
       "..     ...  \n",
       "170      1  \n",
       "171      1  \n",
       "172      1  \n",
       "173      1  \n",
       "174      1  \n",
       "175      1  \n",
       "176      1  \n",
       "177      1  \n",
       "178      1  \n",
       "179      1  \n",
       "180      1  \n",
       "181      1  \n",
       "182      1  \n",
       "183      1  \n",
       "184      1  \n",
       "185      1  \n",
       "186      1  \n",
       "187      1  \n",
       "188      1  \n",
       "189      1  \n",
       "190      1  \n",
       "191      1  \n",
       "192      1  \n",
       "193      1  \n",
       "194      1  \n",
       "195      1  \n",
       "196      1  \n",
       "197      1  \n",
       "198      1  \n",
       "199      1  \n",
       "\n",
       "[200 rows x 8 columns]"
      ]
     },
     "execution_count": 97,
     "metadata": {},
     "output_type": "execute_result"
    }
   ],
   "source": [
    "df_BF_PHEV = pd.concat([df_base_mF, df_mPHEV],ignore_index= True)  # BF is Base Fall\n",
    "df_BF_PHEV"
   ]
  },
  {
   "cell_type": "code",
   "execution_count": 98,
   "metadata": {},
   "outputs": [],
   "source": [
    "feature_cols = ['total','average','max_kwh','top5','top_decile','median','top5_vs_median']\n",
    "\n",
    "Xphev_F = df_BF_PHEV[feature_cols] # Features\n",
    "yphev_F = df_BF_PHEV.label         # Target variable "
   ]
  },
  {
   "cell_type": "code",
   "execution_count": 99,
   "metadata": {},
   "outputs": [],
   "source": [
    "Xp_train_F, Xp_test_F, yp_train_F, yp_test_F = train_test_split(Xphev_F, yphev_F, test_size=0.4, random_state=1) # 70% training and 30% test"
   ]
  },
  {
   "cell_type": "code",
   "execution_count": 100,
   "metadata": {},
   "outputs": [],
   "source": [
    "#clf = clf.fit(X,y)          # Train Decision Tree Classifer just for test set for now\n",
    "# y_pred = clf.predict(X)\n",
    "dtree_T = DecisionTreeClassifier(max_depth= 4)          # Create Decision Tree classifer object\n",
    "dtree_T = dtree_T.fit(X_train,y_train)          # Train Decision Tree Classifer\n",
    "y_pred = dtree_T.predict(X_test)    "
   ]
  },
  {
   "cell_type": "code",
   "execution_count": 101,
   "metadata": {},
   "outputs": [],
   "source": [
    "dtree_P_F = DecisionTreeClassifier()   \n",
    "dtree_P_F = dtree_P_F.fit(Xp_train_F,yp_train_F)          # Train Decision Tree Classifer\n",
    "yp_pred_P_F = dtree_P_F.predict(Xp_test_F)            # Predict the response for test dataset"
   ]
  },
  {
   "cell_type": "code",
   "execution_count": 102,
   "metadata": {},
   "outputs": [
    {
     "name": "stdout",
     "output_type": "stream",
     "text": [
      "PHEV Accuracy: 1.0\n"
     ]
    }
   ],
   "source": [
    "# Model Accuracy, how often is the classifier correct for PHEV vs Baseline Fall?\n",
    "# For PHEV vs Summer, misclassification occurred because levels are high in the Summer, as for PHEV's\n",
    "# But vs. the Fall, the higher values of PHEV show up more,\n",
    "print(\"PHEV Accuracy:\",metrics.accuracy_score(yp_test_F, yp_pred_P_F))"
   ]
  },
  {
   "cell_type": "code",
   "execution_count": 103,
   "metadata": {},
   "outputs": [
    {
     "data": {
      "image/png": "[encoded data removed]",
      "text/plain": [
       "<IPython.core.display.Image object>"
      ]
     },
     "execution_count": 103,
     "metadata": {},
     "output_type": "execute_result"
    }
   ],
   "source": [
    "# Now Plot Tree to see if many levels!! (reduce to five levels, for example?)\n",
    "from sklearn import tree\n",
    "from IPython.display import Image\n",
    "import pydotplus\n",
    "dt = tree.DecisionTreeClassifier(random_state=3, criterion='entropy',\n",
    "splitter='best', max_depth=None, min_samples_split=2)\n",
    " \n",
    "clfPF = dt.fit(Xp_train_F,yp_train_F)\n",
    "\n",
    "# Create DOT data\n",
    "dot_data = tree.export_graphviz(clfPF, out_file= \"resume.dot\", \n",
    "                                feature_names= ['total','average','max_kwh','top5','top_decile','median','top5_vs_median'],  \n",
    "                                class_names= 'label')\n",
    "\n",
    "graph= pydotplus.graphviz.graph_from_dot_file(\"resume.dot\") \n",
    "Image(graph.create_png())\n",
    "# where label/Class =1 is for PHEV  \n",
    "# NB THIS TREE HAS JUST one LEVEL\n",
    "# if top_decile < 2.175 TRUE then Class=1 = PHEV !? THIS SEEMS BACKWARDS!!! CHECK DATA !!\n",
    "# DATA is correct but graph seems misleading !!!\n",
    "# top_decile > 2.175 for all 100 PHEV and < 2.175 for all 100 Fall observations\n",
    "# NB Why 120 samples: this is  Train only !!"
   ]
  },
  {
   "cell_type": "code",
   "execution_count": null,
   "metadata": {},
   "outputs": [],
   "source": [
    "# DWW Interpretation: 'top-decile' of 24 hours day is 2.4 hours, usually charging several hours at \"Level 1\" rate.\n"
   ]
  },
  {
   "cell_type": "code",
   "execution_count": null,
   "metadata": {},
   "outputs": [],
   "source": []
  },
  {
   "cell_type": "code",
   "execution_count": null,
   "metadata": {},
   "outputs": [],
   "source": []
  },
  {
   "cell_type": "code",
   "execution_count": null,
   "metadata": {},
   "outputs": [],
   "source": []
  },
  {
   "cell_type": "code",
   "execution_count": null,
   "metadata": {},
   "outputs": [],
   "source": []
  },
  {
   "cell_type": "code",
   "execution_count": null,
   "metadata": {},
   "outputs": [],
   "source": []
  },
  {
   "cell_type": "code",
   "execution_count": null,
   "metadata": {},
   "outputs": [],
   "source": []
  },
  {
   "cell_type": "code",
   "execution_count": null,
   "metadata": {},
   "outputs": [],
   "source": [
    "Use the height and width to calculate the area\n",
    "def calculate_area(row):\n",
    "return row['height'] * row['width']\n",
    "Use .apply to save the new column if we'd like\n",
    "rectangles_df['area'] = rectangles_df.apply(calculate_area, axis=1)\n",
    "rectangles_df"
   ]
  },
  {
   "cell_type": "markdown",
   "metadata": {},
   "source": [
    "Use the height and width to calculate the area\n",
    "def calculate_area(row):\n",
    "return row['height'] * row['width']\n",
    "Use .apply to save the new column if we'd like\n",
    "rectangles_df['area'] = rectangles_df.apply(calculate_area, axis=1)\n",
    "rectangles_df"
   ]
  },
  {
   "cell_type": "markdown",
   "metadata": {},
   "source": [
    "# II. EXPLORATORY DATA ANALYSIS"
   ]
  },
  {
   "cell_type": "code",
   "execution_count": null,
   "metadata": {},
   "outputs": [],
   "source": [
    "import matplotlib.pyplot as plt\n",
    "weekly= dft.kwh.resample('W').sum()\n",
    "monthly= 0.25 * dft.kwh.resample('M').sum()\n",
    "plt.plot(weekly)\n",
    "plt.plot(monthly)\n",
    "plt.title('Weekly & Monthly Household Power Consumption in kwh')\n",
    "plt.ylabel('kwh')\n",
    "plt.show()        #"
   ]
  },
  {
   "cell_type": "markdown",
   "metadata": {},
   "source": [
    "What is surprising about the above time series is that despite the family's addition of two energy-intensive children (including due to more laundry and cooking), and a small EV in 2018, replaced by a large EV in 2019, the highest weekly peaks occured not in the last year, but rather in 2012 and 2013. \n",
    "This could be weather related as hot summers and cold winters can materially increase the load.\n",
    "Also the hourly peaks are most relevant, not the weekly totals and this matter needs to be investigated quite separately."
   ]
  },
  {
   "cell_type": "code",
   "execution_count": null,
   "metadata": {},
   "outputs": [],
   "source": [
    "plt.hist(dft.kwh, bins=30, density= True)\n",
    "plt.title('Histogram of Hourly Power Consumption: August 2012 to Present')\n",
    "plt.xlabel('Hourly Power Consumption in kwh')\n",
    "plt.axvline(dft.kwh.mean(), color='k', linestyle='dashed', linewidth=2)\n",
    "plt.axvline(3.15, color='r', linestyle='dashed', linewidth=3)\n",
    "plt.show()"
   ]
  },
  {
   "cell_type": "code",
   "execution_count": null,
   "metadata": {},
   "outputs": [],
   "source": [
    "# A Python Dictionary of a selection of Load Factors and the respective number of age-equivalent years is provided here:\n",
    "# age_acceleration_factors= {0.64:1, 0.70:2.65, 0.75:5.65, 0.80:11.67, 0.85:23.3, 0.90:38.9, 0.95:70.0}"
   ]
  },
  {
   "cell_type": "code",
   "execution_count": null,
   "metadata": {},
   "outputs": [],
   "source": [
    "import seaborn as sns\n",
    "# plt.figure() explore with shift-tab-tab with cursor positioned within parentheses\n",
    "plt.figure(figsize= (15,10))    # this now fills the page so detail can be seen!!\n",
    "sns.boxplot(x= dft.hour,y=dft.kwh)\n",
    "plt.axhline(3.15, color='r', linestyle='dashed', linewidth=2)\n",
    "plt.title('Boxplot of Hourly kwh Consumption by the Hour of the Day: August 2012 to Present')\n",
    "plt.show()"
   ]
  },
  {
   "cell_type": "code",
   "execution_count": null,
   "metadata": {},
   "outputs": [],
   "source": [
    "# seaborn.boxplot(x=None, y=None, hue=None, data=None, order=None, hue_order=None, orient=None, color=None, \n",
    "#                palette=None, saturation=0.75, width=0.8, dodge=True, fliersize=5, linewidth=None, whis=1.5, notch=False, ax=None, **kwargs)¶"
   ]
  },
  {
   "cell_type": "code",
   "execution_count": null,
   "metadata": {},
   "outputs": [],
   "source": []
  },
  {
   "cell_type": "code",
   "execution_count": null,
   "metadata": {},
   "outputs": [],
   "source": [
    "plt.figure(figsize= (15,10)) # Have to record this before the boxplot is called, it seems!\n",
    "sns.boxplot(dft.month, dft.kwh)\n",
    "plt.axhline(3.15, color='r', linestyle='dashed', linewidth=2)\n",
    "plt.title('Boxplot of Hourly Power Consumption by Month')\n",
    "\n",
    "# NB the reason Months 2 & 3 have so many outliers at they include  half a month each of Tesla charging at 10 kwh\n",
    "# Note also the interquartile ranges are exceeded in the months of June, July,and August: so 6 hours/day > 3.15 kwh\n",
    "# March, April, May have the lowest loads die to the mild Spring temperatures (same for October in the Fall)"
   ]
  },
  {
   "cell_type": "code",
   "execution_count": null,
   "metadata": {},
   "outputs": [],
   "source": [
    "plt.figure(figsize= (15,10)) \n",
    "sns.boxplot(dft.year, dft.kwh)\n",
    "plt.axhline(3.15, color='r', linestyle='dashed', linewidth=2)\n",
    "plt.title('Boxplot of Hourly Power Consumption by Year')\n",
    "# The median consumption in the years 2012 & 2013 is NOT higher than 2014, so perhaps the high weekly \n",
    "# consumption level peaks in those years (see above) was due to weather conditions (eg a hot summer and a high A/C load)."
   ]
  },
  {
   "cell_type": "markdown",
   "metadata": {},
   "source": [
    "# But in fact the years 2018 & 2019 are different\n",
    "In these two years the upper quartile exceeds the 3.15 threshold, so it appears that a quarter of the time the threshold level for accelerating the ageing of the transformer is exceeded. However, this is only on an AVERAGE basis, and so is perhaps unduly conservative as the other [four] households served may have lower power consumption in that hour. Also in 2019 they have not yet acquired EV's."
   ]
  },
  {
   "cell_type": "code",
   "execution_count": null,
   "metadata": {},
   "outputs": [],
   "source": [
    "df_12= dft[dft.year== 2012]\n",
    "df_12.head(3)"
   ]
  },
  {
   "cell_type": "code",
   "execution_count": null,
   "metadata": {},
   "outputs": [],
   "source": [
    "plt.figure(figsize= (15,10)) \n",
    "# plt.axhline(3.15, color='r', linestyle='dashed', linewidth=2)\n",
    "plt.plot(df_12.kwh)\n",
    "plt.show()"
   ]
  },
  {
   "cell_type": "code",
   "execution_count": null,
   "metadata": {},
   "outputs": [],
   "source": [
    "plt.figure(figsize= (15,10)) \n",
    "plt.axvline(3.15, color='r', linestyle='dashed', linewidth=2)\n",
    "plt.hist(df_12.kwh, bins=20, density= False) # This shows frequencies so we can surmise > 100 hours exceeded threshold"
   ]
  },
  {
   "cell_type": "code",
   "execution_count": null,
   "metadata": {},
   "outputs": [],
   "source": [
    "plt.figure(figsize= (15,10)) \n",
    "plt.axhline(3.15, color='r', linestyle='dashed', linewidth=2)\n",
    "sns.boxplot(x= df_12.hour,y=df_12.kwh)\n",
    "# Importantly this shows that from 1pm through 9pm (so nine hours) the interquartile range exceeds the 3.15 threshold\n",
    "# So if household consumption is correlated (eg due to common very cold and hot temperatures), then premature ageing\n",
    "# is possible (although these loads are linear) "
   ]
  },
  {
   "cell_type": "code",
   "execution_count": null,
   "metadata": {},
   "outputs": [],
   "source": [
    "monthly= df_12.kwh.resample('W').sum()"
   ]
  },
  {
   "cell_type": "code",
   "execution_count": null,
   "metadata": {},
   "outputs": [],
   "source": [
    "plt.figure(figsize= (15,10)) \n",
    "plt.title('Histogram of Aggregate Monthly Power Consumption: 2012')\n",
    "plt.ylabel('Power Consumption in kwh')\n",
    "monthly.plot()"
   ]
  },
  {
   "cell_type": "markdown",
   "metadata": {},
   "source": [
    "# A Small EV and a Level 1 \"Trickle Charger\" were Acquired in July, 2018¶\n",
    "In the chart below, after July we see relatively little \"white space\" below the red horizontal line, suggesting that the trickle charger was active throughout much of the night.\n",
    "We used to see daly minimums (during the night) of below 1 kwh, but after July the minimums commonly exceeded 1.75 kwh"
   ]
  },
  {
   "cell_type": "code",
   "execution_count": null,
   "metadata": {},
   "outputs": [],
   "source": [
    "df_18= dft[dft.year== 2018]\n",
    "plt.figure(figsize= (15,10)) \n",
    "df_18.kwh.plot()\n",
    "plt.axhline(3.15, color='r', linestyle='dashed', linewidth=2)\n",
    "plt.axhline(5.5, color='g', linestyle='dashed', linewidth=3)\n",
    "\n",
    "plt.title(\"Hourly kwh Consumption in 2018: Level 1 Charger acquired in July\")\n",
    "plt.ylabel(\"kwh\")\n",
    "# plt.axvline(2018-07-01 00:00:00, color='y', linestyle='dashed', linewidth=5)# problem w datetime specification\n",
    "# # plt.axvline(2018-07-01 , color='g', linestyle='dashed', linewidth=3)\n",
    "plt.show()"
   ]
  },
  {
   "cell_type": "code",
   "execution_count": null,
   "metadata": {},
   "outputs": [],
   "source": [
    "lows=  (df_18.kwh < 1.75)\n",
    "sum(lows) # Hmmm this is > 75% of the hours so the chart is quite misleading being dominated by the ink for spikes."
   ]
  },
  {
   "cell_type": "code",
   "execution_count": null,
   "metadata": {},
   "outputs": [],
   "source": [
    "df_18.info() # hour and month are each strings (and categorical variables)\n",
    "df_18.tail(3)"
   ]
  },
  {
   "cell_type": "code",
   "execution_count": null,
   "metadata": {},
   "outputs": [],
   "source": [
    "df_18['kwhMA8C']= df_18.kwh.rolling(8,center= True).mean()"
   ]
  },
  {
   "cell_type": "code",
   "execution_count": null,
   "metadata": {},
   "outputs": [],
   "source": [
    "plt.figure(figsize= (15,10))\n",
    "plt.grid(True)\n",
    "# plt.plot(df_18.kwh, label= 'kwh')\n",
    "plt.plot(df_18.kwhMA8C, label= 'Centered 8-hour Moving Average')"
   ]
  },
  {
   "cell_type": "code",
   "execution_count": null,
   "metadata": {},
   "outputs": [],
   "source": []
  },
  {
   "cell_type": "code",
   "execution_count": null,
   "metadata": {},
   "outputs": [],
   "source": [
    "sum(df_18.kwh > 3.15) # so for the whole year 2018, of 8,760 hours just 466 exceeded the hourly threshold of 3.15 kwh"
   ]
  },
  {
   "cell_type": "code",
   "execution_count": null,
   "metadata": {},
   "outputs": [],
   "source": [
    "# df_18.month.isin() # weird 'year' and month behave here like non-strings!!"
   ]
  },
  {
   "cell_type": "code",
   "execution_count": null,
   "metadata": {},
   "outputs": [],
   "source": [
    "pre_L1= df_18[df_18.month.isin([1,2,3,4,5,6])]\n",
    "post_L1= df_18[df_18.month.isin([7,8,9,10,11,12])]\n",
    "pre_L1.head()"
   ]
  },
  {
   "cell_type": "markdown",
   "metadata": {},
   "source": [
    "# One possible Signal for Classifying the new use of a Level 1 Charger is the number of times a certain hourly kwh threshold is exceeded\n",
    "For example, in the first half of 2018 not once was an hourly consumption of more than 5.5 kwh recorded.\n",
    "However, after the Level 1 charger was acquired in July, this threshold was exceeded 13 times."
   ]
  },
  {
   "cell_type": "code",
   "execution_count": null,
   "metadata": {},
   "outputs": [],
   "source": [
    "print(sum(pre_L1.kwh > 5.5))"
   ]
  },
  {
   "cell_type": "code",
   "execution_count": null,
   "metadata": {},
   "outputs": [],
   "source": [
    "print(sum(post_L1.kwh > 5.5))"
   ]
  },
  {
   "cell_type": "code",
   "execution_count": null,
   "metadata": {},
   "outputs": [],
   "source": [
    "# sum(df_18.kwh > 5.5) # this includes just one month and several days of EV ownership\n",
    "# NEW CODE FOR ROLLING SIGNAL DAILY OR WEEKLY\n",
    "peak_L1= df_18.kwh > 5.5\n",
    "signal_L1= peak_L1.resample('M').sum() # Monthly is a more stable indicator: consistently more than 7x per week!\n",
    "plt.figure(figsize= (15,10))\n",
    "plt.title('Number of Hours per Week that 5.5 kwh L1 Signal Threshold is Exceeded')\n",
    "plt.ylabel('Number of Hours')\n",
    "# plt.axhline(7, color='r', linestyle='dashed', linewidth=2)\n",
    "plt.plot(signal_L1)\n",
    "# Exceeded regularly in Summer only due to AC load!"
   ]
  },
  {
   "cell_type": "code",
   "execution_count": null,
   "metadata": {},
   "outputs": [],
   "source": [
    "peak_7year= dft.kwh > 5.5 # all years, rather than a single year\n",
    "signal_7year= peak_7year.resample('M').sum() # Monthly is a more stable indicator: consistently more than 7x per week!\n",
    "plt.figure(figsize= (15,10))\n",
    "plt.title('Number of Hours per Month that 5.5kwh Signal Threshold is Exceeded')\n",
    "plt.ylabel('Number of Hours')\n",
    "# plt.axhline(7, color='r', linestyle='dashed', linewidth=2)\n",
    "plt.plot(signal_7year)\n",
    "# DWW could refine by specifying hours 6pm to 6am, as years 2102 and 2013 peaks due to an inefficient old AC unit."
   ]
  },
  {
   "cell_type": "code",
   "execution_count": null,
   "metadata": {},
   "outputs": [],
   "source": [
    "# NEW TROUGH CODE FOR ROLLING SIGNAL DAILY OR WEEKLY: Lows less frequent w Level 1 Charger\n",
    "trough_L1= df_18.kwh < 0.75\n",
    "trough_signal_L1= trough_L1.resample('M').sum() # Weekly is a more stable indicator?\n",
    "plt.figure(figsize= (15,10))\n",
    "plt.title('Number of Hours per Week that 0.75kwh Trough L1 Signal Threshold is Crossed')\n",
    "plt.ylabel('Number of Hours')\n",
    "# plt.axhline(7, color='r', linestyle='dashed', linewidth=2)\n",
    "plt.plot(trough_signal_L1)\n",
    "# DWW NB The low values at Left and right are misleading artefacts of the resample process!!! BEWARE!!"
   ]
  },
  {
   "cell_type": "code",
   "execution_count": null,
   "metadata": {},
   "outputs": [],
   "source": []
  },
  {
   "cell_type": "markdown",
   "metadata": {},
   "source": [
    "# Another possible Signal for Classifying the new use of a Level 1 Charger is derived from total monthly power consumption\n",
    "\n",
    "The following analysis of (resampled) monthly data explores a potential Level 1 Charger Signal.\n",
    "One idea is that with the acquisition of a Level 1 charger the monthly total kwh consumption should increase.\n",
    "\n",
    "For example, charging for 1,000 miles driven each month would add about 333 kwh per month (since 1 kwh fuels c.3 miles).\n",
    "\n",
    "A monthly_baseline is established, which is the average of the preceding four years (so 2014-2017 here).\n",
    "\n",
    "This is of course just one \"signal\" or feature. It is desireable to posit a number of such features, and then to test which combination of them is most efffective in accurately classifying a large sample of EV's."
   ]
  },
  {
   "cell_type": "code",
   "execution_count": null,
   "metadata": {},
   "outputs": [],
   "source": [
    "df_18.kwh.resample('M').sum().plot()"
   ]
  },
  {
   "cell_type": "code",
   "execution_count": null,
   "metadata": {},
   "outputs": [],
   "source": [
    "df_17= dft[dft.year== 2017]\n",
    "df_17.kwh.resample('M').sum().plot()"
   ]
  },
  {
   "cell_type": "code",
   "execution_count": null,
   "metadata": {},
   "outputs": [],
   "source": [
    "df_16= dft[dft.year== 2016]\n",
    "df_16.kwh.resample('M').sum().plot()"
   ]
  },
  {
   "cell_type": "code",
   "execution_count": null,
   "metadata": {},
   "outputs": [],
   "source": [
    "df_15= dft[dft.year== 2015]\n",
    "df_15.kwh.resample('M').sum().plot()"
   ]
  },
  {
   "cell_type": "code",
   "execution_count": null,
   "metadata": {},
   "outputs": [],
   "source": [
    "df_15.kwh.resample('M').sum().values"
   ]
  },
  {
   "cell_type": "code",
   "execution_count": null,
   "metadata": {},
   "outputs": [],
   "source": [
    "df_14= dft[dft.year== 2014]\n",
    "print(df_14.kwh.resample('M').sum().values)\n",
    "df_14.kwh.resample('M').sum().plot()"
   ]
  },
  {
   "cell_type": "code",
   "execution_count": null,
   "metadata": {},
   "outputs": [],
   "source": [
    "monthly_baseline= 0.25 * (df_14.kwh.resample('M').sum().values + df_15.kwh.resample('M').sum().values + \n",
    "                   df_16.kwh.resample('M').sum().values + df_17.kwh.resample('M').sum().values)"
   ]
  },
  {
   "cell_type": "code",
   "execution_count": null,
   "metadata": {},
   "outputs": [],
   "source": [
    "plt.plot(monthly_baseline)\n",
    "plt.plot(df_18.kwh.resample('M').sum().values)"
   ]
  },
  {
   "cell_type": "code",
   "execution_count": null,
   "metadata": {},
   "outputs": [],
   "source": [
    "plt.axhline(0, color='r', linestyle='dashed', linewidth=2) # zero reference\n",
    "plt.axhline(167, color='g', linestyle='dashed', linewidth=3)# 500 miles/month minimum is an extra 167 kwh/month\n",
    "plt.plot(df_18.kwh.resample('M').sum().values - monthly_baseline)"
   ]
  },
  {
   "cell_type": "markdown",
   "metadata": {},
   "source": [
    "# Repeating the above analysis but just for the 12 hours when the EV is likely to be at the residence (hours 0-5, 18-23 ): this yields a sharper contrast."
   ]
  },
  {
   "cell_type": "code",
   "execution_count": null,
   "metadata": {},
   "outputs": [],
   "source": [
    "dft.head()\n",
    "# dft.hour.isin(['00','01','02','03','04','05','18','19','20','21','22','23']) #12 hours = half day, abbreviation H\n"
   ]
  },
  {
   "cell_type": "code",
   "execution_count": null,
   "metadata": {},
   "outputs": [],
   "source": [
    "df_17H= dft[(dft.year== 2017) & (dft.hour.isin(['00','01','02','03','04','05','18','19','20','21','22','23']))]\n",
    "df_17H.head(10)"
   ]
  },
  {
   "cell_type": "code",
   "execution_count": null,
   "metadata": {},
   "outputs": [],
   "source": [
    "df_17H.kwh.resample('M').sum().plot()"
   ]
  },
  {
   "cell_type": "code",
   "execution_count": null,
   "metadata": {},
   "outputs": [],
   "source": [
    "df_18H= dft[(dft.year== 2018) & (dft.hour.isin(['00','01','02','03','04','05','18','19','20','21','22','23']))]\n",
    "df_18H.kwh.resample('M').sum().plot()"
   ]
  },
  {
   "cell_type": "code",
   "execution_count": null,
   "metadata": {},
   "outputs": [],
   "source": [
    "df_18H= dft[(dft.year== 2018) & (dft.hour.isin(['00','01','02','03','04','05','18','19','20','21','22','23']))]\n",
    "df_17H= dft[(dft.year== 2017) & (dft.hour.isin(['00','01','02','03','04','05','18','19','20','21','22','23']))]\n",
    "df_16H= dft[(dft.year== 2016) & (dft.hour.isin(['00','01','02','03','04','05','18','19','20','21','22','23']))]\n",
    "df_15H= dft[(dft.year== 2015) & (dft.hour.isin(['00','01','02','03','04','05','18','19','20','21','22','23']))]\n",
    "df_14H= dft[(dft.year== 2014) & (dft.hour.isin(['00','01','02','03','04','05','18','19','20','21','22','23']))]\n",
    "monthly_baseline_H= 0.25 * (df_14H.kwh.resample('M').sum().values + df_15H.kwh.resample('M').sum().values + \n",
    "                   df_16H.kwh.resample('M').sum().values + df_17H.kwh.resample('M').sum().values)"
   ]
  },
  {
   "cell_type": "code",
   "execution_count": null,
   "metadata": {},
   "outputs": [],
   "source": [
    "plt.plot(monthly_baseline_H)\n",
    "plt.plot(df_18H.kwh.resample('M').sum().values)"
   ]
  },
  {
   "cell_type": "code",
   "execution_count": null,
   "metadata": {},
   "outputs": [],
   "source": [
    "# NEW CODE TO TRY  FOR MISSING CHART!\n",
    "plt.axhline(0, color='r', linestyle='dashed', linewidth=2) # zero reference\n",
    "plt.axhline(167, color='g', linestyle='dashed', linewidth=3)# 500 miles/month minimum is an extra 167 kwh/month\n",
    "plt.plot(df_18.kwh.resample('M').sum().values - monthly_baseline_H)\n",
    "\n",
    "# Hmmm Chart below does not look correct!! Monthly total increased by 600 kw/month !!  TOO MUCH!"
   ]
  },
  {
   "cell_type": "code",
   "execution_count": null,
   "metadata": {},
   "outputs": [],
   "source": [
    "# BUT THIS VERSION (oddly not executed in the prior Notebook) DOES LOOK OK\n",
    "\n",
    "plt.axhline(0, color='r', linestyle='dashed', linewidth=2)    # zero reference\n",
    "plt.axhline(167, color='g', linestyle='dashed', linewidth=3)  # 500 miles/month minimum is an extra 167 kwh/month\n",
    "plt.axvline(7, color='y', linestyle='dashed', linewidth=5)\n",
    "plt.title('For the year 2018, Monthly Difference between Actual and the 4-Year baseline Consumption in kwh')\n",
    "plt.xlabel('Month of the Year')\n",
    "plt.ylabel('kwh')\n",
    "plt.plot(df_18H.kwh.resample('M').sum().values - monthly_baseline_H)"
   ]
  },
  {
   "cell_type": "markdown",
   "metadata": {},
   "source": [
    "# Successful Signal for Discerning the Acquisition of a Level 1 EV Charger\n",
    "For the 12 hours (midnight to 6am, 6pm to midnight) that an EV is more likely to be at a residence,a monthly baseline is first established as the average of the preceding (trailing) 4 years, or 48 months.\n",
    "This Baseline is then subtracted from the monthly values of the current year (for just the same 12 hours).\n",
    "If the positive difference exceeds 167 kwh for three consecutive months, then the Residence is classified as owning a Level 1 EV charger. The 167 kwh/month threshold is predicated on an assumed 500 miles driven per month, and that 1 kwh fuels 3 miles of driving.\n",
    "\n",
    "This approach can easily be generalised to the current months versus a four-year moving average."
   ]
  },
  {
   "cell_type": "markdown",
   "metadata": {},
   "source": [
    "# A Third possible Signal for Classifying the new use of a Level 1 Charger might derived from sequences of seven hours at night, or minimum threshold levels\n",
    "One characteristic of a Level 1 charger (aka a \"Trickle Charger) is that it is typically charging for a number of consecutive hours. For example, to provide for a 50-mile round trip would require about 17kwh, and at a charging rate of 1.9 kwh, that would take about nine consecutive hours. This might occur from 6pm to 3am, or from 9pm to 6am, for example. An approach that incorporates a seven-hour moving average might provide an indication of whether Level 1 EV charging is occuring."
   ]
  },
  {
   "cell_type": "markdown",
   "metadata": {},
   "source": [
    "# A Fourth possible Signal for Classifying the new use of a Level 1 Charger might be derived from a TOU-driven mini-spike\n",
    "Where the EV charger is the customer of an electric utility that offers the option of a so-called \"Time-Of-Use\" (TOU) electricity tariff, EV chargers are incentivized to delay their charging until the onset of a designated \"Off-Peak\" period, which might start as early as 8pm or as late as midnight, and generally extends to 6am: the electricity tariff for the Off-Peak period is usually at a much lower price - even less than half the price for the preceding Peak Period. Most charging devices have timers, and the customers whohave chosen to subscribe to the TOU option therefore often set their timer to the onset of the Off-Peak period. Experience has shown that this tends to create a mini-peak. Incidentally, sometimes this option is offered to all of a utility's customers, while in other cases it may be offered exclusively to EV chargers who have signed up.\n",
    "\n",
    "Since Corn Belt Energy does not currently offer a TOU Plan, this approach is not immediately relevant."
   ]
  },
  {
   "cell_type": "markdown",
   "metadata": {},
   "source": [
    "# An Ensemble Approach to Classification is often Superior\n",
    "\n",
    "Four alternative signals have been outlined above that might be helpful in discerning whether a given household is an EV charger.\n",
    "\n",
    "A statistical analysis can be performed to see which of the four Signals is superior. However,since the approaches are quite different, they may not be fully-correlated with one another. Accordingly, a mixture (ensemble approach) has often been found to be optimal.\n",
    "\n",
    "This can be achieved in many ways, including by assigning appropriate weights to each of the different approaches.\n",
    "\n",
    "Another way is to have a voting procedure. Suppose for example that three of the Signals are used, then each Classifier is assigned one vote, and the maority vote prevails."
   ]
  },
  {
   "cell_type": "markdown",
   "metadata": {},
   "source": [
    "# Risk Management Approach\n",
    "\n",
    "There appears to be a significant assymettry in the cost of different outcomes (in formal terms, in the respective costs of Type I and Type II Classification errors). \n",
    "\n",
    "For example, suppose a household is initially classified by some judicious combination of the above-outlined Signals as having an EV charger, then the next steps may be:\n",
    "\n",
    "(a) investigative (additional information gathering, for example), or \n",
    "\n",
    "(b) Promotional (making a highly attractive offer of some kind, for example to subscribe to a TOU plan, or to so-called Managed Charging).\n",
    "\n",
    "Both of these steps are likely to be relatively inexpensive, and may represent wise precautionary investments with large associated benefits.\n",
    "\n",
    "In contrast, consider the quite different cost of having missed one or more EV chargers served by the same local distribution transformer. Suppose that the transformer is repeatedly loaded during Peak Periods to 90% or more of its capacity, and its life is materially shortened as a result.Eventually a brown-out occurs, with two non-trivial costs. First, the transformer must be replaced, at a cost of the order of $7,500. Second, there may be repuational damage incurred, as all 5-7 households served by that transformer would have suffered from the consequences of the brown-out. Moreover, as such brown-out's become increasingly common in line with projected EV adoption levels, there could be delays in obtaining new transformers, and even in installing them, as qualified work crews become overburdened with such jobs. These costs could easily be one-hundred to one-thousand times higher.\n",
    "\n",
    "Accordingly, it may be prudent to err on the side of caution and notionally classify a household as an EV charger even if the probability assigned by a chosen algorithm is less than 0.5. \n",
    "\n",
    "It would probably be sensible to accord quite different follow-up courses of action depending on whether the assigned probability was 0.3, 0.5, or 0.9. as the saying goes, \"The devil is in the details\"."
   ]
  },
  {
   "cell_type": "markdown",
   "metadata": {},
   "source": [
    "# pane\n",
    "df_18H.kwh.resample('M').sum().plot()\n",
    "df_18H.kwh.resample('M').sum().plot()\n",
    "df_18H.kwh.resample('M').sum().plot()\n",
    "df_18H.kwh.resample('M').sum().plot()\n",
    "df_18H.kwh.resample('M').sum().plot()"
   ]
  },
  {
   "cell_type": "markdown",
   "metadata": {},
   "source": [
    "# A Small EV and a Level 1 \"Trickle Charger\" were Acquired in July, 2018\n",
    "After July we see relatively little \"white space\" below the red horizontal line, suggesting that the trickle charger was active throughout much of the night."
   ]
  },
  {
   "cell_type": "code",
   "execution_count": null,
   "metadata": {},
   "outputs": [],
   "source": [
    "df_19= dft[dft.year== 2019]\n",
    "plt.figure(figsize= (15,10))\n",
    "df_19.kwh.plot()\n",
    "plt.title('Hourly kwh Consumption: Level 2 Charger Acquired February 11th, 2019')\n",
    "plt.ylabel('kwh')\n",
    "plt.axhline(3.15, color='r', linestyle='dashed', linewidth=2)\n",
    "plt.axhline(7, color='g', linestyle='dashed', linewidth=2)\n",
    "plt.show()"
   ]
  },
  {
   "cell_type": "markdown",
   "metadata": {},
   "source": [
    "# A Large (Tesla) EV and a Level 2 \"Fast Charger\" were Acquired in February, 2019\n",
    "In mid-February and beyond we see 7 kwh of consumption frequently, while before even with the EV with the smaller battery it had been comparatively rare."
   ]
  },
  {
   "cell_type": "code",
   "execution_count": null,
   "metadata": {},
   "outputs": [],
   "source": [
    "sum(df_19.kwh > 7) # this includes just one month and several days of EV ownership\n",
    "# NEW CODE FOR ROLLING SIGNAL DAILY OR WEEKLY\n",
    "peak= df_19.kwh > 7\n",
    "signal= peak.resample('W').sum() # Weekly is a more stable indicator: consistently more than 7x per week!\n",
    "plt.figure(figsize= (15,10))\n",
    "plt.title('Number of Times per Week that 7 kwh Signal Threshold is Exceeded')\n",
    "plt.ylabel('Number of Times')\n",
    "# plt.axhline(7, color='r', linestyle='dashed', linewidth=2)\n",
    "plt.plot(signal)"
   ]
  },
  {
   "cell_type": "code",
   "execution_count": null,
   "metadata": {},
   "outputs": [],
   "source": [
    "sum(df_18.kwh > 7)  # for the year, just a single occurrence"
   ]
  },
  {
   "cell_type": "code",
   "execution_count": null,
   "metadata": {},
   "outputs": [],
   "source": [
    "sum(df_17.kwh > 7)  # for the year,not a single occurrence"
   ]
  },
  {
   "cell_type": "code",
   "execution_count": null,
   "metadata": {},
   "outputs": [],
   "source": [
    "sum(df_16.kwh > 7)  # for the year, not a single occurrence\n",
    "# Actually a number of occurences in July, 2012 when AC was old and inefficent"
   ]
  },
  {
   "cell_type": "markdown",
   "metadata": {},
   "source": [
    "# Establishing a Baseline for Power Consumption using OLS Regression\n",
    "The approach is to use 2017 as a baseline year for purposes of comparison.\n",
    "The year 2018 is unsuitable as the numbers were materially higher in the second half of the year due to the small EV acquisition."
   ]
  },
  {
   "cell_type": "code",
   "execution_count": null,
   "metadata": {},
   "outputs": [],
   "source": [
    "# NEW: the following analysis takes the one-month, six day period of Tesla ownership and compares it to\n",
    "# a baseline of the the same period for the preceding four years\n",
    "# Can now be updated through mid July from Jeff Hevrin hopefully (uodate from Corn Belt metering data)"
   ]
  },
  {
   "cell_type": "code",
   "execution_count": null,
   "metadata": {},
   "outputs": [],
   "source": [
    "k_19 = dft['2019-02-12':'2019-03-18']"
   ]
  },
  {
   "cell_type": "code",
   "execution_count": null,
   "metadata": {},
   "outputs": [],
   "source": [
    "plt.plot(k_19.kwh) "
   ]
  },
  {
   "cell_type": "code",
   "execution_count": null,
   "metadata": {},
   "outputs": [],
   "source": [
    "plt.plot(k_19.kwh.resample('D').mean())"
   ]
  },
  {
   "cell_type": "code",
   "execution_count": null,
   "metadata": {},
   "outputs": [],
   "source": [
    "k_19 = dft['2019-02-12':'2019-03-18'].kwh.reset_index()"
   ]
  },
  {
   "cell_type": "code",
   "execution_count": null,
   "metadata": {},
   "outputs": [],
   "source": [
    "k_18 = dft['2018-02-12':'2018-03-18'].kwh.reset_index()\n",
    "k_18[0:10]"
   ]
  },
  {
   "cell_type": "code",
   "execution_count": null,
   "metadata": {},
   "outputs": [],
   "source": [
    "k_17 = dft['2017-02-12':'2017-03-18'].kwh.reset_index()\n"
   ]
  },
  {
   "cell_type": "code",
   "execution_count": null,
   "metadata": {},
   "outputs": [],
   "source": [
    "k_16 = dft['2016-02-12':'2016-03-18'].kwh.reset_index()"
   ]
  },
  {
   "cell_type": "code",
   "execution_count": null,
   "metadata": {},
   "outputs": [],
   "source": [
    "two_years= pd.merge(k_16, k_17, left_index= True, right_index= True)"
   ]
  },
  {
   "cell_type": "code",
   "execution_count": null,
   "metadata": {},
   "outputs": [],
   "source": [
    "two_years.head()\n",
    "two_years.columns= ['date_16','kwh_16','date_17','kwh_17']\n",
    "two_years.head()"
   ]
  },
  {
   "cell_type": "code",
   "execution_count": null,
   "metadata": {},
   "outputs": [],
   "source": [
    "three_years= pd.merge(two_years,k_18, left_index= True, right_index= True)"
   ]
  },
  {
   "cell_type": "code",
   "execution_count": null,
   "metadata": {},
   "outputs": [],
   "source": [
    "three_years.head()\n",
    "three_years.rename(columns= {'kwh_18':'kwh'})\n",
    "three_years.head()"
   ]
  },
  {
   "cell_type": "code",
   "execution_count": null,
   "metadata": {},
   "outputs": [],
   "source": [
    "four_years= pd.merge(three_years,k_19, left_index= True, right_index= True)\n",
    "four_years.head()"
   ]
  },
  {
   "cell_type": "code",
   "execution_count": null,
   "metadata": {},
   "outputs": [],
   "source": [
    "four_years.columns= ['date_16','kwh_16','date_17','kwh_17', 'date_18','kwh_18','date_19','kwh_19']\n",
    "four_years.head()"
   ]
  },
  {
   "cell_type": "code",
   "execution_count": null,
   "metadata": {},
   "outputs": [],
   "source": [
    "plt.plot(four_years.kwh_16)\n",
    "plt.plot(four_years.kwh_19)\n"
   ]
  },
  {
   "cell_type": "code",
   "execution_count": null,
   "metadata": {},
   "outputs": [],
   "source": [
    "four_years['baseline']= (four_years.kwh_16 + four_years.kwh_17 + four_years.kwh_18)/3\n",
    "four_years= four_years.drop(['date_16','date_17','date_18'], axis= 1)\n",
    "four_years.head()"
   ]
  },
  {
   "cell_type": "code",
   "execution_count": null,
   "metadata": {},
   "outputs": [],
   "source": [
    "four_years['increment']= (four_years.kwh_19 - four_years.baseline)\n",
    "four_years.head()"
   ]
  },
  {
   "cell_type": "code",
   "execution_count": null,
   "metadata": {},
   "outputs": [],
   "source": [
    "plt.plot(four_years.baseline)\n",
    "plt.plot(four_years.increment)\n",
    "plt.show()"
   ]
  },
  {
   "cell_type": "code",
   "execution_count": null,
   "metadata": {},
   "outputs": [],
   "source": [
    "four_years['hour']= four_years.date_19.dt.hour\n",
    "four_years['weekday']= four_years.date_19.dt.weekday_name  # weekday to exlore if weekend charging during the day\n",
    "# dft['weekday']= dft.date.dt.weekday_name\n",
    "four_years.head(20)"
   ]
  },
  {
   "cell_type": "code",
   "execution_count": null,
   "metadata": {},
   "outputs": [],
   "source": [
    "plt.hist(four_years.increment, bins=24, density= True)\n",
    "plt.title('Histogram of Hourly Difference from Baseline')\n",
    "plt.xlabel('Difference in kwh')\n",
    "# NB Symmetric Distribution centered around zero is likely just random.\n",
    "# We should therefore look at the most common hours for when the difference (aka 'increment') is more than 2."
   ]
  },
  {
   "cell_type": "code",
   "execution_count": null,
   "metadata": {},
   "outputs": [],
   "source": [
    "big_difference= four_years[four_years.increment > 2]\n",
    "big_difference.head()"
   ]
  },
  {
   "cell_type": "code",
   "execution_count": null,
   "metadata": {},
   "outputs": [],
   "source": [
    "plt.hist(big_difference.increment, bins=24, density= True)\n",
    "plt.title('Histogram of Hourly Difference from Baseline when > 2')\n",
    "plt.xlabel('Difference in kwh')"
   ]
  },
  {
   "cell_type": "code",
   "execution_count": null,
   "metadata": {},
   "outputs": [],
   "source": [
    "gh= big_difference.groupby('hour')"
   ]
  },
  {
   "cell_type": "code",
   "execution_count": null,
   "metadata": {},
   "outputs": [],
   "source": [
    "gh.mean()\n",
    "print(gh.increment.mean())\n",
    "# VERY INTERESTING THAT NO COUNTS FOR HOURS 2,3,4,5!!! CHARGING PRESUMABLY COMPLETED BY THEN??\n",
    "# possibly bi-modal: hours 0 & 1 are highest, hours 6pm & 10pm are the next most common.\n",
    "# matplotlib.pyplot.bar(x, height, width=0.8, bottom=None, *, align='center', data=None, **kwargs)[source]\n",
    "plt.bar(gh.increment.mean(), height= 10)\n",
    "#plt.plot(gh.increment.mean())\n",
    "# DWW look at .sum() to give total additional \n",
    "# FAILED BAR PLOT ATTEMPT!!!\n"
   ]
  },
  {
   "cell_type": "code",
   "execution_count": null,
   "metadata": {},
   "outputs": [],
   "source": [
    "gw= big_difference.groupby('weekday')\n",
    "print(gw.increment.mean())\n",
    "plt.plot(gw.increment.mean())  # make days properly continuous by making 'weekday' an ordered categorical variable !?\n",
    "# The observed differences could just be random: no evidence of high Weekend charging: Sunday is the lowest day."
   ]
  },
  {
   "cell_type": "code",
   "execution_count": null,
   "metadata": {},
   "outputs": [],
   "source": []
  },
  {
   "cell_type": "code",
   "execution_count": null,
   "metadata": {},
   "outputs": [],
   "source": []
  },
  {
   "cell_type": "code",
   "execution_count": null,
   "metadata": {},
   "outputs": [],
   "source": [
    "g= four_years.groupby('hour')"
   ]
  },
  {
   "cell_type": "code",
   "execution_count": null,
   "metadata": {},
   "outputs": [],
   "source": [
    "g.baseline.mean()\n",
    "plt.plot(g.baseline.mean())\n",
    "plt.plot(g.increment.mean())\n",
    "plt.plot( g.baseline.mean() + g.increment.mean())\n",
    "\n",
    "plt.show()\n",
    "# DWW MUCH BETTER TO DO THIS AS A STACKED BAR CHART????"
   ]
  },
  {
   "cell_type": "code",
   "execution_count": null,
   "metadata": {},
   "outputs": [],
   "source": [
    "print(g.baseline.mean())\n",
    "print(g.increment.mean())"
   ]
  },
  {
   "cell_type": "code",
   "execution_count": null,
   "metadata": {},
   "outputs": [],
   "source": [
    "# LOGARITHMIC EXPLORATIONS !!\n",
    "# introduce logarithmic version!\n",
    "import numpy as np \n",
    "df_17= dft[dft.year== 2017]\n",
    "log= np.log(df_17.kwh)     # take log to base Ten (with e we have negative values!!)\n",
    "log[0:10]"
   ]
  },
  {
   "cell_type": "code",
   "execution_count": null,
   "metadata": {},
   "outputs": [],
   "source": [
    "# Dividing by zero error message received.\n",
    "# \"The proper solution here is to add some small epsilon to the argument of log function. What worked for me was\n",
    "\n",
    "# epsilon = 1e-5    \n",
    "\n",
    "# def cost(X, y, theta):\n",
    "    m = X.shape[0]\n",
    "    yp = expit(X @ theta)\n",
    "    cost = - np.average(y * np.log(yp + epsilon) + (1 - y) * np.log(1 - yp + epsilon))\n",
    "    return cost"
   ]
  },
  {
   "cell_type": "code",
   "execution_count": null,
   "metadata": {},
   "outputs": [],
   "source": [
    "epsilon = 1e-5  \n",
    "df_17['ln_kwh']= np.log(df_17.kwh + epsilon)\n",
    "df_17.info()\n",
    "df_17.head()"
   ]
  },
  {
   "cell_type": "code",
   "execution_count": null,
   "metadata": {},
   "outputs": [],
   "source": [
    "# TEMPORAL MODEL ONLY: 2017\n",
    "# This version updated by dropping the 'year' variable as redundant (as for 2017 only)\n",
    "import statsmodels.api as sm\n",
    "from statsmodels.formula.api import ols\n",
    "m_ln= ols(formula= 'ln_kwh ~ hour + weekday + month', data= df_17).fit()  # .fit() already done (chained)\n",
    "\n",
    "\n"
   ]
  },
  {
   "cell_type": "code",
   "execution_count": null,
   "metadata": {},
   "outputs": [],
   "source": [
    "print(m_ln.summary())  # Hmmm...R2 has droped from 18% to just 6.5% !!??\n",
    "# this seems to be a much worse model and was examined only because of possible negative values with a non-log model\n",
    "# But to simulate Accelerated Aging we are only interested in the other end of the distribution, \n",
    "# namely the very high values.\n",
    "# CONCLUSION: Better to stay with the non-log formulation for now?(although variance would increase for higher values?)"
   ]
  },
  {
   "cell_type": "markdown",
   "metadata": {},
   "source": [
    "# OLS Regression analysis for 2017\n"
   ]
  },
  {
   "cell_type": "code",
   "execution_count": null,
   "metadata": {},
   "outputs": [],
   "source": [
    "# TEMPORAL MODEL ONLY: 2017\n",
    "# This version updated by dropping the 'year' variable as redundant (as for 2017 only)\n",
    "import statsmodels.api as sm\n",
    "from statsmodels.formula.api import ols\n",
    "m= ols(formula= 'kwh ~ hour + weekday + month', data= df_17).fit()  # .fit() already done (chained)\n",
    "\n",
    "print(m.summary())"
   ]
  },
  {
   "cell_type": "code",
   "execution_count": null,
   "metadata": {},
   "outputs": [],
   "source": [
    "# In Sample Prediction\n",
    "kwh_pred= m.predict(df_17)\n",
    "kwh_pred[0:24]\n",
    "error= kwh_pred - df_17.kwh\n",
    "error[0:10]\n",
    "sum_of_squares= sum(error**2)\n",
    "sum_of_squares\n",
    "len(kwh_pred)\n",
    "variance= (sum_of_squares/len(kwh_pred))\n",
    "sigma= variance **0.5\n",
    "sigma # for 2017 sigma = 0.72\n"
   ]
  },
  {
   "cell_type": "code",
   "execution_count": null,
   "metadata": {},
   "outputs": [],
   "source": [
    "# IN SAMPLE PREDICTION WITH ERROR TERM SIMULATED\n",
    "kwh_pred_w_epsilon= kwh_pred + sigma*np.random.normal(size= len(kwh_pred))\n",
    "kwh_pred_w_epsilon[0:10]\n",
    "# WHOOPS...we have negative hours! eg -1.36 in hour #2: therefore estimate ln kwh ?? (now negatives precluded!!)\n",
    "# Properly should do a test for heteroskedacity??"
   ]
  },
  {
   "cell_type": "code",
   "execution_count": null,
   "metadata": {},
   "outputs": [],
   "source": [
    "# Logarithmic model!?   TEMPORAL MODEL ONLY: 2017\n",
    "\n",
    "from statsmodels.formula.api import ols\n",
    "m= ols(formula= 'kwh ~ hour + weekday + month', data= df_17).fit()  # .fit() already done (chained)\n",
    "\n",
    "print(m.summary())"
   ]
  },
  {
   "cell_type": "code",
   "execution_count": null,
   "metadata": {},
   "outputs": [],
   "source": []
  },
  {
   "cell_type": "code",
   "execution_count": null,
   "metadata": {},
   "outputs": [],
   "source": []
  },
  {
   "cell_type": "code",
   "execution_count": null,
   "metadata": {},
   "outputs": [],
   "source": [
    "from datetime import datetime\n",
    "import pandas as pd\n",
    "f_date= pd.date_range(start= '1/1/2020', end= '12/31/2020', freq= 'H')  # f prefix for future dates: datetime object\n",
    "dfF= pd.DataFrame(f_date, columns= ['f_date']) # creates df and names the column\n",
    "\n",
    "dfF['hour']= dfF.f_date.dt.hour\n",
    "dfF['weekday']= dfF.f_date.dt.weekday_name\n",
    "dfF['month']= dfF.f_date.dt.month\n",
    "dfF['year']= dfF.f_date.dt.year\n",
    "\n",
    "dfF['hour']= dfF['hour'].astype('category')\n",
    "dfF['weekday']= dfF['weekday'].astype('category')\n",
    "dfF['month']= dfF['month'].astype('category')\n",
    "dfF['year']= dfF['year'].astype('category')\n",
    "dfF.head()"
   ]
  },
  {
   "cell_type": "code",
   "execution_count": null,
   "metadata": {},
   "outputs": [],
   "source": [
    "# kwh_pred= m.predict(dfF) # data= dfF  need to add an error term, normally distributed\n",
    "# + sig*random.normal(size= len(f_date))  # where sig is standard deviation of error term\n",
    "import numpy as np \n",
    "epsilon= np.random.normal(size= len(f_date)) # need to import !!\n",
    "epsilon[0:6]"
   ]
  },
  {
   "cell_type": "code",
   "execution_count": null,
   "metadata": {},
   "outputs": [],
   "source": []
  },
  {
   "cell_type": "code",
   "execution_count": null,
   "metadata": {},
   "outputs": [],
   "source": [
    "df_16= dft[dft.year== 2016]"
   ]
  },
  {
   "cell_type": "code",
   "execution_count": null,
   "metadata": {},
   "outputs": [],
   "source": [
    "#  TEMPORAL MODEL ONLY: 2016\n",
    "# Again, the redundant 'year' variable is dropped.\n",
    "import statsmodels.api as sm\n",
    "from statsmodels.formula.api import ols\n",
    "m2= ols(formula= 'kwh ~ hour + weekday + month', data= df_16).fit()  # .fit() already done (chained)\n",
    "\n",
    "print(m2.summary())"
   ]
  },
  {
   "cell_type": "code",
   "execution_count": null,
   "metadata": {},
   "outputs": [],
   "source": []
  },
  {
   "cell_type": "code",
   "execution_count": null,
   "metadata": {},
   "outputs": [],
   "source": []
  },
  {
   "cell_type": "code",
   "execution_count": null,
   "metadata": {},
   "outputs": [],
   "source": [
    "import pandas as pd"
   ]
  },
  {
   "cell_type": "code",
   "execution_count": null,
   "metadata": {},
   "outputs": [],
   "source": [
    "# Adding the Temperature variable\n",
    "temps= pd.read_csv('chicago_hourly_temperatures.csv', usecols= [0,17])\n",
    "temps.info()     # Note that the 'datetime variable is in fact just a string, and NOT a datetime object!!!\n",
    "temps.head(3)"
   ]
  },
  {
   "cell_type": "code",
   "execution_count": null,
   "metadata": {},
   "outputs": [],
   "source": [
    "import datetime as dt\n",
    "temps['date']= pd.to_datetime(temps.datetime)\n",
    "# raw_data['Mycol'] =  pd.to_datetime(raw_data['Mycol'], format='%d%b%Y:%H:%M:%S.%f')"
   ]
  },
  {
   "cell_type": "code",
   "execution_count": null,
   "metadata": {},
   "outputs": [],
   "source": [
    "temps.info() # so the conversion was correctly parsed, but the hours appear to be Universal, namely Greenwich (+6)\n",
    "# this is a problem as it does not match the hour in Chicago for the kwh usage !!!"
   ]
  },
  {
   "cell_type": "code",
   "execution_count": null,
   "metadata": {},
   "outputs": [],
   "source": [
    "temps['C_date'] = temps.date - dt.timedelta(hours=6) # where 'C_date' is Chicago time.\n",
    "temps.head(12)"
   ]
  },
  {
   "cell_type": "code",
   "execution_count": null,
   "metadata": {},
   "outputs": [],
   "source": [
    "temps['hour']= temps.C_date.dt.hour\n",
    "temps['month']= temps.C_date.dt.month\n",
    "temps['year']= temps.C_date.dt.year\n",
    "temps['F']= 1.8*(temps['Chicago'] - 273.15) + 32\n",
    "temps.set_index(temps['C_date'], inplace= True)\n",
    "temps.info()\n"
   ]
  },
  {
   "cell_type": "code",
   "execution_count": null,
   "metadata": {},
   "outputs": [],
   "source": [
    "temps.head(12)"
   ]
  },
  {
   "cell_type": "code",
   "execution_count": null,
   "metadata": {},
   "outputs": [],
   "source": [
    "temps= temps.drop(['datetime','Chicago','date'], axis=1)\n",
    "temps['F_sqr']= temps.F**2\n",
    "temps['F_cbd']= temps.F**3\n",
    "temps['F_frth']= temps.F**4\n",
    "temps.head(3)"
   ]
  },
  {
   "cell_type": "code",
   "execution_count": null,
   "metadata": {},
   "outputs": [],
   "source": [
    "temps_17= temps[temps.year== 2017]"
   ]
  },
  {
   "cell_type": "code",
   "execution_count": null,
   "metadata": {},
   "outputs": [],
   "source": [
    "temps_17.head(3)"
   ]
  },
  {
   "cell_type": "code",
   "execution_count": null,
   "metadata": {},
   "outputs": [],
   "source": []
  },
  {
   "cell_type": "code",
   "execution_count": null,
   "metadata": {},
   "outputs": [],
   "source": [
    "comb_17 = pd.merge(df_17, temps_17, left_index= True, right_index= True) # 'left_on= date, right_on= date)"
   ]
  },
  {
   "cell_type": "code",
   "execution_count": null,
   "metadata": {},
   "outputs": [],
   "source": [
    "comb_17.head(3)"
   ]
  },
  {
   "cell_type": "code",
   "execution_count": null,
   "metadata": {},
   "outputs": [],
   "source": [
    "comb_17.hour_y = comb_17.hour_y.astype('category', ordered= True)\n",
    "comb_17.month_x= comb_17.month_x.astype('category', ordered= True)\n",
    "comb_17.head(24)"
   ]
  },
  {
   "cell_type": "code",
   "execution_count": null,
   "metadata": {},
   "outputs": [],
   "source": [
    "import statsmodels.api as sm\n",
    "from statsmodels.formula.api import ols\n",
    "m_F= ols(formula= 'kwh ~ hour_y + weekday + month_x + F + F_sqr + F_cbd + F_frth', data= comb_17).fit() \n",
    "# .fit() already done (chained)\n",
    "\n",
    "print(m_F.summary())\n",
    "\n",
    "# Hmmm "
   ]
  },
  {
   "cell_type": "code",
   "execution_count": null,
   "metadata": {},
   "outputs": [],
   "source": [
    "2**3"
   ]
  },
  {
   "cell_type": "code",
   "execution_count": null,
   "metadata": {},
   "outputs": [],
   "source": [
    "comb_17.info()"
   ]
  },
  {
   "cell_type": "code",
   "execution_count": null,
   "metadata": {},
   "outputs": [],
   "source": [
    "# Repeat after dropping month variable, seeing if temperature variable F is sufficient on its own\n",
    "m_F_wo_month= ols(formula= 'kwh ~ hour_y + weekday + F + F_sqr + F_cbd + F_frth', data= comb_17).fit() \n",
    "# .fit() already done (chained)\n",
    "\n",
    "print(m_F_wo_month.summary())"
   ]
  },
  {
   "cell_type": "code",
   "execution_count": null,
   "metadata": {},
   "outputs": [],
   "source": [
    "g= temps.groupby('hour')"
   ]
  },
  {
   "cell_type": "code",
   "execution_count": null,
   "metadata": {},
   "outputs": [],
   "source": [
    "F= 1.8*(g.mean()- 273.15) + 32\n",
    "print(round(F, 1))"
   ]
  },
  {
   "cell_type": "code",
   "execution_count": null,
   "metadata": {},
   "outputs": [],
   "source": [
    "pd.read_csv('chicago_hourly_temperatures.csv', usecols= [0,17])\n"
   ]
  },
  {
   "cell_type": "code",
   "execution_count": null,
   "metadata": {},
   "outputs": [],
   "source": [
    "temps.head()"
   ]
  },
  {
   "cell_type": "code",
   "execution_count": null,
   "metadata": {},
   "outputs": [],
   "source": [
    "comb= pd.merge()"
   ]
  },
  {
   "cell_type": "markdown",
   "metadata": {},
   "source": [
    "# OLS.predict(X)\n",
    "from datetime import datetime\n",
    "dft['weekday']= dft.date.dt.weekday_name\n",
    "dft['month']= dft.date.dt.month\n",
    "dft['year']= dft.date.dt.year\n",
    "dft.set_index(dft['date'], inplace= True)\n",
    "dft= dft.drop(['day','date'], axis=1)\n",
    "dft['hour']= dft['hour'].astype('category')\n",
    "dft['weekday']= dft['weekday'].astype('category')\n",
    "dft['month']= dft['month'].astype('category')\n",
    "dft['year']= dft['year'].astype('category')\n",
    "dft.info()\n",
    "dft.head()"
   ]
  },
  {
   "cell_type": "code",
   "execution_count": null,
   "metadata": {},
   "outputs": [],
   "source": [
    "from datetime import datetime\n",
    "f_date= pd.date_range(start= '1/1/2020', end= '12/31/2020', freq= 'H')  # f prefix for future dates: datetime object\n",
    "dfF= pd.DataFrame(f_dates, columns= ['f_date']) # creates df and names the column\n",
    "dfF['hour']= dfF.dates.dt.month\n",
    "dfF['weekday']= dfF.dates.dt.weekday_name\n",
    "dfF['month']= dfF.dates.dt.month\n",
    "dfF['year']= dfF.dates.dt.year\n",
    "# dft.set_index(dft['date'], inplace= True)\n",
    "# dft= dft.drop(['day','date'], axis=1)\n",
    "dfF['hour']= dfF['hour'].astype('category')\n",
    "dfF['weekday']= dfF['weekday'].astype('category')\n",
    "dfF['month']= dfF['month'].astype('category')\n",
    "dfF['year']= dfF['year'].astype('category')\n",
    "dfF.info()\n",
    "dfF.head()"
   ]
  },
  {
   "cell_type": "code",
   "execution_count": null,
   "metadata": {},
   "outputs": [],
   "source": [
    "from datetime import datetime\n",
    "dft['weekday']= dft.date.dt.weekday_name\n",
    "dft['month']= dft.date.dt.month\n",
    "dft['year']= dft.date.dt.year\n",
    "dft.set_index(dft['date'], inplace= True)\n",
    "dft= dft.drop(['day','date'], axis=1)\n",
    "dft['hour']= dft['hour'].astype('category')\n",
    "dft['weekday']= dft['weekday'].astype('category')\n",
    "dft['month']= dft['month'].astype('category')\n",
    "dft['year']= dft['year'].astype('category')\n",
    "dft.info()\n",
    "dft.head()"
   ]
  },
  {
   "cell_type": "code",
   "execution_count": null,
   "metadata": {},
   "outputs": [],
   "source": [
    "from datetime import datetime\n",
    "import pandas as pd\n",
    "f_date= pd.date_range(start= '1/1/2020', end= '12/31/2020', freq= 'H')  # f prefix for future dates: datetime object\n",
    "dfF= pd.DataFrame(f_date, columns= ['f_date']) # creates df and names the column\n",
    "\n",
    "dfF['hour']= dfF.f_date.dt.hour\n",
    "dfF['weekday']= dfF.f_date.dt.weekday_name\n",
    "dfF['month']= dfF.f_date.dt.month\n",
    "dfF['year']= dfF.f_date.dt.year\n",
    "\n",
    "dfF['hour']= dfF['hour'].astype('category')\n",
    "dfF['weekday']= dfF['weekday'].astype('category')\n",
    "dfF['month']= dfF['month'].astype('category')\n",
    "dfF['year']= dfF['year'].astype('category')\n",
    "dfF.head()\n"
   ]
  },
  {
   "cell_type": "code",
   "execution_count": null,
   "metadata": {},
   "outputs": [],
   "source": [
    "dfF.info()"
   ]
  },
  {
   "cell_type": "code",
   "execution_count": null,
   "metadata": {},
   "outputs": [],
   "source": [
    "# Hmm for the purely temporal model volatility is underestimated greatly"
   ]
  },
  {
   "cell_type": "code",
   "execution_count": null,
   "metadata": {},
   "outputs": [],
   "source": [
    "groupby hour and month mean "
   ]
  },
  {
   "cell_type": "code",
   "execution_count": null,
   "metadata": {},
   "outputs": [],
   "source": [
    "40000000/(42000 * 0.6)"
   ]
  },
  {
   "cell_type": "markdown",
   "metadata": {},
   "source": [
    " # OLD CODE BELOW TO BE EXCISED"
   ]
  }
 ],
 "metadata": {
  "kernelspec": {
   "display_name": "Python 3",
   "language": "python",
   "name": "python3"
  },
  "language_info": {
   "codemirror_mode": {
    "name": "ipython",
    "version": 3
   },
   "file_extension": ".py",
   "mimetype": "text/x-python",
   "name": "python",
   "nbconvert_exporter": "python",
   "pygments_lexer": "ipython3",
   "version": "3.7.1"
  }
 },
 "nbformat": 4,
 "nbformat_minor": 2
}
