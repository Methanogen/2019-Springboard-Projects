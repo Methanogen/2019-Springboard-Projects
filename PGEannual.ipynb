{
 "cells": [
  {
   "cell_type": "code",
   "execution_count": 1,
   "metadata": {},
   "outputs": [
    {
     "name": "stdout",
     "output_type": "stream",
     "text": [
      "C:\\Users\\DWWillson\\Desktop\\CAISO Monthly Prices\n"
     ]
    }
   ],
   "source": [
    "import os\n",
    "print(os.getcwd())"
   ]
  },
  {
   "cell_type": "code",
   "execution_count": 1,
   "metadata": {},
   "outputs": [],
   "source": [
    "import pandas as pd\n",
    "df= pd.read_csv('October_2018.csv')"
   ]
  },
  {
   "cell_type": "code",
   "execution_count": 2,
   "metadata": {},
   "outputs": [
    {
     "name": "stdout",
     "output_type": "stream",
     "text": [
      "<class 'pandas.core.frame.DataFrame'>\n",
      "RangeIndex: 44640 entries, 0 to 44639\n",
      "Data columns (total 16 columns):\n",
      "INTERVALSTARTTIME_GMT    44640 non-null object\n",
      "INTERVALENDTIME_GMT      44640 non-null object\n",
      "OPR_DT                   44640 non-null object\n",
      "OPR_HR                   44640 non-null int64\n",
      "NODE_ID_XML              44640 non-null object\n",
      "NODE_ID                  44640 non-null object\n",
      "NODE                     44640 non-null object\n",
      "MARKET_RUN_ID            44640 non-null object\n",
      "LMP_TYPE                 44640 non-null object\n",
      "XML_DATA_ITEM            44640 non-null object\n",
      "PNODE_RESMRID            44640 non-null object\n",
      "GRP_TYPE                 44640 non-null object\n",
      "POS                      44640 non-null int64\n",
      "VALUE                    44640 non-null float64\n",
      "OPR_INTERVAL             44640 non-null int64\n",
      "GROUP                    44640 non-null int64\n",
      "dtypes: float64(1), int64(4), object(11)\n",
      "memory usage: 5.4+ MB\n"
     ]
    }
   ],
   "source": [
    "df.info()"
   ]
  },
  {
   "cell_type": "code",
   "execution_count": 3,
   "metadata": {},
   "outputs": [
    {
     "data": {
      "text/html": [
       "<div>\n",
       "<style scoped>\n",
       "    .dataframe tbody tr th:only-of-type {\n",
       "        vertical-align: middle;\n",
       "    }\n",
       "\n",
       "    .dataframe tbody tr th {\n",
       "        vertical-align: top;\n",
       "    }\n",
       "\n",
       "    .dataframe thead th {\n",
       "        text-align: right;\n",
       "    }\n",
       "</style>\n",
       "<table border=\"1\" class=\"dataframe\">\n",
       "  <thead>\n",
       "    <tr style=\"text-align: right;\">\n",
       "      <th></th>\n",
       "      <th>INTERVALSTARTTIME_GMT</th>\n",
       "      <th>INTERVALENDTIME_GMT</th>\n",
       "      <th>OPR_DT</th>\n",
       "      <th>OPR_HR</th>\n",
       "      <th>NODE_ID_XML</th>\n",
       "      <th>NODE_ID</th>\n",
       "      <th>NODE</th>\n",
       "      <th>MARKET_RUN_ID</th>\n",
       "      <th>LMP_TYPE</th>\n",
       "      <th>XML_DATA_ITEM</th>\n",
       "      <th>PNODE_RESMRID</th>\n",
       "      <th>GRP_TYPE</th>\n",
       "      <th>POS</th>\n",
       "      <th>VALUE</th>\n",
       "      <th>OPR_INTERVAL</th>\n",
       "      <th>GROUP</th>\n",
       "    </tr>\n",
       "  </thead>\n",
       "  <tbody>\n",
       "    <tr>\n",
       "      <th>0</th>\n",
       "      <td>2018-10-01T07:00:00-00:00</td>\n",
       "      <td>2018-10-01T07:05:00-00:00</td>\n",
       "      <td>10/1/2018</td>\n",
       "      <td>1</td>\n",
       "      <td>TH_NP15_GEN-APND</td>\n",
       "      <td>TH_NP15_GEN-APND</td>\n",
       "      <td>TH_NP15_GEN-APND</td>\n",
       "      <td>RTM</td>\n",
       "      <td>MCC</td>\n",
       "      <td>LMP_CONG_PRC</td>\n",
       "      <td>TH_NP15_GEN-APND</td>\n",
       "      <td>ALL_APNODES</td>\n",
       "      <td>0</td>\n",
       "      <td>0.0</td>\n",
       "      <td>1</td>\n",
       "      <td>1</td>\n",
       "    </tr>\n",
       "    <tr>\n",
       "      <th>1</th>\n",
       "      <td>2018-10-01T07:05:00-00:00</td>\n",
       "      <td>2018-10-01T07:10:00-00:00</td>\n",
       "      <td>10/1/2018</td>\n",
       "      <td>1</td>\n",
       "      <td>TH_NP15_GEN-APND</td>\n",
       "      <td>TH_NP15_GEN-APND</td>\n",
       "      <td>TH_NP15_GEN-APND</td>\n",
       "      <td>RTM</td>\n",
       "      <td>MCC</td>\n",
       "      <td>LMP_CONG_PRC</td>\n",
       "      <td>TH_NP15_GEN-APND</td>\n",
       "      <td>ALL_APNODES</td>\n",
       "      <td>0</td>\n",
       "      <td>0.0</td>\n",
       "      <td>2</td>\n",
       "      <td>1</td>\n",
       "    </tr>\n",
       "    <tr>\n",
       "      <th>2</th>\n",
       "      <td>2018-10-01T07:10:00-00:00</td>\n",
       "      <td>2018-10-01T07:15:00-00:00</td>\n",
       "      <td>10/1/2018</td>\n",
       "      <td>1</td>\n",
       "      <td>TH_NP15_GEN-APND</td>\n",
       "      <td>TH_NP15_GEN-APND</td>\n",
       "      <td>TH_NP15_GEN-APND</td>\n",
       "      <td>RTM</td>\n",
       "      <td>MCC</td>\n",
       "      <td>LMP_CONG_PRC</td>\n",
       "      <td>TH_NP15_GEN-APND</td>\n",
       "      <td>ALL_APNODES</td>\n",
       "      <td>0</td>\n",
       "      <td>0.0</td>\n",
       "      <td>3</td>\n",
       "      <td>1</td>\n",
       "    </tr>\n",
       "    <tr>\n",
       "      <th>3</th>\n",
       "      <td>2018-10-01T07:15:00-00:00</td>\n",
       "      <td>2018-10-01T07:20:00-00:00</td>\n",
       "      <td>10/1/2018</td>\n",
       "      <td>1</td>\n",
       "      <td>TH_NP15_GEN-APND</td>\n",
       "      <td>TH_NP15_GEN-APND</td>\n",
       "      <td>TH_NP15_GEN-APND</td>\n",
       "      <td>RTM</td>\n",
       "      <td>MCC</td>\n",
       "      <td>LMP_CONG_PRC</td>\n",
       "      <td>TH_NP15_GEN-APND</td>\n",
       "      <td>ALL_APNODES</td>\n",
       "      <td>0</td>\n",
       "      <td>0.0</td>\n",
       "      <td>4</td>\n",
       "      <td>1</td>\n",
       "    </tr>\n",
       "    <tr>\n",
       "      <th>4</th>\n",
       "      <td>2018-10-01T07:20:00-00:00</td>\n",
       "      <td>2018-10-01T07:25:00-00:00</td>\n",
       "      <td>10/1/2018</td>\n",
       "      <td>1</td>\n",
       "      <td>TH_NP15_GEN-APND</td>\n",
       "      <td>TH_NP15_GEN-APND</td>\n",
       "      <td>TH_NP15_GEN-APND</td>\n",
       "      <td>RTM</td>\n",
       "      <td>MCC</td>\n",
       "      <td>LMP_CONG_PRC</td>\n",
       "      <td>TH_NP15_GEN-APND</td>\n",
       "      <td>ALL_APNODES</td>\n",
       "      <td>0</td>\n",
       "      <td>0.0</td>\n",
       "      <td>5</td>\n",
       "      <td>1</td>\n",
       "    </tr>\n",
       "  </tbody>\n",
       "</table>\n",
       "</div>"
      ],
      "text/plain": [
       "       INTERVALSTARTTIME_GMT        INTERVALENDTIME_GMT     OPR_DT  OPR_HR  \\\n",
       "0  2018-10-01T07:00:00-00:00  2018-10-01T07:05:00-00:00  10/1/2018       1   \n",
       "1  2018-10-01T07:05:00-00:00  2018-10-01T07:10:00-00:00  10/1/2018       1   \n",
       "2  2018-10-01T07:10:00-00:00  2018-10-01T07:15:00-00:00  10/1/2018       1   \n",
       "3  2018-10-01T07:15:00-00:00  2018-10-01T07:20:00-00:00  10/1/2018       1   \n",
       "4  2018-10-01T07:20:00-00:00  2018-10-01T07:25:00-00:00  10/1/2018       1   \n",
       "\n",
       "        NODE_ID_XML           NODE_ID              NODE MARKET_RUN_ID  \\\n",
       "0  TH_NP15_GEN-APND  TH_NP15_GEN-APND  TH_NP15_GEN-APND           RTM   \n",
       "1  TH_NP15_GEN-APND  TH_NP15_GEN-APND  TH_NP15_GEN-APND           RTM   \n",
       "2  TH_NP15_GEN-APND  TH_NP15_GEN-APND  TH_NP15_GEN-APND           RTM   \n",
       "3  TH_NP15_GEN-APND  TH_NP15_GEN-APND  TH_NP15_GEN-APND           RTM   \n",
       "4  TH_NP15_GEN-APND  TH_NP15_GEN-APND  TH_NP15_GEN-APND           RTM   \n",
       "\n",
       "  LMP_TYPE XML_DATA_ITEM     PNODE_RESMRID     GRP_TYPE  POS  VALUE  \\\n",
       "0      MCC  LMP_CONG_PRC  TH_NP15_GEN-APND  ALL_APNODES    0    0.0   \n",
       "1      MCC  LMP_CONG_PRC  TH_NP15_GEN-APND  ALL_APNODES    0    0.0   \n",
       "2      MCC  LMP_CONG_PRC  TH_NP15_GEN-APND  ALL_APNODES    0    0.0   \n",
       "3      MCC  LMP_CONG_PRC  TH_NP15_GEN-APND  ALL_APNODES    0    0.0   \n",
       "4      MCC  LMP_CONG_PRC  TH_NP15_GEN-APND  ALL_APNODES    0    0.0   \n",
       "\n",
       "   OPR_INTERVAL  GROUP  \n",
       "0             1      1  \n",
       "1             2      1  \n",
       "2             3      1  \n",
       "3             4      1  \n",
       "4             5      1  "
      ]
     },
     "execution_count": 3,
     "metadata": {},
     "output_type": "execute_result"
    }
   ],
   "source": [
    "df.head()"
   ]
  },
  {
   "cell_type": "code",
   "execution_count": 4,
   "metadata": {},
   "outputs": [],
   "source": [
    "df_Jan= pd.read_csv('January_2018.csv', header= 0, usecols= [0,2,3,8,9,13,14],parse_dates= True, index_col= 'INTERVALSTARTTIME_GMT')"
   ]
  },
  {
   "cell_type": "code",
   "execution_count": 5,
   "metadata": {},
   "outputs": [],
   "source": [
    "df_Feb= pd.read_csv('February_2018.csv', header= 0, usecols= [0,2,3,8,9,13,14],parse_dates= True, index_col= 'INTERVALSTARTTIME_GMT')"
   ]
  },
  {
   "cell_type": "code",
   "execution_count": 6,
   "metadata": {},
   "outputs": [],
   "source": [
    "df_Mar= pd.read_csv('March_2018.csv', header= 0, usecols= [0,2,3,8,9,13,14],parse_dates= True, index_col= 'INTERVALSTARTTIME_GMT')"
   ]
  },
  {
   "cell_type": "code",
   "execution_count": 7,
   "metadata": {},
   "outputs": [],
   "source": [
    "df_Apr= pd.read_csv('April_2018.csv', header= 0, usecols= [0,2,3,8,9,13,14],parse_dates= True, index_col= 'INTERVALSTARTTIME_GMT')"
   ]
  },
  {
   "cell_type": "code",
   "execution_count": 8,
   "metadata": {},
   "outputs": [],
   "source": [
    "df_May= pd.read_csv('May_2018.csv', header= 0, usecols= [0,2,3,8,9,13,14],parse_dates= True, index_col= 'INTERVALSTARTTIME_GMT')"
   ]
  },
  {
   "cell_type": "code",
   "execution_count": 9,
   "metadata": {},
   "outputs": [],
   "source": [
    "df_Jun= pd.read_csv('June_2018.csv', header= 0, usecols= [0,2,3,8,9,13,14],parse_dates= True, index_col= 'INTERVALSTARTTIME_GMT')"
   ]
  },
  {
   "cell_type": "code",
   "execution_count": 10,
   "metadata": {},
   "outputs": [],
   "source": [
    "df_Jul= pd.read_csv('July_2018.csv', header= 0, usecols= [0,2,3,8,9,13,14],parse_dates= True, index_col= 'INTERVALSTARTTIME_GMT')\n"
   ]
  },
  {
   "cell_type": "code",
   "execution_count": 11,
   "metadata": {},
   "outputs": [],
   "source": [
    "df_Aug= pd.read_csv('August_2018.csv', header= 0, usecols= [0,2,3,8,9,13,14],parse_dates= True, index_col= 'INTERVALSTARTTIME_GMT')\n"
   ]
  },
  {
   "cell_type": "code",
   "execution_count": 12,
   "metadata": {},
   "outputs": [],
   "source": [
    "df_Sep= pd.read_csv('September_2018.csv', header= 0, usecols= [0,2,3,8,9,13,14],parse_dates= True, index_col= 'INTERVALSTARTTIME_GMT')"
   ]
  },
  {
   "cell_type": "code",
   "execution_count": 13,
   "metadata": {},
   "outputs": [],
   "source": [
    "df_Oct= pd.read_csv('October_2018.csv', header= 0, usecols= [0,2,3,8,9,13,14],parse_dates= True, index_col= 'INTERVALSTARTTIME_GMT')\n"
   ]
  },
  {
   "cell_type": "code",
   "execution_count": 14,
   "metadata": {},
   "outputs": [],
   "source": [
    "df_Nov= pd.read_csv('November_2018.csv', header= 0, usecols= [0,2,3,8,9,13,14],parse_dates= True, index_col= 'INTERVALSTARTTIME_GMT')"
   ]
  },
  {
   "cell_type": "code",
   "execution_count": 15,
   "metadata": {},
   "outputs": [],
   "source": [
    "frames= [df_Jan,df_Feb,df_Mar, df_Apr, df_May, df_Jun, df_Jul,df_Aug, df_Sep, df_Oct, df_Nov]\n",
    "df1= pd.concat(frames)"
   ]
  },
  {
   "cell_type": "code",
   "execution_count": 49,
   "metadata": {},
   "outputs": [],
   "source": [
    "dfp= df1[df1['LMP_TYPE'] == 'LMP'] # drops the other four price components and reduces data rows by 80%"
   ]
  },
  {
   "cell_type": "code",
   "execution_count": 50,
   "metadata": {},
   "outputs": [
    {
     "name": "stderr",
     "output_type": "stream",
     "text": [
      "C:\\Users\\DWWillson\\Anaconda3\\lib\\site-packages\\ipykernel_launcher.py:1: SettingWithCopyWarning: \n",
      "A value is trying to be set on a copy of a slice from a DataFrame.\n",
      "Try using .loc[row_indexer,col_indexer] = value instead\n",
      "\n",
      "See the caveats in the documentation: http://pandas.pydata.org/pandas-docs/stable/indexing.html#indexing-view-versus-copy\n",
      "  \"\"\"Entry point for launching an IPython kernel.\n"
     ]
    }
   ],
   "source": [
    "dfp['date']= pd.to_datetime(dfp['OPR_DT']) #needed for plotting after the groupby"
   ]
  },
  {
   "cell_type": "code",
   "execution_count": 51,
   "metadata": {},
   "outputs": [
    {
     "name": "stdout",
     "output_type": "stream",
     "text": [
      "<class 'pandas.core.frame.DataFrame'>\n",
      "DatetimeIndex: 96192 entries, 2018-01-01 08:00:00 to 2018-12-01 07:55:00\n",
      "Data columns (total 7 columns):\n",
      "OPR_DT           96192 non-null object\n",
      "OPR_HR           96192 non-null int64\n",
      "LMP_TYPE         96192 non-null object\n",
      "XML_DATA_ITEM    96192 non-null object\n",
      "VALUE            96192 non-null float64\n",
      "OPR_INTERVAL     96192 non-null int64\n",
      "date             96192 non-null datetime64[ns]\n",
      "dtypes: datetime64[ns](1), float64(1), int64(2), object(3)\n",
      "memory usage: 5.9+ MB\n"
     ]
    }
   ],
   "source": [
    "dfp.info() # as desired, the date is now the DateTime object (perfect for time series plotting)"
   ]
  },
  {
   "cell_type": "code",
   "execution_count": 52,
   "metadata": {},
   "outputs": [
    {
     "data": {
      "text/html": [
       "<div>\n",
       "<style scoped>\n",
       "    .dataframe tbody tr th:only-of-type {\n",
       "        vertical-align: middle;\n",
       "    }\n",
       "\n",
       "    .dataframe tbody tr th {\n",
       "        vertical-align: top;\n",
       "    }\n",
       "\n",
       "    .dataframe thead th {\n",
       "        text-align: right;\n",
       "    }\n",
       "</style>\n",
       "<table border=\"1\" class=\"dataframe\">\n",
       "  <thead>\n",
       "    <tr style=\"text-align: right;\">\n",
       "      <th></th>\n",
       "      <th>hour</th>\n",
       "      <th>price</th>\n",
       "      <th>interval</th>\n",
       "      <th>day</th>\n",
       "      <th>weekday</th>\n",
       "    </tr>\n",
       "    <tr>\n",
       "      <th>date</th>\n",
       "      <th></th>\n",
       "      <th></th>\n",
       "      <th></th>\n",
       "      <th></th>\n",
       "      <th></th>\n",
       "    </tr>\n",
       "  </thead>\n",
       "  <tbody>\n",
       "    <tr>\n",
       "      <th>2018-01-01 08:00:00</th>\n",
       "      <td>1</td>\n",
       "      <td>38.89844</td>\n",
       "      <td>1</td>\n",
       "      <td>2018-01-01</td>\n",
       "      <td>Monday</td>\n",
       "    </tr>\n",
       "    <tr>\n",
       "      <th>2018-01-01 08:05:00</th>\n",
       "      <td>1</td>\n",
       "      <td>53.66772</td>\n",
       "      <td>2</td>\n",
       "      <td>2018-01-01</td>\n",
       "      <td>Monday</td>\n",
       "    </tr>\n",
       "    <tr>\n",
       "      <th>2018-01-01 08:10:00</th>\n",
       "      <td>1</td>\n",
       "      <td>53.66772</td>\n",
       "      <td>3</td>\n",
       "      <td>2018-01-01</td>\n",
       "      <td>Monday</td>\n",
       "    </tr>\n",
       "    <tr>\n",
       "      <th>2018-01-01 08:15:00</th>\n",
       "      <td>1</td>\n",
       "      <td>53.57858</td>\n",
       "      <td>4</td>\n",
       "      <td>2018-01-01</td>\n",
       "      <td>Monday</td>\n",
       "    </tr>\n",
       "    <tr>\n",
       "      <th>2018-01-01 08:20:00</th>\n",
       "      <td>1</td>\n",
       "      <td>53.90588</td>\n",
       "      <td>5</td>\n",
       "      <td>2018-01-01</td>\n",
       "      <td>Monday</td>\n",
       "    </tr>\n",
       "  </tbody>\n",
       "</table>\n",
       "</div>"
      ],
      "text/plain": [
       "                     hour     price  interval        day weekday\n",
       "date                                                            \n",
       "2018-01-01 08:00:00     1  38.89844         1 2018-01-01  Monday\n",
       "2018-01-01 08:05:00     1  53.66772         2 2018-01-01  Monday\n",
       "2018-01-01 08:10:00     1  53.66772         3 2018-01-01  Monday\n",
       "2018-01-01 08:15:00     1  53.57858         4 2018-01-01  Monday\n",
       "2018-01-01 08:20:00     1  53.90588         5 2018-01-01  Monday"
      ]
     },
     "execution_count": 52,
     "metadata": {},
     "output_type": "execute_result"
    }
   ],
   "source": [
    "dfp= dfp.drop(['OPR_DT','LMP_TYPE','XML_DATA_ITEM'],axis=1)\n",
    "dfp.columns= ['hour','price','interval','day']\n",
    "dfp['weekday']= dfp.day.dt.weekday_name\n",
    "dfp.index.names= ['date']\n",
    "\n",
    "dfp.head() # "
   ]
  },
  {
   "cell_type": "code",
   "execution_count": null,
   "metadata": {},
   "outputs": [],
   "source": []
  },
  {
   "cell_type": "code",
   "execution_count": 53,
   "metadata": {},
   "outputs": [
    {
     "data": {
      "text/plain": [
       "<matplotlib.axes._subplots.AxesSubplot at 0x21b963f1b38>"
      ]
     },
     "execution_count": 53,
     "metadata": {},
     "output_type": "execute_result"
    },
    {
     "data": {
      "image/png": "[encoded data removed]",
      "text/plain": [
       "<Figure size 432x288 with 1 Axes>"
      ]
     },
     "metadata": {
      "needs_background": "light"
     },
     "output_type": "display_data"
    }
   ],
   "source": [
    "# import matplotlib.pyplot as plt # shocking grid instability due to price peaks \n",
    "dfp['price'].plot()\n",
    "# plt.show()"
   ]
  },
  {
   "cell_type": "code",
   "execution_count": 54,
   "metadata": {},
   "outputs": [
    {
     "data": {
      "text/plain": [
       "<matplotlib.axes._subplots.AxesSubplot at 0x21b990d9048>"
      ]
     },
     "execution_count": 54,
     "metadata": {},
     "output_type": "execute_result"
    },
    {
     "data": {
      "image/png": "[encoded data removed]",
      "text/plain": [
       "<Figure size 432x288 with 1 Axes>"
      ]
     },
     "metadata": {
      "needs_background": "light"
     },
     "output_type": "display_data"
    }
   ],
   "source": [
    "Feb= dfp.loc['2018-02-01':'2018-02-28'] # so a peak of $140/MWh is 14 cents\n",
    "Feb['price'].plot()"
   ]
  },
  {
   "cell_type": "code",
   "execution_count": 55,
   "metadata": {},
   "outputs": [
    {
     "data": {
      "text/plain": [
       "<matplotlib.axes._subplots.AxesSubplot at 0x21b9a487e80>"
      ]
     },
     "execution_count": 55,
     "metadata": {},
     "output_type": "execute_result"
    },
    {
     "data": {
      "image/png": "[encoded data removed]",
      "text/plain": [
       "<Figure size 432x288 with 1 Axes>"
      ]
     },
     "metadata": {
      "needs_background": "light"
     },
     "output_type": "display_data"
    }
   ],
   "source": [
    "Mar= dfp.loc['2018-03-01':'2018-03-31'] # so a peak of $140/MWh is 14 cents\n",
    "Feb['price'].plot()\n",
    "        "
   ]
  },
  {
   "cell_type": "code",
   "execution_count": 56,
   "metadata": {},
   "outputs": [
    {
     "data": {
      "text/plain": [
       "<matplotlib.axes._subplots.AxesSubplot at 0x21b990e0a90>"
      ]
     },
     "execution_count": 56,
     "metadata": {},
     "output_type": "execute_result"
    },
    {
     "data": {
      "image/png": "[encoded data removed]",
      "text/plain": [
       "<Figure size 432x288 with 1 Axes>"
      ]
     },
     "metadata": {
      "needs_background": "light"
     },
     "output_type": "display_data"
    }
   ],
   "source": [
    "April= dfp.loc['2018-04-01':'2018-04-30'] # so a peak of $140/MWh is 14 cents\n",
    "Feb['price'].plot()"
   ]
  },
  {
   "cell_type": "code",
   "execution_count": 58,
   "metadata": {},
   "outputs": [
    {
     "data": {
      "text/plain": [
       "<matplotlib.axes._subplots.AxesSubplot at 0x21b9ac86080>"
      ]
     },
     "execution_count": 58,
     "metadata": {},
     "output_type": "execute_result"
    },
    {
     "data": {
      "image/png": "[encoded data removed]",
      "text/plain": [
       "<Figure size 432x288 with 1 Axes>"
      ]
     },
     "metadata": {
      "needs_background": "light"
     },
     "output_type": "display_data"
    }
   ],
   "source": [
    "May= dfp.loc['2018-05-01':'2018-05-31'] # so a peak of $140/MWh is 14 cents\n",
    "May['price'].plot()"
   ]
  },
  {
   "cell_type": "code",
   "execution_count": 59,
   "metadata": {},
   "outputs": [
    {
     "data": {
      "text/plain": [
       "<matplotlib.axes._subplots.AxesSubplot at 0x21b9bf27358>"
      ]
     },
     "execution_count": 59,
     "metadata": {},
     "output_type": "execute_result"
    },
    {
     "data": {
      "image/png": "[encoded data removed]",
      "text/plain": [
       "<Figure size 432x288 with 1 Axes>"
      ]
     },
     "metadata": {
      "needs_background": "light"
     },
     "output_type": "display_data"
    }
   ],
   "source": [
    "June= dfp.loc['2018-06-01':'2018-06-30'] # so a peak of $140/MWh is 14 cents\n",
    "June['price'].plot()"
   ]
  },
  {
   "cell_type": "code",
   "execution_count": null,
   "metadata": {},
   "outputs": [],
   "source": []
  },
  {
   "cell_type": "code",
   "execution_count": 61,
   "metadata": {},
   "outputs": [
    {
     "data": {
      "text/plain": [
       "<matplotlib.axes._subplots.AxesSubplot at 0x21b9c245eb8>"
      ]
     },
     "execution_count": 61,
     "metadata": {},
     "output_type": "execute_result"
    },
    {
     "data": {
      "image/png": "[encoded data removed]",
      "text/plain": [
       "<Figure size 432x288 with 1 Axes>"
      ]
     },
     "metadata": {
      "needs_background": "light"
     },
     "output_type": "display_data"
    }
   ],
   "source": [
    "dfp.price.plot(kind='hist', bins=20) # the outliers at 1000 (50x the normal price) spoil the display\n"
   ]
  },
  {
   "cell_type": "code",
   "execution_count": 63,
   "metadata": {},
   "outputs": [
    {
     "data": {
      "text/plain": [
       "<matplotlib.axes._subplots.AxesSubplot at 0x21b9c218908>"
      ]
     },
     "execution_count": 63,
     "metadata": {},
     "output_type": "execute_result"
    },
    {
     "data": {
      "image/png": "[encoded data removed]",
      "text/plain": [
       "<Figure size 432x288 with 1 Axes>"
      ]
     },
     "metadata": {
      "needs_background": "light"
     },
     "output_type": "display_data"
    }
   ],
   "source": [
    "dfp.boxplot(column= 'price', by= 'hour')\n"
   ]
  },
  {
   "cell_type": "code",
   "execution_count": 64,
   "metadata": {},
   "outputs": [
    {
     "data": {
      "text/plain": [
       "(96192, 5)"
      ]
     },
     "execution_count": 64,
     "metadata": {},
     "output_type": "execute_result"
    }
   ],
   "source": [
    "dfp.columns\n",
    "dfp.shape"
   ]
  },
  {
   "cell_type": "code",
   "execution_count": 76,
   "metadata": {},
   "outputs": [
    {
     "data": {
      "text/plain": [
       "(1181, 5)"
      ]
     },
     "execution_count": 76,
     "metadata": {},
     "output_type": "execute_result"
    }
   ],
   "source": [
    "spikep= dfp[dfp.price > 100]  # so we have 1.2% frequency of spike prices, although optically they dominate the plots!\n",
    "spikep.shape"
   ]
  },
  {
   "cell_type": "code",
   "execution_count": 77,
   "metadata": {},
   "outputs": [
    {
     "data": {
      "text/plain": [
       "(90749, 5)"
      ]
     },
     "execution_count": 77,
     "metadata": {},
     "output_type": "execute_result"
    }
   ],
   "source": [
    "normalp= dfp[(dfp.price < 100) & (dfp.price > 0)] # \n",
    "normalp.shape"
   ]
  },
  {
   "cell_type": "code",
   "execution_count": 99,
   "metadata": {},
   "outputs": [
    {
     "data": {
      "text/plain": [
       "(2830, 5)"
      ]
     },
     "execution_count": 99,
     "metadata": {},
     "output_type": "execute_result"
    }
   ],
   "source": [
    "negativep= dfp[(dfp.price < 0) & (dfp.price > -30)] # so almost 3% of the time we have a negative price or zero\n",
    "negativep.shape   # and just four times we have prices more negative than 50"
   ]
  },
  {
   "cell_type": "code",
   "execution_count": 100,
   "metadata": {},
   "outputs": [
    {
     "data": {
      "text/plain": [
       "<matplotlib.axes._subplots.AxesSubplot at 0x21b9fe9d7f0>"
      ]
     },
     "execution_count": 100,
     "metadata": {},
     "output_type": "execute_result"
    },
    {
     "data": {
      "image/png": "[encoded data removed]",
      "text/plain": [
       "<Figure size 432x288 with 1 Axes>"
      ]
     },
     "metadata": {
      "needs_background": "light"
     },
     "output_type": "display_data"
    }
   ],
   "source": [
    "normalp.boxplot(column= 'price', by= 'hour')  # below uses showfliers=False to exclude the outliers being displayed\n"
   ]
  },
  {
   "cell_type": "code",
   "execution_count": 101,
   "metadata": {},
   "outputs": [
    {
     "data": {
      "text/plain": [
       "<matplotlib.axes._subplots.AxesSubplot at 0x21b9ff0c400>"
      ]
     },
     "execution_count": 101,
     "metadata": {},
     "output_type": "execute_result"
    },
    {
     "data": {
      "image/png": "[encoded data removed]",
      "text/plain": [
       "<Figure size 432x288 with 1 Axes>"
      ]
     },
     "metadata": {
      "needs_background": "light"
     },
     "output_type": "display_data"
    }
   ],
   "source": [
    "normalp.boxplot(column= 'price', by= 'hour',showfliers=False)  # showfliers=False\n"
   ]
  },
  {
   "cell_type": "code",
   "execution_count": 102,
   "metadata": {},
   "outputs": [
    {
     "data": {
      "text/html": [
       "<div>\n",
       "<style scoped>\n",
       "    .dataframe tbody tr th:only-of-type {\n",
       "        vertical-align: middle;\n",
       "    }\n",
       "\n",
       "    .dataframe tbody tr th {\n",
       "        vertical-align: top;\n",
       "    }\n",
       "\n",
       "    .dataframe thead th {\n",
       "        text-align: right;\n",
       "    }\n",
       "</style>\n",
       "<table border=\"1\" class=\"dataframe\">\n",
       "  <thead>\n",
       "    <tr style=\"text-align: right;\">\n",
       "      <th></th>\n",
       "      <th>price</th>\n",
       "      <th>interval</th>\n",
       "      <th>day</th>\n",
       "      <th>weekday</th>\n",
       "    </tr>\n",
       "    <tr>\n",
       "      <th>hour</th>\n",
       "      <th></th>\n",
       "      <th></th>\n",
       "      <th></th>\n",
       "      <th></th>\n",
       "    </tr>\n",
       "  </thead>\n",
       "  <tbody>\n",
       "    <tr>\n",
       "      <th>1</th>\n",
       "      <td>3955</td>\n",
       "      <td>3955</td>\n",
       "      <td>3955</td>\n",
       "      <td>3955</td>\n",
       "    </tr>\n",
       "    <tr>\n",
       "      <th>2</th>\n",
       "      <td>3946</td>\n",
       "      <td>3946</td>\n",
       "      <td>3946</td>\n",
       "      <td>3946</td>\n",
       "    </tr>\n",
       "    <tr>\n",
       "      <th>3</th>\n",
       "      <td>3957</td>\n",
       "      <td>3957</td>\n",
       "      <td>3957</td>\n",
       "      <td>3957</td>\n",
       "    </tr>\n",
       "    <tr>\n",
       "      <th>4</th>\n",
       "      <td>3967</td>\n",
       "      <td>3967</td>\n",
       "      <td>3967</td>\n",
       "      <td>3967</td>\n",
       "    </tr>\n",
       "    <tr>\n",
       "      <th>5</th>\n",
       "      <td>4002</td>\n",
       "      <td>4002</td>\n",
       "      <td>4002</td>\n",
       "      <td>4002</td>\n",
       "    </tr>\n",
       "    <tr>\n",
       "      <th>6</th>\n",
       "      <td>3984</td>\n",
       "      <td>3984</td>\n",
       "      <td>3984</td>\n",
       "      <td>3984</td>\n",
       "    </tr>\n",
       "    <tr>\n",
       "      <th>7</th>\n",
       "      <td>3965</td>\n",
       "      <td>3965</td>\n",
       "      <td>3965</td>\n",
       "      <td>3965</td>\n",
       "    </tr>\n",
       "    <tr>\n",
       "      <th>8</th>\n",
       "      <td>3791</td>\n",
       "      <td>3791</td>\n",
       "      <td>3791</td>\n",
       "      <td>3791</td>\n",
       "    </tr>\n",
       "    <tr>\n",
       "      <th>9</th>\n",
       "      <td>3590</td>\n",
       "      <td>3590</td>\n",
       "      <td>3590</td>\n",
       "      <td>3590</td>\n",
       "    </tr>\n",
       "    <tr>\n",
       "      <th>10</th>\n",
       "      <td>3645</td>\n",
       "      <td>3645</td>\n",
       "      <td>3645</td>\n",
       "      <td>3645</td>\n",
       "    </tr>\n",
       "    <tr>\n",
       "      <th>11</th>\n",
       "      <td>3629</td>\n",
       "      <td>3629</td>\n",
       "      <td>3629</td>\n",
       "      <td>3629</td>\n",
       "    </tr>\n",
       "    <tr>\n",
       "      <th>12</th>\n",
       "      <td>3633</td>\n",
       "      <td>3633</td>\n",
       "      <td>3633</td>\n",
       "      <td>3633</td>\n",
       "    </tr>\n",
       "    <tr>\n",
       "      <th>13</th>\n",
       "      <td>3579</td>\n",
       "      <td>3579</td>\n",
       "      <td>3579</td>\n",
       "      <td>3579</td>\n",
       "    </tr>\n",
       "    <tr>\n",
       "      <th>14</th>\n",
       "      <td>3512</td>\n",
       "      <td>3512</td>\n",
       "      <td>3512</td>\n",
       "      <td>3512</td>\n",
       "    </tr>\n",
       "    <tr>\n",
       "      <th>15</th>\n",
       "      <td>3443</td>\n",
       "      <td>3443</td>\n",
       "      <td>3443</td>\n",
       "      <td>3443</td>\n",
       "    </tr>\n",
       "    <tr>\n",
       "      <th>16</th>\n",
       "      <td>3475</td>\n",
       "      <td>3475</td>\n",
       "      <td>3475</td>\n",
       "      <td>3475</td>\n",
       "    </tr>\n",
       "    <tr>\n",
       "      <th>17</th>\n",
       "      <td>3546</td>\n",
       "      <td>3546</td>\n",
       "      <td>3546</td>\n",
       "      <td>3546</td>\n",
       "    </tr>\n",
       "    <tr>\n",
       "      <th>18</th>\n",
       "      <td>3650</td>\n",
       "      <td>3650</td>\n",
       "      <td>3650</td>\n",
       "      <td>3650</td>\n",
       "    </tr>\n",
       "    <tr>\n",
       "      <th>19</th>\n",
       "      <td>3776</td>\n",
       "      <td>3776</td>\n",
       "      <td>3776</td>\n",
       "      <td>3776</td>\n",
       "    </tr>\n",
       "    <tr>\n",
       "      <th>20</th>\n",
       "      <td>3859</td>\n",
       "      <td>3859</td>\n",
       "      <td>3859</td>\n",
       "      <td>3859</td>\n",
       "    </tr>\n",
       "    <tr>\n",
       "      <th>21</th>\n",
       "      <td>3925</td>\n",
       "      <td>3925</td>\n",
       "      <td>3925</td>\n",
       "      <td>3925</td>\n",
       "    </tr>\n",
       "    <tr>\n",
       "      <th>22</th>\n",
       "      <td>3954</td>\n",
       "      <td>3954</td>\n",
       "      <td>3954</td>\n",
       "      <td>3954</td>\n",
       "    </tr>\n",
       "    <tr>\n",
       "      <th>23</th>\n",
       "      <td>3971</td>\n",
       "      <td>3971</td>\n",
       "      <td>3971</td>\n",
       "      <td>3971</td>\n",
       "    </tr>\n",
       "    <tr>\n",
       "      <th>24</th>\n",
       "      <td>3984</td>\n",
       "      <td>3984</td>\n",
       "      <td>3984</td>\n",
       "      <td>3984</td>\n",
       "    </tr>\n",
       "    <tr>\n",
       "      <th>25</th>\n",
       "      <td>11</td>\n",
       "      <td>11</td>\n",
       "      <td>11</td>\n",
       "      <td>11</td>\n",
       "    </tr>\n",
       "  </tbody>\n",
       "</table>\n",
       "</div>"
      ],
      "text/plain": [
       "      price  interval   day  weekday\n",
       "hour                                \n",
       "1      3955      3955  3955     3955\n",
       "2      3946      3946  3946     3946\n",
       "3      3957      3957  3957     3957\n",
       "4      3967      3967  3967     3967\n",
       "5      4002      4002  4002     4002\n",
       "6      3984      3984  3984     3984\n",
       "7      3965      3965  3965     3965\n",
       "8      3791      3791  3791     3791\n",
       "9      3590      3590  3590     3590\n",
       "10     3645      3645  3645     3645\n",
       "11     3629      3629  3629     3629\n",
       "12     3633      3633  3633     3633\n",
       "13     3579      3579  3579     3579\n",
       "14     3512      3512  3512     3512\n",
       "15     3443      3443  3443     3443\n",
       "16     3475      3475  3475     3475\n",
       "17     3546      3546  3546     3546\n",
       "18     3650      3650  3650     3650\n",
       "19     3776      3776  3776     3776\n",
       "20     3859      3859  3859     3859\n",
       "21     3925      3925  3925     3925\n",
       "22     3954      3954  3954     3954\n",
       "23     3971      3971  3971     3971\n",
       "24     3984      3984  3984     3984\n",
       "25       11        11    11       11"
      ]
     },
     "execution_count": 102,
     "metadata": {},
     "output_type": "execute_result"
    }
   ],
   "source": [
    "g= normalp.groupby('hour')\n",
    "g.count()\n",
    "\n",
    "# This seems to be saying that the three hours in November with the most frequent low prices are from 10am to 3pm\n",
    "# But these 172 five-minute intervals average only 29 minutes a day of prices below $20/MWh\n",
    "# Level 1 charger is normally 2 hours of charging: MAY NEED TO INCREASE THRESHOLD TO 3 CENTS/$30/MWh\n",
    "# BIG QUESTION IS WHETHER THE DIFFERENCE FOR PEAK EVENING PRICES EXCEEDS 25 CENTS/KWH, OF $45/MWh (see p.17 of \"Charging Smart\")\n",
    "# Counts can be compared to 30 days x 12 Intervals = 360 Intervals/month"
   ]
  },
  {
   "cell_type": "code",
   "execution_count": 103,
   "metadata": {},
   "outputs": [
    {
     "data": {
      "text/html": [
       "<div>\n",
       "<style scoped>\n",
       "    .dataframe tbody tr th:only-of-type {\n",
       "        vertical-align: middle;\n",
       "    }\n",
       "\n",
       "    .dataframe tbody tr th {\n",
       "        vertical-align: top;\n",
       "    }\n",
       "\n",
       "    .dataframe thead th {\n",
       "        text-align: right;\n",
       "    }\n",
       "</style>\n",
       "<table border=\"1\" class=\"dataframe\">\n",
       "  <thead>\n",
       "    <tr style=\"text-align: right;\">\n",
       "      <th></th>\n",
       "      <th>price</th>\n",
       "      <th>interval</th>\n",
       "    </tr>\n",
       "    <tr>\n",
       "      <th>hour</th>\n",
       "      <th></th>\n",
       "      <th></th>\n",
       "    </tr>\n",
       "  </thead>\n",
       "  <tbody>\n",
       "    <tr>\n",
       "      <th>1</th>\n",
       "      <td>30.228130</td>\n",
       "      <td>6.506953</td>\n",
       "    </tr>\n",
       "    <tr>\n",
       "      <th>2</th>\n",
       "      <td>28.826204</td>\n",
       "      <td>6.505575</td>\n",
       "    </tr>\n",
       "    <tr>\n",
       "      <th>3</th>\n",
       "      <td>27.460348</td>\n",
       "      <td>6.504170</td>\n",
       "    </tr>\n",
       "    <tr>\n",
       "      <th>4</th>\n",
       "      <td>27.262570</td>\n",
       "      <td>6.497857</td>\n",
       "    </tr>\n",
       "    <tr>\n",
       "      <th>5</th>\n",
       "      <td>28.039245</td>\n",
       "      <td>6.506747</td>\n",
       "    </tr>\n",
       "    <tr>\n",
       "      <th>6</th>\n",
       "      <td>28.265374</td>\n",
       "      <td>6.494729</td>\n",
       "    </tr>\n",
       "    <tr>\n",
       "      <th>7</th>\n",
       "      <td>30.031032</td>\n",
       "      <td>6.482219</td>\n",
       "    </tr>\n",
       "    <tr>\n",
       "      <th>8</th>\n",
       "      <td>28.869258</td>\n",
       "      <td>6.420733</td>\n",
       "    </tr>\n",
       "    <tr>\n",
       "      <th>9</th>\n",
       "      <td>25.219305</td>\n",
       "      <td>6.413092</td>\n",
       "    </tr>\n",
       "    <tr>\n",
       "      <th>10</th>\n",
       "      <td>24.830230</td>\n",
       "      <td>6.482030</td>\n",
       "    </tr>\n",
       "    <tr>\n",
       "      <th>11</th>\n",
       "      <td>25.028045</td>\n",
       "      <td>6.486911</td>\n",
       "    </tr>\n",
       "    <tr>\n",
       "      <th>12</th>\n",
       "      <td>24.779623</td>\n",
       "      <td>6.489403</td>\n",
       "    </tr>\n",
       "    <tr>\n",
       "      <th>13</th>\n",
       "      <td>25.215522</td>\n",
       "      <td>6.488684</td>\n",
       "    </tr>\n",
       "    <tr>\n",
       "      <th>14</th>\n",
       "      <td>26.240042</td>\n",
       "      <td>6.487756</td>\n",
       "    </tr>\n",
       "    <tr>\n",
       "      <th>15</th>\n",
       "      <td>27.200047</td>\n",
       "      <td>6.496079</td>\n",
       "    </tr>\n",
       "    <tr>\n",
       "      <th>16</th>\n",
       "      <td>28.502394</td>\n",
       "      <td>6.565180</td>\n",
       "    </tr>\n",
       "    <tr>\n",
       "      <th>17</th>\n",
       "      <td>29.904260</td>\n",
       "      <td>6.562324</td>\n",
       "    </tr>\n",
       "    <tr>\n",
       "      <th>18</th>\n",
       "      <td>32.131824</td>\n",
       "      <td>6.509589</td>\n",
       "    </tr>\n",
       "    <tr>\n",
       "      <th>19</th>\n",
       "      <td>34.825770</td>\n",
       "      <td>6.477754</td>\n",
       "    </tr>\n",
       "    <tr>\n",
       "      <th>20</th>\n",
       "      <td>36.671239</td>\n",
       "      <td>6.508681</td>\n",
       "    </tr>\n",
       "    <tr>\n",
       "      <th>21</th>\n",
       "      <td>35.797573</td>\n",
       "      <td>6.522548</td>\n",
       "    </tr>\n",
       "    <tr>\n",
       "      <th>22</th>\n",
       "      <td>33.499660</td>\n",
       "      <td>6.515175</td>\n",
       "    </tr>\n",
       "    <tr>\n",
       "      <th>23</th>\n",
       "      <td>33.121914</td>\n",
       "      <td>6.527827</td>\n",
       "    </tr>\n",
       "    <tr>\n",
       "      <th>24</th>\n",
       "      <td>29.974136</td>\n",
       "      <td>6.501506</td>\n",
       "    </tr>\n",
       "    <tr>\n",
       "      <th>25</th>\n",
       "      <td>33.849012</td>\n",
       "      <td>7.000000</td>\n",
       "    </tr>\n",
       "  </tbody>\n",
       "</table>\n",
       "</div>"
      ],
      "text/plain": [
       "          price  interval\n",
       "hour                     \n",
       "1     30.228130  6.506953\n",
       "2     28.826204  6.505575\n",
       "3     27.460348  6.504170\n",
       "4     27.262570  6.497857\n",
       "5     28.039245  6.506747\n",
       "6     28.265374  6.494729\n",
       "7     30.031032  6.482219\n",
       "8     28.869258  6.420733\n",
       "9     25.219305  6.413092\n",
       "10    24.830230  6.482030\n",
       "11    25.028045  6.486911\n",
       "12    24.779623  6.489403\n",
       "13    25.215522  6.488684\n",
       "14    26.240042  6.487756\n",
       "15    27.200047  6.496079\n",
       "16    28.502394  6.565180\n",
       "17    29.904260  6.562324\n",
       "18    32.131824  6.509589\n",
       "19    34.825770  6.477754\n",
       "20    36.671239  6.508681\n",
       "21    35.797573  6.522548\n",
       "22    33.499660  6.515175\n",
       "23    33.121914  6.527827\n",
       "24    29.974136  6.501506\n",
       "25    33.849012  7.000000"
      ]
     },
     "execution_count": 103,
     "metadata": {},
     "output_type": "execute_result"
    }
   ],
   "source": [
    "normalp.groupby('hour').mean()\n",
    "# The lowest average prices are from 9am to 4pm, which is when Solar is strongest."
   ]
  },
  {
   "cell_type": "code",
   "execution_count": 104,
   "metadata": {},
   "outputs": [
    {
     "data": {
      "text/plain": [
       "<matplotlib.axes._subplots.AxesSubplot at 0x21b9ff235c0>"
      ]
     },
     "execution_count": 104,
     "metadata": {},
     "output_type": "execute_result"
    },
    {
     "data": {
      "image/png": "[encoded data removed]",
      "text/plain": [
       "<Figure size 432x288 with 1 Axes>"
      ]
     },
     "metadata": {
      "needs_background": "light"
     },
     "output_type": "display_data"
    }
   ],
   "source": [
    "spikep.price.plot(kind='hist', bins=30)"
   ]
  },
  {
   "cell_type": "code",
   "execution_count": 105,
   "metadata": {},
   "outputs": [
    {
     "data": {
      "text/plain": [
       "<matplotlib.axes._subplots.AxesSubplot at 0x21ba0417898>"
      ]
     },
     "execution_count": 105,
     "metadata": {},
     "output_type": "execute_result"
    },
    {
     "data": {
      "image/png": "[encoded data removed]",
      "text/plain": [
       "<Figure size 432x288 with 1 Axes>"
      ]
     },
     "metadata": {
      "needs_background": "light"
     },
     "output_type": "display_data"
    }
   ],
   "source": [
    "normalp.price.plot(kind='hist', bins=30)  # No showfliers= False !!"
   ]
  },
  {
   "cell_type": "code",
   "execution_count": 106,
   "metadata": {},
   "outputs": [
    {
     "data": {
      "text/plain": [
       "<matplotlib.axes._subplots.AxesSubplot at 0x21ba04b3dd8>"
      ]
     },
     "execution_count": 106,
     "metadata": {},
     "output_type": "execute_result"
    },
    {
     "data": {
      "image/png": "[encoded data removed]",
      "text/plain": [
       "<Figure size 432x288 with 1 Axes>"
      ]
     },
     "metadata": {
      "needs_background": "light"
     },
     "output_type": "display_data"
    }
   ],
   "source": [
    "negativep.price.plot(kind='hist', bins=30) # excludes two outliers below -50 and an additional two below -30"
   ]
  },
  {
   "cell_type": "markdown",
   "metadata": {},
   "source": [
    "WHAT IS THE QUESTION: NEED TO LIMIT HOURS TO PGE NIGHT RANGE AND COMPARE 24 INTERVALS VS 12! COMPARE PRICE DELTA"
   ]
  },
  {
   "cell_type": "code",
   "execution_count": 109,
   "metadata": {},
   "outputs": [
    {
     "data": {
      "text/plain": [
       "<matplotlib.axes._subplots.AxesSubplot at 0x21ba04e9b00>"
      ]
     },
     "execution_count": 109,
     "metadata": {},
     "output_type": "execute_result"
    },
    {
     "data": {
      "image/png": "[encoded data removed]",
      "text/plain": [
       "<Figure size 432x288 with 1 Axes>"
      ]
     },
     "metadata": {
      "needs_background": "light"
     },
     "output_type": "display_data"
    }
   ],
   "source": [
    "normalp.price.plot(kind='hist', bins=30, cumulative= True)\n",
    "# Two hours per day average for a Level One EV charger is 24 intervals x 30 days = 720: THRESHOLD must be increased!!!\n",
    "# Add a horizontal red line at 720 !!\n",
    "# Define a function that computes the average price (eg still below 2 cents?)"
   ]
  },
  {
   "cell_type": "code",
   "execution_count": null,
   "metadata": {},
   "outputs": [],
   "source": []
  },
  {
   "cell_type": "code",
   "execution_count": null,
   "metadata": {},
   "outputs": [],
   "source": []
  },
  {
   "cell_type": "code",
   "execution_count": 110,
   "metadata": {},
   "outputs": [],
   "source": [
    "# this function returns PG&E's designation of Peak (P), Off-Peak (OP), or Standard (S) EV pricing according to the hour of day\n",
    "def peak(hour): \n",
    "    if hour in [24,1,2,3,4,5,6,7]:\n",
    "        return 'OP'\n",
    "    elif hour in [15,16,17,18,19,20,21,22]:\n",
    "        return 'P'\n",
    "    else:\n",
    "        return 'S'\n",
    "    \n",
    "    "
   ]
  },
  {
   "cell_type": "markdown",
   "metadata": {},
   "source": [
    "COMPREHENSIVE APPROACH TO PG&E SCHEDULE\n",
    "if date is a public holiday (saved as a list for 2018) OR day is weekend (Saturday/Sunday) then Peak is 3-7pm (rest Off Peak)\n",
    "if day is a weekday (and not a holiday) then:\n",
    "Peak is 2-9pm (hours 14 to 21)...list(range(14,22)\n",
    "Partial Peak is 7am to 2pm and 9-11pm: hours 7-14 & 21-23: hour in list(range(7,15)) + list(range(21,24))\n",
    "Otherwise (ELSE) 'OP' which is Off-Peak"
   ]
  },
  {
   "cell_type": "code",
   "execution_count": 130,
   "metadata": {},
   "outputs": [
    {
     "ename": "SyntaxError",
     "evalue": "invalid token (<ipython-input-130-9bffa2072bad>, line 2)",
     "output_type": "error",
     "traceback": [
      "\u001b[1;36m  File \u001b[1;32m\"<ipython-input-130-9bffa2072bad>\"\u001b[1;36m, line \u001b[1;32m2\u001b[0m\n\u001b[1;33m    holidays = [2018-01-01, 2018-12-25] # complete the list of public holidays\u001b[0m\n\u001b[1;37m                      ^\u001b[0m\n\u001b[1;31mSyntaxError\u001b[0m\u001b[1;31m:\u001b[0m invalid token\n"
     ]
    }
   ],
   "source": [
    "def PGE(hour,day,weekday):\n",
    "    holidays = [2018-01-01, 2018-12-25] # complete the list of public holidays\n",
    "    if (day in holidays)|(weekday in ['Saturday','Sunday']:\n",
    "      if hour in list(range(15,1)) \n",
    "        return 'P'\n",
    "      else:   \n",
    "        return 'OP'  \n",
    "    elif hour in list(range(14,21)):\n",
    "      return'P'   \n",
    "    elif hour in list(range(7,14) + list(range(21,22):\n",
    "      return 'PP'    \n",
    "    else:\n",
    "      return 'OP'                                   \n"
   ]
  },
  {
   "cell_type": "markdown",
   "metadata": {},
   "source": []
  },
  {
   "cell_type": "markdown",
   "metadata": {},
   "source": []
  },
  {
   "cell_type": "code",
   "execution_count": null,
   "metadata": {},
   "outputs": [],
   "source": []
  },
  {
   "cell_type": "code",
   "execution_count": null,
   "metadata": {},
   "outputs": [],
   "source": [
    "this function returns PG&E's designation of Peak (P), Off-Peak (OP), or Standard (S) EV pricing according to the hour of day\n",
    "#def peak(hour): \n",
    "    if hour in [list(range(1,8) + [24]]:\n",
    "       return 'OP'\n",
    "   elif hour in [list(range(15,23)]:\n",
    "        return 'P'\n",
    "    else:\n",
    "        return 'S'\n",
    "   \n",
    "# list comprehension version? see below"
   ]
  },
  {
   "cell_type": "code",
   "execution_count": null,
   "metadata": {},
   "outputs": [],
   "source": [
    "d= {'OP':list(range(1,8))+ [24], 'P':list(range(15,23)),'S':list(range(8,15)) + list(range(22,24))}\n",
    "def PGE(hour):\n",
    "    for key,value in d.items:\n",
    "        if hour in d.value  #FIX THIS\n",
    "            return d.key\n",
    "print(PGE(3))"
   ]
  },
  {
   "cell_type": "code",
   "execution_count": 113,
   "metadata": {},
   "outputs": [
    {
     "data": {
      "text/plain": [
       "'P'"
      ]
     },
     "execution_count": 113,
     "metadata": {},
     "output_type": "execute_result"
    }
   ],
   "source": [
    "peak(1)\n",
    "peak(16)"
   ]
  },
  {
   "cell_type": "code",
   "execution_count": 114,
   "metadata": {},
   "outputs": [
    {
     "data": {
      "text/plain": [
       "date\n",
       "2018-12-01 07:35:00    OP\n",
       "2018-12-01 07:40:00    OP\n",
       "2018-12-01 07:45:00    OP\n",
       "2018-12-01 07:50:00    OP\n",
       "2018-12-01 07:55:00    OP\n",
       "Name: PGE, dtype: object"
      ]
     },
     "execution_count": 114,
     "metadata": {},
     "output_type": "execute_result"
    }
   ],
   "source": [
    "dfp['PGE']= dfp.hour.apply(peak)\n",
    "dfp.PGE.head()\n",
    "dfp.PGE.tail()"
   ]
  },
  {
   "cell_type": "code",
   "execution_count": 115,
   "metadata": {},
   "outputs": [
    {
     "data": {
      "text/html": [
       "<div>\n",
       "<style scoped>\n",
       "    .dataframe tbody tr th:only-of-type {\n",
       "        vertical-align: middle;\n",
       "    }\n",
       "\n",
       "    .dataframe tbody tr th {\n",
       "        vertical-align: top;\n",
       "    }\n",
       "\n",
       "    .dataframe thead th {\n",
       "        text-align: right;\n",
       "    }\n",
       "</style>\n",
       "<table border=\"1\" class=\"dataframe\">\n",
       "  <thead>\n",
       "    <tr style=\"text-align: right;\">\n",
       "      <th></th>\n",
       "      <th>hour</th>\n",
       "      <th>price</th>\n",
       "      <th>interval</th>\n",
       "      <th>day</th>\n",
       "      <th>weekday</th>\n",
       "      <th>PGE</th>\n",
       "    </tr>\n",
       "    <tr>\n",
       "      <th>date</th>\n",
       "      <th></th>\n",
       "      <th></th>\n",
       "      <th></th>\n",
       "      <th></th>\n",
       "      <th></th>\n",
       "      <th></th>\n",
       "    </tr>\n",
       "  </thead>\n",
       "  <tbody>\n",
       "    <tr>\n",
       "      <th>2018-01-01 08:00:00</th>\n",
       "      <td>1</td>\n",
       "      <td>38.89844</td>\n",
       "      <td>1</td>\n",
       "      <td>2018-01-01</td>\n",
       "      <td>Monday</td>\n",
       "      <td>OP</td>\n",
       "    </tr>\n",
       "    <tr>\n",
       "      <th>2018-01-01 08:05:00</th>\n",
       "      <td>1</td>\n",
       "      <td>53.66772</td>\n",
       "      <td>2</td>\n",
       "      <td>2018-01-01</td>\n",
       "      <td>Monday</td>\n",
       "      <td>OP</td>\n",
       "    </tr>\n",
       "    <tr>\n",
       "      <th>2018-01-01 08:10:00</th>\n",
       "      <td>1</td>\n",
       "      <td>53.66772</td>\n",
       "      <td>3</td>\n",
       "      <td>2018-01-01</td>\n",
       "      <td>Monday</td>\n",
       "      <td>OP</td>\n",
       "    </tr>\n",
       "    <tr>\n",
       "      <th>2018-01-01 08:15:00</th>\n",
       "      <td>1</td>\n",
       "      <td>53.57858</td>\n",
       "      <td>4</td>\n",
       "      <td>2018-01-01</td>\n",
       "      <td>Monday</td>\n",
       "      <td>OP</td>\n",
       "    </tr>\n",
       "    <tr>\n",
       "      <th>2018-01-01 08:20:00</th>\n",
       "      <td>1</td>\n",
       "      <td>53.90588</td>\n",
       "      <td>5</td>\n",
       "      <td>2018-01-01</td>\n",
       "      <td>Monday</td>\n",
       "      <td>OP</td>\n",
       "    </tr>\n",
       "  </tbody>\n",
       "</table>\n",
       "</div>"
      ],
      "text/plain": [
       "                     hour     price  interval        day weekday PGE\n",
       "date                                                                \n",
       "2018-01-01 08:00:00     1  38.89844         1 2018-01-01  Monday  OP\n",
       "2018-01-01 08:05:00     1  53.66772         2 2018-01-01  Monday  OP\n",
       "2018-01-01 08:10:00     1  53.66772         3 2018-01-01  Monday  OP\n",
       "2018-01-01 08:15:00     1  53.57858         4 2018-01-01  Monday  OP\n",
       "2018-01-01 08:20:00     1  53.90588         5 2018-01-01  Monday  OP"
      ]
     },
     "execution_count": 115,
     "metadata": {},
     "output_type": "execute_result"
    }
   ],
   "source": [
    "dfp.head()"
   ]
  },
  {
   "cell_type": "code",
   "execution_count": 118,
   "metadata": {},
   "outputs": [],
   "source": [
    "gPGE= dfp.groupby(['day','PGE'])"
   ]
  },
  {
   "cell_type": "code",
   "execution_count": 119,
   "metadata": {},
   "outputs": [
    {
     "data": {
      "text/plain": [
       "day         PGE\n",
       "2018-01-01  OP      45.550035\n",
       "            P       34.851425\n",
       "            S       25.211496\n",
       "2018-01-02  OP      28.872308\n",
       "            P       37.802679\n",
       "            S       33.654966\n",
       "2018-01-03  OP      39.579661\n",
       "            P       48.640385\n",
       "            S      105.711009\n",
       "2018-01-04  OP      38.596313\n",
       "            P       40.072295\n",
       "            S       30.575908\n",
       "2018-01-05  OP      28.938773\n",
       "            P       83.648815\n",
       "            S       21.137134\n",
       "2018-01-06  OP      28.414740\n",
       "            P       24.685236\n",
       "            S       23.161737\n",
       "2018-01-07  OP      27.611663\n",
       "            P       37.727019\n",
       "Name: price, dtype: float64"
      ]
     },
     "execution_count": 119,
     "metadata": {},
     "output_type": "execute_result"
    }
   ],
   "source": [
    "daily_PGE= gPGE.price.mean() # this is hourly data!!\n",
    "daily_PGE.head(20)"
   ]
  },
  {
   "cell_type": "code",
   "execution_count": 121,
   "metadata": {},
   "outputs": [
    {
     "data": {
      "text/html": [
       "<div>\n",
       "<style scoped>\n",
       "    .dataframe tbody tr th:only-of-type {\n",
       "        vertical-align: middle;\n",
       "    }\n",
       "\n",
       "    .dataframe tbody tr th {\n",
       "        vertical-align: top;\n",
       "    }\n",
       "\n",
       "    .dataframe thead th {\n",
       "        text-align: right;\n",
       "    }\n",
       "</style>\n",
       "<table border=\"1\" class=\"dataframe\">\n",
       "  <thead>\n",
       "    <tr style=\"text-align: right;\">\n",
       "      <th></th>\n",
       "      <th></th>\n",
       "      <th>price</th>\n",
       "    </tr>\n",
       "    <tr>\n",
       "      <th>day</th>\n",
       "      <th>PGE</th>\n",
       "      <th></th>\n",
       "    </tr>\n",
       "  </thead>\n",
       "  <tbody>\n",
       "    <tr>\n",
       "      <th rowspan=\"3\" valign=\"top\">2018-01-01</th>\n",
       "      <th>OP</th>\n",
       "      <td>45.550035</td>\n",
       "    </tr>\n",
       "    <tr>\n",
       "      <th>P</th>\n",
       "      <td>34.851425</td>\n",
       "    </tr>\n",
       "    <tr>\n",
       "      <th>S</th>\n",
       "      <td>25.211496</td>\n",
       "    </tr>\n",
       "    <tr>\n",
       "      <th rowspan=\"2\" valign=\"top\">2018-01-02</th>\n",
       "      <th>OP</th>\n",
       "      <td>28.872308</td>\n",
       "    </tr>\n",
       "    <tr>\n",
       "      <th>P</th>\n",
       "      <td>37.802679</td>\n",
       "    </tr>\n",
       "  </tbody>\n",
       "</table>\n",
       "</div>"
      ],
      "text/plain": [
       "                    price\n",
       "day        PGE           \n",
       "2018-01-01 OP   45.550035\n",
       "           P    34.851425\n",
       "           S    25.211496\n",
       "2018-01-02 OP   28.872308\n",
       "           P    37.802679"
      ]
     },
     "execution_count": 121,
     "metadata": {},
     "output_type": "execute_result"
    }
   ],
   "source": [
    "dfPGE= daily_PGE.to_frame()\n",
    "dfPGE= dfPGE.sort_values(['day'])\n",
    "dfPGE.head()"
   ]
  },
  {
   "cell_type": "code",
   "execution_count": 122,
   "metadata": {},
   "outputs": [
    {
     "data": {
      "text/html": [
       "<div>\n",
       "<style scoped>\n",
       "    .dataframe tbody tr th:only-of-type {\n",
       "        vertical-align: middle;\n",
       "    }\n",
       "\n",
       "    .dataframe tbody tr th {\n",
       "        vertical-align: top;\n",
       "    }\n",
       "\n",
       "    .dataframe thead th {\n",
       "        text-align: right;\n",
       "    }\n",
       "</style>\n",
       "<table border=\"1\" class=\"dataframe\">\n",
       "  <thead>\n",
       "    <tr style=\"text-align: right;\">\n",
       "      <th></th>\n",
       "      <th></th>\n",
       "      <th>price</th>\n",
       "    </tr>\n",
       "    <tr>\n",
       "      <th>day</th>\n",
       "      <th>PGE</th>\n",
       "      <th></th>\n",
       "    </tr>\n",
       "  </thead>\n",
       "  <tbody>\n",
       "    <tr>\n",
       "      <th rowspan=\"2\" valign=\"top\">2018-11-29</th>\n",
       "      <th>OP</th>\n",
       "      <td>50.851328</td>\n",
       "    </tr>\n",
       "    <tr>\n",
       "      <th>S</th>\n",
       "      <td>193.772413</td>\n",
       "    </tr>\n",
       "    <tr>\n",
       "      <th rowspan=\"3\" valign=\"top\">2018-11-30</th>\n",
       "      <th>P</th>\n",
       "      <td>71.013740</td>\n",
       "    </tr>\n",
       "    <tr>\n",
       "      <th>OP</th>\n",
       "      <td>62.724867</td>\n",
       "    </tr>\n",
       "    <tr>\n",
       "      <th>S</th>\n",
       "      <td>45.236383</td>\n",
       "    </tr>\n",
       "  </tbody>\n",
       "</table>\n",
       "</div>"
      ],
      "text/plain": [
       "                     price\n",
       "day        PGE            \n",
       "2018-11-29 OP    50.851328\n",
       "           S    193.772413\n",
       "2018-11-30 P     71.013740\n",
       "           OP    62.724867\n",
       "           S     45.236383"
      ]
     },
     "execution_count": 122,
     "metadata": {},
     "output_type": "execute_result"
    }
   ],
   "source": [
    "dfPGE.tail() # "
   ]
  },
  {
   "cell_type": "code",
   "execution_count": 123,
   "metadata": {},
   "outputs": [
    {
     "data": {
      "text/html": [
       "<div>\n",
       "<style scoped>\n",
       "    .dataframe tbody tr th:only-of-type {\n",
       "        vertical-align: middle;\n",
       "    }\n",
       "\n",
       "    .dataframe tbody tr th {\n",
       "        vertical-align: top;\n",
       "    }\n",
       "\n",
       "    .dataframe thead tr th {\n",
       "        text-align: left;\n",
       "    }\n",
       "\n",
       "    .dataframe thead tr:last-of-type th {\n",
       "        text-align: right;\n",
       "    }\n",
       "</style>\n",
       "<table border=\"1\" class=\"dataframe\">\n",
       "  <thead>\n",
       "    <tr>\n",
       "      <th></th>\n",
       "      <th colspan=\"3\" halign=\"left\">price</th>\n",
       "    </tr>\n",
       "    <tr>\n",
       "      <th>PGE</th>\n",
       "      <th>OP</th>\n",
       "      <th>P</th>\n",
       "      <th>S</th>\n",
       "    </tr>\n",
       "    <tr>\n",
       "      <th>day</th>\n",
       "      <th></th>\n",
       "      <th></th>\n",
       "      <th></th>\n",
       "    </tr>\n",
       "  </thead>\n",
       "  <tbody>\n",
       "    <tr>\n",
       "      <th>2018-01-01</th>\n",
       "      <td>45.550035</td>\n",
       "      <td>34.851425</td>\n",
       "      <td>25.211496</td>\n",
       "    </tr>\n",
       "    <tr>\n",
       "      <th>2018-01-02</th>\n",
       "      <td>28.872308</td>\n",
       "      <td>37.802679</td>\n",
       "      <td>33.654966</td>\n",
       "    </tr>\n",
       "    <tr>\n",
       "      <th>2018-01-03</th>\n",
       "      <td>39.579661</td>\n",
       "      <td>48.640385</td>\n",
       "      <td>105.711009</td>\n",
       "    </tr>\n",
       "    <tr>\n",
       "      <th>2018-01-04</th>\n",
       "      <td>38.596313</td>\n",
       "      <td>40.072295</td>\n",
       "      <td>30.575908</td>\n",
       "    </tr>\n",
       "    <tr>\n",
       "      <th>2018-01-05</th>\n",
       "      <td>28.938773</td>\n",
       "      <td>83.648815</td>\n",
       "      <td>21.137134</td>\n",
       "    </tr>\n",
       "  </tbody>\n",
       "</table>\n",
       "</div>"
      ],
      "text/plain": [
       "                price                       \n",
       "PGE                OP          P           S\n",
       "day                                         \n",
       "2018-01-01  45.550035  34.851425   25.211496\n",
       "2018-01-02  28.872308  37.802679   33.654966\n",
       "2018-01-03  39.579661  48.640385  105.711009\n",
       "2018-01-04  38.596313  40.072295   30.575908\n",
       "2018-01-05  28.938773  83.648815   21.137134"
      ]
     },
     "execution_count": 123,
     "metadata": {},
     "output_type": "execute_result"
    }
   ],
   "source": [
    "dfPGE= dfPGE.unstack('PGE')\n",
    "dfPGE.head()"
   ]
  },
  {
   "cell_type": "code",
   "execution_count": 124,
   "metadata": {},
   "outputs": [
    {
     "data": {
      "text/plain": [
       "[]"
      ]
     },
     "execution_count": 124,
     "metadata": {},
     "output_type": "execute_result"
    },
    {
     "data": {
      "image/png": "[encoded data removed]",
      "text/plain": [
       "<Figure size 432x288 with 1 Axes>"
      ]
     },
     "metadata": {
      "needs_background": "light"
     },
     "output_type": "display_data"
    }
   ],
   "source": [
    "FebPGE = dfPGE.loc['2018-02-01':'2018-02-28'].plot()# so a peak of $140/MWh is 14 cents\n",
    "FebPGE.plot()"
   ]
  },
  {
   "cell_type": "code",
   "execution_count": 125,
   "metadata": {},
   "outputs": [
    {
     "data": {
      "text/plain": [
       "<matplotlib.axes._subplots.AxesSubplot at 0x21ba1b15ba8>"
      ]
     },
     "execution_count": 125,
     "metadata": {},
     "output_type": "execute_result"
    },
    {
     "data": {
      "image/png": "[encoded data removed]",
      "text/plain": [
       "<Figure size 432x288 with 1 Axes>"
      ]
     },
     "metadata": {
      "needs_background": "light"
     },
     "output_type": "display_data"
    }
   ],
   "source": [
    "MarPGE = dfPGE.loc['2018-03-01':'2018-03-31'] # so a peak of $140/MWh is 14 cents\n",
    "MarPGE.plot()"
   ]
  },
  {
   "cell_type": "code",
   "execution_count": 127,
   "metadata": {},
   "outputs": [
    {
     "data": {
      "text/plain": [
       "<matplotlib.axes._subplots.AxesSubplot at 0x21ba1c6fda0>"
      ]
     },
     "execution_count": 127,
     "metadata": {},
     "output_type": "execute_result"
    },
    {
     "data": {
      "image/png": "[encoded data removed]",
      "text/plain": [
       "<Figure size 432x288 with 1 Axes>"
      ]
     },
     "metadata": {
      "needs_background": "light"
     },
     "output_type": "display_data"
    }
   ],
   "source": [
    "AprPGE= dfPGE.loc['2018-04-01':'2018-04-30'] # so a peak of $140/MWh is 14 cents\n",
    "AprPGE.plot()"
   ]
  },
  {
   "cell_type": "code",
   "execution_count": null,
   "metadata": {},
   "outputs": [],
   "source": []
  },
  {
   "cell_type": "code",
   "execution_count": 128,
   "metadata": {},
   "outputs": [
    {
     "data": {
      "text/plain": [
       "<matplotlib.axes._subplots.AxesSubplot at 0x21ba1ba4470>"
      ]
     },
     "execution_count": 128,
     "metadata": {},
     "output_type": "execute_result"
    },
    {
     "data": {
      "image/png": "[encoded data removed]",
      "text/plain": [
       "<Figure size 432x288 with 1 Axes>"
      ]
     },
     "metadata": {
      "needs_background": "light"
     },
     "output_type": "display_data"
    }
   ],
   "source": [
    "dfPGE.plot() \n",
    "# THIS IS A CRITICAL PLOT TO BE REPEATED MONTHLY USING A PANEL APPROACH (can use df.loc() or extract 'month' as a variable)\n",
    "# Surprises: the highest spikes are not Peak but Standard, \n",
    "# peak is evening from 2pm to 8pm!\n",
    "# Peak seems to have recurring spikes perhaps related to the day of the week?\n",
    "# on many days the standard price is below the off-peak price Can calculate frequency with a Boolean!\n",
    "# Standard is from 8 until 2pm so prices are lowered by midday solar"
   ]
  },
  {
   "cell_type": "code",
   "execution_count": 57,
   "metadata": {},
   "outputs": [
    {
     "name": "stdout",
     "output_type": "stream",
     "text": [
      "<class 'pandas.core.frame.DataFrame'>\n",
      "DatetimeIndex: 334 entries, 2018-01-01 to 2018-11-30\n",
      "Data columns (total 3 columns):\n",
      "(price, OP)    334 non-null float64\n",
      "(price, P)     334 non-null float64\n",
      "(price, S)     334 non-null float64\n",
      "dtypes: float64(3)\n",
      "memory usage: 10.4 KB\n"
     ]
    }
   ],
   "source": [
    "dfPGE.info()"
   ]
  },
  {
   "cell_type": "code",
   "execution_count": 58,
   "metadata": {},
   "outputs": [
    {
     "data": {
      "text/html": [
       "<div>\n",
       "<style scoped>\n",
       "    .dataframe tbody tr th:only-of-type {\n",
       "        vertical-align: middle;\n",
       "    }\n",
       "\n",
       "    .dataframe tbody tr th {\n",
       "        vertical-align: top;\n",
       "    }\n",
       "\n",
       "    .dataframe thead th {\n",
       "        text-align: right;\n",
       "    }\n",
       "</style>\n",
       "<table border=\"1\" class=\"dataframe\">\n",
       "  <thead>\n",
       "    <tr style=\"text-align: right;\">\n",
       "      <th></th>\n",
       "      <th>OP</th>\n",
       "      <th>P</th>\n",
       "      <th>S</th>\n",
       "    </tr>\n",
       "    <tr>\n",
       "      <th>date</th>\n",
       "      <th></th>\n",
       "      <th></th>\n",
       "      <th></th>\n",
       "    </tr>\n",
       "  </thead>\n",
       "  <tbody>\n",
       "    <tr>\n",
       "      <th>2018-11-26</th>\n",
       "      <td>51.455426</td>\n",
       "      <td>58.835906</td>\n",
       "      <td>42.743207</td>\n",
       "    </tr>\n",
       "    <tr>\n",
       "      <th>2018-11-27</th>\n",
       "      <td>45.992130</td>\n",
       "      <td>67.155858</td>\n",
       "      <td>40.713603</td>\n",
       "    </tr>\n",
       "    <tr>\n",
       "      <th>2018-11-28</th>\n",
       "      <td>53.666140</td>\n",
       "      <td>56.438910</td>\n",
       "      <td>64.134758</td>\n",
       "    </tr>\n",
       "    <tr>\n",
       "      <th>2018-11-29</th>\n",
       "      <td>50.851328</td>\n",
       "      <td>99.743466</td>\n",
       "      <td>193.772413</td>\n",
       "    </tr>\n",
       "    <tr>\n",
       "      <th>2018-11-30</th>\n",
       "      <td>62.724867</td>\n",
       "      <td>71.013740</td>\n",
       "      <td>45.236383</td>\n",
       "    </tr>\n",
       "  </tbody>\n",
       "</table>\n",
       "</div>"
      ],
      "text/plain": [
       "                   OP          P           S\n",
       "date                                        \n",
       "2018-11-26  51.455426  58.835906   42.743207\n",
       "2018-11-27  45.992130  67.155858   40.713603\n",
       "2018-11-28  53.666140  56.438910   64.134758\n",
       "2018-11-29  50.851328  99.743466  193.772413\n",
       "2018-11-30  62.724867  71.013740   45.236383"
      ]
     },
     "execution_count": 58,
     "metadata": {},
     "output_type": "execute_result"
    }
   ],
   "source": [
    "dfPGE.columns= ['OP','P','S']\n",
    "dfPGE.head(3)\n",
    "dfPGE.tail()"
   ]
  },
  {
   "cell_type": "code",
   "execution_count": null,
   "metadata": {},
   "outputs": [],
   "source": []
  },
  {
   "cell_type": "code",
   "execution_count": null,
   "metadata": {},
   "outputs": [],
   "source": []
  },
  {
   "cell_type": "code",
   "execution_count": null,
   "metadata": {},
   "outputs": [],
   "source": [
    "# BIG QUESTION: EACH DAY FIND THE HIGHEST 100 PRICES AND THEN THE LOWEST 100 PRICES VIA SORT. \n",
    "# THEN SUBTRACT THE LOWEST FROM THE HIGHEST, AND SEE IF > $0.25. KEEP GOING UNTIL THIS THRESHOLD IS HIT! \n",
    "# SO CHARGE AT WORK FROM 9 TO 10AM AND USE AT HOME TO RUN AC IN PEAK HOURS!!!"
   ]
  },
  {
   "cell_type": "code",
   "execution_count": null,
   "metadata": {},
   "outputs": [],
   "source": [
    "# We need suppose 2 hours on average daily, 24 intervals/day, 720/month. Find for cumulative of 720 the cut-off price\n",
    "# Then calculate the average price (of course less than cutoff): compute for 720 vs 360, and annnualise cost benefit\n",
    "# this is the economic value of the Level 2 Charger versus the Level 1."
   ]
  },
  {
   "cell_type": "code",
   "execution_count": null,
   "metadata": {},
   "outputs": [],
   "source": [
    "# downsample the 5-minute prices to hourly and match up with hourly wind and solar data (Dhavide Course One)"
   ]
  },
  {
   "cell_type": "code",
   "execution_count": null,
   "metadata": {},
   "outputs": [],
   "source": []
  },
  {
   "cell_type": "code",
   "execution_count": null,
   "metadata": {},
   "outputs": [],
   "source": []
  }
 ],
 "metadata": {
  "kernelspec": {
   "display_name": "Python 3",
   "language": "python",
   "name": "python3"
  },
  "language_info": {
   "codemirror_mode": {
    "name": "ipython",
    "version": 3
   },
   "file_extension": ".py",
   "mimetype": "text/x-python",
   "name": "python",
   "nbconvert_exporter": "python",
   "pygments_lexer": "ipython3",
   "version": "3.7.0"
  }
 },
 "nbformat": 4,
 "nbformat_minor": 2
}
