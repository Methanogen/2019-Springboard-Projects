{
 "cells": [
  {
   "cell_type": "code",
   "execution_count": 9,
   "metadata": {},
   "outputs": [
    {
     "name": "stdout",
     "output_type": "stream",
     "text": [
      "/Users/user/Desktop/dailyreports\n"
     ]
    }
   ],
   "source": [
    "import os\n",
    "print(os.getcwd())"
   ]
  },
  {
   "cell_type": "code",
   "execution_count": 10,
   "metadata": {},
   "outputs": [],
   "source": [
    "import pandas as pd  #Hmm, NOT tab-separated as blank columns inserted to accommodate long names!!\n",
    "\n",
    "def text_to_df(file):\n",
    "\n",
    "    df1= pd.read_csv(file, sep= '\\s+',skiprows = 2, header= None, nrows= 24)\n",
    "    df1.columns= ['hour','geo','biom','biog','shydro','wind','solar','solth']\n",
    "    df2= pd.read_csv(file,sep= '\\s+',skiprows = 30, header= None, nrows= 24)\n",
    "    df2.columns= ['hour','SRnwbls','nucl','thermal','imports','lhydro']\n",
    "    df2['load']= df2.hour + df2.SRnwbls + df2.nucl + df2.thermal + df2.imports + df2.lhydro\n",
    "    df2['netload'] = df2.load - df2.SRnwbls\n",
    "    df= pd.merge(df1,df2,on= 'hour')\n",
    "    return df\n"
   ]
  },
  {
   "cell_type": "code",
   "execution_count": 11,
   "metadata": {},
   "outputs": [
    {
     "name": "stdout",
     "output_type": "stream",
     "text": [
      "   hour  geo  biom  biog  shydro  wind  solar  solth  SRnwbls  nucl  thermal  \\\n",
      "0     1  887   350   230     203  1247      0      0     2917  2263     6842   \n",
      "1     2  888   346   230     198  1494      0      0     3156  2264     6634   \n",
      "\n",
      "   imports  lhydro   load  netload  \n",
      "0     6748    1377  20148    17231  \n",
      "1     6047    1388  19491    16335  \n"
     ]
    }
   ],
   "source": [
    "df= text_to_df('20190114_DailyRenewablesWatch.txt')\n",
    "print(df.head(2))\n"
   ]
  },
  {
   "cell_type": "code",
   "execution_count": 12,
   "metadata": {},
   "outputs": [],
   "source": [
    "# THE requests package is much better than antiquated urllib (from DS)\n",
    "# better to use that!\n",
    "import requests\n",
    "url= 'http://content.caiso.com/green/renewrpt/20190114_DailyRenewablesWatch.txt'\n",
    "r= requests.get(url)# where r is the \"Response\"\n",
    "jan14= r.text # is this necessary as we already have a .txt file (not HTML)\n",
    "#save file w \n",
    "\n",
    "jan14file= open('jan14.txt', 'wb') # where wb is write binary: this saves the file (?) "
   ]
  },
  {
   "cell_type": "code",
   "execution_count": 14,
   "metadata": {},
   "outputs": [],
   "source": [
    "# So the code runs on the downloaded file, but NOT on the API call using the requests.get() approach"
   ]
  },
  {
   "cell_type": "code",
   "execution_count": 16,
   "metadata": {
    "collapsed": true
   },
   "outputs": [
    {
     "ename": "FileNotFoundError",
     "evalue": "File b'01/14/19\\t\\t\\tHourly Breakdown of Renewable Resources (MW)\\t\\t\\t\\t\\t\\t\\t\\t\\t\\t\\t\\t\\t\\t\\r\\n\\tHour\\t\\tGEOTHERMAL\\tBIOMASS\\t\\tBIOGAS\\t\\tSMALL HYDRO\\tWIND TOTAL\\tSOLAR PV\\tSOLAR THERMAL\\t\\t\\t\\t\\t\\t\\r\\n\\t1\\t\\t887\\t\\t350\\t\\t230\\t\\t203\\t\\t1247\\t\\t0\\t\\t0\\t\\t\\r\\n\\t2\\t\\t888\\t\\t346\\t\\t230\\t\\t198\\t\\t1494\\t\\t0\\t\\t0\\t\\t\\r\\n\\t3\\t\\t887\\t\\t349\\t\\t230\\t\\t198\\t\\t1537\\t\\t0\\t\\t0\\t\\t\\r\\n\\t4\\t\\t887\\t\\t348\\t\\t231\\t\\t199\\t\\t1574\\t\\t0\\t\\t0\\t\\t\\r\\n\\t5\\t\\t887\\t\\t349\\t\\t229\\t\\t197\\t\\t1753\\t\\t0\\t\\t0\\t\\t\\r\\n\\t6\\t\\t887\\t\\t348\\t\\t226\\t\\t198\\t\\t1814\\t\\t0\\t\\t0\\t\\t\\r\\n\\t7\\t\\t888\\t\\t340\\t\\t226\\t\\t201\\t\\t1765\\t\\t0\\t\\t0\\t\\t\\r\\n\\t8\\t\\t887\\t\\t339\\t\\t225\\t\\t199\\t\\t1699\\t\\t291\\t\\t0\\t\\t\\r\\n\\t9\\t\\t886\\t\\t341\\t\\t225\\t\\t204\\t\\t1657\\t\\t1260\\t\\t0\\t\\t\\r\\n\\t10\\t\\t885\\t\\t339\\t\\t224\\t\\t202\\t\\t1964\\t\\t1696\\t\\t0\\t\\t\\r\\n\\t11\\t\\t884\\t\\t333\\t\\t224\\t\\t204\\t\\t1904\\t\\t1910\\t\\t0\\t\\t\\r\\n\\t12\\t\\t886\\t\\t328\\t\\t223\\t\\t195\\t\\t1491\\t\\t1972\\t\\t0\\t\\t\\r\\n\\t13\\t\\t886\\t\\t333\\t\\t224\\t\\t199\\t\\t1278\\t\\t1957\\t\\t0\\t\\t\\r\\n\\t14\\t\\t886\\t\\t354\\t\\t223\\t\\t200\\t\\t1317\\t\\t1427\\t\\t0\\t\\t\\r\\n\\t15\\t\\t886\\t\\t366\\t\\t225\\t\\t188\\t\\t1110\\t\\t1266\\t\\t0\\t\\t\\r\\n\\t16\\t\\t887\\t\\t366\\t\\t227\\t\\t211\\t\\t840\\t\\t782\\t\\t0\\t\\t\\r\\n\\t17\\t\\t905\\t\\t368\\t\\t227\\t\\t240\\t\\t768\\t\\t123\\t\\t0\\t\\t\\r\\n\\t18\\t\\t905\\t\\t365\\t\\t226\\t\\t325\\t\\t1068\\t\\t0\\t\\t0\\t\\t\\r\\n\\t19\\t\\t904\\t\\t364\\t\\t226\\t\\t330\\t\\t968\\t\\t0\\t\\t0\\t\\t\\r\\n\\t20\\t\\t905\\t\\t364\\t\\t226\\t\\t322\\t\\t958\\t\\t0\\t\\t0\\t\\t\\r\\n\\t21\\t\\t904\\t\\t362\\t\\t227\\t\\t238\\t\\t821\\t\\t0\\t\\t0\\t\\t\\r\\n\\t22\\t\\t903\\t\\t364\\t\\t226\\t\\t212\\t\\t669\\t\\t0\\t\\t0\\t\\t\\r\\n\\t23\\t\\t902\\t\\t362\\t\\t226\\t\\t190\\t\\t650\\t\\t0\\t\\t0\\t\\t\\r\\n\\t24\\t\\t902\\t\\t361\\t\\t226\\t\\t187\\t\\t627\\t\\t0\\t\\t0\\t\\t\\r\\n\\t\\t\\t\\t\\t\\t\\t\\t\\t\\t\\t\\t\\t\\t\\t\\t\\t\\r\\n\\t\\t\\t\\t\\t\\t\\t\\t\\t\\t\\t\\t\\t\\t\\t\\t\\t\\r\\n\\t\\t\\tHourly Breakdown of Total Production by Resource Type (MW)\\t\\t\\t\\t\\t\\t\\t\\t\\t\\t\\t\\t\\t\\t\\r\\n\\tHour\\t\\tRENEWABLES\\tNUCLEAR\\t\\tTHERMAL\\t\\tIMPORTS\\t\\tHYDRO\\t\\t\\t\\t\\t\\t\\t\\r\\n\\t1\\t\\t2917\\t\\t2263\\t\\t6842\\t\\t6748\\t\\t1377\\t\\t\\t\\t\\t\\t\\r\\n\\t2\\t\\t3156\\t\\t2264\\t\\t6634\\t\\t6047\\t\\t1388\\t\\t\\t\\t\\t\\t\\r\\n\\t3\\t\\t2314\\t\\t2264\\t\\t7491\\t\\t5723\\t\\t1361\\t\\t\\t\\t\\t\\t\\r\\n\\t4\\t\\t3239\\t\\t2263\\t\\t6646\\t\\t5709\\t\\t1362\\t\\t\\t\\t\\t\\t\\r\\n\\t5\\t\\t3415\\t\\t2263\\t\\t7049\\t\\t5732\\t\\t1493\\t\\t\\t\\t\\t\\t\\r\\n\\t6\\t\\t3473\\t\\t2264\\t\\t7802\\t\\t6510\\t\\t1614\\t\\t\\t\\t\\t\\t\\r\\n\\t7\\t\\t3420\\t\\t2264\\t\\t8715\\t\\t7743\\t\\t2034\\t\\t\\t\\t\\t\\t\\r\\n\\t8\\t\\t3640\\t\\t2263\\t\\t9423\\t\\t8467\\t\\t2302\\t\\t\\t\\t\\t\\t\\r\\n\\t9\\t\\t4573\\t\\t2263\\t\\t9558\\t\\t8022\\t\\t2243\\t\\t\\t\\t\\t\\t\\r\\n\\t10\\t\\t5310\\t\\t2263\\t\\t9223\\t\\t8059\\t\\t2057\\t\\t\\t\\t\\t\\t\\r\\n\\t11\\t\\t5459\\t\\t2262\\t\\t9218\\t\\t8129\\t\\t1981\\t\\t\\t\\t\\t\\t\\r\\n\\t12\\t\\t5095\\t\\t2262\\t\\t9445\\t\\t8048\\t\\t2131\\t\\t\\t\\t\\t\\t\\r\\n\\t13\\t\\t4877\\t\\t2262\\t\\t9339\\t\\t8178\\t\\t2377\\t\\t\\t\\t\\t\\t\\r\\n\\t14\\t\\t4407\\t\\t2263\\t\\t9418\\t\\t8365\\t\\t2331\\t\\t\\t\\t\\t\\t\\r\\n\\t15\\t\\t4041\\t\\t2263\\t\\t9612\\t\\t8770\\t\\t1880\\t\\t\\t\\t\\t\\t\\r\\n\\t16\\t\\t3313\\t\\t2262\\t\\t9622\\t\\t9597\\t\\t1907\\t\\t\\t\\t\\t\\t\\r\\n\\t17\\t\\t2631\\t\\t2262\\t\\t10450\\t\\t9564\\t\\t2546\\t\\t\\t\\t\\t\\t\\r\\n\\t18\\t\\t2889\\t\\t2263\\t\\t11918\\t\\t9196\\t\\t2992\\t\\t\\t\\t\\t\\t\\r\\n\\t19\\t\\t2792\\t\\t2263\\t\\t11988\\t\\t9347\\t\\t2921\\t\\t\\t\\t\\t\\t\\r\\n\\t20\\t\\t2775\\t\\t2263\\t\\t11197\\t\\t9742\\t\\t2759\\t\\t\\t\\t\\t\\t\\r\\n\\t21\\t\\t2552\\t\\t2263\\t\\t10815\\t\\t9822\\t\\t2419\\t\\t\\t\\t\\t\\t\\r\\n\\t22\\t\\t2374\\t\\t2263\\t\\t10074\\t\\t9601\\t\\t2047\\t\\t\\t\\t\\t\\t\\r\\n\\t23\\t\\t2330\\t\\t2264\\t\\t9757\\t\\t8254\\t\\t1517\\t\\t\\t\\t\\t\\t\\r\\n\\t24\\t\\t2303\\t\\t2264\\t\\t8861\\t\\t7346\\t\\t1445\\t\\t\\t\\t\\t\\t\\r\\n' does not exist",
     "output_type": "error",
     "traceback": [
      "\u001b[0;31m---------------------------------------------------------------------------\u001b[0m",
      "\u001b[0;31mFileNotFoundError\u001b[0m                         Traceback (most recent call last)",
      "\u001b[0;32m<ipython-input-16-3cdde5478edc>\u001b[0m in \u001b[0;36m<module>\u001b[0;34m\u001b[0m\n\u001b[0;32m----> 1\u001b[0;31m \u001b[0mdf_caiso_jan14\u001b[0m\u001b[0;34m=\u001b[0m \u001b[0mtext_to_df\u001b[0m\u001b[0;34m(\u001b[0m\u001b[0mjan14\u001b[0m\u001b[0;34m)\u001b[0m\u001b[0;31m#does not exist!!\u001b[0m\u001b[0;34m\u001b[0m\u001b[0;34m\u001b[0m\u001b[0m\n\u001b[0m\u001b[1;32m      2\u001b[0m \u001b[0;31m# df_caiso_jan14= text_to_df(jan14file) # UnsupportedOperation: read\u001b[0m\u001b[0;34m\u001b[0m\u001b[0;34m\u001b[0m\u001b[0;34m\u001b[0m\u001b[0m\n\u001b[1;32m      3\u001b[0m \u001b[0mdf_caiso_jan14\u001b[0m\u001b[0;34m=\u001b[0m \u001b[0mtext_to_df\u001b[0m\u001b[0;34m(\u001b[0m\u001b[0mr\u001b[0m\u001b[0;34m)\u001b[0m \u001b[0;31m# Error: Invalid file path or buffer object type: <class 'requests.models.Response'>\u001b[0m\u001b[0;34m\u001b[0m\u001b[0;34m\u001b[0m\u001b[0m\n\u001b[1;32m      4\u001b[0m \u001b[0;31m# DWW TRY STACK OVERFLOW FOR REFERENCES: ALSO LENOVO\u001b[0m\u001b[0;34m\u001b[0m\u001b[0;34m\u001b[0m\u001b[0;34m\u001b[0m\u001b[0m\n",
      "\u001b[0;32m<ipython-input-10-505a9cf70e95>\u001b[0m in \u001b[0;36mtext_to_df\u001b[0;34m(file)\u001b[0m\n\u001b[1;32m      3\u001b[0m \u001b[0;32mdef\u001b[0m \u001b[0mtext_to_df\u001b[0m\u001b[0;34m(\u001b[0m\u001b[0mfile\u001b[0m\u001b[0;34m)\u001b[0m\u001b[0;34m:\u001b[0m\u001b[0;34m\u001b[0m\u001b[0;34m\u001b[0m\u001b[0m\n\u001b[1;32m      4\u001b[0m \u001b[0;34m\u001b[0m\u001b[0m\n\u001b[0;32m----> 5\u001b[0;31m     \u001b[0mdf1\u001b[0m\u001b[0;34m=\u001b[0m \u001b[0mpd\u001b[0m\u001b[0;34m.\u001b[0m\u001b[0mread_csv\u001b[0m\u001b[0;34m(\u001b[0m\u001b[0mfile\u001b[0m\u001b[0;34m,\u001b[0m \u001b[0msep\u001b[0m\u001b[0;34m=\u001b[0m \u001b[0;34m'\\s+'\u001b[0m\u001b[0;34m,\u001b[0m\u001b[0mskiprows\u001b[0m \u001b[0;34m=\u001b[0m \u001b[0;36m2\u001b[0m\u001b[0;34m,\u001b[0m \u001b[0mheader\u001b[0m\u001b[0;34m=\u001b[0m \u001b[0;32mNone\u001b[0m\u001b[0;34m,\u001b[0m \u001b[0mnrows\u001b[0m\u001b[0;34m=\u001b[0m \u001b[0;36m24\u001b[0m\u001b[0;34m)\u001b[0m\u001b[0;34m\u001b[0m\u001b[0;34m\u001b[0m\u001b[0m\n\u001b[0m\u001b[1;32m      6\u001b[0m     \u001b[0mdf1\u001b[0m\u001b[0;34m.\u001b[0m\u001b[0mcolumns\u001b[0m\u001b[0;34m=\u001b[0m \u001b[0;34m[\u001b[0m\u001b[0;34m'hour'\u001b[0m\u001b[0;34m,\u001b[0m\u001b[0;34m'geo'\u001b[0m\u001b[0;34m,\u001b[0m\u001b[0;34m'biom'\u001b[0m\u001b[0;34m,\u001b[0m\u001b[0;34m'biog'\u001b[0m\u001b[0;34m,\u001b[0m\u001b[0;34m'shydro'\u001b[0m\u001b[0;34m,\u001b[0m\u001b[0;34m'wind'\u001b[0m\u001b[0;34m,\u001b[0m\u001b[0;34m'solar'\u001b[0m\u001b[0;34m,\u001b[0m\u001b[0;34m'solth'\u001b[0m\u001b[0;34m]\u001b[0m\u001b[0;34m\u001b[0m\u001b[0;34m\u001b[0m\u001b[0m\n\u001b[1;32m      7\u001b[0m     \u001b[0mdf2\u001b[0m\u001b[0;34m=\u001b[0m \u001b[0mpd\u001b[0m\u001b[0;34m.\u001b[0m\u001b[0mread_csv\u001b[0m\u001b[0;34m(\u001b[0m\u001b[0mfile\u001b[0m\u001b[0;34m,\u001b[0m\u001b[0msep\u001b[0m\u001b[0;34m=\u001b[0m \u001b[0;34m'\\s+'\u001b[0m\u001b[0;34m,\u001b[0m\u001b[0mskiprows\u001b[0m \u001b[0;34m=\u001b[0m \u001b[0;36m30\u001b[0m\u001b[0;34m,\u001b[0m \u001b[0mheader\u001b[0m\u001b[0;34m=\u001b[0m \u001b[0;32mNone\u001b[0m\u001b[0;34m,\u001b[0m \u001b[0mnrows\u001b[0m\u001b[0;34m=\u001b[0m \u001b[0;36m24\u001b[0m\u001b[0;34m)\u001b[0m\u001b[0;34m\u001b[0m\u001b[0;34m\u001b[0m\u001b[0m\n",
      "\u001b[0;32m/anaconda3/lib/python3.7/site-packages/pandas/io/parsers.py\u001b[0m in \u001b[0;36mparser_f\u001b[0;34m(filepath_or_buffer, sep, delimiter, header, names, index_col, usecols, squeeze, prefix, mangle_dupe_cols, dtype, engine, converters, true_values, false_values, skipinitialspace, skiprows, nrows, na_values, keep_default_na, na_filter, verbose, skip_blank_lines, parse_dates, infer_datetime_format, keep_date_col, date_parser, dayfirst, iterator, chunksize, compression, thousands, decimal, lineterminator, quotechar, quoting, escapechar, comment, encoding, dialect, tupleize_cols, error_bad_lines, warn_bad_lines, skipfooter, doublequote, delim_whitespace, low_memory, memory_map, float_precision)\u001b[0m\n\u001b[1;32m    676\u001b[0m                     skip_blank_lines=skip_blank_lines)\n\u001b[1;32m    677\u001b[0m \u001b[0;34m\u001b[0m\u001b[0m\n\u001b[0;32m--> 678\u001b[0;31m         \u001b[0;32mreturn\u001b[0m \u001b[0m_read\u001b[0m\u001b[0;34m(\u001b[0m\u001b[0mfilepath_or_buffer\u001b[0m\u001b[0;34m,\u001b[0m \u001b[0mkwds\u001b[0m\u001b[0;34m)\u001b[0m\u001b[0;34m\u001b[0m\u001b[0;34m\u001b[0m\u001b[0m\n\u001b[0m\u001b[1;32m    679\u001b[0m \u001b[0;34m\u001b[0m\u001b[0m\n\u001b[1;32m    680\u001b[0m     \u001b[0mparser_f\u001b[0m\u001b[0;34m.\u001b[0m\u001b[0m__name__\u001b[0m \u001b[0;34m=\u001b[0m \u001b[0mname\u001b[0m\u001b[0;34m\u001b[0m\u001b[0;34m\u001b[0m\u001b[0m\n",
      "\u001b[0;32m/anaconda3/lib/python3.7/site-packages/pandas/io/parsers.py\u001b[0m in \u001b[0;36m_read\u001b[0;34m(filepath_or_buffer, kwds)\u001b[0m\n\u001b[1;32m    438\u001b[0m \u001b[0;34m\u001b[0m\u001b[0m\n\u001b[1;32m    439\u001b[0m     \u001b[0;31m# Create the parser.\u001b[0m\u001b[0;34m\u001b[0m\u001b[0;34m\u001b[0m\u001b[0;34m\u001b[0m\u001b[0m\n\u001b[0;32m--> 440\u001b[0;31m     \u001b[0mparser\u001b[0m \u001b[0;34m=\u001b[0m \u001b[0mTextFileReader\u001b[0m\u001b[0;34m(\u001b[0m\u001b[0mfilepath_or_buffer\u001b[0m\u001b[0;34m,\u001b[0m \u001b[0;34m**\u001b[0m\u001b[0mkwds\u001b[0m\u001b[0;34m)\u001b[0m\u001b[0;34m\u001b[0m\u001b[0;34m\u001b[0m\u001b[0m\n\u001b[0m\u001b[1;32m    441\u001b[0m \u001b[0;34m\u001b[0m\u001b[0m\n\u001b[1;32m    442\u001b[0m     \u001b[0;32mif\u001b[0m \u001b[0mchunksize\u001b[0m \u001b[0;32mor\u001b[0m \u001b[0miterator\u001b[0m\u001b[0;34m:\u001b[0m\u001b[0;34m\u001b[0m\u001b[0;34m\u001b[0m\u001b[0m\n",
      "\u001b[0;32m/anaconda3/lib/python3.7/site-packages/pandas/io/parsers.py\u001b[0m in \u001b[0;36m__init__\u001b[0;34m(self, f, engine, **kwds)\u001b[0m\n\u001b[1;32m    785\u001b[0m             \u001b[0mself\u001b[0m\u001b[0;34m.\u001b[0m\u001b[0moptions\u001b[0m\u001b[0;34m[\u001b[0m\u001b[0;34m'has_index_names'\u001b[0m\u001b[0;34m]\u001b[0m \u001b[0;34m=\u001b[0m \u001b[0mkwds\u001b[0m\u001b[0;34m[\u001b[0m\u001b[0;34m'has_index_names'\u001b[0m\u001b[0;34m]\u001b[0m\u001b[0;34m\u001b[0m\u001b[0;34m\u001b[0m\u001b[0m\n\u001b[1;32m    786\u001b[0m \u001b[0;34m\u001b[0m\u001b[0m\n\u001b[0;32m--> 787\u001b[0;31m         \u001b[0mself\u001b[0m\u001b[0;34m.\u001b[0m\u001b[0m_make_engine\u001b[0m\u001b[0;34m(\u001b[0m\u001b[0mself\u001b[0m\u001b[0;34m.\u001b[0m\u001b[0mengine\u001b[0m\u001b[0;34m)\u001b[0m\u001b[0;34m\u001b[0m\u001b[0;34m\u001b[0m\u001b[0m\n\u001b[0m\u001b[1;32m    788\u001b[0m \u001b[0;34m\u001b[0m\u001b[0m\n\u001b[1;32m    789\u001b[0m     \u001b[0;32mdef\u001b[0m \u001b[0mclose\u001b[0m\u001b[0;34m(\u001b[0m\u001b[0mself\u001b[0m\u001b[0;34m)\u001b[0m\u001b[0;34m:\u001b[0m\u001b[0;34m\u001b[0m\u001b[0;34m\u001b[0m\u001b[0m\n",
      "\u001b[0;32m/anaconda3/lib/python3.7/site-packages/pandas/io/parsers.py\u001b[0m in \u001b[0;36m_make_engine\u001b[0;34m(self, engine)\u001b[0m\n\u001b[1;32m   1012\u001b[0m     \u001b[0;32mdef\u001b[0m \u001b[0m_make_engine\u001b[0m\u001b[0;34m(\u001b[0m\u001b[0mself\u001b[0m\u001b[0;34m,\u001b[0m \u001b[0mengine\u001b[0m\u001b[0;34m=\u001b[0m\u001b[0;34m'c'\u001b[0m\u001b[0;34m)\u001b[0m\u001b[0;34m:\u001b[0m\u001b[0;34m\u001b[0m\u001b[0;34m\u001b[0m\u001b[0m\n\u001b[1;32m   1013\u001b[0m         \u001b[0;32mif\u001b[0m \u001b[0mengine\u001b[0m \u001b[0;34m==\u001b[0m \u001b[0;34m'c'\u001b[0m\u001b[0;34m:\u001b[0m\u001b[0;34m\u001b[0m\u001b[0;34m\u001b[0m\u001b[0m\n\u001b[0;32m-> 1014\u001b[0;31m             \u001b[0mself\u001b[0m\u001b[0;34m.\u001b[0m\u001b[0m_engine\u001b[0m \u001b[0;34m=\u001b[0m \u001b[0mCParserWrapper\u001b[0m\u001b[0;34m(\u001b[0m\u001b[0mself\u001b[0m\u001b[0;34m.\u001b[0m\u001b[0mf\u001b[0m\u001b[0;34m,\u001b[0m \u001b[0;34m**\u001b[0m\u001b[0mself\u001b[0m\u001b[0;34m.\u001b[0m\u001b[0moptions\u001b[0m\u001b[0;34m)\u001b[0m\u001b[0;34m\u001b[0m\u001b[0;34m\u001b[0m\u001b[0m\n\u001b[0m\u001b[1;32m   1015\u001b[0m         \u001b[0;32melse\u001b[0m\u001b[0;34m:\u001b[0m\u001b[0;34m\u001b[0m\u001b[0;34m\u001b[0m\u001b[0m\n\u001b[1;32m   1016\u001b[0m             \u001b[0;32mif\u001b[0m \u001b[0mengine\u001b[0m \u001b[0;34m==\u001b[0m \u001b[0;34m'python'\u001b[0m\u001b[0;34m:\u001b[0m\u001b[0;34m\u001b[0m\u001b[0;34m\u001b[0m\u001b[0m\n",
      "\u001b[0;32m/anaconda3/lib/python3.7/site-packages/pandas/io/parsers.py\u001b[0m in \u001b[0;36m__init__\u001b[0;34m(self, src, **kwds)\u001b[0m\n\u001b[1;32m   1706\u001b[0m         \u001b[0mkwds\u001b[0m\u001b[0;34m[\u001b[0m\u001b[0;34m'usecols'\u001b[0m\u001b[0;34m]\u001b[0m \u001b[0;34m=\u001b[0m \u001b[0mself\u001b[0m\u001b[0;34m.\u001b[0m\u001b[0musecols\u001b[0m\u001b[0;34m\u001b[0m\u001b[0;34m\u001b[0m\u001b[0m\n\u001b[1;32m   1707\u001b[0m \u001b[0;34m\u001b[0m\u001b[0m\n\u001b[0;32m-> 1708\u001b[0;31m         \u001b[0mself\u001b[0m\u001b[0;34m.\u001b[0m\u001b[0m_reader\u001b[0m \u001b[0;34m=\u001b[0m \u001b[0mparsers\u001b[0m\u001b[0;34m.\u001b[0m\u001b[0mTextReader\u001b[0m\u001b[0;34m(\u001b[0m\u001b[0msrc\u001b[0m\u001b[0;34m,\u001b[0m \u001b[0;34m**\u001b[0m\u001b[0mkwds\u001b[0m\u001b[0;34m)\u001b[0m\u001b[0;34m\u001b[0m\u001b[0;34m\u001b[0m\u001b[0m\n\u001b[0m\u001b[1;32m   1709\u001b[0m \u001b[0;34m\u001b[0m\u001b[0m\n\u001b[1;32m   1710\u001b[0m         \u001b[0mpassed_names\u001b[0m \u001b[0;34m=\u001b[0m \u001b[0mself\u001b[0m\u001b[0;34m.\u001b[0m\u001b[0mnames\u001b[0m \u001b[0;32mis\u001b[0m \u001b[0;32mNone\u001b[0m\u001b[0;34m\u001b[0m\u001b[0;34m\u001b[0m\u001b[0m\n",
      "\u001b[0;32mpandas/_libs/parsers.pyx\u001b[0m in \u001b[0;36mpandas._libs.parsers.TextReader.__cinit__\u001b[0;34m()\u001b[0m\n",
      "\u001b[0;32mpandas/_libs/parsers.pyx\u001b[0m in \u001b[0;36mpandas._libs.parsers.TextReader._setup_parser_source\u001b[0;34m()\u001b[0m\n",
      "\u001b[0;31mFileNotFoundError\u001b[0m: File b'01/14/19\\t\\t\\tHourly Breakdown of Renewable Resources (MW)\\t\\t\\t\\t\\t\\t\\t\\t\\t\\t\\t\\t\\t\\t\\r\\n\\tHour\\t\\tGEOTHERMAL\\tBIOMASS\\t\\tBIOGAS\\t\\tSMALL HYDRO\\tWIND TOTAL\\tSOLAR PV\\tSOLAR THERMAL\\t\\t\\t\\t\\t\\t\\r\\n\\t1\\t\\t887\\t\\t350\\t\\t230\\t\\t203\\t\\t1247\\t\\t0\\t\\t0\\t\\t\\r\\n\\t2\\t\\t888\\t\\t346\\t\\t230\\t\\t198\\t\\t1494\\t\\t0\\t\\t0\\t\\t\\r\\n\\t3\\t\\t887\\t\\t349\\t\\t230\\t\\t198\\t\\t1537\\t\\t0\\t\\t0\\t\\t\\r\\n\\t4\\t\\t887\\t\\t348\\t\\t231\\t\\t199\\t\\t1574\\t\\t0\\t\\t0\\t\\t\\r\\n\\t5\\t\\t887\\t\\t349\\t\\t229\\t\\t197\\t\\t1753\\t\\t0\\t\\t0\\t\\t\\r\\n\\t6\\t\\t887\\t\\t348\\t\\t226\\t\\t198\\t\\t1814\\t\\t0\\t\\t0\\t\\t\\r\\n\\t7\\t\\t888\\t\\t340\\t\\t226\\t\\t201\\t\\t1765\\t\\t0\\t\\t0\\t\\t\\r\\n\\t8\\t\\t887\\t\\t339\\t\\t225\\t\\t199\\t\\t1699\\t\\t291\\t\\t0\\t\\t\\r\\n\\t9\\t\\t886\\t\\t341\\t\\t225\\t\\t204\\t\\t1657\\t\\t1260\\t\\t0\\t\\t\\r\\n\\t10\\t\\t885\\t\\t339\\t\\t224\\t\\t202\\t\\t1964\\t\\t1696\\t\\t0\\t\\t\\r\\n\\t11\\t\\t884\\t\\t333\\t\\t224\\t\\t204\\t\\t1904\\t\\t1910\\t\\t0\\t\\t\\r\\n\\t12\\t\\t886\\t\\t328\\t\\t223\\t\\t195\\t\\t1491\\t\\t1972\\t\\t0\\t\\t\\r\\n\\t13\\t\\t886\\t\\t333\\t\\t224\\t\\t199\\t\\t1278\\t\\t1957\\t\\t0\\t\\t\\r\\n\\t14\\t\\t886\\t\\t354\\t\\t223\\t\\t200\\t\\t1317\\t\\t1427\\t\\t0\\t\\t\\r\\n\\t15\\t\\t886\\t\\t366\\t\\t225\\t\\t188\\t\\t1110\\t\\t1266\\t\\t0\\t\\t\\r\\n\\t16\\t\\t887\\t\\t366\\t\\t227\\t\\t211\\t\\t840\\t\\t782\\t\\t0\\t\\t\\r\\n\\t17\\t\\t905\\t\\t368\\t\\t227\\t\\t240\\t\\t768\\t\\t123\\t\\t0\\t\\t\\r\\n\\t18\\t\\t905\\t\\t365\\t\\t226\\t\\t325\\t\\t1068\\t\\t0\\t\\t0\\t\\t\\r\\n\\t19\\t\\t904\\t\\t364\\t\\t226\\t\\t330\\t\\t968\\t\\t0\\t\\t0\\t\\t\\r\\n\\t20\\t\\t905\\t\\t364\\t\\t226\\t\\t322\\t\\t958\\t\\t0\\t\\t0\\t\\t\\r\\n\\t21\\t\\t904\\t\\t362\\t\\t227\\t\\t238\\t\\t821\\t\\t0\\t\\t0\\t\\t\\r\\n\\t22\\t\\t903\\t\\t364\\t\\t226\\t\\t212\\t\\t669\\t\\t0\\t\\t0\\t\\t\\r\\n\\t23\\t\\t902\\t\\t362\\t\\t226\\t\\t190\\t\\t650\\t\\t0\\t\\t0\\t\\t\\r\\n\\t24\\t\\t902\\t\\t361\\t\\t226\\t\\t187\\t\\t627\\t\\t0\\t\\t0\\t\\t\\r\\n\\t\\t\\t\\t\\t\\t\\t\\t\\t\\t\\t\\t\\t\\t\\t\\t\\t\\r\\n\\t\\t\\t\\t\\t\\t\\t\\t\\t\\t\\t\\t\\t\\t\\t\\t\\t\\r\\n\\t\\t\\tHourly Breakdown of Total Production by Resource Type (MW)\\t\\t\\t\\t\\t\\t\\t\\t\\t\\t\\t\\t\\t\\t\\r\\n\\tHour\\t\\tRENEWABLES\\tNUCLEAR\\t\\tTHERMAL\\t\\tIMPORTS\\t\\tHYDRO\\t\\t\\t\\t\\t\\t\\t\\r\\n\\t1\\t\\t2917\\t\\t2263\\t\\t6842\\t\\t6748\\t\\t1377\\t\\t\\t\\t\\t\\t\\r\\n\\t2\\t\\t3156\\t\\t2264\\t\\t6634\\t\\t6047\\t\\t1388\\t\\t\\t\\t\\t\\t\\r\\n\\t3\\t\\t2314\\t\\t2264\\t\\t7491\\t\\t5723\\t\\t1361\\t\\t\\t\\t\\t\\t\\r\\n\\t4\\t\\t3239\\t\\t2263\\t\\t6646\\t\\t5709\\t\\t1362\\t\\t\\t\\t\\t\\t\\r\\n\\t5\\t\\t3415\\t\\t2263\\t\\t7049\\t\\t5732\\t\\t1493\\t\\t\\t\\t\\t\\t\\r\\n\\t6\\t\\t3473\\t\\t2264\\t\\t7802\\t\\t6510\\t\\t1614\\t\\t\\t\\t\\t\\t\\r\\n\\t7\\t\\t3420\\t\\t2264\\t\\t8715\\t\\t7743\\t\\t2034\\t\\t\\t\\t\\t\\t\\r\\n\\t8\\t\\t3640\\t\\t2263\\t\\t9423\\t\\t8467\\t\\t2302\\t\\t\\t\\t\\t\\t\\r\\n\\t9\\t\\t4573\\t\\t2263\\t\\t9558\\t\\t8022\\t\\t2243\\t\\t\\t\\t\\t\\t\\r\\n\\t10\\t\\t5310\\t\\t2263\\t\\t9223\\t\\t8059\\t\\t2057\\t\\t\\t\\t\\t\\t\\r\\n\\t11\\t\\t5459\\t\\t2262\\t\\t9218\\t\\t8129\\t\\t1981\\t\\t\\t\\t\\t\\t\\r\\n\\t12\\t\\t5095\\t\\t2262\\t\\t9445\\t\\t8048\\t\\t2131\\t\\t\\t\\t\\t\\t\\r\\n\\t13\\t\\t4877\\t\\t2262\\t\\t9339\\t\\t8178\\t\\t2377\\t\\t\\t\\t\\t\\t\\r\\n\\t14\\t\\t4407\\t\\t2263\\t\\t9418\\t\\t8365\\t\\t2331\\t\\t\\t\\t\\t\\t\\r\\n\\t15\\t\\t4041\\t\\t2263\\t\\t9612\\t\\t8770\\t\\t1880\\t\\t\\t\\t\\t\\t\\r\\n\\t16\\t\\t3313\\t\\t2262\\t\\t9622\\t\\t9597\\t\\t1907\\t\\t\\t\\t\\t\\t\\r\\n\\t17\\t\\t2631\\t\\t2262\\t\\t10450\\t\\t9564\\t\\t2546\\t\\t\\t\\t\\t\\t\\r\\n\\t18\\t\\t2889\\t\\t2263\\t\\t11918\\t\\t9196\\t\\t2992\\t\\t\\t\\t\\t\\t\\r\\n\\t19\\t\\t2792\\t\\t2263\\t\\t11988\\t\\t9347\\t\\t2921\\t\\t\\t\\t\\t\\t\\r\\n\\t20\\t\\t2775\\t\\t2263\\t\\t11197\\t\\t9742\\t\\t2759\\t\\t\\t\\t\\t\\t\\r\\n\\t21\\t\\t2552\\t\\t2263\\t\\t10815\\t\\t9822\\t\\t2419\\t\\t\\t\\t\\t\\t\\r\\n\\t22\\t\\t2374\\t\\t2263\\t\\t10074\\t\\t9601\\t\\t2047\\t\\t\\t\\t\\t\\t\\r\\n\\t23\\t\\t2330\\t\\t2264\\t\\t9757\\t\\t8254\\t\\t1517\\t\\t\\t\\t\\t\\t\\r\\n\\t24\\t\\t2303\\t\\t2264\\t\\t8861\\t\\t7346\\t\\t1445\\t\\t\\t\\t\\t\\t\\r\\n' does not exist"
     ]
    }
   ],
   "source": [
    "df_caiso_jan14= text_to_df(jan14)#does not exist!!\n",
    "# df_caiso_jan14= text_to_df(jan14file) # UnsupportedOperation: read\n",
    "df_caiso_jan14= text_to_df(r) # Error: Invalid file path or buffer object type: <class 'requests.models.Response'>\n",
    "# DWW TRY STACK OVERFLOW FOR REFERENCES: ALSO LENOVO"
   ]
  },
  {
   "cell_type": "code",
   "execution_count": null,
   "metadata": {},
   "outputs": [],
   "source": []
  },
  {
   "cell_type": "code",
   "execution_count": 17,
   "metadata": {},
   "outputs": [
    {
     "data": {
      "image/png": "[encoded data removed]",
      "text/plain": [
       "<Figure size 432x288 with 1 Axes>"
      ]
     },
     "metadata": {
      "needs_background": "light"
     },
     "output_type": "display_data"
    }
   ],
   "source": [
    "# we can just keep repeating with multiple df's to see them all on the same plot\n",
    "import matplotlib.pyplot as plt\n",
    "plt.xlabel('Hour of the Day')\n",
    "plt.ylabel('Net Load (in GW)')\n",
    "plt.title('The Characteristic California Solar-Driven Duck Curve: Hourly Net Load')\n",
    "\n",
    "plt.plot(df['hour'], df['netload'])# need to convert to Numpy array first?, eg via npm= df.values: apparently NOT\n",
    "plt.show()\n"
   ]
  },
  {
   "cell_type": "code",
   "execution_count": null,
   "metadata": {},
   "outputs": [],
   "source": []
  },
  {
   "cell_type": "code",
   "execution_count": 27,
   "metadata": {},
   "outputs": [
    {
     "data": {
      "text/plain": [
       "('report20190114.txt', <http.client.HTTPMessage at 0x1177ec390>)"
      ]
     },
     "execution_count": 27,
     "metadata": {},
     "output_type": "execute_result"
    }
   ],
   "source": [
    "# Do we have the urllib library in the Anaconda distribution? It seems so, as no error thrown\n",
    "from urllib.request import urlretrieve\n",
    "url= 'http://www.caiso.com/market/Pages/ReportsBulletins/RenewablesReporting.aspx/20190114_DailyRenewablesWatch.txt'\n",
    "#NB the other daily file with all the charts is not a txt file, so will not be found!!\n",
    "urlretrieve( url, 'report20190114.txt')\n"
   ]
  },
  {
   "cell_type": "code",
   "execution_count": 28,
   "metadata": {},
   "outputs": [],
   "source": [
    "file= 'report20190114.txt'"
   ]
  },
  {
   "cell_type": "code",
   "execution_count": 29,
   "metadata": {},
   "outputs": [
    {
     "name": "stdout",
     "output_type": "stream",
     "text": [
      "report20190114.txt\n"
     ]
    }
   ],
   "source": [
    "print(file)#Hmmm: check Hugo tutorial and printing the file, so we can understand how to read it!!!"
   ]
  },
  {
   "cell_type": "code",
   "execution_count": 20,
   "metadata": {
    "collapsed": true
   },
   "outputs": [
    {
     "ename": "ParserError",
     "evalue": "Error tokenizing data. C error: Expected 5 fields in line 6, saw 28\n",
     "output_type": "error",
     "traceback": [
      "\u001b[0;31m---------------------------------------------------------------------------\u001b[0m",
      "\u001b[0;31mParserError\u001b[0m                               Traceback (most recent call last)",
      "\u001b[0;32m<ipython-input-20-6843fc7e0cd8>\u001b[0m in \u001b[0;36m<module>\u001b[0;34m\u001b[0m\n\u001b[0;32m----> 1\u001b[0;31m \u001b[0mtext_to_df\u001b[0m\u001b[0;34m(\u001b[0m\u001b[0;34m'report20190114.txt'\u001b[0m\u001b[0;34m)\u001b[0m \u001b[0;31m# Error tokenizing data. C error: Expected 5 fields in line 6, saw 28\u001b[0m\u001b[0;34m\u001b[0m\u001b[0;34m\u001b[0m\u001b[0m\n\u001b[0m\u001b[1;32m      2\u001b[0m \u001b[0;31m# Hmm: confusing. why line 6? 28 columns seems too large vs. the 8 columns in df1 !?\u001b[0m\u001b[0;34m\u001b[0m\u001b[0;34m\u001b[0m\u001b[0;34m\u001b[0m\u001b[0m\n",
      "\u001b[0;32m<ipython-input-10-505a9cf70e95>\u001b[0m in \u001b[0;36mtext_to_df\u001b[0;34m(file)\u001b[0m\n\u001b[1;32m      3\u001b[0m \u001b[0;32mdef\u001b[0m \u001b[0mtext_to_df\u001b[0m\u001b[0;34m(\u001b[0m\u001b[0mfile\u001b[0m\u001b[0;34m)\u001b[0m\u001b[0;34m:\u001b[0m\u001b[0;34m\u001b[0m\u001b[0;34m\u001b[0m\u001b[0m\n\u001b[1;32m      4\u001b[0m \u001b[0;34m\u001b[0m\u001b[0m\n\u001b[0;32m----> 5\u001b[0;31m     \u001b[0mdf1\u001b[0m\u001b[0;34m=\u001b[0m \u001b[0mpd\u001b[0m\u001b[0;34m.\u001b[0m\u001b[0mread_csv\u001b[0m\u001b[0;34m(\u001b[0m\u001b[0mfile\u001b[0m\u001b[0;34m,\u001b[0m \u001b[0msep\u001b[0m\u001b[0;34m=\u001b[0m \u001b[0;34m'\\s+'\u001b[0m\u001b[0;34m,\u001b[0m\u001b[0mskiprows\u001b[0m \u001b[0;34m=\u001b[0m \u001b[0;36m2\u001b[0m\u001b[0;34m,\u001b[0m \u001b[0mheader\u001b[0m\u001b[0;34m=\u001b[0m \u001b[0;32mNone\u001b[0m\u001b[0;34m,\u001b[0m \u001b[0mnrows\u001b[0m\u001b[0;34m=\u001b[0m \u001b[0;36m24\u001b[0m\u001b[0;34m)\u001b[0m\u001b[0;34m\u001b[0m\u001b[0;34m\u001b[0m\u001b[0m\n\u001b[0m\u001b[1;32m      6\u001b[0m     \u001b[0mdf1\u001b[0m\u001b[0;34m.\u001b[0m\u001b[0mcolumns\u001b[0m\u001b[0;34m=\u001b[0m \u001b[0;34m[\u001b[0m\u001b[0;34m'hour'\u001b[0m\u001b[0;34m,\u001b[0m\u001b[0;34m'geo'\u001b[0m\u001b[0;34m,\u001b[0m\u001b[0;34m'biom'\u001b[0m\u001b[0;34m,\u001b[0m\u001b[0;34m'biog'\u001b[0m\u001b[0;34m,\u001b[0m\u001b[0;34m'shydro'\u001b[0m\u001b[0;34m,\u001b[0m\u001b[0;34m'wind'\u001b[0m\u001b[0;34m,\u001b[0m\u001b[0;34m'solar'\u001b[0m\u001b[0;34m,\u001b[0m\u001b[0;34m'solth'\u001b[0m\u001b[0;34m]\u001b[0m\u001b[0;34m\u001b[0m\u001b[0;34m\u001b[0m\u001b[0m\n\u001b[1;32m      7\u001b[0m     \u001b[0mdf2\u001b[0m\u001b[0;34m=\u001b[0m \u001b[0mpd\u001b[0m\u001b[0;34m.\u001b[0m\u001b[0mread_csv\u001b[0m\u001b[0;34m(\u001b[0m\u001b[0mfile\u001b[0m\u001b[0;34m,\u001b[0m\u001b[0msep\u001b[0m\u001b[0;34m=\u001b[0m \u001b[0;34m'\\s+'\u001b[0m\u001b[0;34m,\u001b[0m\u001b[0mskiprows\u001b[0m \u001b[0;34m=\u001b[0m \u001b[0;36m30\u001b[0m\u001b[0;34m,\u001b[0m \u001b[0mheader\u001b[0m\u001b[0;34m=\u001b[0m \u001b[0;32mNone\u001b[0m\u001b[0;34m,\u001b[0m \u001b[0mnrows\u001b[0m\u001b[0;34m=\u001b[0m \u001b[0;36m24\u001b[0m\u001b[0;34m)\u001b[0m\u001b[0;34m\u001b[0m\u001b[0;34m\u001b[0m\u001b[0m\n",
      "\u001b[0;32m/anaconda3/lib/python3.7/site-packages/pandas/io/parsers.py\u001b[0m in \u001b[0;36mparser_f\u001b[0;34m(filepath_or_buffer, sep, delimiter, header, names, index_col, usecols, squeeze, prefix, mangle_dupe_cols, dtype, engine, converters, true_values, false_values, skipinitialspace, skiprows, nrows, na_values, keep_default_na, na_filter, verbose, skip_blank_lines, parse_dates, infer_datetime_format, keep_date_col, date_parser, dayfirst, iterator, chunksize, compression, thousands, decimal, lineterminator, quotechar, quoting, escapechar, comment, encoding, dialect, tupleize_cols, error_bad_lines, warn_bad_lines, skipfooter, doublequote, delim_whitespace, low_memory, memory_map, float_precision)\u001b[0m\n\u001b[1;32m    676\u001b[0m                     skip_blank_lines=skip_blank_lines)\n\u001b[1;32m    677\u001b[0m \u001b[0;34m\u001b[0m\u001b[0m\n\u001b[0;32m--> 678\u001b[0;31m         \u001b[0;32mreturn\u001b[0m \u001b[0m_read\u001b[0m\u001b[0;34m(\u001b[0m\u001b[0mfilepath_or_buffer\u001b[0m\u001b[0;34m,\u001b[0m \u001b[0mkwds\u001b[0m\u001b[0;34m)\u001b[0m\u001b[0;34m\u001b[0m\u001b[0;34m\u001b[0m\u001b[0m\n\u001b[0m\u001b[1;32m    679\u001b[0m \u001b[0;34m\u001b[0m\u001b[0m\n\u001b[1;32m    680\u001b[0m     \u001b[0mparser_f\u001b[0m\u001b[0;34m.\u001b[0m\u001b[0m__name__\u001b[0m \u001b[0;34m=\u001b[0m \u001b[0mname\u001b[0m\u001b[0;34m\u001b[0m\u001b[0;34m\u001b[0m\u001b[0m\n",
      "\u001b[0;32m/anaconda3/lib/python3.7/site-packages/pandas/io/parsers.py\u001b[0m in \u001b[0;36m_read\u001b[0;34m(filepath_or_buffer, kwds)\u001b[0m\n\u001b[1;32m    444\u001b[0m \u001b[0;34m\u001b[0m\u001b[0m\n\u001b[1;32m    445\u001b[0m     \u001b[0;32mtry\u001b[0m\u001b[0;34m:\u001b[0m\u001b[0;34m\u001b[0m\u001b[0;34m\u001b[0m\u001b[0m\n\u001b[0;32m--> 446\u001b[0;31m         \u001b[0mdata\u001b[0m \u001b[0;34m=\u001b[0m \u001b[0mparser\u001b[0m\u001b[0;34m.\u001b[0m\u001b[0mread\u001b[0m\u001b[0;34m(\u001b[0m\u001b[0mnrows\u001b[0m\u001b[0;34m)\u001b[0m\u001b[0;34m\u001b[0m\u001b[0;34m\u001b[0m\u001b[0m\n\u001b[0m\u001b[1;32m    447\u001b[0m     \u001b[0;32mfinally\u001b[0m\u001b[0;34m:\u001b[0m\u001b[0;34m\u001b[0m\u001b[0;34m\u001b[0m\u001b[0m\n\u001b[1;32m    448\u001b[0m         \u001b[0mparser\u001b[0m\u001b[0;34m.\u001b[0m\u001b[0mclose\u001b[0m\u001b[0;34m(\u001b[0m\u001b[0;34m)\u001b[0m\u001b[0;34m\u001b[0m\u001b[0;34m\u001b[0m\u001b[0m\n",
      "\u001b[0;32m/anaconda3/lib/python3.7/site-packages/pandas/io/parsers.py\u001b[0m in \u001b[0;36mread\u001b[0;34m(self, nrows)\u001b[0m\n\u001b[1;32m   1034\u001b[0m                 \u001b[0;32mraise\u001b[0m \u001b[0mValueError\u001b[0m\u001b[0;34m(\u001b[0m\u001b[0;34m'skipfooter not supported for iteration'\u001b[0m\u001b[0;34m)\u001b[0m\u001b[0;34m\u001b[0m\u001b[0;34m\u001b[0m\u001b[0m\n\u001b[1;32m   1035\u001b[0m \u001b[0;34m\u001b[0m\u001b[0m\n\u001b[0;32m-> 1036\u001b[0;31m         \u001b[0mret\u001b[0m \u001b[0;34m=\u001b[0m \u001b[0mself\u001b[0m\u001b[0;34m.\u001b[0m\u001b[0m_engine\u001b[0m\u001b[0;34m.\u001b[0m\u001b[0mread\u001b[0m\u001b[0;34m(\u001b[0m\u001b[0mnrows\u001b[0m\u001b[0;34m)\u001b[0m\u001b[0;34m\u001b[0m\u001b[0;34m\u001b[0m\u001b[0m\n\u001b[0m\u001b[1;32m   1037\u001b[0m \u001b[0;34m\u001b[0m\u001b[0m\n\u001b[1;32m   1038\u001b[0m         \u001b[0;31m# May alter columns / col_dict\u001b[0m\u001b[0;34m\u001b[0m\u001b[0;34m\u001b[0m\u001b[0;34m\u001b[0m\u001b[0m\n",
      "\u001b[0;32m/anaconda3/lib/python3.7/site-packages/pandas/io/parsers.py\u001b[0m in \u001b[0;36mread\u001b[0;34m(self, nrows)\u001b[0m\n\u001b[1;32m   1846\u001b[0m     \u001b[0;32mdef\u001b[0m \u001b[0mread\u001b[0m\u001b[0;34m(\u001b[0m\u001b[0mself\u001b[0m\u001b[0;34m,\u001b[0m \u001b[0mnrows\u001b[0m\u001b[0;34m=\u001b[0m\u001b[0;32mNone\u001b[0m\u001b[0;34m)\u001b[0m\u001b[0;34m:\u001b[0m\u001b[0;34m\u001b[0m\u001b[0;34m\u001b[0m\u001b[0m\n\u001b[1;32m   1847\u001b[0m         \u001b[0;32mtry\u001b[0m\u001b[0;34m:\u001b[0m\u001b[0;34m\u001b[0m\u001b[0;34m\u001b[0m\u001b[0m\n\u001b[0;32m-> 1848\u001b[0;31m             \u001b[0mdata\u001b[0m \u001b[0;34m=\u001b[0m \u001b[0mself\u001b[0m\u001b[0;34m.\u001b[0m\u001b[0m_reader\u001b[0m\u001b[0;34m.\u001b[0m\u001b[0mread\u001b[0m\u001b[0;34m(\u001b[0m\u001b[0mnrows\u001b[0m\u001b[0;34m)\u001b[0m\u001b[0;34m\u001b[0m\u001b[0;34m\u001b[0m\u001b[0m\n\u001b[0m\u001b[1;32m   1849\u001b[0m         \u001b[0;32mexcept\u001b[0m \u001b[0mStopIteration\u001b[0m\u001b[0;34m:\u001b[0m\u001b[0;34m\u001b[0m\u001b[0;34m\u001b[0m\u001b[0m\n\u001b[1;32m   1850\u001b[0m             \u001b[0;32mif\u001b[0m \u001b[0mself\u001b[0m\u001b[0;34m.\u001b[0m\u001b[0m_first_chunk\u001b[0m\u001b[0;34m:\u001b[0m\u001b[0;34m\u001b[0m\u001b[0;34m\u001b[0m\u001b[0m\n",
      "\u001b[0;32mpandas/_libs/parsers.pyx\u001b[0m in \u001b[0;36mpandas._libs.parsers.TextReader.read\u001b[0;34m()\u001b[0m\n",
      "\u001b[0;32mpandas/_libs/parsers.pyx\u001b[0m in \u001b[0;36mpandas._libs.parsers.TextReader._read_low_memory\u001b[0;34m()\u001b[0m\n",
      "\u001b[0;32mpandas/_libs/parsers.pyx\u001b[0m in \u001b[0;36mpandas._libs.parsers.TextReader._read_rows\u001b[0;34m()\u001b[0m\n",
      "\u001b[0;32mpandas/_libs/parsers.pyx\u001b[0m in \u001b[0;36mpandas._libs.parsers.TextReader._tokenize_rows\u001b[0;34m()\u001b[0m\n",
      "\u001b[0;32mpandas/_libs/parsers.pyx\u001b[0m in \u001b[0;36mpandas._libs.parsers.raise_parser_error\u001b[0;34m()\u001b[0m\n",
      "\u001b[0;31mParserError\u001b[0m: Error tokenizing data. C error: Expected 5 fields in line 6, saw 28\n"
     ]
    }
   ],
   "source": [
    "text_to_df('report20190114.txt') # Error tokenizing data. C error: Expected 5 fields in line 6, saw 28\n",
    "# Hmm: confusing. why line 6? 28 columns seems too large vs. the 8 columns in df1 !?"
   ]
  },
  {
   "cell_type": "code",
   "execution_count": 24,
   "metadata": {},
   "outputs": [],
   "source": [
    "# Now try it for january 12th, with automatic download from the CAISO website (RE-TYPE inverted commas if pasted!!)\n",
    "url2='http://www.caiso.com/market/Pages/ReportsBulletins/RenewablesReporting.aspx/20190112_DailyRenewablesWatch.txt'"
   ]
  },
  {
   "cell_type": "code",
   "execution_count": null,
   "metadata": {},
   "outputs": [],
   "source": [
    "# paste from above then modify\n",
    "url2= 'http://www.caiso.com/market/Pages/ReportsBulletins/RenewablesReporting.aspx/20190112_DailyRenewablesWatch.txt'"
   ]
  },
  {
   "cell_type": "code",
   "execution_count": 25,
   "metadata": {},
   "outputs": [
    {
     "data": {
      "text/plain": [
       "('report20190112.txt', <http.client.HTTPMessage at 0x1177eceb8>)"
      ]
     },
     "execution_count": 25,
     "metadata": {},
     "output_type": "execute_result"
    }
   ],
   "source": [
    "urlretrieve( url2, 'report20190112.txt') # naming the locally downloaded file for the January 12th text file\n",
    "# error message went away after retyping the pasted commas!!"
   ]
  },
  {
   "cell_type": "code",
   "execution_count": 30,
   "metadata": {
    "collapsed": true
   },
   "outputs": [
    {
     "ename": "ParserError",
     "evalue": "Error tokenizing data. C error: Expected 5 fields in line 6, saw 28\n",
     "output_type": "error",
     "traceback": [
      "\u001b[0;31m---------------------------------------------------------------------------\u001b[0m",
      "\u001b[0;31mParserError\u001b[0m                               Traceback (most recent call last)",
      "\u001b[0;32m<ipython-input-30-a3310e5aaefa>\u001b[0m in \u001b[0;36m<module>\u001b[0;34m\u001b[0m\n\u001b[0;32m----> 1\u001b[0;31m \u001b[0mtext_to_df\u001b[0m\u001b[0;34m(\u001b[0m\u001b[0;34m'report20190112.txt'\u001b[0m\u001b[0;34m)\u001b[0m \u001b[0;31m# running the function on the January 12th file\u001b[0m\u001b[0;34m\u001b[0m\u001b[0;34m\u001b[0m\u001b[0m\n\u001b[0m\u001b[1;32m      2\u001b[0m \u001b[0;31m# Error tokenizing data. C error: Expected 5 fields in line 6, saw 28\u001b[0m\u001b[0;34m\u001b[0m\u001b[0;34m\u001b[0m\u001b[0;34m\u001b[0m\u001b[0m\n",
      "\u001b[0;32m<ipython-input-10-505a9cf70e95>\u001b[0m in \u001b[0;36mtext_to_df\u001b[0;34m(file)\u001b[0m\n\u001b[1;32m      3\u001b[0m \u001b[0;32mdef\u001b[0m \u001b[0mtext_to_df\u001b[0m\u001b[0;34m(\u001b[0m\u001b[0mfile\u001b[0m\u001b[0;34m)\u001b[0m\u001b[0;34m:\u001b[0m\u001b[0;34m\u001b[0m\u001b[0;34m\u001b[0m\u001b[0m\n\u001b[1;32m      4\u001b[0m \u001b[0;34m\u001b[0m\u001b[0m\n\u001b[0;32m----> 5\u001b[0;31m     \u001b[0mdf1\u001b[0m\u001b[0;34m=\u001b[0m \u001b[0mpd\u001b[0m\u001b[0;34m.\u001b[0m\u001b[0mread_csv\u001b[0m\u001b[0;34m(\u001b[0m\u001b[0mfile\u001b[0m\u001b[0;34m,\u001b[0m \u001b[0msep\u001b[0m\u001b[0;34m=\u001b[0m \u001b[0;34m'\\s+'\u001b[0m\u001b[0;34m,\u001b[0m\u001b[0mskiprows\u001b[0m \u001b[0;34m=\u001b[0m \u001b[0;36m2\u001b[0m\u001b[0;34m,\u001b[0m \u001b[0mheader\u001b[0m\u001b[0;34m=\u001b[0m \u001b[0;32mNone\u001b[0m\u001b[0;34m,\u001b[0m \u001b[0mnrows\u001b[0m\u001b[0;34m=\u001b[0m \u001b[0;36m24\u001b[0m\u001b[0;34m)\u001b[0m\u001b[0;34m\u001b[0m\u001b[0;34m\u001b[0m\u001b[0m\n\u001b[0m\u001b[1;32m      6\u001b[0m     \u001b[0mdf1\u001b[0m\u001b[0;34m.\u001b[0m\u001b[0mcolumns\u001b[0m\u001b[0;34m=\u001b[0m \u001b[0;34m[\u001b[0m\u001b[0;34m'hour'\u001b[0m\u001b[0;34m,\u001b[0m\u001b[0;34m'geo'\u001b[0m\u001b[0;34m,\u001b[0m\u001b[0;34m'biom'\u001b[0m\u001b[0;34m,\u001b[0m\u001b[0;34m'biog'\u001b[0m\u001b[0;34m,\u001b[0m\u001b[0;34m'shydro'\u001b[0m\u001b[0;34m,\u001b[0m\u001b[0;34m'wind'\u001b[0m\u001b[0;34m,\u001b[0m\u001b[0;34m'solar'\u001b[0m\u001b[0;34m,\u001b[0m\u001b[0;34m'solth'\u001b[0m\u001b[0;34m]\u001b[0m\u001b[0;34m\u001b[0m\u001b[0;34m\u001b[0m\u001b[0m\n\u001b[1;32m      7\u001b[0m     \u001b[0mdf2\u001b[0m\u001b[0;34m=\u001b[0m \u001b[0mpd\u001b[0m\u001b[0;34m.\u001b[0m\u001b[0mread_csv\u001b[0m\u001b[0;34m(\u001b[0m\u001b[0mfile\u001b[0m\u001b[0;34m,\u001b[0m\u001b[0msep\u001b[0m\u001b[0;34m=\u001b[0m \u001b[0;34m'\\s+'\u001b[0m\u001b[0;34m,\u001b[0m\u001b[0mskiprows\u001b[0m \u001b[0;34m=\u001b[0m \u001b[0;36m30\u001b[0m\u001b[0;34m,\u001b[0m \u001b[0mheader\u001b[0m\u001b[0;34m=\u001b[0m \u001b[0;32mNone\u001b[0m\u001b[0;34m,\u001b[0m \u001b[0mnrows\u001b[0m\u001b[0;34m=\u001b[0m \u001b[0;36m24\u001b[0m\u001b[0;34m)\u001b[0m\u001b[0;34m\u001b[0m\u001b[0;34m\u001b[0m\u001b[0m\n",
      "\u001b[0;32m/anaconda3/lib/python3.7/site-packages/pandas/io/parsers.py\u001b[0m in \u001b[0;36mparser_f\u001b[0;34m(filepath_or_buffer, sep, delimiter, header, names, index_col, usecols, squeeze, prefix, mangle_dupe_cols, dtype, engine, converters, true_values, false_values, skipinitialspace, skiprows, nrows, na_values, keep_default_na, na_filter, verbose, skip_blank_lines, parse_dates, infer_datetime_format, keep_date_col, date_parser, dayfirst, iterator, chunksize, compression, thousands, decimal, lineterminator, quotechar, quoting, escapechar, comment, encoding, dialect, tupleize_cols, error_bad_lines, warn_bad_lines, skipfooter, doublequote, delim_whitespace, low_memory, memory_map, float_precision)\u001b[0m\n\u001b[1;32m    676\u001b[0m                     skip_blank_lines=skip_blank_lines)\n\u001b[1;32m    677\u001b[0m \u001b[0;34m\u001b[0m\u001b[0m\n\u001b[0;32m--> 678\u001b[0;31m         \u001b[0;32mreturn\u001b[0m \u001b[0m_read\u001b[0m\u001b[0;34m(\u001b[0m\u001b[0mfilepath_or_buffer\u001b[0m\u001b[0;34m,\u001b[0m \u001b[0mkwds\u001b[0m\u001b[0;34m)\u001b[0m\u001b[0;34m\u001b[0m\u001b[0;34m\u001b[0m\u001b[0m\n\u001b[0m\u001b[1;32m    679\u001b[0m \u001b[0;34m\u001b[0m\u001b[0m\n\u001b[1;32m    680\u001b[0m     \u001b[0mparser_f\u001b[0m\u001b[0;34m.\u001b[0m\u001b[0m__name__\u001b[0m \u001b[0;34m=\u001b[0m \u001b[0mname\u001b[0m\u001b[0;34m\u001b[0m\u001b[0;34m\u001b[0m\u001b[0m\n",
      "\u001b[0;32m/anaconda3/lib/python3.7/site-packages/pandas/io/parsers.py\u001b[0m in \u001b[0;36m_read\u001b[0;34m(filepath_or_buffer, kwds)\u001b[0m\n\u001b[1;32m    444\u001b[0m \u001b[0;34m\u001b[0m\u001b[0m\n\u001b[1;32m    445\u001b[0m     \u001b[0;32mtry\u001b[0m\u001b[0;34m:\u001b[0m\u001b[0;34m\u001b[0m\u001b[0;34m\u001b[0m\u001b[0m\n\u001b[0;32m--> 446\u001b[0;31m         \u001b[0mdata\u001b[0m \u001b[0;34m=\u001b[0m \u001b[0mparser\u001b[0m\u001b[0;34m.\u001b[0m\u001b[0mread\u001b[0m\u001b[0;34m(\u001b[0m\u001b[0mnrows\u001b[0m\u001b[0;34m)\u001b[0m\u001b[0;34m\u001b[0m\u001b[0;34m\u001b[0m\u001b[0m\n\u001b[0m\u001b[1;32m    447\u001b[0m     \u001b[0;32mfinally\u001b[0m\u001b[0;34m:\u001b[0m\u001b[0;34m\u001b[0m\u001b[0;34m\u001b[0m\u001b[0m\n\u001b[1;32m    448\u001b[0m         \u001b[0mparser\u001b[0m\u001b[0;34m.\u001b[0m\u001b[0mclose\u001b[0m\u001b[0;34m(\u001b[0m\u001b[0;34m)\u001b[0m\u001b[0;34m\u001b[0m\u001b[0;34m\u001b[0m\u001b[0m\n",
      "\u001b[0;32m/anaconda3/lib/python3.7/site-packages/pandas/io/parsers.py\u001b[0m in \u001b[0;36mread\u001b[0;34m(self, nrows)\u001b[0m\n\u001b[1;32m   1034\u001b[0m                 \u001b[0;32mraise\u001b[0m \u001b[0mValueError\u001b[0m\u001b[0;34m(\u001b[0m\u001b[0;34m'skipfooter not supported for iteration'\u001b[0m\u001b[0;34m)\u001b[0m\u001b[0;34m\u001b[0m\u001b[0;34m\u001b[0m\u001b[0m\n\u001b[1;32m   1035\u001b[0m \u001b[0;34m\u001b[0m\u001b[0m\n\u001b[0;32m-> 1036\u001b[0;31m         \u001b[0mret\u001b[0m \u001b[0;34m=\u001b[0m \u001b[0mself\u001b[0m\u001b[0;34m.\u001b[0m\u001b[0m_engine\u001b[0m\u001b[0;34m.\u001b[0m\u001b[0mread\u001b[0m\u001b[0;34m(\u001b[0m\u001b[0mnrows\u001b[0m\u001b[0;34m)\u001b[0m\u001b[0;34m\u001b[0m\u001b[0;34m\u001b[0m\u001b[0m\n\u001b[0m\u001b[1;32m   1037\u001b[0m \u001b[0;34m\u001b[0m\u001b[0m\n\u001b[1;32m   1038\u001b[0m         \u001b[0;31m# May alter columns / col_dict\u001b[0m\u001b[0;34m\u001b[0m\u001b[0;34m\u001b[0m\u001b[0;34m\u001b[0m\u001b[0m\n",
      "\u001b[0;32m/anaconda3/lib/python3.7/site-packages/pandas/io/parsers.py\u001b[0m in \u001b[0;36mread\u001b[0;34m(self, nrows)\u001b[0m\n\u001b[1;32m   1846\u001b[0m     \u001b[0;32mdef\u001b[0m \u001b[0mread\u001b[0m\u001b[0;34m(\u001b[0m\u001b[0mself\u001b[0m\u001b[0;34m,\u001b[0m \u001b[0mnrows\u001b[0m\u001b[0;34m=\u001b[0m\u001b[0;32mNone\u001b[0m\u001b[0;34m)\u001b[0m\u001b[0;34m:\u001b[0m\u001b[0;34m\u001b[0m\u001b[0;34m\u001b[0m\u001b[0m\n\u001b[1;32m   1847\u001b[0m         \u001b[0;32mtry\u001b[0m\u001b[0;34m:\u001b[0m\u001b[0;34m\u001b[0m\u001b[0;34m\u001b[0m\u001b[0m\n\u001b[0;32m-> 1848\u001b[0;31m             \u001b[0mdata\u001b[0m \u001b[0;34m=\u001b[0m \u001b[0mself\u001b[0m\u001b[0;34m.\u001b[0m\u001b[0m_reader\u001b[0m\u001b[0;34m.\u001b[0m\u001b[0mread\u001b[0m\u001b[0;34m(\u001b[0m\u001b[0mnrows\u001b[0m\u001b[0;34m)\u001b[0m\u001b[0;34m\u001b[0m\u001b[0;34m\u001b[0m\u001b[0m\n\u001b[0m\u001b[1;32m   1849\u001b[0m         \u001b[0;32mexcept\u001b[0m \u001b[0mStopIteration\u001b[0m\u001b[0;34m:\u001b[0m\u001b[0;34m\u001b[0m\u001b[0;34m\u001b[0m\u001b[0m\n\u001b[1;32m   1850\u001b[0m             \u001b[0;32mif\u001b[0m \u001b[0mself\u001b[0m\u001b[0;34m.\u001b[0m\u001b[0m_first_chunk\u001b[0m\u001b[0;34m:\u001b[0m\u001b[0;34m\u001b[0m\u001b[0;34m\u001b[0m\u001b[0m\n",
      "\u001b[0;32mpandas/_libs/parsers.pyx\u001b[0m in \u001b[0;36mpandas._libs.parsers.TextReader.read\u001b[0;34m()\u001b[0m\n",
      "\u001b[0;32mpandas/_libs/parsers.pyx\u001b[0m in \u001b[0;36mpandas._libs.parsers.TextReader._read_low_memory\u001b[0;34m()\u001b[0m\n",
      "\u001b[0;32mpandas/_libs/parsers.pyx\u001b[0m in \u001b[0;36mpandas._libs.parsers.TextReader._read_rows\u001b[0;34m()\u001b[0m\n",
      "\u001b[0;32mpandas/_libs/parsers.pyx\u001b[0m in \u001b[0;36mpandas._libs.parsers.TextReader._tokenize_rows\u001b[0;34m()\u001b[0m\n",
      "\u001b[0;32mpandas/_libs/parsers.pyx\u001b[0m in \u001b[0;36mpandas._libs.parsers.raise_parser_error\u001b[0;34m()\u001b[0m\n",
      "\u001b[0;31mParserError\u001b[0m: Error tokenizing data. C error: Expected 5 fields in line 6, saw 28\n"
     ]
    }
   ],
   "source": [
    "text_to_df('report20190112.txt') # running the function on the January 12th file\n",
    "# Error tokenizing data. C error: Expected 5 fields in line 6, saw 28"
   ]
  },
  {
   "cell_type": "code",
   "execution_count": null,
   "metadata": {},
   "outputs": [],
   "source": [
    "#Whoops: first we must correctly name the long file to download from CAISO\n",
    "caisonames= [’http://www.caiso.com/market/Pages/ReportsBulletins/RenewablesReporting.aspx/'+ date + \n",
    "              /'_DailyRenewablesWatch.txt’ for date in dates] "
   ]
  },
  {
   "cell_type": "code",
   "execution_count": null,
   "metadata": {},
   "outputs": [],
   "source": [
    "dates= [d.strftime('%Y%m%d') for d in pd.date_range('20181201','20181231')] #try this for month of December to start\n",
    "dates[0:2]"
   ]
  },
  {
   "cell_type": "code",
   "execution_count": null,
   "metadata": {},
   "outputs": [],
   "source": [
    "filenames= []\n",
    "for date in dates:\n",
    "    filenames.append('report'+ date + '.text')\n",
    "filenames[0:2]"
   ]
  },
  {
   "cell_type": "code",
   "execution_count": null,
   "metadata": {},
   "outputs": [],
   "source": [
    "reportnames= ['report'+ date + '.text' for date in dates] # more succinctly using a list comprehension\n",
    "reportnames[0:3]"
   ]
  },
  {
   "cell_type": "code",
   "execution_count": null,
   "metadata": {},
   "outputs": [],
   "source": [
    "dfs= []\n",
    "for report in reportnames:\n",
    "    frames.append(text_to_df(report))\n",
    "combined= pd.concat(dfs)\n",
    "combined.shape\n",
    "combined.head()\n",
    "    "
   ]
  },
  {
   "cell_type": "code",
   "execution_count": null,
   "metadata": {},
   "outputs": [],
   "source": [
    "combined.tail()"
   ]
  },
  {
   "cell_type": "markdown",
   "metadata": {},
   "source": [
    "# Below is a screenshot of DS Code"
   ]
  },
  {
   "attachments": {
    "image.png": {
     "image/png": "[encoded data removed]"
    }
   },
   "cell_type": "markdown",
   "metadata": {},
   "source": [
    "![image.png](attachment:image.png)"
   ]
  },
  {
   "cell_type": "code",
   "execution_count": null,
   "metadata": {},
   "outputs": [],
   "source": []
  },
  {
   "cell_type": "code",
   "execution_count": null,
   "metadata": {},
   "outputs": [],
   "source": []
  },
  {
   "cell_type": "code",
   "execution_count": null,
   "metadata": {},
   "outputs": [],
   "source": []
  },
  {
   "cell_type": "markdown",
   "metadata": {},
   "source": [
    "# OLD CODE LISTED BELOW FOR POSSIBLE RECYCLING: IGNORE!"
   ]
  },
  {
   "cell_type": "code",
   "execution_count": null,
   "metadata": {},
   "outputs": [],
   "source": [
    "df_Mar= pd.read_csv('March_2018.csv', header= 0, usecols= [0,2,3,8,9,13,14],parse_dates= True, index_col= 'INTERVALSTARTTIME_GMT')"
   ]
  },
  {
   "cell_type": "code",
   "execution_count": null,
   "metadata": {},
   "outputs": [],
   "source": [
    "df_Apr= pd.read_csv('April_2018.csv', header= 0, usecols= [0,2,3,8,9,13,14],parse_dates= True, index_col= 'INTERVALSTARTTIME_GMT')"
   ]
  },
  {
   "cell_type": "code",
   "execution_count": null,
   "metadata": {},
   "outputs": [],
   "source": [
    "df_May= pd.read_csv('May_2018.csv', header= 0, usecols= [0,2,3,8,9,13,14],parse_dates= True, index_col= 'INTERVALSTARTTIME_GMT')"
   ]
  },
  {
   "cell_type": "code",
   "execution_count": null,
   "metadata": {},
   "outputs": [],
   "source": [
    "df_Jun= pd.read_csv('June_2018.csv', header= 0, usecols= [0,2,3,8,9,13,14],parse_dates= True, index_col= 'INTERVALSTARTTIME_GMT')"
   ]
  },
  {
   "cell_type": "code",
   "execution_count": null,
   "metadata": {},
   "outputs": [],
   "source": [
    "df_Jul= pd.read_csv('July_2018.csv', header= 0, usecols= [0,2,3,8,9,13,14],parse_dates= True, index_col= 'INTERVALSTARTTIME_GMT')\n"
   ]
  },
  {
   "cell_type": "code",
   "execution_count": null,
   "metadata": {},
   "outputs": [],
   "source": [
    "df_Aug= pd.read_csv('August_2018.csv', header= 0, usecols= [0,2,3,8,9,13,14],parse_dates= True, index_col= 'INTERVALSTARTTIME_GMT')\n"
   ]
  },
  {
   "cell_type": "code",
   "execution_count": null,
   "metadata": {},
   "outputs": [],
   "source": [
    "df_Sep= pd.read_csv('September_2018.csv', header= 0, usecols= [0,2,3,8,9,13,14],parse_dates= True, index_col= 'INTERVALSTARTTIME_GMT')"
   ]
  },
  {
   "cell_type": "code",
   "execution_count": null,
   "metadata": {},
   "outputs": [],
   "source": [
    "df_Oct= pd.read_csv('October_2018.csv', header= 0, usecols= [0,2,3,8,9,13,14],parse_dates= True, index_col= 'INTERVALSTARTTIME_GMT')\n"
   ]
  },
  {
   "cell_type": "code",
   "execution_count": null,
   "metadata": {},
   "outputs": [],
   "source": [
    "df_Nov= pd.read_csv('November_2018.csv', header= 0, usecols= [0,2,3,8,9,13,14],parse_dates= True, index_col= 'INTERVALSTARTTIME_GMT')"
   ]
  },
  {
   "cell_type": "code",
   "execution_count": null,
   "metadata": {},
   "outputs": [],
   "source": [
    "frames= [df_Jan,df_Feb,df_Mar, df_Apr, df_May, df_Jun, df_Jul,df_Aug, df_Sep, df_Oct, df_Nov]\n",
    "df1= pd.concat(frames)"
   ]
  },
  {
   "cell_type": "code",
   "execution_count": null,
   "metadata": {},
   "outputs": [],
   "source": [
    "dfp= df1[df1['LMP_TYPE'] == 'LMP'] # drops the other four price components and reduces data rows by 80%"
   ]
  },
  {
   "cell_type": "code",
   "execution_count": null,
   "metadata": {},
   "outputs": [],
   "source": [
    "dfp['date']= pd.to_datetime(dfp['OPR_DT']) #needed for plotting after the groupby"
   ]
  },
  {
   "cell_type": "code",
   "execution_count": null,
   "metadata": {},
   "outputs": [],
   "source": [
    "dfp.info() # as desired, the date is now the DateTime object (perfect for time series plotting)"
   ]
  },
  {
   "cell_type": "code",
   "execution_count": null,
   "metadata": {},
   "outputs": [],
   "source": [
    "dfp= dfp.drop(['OPR_DT','LMP_TYPE','XML_DATA_ITEM'],axis=1)\n",
    "dfp.columns= ['hour','price','interval','day']\n",
    "dfp['weekday']= dfp.day.dt.weekday_name\n",
    "dfp.index.names= ['date']\n",
    "\n",
    "dfp.head() # "
   ]
  },
  {
   "cell_type": "code",
   "execution_count": null,
   "metadata": {},
   "outputs": [],
   "source": [
    "dfp.info()"
   ]
  },
  {
   "cell_type": "code",
   "execution_count": null,
   "metadata": {},
   "outputs": [],
   "source": [
    "# import matplotlib.pyplot as plt # shocking grid instability due to price peaks \n",
    "dfp['price'].plot()\n",
    "# plt.show()"
   ]
  },
  {
   "cell_type": "code",
   "execution_count": null,
   "metadata": {},
   "outputs": [],
   "source": [
    "Feb= dfp.loc['2018-02-01':'2018-02-28'] # if a peak of $1000/MWh occurs only 1%, it still adds $10/MWh to the mean!!!*****\n",
    "Feb['price'].plot()\n",
    "# So what is causing the spikes!! $10/MWh versus average of 25:mostly only for 3 months Feb, March, April (but 1% is for the YEAR)\n",
    "# Easy to quantify frequency by month (could it be unexpected drops in Wind not reflected in Day-Ahead-Market ??)\n",
    "# while the negative prices are more frequent at 3%, the value is maybe $20/MWh so contribution to the mean is only \n",
    "# Review \"State of the Market\" report by Potomac (ask them this!!)"
   ]
  },
  {
   "cell_type": "code",
   "execution_count": null,
   "metadata": {},
   "outputs": [],
   "source": [
    "Mar= dfp.loc['2018-03-01':'2018-03-31'] # so a peak of $140/MWh is 14 cents\n",
    "Feb['price'].plot()\n",
    "        "
   ]
  },
  {
   "cell_type": "code",
   "execution_count": null,
   "metadata": {},
   "outputs": [],
   "source": [
    "April= dfp.loc['2018-04-01':'2018-04-30'] # so a peak of $140/MWh is 14 cents\n",
    "Feb['price'].plot()"
   ]
  },
  {
   "cell_type": "code",
   "execution_count": null,
   "metadata": {},
   "outputs": [],
   "source": [
    "May= dfp.loc['2018-05-01':'2018-05-31'] # so a peak of $140/MWh is 14 cents\n",
    "May['price'].plot()"
   ]
  },
  {
   "cell_type": "code",
   "execution_count": null,
   "metadata": {},
   "outputs": [],
   "source": [
    "June= dfp.loc['2018-06-01':'2018-06-30'] # so a peak of $140/MWh is 14 cents\n",
    "June['price'].plot()"
   ]
  },
  {
   "cell_type": "code",
   "execution_count": null,
   "metadata": {},
   "outputs": [],
   "source": []
  },
  {
   "cell_type": "code",
   "execution_count": null,
   "metadata": {},
   "outputs": [],
   "source": [
    "dfp.price.plot(kind='hist', bins=20) # the outliers at 1000 (50x the normal price) spoil the display\n"
   ]
  },
  {
   "cell_type": "code",
   "execution_count": null,
   "metadata": {},
   "outputs": [],
   "source": [
    "dfp.boxplot(column= 'price', by= 'hour')\n"
   ]
  },
  {
   "cell_type": "code",
   "execution_count": null,
   "metadata": {},
   "outputs": [],
   "source": [
    "dfp.columns\n",
    "dfp.shape"
   ]
  },
  {
   "cell_type": "code",
   "execution_count": null,
   "metadata": {},
   "outputs": [],
   "source": [
    "spikep= dfp[dfp.price > 100]  # so we have 1.2% frequency of spike prices, although optically they dominate the plots!\n",
    "spikep.shape"
   ]
  },
  {
   "cell_type": "code",
   "execution_count": null,
   "metadata": {},
   "outputs": [],
   "source": [
    "normalp= dfp[(dfp.price < 100) & (dfp.price > 0)] # \n",
    "normalp.shape"
   ]
  },
  {
   "cell_type": "code",
   "execution_count": null,
   "metadata": {},
   "outputs": [],
   "source": [
    "negativep= dfp[(dfp.price < 0) & (dfp.price > -30)] # so almost 3% of the time we have a negative price or zero\n",
    "negativep.shape   # and just four times we have prices more negative than 50"
   ]
  },
  {
   "cell_type": "code",
   "execution_count": null,
   "metadata": {},
   "outputs": [],
   "source": [
    "normalp.boxplot(column= 'price', by= 'hour')  # below uses showfliers=False to exclude the outliers being displayed\n"
   ]
  },
  {
   "cell_type": "code",
   "execution_count": null,
   "metadata": {},
   "outputs": [],
   "source": [
    "normalp.boxplot(column= 'price', by= 'hour',showfliers=False)  # showfliers=False\n"
   ]
  },
  {
   "cell_type": "code",
   "execution_count": null,
   "metadata": {},
   "outputs": [],
   "source": [
    "g= normalp.groupby('hour')\n",
    "g.count()\n",
    "\n",
    "# This seems to be saying that the three hours in November with the most frequent low prices are from 10am to 3pm\n",
    "# But these 172 five-minute intervals average only 29 minutes a day of prices below $20/MWh\n",
    "# Level 1 charger is normally 2 hours of charging: MAY NEED TO INCREASE THRESHOLD TO 3 CENTS/$30/MWh\n",
    "# BIG QUESTION IS WHETHER THE DIFFERENCE FOR PEAK EVENING PRICES EXCEEDS 25 CENTS/KWH, OF $45/MWh (see p.17 of \"Charging Smart\")\n",
    "# Counts can be compared to 30 days x 12 Intervals = 360 Intervals/month"
   ]
  },
  {
   "cell_type": "code",
   "execution_count": null,
   "metadata": {},
   "outputs": [],
   "source": [
    "normalp.groupby('hour').mean()\n",
    "# The lowest average prices are from 9am to 4pm, which is when Solar is strongest."
   ]
  },
  {
   "cell_type": "code",
   "execution_count": null,
   "metadata": {},
   "outputs": [],
   "source": [
    "spikep.price.plot(kind='hist', bins=30)"
   ]
  },
  {
   "cell_type": "code",
   "execution_count": null,
   "metadata": {},
   "outputs": [],
   "source": [
    "normalp.price.plot(kind='hist', bins=30)  # No showfliers= False !!"
   ]
  },
  {
   "cell_type": "code",
   "execution_count": null,
   "metadata": {},
   "outputs": [],
   "source": [
    "negativep.price.plot(kind='hist', bins=30) # excludes two outliers below -50 and an additional two below -30"
   ]
  },
  {
   "cell_type": "markdown",
   "metadata": {},
   "source": [
    "WHAT IS THE QUESTION: NEED TO LIMIT HOURS TO PGE NIGHT RANGE AND COMPARE 24 INTERVALS VS 12! COMPARE PRICE DELTA"
   ]
  },
  {
   "cell_type": "code",
   "execution_count": null,
   "metadata": {},
   "outputs": [],
   "source": [
    "normalp.price.plot(kind='hist', bins=30, cumulative= True)\n",
    "# Two hours per day average for a Level One EV charger is 24 intervals x 30 days = 720: THRESHOLD must be increased!!!\n",
    "# Add a horizontal red line at 720 !!\n",
    "# Define a function that computes the average price (eg still below 2 cents?)"
   ]
  },
  {
   "cell_type": "code",
   "execution_count": null,
   "metadata": {},
   "outputs": [],
   "source": []
  },
  {
   "cell_type": "code",
   "execution_count": null,
   "metadata": {},
   "outputs": [],
   "source": []
  },
  {
   "cell_type": "code",
   "execution_count": null,
   "metadata": {},
   "outputs": [],
   "source": [
    "# this function returns PG&E's designation of Peak (P), Off-Peak (OP), or Standard (S) EV pricing according to the hour of day\n",
    "def peak(hour): \n",
    "    if hour in [24,1,2,3,4,5,6,7]:\n",
    "        return 'OP'\n",
    "    elif hour in [15,16,17,18,19,20,21,22]:\n",
    "        return 'P'\n",
    "    else:\n",
    "        return 'S'\n",
    "    \n",
    "    "
   ]
  },
  {
   "cell_type": "markdown",
   "metadata": {},
   "source": [
    "COMPREHENSIVE APPROACH TO PG&E PUBLISHED SCHEDULE\n",
    "if date is a public holiday (saved as a list for 2018) OR day is weekend (Saturday/Sunday) then Peak is 3-7pm (rest Off Peak)\n",
    "if day is a weekday (and not a holiday) then:\n",
    "Peak is 2-9pm (hours 14 to 21)...list(range(14,22)\n",
    "Partial Peak is 7am to 2pm and 9-11pm: hours 7-14 & 21-23: hour in list(range(7,15)) + list(range(21,24))\n",
    "Otherwise (ELSE) 'OP' which is Off-Peak"
   ]
  },
  {
   "cell_type": "code",
   "execution_count": null,
   "metadata": {},
   "outputs": [],
   "source": [
    "# need to enter dates as strings and make the dates datetime objects with  .to_datetime() method in pandas\n",
    "holidays = ['2018-01-01','2018-01-15','2018-02-19','2018-05-28','2018-07-04','2018-09-03','2018-12-25'] #list of public holidays\n",
    "holidays= pd.to_datetime(holidays) \n",
    "holidays # this works OK it seems so the Boolean should match"
   ]
  },
  {
   "cell_type": "code",
   "execution_count": null,
   "metadata": {},
   "outputs": [],
   "source": [
    "# indentation is likely a problem as I mixed tabs and spaces!! Paste this into Spyder to debug? NOT SO! now runs!\n",
    "# NB at 7am the 7th hour has just concluded, so 'PP' begins with the 8th hour\n",
    "def PGE(hour,day,weekday): # hour, day, and weekday are columns from the dfp dataframe above (types listed 3 cells below)\n",
    "    # need to enter dates as strings and make the dates datetime objects with  .to_datetime() method in pandas (works OK above)\n",
    "    holidays = ['2018-01-01','2018-01-15','2018-02-19','2018-05-28','2018-07-04','2018-09-03','2018-12-25']\n",
    "    holidays= pd.to_datetime(holidays)\n",
    "    # list of public holiday\n",
    "    weekend_peak= list(range(16,20)) # weekend peak is 3-7pm: noon begins hour 13, so 2pm is hour 15, 3pm is hour 16\n",
    "    weekday_peak= list(range(15,23)) # this corresponds to the weekdays Monday to Friday, first for 2-9pm, for hours 15 to 8\n",
    "    partial_peak= list(range(8,15)) + list(range(22,24))\n",
    "    off_peak= list(range(1,8)) + [24] \n",
    "    if (day in holidays)|(weekday in ['Saturday','Sunday']):\n",
    "      if hour in weekend_peak: \n",
    "        return 'P'\n",
    "      else:   \n",
    "        return 'OP'  \n",
    "    elif hour in weekday_peak: \n",
    "      return'P'   \n",
    "    elif hour in partial_peak: \n",
    "      return 'PP'  \n",
    "    elif hour in off_peak:\n",
    "      return 'OP'\n",
    "    else:\n",
    "      return 'problem!' \n",
    "      # we should never see this condition triggered unless there is a problem (hour 25 when clocks set back!)\n",
    "# as a sanity check the respective lists added together should equal list(range(1,25)) so we should test with this Boolean!!\n",
    "PGE(16,holidays[0],'Tuesday')"
   ]
  },
  {
   "cell_type": "code",
   "execution_count": null,
   "metadata": {},
   "outputs": [],
   "source": [
    "list(range(1,8)) + [24]"
   ]
  },
  {
   "cell_type": "code",
   "execution_count": null,
   "metadata": {},
   "outputs": [],
   "source": [
    "PGE(14, holidays[0], 'Monday')"
   ]
  },
  {
   "cell_type": "code",
   "execution_count": null,
   "metadata": {},
   "outputs": [],
   "source": [
    "combined= list(range(15,23)) + list(range(8,15)) + list(range(22,24)) + list(range(1,8)) + [24] \n",
    "sorted(combined) # == list(range(1,25)) #  False!!  PROBLEM (Hmm: they match but combined is NOT horizontal but vertical!!)"
   ]
  },
  {
   "cell_type": "code",
   "execution_count": null,
   "metadata": {},
   "outputs": [],
   "source": [
    "list(range(15,22)) + list(range(8,15)) + list(range(22,24)) + list(range(1,8)) + [24] #22"
   ]
  },
  {
   "cell_type": "code",
   "execution_count": null,
   "metadata": {},
   "outputs": [],
   "source": [
    "list(range(7,14)) + list(range(21,22)) # test for Partial Peak ('PP')                    "
   ]
  },
  {
   "cell_type": "code",
   "execution_count": null,
   "metadata": {},
   "outputs": [],
   "source": [
    "list(range(14,21)) # test for Peak ('PP')"
   ]
  },
  {
   "cell_type": "code",
   "execution_count": null,
   "metadata": {},
   "outputs": [],
   "source": [
    "dfp.info()"
   ]
  },
  {
   "cell_type": "code",
   "execution_count": null,
   "metadata": {},
   "outputs": [],
   "source": [
    "this function returns PG&E's designation of Peak (P), Off-Peak (OP), or Standard (S) EV pricing according to the hour of day\n",
    "#def peak(hour): \n",
    "    if hour in [list(range(1,8) + [24]]:\n",
    "       return 'OP'\n",
    "   elif hour in [list(range(15,23)]:\n",
    "        return 'P'\n",
    "    else:\n",
    "        return 'S'\n",
    "   \n",
    "# list comprehension version? see below"
   ]
  },
  {
   "cell_type": "code",
   "execution_count": null,
   "metadata": {},
   "outputs": [],
   "source": [
    "d= {'OP':list(range(1,8))+ [24], 'P':list(range(15,23)),'S':list(range(8,15)) + list(range(22,24))}\n",
    "def PGE(hour):\n",
    "    for key,value in d.items:\n",
    "        if hour in d.value  #FIX THIS\n",
    "            return d.key\n",
    "print(PGE(3))"
   ]
  },
  {
   "cell_type": "code",
   "execution_count": null,
   "metadata": {},
   "outputs": [],
   "source": [
    "peak(1)\n",
    "peak(16)"
   ]
  },
  {
   "cell_type": "code",
   "execution_count": null,
   "metadata": {},
   "outputs": [],
   "source": [
    "dfp['PGE']= dfp.hour.apply(peak)\n",
    "dfp.PGE.head()\n",
    "dfp.PGE.tail()"
   ]
  },
  {
   "cell_type": "code",
   "execution_count": null,
   "metadata": {},
   "outputs": [],
   "source": [
    "dfp.head()"
   ]
  },
  {
   "cell_type": "code",
   "execution_count": null,
   "metadata": {},
   "outputs": [],
   "source": [
    "gPGE= dfp.groupby(['day','PGE'])"
   ]
  },
  {
   "cell_type": "code",
   "execution_count": null,
   "metadata": {},
   "outputs": [],
   "source": [
    "daily_PGE= gPGE.price.mean() # this is hourly data!!\n",
    "daily_PGE.head(20)"
   ]
  },
  {
   "cell_type": "code",
   "execution_count": null,
   "metadata": {},
   "outputs": [],
   "source": [
    "dfPGE= daily_PGE.to_frame()\n",
    "dfPGE= dfPGE.sort_values(['day'])\n",
    "dfPGE.head()"
   ]
  },
  {
   "cell_type": "code",
   "execution_count": null,
   "metadata": {},
   "outputs": [],
   "source": [
    "dfPGE.tail() # "
   ]
  },
  {
   "cell_type": "code",
   "execution_count": null,
   "metadata": {},
   "outputs": [],
   "source": [
    "dfPGE= dfPGE.unstack('PGE')\n",
    "dfPGE.head()"
   ]
  },
  {
   "cell_type": "code",
   "execution_count": null,
   "metadata": {},
   "outputs": [],
   "source": [
    "FebPGE = dfPGE.loc['2018-02-01':'2018-02-28'].plot()# so a peak of $140/MWh is 14 cents\n",
    "FebPGE.plot()"
   ]
  },
  {
   "cell_type": "code",
   "execution_count": null,
   "metadata": {},
   "outputs": [],
   "source": [
    "MarPGE = dfPGE.loc['2018-03-01':'2018-03-31'] # so a peak of $140/MWh is 14 cents\n",
    "MarPGE.plot()"
   ]
  },
  {
   "cell_type": "code",
   "execution_count": null,
   "metadata": {},
   "outputs": [],
   "source": [
    "AprPGE= dfPGE.loc['2018-04-01':'2018-04-30'] # so a peak of $140/MWh is 14 cents\n",
    "AprPGE.plot()"
   ]
  },
  {
   "cell_type": "code",
   "execution_count": null,
   "metadata": {},
   "outputs": [],
   "source": []
  },
  {
   "cell_type": "code",
   "execution_count": null,
   "metadata": {},
   "outputs": [],
   "source": [
    "dfPGE.plot() \n",
    "# THIS IS A CRITICAL PLOT TO BE REPEATED MONTHLY USING A PANEL APPROACH (can use df.loc() or extract 'month' as a variable)\n",
    "# Surprises: the highest spikes are not Peak but Standard, \n",
    "# peak is evening from 2pm to 8pm!\n",
    "# Peak seems to have recurring spikes perhaps related to the day of the week?\n",
    "# on many days the standard price is below the off-peak price Can calculate frequency with a Boolean!\n",
    "# Standard is from 8 until 2pm so prices are lowered by midday solar"
   ]
  },
  {
   "cell_type": "code",
   "execution_count": null,
   "metadata": {},
   "outputs": [],
   "source": [
    "dfPGE.info()"
   ]
  },
  {
   "cell_type": "code",
   "execution_count": null,
   "metadata": {},
   "outputs": [],
   "source": [
    "dfPGE.columns= ['OP','P','S']\n",
    "dfPGE.head(3)\n",
    "dfPGE.tail()"
   ]
  },
  {
   "cell_type": "code",
   "execution_count": null,
   "metadata": {},
   "outputs": [],
   "source": []
  },
  {
   "cell_type": "code",
   "execution_count": null,
   "metadata": {},
   "outputs": [],
   "source": []
  },
  {
   "cell_type": "code",
   "execution_count": null,
   "metadata": {},
   "outputs": [],
   "source": [
    "# BIG QUESTION: EACH DAY FIND THE HIGHEST 100 PRICES AND THEN THE LOWEST 100 PRICES VIA SORT. \n",
    "# THEN SUBTRACT THE LOWEST FROM THE HIGHEST, AND SEE IF > $0.25. KEEP GOING UNTIL THIS THRESHOLD IS HIT! \n",
    "# SO CHARGE AT WORK FROM 9 TO 10AM AND USE AT HOME TO RUN AC IN PEAK HOURS!!!"
   ]
  },
  {
   "cell_type": "code",
   "execution_count": null,
   "metadata": {},
   "outputs": [],
   "source": [
    "# We need suppose 2 hours on average daily, 24 intervals/day, 720/month. Find for cumulative of 720 the cut-off price\n",
    "# Then calculate the average price (of course less than cutoff): compute for 720 vs 360, and annnualise cost benefit\n",
    "# this is the economic value of the Level 2 Charger versus the Level 1."
   ]
  },
  {
   "cell_type": "code",
   "execution_count": null,
   "metadata": {},
   "outputs": [],
   "source": [
    "# downsample the 5-minute prices to hourly and match up with hourly wind and solar data (Dhavide Course One)"
   ]
  },
  {
   "cell_type": "code",
   "execution_count": null,
   "metadata": {},
   "outputs": [],
   "source": []
  },
  {
   "cell_type": "code",
   "execution_count": null,
   "metadata": {},
   "outputs": [],
   "source": []
  }
 ],
 "metadata": {
  "kernelspec": {
   "display_name": "Python 3",
   "language": "python",
   "name": "python3"
  },
  "language_info": {
   "codemirror_mode": {
    "name": "ipython",
    "version": 3
   },
   "file_extension": ".py",
   "mimetype": "text/x-python",
   "name": "python",
   "nbconvert_exporter": "python",
   "pygments_lexer": "ipython3",
   "version": "3.7.1"
  }
 },
 "nbformat": 4,
 "nbformat_minor": 2
}
